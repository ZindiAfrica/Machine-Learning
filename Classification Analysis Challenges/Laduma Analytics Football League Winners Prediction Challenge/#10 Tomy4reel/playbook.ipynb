{
  "cells": [
    {
      "cell_type": "markdown",
      "id": "2f77348c",
      "metadata": {
        "id": "2f77348c",
        "papermill": {
          "duration": 0.016552,
          "end_time": "2022-09-04T19:59:01.409085",
          "exception": false,
          "start_time": "2022-09-04T19:59:01.392533",
          "status": "completed"
        },
        "tags": []
      },
      "source": [
        "## **Import Libraries**"
      ]
    },
    {
      "cell_type": "code",
      "execution_count": 1,
      "id": "c72a0943",
      "metadata": {
        "execution": {
          "iopub.execute_input": "2022-09-04T19:59:01.442159Z",
          "iopub.status.busy": "2022-09-04T19:59:01.441464Z",
          "iopub.status.idle": "2022-09-04T19:59:31.162271Z",
          "shell.execute_reply": "2022-09-04T19:59:31.161252Z"
        },
        "id": "c72a0943",
        "outputId": "b653e317-dd45-4238-8d70-ef8cd5b08f26",
        "papermill": {
          "duration": 29.741002,
          "end_time": "2022-09-04T19:59:31.165632",
          "exception": false,
          "start_time": "2022-09-04T19:59:01.424630",
          "status": "completed"
        },
        "tags": [],
        "colab": {
          "base_uri": "https://localhost:8080/"
        }
      },
      "outputs": [
        {
          "output_type": "stream",
          "name": "stdout",
          "text": [
            "Looking in indexes: https://pypi.org/simple, https://us-python.pkg.dev/colab-wheels/public/simple/\n",
            "Collecting catboost\n",
            "  Downloading catboost-1.0.6-cp37-none-manylinux1_x86_64.whl (76.6 MB)\n",
            "\u001b[K     |████████████████████████████████| 76.6 MB 1.4 MB/s \n",
            "\u001b[?25hRequirement already satisfied: matplotlib in /usr/local/lib/python3.7/dist-packages (from catboost) (3.2.2)\n",
            "Requirement already satisfied: pandas>=0.24.0 in /usr/local/lib/python3.7/dist-packages (from catboost) (1.3.5)\n",
            "Requirement already satisfied: numpy>=1.16.0 in /usr/local/lib/python3.7/dist-packages (from catboost) (1.21.6)\n",
            "Requirement already satisfied: graphviz in /usr/local/lib/python3.7/dist-packages (from catboost) (0.10.1)\n",
            "Requirement already satisfied: plotly in /usr/local/lib/python3.7/dist-packages (from catboost) (5.5.0)\n",
            "Requirement already satisfied: scipy in /usr/local/lib/python3.7/dist-packages (from catboost) (1.7.3)\n",
            "Requirement already satisfied: six in /usr/local/lib/python3.7/dist-packages (from catboost) (1.15.0)\n",
            "Requirement already satisfied: python-dateutil>=2.7.3 in /usr/local/lib/python3.7/dist-packages (from pandas>=0.24.0->catboost) (2.8.2)\n",
            "Requirement already satisfied: pytz>=2017.3 in /usr/local/lib/python3.7/dist-packages (from pandas>=0.24.0->catboost) (2022.2.1)\n",
            "Requirement already satisfied: kiwisolver>=1.0.1 in /usr/local/lib/python3.7/dist-packages (from matplotlib->catboost) (1.4.4)\n",
            "Requirement already satisfied: pyparsing!=2.0.4,!=2.1.2,!=2.1.6,>=2.0.1 in /usr/local/lib/python3.7/dist-packages (from matplotlib->catboost) (3.0.9)\n",
            "Requirement already satisfied: cycler>=0.10 in /usr/local/lib/python3.7/dist-packages (from matplotlib->catboost) (0.11.0)\n",
            "Requirement already satisfied: typing-extensions in /usr/local/lib/python3.7/dist-packages (from kiwisolver>=1.0.1->matplotlib->catboost) (4.1.1)\n",
            "Requirement already satisfied: tenacity>=6.2.0 in /usr/local/lib/python3.7/dist-packages (from plotly->catboost) (8.0.1)\n",
            "Installing collected packages: catboost\n",
            "Successfully installed catboost-1.0.6\n"
          ]
        }
      ],
      "source": [
        "import numpy as np\n",
        "import requests\n",
        "import pandas as pd\n",
        "from io import StringIO\n",
        "import warnings\n",
        "warnings.filterwarnings('ignore')\n",
        "import random\n",
        "random.seed(6)\n",
        "!pip install catboost\n",
        "import catboost \n",
        "from catboost import CatBoostClassifier\n",
        "from sklearn.preprocessing import LabelEncoder, RobustScaler\n",
        "from sklearn.model_selection import KFold,GroupKFold, RepeatedKFold, GridSearchCV, cross_validate, train_test_split\n",
        "from sklearn.metrics import confusion_matrix, precision_score, accuracy_score, recall_score, roc_auc_score, log_loss\n",
        "from numpy import mean, std\n",
        "from sklearn.model_selection import KFold\n",
        "from sklearn.model_selection import cross_val_score\n",
        "pd.set_option('display.max_colwidth', 250)\n",
        "pd.set_option('display.max_columns', 500)\n",
        "pd.options.mode.chained_assignment = None \n",
        "from sklearn.utils import shuffle"
      ]
    },
    {
      "cell_type": "markdown",
      "source": [
        "# Import Data"
      ],
      "metadata": {
        "id": "MqJbn0J63aPW"
      },
      "id": "MqJbn0J63aPW"
    },
    {
      "cell_type": "code",
      "execution_count": 2,
      "id": "04d91329",
      "metadata": {
        "execution": {
          "iopub.execute_input": "2022-09-04T19:59:31.258417Z",
          "iopub.status.busy": "2022-09-04T19:59:31.258044Z",
          "iopub.status.idle": "2022-09-04T19:59:31.330710Z",
          "shell.execute_reply": "2022-09-04T19:59:31.329643Z"
        },
        "papermill": {
          "duration": 0.09868,
          "end_time": "2022-09-04T19:59:31.333193",
          "exception": false,
          "start_time": "2022-09-04T19:59:31.234513",
          "status": "completed"
        },
        "tags": [],
        "colab": {
          "base_uri": "https://localhost:8080/"
        },
        "id": "04d91329",
        "outputId": "5e1af1f0-093b-4b2a-d8d7-b56c3766ab44"
      },
      "outputs": [
        {
          "output_type": "stream",
          "name": "stdout",
          "text": [
            "Mounted at /content/drive\n"
          ]
        }
      ],
      "source": [
        "from google.colab import drive\n",
        "drive.mount('/content/drive')\n",
        "ss = pd.read_csv('/content/drive/My Drive/LADUMA/SampleSubmission.csv')\n",
        "tdf = pd.read_csv('/content/drive/My Drive/LADUMA/Test.csv')\n",
        "df = pd.read_csv('/content/drive/My Drive/LADUMA/Train.csv')"
      ]
    },
    {
      "cell_type": "code",
      "execution_count": 3,
      "id": "934e3448",
      "metadata": {
        "execution": {
          "iopub.execute_input": "2022-09-04T19:59:31.380746Z",
          "iopub.status.busy": "2022-09-04T19:59:31.380416Z",
          "iopub.status.idle": "2022-09-04T19:59:31.385214Z",
          "shell.execute_reply": "2022-09-04T19:59:31.384317Z"
        },
        "id": "934e3448",
        "papermill": {
          "duration": 0.030526,
          "end_time": "2022-09-04T19:59:31.386965",
          "exception": false,
          "start_time": "2022-09-04T19:59:31.356439",
          "status": "completed"
        },
        "tags": []
      },
      "outputs": [],
      "source": [
        "col=['Game_ID', 'Player_ID', 'id', 'X', 'Y', 'Team', 'Half', 'Manager',\n",
        "       'Opposition_Team', 'Shots', 'SoT', 'Accurate passes',\n",
        "       'Inaccurate passes', 'Passes', 'Start_minutes', 'End_minutes',\n",
        "       'next_player', 'next_x', 'next_y', 'event_id', 'next_team',\n",
        "       'next_event_id', 'xt_value']"
      ]
    },
    {
      "cell_type": "code",
      "execution_count": 4,
      "id": "dfeb7c48",
      "metadata": {
        "execution": {
          "iopub.execute_input": "2022-09-04T19:59:31.434487Z",
          "iopub.status.busy": "2022-09-04T19:59:31.434128Z",
          "iopub.status.idle": "2022-09-04T19:59:36.793845Z",
          "shell.execute_reply": "2022-09-04T19:59:36.792623Z"
        },
        "id": "dfeb7c48",
        "papermill": {
          "duration": 5.385798,
          "end_time": "2022-09-04T19:59:36.795952",
          "exception": false,
          "start_time": "2022-09-04T19:59:31.410154",
          "status": "completed"
        },
        "tags": []
      },
      "outputs": [],
      "source": [
        "stat1 = pd.read_csv('/content/drive/My Drive/LADUMA/train_game_statistics.csv')"
      ]
    },
    {
      "cell_type": "code",
      "execution_count": 5,
      "id": "7daa69e7",
      "metadata": {
        "execution": {
          "iopub.execute_input": "2022-09-04T19:59:37.227709Z",
          "iopub.status.busy": "2022-09-04T19:59:37.226698Z",
          "iopub.status.idle": "2022-09-04T19:59:39.627501Z",
          "shell.execute_reply": "2022-09-04T19:59:39.626614Z"
        },
        "id": "7daa69e7",
        "papermill": {
          "duration": 2.427861,
          "end_time": "2022-09-04T19:59:39.629573",
          "exception": false,
          "start_time": "2022-09-04T19:59:37.201712",
          "status": "completed"
        },
        "tags": []
      },
      "outputs": [],
      "source": [
        "stat2 = pd.read_csv('/content/drive/My Drive/LADUMA/test_game_statistics.csv')"
      ]
    },
    {
      "cell_type": "code",
      "execution_count": 6,
      "id": "06a10707",
      "metadata": {
        "execution": {
          "iopub.execute_input": "2022-09-04T19:59:39.679680Z",
          "iopub.status.busy": "2022-09-04T19:59:39.678717Z",
          "iopub.status.idle": "2022-09-04T19:59:42.222372Z",
          "shell.execute_reply": "2022-09-04T19:59:42.221283Z"
        },
        "id": "06a10707",
        "papermill": {
          "duration": 2.570524,
          "end_time": "2022-09-04T19:59:42.224321",
          "exception": false,
          "start_time": "2022-09-04T19:59:39.653797",
          "status": "completed"
        },
        "tags": []
      },
      "outputs": [],
      "source": [
        "stats=stat1[col].append(stat2[col])\n",
        "stats=stats.drop_duplicates(['Game_ID','Player_ID','id'])"
      ]
    },
    {
      "cell_type": "markdown",
      "id": "c835ff77",
      "metadata": {
        "id": "c835ff77",
        "papermill": {
          "duration": 0.023714,
          "end_time": "2022-09-04T19:59:42.272407",
          "exception": false,
          "start_time": "2022-09-04T19:59:42.248693",
          "status": "completed"
        },
        "tags": []
      },
      "source": [
        "**Feature Engineering**"
      ]
    },
    {
      "cell_type": "code",
      "execution_count": 7,
      "id": "0593cb8b",
      "metadata": {
        "execution": {
          "iopub.execute_input": "2022-09-04T19:59:42.321462Z",
          "iopub.status.busy": "2022-09-04T19:59:42.321129Z",
          "iopub.status.idle": "2022-09-04T19:59:42.483339Z",
          "shell.execute_reply": "2022-09-04T19:59:42.482477Z"
        },
        "id": "0593cb8b",
        "outputId": "7ca507b7-5bfe-4288-a83a-103846a0b398",
        "papermill": {
          "duration": 0.189877,
          "end_time": "2022-09-04T19:59:42.485899",
          "exception": false,
          "start_time": "2022-09-04T19:59:42.296022",
          "status": "completed"
        },
        "tags": [],
        "colab": {
          "base_uri": "https://localhost:8080/"
        }
      },
      "outputs": [
        {
          "output_type": "stream",
          "name": "stdout",
          "text": [
            "22\n"
          ]
        },
        {
          "output_type": "execute_result",
          "data": {
            "text/plain": [
              "['Circinus',\n",
              " 'Backward',\n",
              " 'Sunflower',\n",
              " 'Coma Pinwheel',\n",
              " 'Eye of Sauron',\n",
              " 'Butterfly',\n",
              " 'Sombrero',\n",
              " 'Cosmos Redshift 7',\n",
              " 'Cigar',\n",
              " 'Cartwheel',\n",
              " 'Fireworks',\n",
              " 'Milky Way',\n",
              " 'Sculptor',\n",
              " 'Triangulum',\n",
              " 'Andromeda',\n",
              " 'Antennae',\n",
              " 'Medusa Merger',\n",
              " 'Comet',\n",
              " 'Tadpole',\n",
              " 'Whirlpool',\n",
              " 'Malin 1',\n",
              " 'Needle']"
            ]
          },
          "metadata": {},
          "execution_count": 7
        }
      ],
      "source": [
        "teams=list(stats['Team'].unique())\n",
        "print(len(teams))\n",
        "teams"
      ]
    },
    {
      "cell_type": "code",
      "execution_count": 8,
      "id": "654d63ee",
      "metadata": {
        "execution": {
          "iopub.execute_input": "2022-09-04T19:59:42.536108Z",
          "iopub.status.busy": "2022-09-04T19:59:42.535346Z",
          "iopub.status.idle": "2022-09-04T19:59:42.542515Z",
          "shell.execute_reply": "2022-09-04T19:59:42.541901Z"
        },
        "id": "654d63ee",
        "outputId": "6da5fe91-5591-4559-bfa7-b54be8fe4683",
        "papermill": {
          "duration": 0.03376,
          "end_time": "2022-09-04T19:59:42.544058",
          "exception": false,
          "start_time": "2022-09-04T19:59:42.510298",
          "status": "completed"
        },
        "tags": [],
        "colab": {
          "base_uri": "https://localhost:8080/"
        }
      },
      "outputs": [
        {
          "output_type": "execute_result",
          "data": {
            "text/plain": [
              "LabelEncoder()"
            ]
          },
          "metadata": {},
          "execution_count": 8
        }
      ],
      "source": [
        "teamEncoder = LabelEncoder()\n",
        "teamEncoder.fit(teams)"
      ]
    },
    {
      "cell_type": "code",
      "execution_count": 9,
      "id": "900662e2",
      "metadata": {
        "execution": {
          "iopub.execute_input": "2022-09-04T19:59:42.594739Z",
          "iopub.status.busy": "2022-09-04T19:59:42.594144Z",
          "iopub.status.idle": "2022-09-04T19:59:43.297542Z",
          "shell.execute_reply": "2022-09-04T19:59:43.296283Z"
        },
        "id": "900662e2",
        "papermill": {
          "duration": 0.731503,
          "end_time": "2022-09-04T19:59:43.299827",
          "exception": false,
          "start_time": "2022-09-04T19:59:42.568324",
          "status": "completed"
        },
        "tags": []
      },
      "outputs": [],
      "source": [
        "stats['Team'] = teamEncoder.transform(stats['Team']).astype('int')\n"
      ]
    },
    {
      "cell_type": "code",
      "execution_count": 10,
      "id": "cd222d59",
      "metadata": {
        "execution": {
          "iopub.execute_input": "2022-09-04T19:59:43.350174Z",
          "iopub.status.busy": "2022-09-04T19:59:43.349824Z",
          "iopub.status.idle": "2022-09-04T19:59:44.628845Z",
          "shell.execute_reply": "2022-09-04T19:59:44.627882Z"
        },
        "id": "cd222d59",
        "outputId": "d1978782-fae0-45f2-d73f-8eb8222e8e92",
        "papermill": {
          "duration": 1.306164,
          "end_time": "2022-09-04T19:59:44.630664",
          "exception": false,
          "start_time": "2022-09-04T19:59:43.324500",
          "status": "completed"
        },
        "tags": [],
        "colab": {
          "base_uri": "https://localhost:8080/",
          "height": 678
        }
      },
      "outputs": [
        {
          "output_type": "execute_result",
          "data": {
            "text/plain": [
              "            Game_ID        Player_ID      id     X     Y  Team      Half  \\\n",
              "0       ID_ZZKYYPVY  Player_O7HO1NOB     1.0  52.5  34.0     6  1st half   \n",
              "1       ID_ZZKYYPVY  Player_O7HO1NOB     2.0  52.5  34.0     6  1st half   \n",
              "2       ID_ZZKYYPVY  Player_J0V7B0YE     3.0  37.0  32.7     6  1st half   \n",
              "3       ID_ZZKYYPVY  Player_J0V7B0YE     4.0  39.5  33.0     6  1st half   \n",
              "4       ID_ZZKYYPVY  Player_J0V7B0YE     5.0  39.5  33.0     6  1st half   \n",
              "...             ...              ...     ...   ...   ...   ...       ...   \n",
              "802093  ID_03VRW8WV  Player_Y6ZZ2X44  3661.0  42.1  57.4     1  2nd half   \n",
              "802094  ID_03VRW8WV  Player_Y6ZZ2X44  3662.0  42.1  57.4     1  2nd half   \n",
              "802095  ID_03VRW8WV  Player_6DVBNW9L  3663.0   7.5  19.6     8  2nd half   \n",
              "802096  ID_03VRW8WV  Player_6DVBNW9L  3664.0   7.5  19.6     8  2nd half   \n",
              "802097  ID_03VRW8WV  Player_77KCLG39  3665.0  23.0   0.0     8  2nd half   \n",
              "\n",
              "        Manager Opposition_Team  Shots  SoT  Accurate passes  \\\n",
              "0          52.0        Backward    0.0  0.0              1.0   \n",
              "1          52.0        Backward    0.0  0.0              0.0   \n",
              "2          52.0        Backward    0.0  0.0              0.0   \n",
              "3          52.0        Backward    0.0  0.0              0.0   \n",
              "4          52.0        Backward    0.0  0.0              0.0   \n",
              "...         ...             ...    ...  ...              ...   \n",
              "802093     23.0           Comet    0.0  0.0              0.0   \n",
              "802094     23.0           Comet    0.0  0.0              0.0   \n",
              "802095     26.0        Antennae    0.0  0.0              0.0   \n",
              "802096     26.0        Antennae    0.0  0.0              0.0   \n",
              "802097     26.0        Antennae    0.0  0.0              1.0   \n",
              "\n",
              "        Inaccurate passes  Passes  Start_minutes  End_minutes  \\\n",
              "0                     0.0     1.0           0.03         0.37   \n",
              "1                     0.0     0.0           0.03         0.37   \n",
              "2                     0.0     0.0           0.05         0.38   \n",
              "3                     0.0     0.0           0.07         0.40   \n",
              "4                     1.0     1.0           0.07         0.40   \n",
              "...                   ...     ...            ...          ...   \n",
              "802093                0.0     0.0          96.33        96.67   \n",
              "802094                0.0     0.0          96.33        96.67   \n",
              "802095                0.0     0.0          96.42        96.75   \n",
              "802096                0.0     0.0          96.42        96.75   \n",
              "802097                0.0     1.0          96.62        96.95   \n",
              "\n",
              "            next_player  next_x  next_y  event_id next_team  next_event_id  \\\n",
              "0                   NaN     NaN     NaN       NaN       NaN            NaN   \n",
              "1                   NaN     NaN     NaN       NaN       NaN            NaN   \n",
              "2                   NaN     NaN     NaN       NaN       NaN            NaN   \n",
              "3                   NaN     NaN     NaN       NaN       NaN            NaN   \n",
              "4                   NaN     NaN     NaN       NaN       NaN            NaN   \n",
              "...                 ...     ...     ...       ...       ...            ...   \n",
              "802093  Player_Y6ZZ2X44    42.1    57.4    2041.0  Antennae         2041.0   \n",
              "802094  Player_Y6ZZ2X44    42.1    57.4    2041.0  Antennae         2041.0   \n",
              "802095  Player_6DVBNW9L     7.5    19.6    2042.0     Comet         2042.0   \n",
              "802096  Player_77KCLG39    23.0     0.0    2042.0     Comet         2043.0   \n",
              "802097              NaN     NaN     NaN    2043.0       NaN            NaN   \n",
              "\n",
              "        xt_value  no_of_managers  no_of_teams  \n",
              "0            NaN               9          3.0  \n",
              "1            NaN               9          3.0  \n",
              "2            NaN               9          3.0  \n",
              "3            NaN               9          3.0  \n",
              "4            NaN               9          3.0  \n",
              "...          ...             ...          ...  \n",
              "802093       0.0               6          2.0  \n",
              "802094       0.0               6          2.0  \n",
              "802095       0.0               3          2.0  \n",
              "802096       0.0               3          2.0  \n",
              "802097       0.0               3          2.0  \n",
              "\n",
              "[2423108 rows x 25 columns]"
            ],
            "text/html": [
              "\n",
              "  <div id=\"df-4492f0a0-d7de-4c90-ae2d-15cca90bb67f\">\n",
              "    <div class=\"colab-df-container\">\n",
              "      <div>\n",
              "<style scoped>\n",
              "    .dataframe tbody tr th:only-of-type {\n",
              "        vertical-align: middle;\n",
              "    }\n",
              "\n",
              "    .dataframe tbody tr th {\n",
              "        vertical-align: top;\n",
              "    }\n",
              "\n",
              "    .dataframe thead th {\n",
              "        text-align: right;\n",
              "    }\n",
              "</style>\n",
              "<table border=\"1\" class=\"dataframe\">\n",
              "  <thead>\n",
              "    <tr style=\"text-align: right;\">\n",
              "      <th></th>\n",
              "      <th>Game_ID</th>\n",
              "      <th>Player_ID</th>\n",
              "      <th>id</th>\n",
              "      <th>X</th>\n",
              "      <th>Y</th>\n",
              "      <th>Team</th>\n",
              "      <th>Half</th>\n",
              "      <th>Manager</th>\n",
              "      <th>Opposition_Team</th>\n",
              "      <th>Shots</th>\n",
              "      <th>SoT</th>\n",
              "      <th>Accurate passes</th>\n",
              "      <th>Inaccurate passes</th>\n",
              "      <th>Passes</th>\n",
              "      <th>Start_minutes</th>\n",
              "      <th>End_minutes</th>\n",
              "      <th>next_player</th>\n",
              "      <th>next_x</th>\n",
              "      <th>next_y</th>\n",
              "      <th>event_id</th>\n",
              "      <th>next_team</th>\n",
              "      <th>next_event_id</th>\n",
              "      <th>xt_value</th>\n",
              "      <th>no_of_managers</th>\n",
              "      <th>no_of_teams</th>\n",
              "    </tr>\n",
              "  </thead>\n",
              "  <tbody>\n",
              "    <tr>\n",
              "      <th>0</th>\n",
              "      <td>ID_ZZKYYPVY</td>\n",
              "      <td>Player_O7HO1NOB</td>\n",
              "      <td>1.0</td>\n",
              "      <td>52.5</td>\n",
              "      <td>34.0</td>\n",
              "      <td>6</td>\n",
              "      <td>1st half</td>\n",
              "      <td>52.0</td>\n",
              "      <td>Backward</td>\n",
              "      <td>0.0</td>\n",
              "      <td>0.0</td>\n",
              "      <td>1.0</td>\n",
              "      <td>0.0</td>\n",
              "      <td>1.0</td>\n",
              "      <td>0.03</td>\n",
              "      <td>0.37</td>\n",
              "      <td>NaN</td>\n",
              "      <td>NaN</td>\n",
              "      <td>NaN</td>\n",
              "      <td>NaN</td>\n",
              "      <td>NaN</td>\n",
              "      <td>NaN</td>\n",
              "      <td>NaN</td>\n",
              "      <td>9</td>\n",
              "      <td>3.0</td>\n",
              "    </tr>\n",
              "    <tr>\n",
              "      <th>1</th>\n",
              "      <td>ID_ZZKYYPVY</td>\n",
              "      <td>Player_O7HO1NOB</td>\n",
              "      <td>2.0</td>\n",
              "      <td>52.5</td>\n",
              "      <td>34.0</td>\n",
              "      <td>6</td>\n",
              "      <td>1st half</td>\n",
              "      <td>52.0</td>\n",
              "      <td>Backward</td>\n",
              "      <td>0.0</td>\n",
              "      <td>0.0</td>\n",
              "      <td>0.0</td>\n",
              "      <td>0.0</td>\n",
              "      <td>0.0</td>\n",
              "      <td>0.03</td>\n",
              "      <td>0.37</td>\n",
              "      <td>NaN</td>\n",
              "      <td>NaN</td>\n",
              "      <td>NaN</td>\n",
              "      <td>NaN</td>\n",
              "      <td>NaN</td>\n",
              "      <td>NaN</td>\n",
              "      <td>NaN</td>\n",
              "      <td>9</td>\n",
              "      <td>3.0</td>\n",
              "    </tr>\n",
              "    <tr>\n",
              "      <th>2</th>\n",
              "      <td>ID_ZZKYYPVY</td>\n",
              "      <td>Player_J0V7B0YE</td>\n",
              "      <td>3.0</td>\n",
              "      <td>37.0</td>\n",
              "      <td>32.7</td>\n",
              "      <td>6</td>\n",
              "      <td>1st half</td>\n",
              "      <td>52.0</td>\n",
              "      <td>Backward</td>\n",
              "      <td>0.0</td>\n",
              "      <td>0.0</td>\n",
              "      <td>0.0</td>\n",
              "      <td>0.0</td>\n",
              "      <td>0.0</td>\n",
              "      <td>0.05</td>\n",
              "      <td>0.38</td>\n",
              "      <td>NaN</td>\n",
              "      <td>NaN</td>\n",
              "      <td>NaN</td>\n",
              "      <td>NaN</td>\n",
              "      <td>NaN</td>\n",
              "      <td>NaN</td>\n",
              "      <td>NaN</td>\n",
              "      <td>9</td>\n",
              "      <td>3.0</td>\n",
              "    </tr>\n",
              "    <tr>\n",
              "      <th>3</th>\n",
              "      <td>ID_ZZKYYPVY</td>\n",
              "      <td>Player_J0V7B0YE</td>\n",
              "      <td>4.0</td>\n",
              "      <td>39.5</td>\n",
              "      <td>33.0</td>\n",
              "      <td>6</td>\n",
              "      <td>1st half</td>\n",
              "      <td>52.0</td>\n",
              "      <td>Backward</td>\n",
              "      <td>0.0</td>\n",
              "      <td>0.0</td>\n",
              "      <td>0.0</td>\n",
              "      <td>0.0</td>\n",
              "      <td>0.0</td>\n",
              "      <td>0.07</td>\n",
              "      <td>0.40</td>\n",
              "      <td>NaN</td>\n",
              "      <td>NaN</td>\n",
              "      <td>NaN</td>\n",
              "      <td>NaN</td>\n",
              "      <td>NaN</td>\n",
              "      <td>NaN</td>\n",
              "      <td>NaN</td>\n",
              "      <td>9</td>\n",
              "      <td>3.0</td>\n",
              "    </tr>\n",
              "    <tr>\n",
              "      <th>4</th>\n",
              "      <td>ID_ZZKYYPVY</td>\n",
              "      <td>Player_J0V7B0YE</td>\n",
              "      <td>5.0</td>\n",
              "      <td>39.5</td>\n",
              "      <td>33.0</td>\n",
              "      <td>6</td>\n",
              "      <td>1st half</td>\n",
              "      <td>52.0</td>\n",
              "      <td>Backward</td>\n",
              "      <td>0.0</td>\n",
              "      <td>0.0</td>\n",
              "      <td>0.0</td>\n",
              "      <td>1.0</td>\n",
              "      <td>1.0</td>\n",
              "      <td>0.07</td>\n",
              "      <td>0.40</td>\n",
              "      <td>NaN</td>\n",
              "      <td>NaN</td>\n",
              "      <td>NaN</td>\n",
              "      <td>NaN</td>\n",
              "      <td>NaN</td>\n",
              "      <td>NaN</td>\n",
              "      <td>NaN</td>\n",
              "      <td>9</td>\n",
              "      <td>3.0</td>\n",
              "    </tr>\n",
              "    <tr>\n",
              "      <th>...</th>\n",
              "      <td>...</td>\n",
              "      <td>...</td>\n",
              "      <td>...</td>\n",
              "      <td>...</td>\n",
              "      <td>...</td>\n",
              "      <td>...</td>\n",
              "      <td>...</td>\n",
              "      <td>...</td>\n",
              "      <td>...</td>\n",
              "      <td>...</td>\n",
              "      <td>...</td>\n",
              "      <td>...</td>\n",
              "      <td>...</td>\n",
              "      <td>...</td>\n",
              "      <td>...</td>\n",
              "      <td>...</td>\n",
              "      <td>...</td>\n",
              "      <td>...</td>\n",
              "      <td>...</td>\n",
              "      <td>...</td>\n",
              "      <td>...</td>\n",
              "      <td>...</td>\n",
              "      <td>...</td>\n",
              "      <td>...</td>\n",
              "      <td>...</td>\n",
              "    </tr>\n",
              "    <tr>\n",
              "      <th>802093</th>\n",
              "      <td>ID_03VRW8WV</td>\n",
              "      <td>Player_Y6ZZ2X44</td>\n",
              "      <td>3661.0</td>\n",
              "      <td>42.1</td>\n",
              "      <td>57.4</td>\n",
              "      <td>1</td>\n",
              "      <td>2nd half</td>\n",
              "      <td>23.0</td>\n",
              "      <td>Comet</td>\n",
              "      <td>0.0</td>\n",
              "      <td>0.0</td>\n",
              "      <td>0.0</td>\n",
              "      <td>0.0</td>\n",
              "      <td>0.0</td>\n",
              "      <td>96.33</td>\n",
              "      <td>96.67</td>\n",
              "      <td>Player_Y6ZZ2X44</td>\n",
              "      <td>42.1</td>\n",
              "      <td>57.4</td>\n",
              "      <td>2041.0</td>\n",
              "      <td>Antennae</td>\n",
              "      <td>2041.0</td>\n",
              "      <td>0.0</td>\n",
              "      <td>6</td>\n",
              "      <td>2.0</td>\n",
              "    </tr>\n",
              "    <tr>\n",
              "      <th>802094</th>\n",
              "      <td>ID_03VRW8WV</td>\n",
              "      <td>Player_Y6ZZ2X44</td>\n",
              "      <td>3662.0</td>\n",
              "      <td>42.1</td>\n",
              "      <td>57.4</td>\n",
              "      <td>1</td>\n",
              "      <td>2nd half</td>\n",
              "      <td>23.0</td>\n",
              "      <td>Comet</td>\n",
              "      <td>0.0</td>\n",
              "      <td>0.0</td>\n",
              "      <td>0.0</td>\n",
              "      <td>0.0</td>\n",
              "      <td>0.0</td>\n",
              "      <td>96.33</td>\n",
              "      <td>96.67</td>\n",
              "      <td>Player_Y6ZZ2X44</td>\n",
              "      <td>42.1</td>\n",
              "      <td>57.4</td>\n",
              "      <td>2041.0</td>\n",
              "      <td>Antennae</td>\n",
              "      <td>2041.0</td>\n",
              "      <td>0.0</td>\n",
              "      <td>6</td>\n",
              "      <td>2.0</td>\n",
              "    </tr>\n",
              "    <tr>\n",
              "      <th>802095</th>\n",
              "      <td>ID_03VRW8WV</td>\n",
              "      <td>Player_6DVBNW9L</td>\n",
              "      <td>3663.0</td>\n",
              "      <td>7.5</td>\n",
              "      <td>19.6</td>\n",
              "      <td>8</td>\n",
              "      <td>2nd half</td>\n",
              "      <td>26.0</td>\n",
              "      <td>Antennae</td>\n",
              "      <td>0.0</td>\n",
              "      <td>0.0</td>\n",
              "      <td>0.0</td>\n",
              "      <td>0.0</td>\n",
              "      <td>0.0</td>\n",
              "      <td>96.42</td>\n",
              "      <td>96.75</td>\n",
              "      <td>Player_6DVBNW9L</td>\n",
              "      <td>7.5</td>\n",
              "      <td>19.6</td>\n",
              "      <td>2042.0</td>\n",
              "      <td>Comet</td>\n",
              "      <td>2042.0</td>\n",
              "      <td>0.0</td>\n",
              "      <td>3</td>\n",
              "      <td>2.0</td>\n",
              "    </tr>\n",
              "    <tr>\n",
              "      <th>802096</th>\n",
              "      <td>ID_03VRW8WV</td>\n",
              "      <td>Player_6DVBNW9L</td>\n",
              "      <td>3664.0</td>\n",
              "      <td>7.5</td>\n",
              "      <td>19.6</td>\n",
              "      <td>8</td>\n",
              "      <td>2nd half</td>\n",
              "      <td>26.0</td>\n",
              "      <td>Antennae</td>\n",
              "      <td>0.0</td>\n",
              "      <td>0.0</td>\n",
              "      <td>0.0</td>\n",
              "      <td>0.0</td>\n",
              "      <td>0.0</td>\n",
              "      <td>96.42</td>\n",
              "      <td>96.75</td>\n",
              "      <td>Player_77KCLG39</td>\n",
              "      <td>23.0</td>\n",
              "      <td>0.0</td>\n",
              "      <td>2042.0</td>\n",
              "      <td>Comet</td>\n",
              "      <td>2043.0</td>\n",
              "      <td>0.0</td>\n",
              "      <td>3</td>\n",
              "      <td>2.0</td>\n",
              "    </tr>\n",
              "    <tr>\n",
              "      <th>802097</th>\n",
              "      <td>ID_03VRW8WV</td>\n",
              "      <td>Player_77KCLG39</td>\n",
              "      <td>3665.0</td>\n",
              "      <td>23.0</td>\n",
              "      <td>0.0</td>\n",
              "      <td>8</td>\n",
              "      <td>2nd half</td>\n",
              "      <td>26.0</td>\n",
              "      <td>Antennae</td>\n",
              "      <td>0.0</td>\n",
              "      <td>0.0</td>\n",
              "      <td>1.0</td>\n",
              "      <td>0.0</td>\n",
              "      <td>1.0</td>\n",
              "      <td>96.62</td>\n",
              "      <td>96.95</td>\n",
              "      <td>NaN</td>\n",
              "      <td>NaN</td>\n",
              "      <td>NaN</td>\n",
              "      <td>2043.0</td>\n",
              "      <td>NaN</td>\n",
              "      <td>NaN</td>\n",
              "      <td>0.0</td>\n",
              "      <td>3</td>\n",
              "      <td>2.0</td>\n",
              "    </tr>\n",
              "  </tbody>\n",
              "</table>\n",
              "<p>2423108 rows × 25 columns</p>\n",
              "</div>\n",
              "      <button class=\"colab-df-convert\" onclick=\"convertToInteractive('df-4492f0a0-d7de-4c90-ae2d-15cca90bb67f')\"\n",
              "              title=\"Convert this dataframe to an interactive table.\"\n",
              "              style=\"display:none;\">\n",
              "        \n",
              "  <svg xmlns=\"http://www.w3.org/2000/svg\" height=\"24px\"viewBox=\"0 0 24 24\"\n",
              "       width=\"24px\">\n",
              "    <path d=\"M0 0h24v24H0V0z\" fill=\"none\"/>\n",
              "    <path d=\"M18.56 5.44l.94 2.06.94-2.06 2.06-.94-2.06-.94-.94-2.06-.94 2.06-2.06.94zm-11 1L8.5 8.5l.94-2.06 2.06-.94-2.06-.94L8.5 2.5l-.94 2.06-2.06.94zm10 10l.94 2.06.94-2.06 2.06-.94-2.06-.94-.94-2.06-.94 2.06-2.06.94z\"/><path d=\"M17.41 7.96l-1.37-1.37c-.4-.4-.92-.59-1.43-.59-.52 0-1.04.2-1.43.59L10.3 9.45l-7.72 7.72c-.78.78-.78 2.05 0 2.83L4 21.41c.39.39.9.59 1.41.59.51 0 1.02-.2 1.41-.59l7.78-7.78 2.81-2.81c.8-.78.8-2.07 0-2.86zM5.41 20L4 18.59l7.72-7.72 1.47 1.35L5.41 20z\"/>\n",
              "  </svg>\n",
              "      </button>\n",
              "      \n",
              "  <style>\n",
              "    .colab-df-container {\n",
              "      display:flex;\n",
              "      flex-wrap:wrap;\n",
              "      gap: 12px;\n",
              "    }\n",
              "\n",
              "    .colab-df-convert {\n",
              "      background-color: #E8F0FE;\n",
              "      border: none;\n",
              "      border-radius: 50%;\n",
              "      cursor: pointer;\n",
              "      display: none;\n",
              "      fill: #1967D2;\n",
              "      height: 32px;\n",
              "      padding: 0 0 0 0;\n",
              "      width: 32px;\n",
              "    }\n",
              "\n",
              "    .colab-df-convert:hover {\n",
              "      background-color: #E2EBFA;\n",
              "      box-shadow: 0px 1px 2px rgba(60, 64, 67, 0.3), 0px 1px 3px 1px rgba(60, 64, 67, 0.15);\n",
              "      fill: #174EA6;\n",
              "    }\n",
              "\n",
              "    [theme=dark] .colab-df-convert {\n",
              "      background-color: #3B4455;\n",
              "      fill: #D2E3FC;\n",
              "    }\n",
              "\n",
              "    [theme=dark] .colab-df-convert:hover {\n",
              "      background-color: #434B5C;\n",
              "      box-shadow: 0px 1px 3px 1px rgba(0, 0, 0, 0.15);\n",
              "      filter: drop-shadow(0px 1px 2px rgba(0, 0, 0, 0.3));\n",
              "      fill: #FFFFFF;\n",
              "    }\n",
              "  </style>\n",
              "\n",
              "      <script>\n",
              "        const buttonEl =\n",
              "          document.querySelector('#df-4492f0a0-d7de-4c90-ae2d-15cca90bb67f button.colab-df-convert');\n",
              "        buttonEl.style.display =\n",
              "          google.colab.kernel.accessAllowed ? 'block' : 'none';\n",
              "\n",
              "        async function convertToInteractive(key) {\n",
              "          const element = document.querySelector('#df-4492f0a0-d7de-4c90-ae2d-15cca90bb67f');\n",
              "          const dataTable =\n",
              "            await google.colab.kernel.invokeFunction('convertToInteractive',\n",
              "                                                     [key], {});\n",
              "          if (!dataTable) return;\n",
              "\n",
              "          const docLinkHtml = 'Like what you see? Visit the ' +\n",
              "            '<a target=\"_blank\" href=https://colab.research.google.com/notebooks/data_table.ipynb>data table notebook</a>'\n",
              "            + ' to learn more about interactive tables.';\n",
              "          element.innerHTML = '';\n",
              "          dataTable['output_type'] = 'display_data';\n",
              "          await google.colab.output.renderOutput(dataTable, element);\n",
              "          const docLink = document.createElement('div');\n",
              "          docLink.innerHTML = docLinkHtml;\n",
              "          element.appendChild(docLink);\n",
              "        }\n",
              "      </script>\n",
              "    </div>\n",
              "  </div>\n",
              "  "
            ]
          },
          "metadata": {},
          "execution_count": 10
        }
      ],
      "source": [
        "stats['no_of_managers']=stats.groupby('Team')['Manager'].transform('nunique')\n",
        "stats['no_of_teams']=stats.groupby('Manager')['Team'].transform('nunique')\n",
        "\n",
        "le=LabelEncoder()\n",
        "stats.Manager=le.fit_transform(stats.Manager).astype('float')\n",
        "stats"
      ]
    },
    {
      "cell_type": "code",
      "execution_count": 11,
      "id": "246164eb",
      "metadata": {
        "execution": {
          "iopub.execute_input": "2022-09-04T19:59:44.684362Z",
          "iopub.status.busy": "2022-09-04T19:59:44.683117Z",
          "iopub.status.idle": "2022-09-04T19:59:47.575103Z",
          "shell.execute_reply": "2022-09-04T19:59:47.573801Z"
        },
        "id": "246164eb",
        "papermill": {
          "duration": 2.920738,
          "end_time": "2022-09-04T19:59:47.577260",
          "exception": false,
          "start_time": "2022-09-04T19:59:44.656522",
          "status": "completed"
        },
        "tags": []
      },
      "outputs": [],
      "source": [
        "stats['GameHome']=stats['Game_ID'].astype(str)+'_'+stats['Team'].astype(str)\n",
        "stats['GameAway']=stats['Game_ID'].astype(str)+'_'+stats['Team'].astype(str)"
      ]
    },
    {
      "cell_type": "code",
      "execution_count": 12,
      "id": "1cc24208",
      "metadata": {
        "execution": {
          "iopub.execute_input": "2022-09-04T19:59:47.871684Z",
          "iopub.status.busy": "2022-09-04T19:59:47.871118Z",
          "iopub.status.idle": "2022-09-04T19:59:47.884984Z",
          "shell.execute_reply": "2022-09-04T19:59:47.884251Z"
        },
        "id": "1cc24208",
        "papermill": {
          "duration": 0.28464,
          "end_time": "2022-09-04T19:59:47.887063",
          "exception": false,
          "start_time": "2022-09-04T19:59:47.602423",
          "status": "completed"
        },
        "tags": []
      },
      "outputs": [],
      "source": [
        "stats['Home Team']=stats.Team.copy()\n",
        "stats['Away Team']=stats.Team.copy()"
      ]
    },
    {
      "cell_type": "code",
      "execution_count": 13,
      "id": "8b6564df",
      "metadata": {
        "execution": {
          "iopub.execute_input": "2022-09-04T19:59:48.264554Z",
          "iopub.status.busy": "2022-09-04T19:59:48.263983Z",
          "iopub.status.idle": "2022-09-04T19:59:48.385093Z",
          "shell.execute_reply": "2022-09-04T19:59:48.384342Z"
        },
        "id": "8b6564df",
        "papermill": {
          "duration": 0.149401,
          "end_time": "2022-09-04T19:59:48.386744",
          "exception": false,
          "start_time": "2022-09-04T19:59:48.237343",
          "status": "completed"
        },
        "tags": []
      },
      "outputs": [],
      "source": [
        "stats['SoF']=(stats.Shots+0.1)-(stats.SoT+0.1)\n",
        "stats['dominance']=((stats.Passes>0)|(stats.Shots>0)).astype('int')\n",
        "stats['duration']=stats.End_minutes-stats.Start_minutes\n",
        "stats['played']=stats.dominance*stats['duration']\n",
        "stats['Y30']=((stats.Y>30)&(stats['Shots']==0)&(stats['Passes']==0)).astype('int')\n",
        "stats['X105']=((stats.X==105)&(stats['Shots']==0)&(stats['Passes']==0)).astype('int')\n",
        "stats['X92']=((stats.X>=92)&(stats.Y>30)&(stats['Shots']==0)&(stats['Passes']==0)).astype('int')\n",
        "stats['X13']=((stats.X<=13)&(stats.Y<=337.1)&(stats['Shots']==0)&(stats['Passes']==0)).astype('int')"
      ]
    },
    {
      "cell_type": "markdown",
      "source": [
        "# Home & Away Team Features"
      ],
      "metadata": {
        "id": "PbbDK-MO3o6u"
      },
      "id": "PbbDK-MO3o6u"
    },
    {
      "cell_type": "code",
      "execution_count": 14,
      "id": "b14a5b26",
      "metadata": {
        "execution": {
          "iopub.execute_input": "2022-09-04T19:59:48.438821Z",
          "iopub.status.busy": "2022-09-04T19:59:48.437989Z",
          "iopub.status.idle": "2022-09-04T19:59:49.972063Z",
          "shell.execute_reply": "2022-09-04T19:59:49.971117Z"
        },
        "id": "b14a5b26",
        "papermill": {
          "duration": 1.562451,
          "end_time": "2022-09-04T19:59:49.974362",
          "exception": false,
          "start_time": "2022-09-04T19:59:48.411911",
          "status": "completed"
        },
        "tags": []
      },
      "outputs": [],
      "source": [
        "HomeSum=stats[['GameHome', 'Y30','X92','X105','X13',\n",
        "                 'Shots', \n",
        "                 'SoT',\n",
        "                 'Accurate passes',\n",
        "             'dominance',\n",
        "                'Inaccurate passes',\n",
        "                 'SoF',\n",
        "                 'duration',\n",
        "               'played'\n",
        "                ]].groupby(['GameHome']).sum().add_suffix('Sum').reset_index()\n",
        "AwaySum=stats[['GameAway','Y30','X92','X105','X13',\n",
        "                 'Shots', \n",
        "                 'SoT',\n",
        "                 'Accurate passes',\n",
        "               'dominance',\n",
        "                'Inaccurate passes',\n",
        "                 'SoF',\n",
        "                 'duration',\n",
        "              'played'\n",
        "                ]].groupby(['GameAway']).sum().add_suffix('Sum').reset_index()"
      ]
    },
    {
      "cell_type": "code",
      "execution_count": 14,
      "id": "29d8b9ba",
      "metadata": {
        "id": "29d8b9ba",
        "papermill": {
          "duration": 0.025398,
          "end_time": "2022-09-04T19:59:50.026459",
          "exception": false,
          "start_time": "2022-09-04T19:59:50.001061",
          "status": "completed"
        },
        "tags": []
      },
      "outputs": [],
      "source": []
    },
    {
      "cell_type": "code",
      "execution_count": 15,
      "id": "4baada72",
      "metadata": {
        "execution": {
          "iopub.execute_input": "2022-09-04T19:59:50.079340Z",
          "iopub.status.busy": "2022-09-04T19:59:50.078972Z",
          "iopub.status.idle": "2022-09-04T19:59:53.189434Z",
          "shell.execute_reply": "2022-09-04T19:59:53.188585Z"
        },
        "id": "4baada72",
        "papermill": {
          "duration": 3.139569,
          "end_time": "2022-09-04T19:59:53.191550",
          "exception": false,
          "start_time": "2022-09-04T19:59:50.051981",
          "status": "completed"
        },
        "tags": []
      },
      "outputs": [],
      "source": [
        "HomeSkew=stats[['GameHome', 'Y30','X92','X105','X13',\n",
        "                 'Shots', \n",
        "                 'SoT',\n",
        "                 'Accurate passes',\n",
        "             'dominance',\n",
        "                'Inaccurate passes',\n",
        "                 'SoF',\n",
        "                 'duration',\n",
        "               'played'\n",
        "                ]].groupby(['GameHome']).skew().add_suffix('Skew').reset_index()\n",
        "AwaySkew=stats[['GameAway','Y30','X92','X105','X13',\n",
        "                 'Shots', \n",
        "                 'SoT',\n",
        "                 'Accurate passes',\n",
        "               'dominance',\n",
        "                'Inaccurate passes',\n",
        "                 'SoF',\n",
        "                 'duration',\n",
        "              'played'\n",
        "                ]].groupby(['GameAway']).skew().add_suffix('Skew').reset_index()"
      ]
    },
    {
      "cell_type": "code",
      "execution_count": 16,
      "id": "8dac0b3d",
      "metadata": {
        "execution": {
          "iopub.execute_input": "2022-09-04T19:59:53.343956Z",
          "iopub.status.busy": "2022-09-04T19:59:53.342825Z",
          "iopub.status.idle": "2022-09-04T19:59:54.495504Z",
          "shell.execute_reply": "2022-09-04T19:59:54.494479Z"
        },
        "id": "8dac0b3d",
        "papermill": {
          "duration": 1.181352,
          "end_time": "2022-09-04T19:59:54.497897",
          "exception": false,
          "start_time": "2022-09-04T19:59:53.316545",
          "status": "completed"
        },
        "tags": []
      },
      "outputs": [],
      "source": [
        "HomeStd=stats[['GameHome','Y30','X92','X105','X13',\n",
        "                'Shots', \n",
        "                 'SoT',\n",
        "                 'Accurate passes',\n",
        "              'dominance',\n",
        "                'Inaccurate passes',\n",
        "                 'SoF',\n",
        "                 'duration',\n",
        "                'played'\n",
        "                ]].groupby(['GameHome']).std().add_suffix('Std').reset_index()\n",
        "AwayStd=stats[['GameAway','Y30','X92','X105','X13',\n",
        "                 'Shots', \n",
        "                 'SoT',\n",
        "                 'Accurate passes',\n",
        "                 'dominance',\n",
        "                'Inaccurate passes',\n",
        "                 'SoF',\n",
        "                 'duration',\n",
        "                 'played'\n",
        "                ]].groupby(['GameAway']).std().add_suffix('Std').reset_index()\n",
        "                \n",
        "HomeStd=pd.merge(HomeStd,HomeSum,on='GameHome',how='left')\n",
        "AwayStd=pd.merge(AwayStd,AwaySum,on='GameAway',how='left')\n",
        "\n",
        "HomeStd=pd.merge(HomeStd,HomeSkew,on='GameHome',how='left')\n",
        "AwayStd=pd.merge(AwayStd,AwaySkew,on='GameAway',how='left')\n"
      ]
    },
    {
      "cell_type": "code",
      "execution_count": 17,
      "id": "38c80786",
      "metadata": {
        "execution": {
          "iopub.execute_input": "2022-09-04T19:59:54.550502Z",
          "iopub.status.busy": "2022-09-04T19:59:54.550136Z",
          "iopub.status.idle": "2022-09-04T19:59:55.313058Z",
          "shell.execute_reply": "2022-09-04T19:59:55.311985Z"
        },
        "id": "38c80786",
        "papermill": {
          "duration": 0.791431,
          "end_time": "2022-09-04T19:59:55.314999",
          "exception": false,
          "start_time": "2022-09-04T19:59:54.523568",
          "status": "completed"
        },
        "tags": []
      },
      "outputs": [],
      "source": [
        "HomeStats=stats[['GameHome','Y30','X92','X105','X13',\n",
        "                'Shots', \n",
        "                 'SoT',\n",
        "                 'Accurate passes',\n",
        "              'dominance',\n",
        "                'Inaccurate passes',\n",
        "                 'SoF',\n",
        "                 'duration',\n",
        "                'played'\n",
        "                ]].groupby(['GameHome']).mean().reset_index()\n",
        "AwayStats=stats[['GameAway','Y30','X92','X105','X13',\n",
        "                 'Shots', \n",
        "                 'SoT',\n",
        "                 'Accurate passes',\n",
        "                 'dominance',\n",
        "                'Inaccurate passes',\n",
        "                 'SoF',\n",
        "                 'duration',\n",
        "                 'played'\n",
        "                ]].groupby(['GameAway']).mean().reset_index()\n",
        "\n",
        "HomeStats=pd.merge(HomeStats,HomeStd,on='GameHome',how='left')\n",
        "AwayStats=pd.merge(AwayStats,AwayStd,on='GameAway',how='left')\n",
        "stat_cols=list(HomeStats.columns[1:])"
      ]
    },
    {
      "cell_type": "code",
      "execution_count": 18,
      "id": "9190e459",
      "metadata": {
        "execution": {
          "iopub.execute_input": "2022-09-04T19:59:55.367393Z",
          "iopub.status.busy": "2022-09-04T19:59:55.367023Z",
          "iopub.status.idle": "2022-09-04T19:59:55.381209Z",
          "shell.execute_reply": "2022-09-04T19:59:55.379825Z"
        },
        "id": "9190e459",
        "papermill": {
          "duration": 0.042725,
          "end_time": "2022-09-04T19:59:55.383226",
          "exception": false,
          "start_time": "2022-09-04T19:59:55.340501",
          "status": "completed"
        },
        "tags": []
      },
      "outputs": [],
      "source": [
        "HomeStats['Home Team']=(HomeStats.GameHome.str.split('_',2,expand=True)[2]).astype('int')\n",
        "AwayStats['Away Team']=(AwayStats.GameAway.str.split('_',2,expand=True)[2]).astype('int')"
      ]
    },
    {
      "cell_type": "code",
      "execution_count": 19,
      "id": "8d632e93",
      "metadata": {
        "execution": {
          "iopub.execute_input": "2022-09-04T19:59:55.544511Z",
          "iopub.status.busy": "2022-09-04T19:59:55.543570Z",
          "iopub.status.idle": "2022-09-04T19:59:55.554579Z",
          "shell.execute_reply": "2022-09-04T19:59:55.553910Z"
        },
        "id": "8d632e93",
        "papermill": {
          "duration": 0.041615,
          "end_time": "2022-09-04T19:59:55.556715",
          "exception": false,
          "start_time": "2022-09-04T19:59:55.515100",
          "status": "completed"
        },
        "tags": []
      },
      "outputs": [],
      "source": [
        "TeamHome=HomeStats.groupby('Home Team').mean().reset_index()\n",
        "TeamAway=AwayStats.groupby('Away Team').mean().reset_index()"
      ]
    },
    {
      "cell_type": "code",
      "execution_count": 20,
      "id": "7da5df4c",
      "metadata": {
        "execution": {
          "iopub.execute_input": "2022-09-04T19:59:55.612661Z",
          "iopub.status.busy": "2022-09-04T19:59:55.612317Z",
          "iopub.status.idle": "2022-09-04T19:59:55.621000Z",
          "shell.execute_reply": "2022-09-04T19:59:55.619667Z"
        },
        "id": "7da5df4c",
        "papermill": {
          "duration": 0.039009,
          "end_time": "2022-09-04T19:59:55.623007",
          "exception": false,
          "start_time": "2022-09-04T19:59:55.583998",
          "status": "completed"
        },
        "tags": []
      },
      "outputs": [],
      "source": [
        "TeamHome=TeamHome.add_suffix(' mean')\n",
        "TeamAway=TeamAway.add_suffix(' mean')\n",
        "mean_cols=list(TeamHome.columns[1:])"
      ]
    },
    {
      "cell_type": "code",
      "execution_count": 21,
      "id": "99d1b654",
      "metadata": {
        "execution": {
          "iopub.execute_input": "2022-09-04T19:59:55.678808Z",
          "iopub.status.busy": "2022-09-04T19:59:55.678240Z",
          "iopub.status.idle": "2022-09-04T19:59:55.684874Z",
          "shell.execute_reply": "2022-09-04T19:59:55.683386Z"
        },
        "id": "99d1b654",
        "papermill": {
          "duration": 0.036359,
          "end_time": "2022-09-04T19:59:55.686535",
          "exception": false,
          "start_time": "2022-09-04T19:59:55.650176",
          "status": "completed"
        },
        "tags": []
      },
      "outputs": [],
      "source": [
        "TeamHome=TeamHome.rename({'Home Team mean':'Home Team'},axis=1)\n",
        "TeamAway=TeamAway.rename({'Away Team mean':'Away Team'},axis=1)"
      ]
    },
    {
      "cell_type": "code",
      "execution_count": 22,
      "id": "532564c7",
      "metadata": {
        "execution": {
          "iopub.execute_input": "2022-09-04T19:59:55.740999Z",
          "iopub.status.busy": "2022-09-04T19:59:55.740630Z",
          "iopub.status.idle": "2022-09-04T19:59:56.260303Z",
          "shell.execute_reply": "2022-09-04T19:59:56.259347Z"
        },
        "id": "532564c7",
        "papermill": {
          "duration": 0.549409,
          "end_time": "2022-09-04T19:59:56.262548",
          "exception": false,
          "start_time": "2022-09-04T19:59:55.713139",
          "status": "completed"
        },
        "tags": []
      },
      "outputs": [],
      "source": [
        "HomeManager=stats[['GameHome','Manager','no_of_managers','no_of_teams']].drop_duplicates('GameHome')\n",
        "AwayManager=stats[['GameAway','Manager','no_of_managers','no_of_teams']].drop_duplicates('GameAway')"
      ]
    },
    {
      "cell_type": "code",
      "execution_count": 23,
      "id": "ea064715",
      "metadata": {
        "execution": {
          "iopub.execute_input": "2022-09-04T19:59:56.319648Z",
          "iopub.status.busy": "2022-09-04T19:59:56.318987Z",
          "iopub.status.idle": "2022-09-04T19:59:56.323425Z",
          "shell.execute_reply": "2022-09-04T19:59:56.322551Z"
        },
        "id": "ea064715",
        "papermill": {
          "duration": 0.035651,
          "end_time": "2022-09-04T19:59:56.325151",
          "exception": false,
          "start_time": "2022-09-04T19:59:56.289500",
          "status": "completed"
        },
        "tags": []
      },
      "outputs": [],
      "source": [
        "stat_cols=stat_cols+['no_of_managers','no_of_teams']"
      ]
    },
    {
      "cell_type": "code",
      "execution_count": 24,
      "id": "9781813c",
      "metadata": {
        "execution": {
          "iopub.execute_input": "2022-09-04T19:59:56.379570Z",
          "iopub.status.busy": "2022-09-04T19:59:56.378939Z",
          "iopub.status.idle": "2022-09-04T19:59:56.395096Z",
          "shell.execute_reply": "2022-09-04T19:59:56.394355Z"
        },
        "id": "9781813c",
        "papermill": {
          "duration": 0.045258,
          "end_time": "2022-09-04T19:59:56.396810",
          "exception": false,
          "start_time": "2022-09-04T19:59:56.351552",
          "status": "completed"
        },
        "tags": []
      },
      "outputs": [],
      "source": [
        "tdf['Score']=np.nan"
      ]
    },
    {
      "cell_type": "code",
      "execution_count": 25,
      "id": "ee6b975a",
      "metadata": {
        "execution": {
          "iopub.execute_input": "2022-09-04T19:59:56.451282Z",
          "iopub.status.busy": "2022-09-04T19:59:56.450681Z",
          "iopub.status.idle": "2022-09-04T19:59:56.467706Z",
          "shell.execute_reply": "2022-09-04T19:59:56.466885Z"
        },
        "id": "ee6b975a",
        "papermill": {
          "duration": 0.046176,
          "end_time": "2022-09-04T19:59:56.469550",
          "exception": false,
          "start_time": "2022-09-04T19:59:56.423374",
          "status": "completed"
        },
        "tags": []
      },
      "outputs": [],
      "source": [
        "df=df.append(tdf[df.columns])"
      ]
    },
    {
      "cell_type": "code",
      "execution_count": 26,
      "id": "24faf4f4",
      "metadata": {
        "execution": {
          "iopub.execute_input": "2022-09-04T19:59:56.526164Z",
          "iopub.status.busy": "2022-09-04T19:59:56.525530Z",
          "iopub.status.idle": "2022-09-04T19:59:56.541550Z",
          "shell.execute_reply": "2022-09-04T19:59:56.540895Z"
        },
        "id": "24faf4f4",
        "papermill": {
          "duration": 0.046335,
          "end_time": "2022-09-04T19:59:56.543259",
          "exception": false,
          "start_time": "2022-09-04T19:59:56.496924",
          "status": "completed"
        },
        "tags": []
      },
      "outputs": [],
      "source": [
        "df['Home Team'] = teamEncoder.transform(df['Home Team']).astype('int')\n",
        "df['Away Team'] = teamEncoder.transform(df['Away Team']).astype('int')"
      ]
    },
    {
      "cell_type": "code",
      "execution_count": 27,
      "id": "22623e5c",
      "metadata": {
        "execution": {
          "iopub.execute_input": "2022-09-04T19:59:56.599467Z",
          "iopub.status.busy": "2022-09-04T19:59:56.598619Z",
          "iopub.status.idle": "2022-09-04T19:59:56.612478Z",
          "shell.execute_reply": "2022-09-04T19:59:56.611763Z"
        },
        "id": "22623e5c",
        "papermill": {
          "duration": 0.04438,
          "end_time": "2022-09-04T19:59:56.614568",
          "exception": false,
          "start_time": "2022-09-04T19:59:56.570188",
          "status": "completed"
        },
        "tags": []
      },
      "outputs": [],
      "source": [
        "GameHome1=df.copy()\n",
        "GameHome2=df.copy()\n",
        "GameHome1['GameHome']=GameHome1['Game_ID'].astype(str)+'_'+GameHome1['Home Team'].astype(str)\n",
        "GameHome2['GameHome']=GameHome2['Game_ID'].astype(str)+'_'+GameHome2['Away Team'].astype(str)\n",
        "GameHome=GameHome1[['GameHome','Season']].append(GameHome2[['GameHome','Season']])\n",
        "GameHome=GameHome.drop_duplicates(['GameHome','Season'])"
      ]
    },
    {
      "cell_type": "code",
      "execution_count": 28,
      "id": "511833c1",
      "metadata": {
        "execution": {
          "iopub.execute_input": "2022-09-04T19:59:56.674524Z",
          "iopub.status.busy": "2022-09-04T19:59:56.673943Z",
          "iopub.status.idle": "2022-09-04T19:59:56.693569Z",
          "shell.execute_reply": "2022-09-04T19:59:56.692908Z"
        },
        "id": "511833c1",
        "papermill": {
          "duration": 0.050035,
          "end_time": "2022-09-04T19:59:56.695199",
          "exception": false,
          "start_time": "2022-09-04T19:59:56.645164",
          "status": "completed"
        },
        "tags": []
      },
      "outputs": [],
      "source": [
        "df['Min Team'] = df[['Home Team','Away Team']].min(axis=1)\n",
        "df['Max Team'] = df[['Home Team','Away Team']].max(axis=1)"
      ]
    },
    {
      "cell_type": "code",
      "execution_count": 29,
      "id": "46b34b4f",
      "metadata": {
        "execution": {
          "iopub.execute_input": "2022-09-04T19:59:56.752172Z",
          "iopub.status.busy": "2022-09-04T19:59:56.751628Z",
          "iopub.status.idle": "2022-09-04T19:59:56.761063Z",
          "shell.execute_reply": "2022-09-04T19:59:56.760050Z"
        },
        "id": "46b34b4f",
        "papermill": {
          "duration": 0.040218,
          "end_time": "2022-09-04T19:59:56.763018",
          "exception": false,
          "start_time": "2022-09-04T19:59:56.722800",
          "status": "completed"
        },
        "tags": []
      },
      "outputs": [],
      "source": [
        "df['H']=df['Home Team'].copy()\n",
        "df['A']=df['Away Team'].copy()\n",
        "df['MinisHome']=(df['H']==df['Min Team']).astype('int')\n",
        "df['Home Team']=df['Min Team'].copy()\n",
        "df['Away Team'] = df['Max Team'].copy()"
      ]
    },
    {
      "cell_type": "code",
      "execution_count": 30,
      "id": "9b059867",
      "metadata": {
        "execution": {
          "iopub.execute_input": "2022-09-04T19:59:56.818969Z",
          "iopub.status.busy": "2022-09-04T19:59:56.818595Z",
          "iopub.status.idle": "2022-09-04T19:59:56.825101Z",
          "shell.execute_reply": "2022-09-04T19:59:56.823889Z"
        },
        "id": "9b059867",
        "papermill": {
          "duration": 0.0368,
          "end_time": "2022-09-04T19:59:56.827122",
          "exception": false,
          "start_time": "2022-09-04T19:59:56.790322",
          "status": "completed"
        },
        "tags": []
      },
      "outputs": [],
      "source": [
        "df.drop(['Min Team','Max Team'],axis=1,inplace=True)"
      ]
    },
    {
      "cell_type": "code",
      "execution_count": 31,
      "id": "36f4783f",
      "metadata": {
        "execution": {
          "iopub.execute_input": "2022-09-04T19:59:56.884369Z",
          "iopub.status.busy": "2022-09-04T19:59:56.883432Z",
          "iopub.status.idle": "2022-09-04T19:59:56.907797Z",
          "shell.execute_reply": "2022-09-04T19:59:56.907064Z"
        },
        "id": "36f4783f",
        "papermill": {
          "duration": 0.054681,
          "end_time": "2022-09-04T19:59:56.909525",
          "exception": false,
          "start_time": "2022-09-04T19:59:56.854844",
          "status": "completed"
        },
        "tags": []
      },
      "outputs": [],
      "source": [
        "Season=df.copy()[['Home Team','Away Team','Score']]\n",
        "Season=Season[Season.Score.notna()]\n",
        "Season['Home Points'] = Season['Score'].replace({'Away win':0,'Draw':1,'Home Win':3})\n",
        "Season['Away Points'] = Season['Score'].replace({'Home Win':0,'Draw':1,'Away win':3})\n",
        "Season['Home Matches'] = Season.groupby(['Home Team'])['Home Team'].transform('count')\n",
        "Season['Away Matches'] = Season.groupby(['Away Team'])['Away Team'].transform('count')\n",
        "Season['Home Points'] = Season.groupby(['Home Team'])['Home Points'].transform('sum')\n",
        "Season['Away Points'] = Season.groupby(['Away Team'])['Away Points'].transform('sum')"
      ]
    },
    {
      "cell_type": "code",
      "execution_count": 32,
      "id": "638ccb21",
      "metadata": {
        "execution": {
          "iopub.execute_input": "2022-09-04T19:59:56.966074Z",
          "iopub.status.busy": "2022-09-04T19:59:56.965415Z",
          "iopub.status.idle": "2022-09-04T19:59:56.978446Z",
          "shell.execute_reply": "2022-09-04T19:59:56.977359Z"
        },
        "id": "638ccb21",
        "papermill": {
          "duration": 0.043205,
          "end_time": "2022-09-04T19:59:56.980322",
          "exception": false,
          "start_time": "2022-09-04T19:59:56.937117",
          "status": "completed"
        },
        "tags": []
      },
      "outputs": [],
      "source": [
        "HomeSeason = Season[['Home Team','Home Points','Home Matches']].drop_duplicates(['Home Team'])"
      ]
    },
    {
      "cell_type": "code",
      "execution_count": 33,
      "id": "cf09fb5b",
      "metadata": {
        "execution": {
          "iopub.execute_input": "2022-09-04T19:59:57.036332Z",
          "iopub.status.busy": "2022-09-04T19:59:57.035970Z",
          "iopub.status.idle": "2022-09-04T19:59:57.049168Z",
          "shell.execute_reply": "2022-09-04T19:59:57.047870Z"
        },
        "id": "cf09fb5b",
        "papermill": {
          "duration": 0.043118,
          "end_time": "2022-09-04T19:59:57.051057",
          "exception": false,
          "start_time": "2022-09-04T19:59:57.007939",
          "status": "completed"
        },
        "tags": []
      },
      "outputs": [],
      "source": [
        "AwaySeason = Season[['Away Team','Away Points','Away Matches']].drop_duplicates(['Away Team'])"
      ]
    },
    {
      "cell_type": "code",
      "execution_count": 34,
      "id": "f2ad7e50",
      "metadata": {
        "execution": {
          "iopub.execute_input": "2022-09-04T19:59:57.108473Z",
          "iopub.status.busy": "2022-09-04T19:59:57.108053Z",
          "iopub.status.idle": "2022-09-04T19:59:57.123700Z",
          "shell.execute_reply": "2022-09-04T19:59:57.122300Z"
        },
        "id": "f2ad7e50",
        "papermill": {
          "duration": 0.04652,
          "end_time": "2022-09-04T19:59:57.125505",
          "exception": false,
          "start_time": "2022-09-04T19:59:57.078985",
          "status": "completed"
        },
        "tags": []
      },
      "outputs": [],
      "source": [
        "others=AwaySeason[~AwaySeason['Away Team'].isin(HomeSeason['Home Team'])]\n",
        "others=pd.DataFrame(others.values,columns=list(HomeSeason.columns))\n",
        "others[['Home Points','Home Matches']]=0\n",
        "HomeSeason=HomeSeason.append(others)"
      ]
    },
    {
      "cell_type": "code",
      "execution_count": 35,
      "id": "eeed8c52",
      "metadata": {
        "execution": {
          "iopub.execute_input": "2022-09-04T19:59:57.185898Z",
          "iopub.status.busy": "2022-09-04T19:59:57.185531Z",
          "iopub.status.idle": "2022-09-04T19:59:57.219591Z",
          "shell.execute_reply": "2022-09-04T19:59:57.218480Z"
        },
        "id": "eeed8c52",
        "outputId": "a1596398-0bc2-4f0d-a01c-7f32b0d02110",
        "papermill": {
          "duration": 0.066472,
          "end_time": "2022-09-04T19:59:57.221917",
          "exception": false,
          "start_time": "2022-09-04T19:59:57.155445",
          "status": "completed"
        },
        "tags": [],
        "colab": {
          "base_uri": "https://localhost:8080/"
        }
      },
      "outputs": [
        {
          "output_type": "stream",
          "name": "stdout",
          "text": [
            "            Team  Home Points  Home Matches  Away Points  Away Matches\n",
            "count  19.000000    19.000000     19.000000    19.000000     19.000000\n",
            "mean    9.631579    33.000000     21.684211    24.947368     21.684211\n",
            "std     6.404951    24.147694     16.052181    13.554309     13.059916\n",
            "min     0.000000     0.000000      0.000000     0.000000      0.000000\n",
            "25%     4.500000    15.000000      7.500000    15.500000     15.000000\n",
            "50%     9.000000    36.000000     22.000000    25.000000     23.000000\n",
            "75%    15.000000    53.000000     34.500000    32.000000     29.000000\n",
            "max    20.000000    78.000000     50.000000    54.000000     43.000000\n"
          ]
        }
      ],
      "source": [
        "Seasons = pd.merge(HomeSeason.rename({'Home Team':'Team'},axis=1),AwaySeason.rename({'Away Team':'Team'},axis=1), on=['Team'],how='left')\n",
        "Seasons.fillna(0,inplace=True)\n",
        "print(Seasons.describe())\n",
        "Scols = list(Seasons.columns[1:])\n",
        "Seasons['Points'] = Seasons['Home Points'] + Seasons['Away Points']\n",
        "Seasons['Matches'] = Seasons['Home Matches'] + Seasons['Away Matches']\n",
        "Seasons['Av Points'] = Seasons['Points'] / Seasons['Matches']\n",
        "Seasons = Seasons.drop(Scols,axis=1)\n",
        "Scols = list(Seasons.columns[2:])\n",
        "Scols=['Av Points']\n",
        "Seasons.drop(['Points','Matches'],axis=1,inplace=True)"
      ]
    },
    {
      "cell_type": "code",
      "execution_count": 36,
      "id": "d29920ee",
      "metadata": {
        "execution": {
          "iopub.execute_input": "2022-09-04T19:59:57.557841Z",
          "iopub.status.busy": "2022-09-04T19:59:57.556975Z",
          "iopub.status.idle": "2022-09-04T19:59:57.564460Z",
          "shell.execute_reply": "2022-09-04T19:59:57.563875Z"
        },
        "id": "d29920ee",
        "papermill": {
          "duration": 0.038659,
          "end_time": "2022-09-04T19:59:57.565974",
          "exception": false,
          "start_time": "2022-09-04T19:59:57.527315",
          "status": "completed"
        },
        "tags": []
      },
      "outputs": [],
      "source": [
        "df['GameHome']=df['Game_ID'].astype(str)+'_'+df['Home Team'].astype(str)\n",
        "df['GameAway']=df['Game_ID'].astype(str)+'_'+df['Away Team'].astype(str)"
      ]
    },
    {
      "cell_type": "code",
      "execution_count": 37,
      "id": "31a09df9",
      "metadata": {
        "execution": {
          "iopub.execute_input": "2022-09-04T19:59:57.690844Z",
          "iopub.status.busy": "2022-09-04T19:59:57.690002Z",
          "iopub.status.idle": "2022-09-04T19:59:57.712366Z",
          "shell.execute_reply": "2022-09-04T19:59:57.711548Z"
        },
        "id": "31a09df9",
        "papermill": {
          "duration": 0.053627,
          "end_time": "2022-09-04T19:59:57.714010",
          "exception": false,
          "start_time": "2022-09-04T19:59:57.660383",
          "status": "completed"
        },
        "tags": []
      },
      "outputs": [],
      "source": [
        "df['Score'] = df['Score'].replace({'Draw':1,'Away win':0, 'Home Win':2})\n",
        "df.Score[df.MinisHome==0]=(df.Score-2).abs()"
      ]
    },
    {
      "cell_type": "code",
      "execution_count": 38,
      "id": "fc6320db",
      "metadata": {
        "execution": {
          "iopub.execute_input": "2022-09-04T19:59:57.844276Z",
          "iopub.status.busy": "2022-09-04T19:59:57.843887Z",
          "iopub.status.idle": "2022-09-04T19:59:57.850326Z",
          "shell.execute_reply": "2022-09-04T19:59:57.849474Z"
        },
        "id": "fc6320db",
        "papermill": {
          "duration": 0.040108,
          "end_time": "2022-09-04T19:59:57.852171",
          "exception": false,
          "start_time": "2022-09-04T19:59:57.812063",
          "status": "completed"
        },
        "tags": []
      },
      "outputs": [],
      "source": [
        "df.Score.fillna(4,inplace=True)\n",
        "df.Score = df.Score.astype('int')"
      ]
    },
    {
      "cell_type": "code",
      "execution_count": 39,
      "id": "fe94af2d",
      "metadata": {
        "execution": {
          "iopub.execute_input": "2022-09-04T19:59:57.982553Z",
          "iopub.status.busy": "2022-09-04T19:59:57.981745Z",
          "iopub.status.idle": "2022-09-04T19:59:58.019539Z",
          "shell.execute_reply": "2022-09-04T19:59:58.018905Z"
        },
        "id": "fe94af2d",
        "papermill": {
          "duration": 0.070323,
          "end_time": "2022-09-04T19:59:58.021124",
          "exception": false,
          "start_time": "2022-09-04T19:59:57.950801",
          "status": "completed"
        },
        "tags": []
      },
      "outputs": [],
      "source": [
        "df['Date'] = pd.to_datetime(df['Date'])\n",
        "df['year'] = df['Date'].dt.year\n",
        "df['year']=df['year']-df['year'].min() + 1\n",
        "df['month'] = df['Date'].dt.month\n",
        "df['period'] = df['month']*df['year']\n",
        "df['mid'] = (df.period/6).astype('int')\n",
        "df['timestamp'] = (df['Date'] - df['Date'].min()).astype('str')\n",
        "df['timestamp'] = df['timestamp'].str[:-5].astype('int')"
      ]
    },
    {
      "cell_type": "code",
      "execution_count": 40,
      "id": "a371c171",
      "metadata": {
        "execution": {
          "iopub.execute_input": "2022-09-04T19:59:58.082450Z",
          "iopub.status.busy": "2022-09-04T19:59:58.081652Z",
          "iopub.status.idle": "2022-09-04T19:59:58.103337Z",
          "shell.execute_reply": "2022-09-04T19:59:58.102524Z"
        },
        "id": "a371c171",
        "papermill": {
          "duration": 0.054019,
          "end_time": "2022-09-04T19:59:58.105244",
          "exception": false,
          "start_time": "2022-09-04T19:59:58.051225",
          "status": "completed"
        },
        "tags": []
      },
      "outputs": [],
      "source": [
        "df=df.sort_values('timestamp')"
      ]
    },
    {
      "cell_type": "code",
      "execution_count": 41,
      "id": "c5e9a141",
      "metadata": {
        "execution": {
          "iopub.execute_input": "2022-09-04T19:59:58.167781Z",
          "iopub.status.busy": "2022-09-04T19:59:58.166895Z",
          "iopub.status.idle": "2022-09-04T19:59:58.194421Z",
          "shell.execute_reply": "2022-09-04T19:59:58.193549Z"
        },
        "id": "c5e9a141",
        "papermill": {
          "duration": 0.060087,
          "end_time": "2022-09-04T19:59:58.196151",
          "exception": false,
          "start_time": "2022-09-04T19:59:58.136064",
          "status": "completed"
        },
        "tags": []
      },
      "outputs": [],
      "source": [
        "df['Result']=df['Score']\n",
        "df=pd.get_dummies(df,columns=['Result'])"
      ]
    },
    {
      "cell_type": "code",
      "execution_count": 42,
      "id": "f44fb320",
      "metadata": {
        "execution": {
          "iopub.execute_input": "2022-09-04T19:59:58.473223Z",
          "iopub.status.busy": "2022-09-04T19:59:58.472827Z",
          "iopub.status.idle": "2022-09-04T19:59:58.478013Z",
          "shell.execute_reply": "2022-09-04T19:59:58.476715Z"
        },
        "id": "f44fb320",
        "papermill": {
          "duration": 0.04064,
          "end_time": "2022-09-04T19:59:58.480060",
          "exception": false,
          "start_time": "2022-09-04T19:59:58.439420",
          "status": "completed"
        },
        "tags": []
      },
      "outputs": [],
      "source": [
        "target_cols=['Score','Result_0','Result_1','Result_2','Result_4']\n",
        "result_cols=target_cols[1:4]\n",
        "target = 'Score'"
      ]
    },
    {
      "cell_type": "code",
      "execution_count": 43,
      "id": "3977c830",
      "metadata": {
        "execution": {
          "iopub.execute_input": "2022-09-04T19:59:58.838695Z",
          "iopub.status.busy": "2022-09-04T19:59:58.838153Z",
          "iopub.status.idle": "2022-09-04T19:59:58.844658Z",
          "shell.execute_reply": "2022-09-04T19:59:58.843909Z"
        },
        "id": "3977c830",
        "papermill": {
          "duration": 0.040137,
          "end_time": "2022-09-04T19:59:58.846446",
          "exception": false,
          "start_time": "2022-09-04T19:59:58.806309",
          "status": "completed"
        },
        "tags": []
      },
      "outputs": [],
      "source": [
        "df['HomeAway']=df['Home Team'].astype(str) + '_' + df['Away Team'].astype(str)"
      ]
    },
    {
      "cell_type": "code",
      "execution_count": 44,
      "id": "ca5a0951",
      "metadata": {
        "execution": {
          "iopub.execute_input": "2022-09-04T19:59:59.076476Z",
          "iopub.status.busy": "2022-09-04T19:59:59.076125Z",
          "iopub.status.idle": "2022-09-04T19:59:59.080134Z",
          "shell.execute_reply": "2022-09-04T19:59:59.079373Z"
        },
        "id": "ca5a0951",
        "papermill": {
          "duration": 0.041089,
          "end_time": "2022-09-04T19:59:59.082512",
          "exception": false,
          "start_time": "2022-09-04T19:59:59.041423",
          "status": "completed"
        },
        "tags": []
      },
      "outputs": [],
      "source": [
        "drop_cols=[\n",
        "    'Date',\n",
        "    'Match_ID',\n",
        "    'Game_ID','GameHome','GameAway',\n",
        "    'mid',\n",
        "   'H',\n",
        "    'A',\n",
        "    'MinisHome'\n",
        "] + target_cols"
      ]
    },
    {
      "cell_type": "code",
      "execution_count": 45,
      "id": "95975b68",
      "metadata": {
        "execution": {
          "iopub.execute_input": "2022-09-04T19:59:59.150082Z",
          "iopub.status.busy": "2022-09-04T19:59:59.149142Z",
          "iopub.status.idle": "2022-09-04T19:59:59.159948Z",
          "shell.execute_reply": "2022-09-04T19:59:59.159220Z"
        },
        "id": "95975b68",
        "papermill": {
          "duration": 0.046503,
          "end_time": "2022-09-04T19:59:59.161792",
          "exception": false,
          "start_time": "2022-09-04T19:59:59.115289",
          "status": "completed"
        },
        "tags": []
      },
      "outputs": [],
      "source": [
        "GameAway=GameHome.rename({'GameHome':'GameAway'},axis=1)"
      ]
    },
    {
      "cell_type": "code",
      "execution_count": 46,
      "id": "91f9cfd5",
      "metadata": {
        "execution": {
          "iopub.execute_input": "2022-09-04T19:59:59.227934Z",
          "iopub.status.busy": "2022-09-04T19:59:59.227072Z",
          "iopub.status.idle": "2022-09-04T19:59:59.239226Z",
          "shell.execute_reply": "2022-09-04T19:59:59.238637Z"
        },
        "id": "91f9cfd5",
        "papermill": {
          "duration": 0.046848,
          "end_time": "2022-09-04T19:59:59.240971",
          "exception": false,
          "start_time": "2022-09-04T19:59:59.194123",
          "status": "completed"
        },
        "tags": []
      },
      "outputs": [],
      "source": [
        "HomeStats=pd.merge(HomeStats,GameHome,on='GameHome',how='left')\n",
        "AwayStats=pd.merge(AwayStats,GameAway,on='GameAway',how='left')"
      ]
    },
    {
      "cell_type": "code",
      "execution_count": 47,
      "id": "c221c0af",
      "metadata": {
        "execution": {
          "iopub.execute_input": "2022-09-04T19:59:59.309753Z",
          "iopub.status.busy": "2022-09-04T19:59:59.309412Z",
          "iopub.status.idle": "2022-09-04T19:59:59.426336Z",
          "shell.execute_reply": "2022-09-04T19:59:59.425083Z"
        },
        "id": "c221c0af",
        "papermill": {
          "duration": 0.153493,
          "end_time": "2022-09-04T19:59:59.428726",
          "exception": false,
          "start_time": "2022-09-04T19:59:59.275233",
          "status": "completed"
        },
        "tags": []
      },
      "outputs": [],
      "source": [
        "for col in stat_cols[:-2]:\n",
        "  HomeStats[col+'Season']=HomeStats.groupby(['Home Team','Season'])[col].transform('mean')\n",
        "  AwayStats[col+'Season']=AwayStats.groupby(['Away Team','Season'])[col].transform('mean')\n",
        "  stat_cols=stat_cols+[col+'Season']\n"
      ]
    },
    {
      "cell_type": "code",
      "execution_count": 48,
      "id": "2fe2c432",
      "metadata": {
        "execution": {
          "iopub.execute_input": "2022-09-04T19:59:59.494559Z",
          "iopub.status.busy": "2022-09-04T19:59:59.493964Z",
          "iopub.status.idle": "2022-09-04T19:59:59.502234Z",
          "shell.execute_reply": "2022-09-04T19:59:59.501625Z"
        },
        "id": "2fe2c432",
        "papermill": {
          "duration": 0.04298,
          "end_time": "2022-09-04T19:59:59.503988",
          "exception": false,
          "start_time": "2022-09-04T19:59:59.461008",
          "status": "completed"
        },
        "tags": []
      },
      "outputs": [],
      "source": [
        "HomeStats=HomeStats.drop(['Season','Home Team'],axis=1)\n",
        "AwayStats=AwayStats.drop(['Season','Away Team'],axis=1)"
      ]
    },
    {
      "cell_type": "code",
      "execution_count": 49,
      "id": "37c6a2ab",
      "metadata": {
        "execution": {
          "iopub.execute_input": "2022-09-04T19:59:59.721552Z",
          "iopub.status.busy": "2022-09-04T19:59:59.720985Z",
          "iopub.status.idle": "2022-09-04T19:59:59.815874Z",
          "shell.execute_reply": "2022-09-04T19:59:59.814902Z"
        },
        "id": "37c6a2ab",
        "papermill": {
          "duration": 0.133108,
          "end_time": "2022-09-04T19:59:59.818232",
          "exception": false,
          "start_time": "2022-09-04T19:59:59.685124",
          "status": "completed"
        },
        "tags": []
      },
      "outputs": [],
      "source": [
        "df=pd.merge(df,HomeManager,on='GameHome',how='left')\n",
        "df=pd.merge(df,AwayManager,on='GameAway',how='left')\n",
        "df=pd.merge(df,HomeStats,on='GameHome',how='left')\n",
        "df=pd.merge(df,AwayStats,on='GameAway',how='left')\n",
        "for col in stat_cols:\n",
        "    df[col+'_div']=(df[col+'_x']+0.1)/(df[col+'_y']+0.1)"
      ]
    },
    {
      "cell_type": "code",
      "execution_count": 50,
      "id": "cb8750b1",
      "metadata": {
        "execution": {
          "iopub.execute_input": "2022-09-04T19:59:59.956433Z",
          "iopub.status.busy": "2022-09-04T19:59:59.955947Z",
          "iopub.status.idle": "2022-09-04T20:00:01.500479Z",
          "shell.execute_reply": "2022-09-04T20:00:01.499751Z"
        },
        "id": "cb8750b1",
        "papermill": {
          "duration": 1.581349,
          "end_time": "2022-09-04T20:00:01.502795",
          "exception": false,
          "start_time": "2022-09-04T19:59:59.921446",
          "status": "completed"
        },
        "tags": []
      },
      "outputs": [],
      "source": [
        "df=df.sort_values('period')\n",
        "cols = list(df.drop(drop_cols+['HomeAway'],axis=1).columns)\n",
        "for col in cols:\n",
        "  df[col+'prev']=df.groupby(['HomeAway'])[col].shift(1)\n",
        "  df[col+'prevDiff']=(df[col]+1)/(df[col+'prev']+1)\n",
        "for col in cols:\n",
        "  df[col+'prev2']=df.groupby(['HomeAway'])[col].shift(2)\n",
        "  df[col+'prev2Diff']=(df[col]+1)/(df[col+'prev2']+1)\n",
        "for col in cols:\n",
        "  df[col+'prev3']=df.groupby(['HomeAway'])[col].shift(3)\n",
        "  df[col+'prev3Diff']=(df[col]+1)/(df[col+'prev3']+1)"
      ]
    },
    {
      "cell_type": "code",
      "execution_count": 51,
      "id": "b4825a65",
      "metadata": {
        "execution": {
          "iopub.execute_input": "2022-09-04T20:00:01.574130Z",
          "iopub.status.busy": "2022-09-04T20:00:01.573537Z",
          "iopub.status.idle": "2022-09-04T20:00:01.581510Z",
          "shell.execute_reply": "2022-09-04T20:00:01.580898Z"
        },
        "id": "b4825a65",
        "papermill": {
          "duration": 0.046007,
          "end_time": "2022-09-04T20:00:01.583630",
          "exception": false,
          "start_time": "2022-09-04T20:00:01.537623",
          "status": "completed"
        },
        "tags": []
      },
      "outputs": [],
      "source": [
        "le=LabelEncoder()\n",
        "for col in ['HomeAway']:\n",
        "    df[col]=le.fit_transform(df[col].astype(str)).astype('int')"
      ]
    },
    {
      "cell_type": "code",
      "execution_count": 52,
      "id": "09226ac6",
      "metadata": {
        "execution": {
          "iopub.execute_input": "2022-09-04T20:00:01.653755Z",
          "iopub.status.busy": "2022-09-04T20:00:01.653205Z",
          "iopub.status.idle": "2022-09-04T20:00:01.779834Z",
          "shell.execute_reply": "2022-09-04T20:00:01.779133Z"
        },
        "id": "09226ac6",
        "papermill": {
          "duration": 0.163724,
          "end_time": "2022-09-04T20:00:01.781939",
          "exception": false,
          "start_time": "2022-09-04T20:00:01.618215",
          "status": "completed"
        },
        "tags": []
      },
      "outputs": [],
      "source": [
        "cols = list(df.drop(drop_cols,axis=1).columns)\n",
        "cols=cols[::3]"
      ]
    },
    {
      "cell_type": "code",
      "execution_count": 53,
      "id": "310b8089",
      "metadata": {
        "execution": {
          "iopub.execute_input": "2022-09-04T20:00:01.851547Z",
          "iopub.status.busy": "2022-09-04T20:00:01.850988Z",
          "iopub.status.idle": "2022-09-04T20:01:06.192898Z",
          "shell.execute_reply": "2022-09-04T20:01:06.191709Z"
        },
        "id": "310b8089",
        "papermill": {
          "duration": 64.378746,
          "end_time": "2022-09-04T20:01:06.195028",
          "exception": false,
          "start_time": "2022-09-04T20:00:01.816282",
          "status": "completed"
        },
        "tags": []
      },
      "outputs": [],
      "source": [
        "tdf=df[df[target]==4]\n",
        "df=df[df[target]<4]\n",
        "model=CatBoostClassifier(silent=True,learning_rate=0.1,n_estimators=1000)\n",
        "pred_cols=['pred_0','pred_1','pred_2']\n",
        "model.fit(df[cols],df[target])\n",
        "tdf[result_cols]=model.predict_proba(tdf[cols])\n"
      ]
    },
    {
      "cell_type": "code",
      "execution_count": 54,
      "id": "e67b8ea0",
      "metadata": {
        "execution": {
          "iopub.execute_input": "2022-09-04T20:01:06.265275Z",
          "iopub.status.busy": "2022-09-04T20:01:06.264918Z",
          "iopub.status.idle": "2022-09-04T20:01:06.278757Z",
          "shell.execute_reply": "2022-09-04T20:01:06.277894Z"
        },
        "id": "e67b8ea0",
        "papermill": {
          "duration": 0.051313,
          "end_time": "2022-09-04T20:01:06.280626",
          "exception": false,
          "start_time": "2022-09-04T20:01:06.229313",
          "status": "completed"
        },
        "tags": []
      },
      "outputs": [],
      "source": [
        "tdf['Away win']=tdf['Result_0'].copy()\n",
        "tdf['Home Win']=tdf['Result_2'].copy()\n",
        "tdf['Draw']=tdf['Result_1'].copy()\n",
        "tdf['Away win'][tdf.MinisHome==0]=tdf['Result_2']\n",
        "tdf['Home Win'][tdf.MinisHome==0]=tdf['Result_0']\n"
      ]
    },
    {
      "cell_type": "code",
      "execution_count": 55,
      "id": "f947e7dc",
      "metadata": {
        "execution": {
          "iopub.execute_input": "2022-09-04T20:01:06.350673Z",
          "iopub.status.busy": "2022-09-04T20:01:06.350060Z",
          "iopub.status.idle": "2022-09-04T20:01:06.372756Z",
          "shell.execute_reply": "2022-09-04T20:01:06.371992Z"
        },
        "id": "f947e7dc",
        "outputId": "68500428-dda0-464c-da3c-e58a7e291203",
        "papermill": {
          "duration": 0.059142,
          "end_time": "2022-09-04T20:01:06.374485",
          "exception": false,
          "start_time": "2022-09-04T20:01:06.315343",
          "status": "completed"
        },
        "tags": [],
        "colab": {
          "base_uri": "https://localhost:8080/",
          "height": 424
        }
      },
      "outputs": [
        {
          "output_type": "execute_result",
          "data": {
            "text/plain": [
              "         Game_ID  Away win      Draw  Home Win\n",
              "0    ID_8518U587  0.118376  0.639192  0.242432\n",
              "1    ID_H49BIKG7  0.001514  0.041572  0.956914\n",
              "2    ID_PO6SP4VA  0.931302  0.061964  0.006734\n",
              "3    ID_MZRCNBAQ  0.707788  0.280632  0.011580\n",
              "4    ID_CV9VOLIU  0.001217  0.006004  0.992779\n",
              "..           ...       ...       ...       ...\n",
              "229  ID_QKQ00O16  0.308634  0.665170  0.026196\n",
              "230  ID_172V2IXW  0.009399  0.840586  0.150015\n",
              "231  ID_2ZK5TE39  0.245680  0.741480  0.012840\n",
              "232  ID_IS54QGW9  0.007075  0.745471  0.247454\n",
              "233  ID_YG9IONLS  0.010932  0.724207  0.264862\n",
              "\n",
              "[234 rows x 4 columns]"
            ],
            "text/html": [
              "\n",
              "  <div id=\"df-d5636d56-60e4-40d3-8f48-01960d3c6ba5\">\n",
              "    <div class=\"colab-df-container\">\n",
              "      <div>\n",
              "<style scoped>\n",
              "    .dataframe tbody tr th:only-of-type {\n",
              "        vertical-align: middle;\n",
              "    }\n",
              "\n",
              "    .dataframe tbody tr th {\n",
              "        vertical-align: top;\n",
              "    }\n",
              "\n",
              "    .dataframe thead th {\n",
              "        text-align: right;\n",
              "    }\n",
              "</style>\n",
              "<table border=\"1\" class=\"dataframe\">\n",
              "  <thead>\n",
              "    <tr style=\"text-align: right;\">\n",
              "      <th></th>\n",
              "      <th>Game_ID</th>\n",
              "      <th>Away win</th>\n",
              "      <th>Draw</th>\n",
              "      <th>Home Win</th>\n",
              "    </tr>\n",
              "  </thead>\n",
              "  <tbody>\n",
              "    <tr>\n",
              "      <th>0</th>\n",
              "      <td>ID_8518U587</td>\n",
              "      <td>0.118376</td>\n",
              "      <td>0.639192</td>\n",
              "      <td>0.242432</td>\n",
              "    </tr>\n",
              "    <tr>\n",
              "      <th>1</th>\n",
              "      <td>ID_H49BIKG7</td>\n",
              "      <td>0.001514</td>\n",
              "      <td>0.041572</td>\n",
              "      <td>0.956914</td>\n",
              "    </tr>\n",
              "    <tr>\n",
              "      <th>2</th>\n",
              "      <td>ID_PO6SP4VA</td>\n",
              "      <td>0.931302</td>\n",
              "      <td>0.061964</td>\n",
              "      <td>0.006734</td>\n",
              "    </tr>\n",
              "    <tr>\n",
              "      <th>3</th>\n",
              "      <td>ID_MZRCNBAQ</td>\n",
              "      <td>0.707788</td>\n",
              "      <td>0.280632</td>\n",
              "      <td>0.011580</td>\n",
              "    </tr>\n",
              "    <tr>\n",
              "      <th>4</th>\n",
              "      <td>ID_CV9VOLIU</td>\n",
              "      <td>0.001217</td>\n",
              "      <td>0.006004</td>\n",
              "      <td>0.992779</td>\n",
              "    </tr>\n",
              "    <tr>\n",
              "      <th>...</th>\n",
              "      <td>...</td>\n",
              "      <td>...</td>\n",
              "      <td>...</td>\n",
              "      <td>...</td>\n",
              "    </tr>\n",
              "    <tr>\n",
              "      <th>229</th>\n",
              "      <td>ID_QKQ00O16</td>\n",
              "      <td>0.308634</td>\n",
              "      <td>0.665170</td>\n",
              "      <td>0.026196</td>\n",
              "    </tr>\n",
              "    <tr>\n",
              "      <th>230</th>\n",
              "      <td>ID_172V2IXW</td>\n",
              "      <td>0.009399</td>\n",
              "      <td>0.840586</td>\n",
              "      <td>0.150015</td>\n",
              "    </tr>\n",
              "    <tr>\n",
              "      <th>231</th>\n",
              "      <td>ID_2ZK5TE39</td>\n",
              "      <td>0.245680</td>\n",
              "      <td>0.741480</td>\n",
              "      <td>0.012840</td>\n",
              "    </tr>\n",
              "    <tr>\n",
              "      <th>232</th>\n",
              "      <td>ID_IS54QGW9</td>\n",
              "      <td>0.007075</td>\n",
              "      <td>0.745471</td>\n",
              "      <td>0.247454</td>\n",
              "    </tr>\n",
              "    <tr>\n",
              "      <th>233</th>\n",
              "      <td>ID_YG9IONLS</td>\n",
              "      <td>0.010932</td>\n",
              "      <td>0.724207</td>\n",
              "      <td>0.264862</td>\n",
              "    </tr>\n",
              "  </tbody>\n",
              "</table>\n",
              "<p>234 rows × 4 columns</p>\n",
              "</div>\n",
              "      <button class=\"colab-df-convert\" onclick=\"convertToInteractive('df-d5636d56-60e4-40d3-8f48-01960d3c6ba5')\"\n",
              "              title=\"Convert this dataframe to an interactive table.\"\n",
              "              style=\"display:none;\">\n",
              "        \n",
              "  <svg xmlns=\"http://www.w3.org/2000/svg\" height=\"24px\"viewBox=\"0 0 24 24\"\n",
              "       width=\"24px\">\n",
              "    <path d=\"M0 0h24v24H0V0z\" fill=\"none\"/>\n",
              "    <path d=\"M18.56 5.44l.94 2.06.94-2.06 2.06-.94-2.06-.94-.94-2.06-.94 2.06-2.06.94zm-11 1L8.5 8.5l.94-2.06 2.06-.94-2.06-.94L8.5 2.5l-.94 2.06-2.06.94zm10 10l.94 2.06.94-2.06 2.06-.94-2.06-.94-.94-2.06-.94 2.06-2.06.94z\"/><path d=\"M17.41 7.96l-1.37-1.37c-.4-.4-.92-.59-1.43-.59-.52 0-1.04.2-1.43.59L10.3 9.45l-7.72 7.72c-.78.78-.78 2.05 0 2.83L4 21.41c.39.39.9.59 1.41.59.51 0 1.02-.2 1.41-.59l7.78-7.78 2.81-2.81c.8-.78.8-2.07 0-2.86zM5.41 20L4 18.59l7.72-7.72 1.47 1.35L5.41 20z\"/>\n",
              "  </svg>\n",
              "      </button>\n",
              "      \n",
              "  <style>\n",
              "    .colab-df-container {\n",
              "      display:flex;\n",
              "      flex-wrap:wrap;\n",
              "      gap: 12px;\n",
              "    }\n",
              "\n",
              "    .colab-df-convert {\n",
              "      background-color: #E8F0FE;\n",
              "      border: none;\n",
              "      border-radius: 50%;\n",
              "      cursor: pointer;\n",
              "      display: none;\n",
              "      fill: #1967D2;\n",
              "      height: 32px;\n",
              "      padding: 0 0 0 0;\n",
              "      width: 32px;\n",
              "    }\n",
              "\n",
              "    .colab-df-convert:hover {\n",
              "      background-color: #E2EBFA;\n",
              "      box-shadow: 0px 1px 2px rgba(60, 64, 67, 0.3), 0px 1px 3px 1px rgba(60, 64, 67, 0.15);\n",
              "      fill: #174EA6;\n",
              "    }\n",
              "\n",
              "    [theme=dark] .colab-df-convert {\n",
              "      background-color: #3B4455;\n",
              "      fill: #D2E3FC;\n",
              "    }\n",
              "\n",
              "    [theme=dark] .colab-df-convert:hover {\n",
              "      background-color: #434B5C;\n",
              "      box-shadow: 0px 1px 3px 1px rgba(0, 0, 0, 0.15);\n",
              "      filter: drop-shadow(0px 1px 2px rgba(0, 0, 0, 0.3));\n",
              "      fill: #FFFFFF;\n",
              "    }\n",
              "  </style>\n",
              "\n",
              "      <script>\n",
              "        const buttonEl =\n",
              "          document.querySelector('#df-d5636d56-60e4-40d3-8f48-01960d3c6ba5 button.colab-df-convert');\n",
              "        buttonEl.style.display =\n",
              "          google.colab.kernel.accessAllowed ? 'block' : 'none';\n",
              "\n",
              "        async function convertToInteractive(key) {\n",
              "          const element = document.querySelector('#df-d5636d56-60e4-40d3-8f48-01960d3c6ba5');\n",
              "          const dataTable =\n",
              "            await google.colab.kernel.invokeFunction('convertToInteractive',\n",
              "                                                     [key], {});\n",
              "          if (!dataTable) return;\n",
              "\n",
              "          const docLinkHtml = 'Like what you see? Visit the ' +\n",
              "            '<a target=\"_blank\" href=https://colab.research.google.com/notebooks/data_table.ipynb>data table notebook</a>'\n",
              "            + ' to learn more about interactive tables.';\n",
              "          element.innerHTML = '';\n",
              "          dataTable['output_type'] = 'display_data';\n",
              "          await google.colab.output.renderOutput(dataTable, element);\n",
              "          const docLink = document.createElement('div');\n",
              "          docLink.innerHTML = docLinkHtml;\n",
              "          element.appendChild(docLink);\n",
              "        }\n",
              "      </script>\n",
              "    </div>\n",
              "  </div>\n",
              "  "
            ]
          },
          "metadata": {},
          "execution_count": 55
        }
      ],
      "source": [
        "sub=tdf[ss.columns]\n",
        "sub=pd.merge(ss[['Game_ID']],sub,on='Game_ID',how='left')\n",
        "sub.to_csv('playbook.csv',index=None)\n",
        "sub"
      ]
    },
    {
      "cell_type": "code",
      "execution_count": 56,
      "id": "4fc1bdbd",
      "metadata": {
        "execution": {
          "iopub.execute_input": "2022-09-04T20:01:06.443838Z",
          "iopub.status.busy": "2022-09-04T20:01:06.443505Z",
          "iopub.status.idle": "2022-09-04T20:01:06.455347Z",
          "shell.execute_reply": "2022-09-04T20:01:06.454355Z"
        },
        "id": "4fc1bdbd",
        "outputId": "7a59b100-37bb-49a3-e0a9-f103b3a73695",
        "papermill": {
          "duration": 0.048675,
          "end_time": "2022-09-04T20:01:06.457218",
          "exception": false,
          "start_time": "2022-09-04T20:01:06.408543",
          "status": "completed"
        },
        "tags": [],
        "colab": {
          "base_uri": "https://localhost:8080/"
        }
      },
      "outputs": [
        {
          "output_type": "execute_result",
          "data": {
            "text/plain": [
              "[(21.418, 'durationStd_div'),\n",
              " (5.8569, 'durationStd_x'),\n",
              " (5.4013, 'durationStd_y'),\n",
              " (4.3561, 'durationSkew_x'),\n",
              " (4.0223, 'durationSkew_y'),\n",
              " (3.6249, 'duration_div'),\n",
              " (2.2485, 'durationSkew_div'),\n",
              " (1.4451, 'duration_x'),\n",
              " (1.3307, 'dominanceSum_x'),\n",
              " (1.3075, 'durationSumSeason_y')]"
            ]
          },
          "metadata": {},
          "execution_count": 56
        }
      ],
      "source": [
        "sorted(zip(map(lambda x: round(x, 4), model.feature_importances_), cols), reverse=True)[:10]"
      ]
    },
    {
      "cell_type": "code",
      "execution_count": 56,
      "id": "b0249ff0",
      "metadata": {
        "id": "b0249ff0",
        "papermill": {
          "duration": 0.033719,
          "end_time": "2022-09-04T20:01:06.525908",
          "exception": false,
          "start_time": "2022-09-04T20:01:06.492189",
          "status": "completed"
        },
        "tags": []
      },
      "outputs": [],
      "source": []
    },
    {
      "cell_type": "code",
      "execution_count": 56,
      "id": "4a1d707a",
      "metadata": {
        "id": "4a1d707a",
        "papermill": {
          "duration": 0.035173,
          "end_time": "2022-09-04T20:01:06.597442",
          "exception": false,
          "start_time": "2022-09-04T20:01:06.562269",
          "status": "completed"
        },
        "tags": []
      },
      "outputs": [],
      "source": []
    },
    {
      "cell_type": "code",
      "execution_count": 56,
      "id": "91ed47b1",
      "metadata": {
        "id": "91ed47b1",
        "papermill": {
          "duration": 0.035594,
          "end_time": "2022-09-04T20:01:06.668413",
          "exception": false,
          "start_time": "2022-09-04T20:01:06.632819",
          "status": "completed"
        },
        "tags": []
      },
      "outputs": [],
      "source": []
    }
  ],
  "metadata": {
    "kernelspec": {
      "display_name": "Python 3",
      "language": "python",
      "name": "python3"
    },
    "language_info": {
      "codemirror_mode": {
        "name": "ipython",
        "version": 3
      },
      "file_extension": ".py",
      "mimetype": "text/x-python",
      "name": "python",
      "nbconvert_exporter": "python",
      "pygments_lexer": "ipython3",
      "version": "3.7.12"
    },
    "papermill": {
      "default_parameters": {},
      "duration": 133.558571,
      "end_time": "2022-09-04T20:01:07.727020",
      "environment_variables": {},
      "exception": null,
      "input_path": "__notebook__.ipynb",
      "output_path": "__notebook__.ipynb",
      "parameters": {},
      "start_time": "2022-09-04T19:58:54.168449",
      "version": "2.3.4"
    },
    "colab": {
      "provenance": []
    }
  },
  "nbformat": 4,
  "nbformat_minor": 5
}
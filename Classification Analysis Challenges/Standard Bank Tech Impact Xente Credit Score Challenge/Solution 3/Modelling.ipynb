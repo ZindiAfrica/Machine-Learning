{
 "cells": [
  {
   "cell_type": "code",
   "execution_count": 1,
   "metadata": {},
   "outputs": [],
   "source": [
    "import pandas as pd\n",
    "import numpy as np"
   ]
  },
  {
   "cell_type": "code",
   "execution_count": 2,
   "metadata": {},
   "outputs": [],
   "source": [
    "cleaned_train =pd.read_csv('cleaned_train.csv')\n",
    "cleaned_test =pd.read_csv('cleaned_test.csv')"
   ]
  },
  {
   "cell_type": "code",
   "execution_count": 3,
   "metadata": {},
   "outputs": [],
   "source": [
    "# There are 6 group fold, so do a train test on the 6 fold\n",
    "from sklearn.model_selection import train_test_split, KFold, GroupKFold\n",
    "from sklearn.linear_model import LogisticRegression\n",
    "from sklearn.metrics import  auc, roc_auc_score, roc_curve\n",
    "\n",
    "from sklearn.pipeline import make_pipeline"
   ]
  },
  {
   "cell_type": "code",
   "execution_count": 4,
   "metadata": {},
   "outputs": [],
   "source": [
    "cv_gen =  GroupKFold(n_splits=6).split(cleaned_train, cleaned_train.IsDefaulted, groups=cleaned_train.TransactionStartTimeMonth)\n",
    "cv = list(cv_gen)"
   ]
  },
  {
   "cell_type": "code",
   "execution_count": 5,
   "metadata": {},
   "outputs": [],
   "source": [
    "#right features for modelling\n",
    "train_col = [\n",
    "              'CustomerId_ProductId_ct',\n",
    "              'meanTransactionPerLoan',\n",
    "              'ext_data_Value_CustomerId_mean',\n",
    "              'ext_data_Value_CustomerId_max',\n",
    "              'ext_data_Value_CustomerId_std',\n",
    "              'ext_data_CustomerId_ProductCategory_Value_min',\n",
    "              'TransactionStartTimeWeek',\n",
    "              'Issue_Trans_Diff',\n",
    "              'DueDateIs_month_start',\n",
    "              'kmeans'\n",
    "            ]\n"
   ]
  },
  {
   "cell_type": "code",
   "execution_count": 6,
   "metadata": {},
   "outputs": [
    {
     "name": "stderr",
     "output_type": "stream",
     "text": [
      "C:\\Users\\adegunle\\lib\\site-packages\\sklearn\\ensemble\\weight_boosting.py:29: DeprecationWarning: numpy.core.umath_tests is an internal NumPy module and should not be imported. It will be removed in a future NumPy release.\n",
      "  from numpy.core.umath_tests import inner1d\n"
     ]
    }
   ],
   "source": [
    "from sklearn.ensemble import RandomForestClassifier"
   ]
  },
  {
   "cell_type": "code",
   "execution_count": 7,
   "metadata": {},
   "outputs": [
    {
     "name": "stdout",
     "output_type": "stream",
     "text": [
      "Fold  0\n",
      "0.9189427722036417\n",
      "Fold  1\n",
      "0.8156249999999999\n",
      "Fold  2\n",
      "0.9201680672268908\n",
      "Fold  3\n",
      "0.9680288461538461\n",
      "Fold  4\n",
      "0.8364779874213837\n",
      "Fold  5\n",
      "0.7857142857142857\n",
      "['CustomerId_ProductId_ct', 'meanTransactionPerLoan', 'ext_data_Value_CustomerId_mean', 'ext_data_Value_CustomerId_max', 'ext_data_Value_CustomerId_std', 'ext_data_CustomerId_ProductCategory_Value_min', 'TransactionStartTimeWeek', 'Issue_Trans_Diff', 'DueDateIs_month_start', 'kmeans']\n",
      "0.9148551196271901\n"
     ]
    }
   ],
   "source": [
    "oof = np.zeros(len(cleaned_train))\n",
    "Target_name=\"IsDefaulted\"\n",
    "not_used_cols=[Target_name,'TransactionStartTime']\n",
    "features_name=[ f for f in train_col if f not in not_used_cols]\n",
    "skf = GroupKFold(n_splits=6)\n",
    "for i, (idxT, idxV) in enumerate( skf.split(cleaned_train, cleaned_train.IsDefaulted, groups=cleaned_train.TransactionStartTimeMonth) ):\n",
    "\n",
    "    \n",
    "    \n",
    "    log_train = cleaned_train.loc[idxT,features_name]\n",
    "    log_test = cleaned_train.loc[idxV,features_name]\n",
    "\n",
    "\n",
    "    log_train_y = cleaned_train['IsDefaulted'][idxT]\n",
    "    log_test_y = cleaned_train['IsDefaulted'][idxV]\n",
    " \n",
    "\n",
    "    lr = RandomForestClassifier(random_state=2001, n_estimators=2000, max_depth=2,class_weight='balanced',min_samples_split=20,min_samples_leaf=20)\n",
    "\n",
    "    lr.fit(log_train,log_train_y)\n",
    "\n",
    "    pred = lr.predict_proba(log_test)[:,1]\n",
    "    oof[idxV] = pred\n",
    "\n",
    "    print('Fold ', i)\n",
    "    print (roc_auc_score(log_test_y, pred))\n",
    "print(features_name)\n",
    "print(roc_auc_score(cleaned_train['IsDefaulted'], oof))    "
   ]
  },
  {
   "cell_type": "code",
   "execution_count": 8,
   "metadata": {},
   "outputs": [],
   "source": [
    "from sklearn.ensemble import  RandomForestClassifier\n",
    "from sklearn.linear_model import LogisticRegression\n",
    "from sklearn.ensemble import  AdaBoostClassifier"
   ]
  },
  {
   "cell_type": "code",
   "execution_count": 9,
   "metadata": {},
   "outputs": [],
   "source": [
    "model =  LogisticRegression(random_state=2001)\n",
    "\n",
    "clf4 = AdaBoostClassifier(base_estimator =model, n_estimators=2000, learning_rate =0.2)"
   ]
  },
  {
   "cell_type": "code",
   "execution_count": 10,
   "metadata": {},
   "outputs": [
    {
     "data": {
      "text/plain": [
       "AdaBoostClassifier(algorithm='SAMME.R',\n",
       "          base_estimator=LogisticRegression(C=1.0, class_weight=None, dual=False, fit_intercept=True,\n",
       "          intercept_scaling=1, max_iter=100, multi_class='ovr', n_jobs=1,\n",
       "          penalty='l2', random_state=2001, solver='liblinear', tol=0.0001,\n",
       "          verbose=0, warm_start=False),\n",
       "          learning_rate=0.2, n_estimators=2000, random_state=None)"
      ]
     },
     "execution_count": 10,
     "metadata": {},
     "output_type": "execute_result"
    }
   ],
   "source": [
    "clf4.fit(cleaned_train[features_name], cleaned_train.IsDefaulted)"
   ]
  },
  {
   "cell_type": "code",
   "execution_count": 11,
   "metadata": {},
   "outputs": [],
   "source": [
    "test = pd.read_csv('Test.csv',parse_dates=['TransactionStartTime','IssuedDateLoan'])"
   ]
  },
  {
   "cell_type": "code",
   "execution_count": 12,
   "metadata": {},
   "outputs": [],
   "source": [
    "test['IsDefaulted'] = np.nan"
   ]
  },
  {
   "cell_type": "code",
   "execution_count": 13,
   "metadata": {},
   "outputs": [],
   "source": [
    "test.loc[cleaned_test.index, 'IsDefaulted']= clf4.predict_proba(cleaned_test[features_name])[:,1].round(3)"
   ]
  },
  {
   "cell_type": "code",
   "execution_count": 14,
   "metadata": {},
   "outputs": [],
   "source": [
    "pd.DataFrame({\"TransactionId\": test.TransactionId.values, 'IsDefaulted':test.IsDefaulted}).to_csv(\"ada.csv\", index=False)"
   ]
  },
  {
   "cell_type": "code",
   "execution_count": 15,
   "metadata": {},
   "outputs": [
    {
     "data": {
      "text/html": [
       "<div>\n",
       "<style scoped>\n",
       "    .dataframe tbody tr th:only-of-type {\n",
       "        vertical-align: middle;\n",
       "    }\n",
       "\n",
       "    .dataframe tbody tr th {\n",
       "        vertical-align: top;\n",
       "    }\n",
       "\n",
       "    .dataframe thead th {\n",
       "        text-align: right;\n",
       "    }\n",
       "</style>\n",
       "<table border=\"1\" class=\"dataframe\">\n",
       "  <thead>\n",
       "    <tr style=\"text-align: right;\">\n",
       "      <th></th>\n",
       "      <th>TransactionId</th>\n",
       "      <th>IsDefaulted</th>\n",
       "    </tr>\n",
       "  </thead>\n",
       "  <tbody>\n",
       "    <tr>\n",
       "      <th>0</th>\n",
       "      <td>TransactionId_925</td>\n",
       "      <td>0.492</td>\n",
       "    </tr>\n",
       "    <tr>\n",
       "      <th>1</th>\n",
       "      <td>TransactionId_1080</td>\n",
       "      <td>0.495</td>\n",
       "    </tr>\n",
       "    <tr>\n",
       "      <th>2</th>\n",
       "      <td>TransactionId_2315</td>\n",
       "      <td>0.496</td>\n",
       "    </tr>\n",
       "    <tr>\n",
       "      <th>3</th>\n",
       "      <td>TransactionId_1466</td>\n",
       "      <td>0.496</td>\n",
       "    </tr>\n",
       "    <tr>\n",
       "      <th>4</th>\n",
       "      <td>TransactionId_337</td>\n",
       "      <td>0.496</td>\n",
       "    </tr>\n",
       "  </tbody>\n",
       "</table>\n",
       "</div>"
      ],
      "text/plain": [
       "        TransactionId  IsDefaulted\n",
       "0   TransactionId_925        0.492\n",
       "1  TransactionId_1080        0.495\n",
       "2  TransactionId_2315        0.496\n",
       "3  TransactionId_1466        0.496\n",
       "4   TransactionId_337        0.496"
      ]
     },
     "execution_count": 15,
     "metadata": {},
     "output_type": "execute_result"
    }
   ],
   "source": [
    "predict =pd.read_csv('ada.csv');predict.head()"
   ]
  },
  {
   "cell_type": "code",
   "execution_count": null,
   "metadata": {},
   "outputs": [],
   "source": []
  }
 ],
 "metadata": {
  "kernelspec": {
   "display_name": "Python 3",
   "language": "python",
   "name": "python3"
  },
  "language_info": {
   "codemirror_mode": {
    "name": "ipython",
    "version": 3
   },
   "file_extension": ".py",
   "mimetype": "text/x-python",
   "name": "python",
   "nbconvert_exporter": "python",
   "pygments_lexer": "ipython3",
   "version": "3.7.0"
  }
 },
 "nbformat": 4,
 "nbformat_minor": 2
}

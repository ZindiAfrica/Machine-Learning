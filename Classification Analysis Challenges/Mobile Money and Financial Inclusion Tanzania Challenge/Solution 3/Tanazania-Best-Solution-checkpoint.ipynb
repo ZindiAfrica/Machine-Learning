{
 "cells": [
  {
   "cell_type": "code",
   "execution_count": 2,
   "metadata": {
    "collapsed": false
   },
   "outputs": [
    {
     "name": "stderr",
     "output_type": "stream",
     "text": [
      "C:\\Users\\Raheem Nasiru\\Anaconda3\\lib\\site-packages\\sklearn\\cross_validation.py:44: DeprecationWarning: This module was deprecated in version 0.18 in favor of the model_selection module into which all the refactored classes and functions are moved. Also note that the interface of the new CV iterators are different from that of this module. This module will be removed in 0.20.\n",
      "  \"This module will be removed in 0.20.\", DeprecationWarning)\n"
     ]
    }
   ],
   "source": [
    "import pandas as pd #for data reading and manupulation\n",
    "import numpy as np # for data manupulation\n",
    "import matplotlib.pyplot as plt # for data Visualization\n",
    "import seaborn as sns # for data Visualization\n",
    "%matplotlib inline\n",
    "from sklearn.ensemble import GradientBoostingClassifier, RandomForestClassifier, BaggingClassifier, AdaBoostClassifier\n",
    "from sklearn.cross_validation import train_test_split,cross_val_score, cross_val_predict\n",
    "from xgboost import XGBClassifier\n",
    "from sklearn.linear_model import LogisticRegression\n",
    "from sklearn.naive_bayes import MultinomialNB\n",
    "from sklearn.linear_model import SGDClassifier\n",
    "from sklearn.linear_model import LogisticRegression\n",
    "from sklearn.multiclass import OneVsRestClassifier\n",
    "from sklearn.metrics import hamming_loss\n",
    "from sklearn.feature_extraction.text import TfidfVectorizer"
   ]
  },
  {
   "cell_type": "code",
   "execution_count": 3,
   "metadata": {
    "collapsed": true
   },
   "outputs": [],
   "source": [
    "train = pd.read_csv('Enriched_training_nas.csv')\n",
    "test = pd.read_csv('Enriched_mobile_test_nas.csv')"
   ]
  },
  {
   "cell_type": "code",
   "execution_count": 4,
   "metadata": {
    "collapsed": false
   },
   "outputs": [
    {
     "name": "stderr",
     "output_type": "stream",
     "text": [
      "C:\\Users\\Raheem Nasiru\\Anaconda3\\lib\\site-packages\\IPython\\core\\interactiveshell.py:2717: DtypeWarning: Columns (26,32,33,42,74) have mixed types. Specify dtype option on import or set low_memory=False.\n",
      "  interactivity=interactivity, compiler=compiler, result=result)\n"
     ]
    }
   ],
   "source": [
    "mob = pd.read_csv('mobilemoney_agents_for_upload_win.csv', encoding='latin')"
   ]
  },
  {
   "cell_type": "code",
   "execution_count": 5,
   "metadata": {
    "collapsed": false
   },
   "outputs": [],
   "source": [
    "map_train = pd.read_csv('nas_train') # region and disrict file\n",
    "map_tests = pd.read_csv('nas_test')"
   ]
  },
  {
   "cell_type": "code",
   "execution_count": 6,
   "metadata": {
    "collapsed": false
   },
   "outputs": [
    {
     "data": {
      "text/plain": [
       "array(['Arusha', 'Manyara', 'Pwani', 'Shinyanga', 'Kagera', 'Mara',\n",
       "       'Mbeya', 'Dodoma', 'Mwanza', 'Kilimanjaro', 'Tanga', 'Tabora',\n",
       "       'Dar es Salaam', 'Singida', 'Iringa', 'Kigoma', 'Morogoro', 'Lindi',\n",
       "       'Mtwara', 'Ruvuma', 'Rukwa', 'Zanzibar'], dtype=object)"
      ]
     },
     "execution_count": 6,
     "metadata": {},
     "output_type": "execute_result"
    }
   ],
   "source": [
    "map_train['region'].unique()"
   ]
  },
  {
   "cell_type": "code",
   "execution_count": 7,
   "metadata": {
    "collapsed": false
   },
   "outputs": [
    {
     "data": {
      "text/html": [
       "<div>\n",
       "<table border=\"1\" class=\"dataframe\">\n",
       "  <thead>\n",
       "    <tr style=\"text-align: right;\">\n",
       "      <th></th>\n",
       "      <th>OBJECTID</th>\n",
       "      <th>ID</th>\n",
       "      <th>Q1</th>\n",
       "      <th>Q2</th>\n",
       "      <th>Q3</th>\n",
       "      <th>Q4</th>\n",
       "      <th>Q5</th>\n",
       "      <th>Q6</th>\n",
       "      <th>Q7</th>\n",
       "      <th>Q8_1</th>\n",
       "      <th>...</th>\n",
       "      <th>Population to polygon size rating for the country</th>\n",
       "      <th>Apportionment confidence for the country</th>\n",
       "      <th>HasData</th>\n",
       "      <th>2016 Total Population</th>\n",
       "      <th>2016 Purchasing Power: Total</th>\n",
       "      <th>2016 Pop 25+/Edu: Primary</th>\n",
       "      <th>2016 Pop 25+/Edu: Secondary</th>\n",
       "      <th>2016 Pop 25+/Edu: University/Related</th>\n",
       "      <th>x</th>\n",
       "      <th>y</th>\n",
       "    </tr>\n",
       "  </thead>\n",
       "  <tbody>\n",
       "    <tr>\n",
       "      <th>0</th>\n",
       "      <td>1</td>\n",
       "      <td>5086</td>\n",
       "      <td>98</td>\n",
       "      <td>2</td>\n",
       "      <td>3</td>\n",
       "      <td>1</td>\n",
       "      <td>1</td>\n",
       "      <td>2</td>\n",
       "      <td>2</td>\n",
       "      <td>0</td>\n",
       "      <td>...</td>\n",
       "      <td>2.834</td>\n",
       "      <td>2.614</td>\n",
       "      <td>1</td>\n",
       "      <td>4142.0</td>\n",
       "      <td>3.386526e+09</td>\n",
       "      <td>1229.0</td>\n",
       "      <td>111.0</td>\n",
       "      <td>11.0</td>\n",
       "      <td>29.811396</td>\n",
       "      <td>-4.460442</td>\n",
       "    </tr>\n",
       "    <tr>\n",
       "      <th>1</th>\n",
       "      <td>2</td>\n",
       "      <td>1258</td>\n",
       "      <td>40</td>\n",
       "      <td>1</td>\n",
       "      <td>1</td>\n",
       "      <td>3</td>\n",
       "      <td>5</td>\n",
       "      <td>1</td>\n",
       "      <td>1</td>\n",
       "      <td>1</td>\n",
       "      <td>...</td>\n",
       "      <td>2.834</td>\n",
       "      <td>2.614</td>\n",
       "      <td>1</td>\n",
       "      <td>76383.0</td>\n",
       "      <td>1.421899e+11</td>\n",
       "      <td>4664.0</td>\n",
       "      <td>21664.0</td>\n",
       "      <td>1461.0</td>\n",
       "      <td>39.244871</td>\n",
       "      <td>-6.176438</td>\n",
       "    </tr>\n",
       "    <tr>\n",
       "      <th>2</th>\n",
       "      <td>3</td>\n",
       "      <td>331</td>\n",
       "      <td>18</td>\n",
       "      <td>2</td>\n",
       "      <td>4</td>\n",
       "      <td>6</td>\n",
       "      <td>3</td>\n",
       "      <td>2</td>\n",
       "      <td>1</td>\n",
       "      <td>0</td>\n",
       "      <td>...</td>\n",
       "      <td>2.834</td>\n",
       "      <td>2.614</td>\n",
       "      <td>1</td>\n",
       "      <td>109482.0</td>\n",
       "      <td>1.167192e+11</td>\n",
       "      <td>37082.0</td>\n",
       "      <td>4785.0</td>\n",
       "      <td>598.0</td>\n",
       "      <td>37.652798</td>\n",
       "      <td>-6.825702</td>\n",
       "    </tr>\n",
       "    <tr>\n",
       "      <th>3</th>\n",
       "      <td>4</td>\n",
       "      <td>6729</td>\n",
       "      <td>50</td>\n",
       "      <td>1</td>\n",
       "      <td>1</td>\n",
       "      <td>3</td>\n",
       "      <td>1</td>\n",
       "      <td>1</td>\n",
       "      <td>1</td>\n",
       "      <td>0</td>\n",
       "      <td>...</td>\n",
       "      <td>2.834</td>\n",
       "      <td>2.614</td>\n",
       "      <td>1</td>\n",
       "      <td>2111.0</td>\n",
       "      <td>2.794528e+09</td>\n",
       "      <td>569.0</td>\n",
       "      <td>144.0</td>\n",
       "      <td>27.0</td>\n",
       "      <td>35.808307</td>\n",
       "      <td>-3.372049</td>\n",
       "    </tr>\n",
       "    <tr>\n",
       "      <th>4</th>\n",
       "      <td>5</td>\n",
       "      <td>8671</td>\n",
       "      <td>34</td>\n",
       "      <td>1</td>\n",
       "      <td>1</td>\n",
       "      <td>1</td>\n",
       "      <td>1</td>\n",
       "      <td>2</td>\n",
       "      <td>1</td>\n",
       "      <td>0</td>\n",
       "      <td>...</td>\n",
       "      <td>2.834</td>\n",
       "      <td>2.614</td>\n",
       "      <td>0</td>\n",
       "      <td>0.0</td>\n",
       "      <td>0.000000e+00</td>\n",
       "      <td>0.0</td>\n",
       "      <td>0.0</td>\n",
       "      <td>0.0</td>\n",
       "      <td>31.039095</td>\n",
       "      <td>-7.179645</td>\n",
       "    </tr>\n",
       "  </tbody>\n",
       "</table>\n",
       "<p>5 rows × 56 columns</p>\n",
       "</div>"
      ],
      "text/plain": [
       "   OBJECTID    ID  Q1  Q2  Q3  Q4  Q5  Q6  Q7  Q8_1    ...     \\\n",
       "0         1  5086  98   2   3   1   1   2   2     0    ...      \n",
       "1         2  1258  40   1   1   3   5   1   1     1    ...      \n",
       "2         3   331  18   2   4   6   3   2   1     0    ...      \n",
       "3         4  6729  50   1   1   3   1   1   1     0    ...      \n",
       "4         5  8671  34   1   1   1   1   2   1     0    ...      \n",
       "\n",
       "   Population to polygon size rating for the country  \\\n",
       "0                                              2.834   \n",
       "1                                              2.834   \n",
       "2                                              2.834   \n",
       "3                                              2.834   \n",
       "4                                              2.834   \n",
       "\n",
       "   Apportionment confidence for the country  HasData  2016 Total Population  \\\n",
       "0                                     2.614        1                 4142.0   \n",
       "1                                     2.614        1                76383.0   \n",
       "2                                     2.614        1               109482.0   \n",
       "3                                     2.614        1                 2111.0   \n",
       "4                                     2.614        0                    0.0   \n",
       "\n",
       "   2016 Purchasing Power: Total  2016 Pop 25+/Edu: Primary  \\\n",
       "0                  3.386526e+09                     1229.0   \n",
       "1                  1.421899e+11                     4664.0   \n",
       "2                  1.167192e+11                    37082.0   \n",
       "3                  2.794528e+09                      569.0   \n",
       "4                  0.000000e+00                        0.0   \n",
       "\n",
       "   2016 Pop 25+/Edu: Secondary  2016 Pop 25+/Edu: University/Related  \\\n",
       "0                        111.0                                  11.0   \n",
       "1                      21664.0                                1461.0   \n",
       "2                       4785.0                                 598.0   \n",
       "3                        144.0                                  27.0   \n",
       "4                          0.0                                   0.0   \n",
       "\n",
       "           x         y  \n",
       "0  29.811396 -4.460442  \n",
       "1  39.244871 -6.176438  \n",
       "2  37.652798 -6.825702  \n",
       "3  35.808307 -3.372049  \n",
       "4  31.039095 -7.179645  \n",
       "\n",
       "[5 rows x 56 columns]"
      ]
     },
     "execution_count": 7,
     "metadata": {},
     "output_type": "execute_result"
    }
   ],
   "source": [
    "train.head()"
   ]
  },
  {
   "cell_type": "code",
   "execution_count": 8,
   "metadata": {
    "collapsed": false
   },
   "outputs": [
    {
     "data": {
      "text/html": [
       "<div>\n",
       "<table border=\"1\" class=\"dataframe\">\n",
       "  <thead>\n",
       "    <tr style=\"text-align: right;\">\n",
       "      <th></th>\n",
       "      <th>OBJECTID</th>\n",
       "      <th>ID</th>\n",
       "      <th>Q1</th>\n",
       "      <th>Q2</th>\n",
       "      <th>Q3</th>\n",
       "      <th>Q4</th>\n",
       "      <th>Q5</th>\n",
       "      <th>Q6</th>\n",
       "      <th>Q7</th>\n",
       "      <th>Q8_1</th>\n",
       "      <th>...</th>\n",
       "      <th>bufferRadii</th>\n",
       "      <th>aggregationMethod</th>\n",
       "      <th>Population to polygon size rating for the country</th>\n",
       "      <th>Apportionment confidence for the country</th>\n",
       "      <th>HasData</th>\n",
       "      <th>2016 Total Population</th>\n",
       "      <th>2016 Purchasing Power: Total</th>\n",
       "      <th>2016 Total Households</th>\n",
       "      <th>x</th>\n",
       "      <th>y</th>\n",
       "    </tr>\n",
       "  </thead>\n",
       "  <tbody>\n",
       "    <tr>\n",
       "      <th>0</th>\n",
       "      <td>1</td>\n",
       "      <td>3669</td>\n",
       "      <td>36</td>\n",
       "      <td>2</td>\n",
       "      <td>2</td>\n",
       "      <td>3</td>\n",
       "      <td>1</td>\n",
       "      <td>1</td>\n",
       "      <td>1</td>\n",
       "      <td>0</td>\n",
       "      <td>...</td>\n",
       "      <td>1.0</td>\n",
       "      <td>BlockApportionment:TZ.Regions</td>\n",
       "      <td>2.834</td>\n",
       "      <td>2.614</td>\n",
       "      <td>1</td>\n",
       "      <td>170.0</td>\n",
       "      <td>1.867756e+08</td>\n",
       "      <td>41.0</td>\n",
       "      <td>34.672094</td>\n",
       "      <td>-8.907215</td>\n",
       "    </tr>\n",
       "    <tr>\n",
       "      <th>1</th>\n",
       "      <td>2</td>\n",
       "      <td>5223</td>\n",
       "      <td>27</td>\n",
       "      <td>1</td>\n",
       "      <td>1</td>\n",
       "      <td>3</td>\n",
       "      <td>1</td>\n",
       "      <td>2</td>\n",
       "      <td>1</td>\n",
       "      <td>0</td>\n",
       "      <td>...</td>\n",
       "      <td>1.0</td>\n",
       "      <td>BlockApportionment:TZ.Regions</td>\n",
       "      <td>2.834</td>\n",
       "      <td>2.614</td>\n",
       "      <td>1</td>\n",
       "      <td>561.0</td>\n",
       "      <td>6.552594e+08</td>\n",
       "      <td>132.0</td>\n",
       "      <td>35.997953</td>\n",
       "      <td>-8.204943</td>\n",
       "    </tr>\n",
       "    <tr>\n",
       "      <th>2</th>\n",
       "      <td>3</td>\n",
       "      <td>7275</td>\n",
       "      <td>25</td>\n",
       "      <td>2</td>\n",
       "      <td>4</td>\n",
       "      <td>6</td>\n",
       "      <td>5</td>\n",
       "      <td>2</td>\n",
       "      <td>1</td>\n",
       "      <td>0</td>\n",
       "      <td>...</td>\n",
       "      <td>1.0</td>\n",
       "      <td>BlockApportionment:TZ.Regions</td>\n",
       "      <td>2.834</td>\n",
       "      <td>2.614</td>\n",
       "      <td>1</td>\n",
       "      <td>10523.0</td>\n",
       "      <td>9.366909e+09</td>\n",
       "      <td>1776.0</td>\n",
       "      <td>32.407155</td>\n",
       "      <td>-4.100044</td>\n",
       "    </tr>\n",
       "    <tr>\n",
       "      <th>3</th>\n",
       "      <td>4</td>\n",
       "      <td>7459</td>\n",
       "      <td>32</td>\n",
       "      <td>1</td>\n",
       "      <td>1</td>\n",
       "      <td>1</td>\n",
       "      <td>1</td>\n",
       "      <td>2</td>\n",
       "      <td>1</td>\n",
       "      <td>0</td>\n",
       "      <td>...</td>\n",
       "      <td>1.0</td>\n",
       "      <td>BlockApportionment:TZ.Regions</td>\n",
       "      <td>2.834</td>\n",
       "      <td>2.614</td>\n",
       "      <td>0</td>\n",
       "      <td>0.0</td>\n",
       "      <td>0.000000e+00</td>\n",
       "      <td>0.0</td>\n",
       "      <td>32.242549</td>\n",
       "      <td>-4.054934</td>\n",
       "    </tr>\n",
       "    <tr>\n",
       "      <th>4</th>\n",
       "      <td>5</td>\n",
       "      <td>3547</td>\n",
       "      <td>39</td>\n",
       "      <td>1</td>\n",
       "      <td>1</td>\n",
       "      <td>6</td>\n",
       "      <td>1</td>\n",
       "      <td>2</td>\n",
       "      <td>1</td>\n",
       "      <td>0</td>\n",
       "      <td>...</td>\n",
       "      <td>1.0</td>\n",
       "      <td>BlockApportionment:TZ.Regions</td>\n",
       "      <td>2.834</td>\n",
       "      <td>2.614</td>\n",
       "      <td>0</td>\n",
       "      <td>0.0</td>\n",
       "      <td>0.000000e+00</td>\n",
       "      <td>0.0</td>\n",
       "      <td>31.730506</td>\n",
       "      <td>-2.888644</td>\n",
       "    </tr>\n",
       "  </tbody>\n",
       "</table>\n",
       "<p>5 rows × 49 columns</p>\n",
       "</div>"
      ],
      "text/plain": [
       "   OBJECTID    ID  Q1  Q2  Q3  Q4  Q5  Q6  Q7  Q8_1    ...     bufferRadii  \\\n",
       "0         1  3669  36   2   2   3   1   1   1     0    ...             1.0   \n",
       "1         2  5223  27   1   1   3   1   2   1     0    ...             1.0   \n",
       "2         3  7275  25   2   4   6   5   2   1     0    ...             1.0   \n",
       "3         4  7459  32   1   1   1   1   2   1     0    ...             1.0   \n",
       "4         5  3547  39   1   1   6   1   2   1     0    ...             1.0   \n",
       "\n",
       "               aggregationMethod  \\\n",
       "0  BlockApportionment:TZ.Regions   \n",
       "1  BlockApportionment:TZ.Regions   \n",
       "2  BlockApportionment:TZ.Regions   \n",
       "3  BlockApportionment:TZ.Regions   \n",
       "4  BlockApportionment:TZ.Regions   \n",
       "\n",
       "   Population to polygon size rating for the country  \\\n",
       "0                                              2.834   \n",
       "1                                              2.834   \n",
       "2                                              2.834   \n",
       "3                                              2.834   \n",
       "4                                              2.834   \n",
       "\n",
       "   Apportionment confidence for the country  HasData  2016 Total Population  \\\n",
       "0                                     2.614        1                  170.0   \n",
       "1                                     2.614        1                  561.0   \n",
       "2                                     2.614        1                10523.0   \n",
       "3                                     2.614        0                    0.0   \n",
       "4                                     2.614        0                    0.0   \n",
       "\n",
       "   2016 Purchasing Power: Total  2016 Total Households          x         y  \n",
       "0                  1.867756e+08                   41.0  34.672094 -8.907215  \n",
       "1                  6.552594e+08                  132.0  35.997953 -8.204943  \n",
       "2                  9.366909e+09                 1776.0  32.407155 -4.100044  \n",
       "3                  0.000000e+00                    0.0  32.242549 -4.054934  \n",
       "4                  0.000000e+00                    0.0  31.730506 -2.888644  \n",
       "\n",
       "[5 rows x 49 columns]"
      ]
     },
     "execution_count": 8,
     "metadata": {},
     "output_type": "execute_result"
    }
   ],
   "source": [
    "test.head()"
   ]
  },
  {
   "cell_type": "code",
   "execution_count": 9,
   "metadata": {
    "collapsed": false
   },
   "outputs": [
    {
     "data": {
      "text/plain": [
       "Index(['OBJECTID', 'ID', 'Q1', 'Q2', 'Q3', 'Q4', 'Q5', 'Q6', 'Q7', 'Q8_1',\n",
       "       'Q8_2', 'Q8_3', 'Q8_4', 'Q8_5', 'Q8_6', 'Q8_7', 'Q8_8', 'Q8_9', 'Q8_10',\n",
       "       'Q8_11', 'Q9', 'Q10', 'Q11', 'Q12', 'Q13', 'Q14', 'Q15', 'Q16', 'Q17',\n",
       "       'Q18', 'Q19', 'Latitude', 'Longitude', 'mobile_money', 'savings',\n",
       "       'borrowing', 'insurance', 'mobile_money_classification', 'ID.1',\n",
       "       'sourceCountry', 'ENRICH_FID', 'areaType', 'bufferUnits',\n",
       "       'bufferUnitsAlias', 'bufferRadii', 'aggregationMethod',\n",
       "       'Population to polygon size rating for the country',\n",
       "       'Apportionment confidence for the country', 'HasData',\n",
       "       '2016 Total Population', '2016 Purchasing Power: Total',\n",
       "       '2016 Pop 25+/Edu: Primary', '2016 Pop 25+/Edu: Secondary',\n",
       "       '2016 Pop 25+/Edu: University/Related', 'x', 'y'],\n",
       "      dtype='object')"
      ]
     },
     "execution_count": 9,
     "metadata": {},
     "output_type": "execute_result"
    }
   ],
   "source": [
    "train.columns"
   ]
  },
  {
   "cell_type": "code",
   "execution_count": 10,
   "metadata": {
    "collapsed": false
   },
   "outputs": [
    {
     "data": {
      "text/plain": [
       "Index(['OBJECTID', 'ID', 'Q1', 'Q2', 'Q3', 'Q4', 'Q5', 'Q6', 'Q7', 'Q8_1',\n",
       "       'Q8_2', 'Q8_3', 'Q8_4', 'Q8_5', 'Q8_6', 'Q8_7', 'Q8_8', 'Q8_9', 'Q8_10',\n",
       "       'Q8_11', 'Q9', 'Q10', 'Q11', 'Q12', 'Q13', 'Q14', 'Q15', 'Q16', 'Q17',\n",
       "       'Q18', 'Q19', 'Latitude', 'Longitude', 'ID.1', 'sourceCountry',\n",
       "       'ENRICH_FID', 'areaType', 'bufferUnits', 'bufferUnitsAlias',\n",
       "       'bufferRadii', 'aggregationMethod',\n",
       "       'Population to polygon size rating for the country',\n",
       "       'Apportionment confidence for the country', 'HasData',\n",
       "       '2016 Total Population', '2016 Purchasing Power: Total',\n",
       "       '2016 Total Households', 'x', 'y'],\n",
       "      dtype='object')"
      ]
     },
     "execution_count": 10,
     "metadata": {},
     "output_type": "execute_result"
    }
   ],
   "source": [
    "test.columns"
   ]
  },
  {
   "cell_type": "code",
   "execution_count": 11,
   "metadata": {
    "collapsed": false
   },
   "outputs": [],
   "source": [
    "mobile = train['mobile_money_classification']"
   ]
  },
  {
   "cell_type": "code",
   "execution_count": 12,
   "metadata": {
    "collapsed": false
   },
   "outputs": [],
   "source": [
    "train = train.drop(['mobile_money', 'savings', 'borrowing', 'insurance', 'mobile_money_classification'], axis=1)"
   ]
  },
  {
   "cell_type": "code",
   "execution_count": 13,
   "metadata": {
    "collapsed": true
   },
   "outputs": [],
   "source": [
    "# storing number of rows as an a variable for later use\n",
    "len_train=train.shape[0]"
   ]
  },
  {
   "cell_type": "code",
   "execution_count": 14,
   "metadata": {
    "collapsed": false
   },
   "outputs": [],
   "source": [
    "test = test.drop(['OBJECTID','ID.1', 'sourceCountry',\n",
    "       'ENRICH_FID', 'areaType', 'bufferUnits', 'bufferUnitsAlias',\n",
    "       'bufferRadii', 'aggregationMethod',\n",
    "       'Population to polygon size rating for the country',\n",
    "       'Apportionment confidence for the country','2016 Total Households', 'x', 'y'], axis=1)"
   ]
  },
  {
   "cell_type": "code",
   "execution_count": 15,
   "metadata": {
    "collapsed": true
   },
   "outputs": [],
   "source": [
    "train = train.drop(['OBJECTID', 'ID.1', 'sourceCountry',\n",
    "       'ENRICH_FID', 'areaType', 'bufferUnits', 'bufferUnitsAlias',\n",
    "       'bufferRadii', 'aggregationMethod',\n",
    "       'Population to polygon size rating for the country',\n",
    "       'Apportionment confidence for the country','2016 Pop 25+/Edu: Primary', '2016 Pop 25+/Edu: Secondary',\n",
    "       '2016 Pop 25+/Edu: University/Related', 'x', 'y'], axis=1)"
   ]
  },
  {
   "cell_type": "code",
   "execution_count": 16,
   "metadata": {
    "collapsed": false
   },
   "outputs": [
    {
     "data": {
      "text/html": [
       "<div>\n",
       "<table border=\"1\" class=\"dataframe\">\n",
       "  <thead>\n",
       "    <tr style=\"text-align: right;\">\n",
       "      <th></th>\n",
       "      <th>ID</th>\n",
       "      <th>Q1</th>\n",
       "      <th>Q2</th>\n",
       "      <th>Q3</th>\n",
       "      <th>Q4</th>\n",
       "      <th>Q5</th>\n",
       "      <th>Q6</th>\n",
       "      <th>Q7</th>\n",
       "      <th>Q8_1</th>\n",
       "      <th>Q8_2</th>\n",
       "      <th>...</th>\n",
       "      <th>Q15</th>\n",
       "      <th>Q16</th>\n",
       "      <th>Q17</th>\n",
       "      <th>Q18</th>\n",
       "      <th>Q19</th>\n",
       "      <th>Latitude</th>\n",
       "      <th>Longitude</th>\n",
       "      <th>HasData</th>\n",
       "      <th>2016 Total Population</th>\n",
       "      <th>2016 Purchasing Power: Total</th>\n",
       "    </tr>\n",
       "  </thead>\n",
       "  <tbody>\n",
       "    <tr>\n",
       "      <th>0</th>\n",
       "      <td>5086</td>\n",
       "      <td>98</td>\n",
       "      <td>2</td>\n",
       "      <td>3</td>\n",
       "      <td>1</td>\n",
       "      <td>1</td>\n",
       "      <td>2</td>\n",
       "      <td>2</td>\n",
       "      <td>0</td>\n",
       "      <td>0</td>\n",
       "      <td>...</td>\n",
       "      <td>-1</td>\n",
       "      <td>1</td>\n",
       "      <td>-1</td>\n",
       "      <td>4</td>\n",
       "      <td>4</td>\n",
       "      <td>-4.460442</td>\n",
       "      <td>29.811396</td>\n",
       "      <td>1</td>\n",
       "      <td>4142.0</td>\n",
       "      <td>3.386526e+09</td>\n",
       "    </tr>\n",
       "    <tr>\n",
       "      <th>1</th>\n",
       "      <td>1258</td>\n",
       "      <td>40</td>\n",
       "      <td>1</td>\n",
       "      <td>1</td>\n",
       "      <td>3</td>\n",
       "      <td>5</td>\n",
       "      <td>1</td>\n",
       "      <td>1</td>\n",
       "      <td>1</td>\n",
       "      <td>0</td>\n",
       "      <td>...</td>\n",
       "      <td>5</td>\n",
       "      <td>4</td>\n",
       "      <td>4</td>\n",
       "      <td>1</td>\n",
       "      <td>4</td>\n",
       "      <td>-6.176438</td>\n",
       "      <td>39.244871</td>\n",
       "      <td>1</td>\n",
       "      <td>76383.0</td>\n",
       "      <td>1.421899e+11</td>\n",
       "    </tr>\n",
       "    <tr>\n",
       "      <th>2</th>\n",
       "      <td>331</td>\n",
       "      <td>18</td>\n",
       "      <td>2</td>\n",
       "      <td>4</td>\n",
       "      <td>6</td>\n",
       "      <td>3</td>\n",
       "      <td>2</td>\n",
       "      <td>1</td>\n",
       "      <td>0</td>\n",
       "      <td>0</td>\n",
       "      <td>...</td>\n",
       "      <td>-1</td>\n",
       "      <td>1</td>\n",
       "      <td>-1</td>\n",
       "      <td>1</td>\n",
       "      <td>1</td>\n",
       "      <td>-6.825702</td>\n",
       "      <td>37.652798</td>\n",
       "      <td>1</td>\n",
       "      <td>109482.0</td>\n",
       "      <td>1.167192e+11</td>\n",
       "    </tr>\n",
       "    <tr>\n",
       "      <th>3</th>\n",
       "      <td>6729</td>\n",
       "      <td>50</td>\n",
       "      <td>1</td>\n",
       "      <td>1</td>\n",
       "      <td>3</td>\n",
       "      <td>1</td>\n",
       "      <td>1</td>\n",
       "      <td>1</td>\n",
       "      <td>0</td>\n",
       "      <td>0</td>\n",
       "      <td>...</td>\n",
       "      <td>-1</td>\n",
       "      <td>4</td>\n",
       "      <td>-1</td>\n",
       "      <td>1</td>\n",
       "      <td>4</td>\n",
       "      <td>-3.372049</td>\n",
       "      <td>35.808307</td>\n",
       "      <td>1</td>\n",
       "      <td>2111.0</td>\n",
       "      <td>2.794528e+09</td>\n",
       "    </tr>\n",
       "    <tr>\n",
       "      <th>4</th>\n",
       "      <td>8671</td>\n",
       "      <td>34</td>\n",
       "      <td>1</td>\n",
       "      <td>1</td>\n",
       "      <td>1</td>\n",
       "      <td>1</td>\n",
       "      <td>2</td>\n",
       "      <td>1</td>\n",
       "      <td>0</td>\n",
       "      <td>1</td>\n",
       "      <td>...</td>\n",
       "      <td>1</td>\n",
       "      <td>1</td>\n",
       "      <td>-1</td>\n",
       "      <td>1</td>\n",
       "      <td>4</td>\n",
       "      <td>-7.179645</td>\n",
       "      <td>31.039095</td>\n",
       "      <td>0</td>\n",
       "      <td>0.0</td>\n",
       "      <td>0.000000e+00</td>\n",
       "    </tr>\n",
       "  </tbody>\n",
       "</table>\n",
       "<p>5 rows × 35 columns</p>\n",
       "</div>"
      ],
      "text/plain": [
       "     ID  Q1  Q2  Q3  Q4  Q5  Q6  Q7  Q8_1  Q8_2              ...               \\\n",
       "0  5086  98   2   3   1   1   2   2     0     0              ...                \n",
       "1  1258  40   1   1   3   5   1   1     1     0              ...                \n",
       "2   331  18   2   4   6   3   2   1     0     0              ...                \n",
       "3  6729  50   1   1   3   1   1   1     0     0              ...                \n",
       "4  8671  34   1   1   1   1   2   1     0     1              ...                \n",
       "\n",
       "   Q15  Q16  Q17  Q18  Q19  Latitude  Longitude  HasData  \\\n",
       "0   -1    1   -1    4    4 -4.460442  29.811396        1   \n",
       "1    5    4    4    1    4 -6.176438  39.244871        1   \n",
       "2   -1    1   -1    1    1 -6.825702  37.652798        1   \n",
       "3   -1    4   -1    1    4 -3.372049  35.808307        1   \n",
       "4    1    1   -1    1    4 -7.179645  31.039095        0   \n",
       "\n",
       "   2016 Total Population  2016 Purchasing Power: Total  \n",
       "0                 4142.0                  3.386526e+09  \n",
       "1                76383.0                  1.421899e+11  \n",
       "2               109482.0                  1.167192e+11  \n",
       "3                 2111.0                  2.794528e+09  \n",
       "4                    0.0                  0.000000e+00  \n",
       "\n",
       "[5 rows x 35 columns]"
      ]
     },
     "execution_count": 16,
     "metadata": {},
     "output_type": "execute_result"
    }
   ],
   "source": [
    "train.head()"
   ]
  },
  {
   "cell_type": "code",
   "execution_count": 17,
   "metadata": {
    "collapsed": false
   },
   "outputs": [
    {
     "data": {
      "text/html": [
       "<div>\n",
       "<table border=\"1\" class=\"dataframe\">\n",
       "  <thead>\n",
       "    <tr style=\"text-align: right;\">\n",
       "      <th></th>\n",
       "      <th>ID</th>\n",
       "      <th>Q1</th>\n",
       "      <th>Q2</th>\n",
       "      <th>Q3</th>\n",
       "      <th>Q4</th>\n",
       "      <th>Q5</th>\n",
       "      <th>Q6</th>\n",
       "      <th>Q7</th>\n",
       "      <th>Q8_1</th>\n",
       "      <th>Q8_2</th>\n",
       "      <th>...</th>\n",
       "      <th>Q15</th>\n",
       "      <th>Q16</th>\n",
       "      <th>Q17</th>\n",
       "      <th>Q18</th>\n",
       "      <th>Q19</th>\n",
       "      <th>Latitude</th>\n",
       "      <th>Longitude</th>\n",
       "      <th>HasData</th>\n",
       "      <th>2016 Total Population</th>\n",
       "      <th>2016 Purchasing Power: Total</th>\n",
       "    </tr>\n",
       "  </thead>\n",
       "  <tbody>\n",
       "    <tr>\n",
       "      <th>0</th>\n",
       "      <td>3669</td>\n",
       "      <td>36</td>\n",
       "      <td>2</td>\n",
       "      <td>2</td>\n",
       "      <td>3</td>\n",
       "      <td>1</td>\n",
       "      <td>1</td>\n",
       "      <td>1</td>\n",
       "      <td>0</td>\n",
       "      <td>1</td>\n",
       "      <td>...</td>\n",
       "      <td>5</td>\n",
       "      <td>1</td>\n",
       "      <td>-1</td>\n",
       "      <td>1</td>\n",
       "      <td>4</td>\n",
       "      <td>-8.907215</td>\n",
       "      <td>34.672094</td>\n",
       "      <td>1</td>\n",
       "      <td>170.0</td>\n",
       "      <td>1.867756e+08</td>\n",
       "    </tr>\n",
       "    <tr>\n",
       "      <th>1</th>\n",
       "      <td>5223</td>\n",
       "      <td>27</td>\n",
       "      <td>1</td>\n",
       "      <td>1</td>\n",
       "      <td>3</td>\n",
       "      <td>1</td>\n",
       "      <td>2</td>\n",
       "      <td>1</td>\n",
       "      <td>0</td>\n",
       "      <td>1</td>\n",
       "      <td>...</td>\n",
       "      <td>6</td>\n",
       "      <td>1</td>\n",
       "      <td>-1</td>\n",
       "      <td>1</td>\n",
       "      <td>1</td>\n",
       "      <td>-8.204943</td>\n",
       "      <td>35.997953</td>\n",
       "      <td>1</td>\n",
       "      <td>561.0</td>\n",
       "      <td>6.552594e+08</td>\n",
       "    </tr>\n",
       "    <tr>\n",
       "      <th>2</th>\n",
       "      <td>7275</td>\n",
       "      <td>25</td>\n",
       "      <td>2</td>\n",
       "      <td>4</td>\n",
       "      <td>6</td>\n",
       "      <td>5</td>\n",
       "      <td>2</td>\n",
       "      <td>1</td>\n",
       "      <td>0</td>\n",
       "      <td>1</td>\n",
       "      <td>...</td>\n",
       "      <td>4</td>\n",
       "      <td>5</td>\n",
       "      <td>-1</td>\n",
       "      <td>1</td>\n",
       "      <td>1</td>\n",
       "      <td>-4.100044</td>\n",
       "      <td>32.407155</td>\n",
       "      <td>1</td>\n",
       "      <td>10523.0</td>\n",
       "      <td>9.366909e+09</td>\n",
       "    </tr>\n",
       "    <tr>\n",
       "      <th>3</th>\n",
       "      <td>7459</td>\n",
       "      <td>32</td>\n",
       "      <td>1</td>\n",
       "      <td>1</td>\n",
       "      <td>1</td>\n",
       "      <td>1</td>\n",
       "      <td>2</td>\n",
       "      <td>1</td>\n",
       "      <td>0</td>\n",
       "      <td>1</td>\n",
       "      <td>...</td>\n",
       "      <td>-1</td>\n",
       "      <td>1</td>\n",
       "      <td>-1</td>\n",
       "      <td>4</td>\n",
       "      <td>4</td>\n",
       "      <td>-4.054934</td>\n",
       "      <td>32.242549</td>\n",
       "      <td>0</td>\n",
       "      <td>0.0</td>\n",
       "      <td>0.000000e+00</td>\n",
       "    </tr>\n",
       "    <tr>\n",
       "      <th>4</th>\n",
       "      <td>3547</td>\n",
       "      <td>39</td>\n",
       "      <td>1</td>\n",
       "      <td>1</td>\n",
       "      <td>6</td>\n",
       "      <td>1</td>\n",
       "      <td>2</td>\n",
       "      <td>1</td>\n",
       "      <td>0</td>\n",
       "      <td>1</td>\n",
       "      <td>...</td>\n",
       "      <td>1</td>\n",
       "      <td>3</td>\n",
       "      <td>3</td>\n",
       "      <td>1</td>\n",
       "      <td>1</td>\n",
       "      <td>-2.888644</td>\n",
       "      <td>31.730506</td>\n",
       "      <td>0</td>\n",
       "      <td>0.0</td>\n",
       "      <td>0.000000e+00</td>\n",
       "    </tr>\n",
       "  </tbody>\n",
       "</table>\n",
       "<p>5 rows × 35 columns</p>\n",
       "</div>"
      ],
      "text/plain": [
       "     ID  Q1  Q2  Q3  Q4  Q5  Q6  Q7  Q8_1  Q8_2              ...               \\\n",
       "0  3669  36   2   2   3   1   1   1     0     1              ...                \n",
       "1  5223  27   1   1   3   1   2   1     0     1              ...                \n",
       "2  7275  25   2   4   6   5   2   1     0     1              ...                \n",
       "3  7459  32   1   1   1   1   2   1     0     1              ...                \n",
       "4  3547  39   1   1   6   1   2   1     0     1              ...                \n",
       "\n",
       "   Q15  Q16  Q17  Q18  Q19  Latitude  Longitude  HasData  \\\n",
       "0    5    1   -1    1    4 -8.907215  34.672094        1   \n",
       "1    6    1   -1    1    1 -8.204943  35.997953        1   \n",
       "2    4    5   -1    1    1 -4.100044  32.407155        1   \n",
       "3   -1    1   -1    4    4 -4.054934  32.242549        0   \n",
       "4    1    3    3    1    1 -2.888644  31.730506        0   \n",
       "\n",
       "   2016 Total Population  2016 Purchasing Power: Total  \n",
       "0                  170.0                  1.867756e+08  \n",
       "1                  561.0                  6.552594e+08  \n",
       "2                10523.0                  9.366909e+09  \n",
       "3                    0.0                  0.000000e+00  \n",
       "4                    0.0                  0.000000e+00  \n",
       "\n",
       "[5 rows x 35 columns]"
      ]
     },
     "execution_count": 17,
     "metadata": {},
     "output_type": "execute_result"
    }
   ],
   "source": [
    "test.head()"
   ]
  },
  {
   "cell_type": "code",
   "execution_count": 18,
   "metadata": {
    "collapsed": false
   },
   "outputs": [
    {
     "data": {
      "text/plain": [
       "7094"
      ]
     },
     "execution_count": 18,
     "metadata": {},
     "output_type": "execute_result"
    }
   ],
   "source": [
    "map_train['ID'].nunique()"
   ]
  },
  {
   "cell_type": "code",
   "execution_count": 19,
   "metadata": {
    "collapsed": false
   },
   "outputs": [
    {
     "data": {
      "text/plain": [
       "2365"
      ]
     },
     "execution_count": 19,
     "metadata": {},
     "output_type": "execute_result"
    }
   ],
   "source": [
    "map_tests['ID'].nunique()"
   ]
  },
  {
   "cell_type": "code",
   "execution_count": 20,
   "metadata": {
    "collapsed": true
   },
   "outputs": [],
   "source": [
    "train = train.merge(map_train, on='ID') # joining the region and district"
   ]
  },
  {
   "cell_type": "code",
   "execution_count": 21,
   "metadata": {
    "collapsed": true
   },
   "outputs": [],
   "source": [
    "test = test.merge(map_tests, on='ID')"
   ]
  },
  {
   "cell_type": "code",
   "execution_count": 22,
   "metadata": {
    "collapsed": true
   },
   "outputs": [],
   "source": [
    "#coalescing the two columns for data treatment\n",
    "data=train.append(test)\n",
    "data=data.reset_index()\n",
    "data=data.drop('index',axis=1)"
   ]
  },
  {
   "cell_type": "code",
   "execution_count": 23,
   "metadata": {
    "collapsed": true
   },
   "outputs": [],
   "source": [
    "# Rounding the longtide and latitude for Harvesine,bearing array and dummy harmattan\n",
    "data['latitude2'] = np.round(data.Latitude)\n",
    "data['longitude2'] = np.round(data.Longitude)"
   ]
  },
  {
   "cell_type": "code",
   "execution_count": 24,
   "metadata": {
    "collapsed": true
   },
   "outputs": [],
   "source": [
    "# Provided function\n",
    "import numpy as np\n",
    "def haversine(lon1, lat1, lon2, lat2, earth_radius=6367):\n",
    "    \"\"\"\n",
    "    Calculate the great circle distance between two points\n",
    "    on the earth (specified in decimal degrees)\n",
    "\n",
    "    All args must be of equal length.\n",
    "\n",
    "    \"\"\"\n",
    "    lon1, lat1, lon2, lat2 = map(np.radians, [lon1, lat1, lon2, lat2])\n",
    "\n",
    "    dlon = lon2 - lon1\n",
    "    dlat = lat2 - lat1\n",
    "\n",
    "    a = np.sin(dlat/2.0)**2 + np.cos(lat1) * np.cos(lat2) * np.sin(dlon/2.0)**2\n",
    "\n",
    "    c = 2 * np.arcsin(np.sqrt(a))\n",
    "    km = earth_radius * c\n",
    "    return km"
   ]
  },
  {
   "cell_type": "code",
   "execution_count": 25,
   "metadata": {
    "collapsed": true
   },
   "outputs": [],
   "source": [
    "def haversine_est(lon1, lat1, lon2, lat2):\n",
    "    R = 6371.0 \n",
    "    \"\"\"\n",
    "    Estimation with equirectangular distance approximation. \n",
    "    Since the distance is relatively small, you can use the equirectangular distance approximation. \n",
    "    This approximation is faster than using the Haversine formula. \n",
    "    So, to get the distance from your reference point (lat1/lon1) to the point your are testing (lat2/lon2),\n",
    "    use the formula below. \n",
    "    Important Note: you need to convert all lat/lon points to radians:\n",
    "    \"\"\"\n",
    "    lon1, lat1, lon2, lat2 = map(np.radians, [lon1, lat1, lon2, lat2])\n",
    "\n",
    "    x = (lon2 - lon1) * np.cos( 0.5*(lat2+lat1) )\n",
    "    y = lat2 - lat1\n",
    "    km = R * np.sqrt( x*x + y*y )\n",
    "    return km"
   ]
  },
  {
   "cell_type": "code",
   "execution_count": 26,
   "metadata": {
    "collapsed": true
   },
   "outputs": [],
   "source": [
    "data['distance'] = data[['latitude2', 'longitude2', 'Latitude','Longitude']].apply(lambda x: haversine(x[1], x[0], x[3], x[2]), axis=1)"
   ]
  },
  {
   "cell_type": "code",
   "execution_count": 27,
   "metadata": {
    "collapsed": true
   },
   "outputs": [],
   "source": [
    "def dummy_manhattan_distance(lon1, lat1, lon2, lat2):\n",
    "    a = haversine(lon1, lat1, lon2, lat2)\n",
    "    b = haversine(lon1, lat1, lon2, lat2)\n",
    "    return a + b"
   ]
  },
  {
   "cell_type": "code",
   "execution_count": 28,
   "metadata": {
    "collapsed": true
   },
   "outputs": [],
   "source": [
    "data['distance_duumy'] = data[['latitude2', 'longitude2', 'Latitude','Longitude']].apply(lambda x: dummy_manhattan_distance(x[1], x[0], x[3], x[2]), axis=1)"
   ]
  },
  {
   "cell_type": "code",
   "execution_count": 29,
   "metadata": {
    "collapsed": true
   },
   "outputs": [],
   "source": [
    "def bearing_array(lon1, lat1, lon2, lat2):\n",
    "    AVG_EARTH_RADIUS = 6371  # in km\n",
    "    lng_delta_rad = np.radians(lon2 - lon1)\n",
    "    lon1, lat1, lon2, lat2 = map(np.radians, (lon1, lat1, lon2, lat2))\n",
    "    y = np.sin(lng_delta_rad) * np.cos(lat2)\n",
    "    x = np.cos(lat1) * np.sin(lat2) - np.sin(lat1) * np.cos(lat2) * np.cos(lng_delta_rad)\n",
    "    return np.degrees(np.arctan2(y, x))"
   ]
  },
  {
   "cell_type": "code",
   "execution_count": 30,
   "metadata": {
    "collapsed": true
   },
   "outputs": [],
   "source": [
    "data['distance_bearing'] = data[['latitude2', 'longitude2', 'Latitude','Longitude']].apply(lambda x: bearing_array(x[1], x[0], x[3], x[2]), axis=1)"
   ]
  },
  {
   "cell_type": "markdown",
   "metadata": {},
   "source": [
    "# Feature interaction"
   ]
  },
  {
   "cell_type": "code",
   "execution_count": 31,
   "metadata": {
    "collapsed": true
   },
   "outputs": [],
   "source": [
    "data['Q8_1_7'] = data['Q8_1'] + data['Q8_7']"
   ]
  },
  {
   "cell_type": "code",
   "execution_count": 32,
   "metadata": {
    "collapsed": true
   },
   "outputs": [],
   "source": [
    "data['Q8_9_10'] = data['Q8_10'] + data['Q8_9']"
   ]
  },
  {
   "cell_type": "code",
   "execution_count": 33,
   "metadata": {
    "collapsed": true
   },
   "outputs": [],
   "source": [
    "data['qs'] = data['Q8_2'] + data['Q8_3'] + data['Q8_4'] + data['Q8_5'] + data['Q8_6']"
   ]
  },
  {
   "cell_type": "code",
   "execution_count": 34,
   "metadata": {
    "collapsed": true
   },
   "outputs": [],
   "source": [
    "data['Q3'] = data['Q3'].astype('object') # take Q3 to object and dummies"
   ]
  },
  {
   "cell_type": "code",
   "execution_count": 35,
   "metadata": {
    "collapsed": true
   },
   "outputs": [],
   "source": [
    "data['lat_lon'] = data['Latitude'] + data['Longitude'] # adding longitude and latitude"
   ]
  },
  {
   "cell_type": "code",
   "execution_count": 36,
   "metadata": {
    "collapsed": true
   },
   "outputs": [],
   "source": [
    "data = data.drop('ID', axis=1)"
   ]
  },
  {
   "cell_type": "code",
   "execution_count": 37,
   "metadata": {
    "collapsed": false
   },
   "outputs": [
    {
     "data": {
      "text/html": [
       "<div>\n",
       "<table border=\"1\" class=\"dataframe\">\n",
       "  <thead>\n",
       "    <tr style=\"text-align: right;\">\n",
       "      <th></th>\n",
       "      <th>Q1</th>\n",
       "      <th>Q2</th>\n",
       "      <th>Q3</th>\n",
       "      <th>Q4</th>\n",
       "      <th>Q5</th>\n",
       "      <th>Q6</th>\n",
       "      <th>Q7</th>\n",
       "      <th>Q8_1</th>\n",
       "      <th>Q8_2</th>\n",
       "      <th>Q8_3</th>\n",
       "      <th>...</th>\n",
       "      <th>region</th>\n",
       "      <th>latitude2</th>\n",
       "      <th>longitude2</th>\n",
       "      <th>distance</th>\n",
       "      <th>distance_duumy</th>\n",
       "      <th>distance_bearing</th>\n",
       "      <th>Q8_1_7</th>\n",
       "      <th>Q8_9_10</th>\n",
       "      <th>qs</th>\n",
       "      <th>lat_lon</th>\n",
       "    </tr>\n",
       "  </thead>\n",
       "  <tbody>\n",
       "    <tr>\n",
       "      <th>0</th>\n",
       "      <td>98</td>\n",
       "      <td>2</td>\n",
       "      <td>3</td>\n",
       "      <td>1</td>\n",
       "      <td>1</td>\n",
       "      <td>2</td>\n",
       "      <td>2</td>\n",
       "      <td>0</td>\n",
       "      <td>0</td>\n",
       "      <td>0</td>\n",
       "      <td>...</td>\n",
       "      <td>Kigoma</td>\n",
       "      <td>-4.0</td>\n",
       "      <td>30.0</td>\n",
       "      <td>55.271127</td>\n",
       "      <td>110.542253</td>\n",
       "      <td>-157.786948</td>\n",
       "      <td>0</td>\n",
       "      <td>1</td>\n",
       "      <td>0</td>\n",
       "      <td>25.350954</td>\n",
       "    </tr>\n",
       "    <tr>\n",
       "      <th>1</th>\n",
       "      <td>40</td>\n",
       "      <td>1</td>\n",
       "      <td>1</td>\n",
       "      <td>3</td>\n",
       "      <td>5</td>\n",
       "      <td>1</td>\n",
       "      <td>1</td>\n",
       "      <td>1</td>\n",
       "      <td>0</td>\n",
       "      <td>0</td>\n",
       "      <td>...</td>\n",
       "      <td>Zanzibar</td>\n",
       "      <td>-6.0</td>\n",
       "      <td>39.0</td>\n",
       "      <td>33.414768</td>\n",
       "      <td>66.829536</td>\n",
       "      <td>125.940889</td>\n",
       "      <td>1</td>\n",
       "      <td>0</td>\n",
       "      <td>0</td>\n",
       "      <td>33.068433</td>\n",
       "    </tr>\n",
       "    <tr>\n",
       "      <th>2</th>\n",
       "      <td>18</td>\n",
       "      <td>2</td>\n",
       "      <td>4</td>\n",
       "      <td>6</td>\n",
       "      <td>3</td>\n",
       "      <td>2</td>\n",
       "      <td>1</td>\n",
       "      <td>0</td>\n",
       "      <td>0</td>\n",
       "      <td>0</td>\n",
       "      <td>...</td>\n",
       "      <td>Morogoro</td>\n",
       "      <td>-7.0</td>\n",
       "      <td>38.0</td>\n",
       "      <td>42.921155</td>\n",
       "      <td>85.842310</td>\n",
       "      <td>-63.196030</td>\n",
       "      <td>0</td>\n",
       "      <td>1</td>\n",
       "      <td>0</td>\n",
       "      <td>30.827096</td>\n",
       "    </tr>\n",
       "    <tr>\n",
       "      <th>3</th>\n",
       "      <td>50</td>\n",
       "      <td>1</td>\n",
       "      <td>1</td>\n",
       "      <td>3</td>\n",
       "      <td>1</td>\n",
       "      <td>1</td>\n",
       "      <td>1</td>\n",
       "      <td>0</td>\n",
       "      <td>0</td>\n",
       "      <td>0</td>\n",
       "      <td>...</td>\n",
       "      <td>Arusha</td>\n",
       "      <td>-3.0</td>\n",
       "      <td>36.0</td>\n",
       "      <td>46.494014</td>\n",
       "      <td>92.988027</td>\n",
       "      <td>-152.782230</td>\n",
       "      <td>0</td>\n",
       "      <td>0</td>\n",
       "      <td>1</td>\n",
       "      <td>32.436258</td>\n",
       "    </tr>\n",
       "    <tr>\n",
       "      <th>4</th>\n",
       "      <td>34</td>\n",
       "      <td>1</td>\n",
       "      <td>1</td>\n",
       "      <td>1</td>\n",
       "      <td>1</td>\n",
       "      <td>2</td>\n",
       "      <td>1</td>\n",
       "      <td>0</td>\n",
       "      <td>1</td>\n",
       "      <td>0</td>\n",
       "      <td>...</td>\n",
       "      <td>Rukwa</td>\n",
       "      <td>-7.0</td>\n",
       "      <td>31.0</td>\n",
       "      <td>20.423306</td>\n",
       "      <td>40.846612</td>\n",
       "      <td>167.815988</td>\n",
       "      <td>0</td>\n",
       "      <td>0</td>\n",
       "      <td>1</td>\n",
       "      <td>23.859450</td>\n",
       "    </tr>\n",
       "  </tbody>\n",
       "</table>\n",
       "<p>5 rows × 45 columns</p>\n",
       "</div>"
      ],
      "text/plain": [
       "   Q1  Q2 Q3  Q4  Q5  Q6  Q7  Q8_1  Q8_2  Q8_3    ...        region  \\\n",
       "0  98   2  3   1   1   2   2     0     0     0    ...        Kigoma   \n",
       "1  40   1  1   3   5   1   1     1     0     0    ...      Zanzibar   \n",
       "2  18   2  4   6   3   2   1     0     0     0    ...      Morogoro   \n",
       "3  50   1  1   3   1   1   1     0     0     0    ...        Arusha   \n",
       "4  34   1  1   1   1   2   1     0     1     0    ...         Rukwa   \n",
       "\n",
       "   latitude2  longitude2   distance  distance_duumy  distance_bearing  Q8_1_7  \\\n",
       "0       -4.0        30.0  55.271127      110.542253       -157.786948       0   \n",
       "1       -6.0        39.0  33.414768       66.829536        125.940889       1   \n",
       "2       -7.0        38.0  42.921155       85.842310        -63.196030       0   \n",
       "3       -3.0        36.0  46.494014       92.988027       -152.782230       0   \n",
       "4       -7.0        31.0  20.423306       40.846612        167.815988       0   \n",
       "\n",
       "   Q8_9_10  qs    lat_lon  \n",
       "0        1   0  25.350954  \n",
       "1        0   0  33.068433  \n",
       "2        1   0  30.827096  \n",
       "3        0   1  32.436258  \n",
       "4        0   1  23.859450  \n",
       "\n",
       "[5 rows x 45 columns]"
      ]
     },
     "execution_count": 37,
     "metadata": {},
     "output_type": "execute_result"
    }
   ],
   "source": [
    "data.head()"
   ]
  },
  {
   "cell_type": "code",
   "execution_count": 38,
   "metadata": {
    "collapsed": true
   },
   "outputs": [],
   "source": [
    "data = pd.get_dummies(data)"
   ]
  },
  {
   "cell_type": "code",
   "execution_count": 39,
   "metadata": {
    "collapsed": false
   },
   "outputs": [
    {
     "data": {
      "text/html": [
       "<div>\n",
       "<table border=\"1\" class=\"dataframe\">\n",
       "  <thead>\n",
       "    <tr style=\"text-align: right;\">\n",
       "      <th></th>\n",
       "      <th>Q1</th>\n",
       "      <th>Q2</th>\n",
       "      <th>Q4</th>\n",
       "      <th>Q5</th>\n",
       "      <th>Q6</th>\n",
       "      <th>Q7</th>\n",
       "      <th>Q8_1</th>\n",
       "      <th>Q8_2</th>\n",
       "      <th>Q8_3</th>\n",
       "      <th>Q8_4</th>\n",
       "      <th>...</th>\n",
       "      <th>region_Mtwara</th>\n",
       "      <th>region_Mwanza</th>\n",
       "      <th>region_Pwani</th>\n",
       "      <th>region_Rukwa</th>\n",
       "      <th>region_Ruvuma</th>\n",
       "      <th>region_Shinyanga</th>\n",
       "      <th>region_Singida</th>\n",
       "      <th>region_Tabora</th>\n",
       "      <th>region_Tanga</th>\n",
       "      <th>region_Zanzibar</th>\n",
       "    </tr>\n",
       "  </thead>\n",
       "  <tbody>\n",
       "    <tr>\n",
       "      <th>0</th>\n",
       "      <td>98</td>\n",
       "      <td>2</td>\n",
       "      <td>1</td>\n",
       "      <td>1</td>\n",
       "      <td>2</td>\n",
       "      <td>2</td>\n",
       "      <td>0</td>\n",
       "      <td>0</td>\n",
       "      <td>0</td>\n",
       "      <td>0</td>\n",
       "      <td>...</td>\n",
       "      <td>0</td>\n",
       "      <td>0</td>\n",
       "      <td>0</td>\n",
       "      <td>0</td>\n",
       "      <td>0</td>\n",
       "      <td>0</td>\n",
       "      <td>0</td>\n",
       "      <td>0</td>\n",
       "      <td>0</td>\n",
       "      <td>0</td>\n",
       "    </tr>\n",
       "    <tr>\n",
       "      <th>1</th>\n",
       "      <td>40</td>\n",
       "      <td>1</td>\n",
       "      <td>3</td>\n",
       "      <td>5</td>\n",
       "      <td>1</td>\n",
       "      <td>1</td>\n",
       "      <td>1</td>\n",
       "      <td>0</td>\n",
       "      <td>0</td>\n",
       "      <td>0</td>\n",
       "      <td>...</td>\n",
       "      <td>0</td>\n",
       "      <td>0</td>\n",
       "      <td>0</td>\n",
       "      <td>0</td>\n",
       "      <td>0</td>\n",
       "      <td>0</td>\n",
       "      <td>0</td>\n",
       "      <td>0</td>\n",
       "      <td>0</td>\n",
       "      <td>1</td>\n",
       "    </tr>\n",
       "    <tr>\n",
       "      <th>2</th>\n",
       "      <td>18</td>\n",
       "      <td>2</td>\n",
       "      <td>6</td>\n",
       "      <td>3</td>\n",
       "      <td>2</td>\n",
       "      <td>1</td>\n",
       "      <td>0</td>\n",
       "      <td>0</td>\n",
       "      <td>0</td>\n",
       "      <td>0</td>\n",
       "      <td>...</td>\n",
       "      <td>0</td>\n",
       "      <td>0</td>\n",
       "      <td>0</td>\n",
       "      <td>0</td>\n",
       "      <td>0</td>\n",
       "      <td>0</td>\n",
       "      <td>0</td>\n",
       "      <td>0</td>\n",
       "      <td>0</td>\n",
       "      <td>0</td>\n",
       "    </tr>\n",
       "    <tr>\n",
       "      <th>3</th>\n",
       "      <td>50</td>\n",
       "      <td>1</td>\n",
       "      <td>3</td>\n",
       "      <td>1</td>\n",
       "      <td>1</td>\n",
       "      <td>1</td>\n",
       "      <td>0</td>\n",
       "      <td>0</td>\n",
       "      <td>0</td>\n",
       "      <td>1</td>\n",
       "      <td>...</td>\n",
       "      <td>0</td>\n",
       "      <td>0</td>\n",
       "      <td>0</td>\n",
       "      <td>0</td>\n",
       "      <td>0</td>\n",
       "      <td>0</td>\n",
       "      <td>0</td>\n",
       "      <td>0</td>\n",
       "      <td>0</td>\n",
       "      <td>0</td>\n",
       "    </tr>\n",
       "    <tr>\n",
       "      <th>4</th>\n",
       "      <td>34</td>\n",
       "      <td>1</td>\n",
       "      <td>1</td>\n",
       "      <td>1</td>\n",
       "      <td>2</td>\n",
       "      <td>1</td>\n",
       "      <td>0</td>\n",
       "      <td>1</td>\n",
       "      <td>0</td>\n",
       "      <td>0</td>\n",
       "      <td>...</td>\n",
       "      <td>0</td>\n",
       "      <td>0</td>\n",
       "      <td>0</td>\n",
       "      <td>1</td>\n",
       "      <td>0</td>\n",
       "      <td>0</td>\n",
       "      <td>0</td>\n",
       "      <td>0</td>\n",
       "      <td>0</td>\n",
       "      <td>0</td>\n",
       "    </tr>\n",
       "  </tbody>\n",
       "</table>\n",
       "<p>5 rows × 189 columns</p>\n",
       "</div>"
      ],
      "text/plain": [
       "   Q1  Q2  Q4  Q5  Q6  Q7  Q8_1  Q8_2  Q8_3  Q8_4       ...         \\\n",
       "0  98   2   1   1   2   2     0     0     0     0       ...          \n",
       "1  40   1   3   5   1   1     1     0     0     0       ...          \n",
       "2  18   2   6   3   2   1     0     0     0     0       ...          \n",
       "3  50   1   3   1   1   1     0     0     0     1       ...          \n",
       "4  34   1   1   1   2   1     0     1     0     0       ...          \n",
       "\n",
       "   region_Mtwara  region_Mwanza  region_Pwani  region_Rukwa  region_Ruvuma  \\\n",
       "0              0              0             0             0              0   \n",
       "1              0              0             0             0              0   \n",
       "2              0              0             0             0              0   \n",
       "3              0              0             0             0              0   \n",
       "4              0              0             0             1              0   \n",
       "\n",
       "   region_Shinyanga  region_Singida  region_Tabora  region_Tanga  \\\n",
       "0                 0               0              0             0   \n",
       "1                 0               0              0             0   \n",
       "2                 0               0              0             0   \n",
       "3                 0               0              0             0   \n",
       "4                 0               0              0             0   \n",
       "\n",
       "   region_Zanzibar  \n",
       "0                0  \n",
       "1                1  \n",
       "2                0  \n",
       "3                0  \n",
       "4                0  \n",
       "\n",
       "[5 rows x 189 columns]"
      ]
     },
     "execution_count": 39,
     "metadata": {},
     "output_type": "execute_result"
    }
   ],
   "source": [
    "data.head()"
   ]
  },
  {
   "cell_type": "code",
   "execution_count": 40,
   "metadata": {
    "collapsed": true
   },
   "outputs": [],
   "source": [
    "# Splitting test and train data\n",
    "train_df=data[:len_train]\n",
    "test_df=data[len_train:]"
   ]
  },
  {
   "cell_type": "code",
   "execution_count": 41,
   "metadata": {
    "collapsed": true
   },
   "outputs": [],
   "source": [
    "# Removing Price from independen t variable data and keeping only price in the other\n",
    "X = train_df\n",
    "y= mobile"
   ]
  },
  {
   "cell_type": "code",
   "execution_count": 42,
   "metadata": {
    "collapsed": true
   },
   "outputs": [],
   "source": [
    "X_train, X_test, y_train, y_test = train_test_split(X, y, test_size=0.2, random_state=42)"
   ]
  },
  {
   "cell_type": "code",
   "execution_count": 43,
   "metadata": {
    "collapsed": true
   },
   "outputs": [],
   "source": [
    "from sklearn import metrics"
   ]
  },
  {
   "cell_type": "code",
   "execution_count": null,
   "metadata": {
    "collapsed": false
   },
   "outputs": [],
   "source": []
  },
  {
   "cell_type": "markdown",
   "metadata": {
    "collapsed": true
   },
   "source": [
    "# using catboost with different Paramters and Stack it with Weighted Average of the 3 model and Round to 3"
   ]
  },
  {
   "cell_type": "code",
   "execution_count": 44,
   "metadata": {
    "collapsed": true
   },
   "outputs": [],
   "source": [
    "import xgboost as xgb"
   ]
  },
  {
   "cell_type": "code",
   "execution_count": 45,
   "metadata": {
    "collapsed": true
   },
   "outputs": [],
   "source": [
    "from catboost import CatBoostClassifier"
   ]
  },
  {
   "cell_type": "code",
   "execution_count": 46,
   "metadata": {
    "collapsed": true
   },
   "outputs": [],
   "source": [
    "#cat = CatBoostClassifier(loss_function='MultiClass')"
   ]
  },
  {
   "cell_type": "code",
   "execution_count": 47,
   "metadata": {
    "collapsed": true
   },
   "outputs": [],
   "source": [
    "#gb =XGBClassifier(n_estimators=200, objective='multi:softprob',gamma=0.5,colsample_bylevel=0.7) CatBoostClassifier(loss_function='MultiClass')"
   ]
  },
  {
   "cell_type": "code",
   "execution_count": 48,
   "metadata": {
    "collapsed": false
   },
   "outputs": [],
   "source": [
    "for i in range(5):\n",
    "    cb_model = CatBoostClassifier(iterations=420,\n",
    "                              learning_rate=0.1,\n",
    "                              depth=6,loss_function='MultiClass',#,scale_pos_weight=200,\n",
    "                             l2_leaf_reg=10,\n",
    "                             bootstrap_type='Bernoulli',\n",
    "                              subsample=0.7,\n",
    "                              #leaf_estimation_iterations=10,\n",
    "                              metric_period=20,\n",
    "                              #od_type='Iter',\n",
    "                              #od_wait=45,\n",
    "                              random_seed=42,\n",
    "                              allow_writing_files=False)"
   ]
  },
  {
   "cell_type": "code",
   "execution_count": 49,
   "metadata": {
    "collapsed": false
   },
   "outputs": [
    {
     "name": "stdout",
     "output_type": "stream",
     "text": [
      "0:\tlearn: -1.2948722\ttotal: 1.51s\tremaining: 10m 31s\n",
      "20:\tlearn: -0.8286814\ttotal: 19.5s\tremaining: 6m 10s\n",
      "40:\tlearn: -0.7745317\ttotal: 34.5s\tremaining: 5m 18s\n",
      "60:\tlearn: -0.7508234\ttotal: 49.4s\tremaining: 4m 50s\n",
      "80:\tlearn: -0.7353918\ttotal: 1m 2s\tremaining: 4m 21s\n",
      "100:\tlearn: -0.7232368\ttotal: 1m 19s\tremaining: 4m 10s\n",
      "120:\tlearn: -0.7103068\ttotal: 1m 33s\tremaining: 3m 50s\n",
      "140:\tlearn: -0.6988756\ttotal: 1m 46s\tremaining: 3m 30s\n",
      "160:\tlearn: -0.6908904\ttotal: 1m 56s\tremaining: 3m 7s\n",
      "180:\tlearn: -0.6837903\ttotal: 2m 7s\tremaining: 2m 48s\n",
      "200:\tlearn: -0.6756696\ttotal: 2m 26s\tremaining: 2m 39s\n",
      "220:\tlearn: -0.6677922\ttotal: 2m 43s\tremaining: 2m 26s\n",
      "240:\tlearn: -0.6607858\ttotal: 3m\tremaining: 2m 13s\n",
      "260:\tlearn: -0.6537183\ttotal: 3m 14s\tremaining: 1m 58s\n",
      "280:\tlearn: -0.6475890\ttotal: 3m 28s\tremaining: 1m 42s\n",
      "300:\tlearn: -0.6400614\ttotal: 3m 45s\tremaining: 1m 29s\n",
      "320:\tlearn: -0.6326724\ttotal: 3m 57s\tremaining: 1m 13s\n",
      "340:\tlearn: -0.6258011\ttotal: 4m 14s\tremaining: 59s\n",
      "360:\tlearn: -0.6205500\ttotal: 4m 34s\tremaining: 44.8s\n",
      "380:\tlearn: -0.6151701\ttotal: 4m 53s\tremaining: 30s\n",
      "400:\tlearn: -0.6107528\ttotal: 5m 11s\tremaining: 14.7s\n",
      "419:\tlearn: -0.6064701\ttotal: 5m 25s\tremaining: 0us\n"
     ]
    },
    {
     "data": {
      "text/plain": [
       "<catboost.core.CatBoostClassifier at 0x1e612c1d240>"
      ]
     },
     "execution_count": 49,
     "metadata": {},
     "output_type": "execute_result"
    }
   ],
   "source": [
    "cb_model.fit(X,y)"
   ]
  },
  {
   "cell_type": "code",
   "execution_count": 50,
   "metadata": {
    "collapsed": false
   },
   "outputs": [],
   "source": [
    "y_xg = cb_model.predict_proba(X_test)"
   ]
  },
  {
   "cell_type": "code",
   "execution_count": 51,
   "metadata": {
    "collapsed": true
   },
   "outputs": [],
   "source": [
    "preds = cb_model.predict_proba(X)"
   ]
  },
  {
   "cell_type": "code",
   "execution_count": 52,
   "metadata": {
    "collapsed": true
   },
   "outputs": [],
   "source": [
    "from sklearn.metrics import log_loss"
   ]
  },
  {
   "cell_type": "code",
   "execution_count": 53,
   "metadata": {
    "collapsed": false
   },
   "outputs": [
    {
     "data": {
      "text/plain": [
       "0.60647009648939421"
      ]
     },
     "execution_count": 53,
     "metadata": {},
     "output_type": "execute_result"
    }
   ],
   "source": [
    "log_loss(y, preds)"
   ]
  },
  {
   "cell_type": "markdown",
   "metadata": {
    "collapsed": true
   },
   "source": [
    "# for model 1 on test set"
   ]
  },
  {
   "cell_type": "code",
   "execution_count": 54,
   "metadata": {
    "collapsed": true
   },
   "outputs": [],
   "source": [
    "test_set_predictions1 =  cb_model.predict_proba(test_df)"
   ]
  },
  {
   "cell_type": "code",
   "execution_count": 55,
   "metadata": {
    "collapsed": true
   },
   "outputs": [],
   "source": [
    "d = {\"ID\": test[\"ID\"], 'no_financial_services':test_set_predictions1[:, 0], 'other_only':test_set_predictions1[:, 1],\n",
    "    'mm_only':test_set_predictions1[:, 2], 'mm_plus':test_set_predictions1[:, 3]}\n",
    "df_predictions1 = pd.DataFrame(data=d)\n",
    "df_predictions1 = df_predictions1[[\"ID\", 'no_financial_services','other_only','mm_only','mm_plus']]"
   ]
  },
  {
   "cell_type": "code",
   "execution_count": 56,
   "metadata": {
    "collapsed": false
   },
   "outputs": [
    {
     "data": {
      "text/html": [
       "<div>\n",
       "<table border=\"1\" class=\"dataframe\">\n",
       "  <thead>\n",
       "    <tr style=\"text-align: right;\">\n",
       "      <th></th>\n",
       "      <th>ID</th>\n",
       "      <th>no_financial_services</th>\n",
       "      <th>other_only</th>\n",
       "      <th>mm_only</th>\n",
       "      <th>mm_plus</th>\n",
       "    </tr>\n",
       "  </thead>\n",
       "  <tbody>\n",
       "    <tr>\n",
       "      <th>0</th>\n",
       "      <td>3669</td>\n",
       "      <td>0.008462</td>\n",
       "      <td>0.029459</td>\n",
       "      <td>0.245143</td>\n",
       "      <td>0.716937</td>\n",
       "    </tr>\n",
       "    <tr>\n",
       "      <th>1</th>\n",
       "      <td>5223</td>\n",
       "      <td>0.000406</td>\n",
       "      <td>0.006008</td>\n",
       "      <td>0.049617</td>\n",
       "      <td>0.943969</td>\n",
       "    </tr>\n",
       "    <tr>\n",
       "      <th>2</th>\n",
       "      <td>7275</td>\n",
       "      <td>0.000268</td>\n",
       "      <td>0.001345</td>\n",
       "      <td>0.154038</td>\n",
       "      <td>0.844350</td>\n",
       "    </tr>\n",
       "    <tr>\n",
       "      <th>3</th>\n",
       "      <td>7459</td>\n",
       "      <td>0.161758</td>\n",
       "      <td>0.794898</td>\n",
       "      <td>0.014359</td>\n",
       "      <td>0.028985</td>\n",
       "    </tr>\n",
       "    <tr>\n",
       "      <th>4</th>\n",
       "      <td>3547</td>\n",
       "      <td>0.000271</td>\n",
       "      <td>0.001169</td>\n",
       "      <td>0.028604</td>\n",
       "      <td>0.969956</td>\n",
       "    </tr>\n",
       "  </tbody>\n",
       "</table>\n",
       "</div>"
      ],
      "text/plain": [
       "     ID  no_financial_services  other_only   mm_only   mm_plus\n",
       "0  3669               0.008462    0.029459  0.245143  0.716937\n",
       "1  5223               0.000406    0.006008  0.049617  0.943969\n",
       "2  7275               0.000268    0.001345  0.154038  0.844350\n",
       "3  7459               0.161758    0.794898  0.014359  0.028985\n",
       "4  3547               0.000271    0.001169  0.028604  0.969956"
      ]
     },
     "execution_count": 56,
     "metadata": {},
     "output_type": "execute_result"
    }
   ],
   "source": [
    "df_predictions1.head()"
   ]
  },
  {
   "cell_type": "code",
   "execution_count": 57,
   "metadata": {
    "collapsed": true
   },
   "outputs": [],
   "source": [
    "df_predictions1.to_csv('ranked1.csv', index=False)"
   ]
  },
  {
   "cell_type": "markdown",
   "metadata": {},
   "source": [
    "# For Model 2 training "
   ]
  },
  {
   "cell_type": "code",
   "execution_count": 58,
   "metadata": {
    "collapsed": false
   },
   "outputs": [],
   "source": [
    "for i in range(5):\n",
    "    cb_model1 = CatBoostClassifier(iterations=400,\n",
    "                              learning_rate=0.1,\n",
    "                              depth=6,loss_function='MultiClass',#,scale_pos_weight=200,\n",
    "                             l2_leaf_reg=5,\n",
    "                             bootstrap_type='Bayesian',\n",
    "                              #subsample=0.7,\n",
    "                              leaf_estimation_iterations=1,\n",
    "                              metric_period=20,\n",
    "                              #od_type='Iter',\n",
    "                              #od_wait=45,\n",
    "                              random_seed=1990,\n",
    "                              allow_writing_files=False)"
   ]
  },
  {
   "cell_type": "code",
   "execution_count": 59,
   "metadata": {
    "collapsed": false
   },
   "outputs": [
    {
     "name": "stdout",
     "output_type": "stream",
     "text": [
      "0:\tlearn: -1.2863727\ttotal: 868ms\tremaining: 5m 46s\n",
      "20:\tlearn: -0.8168542\ttotal: 15.8s\tremaining: 4m 45s\n",
      "40:\tlearn: -0.7578999\ttotal: 29.7s\tremaining: 4m 20s\n",
      "60:\tlearn: -0.7362138\ttotal: 41.9s\tremaining: 3m 52s\n",
      "80:\tlearn: -0.7222279\ttotal: 52.5s\tremaining: 3m 26s\n",
      "100:\tlearn: -0.7100010\ttotal: 1m 3s\tremaining: 3m 8s\n",
      "120:\tlearn: -0.6988875\ttotal: 1m 15s\tremaining: 2m 53s\n",
      "140:\tlearn: -0.6888717\ttotal: 1m 26s\tremaining: 2m 39s\n",
      "160:\tlearn: -0.6817381\ttotal: 1m 37s\tremaining: 2m 25s\n",
      "180:\tlearn: -0.6741198\ttotal: 1m 49s\tremaining: 2m 11s\n",
      "200:\tlearn: -0.6672134\ttotal: 2m\tremaining: 1m 59s\n",
      "220:\tlearn: -0.6605241\ttotal: 2m 11s\tremaining: 1m 46s\n",
      "240:\tlearn: -0.6543320\ttotal: 2m 22s\tremaining: 1m 34s\n",
      "260:\tlearn: -0.6484066\ttotal: 2m 35s\tremaining: 1m 22s\n",
      "280:\tlearn: -0.6432224\ttotal: 2m 50s\tremaining: 1m 12s\n",
      "300:\tlearn: -0.6365880\ttotal: 3m 3s\tremaining: 1m\n",
      "320:\tlearn: -0.6323378\ttotal: 3m 19s\tremaining: 49.1s\n",
      "340:\tlearn: -0.6275700\ttotal: 3m 34s\tremaining: 37.1s\n",
      "360:\tlearn: -0.6243850\ttotal: 3m 48s\tremaining: 24.7s\n",
      "380:\tlearn: -0.6202423\ttotal: 4m 3s\tremaining: 12.1s\n",
      "399:\tlearn: -0.6168046\ttotal: 4m 17s\tremaining: 0us\n"
     ]
    },
    {
     "data": {
      "text/plain": [
       "<catboost.core.CatBoostClassifier at 0x1e613472550>"
      ]
     },
     "execution_count": 59,
     "metadata": {},
     "output_type": "execute_result"
    }
   ],
   "source": [
    "cb_model1.fit(X, y)"
   ]
  },
  {
   "cell_type": "code",
   "execution_count": 60,
   "metadata": {
    "collapsed": true
   },
   "outputs": [],
   "source": [
    "preds2 = cb_model1.predict_proba(X)"
   ]
  },
  {
   "cell_type": "code",
   "execution_count": 61,
   "metadata": {
    "collapsed": false
   },
   "outputs": [
    {
     "data": {
      "text/plain": [
       "0.6168046032960226"
      ]
     },
     "execution_count": 61,
     "metadata": {},
     "output_type": "execute_result"
    }
   ],
   "source": [
    "log_loss(y, preds2)"
   ]
  },
  {
   "cell_type": "markdown",
   "metadata": {},
   "source": [
    "# for model 2 on test set"
   ]
  },
  {
   "cell_type": "code",
   "execution_count": 62,
   "metadata": {
    "collapsed": true
   },
   "outputs": [],
   "source": [
    "test_set_predictions2 =  cb_model1.predict_proba(test_df)"
   ]
  },
  {
   "cell_type": "code",
   "execution_count": 63,
   "metadata": {
    "collapsed": true
   },
   "outputs": [],
   "source": [
    "d = {\"ID\": test[\"ID\"], 'no_financial_services':test_set_predictions2[:, 0], 'other_only':test_set_predictions2[:, 1],\n",
    "    'mm_only':test_set_predictions2[:, 2], 'mm_plus':test_set_predictions2[:, 3]}\n",
    "df_predictions2 = pd.DataFrame(data=d)\n",
    "df_predictions2 = df_predictions2[[\"ID\", 'no_financial_services','other_only','mm_only','mm_plus']]"
   ]
  },
  {
   "cell_type": "code",
   "execution_count": 64,
   "metadata": {
    "collapsed": false
   },
   "outputs": [
    {
     "data": {
      "text/html": [
       "<div>\n",
       "<table border=\"1\" class=\"dataframe\">\n",
       "  <thead>\n",
       "    <tr style=\"text-align: right;\">\n",
       "      <th></th>\n",
       "      <th>ID</th>\n",
       "      <th>no_financial_services</th>\n",
       "      <th>other_only</th>\n",
       "      <th>mm_only</th>\n",
       "      <th>mm_plus</th>\n",
       "    </tr>\n",
       "  </thead>\n",
       "  <tbody>\n",
       "    <tr>\n",
       "      <th>0</th>\n",
       "      <td>3669</td>\n",
       "      <td>0.008804</td>\n",
       "      <td>0.031320</td>\n",
       "      <td>0.287453</td>\n",
       "      <td>0.672423</td>\n",
       "    </tr>\n",
       "    <tr>\n",
       "      <th>1</th>\n",
       "      <td>5223</td>\n",
       "      <td>0.000457</td>\n",
       "      <td>0.005482</td>\n",
       "      <td>0.035811</td>\n",
       "      <td>0.958250</td>\n",
       "    </tr>\n",
       "    <tr>\n",
       "      <th>2</th>\n",
       "      <td>7275</td>\n",
       "      <td>0.000246</td>\n",
       "      <td>0.001983</td>\n",
       "      <td>0.125137</td>\n",
       "      <td>0.872634</td>\n",
       "    </tr>\n",
       "    <tr>\n",
       "      <th>3</th>\n",
       "      <td>7459</td>\n",
       "      <td>0.216767</td>\n",
       "      <td>0.724172</td>\n",
       "      <td>0.022679</td>\n",
       "      <td>0.036382</td>\n",
       "    </tr>\n",
       "    <tr>\n",
       "      <th>4</th>\n",
       "      <td>3547</td>\n",
       "      <td>0.000318</td>\n",
       "      <td>0.001406</td>\n",
       "      <td>0.030348</td>\n",
       "      <td>0.967928</td>\n",
       "    </tr>\n",
       "  </tbody>\n",
       "</table>\n",
       "</div>"
      ],
      "text/plain": [
       "     ID  no_financial_services  other_only   mm_only   mm_plus\n",
       "0  3669               0.008804    0.031320  0.287453  0.672423\n",
       "1  5223               0.000457    0.005482  0.035811  0.958250\n",
       "2  7275               0.000246    0.001983  0.125137  0.872634\n",
       "3  7459               0.216767    0.724172  0.022679  0.036382\n",
       "4  3547               0.000318    0.001406  0.030348  0.967928"
      ]
     },
     "execution_count": 64,
     "metadata": {},
     "output_type": "execute_result"
    }
   ],
   "source": [
    "df_predictions2.head()"
   ]
  },
  {
   "cell_type": "code",
   "execution_count": 65,
   "metadata": {
    "collapsed": true
   },
   "outputs": [],
   "source": [
    "df_predictions2.to_csv('ranked2.csv', index=False)"
   ]
  },
  {
   "cell_type": "markdown",
   "metadata": {},
   "source": [
    "# For model 3"
   ]
  },
  {
   "cell_type": "code",
   "execution_count": 66,
   "metadata": {
    "collapsed": false
   },
   "outputs": [],
   "source": [
    "for i in range(5):\n",
    "    cb_model2 = CatBoostClassifier(iterations=450,\n",
    "                              learning_rate=0.1,\n",
    "                              depth=6,loss_function='MultiClass',#,scale_pos_weight=200,\n",
    "                            l2_leaf_reg=10,\n",
    "                             bootstrap_type='Bernoulli',\n",
    "                              subsample=0.7,\n",
    "                              #leaf_estimation_iterations=1,\n",
    "                              metric_period=20,\n",
    "                              #od_type='Iter',\n",
    "                              #od_wait=45,\n",
    "                              random_seed=24,\n",
    "                              allow_writing_files=False)"
   ]
  },
  {
   "cell_type": "code",
   "execution_count": 67,
   "metadata": {
    "collapsed": false
   },
   "outputs": [
    {
     "name": "stdout",
     "output_type": "stream",
     "text": [
      "0:\tlearn: -1.2923299\ttotal: 906ms\tremaining: 6m 46s\n",
      "20:\tlearn: -0.8292113\ttotal: 12.9s\tremaining: 4m 23s\n",
      "40:\tlearn: -0.7728118\ttotal: 24.6s\tremaining: 4m 5s\n",
      "60:\tlearn: -0.7479919\ttotal: 37.3s\tremaining: 3m 57s\n",
      "80:\tlearn: -0.7332276\ttotal: 50.3s\tremaining: 3m 49s\n",
      "100:\tlearn: -0.7204912\ttotal: 1m 2s\tremaining: 3m 34s\n",
      "120:\tlearn: -0.7088830\ttotal: 1m 13s\tremaining: 3m 19s\n",
      "140:\tlearn: -0.6972101\ttotal: 1m 24s\tremaining: 3m 5s\n",
      "160:\tlearn: -0.6885864\ttotal: 1m 35s\tremaining: 2m 51s\n",
      "180:\tlearn: -0.6811620\ttotal: 1m 46s\tremaining: 2m 37s\n",
      "200:\tlearn: -0.6728695\ttotal: 1m 57s\tremaining: 2m 25s\n",
      "220:\tlearn: -0.6664573\ttotal: 2m 8s\tremaining: 2m 12s\n",
      "240:\tlearn: -0.6595399\ttotal: 2m 19s\tremaining: 2m\n",
      "260:\tlearn: -0.6517117\ttotal: 2m 30s\tremaining: 1m 49s\n",
      "280:\tlearn: -0.6441970\ttotal: 2m 41s\tremaining: 1m 37s\n",
      "300:\tlearn: -0.6389381\ttotal: 2m 52s\tremaining: 1m 25s\n",
      "320:\tlearn: -0.6328274\ttotal: 3m 3s\tremaining: 1m 13s\n",
      "340:\tlearn: -0.6277435\ttotal: 3m 14s\tremaining: 1m 2s\n",
      "360:\tlearn: -0.6227477\ttotal: 3m 25s\tremaining: 50.7s\n",
      "380:\tlearn: -0.6183154\ttotal: 3m 36s\tremaining: 39.2s\n",
      "400:\tlearn: -0.6129756\ttotal: 3m 47s\tremaining: 27.8s\n",
      "420:\tlearn: -0.6082857\ttotal: 3m 58s\tremaining: 16.4s\n",
      "440:\tlearn: -0.6037357\ttotal: 4m 10s\tremaining: 5.1s\n",
      "449:\tlearn: -0.6021214\ttotal: 4m 14s\tremaining: 0us\n"
     ]
    },
    {
     "data": {
      "text/plain": [
       "<catboost.core.CatBoostClassifier at 0x1e613472470>"
      ]
     },
     "execution_count": 67,
     "metadata": {},
     "output_type": "execute_result"
    }
   ],
   "source": [
    "cb_model2.fit(X, y)"
   ]
  },
  {
   "cell_type": "markdown",
   "metadata": {},
   "source": [
    "## for test set"
   ]
  },
  {
   "cell_type": "code",
   "execution_count": 68,
   "metadata": {
    "collapsed": false
   },
   "outputs": [],
   "source": [
    "test_set_predictions3 =  cb_model2.predict_proba(test_df)"
   ]
  },
  {
   "cell_type": "code",
   "execution_count": 69,
   "metadata": {
    "collapsed": true
   },
   "outputs": [],
   "source": [
    "d = {\"ID\": test[\"ID\"], 'no_financial_services':test_set_predictions3[:, 0], 'other_only':test_set_predictions3[:, 1],\n",
    "    'mm_only':test_set_predictions3[:, 2], 'mm_plus':test_set_predictions3[:, 3]}\n",
    "df_predictions3 = pd.DataFrame(data=d)\n",
    "df_predictions3 = df_predictions3[[\"ID\", 'no_financial_services','other_only','mm_only','mm_plus']]"
   ]
  },
  {
   "cell_type": "code",
   "execution_count": 70,
   "metadata": {
    "collapsed": false
   },
   "outputs": [
    {
     "data": {
      "text/html": [
       "<div>\n",
       "<table border=\"1\" class=\"dataframe\">\n",
       "  <thead>\n",
       "    <tr style=\"text-align: right;\">\n",
       "      <th></th>\n",
       "      <th>ID</th>\n",
       "      <th>no_financial_services</th>\n",
       "      <th>other_only</th>\n",
       "      <th>mm_only</th>\n",
       "      <th>mm_plus</th>\n",
       "    </tr>\n",
       "  </thead>\n",
       "  <tbody>\n",
       "    <tr>\n",
       "      <th>0</th>\n",
       "      <td>3669</td>\n",
       "      <td>0.007967</td>\n",
       "      <td>0.026987</td>\n",
       "      <td>0.186923</td>\n",
       "      <td>0.778124</td>\n",
       "    </tr>\n",
       "    <tr>\n",
       "      <th>1</th>\n",
       "      <td>5223</td>\n",
       "      <td>0.000539</td>\n",
       "      <td>0.007621</td>\n",
       "      <td>0.051026</td>\n",
       "      <td>0.940814</td>\n",
       "    </tr>\n",
       "    <tr>\n",
       "      <th>2</th>\n",
       "      <td>7275</td>\n",
       "      <td>0.000286</td>\n",
       "      <td>0.001744</td>\n",
       "      <td>0.123701</td>\n",
       "      <td>0.874269</td>\n",
       "    </tr>\n",
       "    <tr>\n",
       "      <th>3</th>\n",
       "      <td>7459</td>\n",
       "      <td>0.137329</td>\n",
       "      <td>0.812466</td>\n",
       "      <td>0.020944</td>\n",
       "      <td>0.029262</td>\n",
       "    </tr>\n",
       "    <tr>\n",
       "      <th>4</th>\n",
       "      <td>3547</td>\n",
       "      <td>0.000253</td>\n",
       "      <td>0.000818</td>\n",
       "      <td>0.030565</td>\n",
       "      <td>0.968364</td>\n",
       "    </tr>\n",
       "  </tbody>\n",
       "</table>\n",
       "</div>"
      ],
      "text/plain": [
       "     ID  no_financial_services  other_only   mm_only   mm_plus\n",
       "0  3669               0.007967    0.026987  0.186923  0.778124\n",
       "1  5223               0.000539    0.007621  0.051026  0.940814\n",
       "2  7275               0.000286    0.001744  0.123701  0.874269\n",
       "3  7459               0.137329    0.812466  0.020944  0.029262\n",
       "4  3547               0.000253    0.000818  0.030565  0.968364"
      ]
     },
     "execution_count": 70,
     "metadata": {},
     "output_type": "execute_result"
    }
   ],
   "source": [
    "df_predictions3.head()"
   ]
  },
  {
   "cell_type": "code",
   "execution_count": 71,
   "metadata": {
    "collapsed": false
   },
   "outputs": [],
   "source": [
    "df_predictions3.to_csv('ranked3.csv',index=False)"
   ]
  },
  {
   "cell_type": "markdown",
   "metadata": {
    "collapsed": true
   },
   "source": [
    "# Stacking the 3 model "
   ]
  },
  {
   "cell_type": "code",
   "execution_count": 72,
   "metadata": {
    "collapsed": true
   },
   "outputs": [],
   "source": [
    "df_predictions1.to_csv('ranked1.csv',index=False)"
   ]
  },
  {
   "cell_type": "code",
   "execution_count": 73,
   "metadata": {
    "collapsed": true
   },
   "outputs": [],
   "source": [
    "df_predictions2.to_csv('ranked2.csv',index=False)"
   ]
  },
  {
   "cell_type": "code",
   "execution_count": 74,
   "metadata": {
    "collapsed": true
   },
   "outputs": [],
   "source": [
    "df_predictions3.to_csv('ranked3.csv',index=False)"
   ]
  },
  {
   "cell_type": "code",
   "execution_count": 75,
   "metadata": {
    "collapsed": true
   },
   "outputs": [],
   "source": [
    "a = pd.read_csv('ranked1.csv')"
   ]
  },
  {
   "cell_type": "code",
   "execution_count": 76,
   "metadata": {
    "collapsed": true
   },
   "outputs": [],
   "source": [
    "b = pd.read_csv('ranked2.csv')\n",
    "c = pd.read_csv('ranked3.csv')"
   ]
  },
  {
   "cell_type": "code",
   "execution_count": 77,
   "metadata": {
    "collapsed": false
   },
   "outputs": [],
   "source": [
    "a = a.drop('ID', axis=1)\n",
    "b = b.drop('ID', axis=1)\n",
    "c = c.drop('ID', axis=1)"
   ]
  },
  {
   "cell_type": "code",
   "execution_count": null,
   "metadata": {
    "collapsed": false
   },
   "outputs": [],
   "source": []
  },
  {
   "cell_type": "code",
   "execution_count": 78,
   "metadata": {
    "collapsed": false
   },
   "outputs": [],
   "source": [
    "stack = (0.7 * a + 0.1 * b + 0.2 * c)"
   ]
  },
  {
   "cell_type": "code",
   "execution_count": 79,
   "metadata": {
    "collapsed": false
   },
   "outputs": [],
   "source": [
    "stack = stack.round(3)"
   ]
  },
  {
   "cell_type": "code",
   "execution_count": 80,
   "metadata": {
    "collapsed": true
   },
   "outputs": [],
   "source": [
    "stack['ID'] = test['ID']"
   ]
  },
  {
   "cell_type": "code",
   "execution_count": 81,
   "metadata": {
    "collapsed": true
   },
   "outputs": [],
   "source": [
    "stack = stack[['ID', 'no_financial_services','other_only','mm_only','mm_plus']]"
   ]
  },
  {
   "cell_type": "code",
   "execution_count": 82,
   "metadata": {
    "collapsed": false
   },
   "outputs": [
    {
     "data": {
      "text/html": [
       "<div>\n",
       "<table border=\"1\" class=\"dataframe\">\n",
       "  <thead>\n",
       "    <tr style=\"text-align: right;\">\n",
       "      <th></th>\n",
       "      <th>ID</th>\n",
       "      <th>no_financial_services</th>\n",
       "      <th>other_only</th>\n",
       "      <th>mm_only</th>\n",
       "      <th>mm_plus</th>\n",
       "    </tr>\n",
       "  </thead>\n",
       "  <tbody>\n",
       "    <tr>\n",
       "      <th>0</th>\n",
       "      <td>3669</td>\n",
       "      <td>0.008</td>\n",
       "      <td>0.029</td>\n",
       "      <td>0.242</td>\n",
       "      <td>0.720</td>\n",
       "    </tr>\n",
       "    <tr>\n",
       "      <th>1</th>\n",
       "      <td>5223</td>\n",
       "      <td>0.000</td>\n",
       "      <td>0.006</td>\n",
       "      <td>0.047</td>\n",
       "      <td>0.946</td>\n",
       "    </tr>\n",
       "    <tr>\n",
       "      <th>2</th>\n",
       "      <td>7275</td>\n",
       "      <td>0.000</td>\n",
       "      <td>0.002</td>\n",
       "      <td>0.142</td>\n",
       "      <td>0.856</td>\n",
       "    </tr>\n",
       "    <tr>\n",
       "      <th>3</th>\n",
       "      <td>7459</td>\n",
       "      <td>0.168</td>\n",
       "      <td>0.784</td>\n",
       "      <td>0.017</td>\n",
       "      <td>0.031</td>\n",
       "    </tr>\n",
       "    <tr>\n",
       "      <th>4</th>\n",
       "      <td>3547</td>\n",
       "      <td>0.000</td>\n",
       "      <td>0.001</td>\n",
       "      <td>0.029</td>\n",
       "      <td>0.969</td>\n",
       "    </tr>\n",
       "  </tbody>\n",
       "</table>\n",
       "</div>"
      ],
      "text/plain": [
       "     ID  no_financial_services  other_only  mm_only  mm_plus\n",
       "0  3669                  0.008       0.029    0.242    0.720\n",
       "1  5223                  0.000       0.006    0.047    0.946\n",
       "2  7275                  0.000       0.002    0.142    0.856\n",
       "3  7459                  0.168       0.784    0.017    0.031\n",
       "4  3547                  0.000       0.001    0.029    0.969"
      ]
     },
     "execution_count": 82,
     "metadata": {},
     "output_type": "execute_result"
    }
   ],
   "source": [
    "stack.head()"
   ]
  },
  {
   "cell_type": "code",
   "execution_count": 83,
   "metadata": {
    "collapsed": true
   },
   "outputs": [],
   "source": [
    "stack.to_csv('stk2.csv',index=False)"
   ]
  },
  {
   "cell_type": "code",
   "execution_count": 84,
   "metadata": {
    "collapsed": false
   },
   "outputs": [
    {
     "ename": "NameError",
     "evalue": "name 'nnn' is not defined",
     "output_type": "error",
     "traceback": [
      "\u001b[0;31m---------------------------------------------------------------------------\u001b[0m",
      "\u001b[0;31mNameError\u001b[0m                                 Traceback (most recent call last)",
      "\u001b[0;32m<ipython-input-84-f01339fc4abb>\u001b[0m in \u001b[0;36m<module>\u001b[0;34m()\u001b[0m\n\u001b[0;32m----> 1\u001b[0;31m \u001b[0mnnn\u001b[0m\u001b[1;33m\u001b[0m\u001b[0m\n\u001b[0m",
      "\u001b[0;31mNameError\u001b[0m: name 'nnn' is not defined"
     ]
    }
   ],
   "source": [
    "nnn"
   ]
  },
  {
   "cell_type": "code",
   "execution_count": null,
   "metadata": {
    "collapsed": true
   },
   "outputs": [],
   "source": [
    "d = pd.read_csv('stk1.csv')"
   ]
  },
  {
   "cell_type": "code",
   "execution_count": null,
   "metadata": {
    "collapsed": false
   },
   "outputs": [],
   "source": [
    "d.head()"
   ]
  },
  {
   "cell_type": "code",
   "execution_count": null,
   "metadata": {
    "collapsed": true
   },
   "outputs": [],
   "source": []
  }
 ],
 "metadata": {
  "kernelspec": {
   "display_name": "Python 3",
   "language": "python",
   "name": "python3"
  },
  "language_info": {
   "codemirror_mode": {
    "name": "ipython",
    "version": 3
   },
   "file_extension": ".py",
   "mimetype": "text/x-python",
   "name": "python",
   "nbconvert_exporter": "python",
   "pygments_lexer": "ipython3",
   "version": "3.6.0"
  }
 },
 "nbformat": 4,
 "nbformat_minor": 2
}

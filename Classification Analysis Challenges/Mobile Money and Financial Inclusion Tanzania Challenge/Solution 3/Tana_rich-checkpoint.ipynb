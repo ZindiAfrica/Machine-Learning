{
 "cells": [
  {
   "cell_type": "code",
   "execution_count": 2,
   "metadata": {},
   "outputs": [
    {
     "name": "stderr",
     "output_type": "stream",
     "text": [
      "C:\\Users\\Raheem Nasiru\\Anaconda3\\lib\\site-packages\\sklearn\\cross_validation.py:44: DeprecationWarning: This module was deprecated in version 0.18 in favor of the model_selection module into which all the refactored classes and functions are moved. Also note that the interface of the new CV iterators are different from that of this module. This module will be removed in 0.20.\n",
      "  \"This module will be removed in 0.20.\", DeprecationWarning)\n"
     ]
    }
   ],
   "source": [
    "import pandas as pd #for data reading and manupulation\n",
    "import numpy as np # for data manupulation\n",
    "import matplotlib.pyplot as plt # for data Visualization\n",
    "import seaborn as sns # for data Visualization\n",
    "%matplotlib inline\n",
    "from sklearn.ensemble import GradientBoostingClassifier, RandomForestClassifier, BaggingClassifier, AdaBoostClassifier\n",
    "from sklearn.cross_validation import train_test_split,cross_val_score, cross_val_predict\n",
    "from xgboost import XGBClassifier\n",
    "from sklearn.linear_model import LogisticRegression\n",
    "from sklearn.naive_bayes import MultinomialNB\n",
    "from sklearn.linear_model import SGDClassifier\n",
    "from sklearn.linear_model import LogisticRegression\n",
    "from sklearn.multiclass import OneVsRestClassifier\n",
    "from sklearn.metrics import hamming_loss\n"
   ]
  },
  {
   "cell_type": "code",
   "execution_count": 403,
   "metadata": {},
   "outputs": [],
   "source": [
    "train = pd.read_csv('Enriched_training_nas.csv')\n",
    "test = pd.read_csv('Enriched_mobile_test_nas.csv')"
   ]
  },
  {
   "cell_type": "code",
   "execution_count": 264,
   "metadata": {},
   "outputs": [
    {
     "name": "stderr",
     "output_type": "stream",
     "text": [
      "C:\\Users\\Raheem Nasiru\\Anaconda3\\lib\\site-packages\\IPython\\core\\interactiveshell.py:2717: DtypeWarning: Columns (26,32,33,42,74) have mixed types. Specify dtype option on import or set low_memory=False.\n",
      "  interactivity=interactivity, compiler=compiler, result=result)\n"
     ]
    }
   ],
   "source": [
    "mob = pd.read_csv('mobilemoney_agents_for_upload_win.csv', encoding='latin')"
   ]
  },
  {
   "cell_type": "code",
   "execution_count": 3,
   "metadata": {},
   "outputs": [],
   "source": [
    "map_train = pd.read_csv('nas_train')\n",
    "map_tests = pd.read_csv('nas_test')"
   ]
  },
  {
   "cell_type": "code",
   "execution_count": 266,
   "metadata": {},
   "outputs": [
    {
     "data": {
      "text/plain": [
       "array(['Arusha', 'Manyara', 'Pwani', 'Shinyanga', 'Kagera', 'Mara',\n",
       "       'Mbeya', 'Dodoma', 'Mwanza', 'Kilimanjaro', 'Tanga', 'Tabora',\n",
       "       'Dar es Salaam', 'Singida', 'Iringa', 'Kigoma', 'Morogoro', 'Lindi',\n",
       "       'Mtwara', 'Ruvuma', 'Rukwa', 'Zanzibar'], dtype=object)"
      ]
     },
     "execution_count": 266,
     "metadata": {},
     "output_type": "execute_result"
    }
   ],
   "source": [
    "map_train['region'].unique()"
   ]
  },
  {
   "cell_type": "code",
   "execution_count": 197,
   "metadata": {},
   "outputs": [
    {
     "data": {
      "text/html": [
       "<div>\n",
       "<table border=\"1\" class=\"dataframe\">\n",
       "  <thead>\n",
       "    <tr style=\"text-align: right;\">\n",
       "      <th></th>\n",
       "      <th>OBJECTID</th>\n",
       "      <th>ID</th>\n",
       "      <th>Q1</th>\n",
       "      <th>Q2</th>\n",
       "      <th>Q3</th>\n",
       "      <th>Q4</th>\n",
       "      <th>Q5</th>\n",
       "      <th>Q6</th>\n",
       "      <th>Q7</th>\n",
       "      <th>Q8_1</th>\n",
       "      <th>...</th>\n",
       "      <th>Population to polygon size rating for the country</th>\n",
       "      <th>Apportionment confidence for the country</th>\n",
       "      <th>HasData</th>\n",
       "      <th>2016 Total Population</th>\n",
       "      <th>2016 Purchasing Power: Total</th>\n",
       "      <th>2016 Pop 25+/Edu: Primary</th>\n",
       "      <th>2016 Pop 25+/Edu: Secondary</th>\n",
       "      <th>2016 Pop 25+/Edu: University/Related</th>\n",
       "      <th>x</th>\n",
       "      <th>y</th>\n",
       "    </tr>\n",
       "  </thead>\n",
       "  <tbody>\n",
       "    <tr>\n",
       "      <th>0</th>\n",
       "      <td>1</td>\n",
       "      <td>5086</td>\n",
       "      <td>98</td>\n",
       "      <td>2</td>\n",
       "      <td>3</td>\n",
       "      <td>1</td>\n",
       "      <td>1</td>\n",
       "      <td>2</td>\n",
       "      <td>2</td>\n",
       "      <td>0</td>\n",
       "      <td>...</td>\n",
       "      <td>2.834</td>\n",
       "      <td>2.614</td>\n",
       "      <td>1</td>\n",
       "      <td>4142.0</td>\n",
       "      <td>3.386526e+09</td>\n",
       "      <td>1229.0</td>\n",
       "      <td>111.0</td>\n",
       "      <td>11.0</td>\n",
       "      <td>29.811396</td>\n",
       "      <td>-4.460442</td>\n",
       "    </tr>\n",
       "    <tr>\n",
       "      <th>1</th>\n",
       "      <td>2</td>\n",
       "      <td>1258</td>\n",
       "      <td>40</td>\n",
       "      <td>1</td>\n",
       "      <td>1</td>\n",
       "      <td>3</td>\n",
       "      <td>5</td>\n",
       "      <td>1</td>\n",
       "      <td>1</td>\n",
       "      <td>1</td>\n",
       "      <td>...</td>\n",
       "      <td>2.834</td>\n",
       "      <td>2.614</td>\n",
       "      <td>1</td>\n",
       "      <td>76383.0</td>\n",
       "      <td>1.421899e+11</td>\n",
       "      <td>4664.0</td>\n",
       "      <td>21664.0</td>\n",
       "      <td>1461.0</td>\n",
       "      <td>39.244871</td>\n",
       "      <td>-6.176438</td>\n",
       "    </tr>\n",
       "    <tr>\n",
       "      <th>2</th>\n",
       "      <td>3</td>\n",
       "      <td>331</td>\n",
       "      <td>18</td>\n",
       "      <td>2</td>\n",
       "      <td>4</td>\n",
       "      <td>6</td>\n",
       "      <td>3</td>\n",
       "      <td>2</td>\n",
       "      <td>1</td>\n",
       "      <td>0</td>\n",
       "      <td>...</td>\n",
       "      <td>2.834</td>\n",
       "      <td>2.614</td>\n",
       "      <td>1</td>\n",
       "      <td>109482.0</td>\n",
       "      <td>1.167192e+11</td>\n",
       "      <td>37082.0</td>\n",
       "      <td>4785.0</td>\n",
       "      <td>598.0</td>\n",
       "      <td>37.652798</td>\n",
       "      <td>-6.825702</td>\n",
       "    </tr>\n",
       "    <tr>\n",
       "      <th>3</th>\n",
       "      <td>4</td>\n",
       "      <td>6729</td>\n",
       "      <td>50</td>\n",
       "      <td>1</td>\n",
       "      <td>1</td>\n",
       "      <td>3</td>\n",
       "      <td>1</td>\n",
       "      <td>1</td>\n",
       "      <td>1</td>\n",
       "      <td>0</td>\n",
       "      <td>...</td>\n",
       "      <td>2.834</td>\n",
       "      <td>2.614</td>\n",
       "      <td>1</td>\n",
       "      <td>2111.0</td>\n",
       "      <td>2.794528e+09</td>\n",
       "      <td>569.0</td>\n",
       "      <td>144.0</td>\n",
       "      <td>27.0</td>\n",
       "      <td>35.808307</td>\n",
       "      <td>-3.372049</td>\n",
       "    </tr>\n",
       "    <tr>\n",
       "      <th>4</th>\n",
       "      <td>5</td>\n",
       "      <td>8671</td>\n",
       "      <td>34</td>\n",
       "      <td>1</td>\n",
       "      <td>1</td>\n",
       "      <td>1</td>\n",
       "      <td>1</td>\n",
       "      <td>2</td>\n",
       "      <td>1</td>\n",
       "      <td>0</td>\n",
       "      <td>...</td>\n",
       "      <td>2.834</td>\n",
       "      <td>2.614</td>\n",
       "      <td>0</td>\n",
       "      <td>0.0</td>\n",
       "      <td>0.000000e+00</td>\n",
       "      <td>0.0</td>\n",
       "      <td>0.0</td>\n",
       "      <td>0.0</td>\n",
       "      <td>31.039095</td>\n",
       "      <td>-7.179645</td>\n",
       "    </tr>\n",
       "  </tbody>\n",
       "</table>\n",
       "<p>5 rows × 56 columns</p>\n",
       "</div>"
      ],
      "text/plain": [
       "   OBJECTID    ID  Q1  Q2  Q3  Q4  Q5  Q6  Q7  Q8_1    ...     \\\n",
       "0         1  5086  98   2   3   1   1   2   2     0    ...      \n",
       "1         2  1258  40   1   1   3   5   1   1     1    ...      \n",
       "2         3   331  18   2   4   6   3   2   1     0    ...      \n",
       "3         4  6729  50   1   1   3   1   1   1     0    ...      \n",
       "4         5  8671  34   1   1   1   1   2   1     0    ...      \n",
       "\n",
       "   Population to polygon size rating for the country  \\\n",
       "0                                              2.834   \n",
       "1                                              2.834   \n",
       "2                                              2.834   \n",
       "3                                              2.834   \n",
       "4                                              2.834   \n",
       "\n",
       "   Apportionment confidence for the country  HasData  2016 Total Population  \\\n",
       "0                                     2.614        1                 4142.0   \n",
       "1                                     2.614        1                76383.0   \n",
       "2                                     2.614        1               109482.0   \n",
       "3                                     2.614        1                 2111.0   \n",
       "4                                     2.614        0                    0.0   \n",
       "\n",
       "   2016 Purchasing Power: Total  2016 Pop 25+/Edu: Primary  \\\n",
       "0                  3.386526e+09                     1229.0   \n",
       "1                  1.421899e+11                     4664.0   \n",
       "2                  1.167192e+11                    37082.0   \n",
       "3                  2.794528e+09                      569.0   \n",
       "4                  0.000000e+00                        0.0   \n",
       "\n",
       "   2016 Pop 25+/Edu: Secondary  2016 Pop 25+/Edu: University/Related  \\\n",
       "0                        111.0                                  11.0   \n",
       "1                      21664.0                                1461.0   \n",
       "2                       4785.0                                 598.0   \n",
       "3                        144.0                                  27.0   \n",
       "4                          0.0                                   0.0   \n",
       "\n",
       "           x         y  \n",
       "0  29.811396 -4.460442  \n",
       "1  39.244871 -6.176438  \n",
       "2  37.652798 -6.825702  \n",
       "3  35.808307 -3.372049  \n",
       "4  31.039095 -7.179645  \n",
       "\n",
       "[5 rows x 56 columns]"
      ]
     },
     "execution_count": 197,
     "metadata": {},
     "output_type": "execute_result"
    }
   ],
   "source": [
    "train.head()"
   ]
  },
  {
   "cell_type": "code",
   "execution_count": 198,
   "metadata": {},
   "outputs": [
    {
     "data": {
      "text/html": [
       "<div>\n",
       "<table border=\"1\" class=\"dataframe\">\n",
       "  <thead>\n",
       "    <tr style=\"text-align: right;\">\n",
       "      <th></th>\n",
       "      <th>OBJECTID</th>\n",
       "      <th>ID</th>\n",
       "      <th>Q1</th>\n",
       "      <th>Q2</th>\n",
       "      <th>Q3</th>\n",
       "      <th>Q4</th>\n",
       "      <th>Q5</th>\n",
       "      <th>Q6</th>\n",
       "      <th>Q7</th>\n",
       "      <th>Q8_1</th>\n",
       "      <th>...</th>\n",
       "      <th>bufferRadii</th>\n",
       "      <th>aggregationMethod</th>\n",
       "      <th>Population to polygon size rating for the country</th>\n",
       "      <th>Apportionment confidence for the country</th>\n",
       "      <th>HasData</th>\n",
       "      <th>2016 Total Population</th>\n",
       "      <th>2016 Purchasing Power: Total</th>\n",
       "      <th>2016 Total Households</th>\n",
       "      <th>x</th>\n",
       "      <th>y</th>\n",
       "    </tr>\n",
       "  </thead>\n",
       "  <tbody>\n",
       "    <tr>\n",
       "      <th>0</th>\n",
       "      <td>1</td>\n",
       "      <td>3669</td>\n",
       "      <td>36</td>\n",
       "      <td>2</td>\n",
       "      <td>2</td>\n",
       "      <td>3</td>\n",
       "      <td>1</td>\n",
       "      <td>1</td>\n",
       "      <td>1</td>\n",
       "      <td>0</td>\n",
       "      <td>...</td>\n",
       "      <td>1.0</td>\n",
       "      <td>BlockApportionment:TZ.Regions</td>\n",
       "      <td>2.834</td>\n",
       "      <td>2.614</td>\n",
       "      <td>1</td>\n",
       "      <td>170.0</td>\n",
       "      <td>1.867756e+08</td>\n",
       "      <td>41.0</td>\n",
       "      <td>34.672094</td>\n",
       "      <td>-8.907215</td>\n",
       "    </tr>\n",
       "    <tr>\n",
       "      <th>1</th>\n",
       "      <td>2</td>\n",
       "      <td>5223</td>\n",
       "      <td>27</td>\n",
       "      <td>1</td>\n",
       "      <td>1</td>\n",
       "      <td>3</td>\n",
       "      <td>1</td>\n",
       "      <td>2</td>\n",
       "      <td>1</td>\n",
       "      <td>0</td>\n",
       "      <td>...</td>\n",
       "      <td>1.0</td>\n",
       "      <td>BlockApportionment:TZ.Regions</td>\n",
       "      <td>2.834</td>\n",
       "      <td>2.614</td>\n",
       "      <td>1</td>\n",
       "      <td>561.0</td>\n",
       "      <td>6.552594e+08</td>\n",
       "      <td>132.0</td>\n",
       "      <td>35.997953</td>\n",
       "      <td>-8.204943</td>\n",
       "    </tr>\n",
       "    <tr>\n",
       "      <th>2</th>\n",
       "      <td>3</td>\n",
       "      <td>7275</td>\n",
       "      <td>25</td>\n",
       "      <td>2</td>\n",
       "      <td>4</td>\n",
       "      <td>6</td>\n",
       "      <td>5</td>\n",
       "      <td>2</td>\n",
       "      <td>1</td>\n",
       "      <td>0</td>\n",
       "      <td>...</td>\n",
       "      <td>1.0</td>\n",
       "      <td>BlockApportionment:TZ.Regions</td>\n",
       "      <td>2.834</td>\n",
       "      <td>2.614</td>\n",
       "      <td>1</td>\n",
       "      <td>10523.0</td>\n",
       "      <td>9.366909e+09</td>\n",
       "      <td>1776.0</td>\n",
       "      <td>32.407155</td>\n",
       "      <td>-4.100044</td>\n",
       "    </tr>\n",
       "    <tr>\n",
       "      <th>3</th>\n",
       "      <td>4</td>\n",
       "      <td>7459</td>\n",
       "      <td>32</td>\n",
       "      <td>1</td>\n",
       "      <td>1</td>\n",
       "      <td>1</td>\n",
       "      <td>1</td>\n",
       "      <td>2</td>\n",
       "      <td>1</td>\n",
       "      <td>0</td>\n",
       "      <td>...</td>\n",
       "      <td>1.0</td>\n",
       "      <td>BlockApportionment:TZ.Regions</td>\n",
       "      <td>2.834</td>\n",
       "      <td>2.614</td>\n",
       "      <td>0</td>\n",
       "      <td>0.0</td>\n",
       "      <td>0.000000e+00</td>\n",
       "      <td>0.0</td>\n",
       "      <td>32.242549</td>\n",
       "      <td>-4.054934</td>\n",
       "    </tr>\n",
       "    <tr>\n",
       "      <th>4</th>\n",
       "      <td>5</td>\n",
       "      <td>3547</td>\n",
       "      <td>39</td>\n",
       "      <td>1</td>\n",
       "      <td>1</td>\n",
       "      <td>6</td>\n",
       "      <td>1</td>\n",
       "      <td>2</td>\n",
       "      <td>1</td>\n",
       "      <td>0</td>\n",
       "      <td>...</td>\n",
       "      <td>1.0</td>\n",
       "      <td>BlockApportionment:TZ.Regions</td>\n",
       "      <td>2.834</td>\n",
       "      <td>2.614</td>\n",
       "      <td>0</td>\n",
       "      <td>0.0</td>\n",
       "      <td>0.000000e+00</td>\n",
       "      <td>0.0</td>\n",
       "      <td>31.730506</td>\n",
       "      <td>-2.888644</td>\n",
       "    </tr>\n",
       "  </tbody>\n",
       "</table>\n",
       "<p>5 rows × 49 columns</p>\n",
       "</div>"
      ],
      "text/plain": [
       "   OBJECTID    ID  Q1  Q2  Q3  Q4  Q5  Q6  Q7  Q8_1    ...     bufferRadii  \\\n",
       "0         1  3669  36   2   2   3   1   1   1     0    ...             1.0   \n",
       "1         2  5223  27   1   1   3   1   2   1     0    ...             1.0   \n",
       "2         3  7275  25   2   4   6   5   2   1     0    ...             1.0   \n",
       "3         4  7459  32   1   1   1   1   2   1     0    ...             1.0   \n",
       "4         5  3547  39   1   1   6   1   2   1     0    ...             1.0   \n",
       "\n",
       "               aggregationMethod  \\\n",
       "0  BlockApportionment:TZ.Regions   \n",
       "1  BlockApportionment:TZ.Regions   \n",
       "2  BlockApportionment:TZ.Regions   \n",
       "3  BlockApportionment:TZ.Regions   \n",
       "4  BlockApportionment:TZ.Regions   \n",
       "\n",
       "   Population to polygon size rating for the country  \\\n",
       "0                                              2.834   \n",
       "1                                              2.834   \n",
       "2                                              2.834   \n",
       "3                                              2.834   \n",
       "4                                              2.834   \n",
       "\n",
       "   Apportionment confidence for the country  HasData  2016 Total Population  \\\n",
       "0                                     2.614        1                  170.0   \n",
       "1                                     2.614        1                  561.0   \n",
       "2                                     2.614        1                10523.0   \n",
       "3                                     2.614        0                    0.0   \n",
       "4                                     2.614        0                    0.0   \n",
       "\n",
       "   2016 Purchasing Power: Total  2016 Total Households          x         y  \n",
       "0                  1.867756e+08                   41.0  34.672094 -8.907215  \n",
       "1                  6.552594e+08                  132.0  35.997953 -8.204943  \n",
       "2                  9.366909e+09                 1776.0  32.407155 -4.100044  \n",
       "3                  0.000000e+00                    0.0  32.242549 -4.054934  \n",
       "4                  0.000000e+00                    0.0  31.730506 -2.888644  \n",
       "\n",
       "[5 rows x 49 columns]"
      ]
     },
     "execution_count": 198,
     "metadata": {},
     "output_type": "execute_result"
    }
   ],
   "source": [
    "test.head()"
   ]
  },
  {
   "cell_type": "code",
   "execution_count": 199,
   "metadata": {},
   "outputs": [
    {
     "data": {
      "text/plain": [
       "Index(['OBJECTID', 'ID', 'Q1', 'Q2', 'Q3', 'Q4', 'Q5', 'Q6', 'Q7', 'Q8_1',\n",
       "       'Q8_2', 'Q8_3', 'Q8_4', 'Q8_5', 'Q8_6', 'Q8_7', 'Q8_8', 'Q8_9', 'Q8_10',\n",
       "       'Q8_11', 'Q9', 'Q10', 'Q11', 'Q12', 'Q13', 'Q14', 'Q15', 'Q16', 'Q17',\n",
       "       'Q18', 'Q19', 'Latitude', 'Longitude', 'mobile_money', 'savings',\n",
       "       'borrowing', 'insurance', 'mobile_money_classification', 'ID.1',\n",
       "       'sourceCountry', 'ENRICH_FID', 'areaType', 'bufferUnits',\n",
       "       'bufferUnitsAlias', 'bufferRadii', 'aggregationMethod',\n",
       "       'Population to polygon size rating for the country',\n",
       "       'Apportionment confidence for the country', 'HasData',\n",
       "       '2016 Total Population', '2016 Purchasing Power: Total',\n",
       "       '2016 Pop 25+/Edu: Primary', '2016 Pop 25+/Edu: Secondary',\n",
       "       '2016 Pop 25+/Edu: University/Related', 'x', 'y'],\n",
       "      dtype='object')"
      ]
     },
     "execution_count": 199,
     "metadata": {},
     "output_type": "execute_result"
    }
   ],
   "source": [
    "train.columns"
   ]
  },
  {
   "cell_type": "code",
   "execution_count": 200,
   "metadata": {},
   "outputs": [
    {
     "data": {
      "text/plain": [
       "Index(['OBJECTID', 'ID', 'Q1', 'Q2', 'Q3', 'Q4', 'Q5', 'Q6', 'Q7', 'Q8_1',\n",
       "       'Q8_2', 'Q8_3', 'Q8_4', 'Q8_5', 'Q8_6', 'Q8_7', 'Q8_8', 'Q8_9', 'Q8_10',\n",
       "       'Q8_11', 'Q9', 'Q10', 'Q11', 'Q12', 'Q13', 'Q14', 'Q15', 'Q16', 'Q17',\n",
       "       'Q18', 'Q19', 'Latitude', 'Longitude', 'ID.1', 'sourceCountry',\n",
       "       'ENRICH_FID', 'areaType', 'bufferUnits', 'bufferUnitsAlias',\n",
       "       'bufferRadii', 'aggregationMethod',\n",
       "       'Population to polygon size rating for the country',\n",
       "       'Apportionment confidence for the country', 'HasData',\n",
       "       '2016 Total Population', '2016 Purchasing Power: Total',\n",
       "       '2016 Total Households', 'x', 'y'],\n",
       "      dtype='object')"
      ]
     },
     "execution_count": 200,
     "metadata": {},
     "output_type": "execute_result"
    }
   ],
   "source": [
    "test.columns"
   ]
  },
  {
   "cell_type": "code",
   "execution_count": 267,
   "metadata": {},
   "outputs": [],
   "source": [
    "mobile = train['mobile_money_classification']"
   ]
  },
  {
   "cell_type": "code",
   "execution_count": 268,
   "metadata": {},
   "outputs": [],
   "source": [
    "train = train.drop(['mobile_money', 'savings', 'borrowing', 'insurance', 'mobile_money_classification'], axis=1)"
   ]
  },
  {
   "cell_type": "code",
   "execution_count": 269,
   "metadata": {
    "collapsed": true
   },
   "outputs": [],
   "source": [
    "# storing number of rows as an a variable for later use\n",
    "len_train=train.shape[0]"
   ]
  },
  {
   "cell_type": "code",
   "execution_count": 270,
   "metadata": {},
   "outputs": [],
   "source": [
    "test = test.drop(['OBJECTID','ID.1', 'sourceCountry',\n",
    "       'ENRICH_FID', 'areaType', 'bufferUnits', 'bufferUnitsAlias',\n",
    "       'bufferRadii', 'aggregationMethod',\n",
    "       'Population to polygon size rating for the country',\n",
    "       'Apportionment confidence for the country','2016 Total Households', 'x', 'y'], axis=1)"
   ]
  },
  {
   "cell_type": "code",
   "execution_count": 271,
   "metadata": {
    "collapsed": true
   },
   "outputs": [],
   "source": [
    "train = train.drop(['OBJECTID', 'ID.1', 'sourceCountry',\n",
    "       'ENRICH_FID', 'areaType', 'bufferUnits', 'bufferUnitsAlias',\n",
    "       'bufferRadii', 'aggregationMethod',\n",
    "       'Population to polygon size rating for the country',\n",
    "       'Apportionment confidence for the country','2016 Pop 25+/Edu: Primary', '2016 Pop 25+/Edu: Secondary',\n",
    "       '2016 Pop 25+/Edu: University/Related', 'x', 'y'], axis=1)"
   ]
  },
  {
   "cell_type": "code",
   "execution_count": 272,
   "metadata": {},
   "outputs": [
    {
     "data": {
      "text/html": [
       "<div>\n",
       "<table border=\"1\" class=\"dataframe\">\n",
       "  <thead>\n",
       "    <tr style=\"text-align: right;\">\n",
       "      <th></th>\n",
       "      <th>ID</th>\n",
       "      <th>Q1</th>\n",
       "      <th>Q2</th>\n",
       "      <th>Q3</th>\n",
       "      <th>Q4</th>\n",
       "      <th>Q5</th>\n",
       "      <th>Q6</th>\n",
       "      <th>Q7</th>\n",
       "      <th>Q8_1</th>\n",
       "      <th>Q8_2</th>\n",
       "      <th>...</th>\n",
       "      <th>Q15</th>\n",
       "      <th>Q16</th>\n",
       "      <th>Q17</th>\n",
       "      <th>Q18</th>\n",
       "      <th>Q19</th>\n",
       "      <th>Latitude</th>\n",
       "      <th>Longitude</th>\n",
       "      <th>HasData</th>\n",
       "      <th>2016 Total Population</th>\n",
       "      <th>2016 Purchasing Power: Total</th>\n",
       "    </tr>\n",
       "  </thead>\n",
       "  <tbody>\n",
       "    <tr>\n",
       "      <th>0</th>\n",
       "      <td>5086</td>\n",
       "      <td>98</td>\n",
       "      <td>2</td>\n",
       "      <td>3</td>\n",
       "      <td>1</td>\n",
       "      <td>1</td>\n",
       "      <td>2</td>\n",
       "      <td>2</td>\n",
       "      <td>0</td>\n",
       "      <td>0</td>\n",
       "      <td>...</td>\n",
       "      <td>-1</td>\n",
       "      <td>1</td>\n",
       "      <td>-1</td>\n",
       "      <td>4</td>\n",
       "      <td>4</td>\n",
       "      <td>-4.460442</td>\n",
       "      <td>29.811396</td>\n",
       "      <td>1</td>\n",
       "      <td>4142.0</td>\n",
       "      <td>3.386526e+09</td>\n",
       "    </tr>\n",
       "    <tr>\n",
       "      <th>1</th>\n",
       "      <td>1258</td>\n",
       "      <td>40</td>\n",
       "      <td>1</td>\n",
       "      <td>1</td>\n",
       "      <td>3</td>\n",
       "      <td>5</td>\n",
       "      <td>1</td>\n",
       "      <td>1</td>\n",
       "      <td>1</td>\n",
       "      <td>0</td>\n",
       "      <td>...</td>\n",
       "      <td>5</td>\n",
       "      <td>4</td>\n",
       "      <td>4</td>\n",
       "      <td>1</td>\n",
       "      <td>4</td>\n",
       "      <td>-6.176438</td>\n",
       "      <td>39.244871</td>\n",
       "      <td>1</td>\n",
       "      <td>76383.0</td>\n",
       "      <td>1.421899e+11</td>\n",
       "    </tr>\n",
       "    <tr>\n",
       "      <th>2</th>\n",
       "      <td>331</td>\n",
       "      <td>18</td>\n",
       "      <td>2</td>\n",
       "      <td>4</td>\n",
       "      <td>6</td>\n",
       "      <td>3</td>\n",
       "      <td>2</td>\n",
       "      <td>1</td>\n",
       "      <td>0</td>\n",
       "      <td>0</td>\n",
       "      <td>...</td>\n",
       "      <td>-1</td>\n",
       "      <td>1</td>\n",
       "      <td>-1</td>\n",
       "      <td>1</td>\n",
       "      <td>1</td>\n",
       "      <td>-6.825702</td>\n",
       "      <td>37.652798</td>\n",
       "      <td>1</td>\n",
       "      <td>109482.0</td>\n",
       "      <td>1.167192e+11</td>\n",
       "    </tr>\n",
       "    <tr>\n",
       "      <th>3</th>\n",
       "      <td>6729</td>\n",
       "      <td>50</td>\n",
       "      <td>1</td>\n",
       "      <td>1</td>\n",
       "      <td>3</td>\n",
       "      <td>1</td>\n",
       "      <td>1</td>\n",
       "      <td>1</td>\n",
       "      <td>0</td>\n",
       "      <td>0</td>\n",
       "      <td>...</td>\n",
       "      <td>-1</td>\n",
       "      <td>4</td>\n",
       "      <td>-1</td>\n",
       "      <td>1</td>\n",
       "      <td>4</td>\n",
       "      <td>-3.372049</td>\n",
       "      <td>35.808307</td>\n",
       "      <td>1</td>\n",
       "      <td>2111.0</td>\n",
       "      <td>2.794528e+09</td>\n",
       "    </tr>\n",
       "    <tr>\n",
       "      <th>4</th>\n",
       "      <td>8671</td>\n",
       "      <td>34</td>\n",
       "      <td>1</td>\n",
       "      <td>1</td>\n",
       "      <td>1</td>\n",
       "      <td>1</td>\n",
       "      <td>2</td>\n",
       "      <td>1</td>\n",
       "      <td>0</td>\n",
       "      <td>1</td>\n",
       "      <td>...</td>\n",
       "      <td>1</td>\n",
       "      <td>1</td>\n",
       "      <td>-1</td>\n",
       "      <td>1</td>\n",
       "      <td>4</td>\n",
       "      <td>-7.179645</td>\n",
       "      <td>31.039095</td>\n",
       "      <td>0</td>\n",
       "      <td>0.0</td>\n",
       "      <td>0.000000e+00</td>\n",
       "    </tr>\n",
       "  </tbody>\n",
       "</table>\n",
       "<p>5 rows × 35 columns</p>\n",
       "</div>"
      ],
      "text/plain": [
       "     ID  Q1  Q2  Q3  Q4  Q5  Q6  Q7  Q8_1  Q8_2              ...               \\\n",
       "0  5086  98   2   3   1   1   2   2     0     0              ...                \n",
       "1  1258  40   1   1   3   5   1   1     1     0              ...                \n",
       "2   331  18   2   4   6   3   2   1     0     0              ...                \n",
       "3  6729  50   1   1   3   1   1   1     0     0              ...                \n",
       "4  8671  34   1   1   1   1   2   1     0     1              ...                \n",
       "\n",
       "   Q15  Q16  Q17  Q18  Q19  Latitude  Longitude  HasData  \\\n",
       "0   -1    1   -1    4    4 -4.460442  29.811396        1   \n",
       "1    5    4    4    1    4 -6.176438  39.244871        1   \n",
       "2   -1    1   -1    1    1 -6.825702  37.652798        1   \n",
       "3   -1    4   -1    1    4 -3.372049  35.808307        1   \n",
       "4    1    1   -1    1    4 -7.179645  31.039095        0   \n",
       "\n",
       "   2016 Total Population  2016 Purchasing Power: Total  \n",
       "0                 4142.0                  3.386526e+09  \n",
       "1                76383.0                  1.421899e+11  \n",
       "2               109482.0                  1.167192e+11  \n",
       "3                 2111.0                  2.794528e+09  \n",
       "4                    0.0                  0.000000e+00  \n",
       "\n",
       "[5 rows x 35 columns]"
      ]
     },
     "execution_count": 272,
     "metadata": {},
     "output_type": "execute_result"
    }
   ],
   "source": [
    "train.head()"
   ]
  },
  {
   "cell_type": "code",
   "execution_count": 273,
   "metadata": {},
   "outputs": [
    {
     "data": {
      "text/html": [
       "<div>\n",
       "<table border=\"1\" class=\"dataframe\">\n",
       "  <thead>\n",
       "    <tr style=\"text-align: right;\">\n",
       "      <th></th>\n",
       "      <th>ID</th>\n",
       "      <th>Q1</th>\n",
       "      <th>Q2</th>\n",
       "      <th>Q3</th>\n",
       "      <th>Q4</th>\n",
       "      <th>Q5</th>\n",
       "      <th>Q6</th>\n",
       "      <th>Q7</th>\n",
       "      <th>Q8_1</th>\n",
       "      <th>Q8_2</th>\n",
       "      <th>...</th>\n",
       "      <th>Q15</th>\n",
       "      <th>Q16</th>\n",
       "      <th>Q17</th>\n",
       "      <th>Q18</th>\n",
       "      <th>Q19</th>\n",
       "      <th>Latitude</th>\n",
       "      <th>Longitude</th>\n",
       "      <th>HasData</th>\n",
       "      <th>2016 Total Population</th>\n",
       "      <th>2016 Purchasing Power: Total</th>\n",
       "    </tr>\n",
       "  </thead>\n",
       "  <tbody>\n",
       "    <tr>\n",
       "      <th>0</th>\n",
       "      <td>3669</td>\n",
       "      <td>36</td>\n",
       "      <td>2</td>\n",
       "      <td>2</td>\n",
       "      <td>3</td>\n",
       "      <td>1</td>\n",
       "      <td>1</td>\n",
       "      <td>1</td>\n",
       "      <td>0</td>\n",
       "      <td>1</td>\n",
       "      <td>...</td>\n",
       "      <td>5</td>\n",
       "      <td>1</td>\n",
       "      <td>-1</td>\n",
       "      <td>1</td>\n",
       "      <td>4</td>\n",
       "      <td>-8.907215</td>\n",
       "      <td>34.672094</td>\n",
       "      <td>1</td>\n",
       "      <td>170.0</td>\n",
       "      <td>1.867756e+08</td>\n",
       "    </tr>\n",
       "    <tr>\n",
       "      <th>1</th>\n",
       "      <td>5223</td>\n",
       "      <td>27</td>\n",
       "      <td>1</td>\n",
       "      <td>1</td>\n",
       "      <td>3</td>\n",
       "      <td>1</td>\n",
       "      <td>2</td>\n",
       "      <td>1</td>\n",
       "      <td>0</td>\n",
       "      <td>1</td>\n",
       "      <td>...</td>\n",
       "      <td>6</td>\n",
       "      <td>1</td>\n",
       "      <td>-1</td>\n",
       "      <td>1</td>\n",
       "      <td>1</td>\n",
       "      <td>-8.204943</td>\n",
       "      <td>35.997953</td>\n",
       "      <td>1</td>\n",
       "      <td>561.0</td>\n",
       "      <td>6.552594e+08</td>\n",
       "    </tr>\n",
       "    <tr>\n",
       "      <th>2</th>\n",
       "      <td>7275</td>\n",
       "      <td>25</td>\n",
       "      <td>2</td>\n",
       "      <td>4</td>\n",
       "      <td>6</td>\n",
       "      <td>5</td>\n",
       "      <td>2</td>\n",
       "      <td>1</td>\n",
       "      <td>0</td>\n",
       "      <td>1</td>\n",
       "      <td>...</td>\n",
       "      <td>4</td>\n",
       "      <td>5</td>\n",
       "      <td>-1</td>\n",
       "      <td>1</td>\n",
       "      <td>1</td>\n",
       "      <td>-4.100044</td>\n",
       "      <td>32.407155</td>\n",
       "      <td>1</td>\n",
       "      <td>10523.0</td>\n",
       "      <td>9.366909e+09</td>\n",
       "    </tr>\n",
       "    <tr>\n",
       "      <th>3</th>\n",
       "      <td>7459</td>\n",
       "      <td>32</td>\n",
       "      <td>1</td>\n",
       "      <td>1</td>\n",
       "      <td>1</td>\n",
       "      <td>1</td>\n",
       "      <td>2</td>\n",
       "      <td>1</td>\n",
       "      <td>0</td>\n",
       "      <td>1</td>\n",
       "      <td>...</td>\n",
       "      <td>-1</td>\n",
       "      <td>1</td>\n",
       "      <td>-1</td>\n",
       "      <td>4</td>\n",
       "      <td>4</td>\n",
       "      <td>-4.054934</td>\n",
       "      <td>32.242549</td>\n",
       "      <td>0</td>\n",
       "      <td>0.0</td>\n",
       "      <td>0.000000e+00</td>\n",
       "    </tr>\n",
       "    <tr>\n",
       "      <th>4</th>\n",
       "      <td>3547</td>\n",
       "      <td>39</td>\n",
       "      <td>1</td>\n",
       "      <td>1</td>\n",
       "      <td>6</td>\n",
       "      <td>1</td>\n",
       "      <td>2</td>\n",
       "      <td>1</td>\n",
       "      <td>0</td>\n",
       "      <td>1</td>\n",
       "      <td>...</td>\n",
       "      <td>1</td>\n",
       "      <td>3</td>\n",
       "      <td>3</td>\n",
       "      <td>1</td>\n",
       "      <td>1</td>\n",
       "      <td>-2.888644</td>\n",
       "      <td>31.730506</td>\n",
       "      <td>0</td>\n",
       "      <td>0.0</td>\n",
       "      <td>0.000000e+00</td>\n",
       "    </tr>\n",
       "  </tbody>\n",
       "</table>\n",
       "<p>5 rows × 35 columns</p>\n",
       "</div>"
      ],
      "text/plain": [
       "     ID  Q1  Q2  Q3  Q4  Q5  Q6  Q7  Q8_1  Q8_2              ...               \\\n",
       "0  3669  36   2   2   3   1   1   1     0     1              ...                \n",
       "1  5223  27   1   1   3   1   2   1     0     1              ...                \n",
       "2  7275  25   2   4   6   5   2   1     0     1              ...                \n",
       "3  7459  32   1   1   1   1   2   1     0     1              ...                \n",
       "4  3547  39   1   1   6   1   2   1     0     1              ...                \n",
       "\n",
       "   Q15  Q16  Q17  Q18  Q19  Latitude  Longitude  HasData  \\\n",
       "0    5    1   -1    1    4 -8.907215  34.672094        1   \n",
       "1    6    1   -1    1    1 -8.204943  35.997953        1   \n",
       "2    4    5   -1    1    1 -4.100044  32.407155        1   \n",
       "3   -1    1   -1    4    4 -4.054934  32.242549        0   \n",
       "4    1    3    3    1    1 -2.888644  31.730506        0   \n",
       "\n",
       "   2016 Total Population  2016 Purchasing Power: Total  \n",
       "0                  170.0                  1.867756e+08  \n",
       "1                  561.0                  6.552594e+08  \n",
       "2                10523.0                  9.366909e+09  \n",
       "3                    0.0                  0.000000e+00  \n",
       "4                    0.0                  0.000000e+00  \n",
       "\n",
       "[5 rows x 35 columns]"
      ]
     },
     "execution_count": 273,
     "metadata": {},
     "output_type": "execute_result"
    }
   ],
   "source": [
    "test.head()"
   ]
  },
  {
   "cell_type": "code",
   "execution_count": 274,
   "metadata": {},
   "outputs": [
    {
     "data": {
      "text/plain": [
       "7094"
      ]
     },
     "execution_count": 274,
     "metadata": {},
     "output_type": "execute_result"
    }
   ],
   "source": [
    "map_train['ID'].nunique()"
   ]
  },
  {
   "cell_type": "code",
   "execution_count": 275,
   "metadata": {},
   "outputs": [
    {
     "data": {
      "text/plain": [
       "2365"
      ]
     },
     "execution_count": 275,
     "metadata": {},
     "output_type": "execute_result"
    }
   ],
   "source": [
    "map_tests['ID'].nunique()"
   ]
  },
  {
   "cell_type": "code",
   "execution_count": 276,
   "metadata": {
    "collapsed": true
   },
   "outputs": [],
   "source": [
    "train = train.merge(map_train, on='ID')"
   ]
  },
  {
   "cell_type": "code",
   "execution_count": 277,
   "metadata": {
    "collapsed": true
   },
   "outputs": [],
   "source": [
    "test = test.merge(map_tests, on='ID')"
   ]
  },
  {
   "cell_type": "code",
   "execution_count": 278,
   "metadata": {},
   "outputs": [],
   "source": [
    "#train_lat['ID'] = train['ID']"
   ]
  },
  {
   "cell_type": "code",
   "execution_count": 279,
   "metadata": {},
   "outputs": [],
   "source": [
    "#test_lat['ID'] = test['ID']"
   ]
  },
  {
   "cell_type": "code",
   "execution_count": 280,
   "metadata": {},
   "outputs": [],
   "source": [
    "#train = train.merge(train_lat, on='ID')"
   ]
  },
  {
   "cell_type": "code",
   "execution_count": 281,
   "metadata": {},
   "outputs": [],
   "source": [
    "#train_lat.head()"
   ]
  },
  {
   "cell_type": "code",
   "execution_count": 282,
   "metadata": {
    "collapsed": true
   },
   "outputs": [],
   "source": [
    "#test = test.merge(test_lat, on='ID')"
   ]
  },
  {
   "cell_type": "code",
   "execution_count": 283,
   "metadata": {
    "collapsed": true
   },
   "outputs": [],
   "source": [
    "#coalescing the two columns for data treatment\n",
    "data=train.append(test)\n",
    "data=data.reset_index()\n",
    "data=data.drop('index',axis=1)"
   ]
  },
  {
   "cell_type": "code",
   "execution_count": 218,
   "metadata": {
    "collapsed": true
   },
   "outputs": [],
   "source": [
    "#data = data.drop(['2016 Purchasing Power: Total', '2016 Total Population'], axis=1)"
   ]
  },
  {
   "cell_type": "code",
   "execution_count": 219,
   "metadata": {
    "collapsed": true
   },
   "outputs": [],
   "source": [
    "mob = mob[['region', 'district', 'ward']]"
   ]
  },
  {
   "cell_type": "code",
   "execution_count": 147,
   "metadata": {
    "collapsed": true
   },
   "outputs": [],
   "source": [
    "mob = mob['region']"
   ]
  },
  {
   "cell_type": "code",
   "execution_count": 148,
   "metadata": {
    "collapsed": true
   },
   "outputs": [],
   "source": [
    "mob_region = mob[:9459]"
   ]
  },
  {
   "cell_type": "code",
   "execution_count": 149,
   "metadata": {
    "collapsed": true
   },
   "outputs": [],
   "source": [
    "mob_region = pd.DataFrame(mob_region, columns=['region'])"
   ]
  },
  {
   "cell_type": "code",
   "execution_count": 150,
   "metadata": {
    "collapsed": true
   },
   "outputs": [],
   "source": [
    "data['region'] = mob_region['region']"
   ]
  },
  {
   "cell_type": "code",
   "execution_count": 151,
   "metadata": {
    "collapsed": true
   },
   "outputs": [],
   "source": [
    "data['region'] = data['region'].fillna('Dar es Salaam')"
   ]
  },
  {
   "cell_type": "code",
   "execution_count": 284,
   "metadata": {
    "collapsed": true
   },
   "outputs": [],
   "source": [
    "data['latitude2'] = np.round(data.Latitude)\n",
    "data['longitude2'] = np.round(data.Longitude)\n",
    "\n",
    "#data['distance'] = distance(**data[['Latitude', 'Longitude', 'latitude2', 'longitude2']])"
   ]
  },
  {
   "cell_type": "code",
   "execution_count": 285,
   "metadata": {
    "collapsed": true
   },
   "outputs": [],
   "source": [
    "# Provided function\n",
    "import numpy as np\n",
    "def haversine(lon1, lat1, lon2, lat2, earth_radius=6367):\n",
    "    \"\"\"\n",
    "    Calculate the great circle distance between two points\n",
    "    on the earth (specified in decimal degrees)\n",
    "\n",
    "    All args must be of equal length.\n",
    "\n",
    "    \"\"\"\n",
    "    lon1, lat1, lon2, lat2 = map(np.radians, [lon1, lat1, lon2, lat2])\n",
    "\n",
    "    dlon = lon2 - lon1\n",
    "    dlat = lat2 - lat1\n",
    "\n",
    "    a = np.sin(dlat/2.0)**2 + np.cos(lat1) * np.cos(lat2) * np.sin(dlon/2.0)**2\n",
    "\n",
    "    c = 2 * np.arcsin(np.sqrt(a))\n",
    "    km = earth_radius * c\n",
    "    return km"
   ]
  },
  {
   "cell_type": "code",
   "execution_count": 286,
   "metadata": {
    "collapsed": true
   },
   "outputs": [],
   "source": [
    "def haversine_est(lon1, lat1, lon2, lat2):\n",
    "    R = 6371.0 \n",
    "    \"\"\"\n",
    "    Estimation with equirectangular distance approximation. \n",
    "    Since the distance is relatively small, you can use the equirectangular distance approximation. \n",
    "    This approximation is faster than using the Haversine formula. \n",
    "    So, to get the distance from your reference point (lat1/lon1) to the point your are testing (lat2/lon2),\n",
    "    use the formula below. \n",
    "    Important Note: you need to convert all lat/lon points to radians:\n",
    "    \"\"\"\n",
    "    lon1, lat1, lon2, lat2 = map(np.radians, [lon1, lat1, lon2, lat2])\n",
    "\n",
    "    x = (lon2 - lon1) * np.cos( 0.5*(lat2+lat1) )\n",
    "    y = lat2 - lat1\n",
    "    km = R * np.sqrt( x*x + y*y )\n",
    "    return km"
   ]
  },
  {
   "cell_type": "code",
   "execution_count": 223,
   "metadata": {},
   "outputs": [],
   "source": [
    "#data.head()"
   ]
  },
  {
   "cell_type": "code",
   "execution_count": 287,
   "metadata": {},
   "outputs": [],
   "source": [
    "data['distance'] = data[['latitude2', 'longitude2', 'Latitude','Longitude']].apply(lambda x: haversine(x[1], x[0], x[3], x[2]), axis=1)"
   ]
  },
  {
   "cell_type": "code",
   "execution_count": 288,
   "metadata": {
    "collapsed": true
   },
   "outputs": [],
   "source": [
    "def dummy_manhattan_distance(lon1, lat1, lon2, lat2):\n",
    "    a = haversine(lon1, lat1, lon2, lat2)\n",
    "    b = haversine(lon1, lat1, lon2, lat2)\n",
    "    return a + b"
   ]
  },
  {
   "cell_type": "code",
   "execution_count": 289,
   "metadata": {
    "collapsed": true
   },
   "outputs": [],
   "source": [
    "data['distance_duumy'] = data[['latitude2', 'longitude2', 'Latitude','Longitude']].apply(lambda x: dummy_manhattan_distance(x[1], x[0], x[3], x[2]), axis=1)"
   ]
  },
  {
   "cell_type": "code",
   "execution_count": 290,
   "metadata": {
    "collapsed": true
   },
   "outputs": [],
   "source": [
    "def bearing_array(lon1, lat1, lon2, lat2):\n",
    "    AVG_EARTH_RADIUS = 6371  # in km\n",
    "    lng_delta_rad = np.radians(lon2 - lon1)\n",
    "    lon1, lat1, lon2, lat2 = map(np.radians, (lon1, lat1, lon2, lat2))\n",
    "    y = np.sin(lng_delta_rad) * np.cos(lat2)\n",
    "    x = np.cos(lat1) * np.sin(lat2) - np.sin(lat1) * np.cos(lat2) * np.cos(lng_delta_rad)\n",
    "    return np.degrees(np.arctan2(y, x))"
   ]
  },
  {
   "cell_type": "code",
   "execution_count": 291,
   "metadata": {
    "collapsed": true
   },
   "outputs": [],
   "source": [
    "data['distance_bearing'] = data[['latitude2', 'longitude2', 'Latitude','Longitude']].apply(lambda x: bearing_array(x[1], x[0], x[3], x[2]), axis=1)"
   ]
  },
  {
   "cell_type": "code",
   "execution_count": 292,
   "metadata": {
    "collapsed": true
   },
   "outputs": [],
   "source": [
    "data['Q8_1_7'] = data['Q8_1'] + data['Q8_7']"
   ]
  },
  {
   "cell_type": "code",
   "execution_count": 293,
   "metadata": {
    "collapsed": true
   },
   "outputs": [],
   "source": [
    "data['Q8_9_10'] = data['Q8_10'] + data['Q8_9']"
   ]
  },
  {
   "cell_type": "code",
   "execution_count": 294,
   "metadata": {
    "collapsed": true
   },
   "outputs": [],
   "source": [
    "data['qs'] = data['Q8_2'] + data['Q8_3'] + data['Q8_4'] + data['Q8_5'] + data['Q8_6']"
   ]
  },
  {
   "cell_type": "code",
   "execution_count": 232,
   "metadata": {},
   "outputs": [
    {
     "data": {
      "text/html": [
       "<div>\n",
       "<table border=\"1\" class=\"dataframe\">\n",
       "  <thead>\n",
       "    <tr style=\"text-align: right;\">\n",
       "      <th>Q9</th>\n",
       "      <th>-1</th>\n",
       "      <th>1</th>\n",
       "      <th>2</th>\n",
       "      <th>3</th>\n",
       "      <th>4</th>\n",
       "      <th>5</th>\n",
       "      <th>6</th>\n",
       "      <th>7</th>\n",
       "    </tr>\n",
       "    <tr>\n",
       "      <th>Q8_1</th>\n",
       "      <th></th>\n",
       "      <th></th>\n",
       "      <th></th>\n",
       "      <th></th>\n",
       "      <th></th>\n",
       "      <th></th>\n",
       "      <th></th>\n",
       "      <th></th>\n",
       "    </tr>\n",
       "  </thead>\n",
       "  <tbody>\n",
       "    <tr>\n",
       "      <th>0</th>\n",
       "      <td>8871</td>\n",
       "      <td>0</td>\n",
       "      <td>0</td>\n",
       "      <td>0</td>\n",
       "      <td>0</td>\n",
       "      <td>0</td>\n",
       "      <td>0</td>\n",
       "      <td>0</td>\n",
       "    </tr>\n",
       "    <tr>\n",
       "      <th>1</th>\n",
       "      <td>0</td>\n",
       "      <td>227</td>\n",
       "      <td>209</td>\n",
       "      <td>82</td>\n",
       "      <td>1</td>\n",
       "      <td>3</td>\n",
       "      <td>53</td>\n",
       "      <td>13</td>\n",
       "    </tr>\n",
       "  </tbody>\n",
       "</table>\n",
       "</div>"
      ],
      "text/plain": [
       "Q9      -1    1    2   3   4   5   6   7\n",
       "Q8_1                                    \n",
       "0     8871    0    0   0   0   0   0   0\n",
       "1        0  227  209  82   1   3  53  13"
      ]
     },
     "execution_count": 232,
     "metadata": {},
     "output_type": "execute_result"
    }
   ],
   "source": [
    "pd.crosstab(data['Q8_1'], data['Q9'])"
   ]
  },
  {
   "cell_type": "code",
   "execution_count": 233,
   "metadata": {},
   "outputs": [],
   "source": [
    "# using croostab value counts to generate meaningful features\n",
    "data['Q8_1&Q9_trans'] = data['Q9'].map(data.groupby(data['Q9'])['Q8_1'].count())"
   ]
  },
  {
   "cell_type": "code",
   "execution_count": 234,
   "metadata": {
    "collapsed": true
   },
   "outputs": [],
   "source": [
    "data['Q8_2&Q10_trans'] = data['Q10'].map(data.groupby(data['Q10'])['Q8_2'].count())"
   ]
  },
  {
   "cell_type": "code",
   "execution_count": 235,
   "metadata": {
    "collapsed": true
   },
   "outputs": [],
   "source": [
    "data['Q8_3&Q11_trans'] = data['Q11'].map(data.groupby(data['Q11'])['Q8_3'].count())"
   ]
  },
  {
   "cell_type": "code",
   "execution_count": null,
   "metadata": {
    "collapsed": true
   },
   "outputs": [],
   "source": []
  },
  {
   "cell_type": "code",
   "execution_count": 236,
   "metadata": {},
   "outputs": [
    {
     "data": {
      "text/html": [
       "<div>\n",
       "<table border=\"1\" class=\"dataframe\">\n",
       "  <thead>\n",
       "    <tr style=\"text-align: right;\">\n",
       "      <th></th>\n",
       "      <th>ID</th>\n",
       "      <th>Q1</th>\n",
       "      <th>Q2</th>\n",
       "      <th>Q3</th>\n",
       "      <th>Q4</th>\n",
       "      <th>Q5</th>\n",
       "      <th>Q6</th>\n",
       "      <th>Q7</th>\n",
       "      <th>Q8_1</th>\n",
       "      <th>Q8_2</th>\n",
       "      <th>...</th>\n",
       "      <th>longitude2</th>\n",
       "      <th>distance</th>\n",
       "      <th>distance_duumy</th>\n",
       "      <th>distance_bearing</th>\n",
       "      <th>Q8_1_7</th>\n",
       "      <th>Q8_9_10</th>\n",
       "      <th>qs</th>\n",
       "      <th>Q8_1&amp;Q9_trans</th>\n",
       "      <th>Q8_2&amp;Q10_trans</th>\n",
       "      <th>Q8_3&amp;Q11_trans</th>\n",
       "    </tr>\n",
       "  </thead>\n",
       "  <tbody>\n",
       "    <tr>\n",
       "      <th>0</th>\n",
       "      <td>5086</td>\n",
       "      <td>98</td>\n",
       "      <td>2</td>\n",
       "      <td>3</td>\n",
       "      <td>1</td>\n",
       "      <td>1</td>\n",
       "      <td>2</td>\n",
       "      <td>2</td>\n",
       "      <td>0</td>\n",
       "      <td>0</td>\n",
       "      <td>...</td>\n",
       "      <td>30.0</td>\n",
       "      <td>55.271127</td>\n",
       "      <td>110.542253</td>\n",
       "      <td>-157.786948</td>\n",
       "      <td>0</td>\n",
       "      <td>1</td>\n",
       "      <td>0</td>\n",
       "      <td>8871</td>\n",
       "      <td>3660</td>\n",
       "      <td>8957</td>\n",
       "    </tr>\n",
       "    <tr>\n",
       "      <th>1</th>\n",
       "      <td>1258</td>\n",
       "      <td>40</td>\n",
       "      <td>1</td>\n",
       "      <td>1</td>\n",
       "      <td>3</td>\n",
       "      <td>5</td>\n",
       "      <td>1</td>\n",
       "      <td>1</td>\n",
       "      <td>1</td>\n",
       "      <td>0</td>\n",
       "      <td>...</td>\n",
       "      <td>39.0</td>\n",
       "      <td>33.414768</td>\n",
       "      <td>66.829536</td>\n",
       "      <td>125.940889</td>\n",
       "      <td>1</td>\n",
       "      <td>0</td>\n",
       "      <td>0</td>\n",
       "      <td>227</td>\n",
       "      <td>3660</td>\n",
       "      <td>8957</td>\n",
       "    </tr>\n",
       "    <tr>\n",
       "      <th>2</th>\n",
       "      <td>331</td>\n",
       "      <td>18</td>\n",
       "      <td>2</td>\n",
       "      <td>4</td>\n",
       "      <td>6</td>\n",
       "      <td>3</td>\n",
       "      <td>2</td>\n",
       "      <td>1</td>\n",
       "      <td>0</td>\n",
       "      <td>0</td>\n",
       "      <td>...</td>\n",
       "      <td>38.0</td>\n",
       "      <td>42.921155</td>\n",
       "      <td>85.842310</td>\n",
       "      <td>-63.196030</td>\n",
       "      <td>0</td>\n",
       "      <td>1</td>\n",
       "      <td>0</td>\n",
       "      <td>8871</td>\n",
       "      <td>3660</td>\n",
       "      <td>8957</td>\n",
       "    </tr>\n",
       "    <tr>\n",
       "      <th>3</th>\n",
       "      <td>6729</td>\n",
       "      <td>50</td>\n",
       "      <td>1</td>\n",
       "      <td>1</td>\n",
       "      <td>3</td>\n",
       "      <td>1</td>\n",
       "      <td>1</td>\n",
       "      <td>1</td>\n",
       "      <td>0</td>\n",
       "      <td>0</td>\n",
       "      <td>...</td>\n",
       "      <td>36.0</td>\n",
       "      <td>46.494014</td>\n",
       "      <td>92.988027</td>\n",
       "      <td>-152.782230</td>\n",
       "      <td>0</td>\n",
       "      <td>0</td>\n",
       "      <td>1</td>\n",
       "      <td>8871</td>\n",
       "      <td>3660</td>\n",
       "      <td>8957</td>\n",
       "    </tr>\n",
       "    <tr>\n",
       "      <th>4</th>\n",
       "      <td>8671</td>\n",
       "      <td>34</td>\n",
       "      <td>1</td>\n",
       "      <td>1</td>\n",
       "      <td>1</td>\n",
       "      <td>1</td>\n",
       "      <td>2</td>\n",
       "      <td>1</td>\n",
       "      <td>0</td>\n",
       "      <td>1</td>\n",
       "      <td>...</td>\n",
       "      <td>31.0</td>\n",
       "      <td>20.423306</td>\n",
       "      <td>40.846612</td>\n",
       "      <td>167.815988</td>\n",
       "      <td>0</td>\n",
       "      <td>0</td>\n",
       "      <td>1</td>\n",
       "      <td>8871</td>\n",
       "      <td>4394</td>\n",
       "      <td>8957</td>\n",
       "    </tr>\n",
       "  </tbody>\n",
       "</table>\n",
       "<p>5 rows × 48 columns</p>\n",
       "</div>"
      ],
      "text/plain": [
       "     ID  Q1  Q2  Q3  Q4  Q5  Q6  Q7  Q8_1  Q8_2       ...        longitude2  \\\n",
       "0  5086  98   2   3   1   1   2   2     0     0       ...              30.0   \n",
       "1  1258  40   1   1   3   5   1   1     1     0       ...              39.0   \n",
       "2   331  18   2   4   6   3   2   1     0     0       ...              38.0   \n",
       "3  6729  50   1   1   3   1   1   1     0     0       ...              36.0   \n",
       "4  8671  34   1   1   1   1   2   1     0     1       ...              31.0   \n",
       "\n",
       "    distance  distance_duumy  distance_bearing  Q8_1_7  Q8_9_10  qs  \\\n",
       "0  55.271127      110.542253       -157.786948       0        1   0   \n",
       "1  33.414768       66.829536        125.940889       1        0   0   \n",
       "2  42.921155       85.842310        -63.196030       0        1   0   \n",
       "3  46.494014       92.988027       -152.782230       0        0   1   \n",
       "4  20.423306       40.846612        167.815988       0        0   1   \n",
       "\n",
       "   Q8_1&Q9_trans  Q8_2&Q10_trans  Q8_3&Q11_trans  \n",
       "0           8871            3660            8957  \n",
       "1            227            3660            8957  \n",
       "2           8871            3660            8957  \n",
       "3           8871            3660            8957  \n",
       "4           8871            4394            8957  \n",
       "\n",
       "[5 rows x 48 columns]"
      ]
     },
     "execution_count": 236,
     "metadata": {},
     "output_type": "execute_result"
    }
   ],
   "source": [
    "data.head()"
   ]
  },
  {
   "cell_type": "code",
   "execution_count": null,
   "metadata": {},
   "outputs": [],
   "source": []
  },
  {
   "cell_type": "code",
   "execution_count": 295,
   "metadata": {
    "collapsed": true
   },
   "outputs": [],
   "source": [
    "data['Q4'] = data['Q4'].astype('object')\n",
    "data['Q3'] = data['Q3'].astype('object')\n",
    "data['Q2'] = data['Q2'].astype('object')\n",
    "data['Q19'] = data['Q19'].astype('object')\n",
    "data['Q16'] = data['Q16'].astype('object')\n",
    "data['Q17'] = data['Q17'].astype('object')\n",
    "data['Q15'] = data['Q15'].astype('object')\n",
    "data['Q18'] = data['Q18'].astype('object')\n",
    "data['Q5'] = data['Q5'].astype('object')\n",
    "data['Q13'] = data['Q13'].astype('object')\n",
    "#data['Q14'] = data['Q14'].astype('object')\n",
    "data['Q9'] = data['Q9'].astype('object')\n",
    "data['Q10'] = data['Q10'].astype('object')\n",
    "data['Q11'] = data['Q11'].astype('object')\n",
    "#data['Q6'] = data['Q6'].astype('object')\n",
    "#data['Q7'] = data['Q7'].astype('object')"
   ]
  },
  {
   "cell_type": "code",
   "execution_count": 44,
   "metadata": {},
   "outputs": [],
   "source": [
    "#pd.crosstab(data['region'], data['district'])"
   ]
  },
  {
   "cell_type": "code",
   "execution_count": 696,
   "metadata": {
    "collapsed": true
   },
   "outputs": [],
   "source": [
    "data['Q8_1'] = data['Q8_1'].astype('object')\n",
    "data['Q8_2'] = data['Q8_2'].astype('object')\n",
    "data['Q8_3'] = data['Q8_3'].astype('object')\n",
    "data['Q8_4'] = data['Q8_4'].astype('object')\n",
    "data['Q8_5'] = data['Q8_5'].astype('object')\n",
    "data['Q8_6'] = data['Q8_6'].astype('object')\n",
    "data['Q8_7'] = data['Q8_7'].astype('object')\n",
    "data['Q8_8'] = data['Q8_8'].astype('object')\n",
    "data['Q8_9'] = data['Q8_9'].astype('object')\n",
    "data['Q8_10'] = data['Q8_10'].astype('object')\n",
    "data['Q8_11'] = data['Q8_11'].astype('object')\n",
    "#data['Q8_1'] = data['Q8_1'].astype('object')"
   ]
  },
  {
   "cell_type": "code",
   "execution_count": 63,
   "metadata": {},
   "outputs": [
    {
     "data": {
      "text/plain": [
       "Index(['ID', 'Q1', 'Q2', 'Q3', 'Q4', 'Q5', 'Q6', 'Q7', 'Q8_1', 'Q8_2', 'Q8_3',\n",
       "       'Q8_4', 'Q8_5', 'Q8_6', 'Q8_7', 'Q8_8', 'Q8_9', 'Q8_10', 'Q8_11', 'Q9',\n",
       "       'Q10', 'Q11', 'Q12', 'Q13', 'Q14', 'Q15', 'Q16', 'Q17', 'Q18', 'Q19',\n",
       "       'Latitude', 'Longitude', 'HasData', '2016 Total Population',\n",
       "       '2016 Purchasing Power: Total', 'district', 'region', 'latitude2',\n",
       "       'longitude2', 'distance', 'distance_duumy', 'distance_bearing',\n",
       "       'Q8_1_7', 'Q8_9_10', 'qs', 'Q8_1&Q9_trans', 'Q8_2&Q10_trans',\n",
       "       'Q8_3&Q11_trans'],\n",
       "      dtype='object')"
      ]
     },
     "execution_count": 63,
     "metadata": {},
     "output_type": "execute_result"
    }
   ],
   "source": [
    "data.columns"
   ]
  },
  {
   "cell_type": "code",
   "execution_count": 661,
   "metadata": {
    "collapsed": true
   },
   "outputs": [],
   "source": [
    "data = data.drop(['Q8_1', 'Q8_2', 'Q8_3','Q8_4', 'Q8_5', 'Q8_6', 'Q8_7', 'Q8_8', 'Q8_9', 'Q8_10', 'Q8_11'], axis=1)"
   ]
  },
  {
   "cell_type": "code",
   "execution_count": 296,
   "metadata": {
    "collapsed": true
   },
   "outputs": [],
   "source": [
    "data['lat_lon'] = data['Latitude'] + data['Longitude']"
   ]
  },
  {
   "cell_type": "code",
   "execution_count": 297,
   "metadata": {
    "collapsed": true
   },
   "outputs": [],
   "source": [
    "data = data.drop('ID', axis=1)"
   ]
  },
  {
   "cell_type": "code",
   "execution_count": 298,
   "metadata": {
    "collapsed": true
   },
   "outputs": [],
   "source": [
    "data = pd.get_dummies(data)"
   ]
  },
  {
   "cell_type": "code",
   "execution_count": 299,
   "metadata": {},
   "outputs": [
    {
     "data": {
      "text/html": [
       "<div>\n",
       "<table border=\"1\" class=\"dataframe\">\n",
       "  <thead>\n",
       "    <tr style=\"text-align: right;\">\n",
       "      <th></th>\n",
       "      <th>Q1</th>\n",
       "      <th>Q6</th>\n",
       "      <th>Q7</th>\n",
       "      <th>Q8_1</th>\n",
       "      <th>Q8_2</th>\n",
       "      <th>Q8_3</th>\n",
       "      <th>Q8_4</th>\n",
       "      <th>Q8_5</th>\n",
       "      <th>Q8_6</th>\n",
       "      <th>Q8_7</th>\n",
       "      <th>...</th>\n",
       "      <th>region_Mtwara</th>\n",
       "      <th>region_Mwanza</th>\n",
       "      <th>region_Pwani</th>\n",
       "      <th>region_Rukwa</th>\n",
       "      <th>region_Ruvuma</th>\n",
       "      <th>region_Shinyanga</th>\n",
       "      <th>region_Singida</th>\n",
       "      <th>region_Tabora</th>\n",
       "      <th>region_Tanga</th>\n",
       "      <th>region_Zanzibar</th>\n",
       "    </tr>\n",
       "  </thead>\n",
       "  <tbody>\n",
       "    <tr>\n",
       "      <th>0</th>\n",
       "      <td>98</td>\n",
       "      <td>2</td>\n",
       "      <td>2</td>\n",
       "      <td>0</td>\n",
       "      <td>0</td>\n",
       "      <td>0</td>\n",
       "      <td>0</td>\n",
       "      <td>0</td>\n",
       "      <td>0</td>\n",
       "      <td>0</td>\n",
       "      <td>...</td>\n",
       "      <td>0</td>\n",
       "      <td>0</td>\n",
       "      <td>0</td>\n",
       "      <td>0</td>\n",
       "      <td>0</td>\n",
       "      <td>0</td>\n",
       "      <td>0</td>\n",
       "      <td>0</td>\n",
       "      <td>0</td>\n",
       "      <td>0</td>\n",
       "    </tr>\n",
       "    <tr>\n",
       "      <th>1</th>\n",
       "      <td>40</td>\n",
       "      <td>1</td>\n",
       "      <td>1</td>\n",
       "      <td>1</td>\n",
       "      <td>0</td>\n",
       "      <td>0</td>\n",
       "      <td>0</td>\n",
       "      <td>0</td>\n",
       "      <td>0</td>\n",
       "      <td>0</td>\n",
       "      <td>...</td>\n",
       "      <td>0</td>\n",
       "      <td>0</td>\n",
       "      <td>0</td>\n",
       "      <td>0</td>\n",
       "      <td>0</td>\n",
       "      <td>0</td>\n",
       "      <td>0</td>\n",
       "      <td>0</td>\n",
       "      <td>0</td>\n",
       "      <td>1</td>\n",
       "    </tr>\n",
       "    <tr>\n",
       "      <th>2</th>\n",
       "      <td>18</td>\n",
       "      <td>2</td>\n",
       "      <td>1</td>\n",
       "      <td>0</td>\n",
       "      <td>0</td>\n",
       "      <td>0</td>\n",
       "      <td>0</td>\n",
       "      <td>0</td>\n",
       "      <td>0</td>\n",
       "      <td>0</td>\n",
       "      <td>...</td>\n",
       "      <td>0</td>\n",
       "      <td>0</td>\n",
       "      <td>0</td>\n",
       "      <td>0</td>\n",
       "      <td>0</td>\n",
       "      <td>0</td>\n",
       "      <td>0</td>\n",
       "      <td>0</td>\n",
       "      <td>0</td>\n",
       "      <td>0</td>\n",
       "    </tr>\n",
       "    <tr>\n",
       "      <th>3</th>\n",
       "      <td>50</td>\n",
       "      <td>1</td>\n",
       "      <td>1</td>\n",
       "      <td>0</td>\n",
       "      <td>0</td>\n",
       "      <td>0</td>\n",
       "      <td>1</td>\n",
       "      <td>0</td>\n",
       "      <td>0</td>\n",
       "      <td>0</td>\n",
       "      <td>...</td>\n",
       "      <td>0</td>\n",
       "      <td>0</td>\n",
       "      <td>0</td>\n",
       "      <td>0</td>\n",
       "      <td>0</td>\n",
       "      <td>0</td>\n",
       "      <td>0</td>\n",
       "      <td>0</td>\n",
       "      <td>0</td>\n",
       "      <td>0</td>\n",
       "    </tr>\n",
       "    <tr>\n",
       "      <th>4</th>\n",
       "      <td>34</td>\n",
       "      <td>2</td>\n",
       "      <td>1</td>\n",
       "      <td>0</td>\n",
       "      <td>1</td>\n",
       "      <td>0</td>\n",
       "      <td>0</td>\n",
       "      <td>0</td>\n",
       "      <td>0</td>\n",
       "      <td>0</td>\n",
       "      <td>...</td>\n",
       "      <td>0</td>\n",
       "      <td>0</td>\n",
       "      <td>0</td>\n",
       "      <td>1</td>\n",
       "      <td>0</td>\n",
       "      <td>0</td>\n",
       "      <td>0</td>\n",
       "      <td>0</td>\n",
       "      <td>0</td>\n",
       "      <td>0</td>\n",
       "    </tr>\n",
       "  </tbody>\n",
       "</table>\n",
       "<p>5 rows × 258 columns</p>\n",
       "</div>"
      ],
      "text/plain": [
       "   Q1  Q6  Q7  Q8_1  Q8_2  Q8_3  Q8_4  Q8_5  Q8_6  Q8_7       ...         \\\n",
       "0  98   2   2     0     0     0     0     0     0     0       ...          \n",
       "1  40   1   1     1     0     0     0     0     0     0       ...          \n",
       "2  18   2   1     0     0     0     0     0     0     0       ...          \n",
       "3  50   1   1     0     0     0     1     0     0     0       ...          \n",
       "4  34   2   1     0     1     0     0     0     0     0       ...          \n",
       "\n",
       "   region_Mtwara  region_Mwanza  region_Pwani  region_Rukwa  region_Ruvuma  \\\n",
       "0              0              0             0             0              0   \n",
       "1              0              0             0             0              0   \n",
       "2              0              0             0             0              0   \n",
       "3              0              0             0             0              0   \n",
       "4              0              0             0             1              0   \n",
       "\n",
       "   region_Shinyanga  region_Singida  region_Tabora  region_Tanga  \\\n",
       "0                 0               0              0             0   \n",
       "1                 0               0              0             0   \n",
       "2                 0               0              0             0   \n",
       "3                 0               0              0             0   \n",
       "4                 0               0              0             0   \n",
       "\n",
       "   region_Zanzibar  \n",
       "0                0  \n",
       "1                1  \n",
       "2                0  \n",
       "3                0  \n",
       "4                0  \n",
       "\n",
       "[5 rows x 258 columns]"
      ]
     },
     "execution_count": 299,
     "metadata": {},
     "output_type": "execute_result"
    }
   ],
   "source": [
    "data.head()"
   ]
  },
  {
   "cell_type": "code",
   "execution_count": 300,
   "metadata": {
    "collapsed": true
   },
   "outputs": [],
   "source": [
    "# Splitting test and train data\n",
    "train_df=data[:len_train]\n",
    "test_df=data[len_train:]"
   ]
  },
  {
   "cell_type": "code",
   "execution_count": 301,
   "metadata": {
    "collapsed": true
   },
   "outputs": [],
   "source": [
    "# Removing Price from independen t variable data and keeping only price in the other\n",
    "X = train_df\n",
    "y= mobile"
   ]
  },
  {
   "cell_type": "code",
   "execution_count": 355,
   "metadata": {
    "collapsed": true
   },
   "outputs": [],
   "source": [
    "X_train, X_test, y_train, y_test = train_test_split(X, y, test_size=0.3, random_state=42)"
   ]
  },
  {
   "cell_type": "code",
   "execution_count": 356,
   "metadata": {
    "collapsed": true
   },
   "outputs": [],
   "source": [
    "import xgboost as xgb"
   ]
  },
  {
   "cell_type": "code",
   "execution_count": 357,
   "metadata": {
    "collapsed": true
   },
   "outputs": [],
   "source": [
    "from catboost import CatBoostClassifier"
   ]
  },
  {
   "cell_type": "code",
   "execution_count": 317,
   "metadata": {
    "collapsed": true
   },
   "outputs": [],
   "source": [
    "cat = CatBoostClassifier(loss_function='MultiClass')"
   ]
  },
  {
   "cell_type": "code",
   "execution_count": 392,
   "metadata": {
    "collapsed": true
   },
   "outputs": [],
   "source": [
    "xgb = XGBClassifier(max_depth=4, n_estimators=200,silent=False)"
   ]
  },
  {
   "cell_type": "code",
   "execution_count": 248,
   "metadata": {
    "collapsed": true
   },
   "outputs": [],
   "source": [
    "#gb =XGBClassifier(n_estimators=200, objective='multi:softprob',gamma=0.5,colsample_bylevel=0.7) CatBoostClassifier(loss_function='MultiClass')"
   ]
  },
  {
   "cell_type": "code",
   "execution_count": 381,
   "metadata": {},
   "outputs": [],
   "source": [
    "for i in range(5):\n",
    "    cb_model = CatBoostClassifier(iterations=500,\n",
    "                              learning_rate=0.1,\n",
    "                              depth=4,loss_function='MultiClass',#,scale_pos_weight=200,\n",
    "                             l2_leaf_reg=10,\n",
    "                             bootstrap_type='Bernoulli',\n",
    "                              subsample=0.7,\n",
    "                              #eval_metric='Logloss',\n",
    "                              metric_period=20,\n",
    "                              #od_type='Iter',\n",
    "                              #od_wait=45,\n",
    "                              random_seed=42,\n",
    "                              allow_writing_files=False)"
   ]
  },
  {
   "cell_type": "code",
   "execution_count": 394,
   "metadata": {
    "scrolled": false
   },
   "outputs": [
    {
     "data": {
      "text/plain": [
       "XGBClassifier(base_score=0.5, booster='gbtree', colsample_bylevel=1,\n",
       "       colsample_bytree=1, gamma=0, learning_rate=0.1, max_delta_step=0,\n",
       "       max_depth=4, min_child_weight=1, missing=None, n_estimators=200,\n",
       "       n_jobs=1, nthread=None, objective='multi:softprob', random_state=0,\n",
       "       reg_alpha=0, reg_lambda=1, scale_pos_weight=1, seed=None,\n",
       "       silent=False, subsample=1)"
      ]
     },
     "execution_count": 394,
     "metadata": {},
     "output_type": "execute_result"
    }
   ],
   "source": [
    "xgb.fit(X,y)"
   ]
  },
  {
   "cell_type": "code",
   "execution_count": 395,
   "metadata": {},
   "outputs": [],
   "source": [
    "#y_xg = cb_model.predict_proba(X_test)\n",
    "y_xg = xgb.predict_proba(X_test)"
   ]
  },
  {
   "cell_type": "code",
   "execution_count": 384,
   "metadata": {},
   "outputs": [],
   "source": [
    "#y_xg = cat.predict_proba(X_test)"
   ]
  },
  {
   "cell_type": "code",
   "execution_count": 396,
   "metadata": {
    "collapsed": true
   },
   "outputs": [],
   "source": [
    "#preds = cb_model.predict_proba(X)\n",
    "preds = xgb.predict_proba(X)"
   ]
  },
  {
   "cell_type": "code",
   "execution_count": 386,
   "metadata": {},
   "outputs": [],
   "source": [
    "#preds = cat.predict_proba(X)"
   ]
  },
  {
   "cell_type": "code",
   "execution_count": 397,
   "metadata": {
    "collapsed": true
   },
   "outputs": [],
   "source": [
    "from sklearn.metrics import log_loss"
   ]
  },
  {
   "cell_type": "code",
   "execution_count": 398,
   "metadata": {},
   "outputs": [
    {
     "data": {
      "text/plain": [
       "0.55942190279433213"
      ]
     },
     "execution_count": 398,
     "metadata": {},
     "output_type": "execute_result"
    }
   ],
   "source": [
    "log_loss(y, preds)"
   ]
  },
  {
   "cell_type": "code",
   "execution_count": null,
   "metadata": {},
   "outputs": [],
   "source": []
  },
  {
   "cell_type": "markdown",
   "metadata": {},
   "source": [
    "## for test set"
   ]
  },
  {
   "cell_type": "code",
   "execution_count": 399,
   "metadata": {},
   "outputs": [],
   "source": [
    "#test_set_predictions =  cb_model.predict_proba(test_df)\n",
    "test_set_predictions =  xgb.predict_proba(test_df)"
   ]
  },
  {
   "cell_type": "code",
   "execution_count": 400,
   "metadata": {
    "collapsed": true
   },
   "outputs": [],
   "source": [
    "d = {\"ID\": test[\"ID\"], 'no_financial_services':test_set_predictions[:, 0], 'other_only':test_set_predictions[:, 1],\n",
    "    'mm_only':test_set_predictions[:, 2], 'mm_plus':test_set_predictions[:, 3]}\n",
    "df_predictions = pd.DataFrame(data=d)\n",
    "df_predictions = df_predictions[[\"ID\", 'no_financial_services','other_only','mm_only','mm_plus']]"
   ]
  },
  {
   "cell_type": "code",
   "execution_count": 401,
   "metadata": {},
   "outputs": [
    {
     "data": {
      "text/html": [
       "<div>\n",
       "<table border=\"1\" class=\"dataframe\">\n",
       "  <thead>\n",
       "    <tr style=\"text-align: right;\">\n",
       "      <th></th>\n",
       "      <th>ID</th>\n",
       "      <th>no_financial_services</th>\n",
       "      <th>other_only</th>\n",
       "      <th>mm_only</th>\n",
       "      <th>mm_plus</th>\n",
       "    </tr>\n",
       "  </thead>\n",
       "  <tbody>\n",
       "    <tr>\n",
       "      <th>0</th>\n",
       "      <td>3669</td>\n",
       "      <td>0.004950</td>\n",
       "      <td>0.028305</td>\n",
       "      <td>0.251798</td>\n",
       "      <td>0.714947</td>\n",
       "    </tr>\n",
       "    <tr>\n",
       "      <th>1</th>\n",
       "      <td>5223</td>\n",
       "      <td>0.001194</td>\n",
       "      <td>0.012970</td>\n",
       "      <td>0.053893</td>\n",
       "      <td>0.931943</td>\n",
       "    </tr>\n",
       "    <tr>\n",
       "      <th>2</th>\n",
       "      <td>7275</td>\n",
       "      <td>0.000411</td>\n",
       "      <td>0.001813</td>\n",
       "      <td>0.111476</td>\n",
       "      <td>0.886300</td>\n",
       "    </tr>\n",
       "    <tr>\n",
       "      <th>3</th>\n",
       "      <td>7459</td>\n",
       "      <td>0.212821</td>\n",
       "      <td>0.735873</td>\n",
       "      <td>0.020035</td>\n",
       "      <td>0.031270</td>\n",
       "    </tr>\n",
       "    <tr>\n",
       "      <th>4</th>\n",
       "      <td>3547</td>\n",
       "      <td>0.000365</td>\n",
       "      <td>0.001597</td>\n",
       "      <td>0.027082</td>\n",
       "      <td>0.970956</td>\n",
       "    </tr>\n",
       "  </tbody>\n",
       "</table>\n",
       "</div>"
      ],
      "text/plain": [
       "     ID  no_financial_services  other_only   mm_only   mm_plus\n",
       "0  3669               0.004950    0.028305  0.251798  0.714947\n",
       "1  5223               0.001194    0.012970  0.053893  0.931943\n",
       "2  7275               0.000411    0.001813  0.111476  0.886300\n",
       "3  7459               0.212821    0.735873  0.020035  0.031270\n",
       "4  3547               0.000365    0.001597  0.027082  0.970956"
      ]
     },
     "execution_count": 401,
     "metadata": {},
     "output_type": "execute_result"
    }
   ],
   "source": [
    "df_predictions.head()"
   ]
  },
  {
   "cell_type": "code",
   "execution_count": 402,
   "metadata": {
    "collapsed": true
   },
   "outputs": [],
   "source": [
    "df_predictions.to_csv('zt168.csv',index=False)"
   ]
  },
  {
   "cell_type": "code",
   "execution_count": null,
   "metadata": {
    "collapsed": true
   },
   "outputs": [],
   "source": []
  }
 ],
 "metadata": {
  "kernelspec": {
   "display_name": "Python 3",
   "language": "python",
   "name": "python3"
  },
  "language_info": {
   "codemirror_mode": {
    "name": "ipython",
    "version": 3
   },
   "file_extension": ".py",
   "mimetype": "text/x-python",
   "name": "python",
   "nbconvert_exporter": "python",
   "pygments_lexer": "ipython3",
   "version": "3.8.8"
  }
 },
 "nbformat": 4,
 "nbformat_minor": 2
}

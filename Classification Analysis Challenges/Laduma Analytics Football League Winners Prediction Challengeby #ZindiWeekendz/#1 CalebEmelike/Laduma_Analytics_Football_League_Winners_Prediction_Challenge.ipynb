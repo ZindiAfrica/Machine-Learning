{
  "nbformat": 4,
  "nbformat_minor": 0,
  "metadata": {
    "colab": {
      "name": "Laduma_Analytics_Football_League_Winners_Prediction_Challenge.ipynb",
      "provenance": [],
      "collapsed_sections": []
    },
    "kernelspec": {
      "name": "python3",
      "display_name": "Python 3"
    },
    "language_info": {
      "name": "python"
    }
  },
  "cells": [
    {
      "cell_type": "code",
      "execution_count": null,
      "metadata": {
        "colab": {
          "base_uri": "https://localhost:8080/"
        },
        "id": "a6YtGRpegT3x",
        "outputId": "aadf5ef0-52cd-4985-d8dc-baa604ac2b46"
      },
      "outputs": [
        {
          "output_type": "stream",
          "name": "stdout",
          "text": [
            "  Building wheel for zindi (setup.py) ... \u001b[?25l\u001b[?25hdone\n",
            "  Building wheel for tdqm (setup.py) ... \u001b[?25l\u001b[?25hdone\n"
          ]
        }
      ],
      "source": [
        "# Package to have access to the Zindi Platform features\n",
        "!pip -q install git+https://github.com/eaedk/testing-zindi-package.git"
      ]
    },
    {
      "cell_type": "code",
      "source": [
        "from zindi.user import Zindian\n",
        "user = Zindian(username=\"CalebEmelike\")"
      ],
      "metadata": {
        "colab": {
          "base_uri": "https://localhost:8080/"
        },
        "id": "FOQbecsugnpv",
        "outputId": "e2488aab-2293-40a3-aaac-9c63917955a5"
      },
      "execution_count": null,
      "outputs": [
        {
          "output_type": "stream",
          "name": "stdout",
          "text": [
            "Your password\n",
            ">> ··········\n",
            "\n",
            "[ 🟢 ] 👋🏾👋🏾 Welcome CalebEmelike 👋🏾👋🏾\n",
            "\n"
          ]
        }
      ]
    },
    {
      "cell_type": "code",
      "source": [
        "user.select_a_challenge(reward='all', kind='hackathon', active='true')"
      ],
      "metadata": {
        "colab": {
          "base_uri": "https://localhost:8080/"
        },
        "id": "O7tTmIEtgrm_",
        "outputId": "b5cccc59-ac17-4906-95c2-2821f4540212"
      },
      "execution_count": null,
      "outputs": [
        {
          "output_type": "stream",
          "name": "stdout",
          "text": [
            "__________________________________________________________________________________________________________________________________\n",
            "|     |              |                  |                    |          \n",
            "|index|  challenge   |     problem      |       reward       |    id    \n",
            "|     |              |                  |                    |          \n",
            "----------------------------------------------------------------------------------------------------------------------------------\n",
            "|  0  | Public Hack  |    Prediction    |      $300 USD      | zindi-weekendz-laduma-analytics-football-league-wi...\n",
            "----------------------------------------------------------------------------------------------------------------------------------\n",
            "|  1  | Public Hack  |  Classification  |      $300 USD      | kenyan-sign-language-classification-hackathon...\n",
            "----------------------------------------------------------------------------------------------------------------------------------\n",
            "|  2  | Public Hack  |                  |        $800        | coral-classification-challenge...\n",
            "----------------------------------------------------------------------------------------------------------------------------------\n",
            "|  3  | Public Hack  | Computer Vision  |      $300 USD      | marine-invertebrates-classification-challenge...\n",
            "----------------------------------------------------------------------------------------------------------------------------------\n",
            "|  4  | Public Hack  |  Classification  |      $300 USD      | road-segment-identification-challenge...\n",
            "----------------------------------------------------------------------------------------------------------------------------------\n",
            "|  5  | Public Hack  |  Classification  |     $1 000 USD     | amld...   \n",
            "----------------------------------------------------------------------------------------------------------------------------------\n",
            "|  6  | Public Hack  |  Classification  |      $300 USD      | gender-based-violence-tweet-classification...\n",
            "----------------------------------------------------------------------------------------------------------------------------------\n",
            "|  7  | Public Hack  |     Forecast     |        $300        | radiant-earth-spot-the-crop-hackathon...\n",
            "----------------------------------------------------------------------------------------------------------------------------------\n",
            "|  8  | Public Hack  |                  |      $700 USD      | silicon-valley-21st-century-education-hackathon...\n",
            "----------------------------------------------------------------------------------------------------------------------------------\n",
            "|  9  | Public Hack  |    Prediction    |      $300 USD      | sfc-paygo-solar-credit-repayment-hackathon...\n",
            "----------------------------------------------------------------------------------------------------------------------------------\n",
            "| 10  | Public Hack  |    Prediction    |      $250 USD      | airqo-air-sensor-calibration-challenge...\n",
            "----------------------------------------------------------------------------------------------------------------------------------\n",
            "| 11  | Public Hack  |    Prediction    |     $1,000 USD     | womens-hackathon...\n",
            "----------------------------------------------------------------------------------------------------------------------------------\n",
            "| 12  | Public Hack  |    Prediction    |     Knowledge      | fighting-fire-with-data-hackathon...\n",
            "----------------------------------------------------------------------------------------------------------------------------------\n",
            "| 13  | Public Hack  |  Classification  |    225,000 Tsh     | swahili-news-classification-challenge...\n",
            "----------------------------------------------------------------------------------------------------------------------------------\n",
            "| 14  | Public Hack  | Computer Vision  |     $1,000 USD     | sansa-informal-settlements-in-south-africa...\n",
            "----------------------------------------------------------------------------------------------------------------------------------\n",
            "| 15  | Public Hack  |    Prediction    |      $300 USD      | the-zimnat-insurance-assurance-challenge...\n",
            "----------------------------------------------------------------------------------------------------------------------------------\n",
            "| 16  | Public Hack  |    Prediction    |      $300 USD      | akeed-restaurant-recommendation-hackathon...\n",
            "----------------------------------------------------------------------------------------------------------------------------------\n",
            "| 17  | Public Hack  |  Classification  |      $300 USD      | covid-19-tweet-classification-challenge...\n",
            "----------------------------------------------------------------------------------------------------------------------------------\n",
            "| 18  | Public Hack  |  Classification  |      $300 USD      | to-vaccinate-or-not-to-vaccinate-its-not-a-questio...\n",
            "----------------------------------------------------------------------------------------------------------------------------------\n",
            "| 19  | Public Hack  | Computer Vision  |      $300 USD      | spot-the-mask-challenge...\n",
            "----------------------------------------------------------------------------------------------------------------------------------\n",
            "| 20  | Public Hack  |    Prediction    |      $300 USD      | urban-air-pollution-challenge...\n",
            "----------------------------------------------------------------------------------------------------------------------------------\n",
            "| 21  | Public Hack  |    Prediction    |      $300 USD      | south-african-covid-19-vulnerability-map...\n",
            "__________________________________________________________________________________________________________________________________\n",
            "\n",
            "\n",
            "Type the index of the challenge you want to select or 'q' to exit.\n",
            ">>0\n",
            "\n",
            "[ 🟢 ] You choose the challenge : zindi-weekendz-laduma-analytics-football-league-winners-prediction-challenge,\n",
            "\tCan you predict the outcome of a football match based on historical data?.\n",
            "\n"
          ]
        }
      ]
    },
    {
      "cell_type": "code",
      "source": [
        "user.download_dataset(destination=\"football\")"
      ],
      "metadata": {
        "colab": {
          "base_uri": "https://localhost:8080/"
        },
        "id": "oCK7Qyg-g1CK",
        "outputId": "f0e5222d-ce56-476a-8cfc-87f841c597e2"
      },
      "execution_count": null,
      "outputs": [
        {
          "output_type": "stream",
          "name": "stderr",
          "text": [
            "football/VariableDefinitions.csv: 100%|██████████| 1.80k/1.80k [00:00<00:00, 844ko/s]\n",
            "football/Train.csv: 100%|██████████| 23.7k/23.7k [00:00<00:00, 3.17Mo/s]\n",
            "football/Test.csv: 100%|██████████| 11.4k/11.4k [00:00<00:00, 4.78Mo/s]\n",
            "football/SampleSubmission.csv: 100%|██████████| 3.90k/3.90k [00:00<00:00, 1.73Mo/s]\n",
            "football/Starter_Notebook.ipynb: 100%|██████████| 166k/166k [00:00<00:00, 5.34Mo/s]\n",
            "football/game_statistics.csv: 100%|██████████| 328M/328M [00:15<00:00, 21.5Mo/s]\n"
          ]
        }
      ]
    },
    {
      "cell_type": "code",
      "source": [
        "!pip install catboost"
      ],
      "metadata": {
        "colab": {
          "base_uri": "https://localhost:8080/"
        },
        "id": "5v0OhzNThRoV",
        "outputId": "3a3550fe-11ce-431f-8343-03978e346b63"
      },
      "execution_count": null,
      "outputs": [
        {
          "output_type": "stream",
          "name": "stdout",
          "text": [
            "Looking in indexes: https://pypi.org/simple, https://us-python.pkg.dev/colab-wheels/public/simple/\n",
            "Collecting catboost\n",
            "  Downloading catboost-1.0.6-cp37-none-manylinux1_x86_64.whl (76.6 MB)\n",
            "\u001b[K     |████████████████████████████████| 76.6 MB 1.3 MB/s \n",
            "\u001b[?25hRequirement already satisfied: graphviz in /usr/local/lib/python3.7/dist-packages (from catboost) (0.10.1)\n",
            "Requirement already satisfied: plotly in /usr/local/lib/python3.7/dist-packages (from catboost) (5.5.0)\n",
            "Requirement already satisfied: numpy>=1.16.0 in /usr/local/lib/python3.7/dist-packages (from catboost) (1.21.6)\n",
            "Requirement already satisfied: six in /usr/local/lib/python3.7/dist-packages (from catboost) (1.15.0)\n",
            "Requirement already satisfied: pandas>=0.24.0 in /usr/local/lib/python3.7/dist-packages (from catboost) (1.3.5)\n",
            "Requirement already satisfied: matplotlib in /usr/local/lib/python3.7/dist-packages (from catboost) (3.2.2)\n",
            "Requirement already satisfied: scipy in /usr/local/lib/python3.7/dist-packages (from catboost) (1.4.1)\n",
            "Requirement already satisfied: python-dateutil>=2.7.3 in /usr/local/lib/python3.7/dist-packages (from pandas>=0.24.0->catboost) (2.8.2)\n",
            "Requirement already satisfied: pytz>=2017.3 in /usr/local/lib/python3.7/dist-packages (from pandas>=0.24.0->catboost) (2022.1)\n",
            "Requirement already satisfied: kiwisolver>=1.0.1 in /usr/local/lib/python3.7/dist-packages (from matplotlib->catboost) (1.4.2)\n",
            "Requirement already satisfied: pyparsing!=2.0.4,!=2.1.2,!=2.1.6,>=2.0.1 in /usr/local/lib/python3.7/dist-packages (from matplotlib->catboost) (3.0.9)\n",
            "Requirement already satisfied: cycler>=0.10 in /usr/local/lib/python3.7/dist-packages (from matplotlib->catboost) (0.11.0)\n",
            "Requirement already satisfied: typing-extensions in /usr/local/lib/python3.7/dist-packages (from kiwisolver>=1.0.1->matplotlib->catboost) (4.2.0)\n",
            "Requirement already satisfied: tenacity>=6.2.0 in /usr/local/lib/python3.7/dist-packages (from plotly->catboost) (8.0.1)\n",
            "Installing collected packages: catboost\n",
            "Successfully installed catboost-1.0.6\n"
          ]
        }
      ]
    },
    {
      "cell_type": "code",
      "source": [
        "!pip install -U xgboost"
      ],
      "metadata": {
        "colab": {
          "base_uri": "https://localhost:8080/"
        },
        "id": "WWq7QK8YhlHX",
        "outputId": "968817f2-1396-4012-8cd3-c89ace5611c6"
      },
      "execution_count": null,
      "outputs": [
        {
          "output_type": "stream",
          "name": "stdout",
          "text": [
            "Looking in indexes: https://pypi.org/simple, https://us-python.pkg.dev/colab-wheels/public/simple/\n",
            "Requirement already satisfied: xgboost in /usr/local/lib/python3.7/dist-packages (0.90)\n",
            "Collecting xgboost\n",
            "  Downloading xgboost-1.6.1-py3-none-manylinux2014_x86_64.whl (192.9 MB)\n",
            "\u001b[K     |████████████████████████████████| 192.9 MB 56 kB/s \n",
            "\u001b[?25hRequirement already satisfied: numpy in /usr/local/lib/python3.7/dist-packages (from xgboost) (1.21.6)\n",
            "Requirement already satisfied: scipy in /usr/local/lib/python3.7/dist-packages (from xgboost) (1.4.1)\n",
            "Installing collected packages: xgboost\n",
            "  Attempting uninstall: xgboost\n",
            "    Found existing installation: xgboost 0.90\n",
            "    Uninstalling xgboost-0.90:\n",
            "      Successfully uninstalled xgboost-0.90\n",
            "Successfully installed xgboost-1.6.1\n"
          ]
        }
      ]
    },
    {
      "cell_type": "code",
      "source": [
        "!pip install -U lightgbm"
      ],
      "metadata": {
        "colab": {
          "base_uri": "https://localhost:8080/"
        },
        "id": "Wml7tlpVho6P",
        "outputId": "ee6c020d-e2d2-41bf-bcb4-4656eb1e6d67"
      },
      "execution_count": null,
      "outputs": [
        {
          "output_type": "stream",
          "name": "stdout",
          "text": [
            "Looking in indexes: https://pypi.org/simple, https://us-python.pkg.dev/colab-wheels/public/simple/\n",
            "Requirement already satisfied: lightgbm in /usr/local/lib/python3.7/dist-packages (2.2.3)\n",
            "Collecting lightgbm\n",
            "  Downloading lightgbm-3.3.2-py3-none-manylinux1_x86_64.whl (2.0 MB)\n",
            "\u001b[K     |████████████████████████████████| 2.0 MB 12.6 MB/s \n",
            "\u001b[?25hRequirement already satisfied: scipy in /usr/local/lib/python3.7/dist-packages (from lightgbm) (1.4.1)\n",
            "Requirement already satisfied: scikit-learn!=0.22.0 in /usr/local/lib/python3.7/dist-packages (from lightgbm) (1.0.2)\n",
            "Requirement already satisfied: wheel in /usr/local/lib/python3.7/dist-packages (from lightgbm) (0.37.1)\n",
            "Requirement already satisfied: numpy in /usr/local/lib/python3.7/dist-packages (from lightgbm) (1.21.6)\n",
            "Requirement already satisfied: threadpoolctl>=2.0.0 in /usr/local/lib/python3.7/dist-packages (from scikit-learn!=0.22.0->lightgbm) (3.1.0)\n",
            "Requirement already satisfied: joblib>=0.11 in /usr/local/lib/python3.7/dist-packages (from scikit-learn!=0.22.0->lightgbm) (1.1.0)\n",
            "Installing collected packages: lightgbm\n",
            "  Attempting uninstall: lightgbm\n",
            "    Found existing installation: lightgbm 2.2.3\n",
            "    Uninstalling lightgbm-2.2.3:\n",
            "      Successfully uninstalled lightgbm-2.2.3\n",
            "Successfully installed lightgbm-3.3.2\n"
          ]
        }
      ]
    },
    {
      "cell_type": "code",
      "source": [
        "import numpy as np\n",
        "import pandas as pd\n",
        "import ast\n",
        "\n",
        "from lightgbm import LGBMRegressor, LGBMClassifier\n",
        "from xgboost import XGBRegressor, XGBClassifier\n",
        "from catboost import CatBoostRegressor, CatBoostClassifier\n",
        "from sklearn.linear_model import Ridge ,LinearRegression, LogisticRegression\n",
        "\n",
        "from sklearn.model_selection import KFold,StratifiedKFold ,GroupKFold, cross_val_score, train_test_split\n",
        "from sklearn.metrics import *\n",
        "from sklearn.preprocessing import LabelEncoder\n",
        "from tqdm import tqdm\n",
        "\n",
        "from sklearn.cluster import KMeans\n",
        "\n",
        "pd.set_option('max_column', 10000)\n",
        "pd.set_option('max_row', 10000)\n",
        "\n",
        "# Plot Packages\n",
        "import seaborn as sns\n",
        "import matplotlib.pyplot as plt\n",
        "%matplotlib inline\n",
        "plt.style.use('seaborn-darkgrid')\n",
        "\n",
        "import warnings\n",
        "warnings.filterwarnings('ignore')"
      ],
      "metadata": {
        "id": "59sCKWKDhB4-"
      },
      "execution_count": null,
      "outputs": []
    },
    {
      "cell_type": "code",
      "source": [
        "train = pd.read_csv('/content/football/Train.csv')\n",
        "test = pd.read_csv('/content/football/Test.csv')\n",
        "ss = pd.read_csv('/content/football/SampleSubmission.csv')\n",
        "variable = pd.read_csv('/content/football/VariableDefinitions.csv')\n",
        "game = pd.read_csv('/content/football/game_statistics.csv')"
      ],
      "metadata": {
        "id": "XJiuzvZnhxJd"
      },
      "execution_count": null,
      "outputs": []
    },
    {
      "cell_type": "code",
      "source": [
        "game['possession_diff'] = game['End_minutes']-game['Start_minutes']"
      ],
      "metadata": {
        "id": "eYSgi-yoXrla"
      },
      "execution_count": null,
      "outputs": []
    },
    {
      "cell_type": "code",
      "source": [
        "per_game = game.groupby('Game_ID').agg(count_games=('Game_ID', 'count'), n_player_game=('Player_ID', 'nunique'),                                       \n",
        "             game_shoot_mean = ('Shots', 'mean'),\n",
        "             game_shoot_sum = ('Shots', 'sum'),\n",
        "             game_sot_mean = ('SoT', 'mean'),\n",
        "             game_sot_sum = ('SoT', 'sum'),\n",
        "             game_acc_pass_mean = ('Accurate passes', 'mean'),\n",
        "             game_acc_pass_sum = ('Accurate passes', 'sum'),\n",
        "             game_pass_mean = ('Passes', 'mean'),\n",
        "             game_pass_sum = ('Passes', 'sum'),  \n",
        "             game_X_mean = ('X', 'mean'),\n",
        "             game_X_min = ('X', 'min'),\n",
        "             game_X_max = ('X', 'max'),  \n",
        "             game_Y_mean = ('Y', 'mean'),\n",
        "             game_Y_min = ('Y', 'min'),\n",
        "             game_Y_max = ('Y', 'max'),                                     \n",
        "             ).reset_index()"
      ],
      "metadata": {
        "id": "9RD1ejBwke6n"
      },
      "execution_count": null,
      "outputs": []
    },
    {
      "cell_type": "code",
      "source": [
        "per_team = game.groupby(['Game_ID','Team']).agg(count_team=('Team', 'count'), n_player_team=('Player_ID', 'nunique'), n_manager_team=('Manager', 'nunique'),                                   \n",
        "             team_shoot_mean = ('Shots', 'mean'),\n",
        "             team_shoot_sum = ('Shots', 'sum'),\n",
        "             team_shoot_min = ('Shots', 'min'),\n",
        "             team_shoot_max = ('Shots', 'max'),\n",
        "             team_sot_mean = ('SoT', 'mean'),\n",
        "             team_sot_sum = ('SoT', 'sum'),\n",
        "             team_sot_min = ('SoT', 'min'),\n",
        "             team_sot_max = ('SoT', 'max'),\n",
        "             team_acc_pass_mean = ('Accurate passes', 'mean'),\n",
        "             team_acc_pass_sum = ('Accurate passes', 'sum'),\n",
        "             team_pass_mean = ('Passes', 'mean'),\n",
        "             team_pass_sum = ('Passes', 'sum'),\n",
        "             team_X_mean = ('X', 'mean'),\n",
        "             team_X_min = ('X', 'min'),\n",
        "             team_X_max = ('X', 'max'),  \n",
        "             team_Y_mean = ('Y', 'mean'),\n",
        "             team_Y_min = ('Y', 'min'),\n",
        "             team_Y_max = ('Y', 'max'),  \n",
        "             team_possession_sum = ('possession_diff', 'sum'),\n",
        "             team_possession_mean = ('possession_diff', 'mean'), \n",
        "             team_possession_min = ('possession_diff', 'min'),\n",
        "             team_possession_max = ('possession_diff', 'max'),                                      \n",
        "             ).reset_index()"
      ],
      "metadata": {
        "id": "PBzHG_r7uTe4"
      },
      "execution_count": null,
      "outputs": []
    },
    {
      "cell_type": "code",
      "source": [
        "per_opp1 = game.groupby(['Opposition_Team']).agg(                                   \n",
        "             opp1_shoot_mean = ('Shots', 'mean'),\n",
        "             opp1_shoot_sum = ('Shots', 'sum'),\n",
        "             opp1_sot_mean = ('SoT', 'mean'),\n",
        "             opp1_sot_sum = ('SoT', 'sum'),\n",
        "             opp1_acc_pass_mean = ('Accurate passes', 'mean'),\n",
        "             opp1_acc_pass_sum = ('Accurate passes', 'sum'),\n",
        "             opp1_pass_mean = ('Passes', 'mean'),\n",
        "             opp1_pass_sum = ('Passes', 'sum'),\n",
        "             opp1_X_mean = ('X', 'mean'),\n",
        "             opp1_X_min = ('X', 'min'),\n",
        "             opp1_X_max = ('X', 'max'),  \n",
        "             opp1_Y_mean = ('Y', 'mean'),\n",
        "             opp1_Y_min = ('Y', 'min'),\n",
        "             opp1_Y_max = ('Y', 'max'),                                    \n",
        "             ).reset_index()"
      ],
      "metadata": {
        "id": "lD84RPRlHmyB"
      },
      "execution_count": null,
      "outputs": []
    },
    {
      "cell_type": "code",
      "source": [
        "per_team1 = game.groupby(['Team']).agg(                                   \n",
        "             team1_shoot_mean = ('Shots', 'mean'),\n",
        "             team1_shoot_sum = ('Shots', 'sum'),\n",
        "             team1_sot_mean = ('SoT', 'mean'),\n",
        "             team1_sot_sum = ('SoT', 'sum'),\n",
        "             team1_acc_pass_mean = ('Accurate passes', 'mean'),\n",
        "             team1_acc_pass_sum = ('Accurate passes', 'sum'),\n",
        "             team1_pass_mean = ('Passes', 'mean'),\n",
        "             team1_pass_sum = ('Passes', 'sum'),\n",
        "             team1_X_mean = ('X', 'mean'),\n",
        "             team1_X_min = ('X', 'min'),\n",
        "             team1_X_max = ('X', 'max'),  \n",
        "             team1_Y_mean = ('Y', 'mean'),\n",
        "             team1_Y_min = ('Y', 'min'),\n",
        "             team1_Y_max = ('Y', 'max'),                                    \n",
        "             ).reset_index()"
      ],
      "metadata": {
        "id": "l8mjQXalHmtG"
      },
      "execution_count": null,
      "outputs": []
    },
    {
      "cell_type": "code",
      "source": [
        "len_train = len(train)\n",
        "df = pd.concat([train, test]).reset_index(drop=True)"
      ],
      "metadata": {
        "id": "vnATzJE8wzsV"
      },
      "execution_count": null,
      "outputs": []
    },
    {
      "cell_type": "code",
      "source": [
        "df.head()"
      ],
      "metadata": {
        "colab": {
          "base_uri": "https://localhost:8080/",
          "height": 197
        },
        "id": "ccky7kZNxESM",
        "outputId": "773e728a-b9ca-4f84-dedd-bab8345024b9"
      },
      "execution_count": null,
      "outputs": [
        {
          "output_type": "execute_result",
          "data": {
            "text/plain": [
              "         Date  Season  Match_ID      Game_ID  Home Team  Away Team     Score\n",
              "0  2017-02-15       1       1.0  ID_KAG4KAE9   Antennae  Andromeda  Away win\n",
              "1  2016-09-14       1      12.0  ID_T7H1XN5Z  Andromeda   Antennae      Draw\n",
              "2  2016-12-12       1      13.0  ID_O1P9FGN4  Andromeda  Butterfly  Away win\n",
              "3  2017-01-25       1      14.0  ID_TR5M4KQV  Andromeda      Cigar  Away win\n",
              "4  2016-08-24       1      15.0  ID_EOIECRE2  Andromeda   Circinus  Home Win"
            ],
            "text/html": [
              "\n",
              "  <div id=\"df-31502895-3cc5-409f-aa5a-54e0a22a2630\">\n",
              "    <div class=\"colab-df-container\">\n",
              "      <div>\n",
              "<style scoped>\n",
              "    .dataframe tbody tr th:only-of-type {\n",
              "        vertical-align: middle;\n",
              "    }\n",
              "\n",
              "    .dataframe tbody tr th {\n",
              "        vertical-align: top;\n",
              "    }\n",
              "\n",
              "    .dataframe thead th {\n",
              "        text-align: right;\n",
              "    }\n",
              "</style>\n",
              "<table border=\"1\" class=\"dataframe\">\n",
              "  <thead>\n",
              "    <tr style=\"text-align: right;\">\n",
              "      <th></th>\n",
              "      <th>Date</th>\n",
              "      <th>Season</th>\n",
              "      <th>Match_ID</th>\n",
              "      <th>Game_ID</th>\n",
              "      <th>Home Team</th>\n",
              "      <th>Away Team</th>\n",
              "      <th>Score</th>\n",
              "    </tr>\n",
              "  </thead>\n",
              "  <tbody>\n",
              "    <tr>\n",
              "      <th>0</th>\n",
              "      <td>2017-02-15</td>\n",
              "      <td>1</td>\n",
              "      <td>1.0</td>\n",
              "      <td>ID_KAG4KAE9</td>\n",
              "      <td>Antennae</td>\n",
              "      <td>Andromeda</td>\n",
              "      <td>Away win</td>\n",
              "    </tr>\n",
              "    <tr>\n",
              "      <th>1</th>\n",
              "      <td>2016-09-14</td>\n",
              "      <td>1</td>\n",
              "      <td>12.0</td>\n",
              "      <td>ID_T7H1XN5Z</td>\n",
              "      <td>Andromeda</td>\n",
              "      <td>Antennae</td>\n",
              "      <td>Draw</td>\n",
              "    </tr>\n",
              "    <tr>\n",
              "      <th>2</th>\n",
              "      <td>2016-12-12</td>\n",
              "      <td>1</td>\n",
              "      <td>13.0</td>\n",
              "      <td>ID_O1P9FGN4</td>\n",
              "      <td>Andromeda</td>\n",
              "      <td>Butterfly</td>\n",
              "      <td>Away win</td>\n",
              "    </tr>\n",
              "    <tr>\n",
              "      <th>3</th>\n",
              "      <td>2017-01-25</td>\n",
              "      <td>1</td>\n",
              "      <td>14.0</td>\n",
              "      <td>ID_TR5M4KQV</td>\n",
              "      <td>Andromeda</td>\n",
              "      <td>Cigar</td>\n",
              "      <td>Away win</td>\n",
              "    </tr>\n",
              "    <tr>\n",
              "      <th>4</th>\n",
              "      <td>2016-08-24</td>\n",
              "      <td>1</td>\n",
              "      <td>15.0</td>\n",
              "      <td>ID_EOIECRE2</td>\n",
              "      <td>Andromeda</td>\n",
              "      <td>Circinus</td>\n",
              "      <td>Home Win</td>\n",
              "    </tr>\n",
              "  </tbody>\n",
              "</table>\n",
              "</div>\n",
              "      <button class=\"colab-df-convert\" onclick=\"convertToInteractive('df-31502895-3cc5-409f-aa5a-54e0a22a2630')\"\n",
              "              title=\"Convert this dataframe to an interactive table.\"\n",
              "              style=\"display:none;\">\n",
              "        \n",
              "  <svg xmlns=\"http://www.w3.org/2000/svg\" height=\"24px\"viewBox=\"0 0 24 24\"\n",
              "       width=\"24px\">\n",
              "    <path d=\"M0 0h24v24H0V0z\" fill=\"none\"/>\n",
              "    <path d=\"M18.56 5.44l.94 2.06.94-2.06 2.06-.94-2.06-.94-.94-2.06-.94 2.06-2.06.94zm-11 1L8.5 8.5l.94-2.06 2.06-.94-2.06-.94L8.5 2.5l-.94 2.06-2.06.94zm10 10l.94 2.06.94-2.06 2.06-.94-2.06-.94-.94-2.06-.94 2.06-2.06.94z\"/><path d=\"M17.41 7.96l-1.37-1.37c-.4-.4-.92-.59-1.43-.59-.52 0-1.04.2-1.43.59L10.3 9.45l-7.72 7.72c-.78.78-.78 2.05 0 2.83L4 21.41c.39.39.9.59 1.41.59.51 0 1.02-.2 1.41-.59l7.78-7.78 2.81-2.81c.8-.78.8-2.07 0-2.86zM5.41 20L4 18.59l7.72-7.72 1.47 1.35L5.41 20z\"/>\n",
              "  </svg>\n",
              "      </button>\n",
              "      \n",
              "  <style>\n",
              "    .colab-df-container {\n",
              "      display:flex;\n",
              "      flex-wrap:wrap;\n",
              "      gap: 12px;\n",
              "    }\n",
              "\n",
              "    .colab-df-convert {\n",
              "      background-color: #E8F0FE;\n",
              "      border: none;\n",
              "      border-radius: 50%;\n",
              "      cursor: pointer;\n",
              "      display: none;\n",
              "      fill: #1967D2;\n",
              "      height: 32px;\n",
              "      padding: 0 0 0 0;\n",
              "      width: 32px;\n",
              "    }\n",
              "\n",
              "    .colab-df-convert:hover {\n",
              "      background-color: #E2EBFA;\n",
              "      box-shadow: 0px 1px 2px rgba(60, 64, 67, 0.3), 0px 1px 3px 1px rgba(60, 64, 67, 0.15);\n",
              "      fill: #174EA6;\n",
              "    }\n",
              "\n",
              "    [theme=dark] .colab-df-convert {\n",
              "      background-color: #3B4455;\n",
              "      fill: #D2E3FC;\n",
              "    }\n",
              "\n",
              "    [theme=dark] .colab-df-convert:hover {\n",
              "      background-color: #434B5C;\n",
              "      box-shadow: 0px 1px 3px 1px rgba(0, 0, 0, 0.15);\n",
              "      filter: drop-shadow(0px 1px 2px rgba(0, 0, 0, 0.3));\n",
              "      fill: #FFFFFF;\n",
              "    }\n",
              "  </style>\n",
              "\n",
              "      <script>\n",
              "        const buttonEl =\n",
              "          document.querySelector('#df-31502895-3cc5-409f-aa5a-54e0a22a2630 button.colab-df-convert');\n",
              "        buttonEl.style.display =\n",
              "          google.colab.kernel.accessAllowed ? 'block' : 'none';\n",
              "\n",
              "        async function convertToInteractive(key) {\n",
              "          const element = document.querySelector('#df-31502895-3cc5-409f-aa5a-54e0a22a2630');\n",
              "          const dataTable =\n",
              "            await google.colab.kernel.invokeFunction('convertToInteractive',\n",
              "                                                     [key], {});\n",
              "          if (!dataTable) return;\n",
              "\n",
              "          const docLinkHtml = 'Like what you see? Visit the ' +\n",
              "            '<a target=\"_blank\" href=https://colab.research.google.com/notebooks/data_table.ipynb>data table notebook</a>'\n",
              "            + ' to learn more about interactive tables.';\n",
              "          element.innerHTML = '';\n",
              "          dataTable['output_type'] = 'display_data';\n",
              "          await google.colab.output.renderOutput(dataTable, element);\n",
              "          const docLink = document.createElement('div');\n",
              "          docLink.innerHTML = docLinkHtml;\n",
              "          element.appendChild(docLink);\n",
              "        }\n",
              "      </script>\n",
              "    </div>\n",
              "  </div>\n",
              "  "
            ]
          },
          "metadata": {},
          "execution_count": 16
        }
      ]
    },
    {
      "cell_type": "code",
      "source": [
        "per_team.rename(columns={'Team':'Home Team'}, inplace=True)\n",
        "\n",
        "per_team1.rename(columns={'Team':'Home Team'}, inplace=True)\n",
        "per_opp1.rename(columns={'Opposition_Team':'Away Team'}, inplace=True)"
      ],
      "metadata": {
        "id": "v4nHAaRyy-ho"
      },
      "execution_count": null,
      "outputs": []
    },
    {
      "cell_type": "code",
      "source": [
        "df = df.merge(per_game, on='Game_ID', how='left')"
      ],
      "metadata": {
        "id": "B6YNoCIGxK6s"
      },
      "execution_count": null,
      "outputs": []
    },
    {
      "cell_type": "code",
      "source": [
        "df = df.merge(per_team, on=['Game_ID','Home Team'], how='left')"
      ],
      "metadata": {
        "id": "7NWqS7VPxkkc"
      },
      "execution_count": null,
      "outputs": []
    },
    {
      "cell_type": "code",
      "source": [
        "df = df.merge(per_opp1, on=['Away Team'], how='left')\n",
        "df = df.merge(per_team1, on=['Home Team'], how='left')"
      ],
      "metadata": {
        "id": "9aSW8kipIZt4"
      },
      "execution_count": null,
      "outputs": []
    },
    {
      "cell_type": "code",
      "source": [
        "df['Date'] = pd.to_datetime(df['Date'])"
      ],
      "metadata": {
        "id": "f-ug8GPEuCnI"
      },
      "execution_count": null,
      "outputs": []
    },
    {
      "cell_type": "code",
      "source": [
        "df['Date'] = pd.to_datetime(df['Date'])\n",
        "df['year'] = df['Date'].dt.year\n",
        "df['year'] = df['year'].astype(float)\n",
        "df['month'] = df['Date'].dt.month\n",
        "df['day'] = df['Date'].dt.day"
      ],
      "metadata": {
        "id": "7mzGxXB81bNc"
      },
      "execution_count": null,
      "outputs": []
    },
    {
      "cell_type": "code",
      "source": [
        "cat_col = ['Home Team','Away Team']\n",
        "\n",
        "for i in cat_col:\n",
        "    le = LabelEncoder()\n",
        "    df[i] = le.fit_transform(df[i])"
      ],
      "metadata": {
        "id": "arcFBtCJZPX9"
      },
      "execution_count": null,
      "outputs": []
    },
    {
      "cell_type": "code",
      "source": [
        "train_df = df[:len_train]\n",
        "test_df = df[len_train:]"
      ],
      "metadata": {
        "id": "b-VBj-Wg00LJ"
      },
      "execution_count": null,
      "outputs": []
    },
    {
      "cell_type": "code",
      "source": [
        "train_df['Score'] = train_df['Score'].replace({'Home Win':0, 'Draw':1, 'Away win':2})"
      ],
      "metadata": {
        "id": "Za5ES9KA2wZP"
      },
      "execution_count": null,
      "outputs": []
    },
    {
      "cell_type": "code",
      "source": [
        "X = train_df.drop(columns=['Game_ID','Date','Score'])\n",
        "y = train_df['Score']\n",
        "tes = test_df.drop(columns=['Game_ID','Date','Score'])"
      ],
      "metadata": {
        "id": "qCLK58kH1Dj4"
      },
      "execution_count": null,
      "outputs": []
    },
    {
      "cell_type": "code",
      "source": [
        "%%time\n",
        "folds = StratifiedKFold(n_splits=10, shuffle=True, random_state=2022)\n",
        "\n",
        "oofs = np.zeros((len(train_df)))\n",
        "preds = np.zeros((len(tes)))\n",
        "predic = []\n",
        "\n",
        "for fold_, (trn_idx, val_idx) in enumerate(folds.split(X, y)):\n",
        "    \n",
        "    X_trn, y_trn = X.iloc[trn_idx], y.iloc[trn_idx]\n",
        "    X_val, y_val = X.iloc[val_idx], y.iloc[val_idx]\n",
        "    \n",
        "    \n",
        "    clf = XGBClassifier(learning_rate=0.05,   max_depth=6,  n_estimators=1000)\n",
        "    clf.fit(X_trn, y_trn, eval_set = [(X_val, y_val)],verbose =200, early_stopping_rounds=200)\n",
        "    \n",
        "    vp = clf.predict(X_val)\n",
        "    val_score = accuracy_score((y_val), (vp))\n",
        "    \n",
        "    print(f'\\nFold {fold_+1} Val score: {val_score}\\n')\n",
        "    \n",
        "    tp = clf.predict(tes)\n",
        "    \n",
        "    predic.append(val_score)\n",
        "    \n",
        "    \n",
        "    oofs[val_idx] = vp\n",
        "    preds += tp/10\n",
        "\n",
        "oof_score = accuracy_score((y), (oofs))\n",
        "print(f'\\nOOF ACC score is : {oof_score}')"
      ],
      "metadata": {
        "colab": {
          "base_uri": "https://localhost:8080/"
        },
        "id": "x91mCPYf2L_K",
        "outputId": "759b905b-b8fd-439e-b9cb-ee081d28d2ef"
      },
      "execution_count": null,
      "outputs": [
        {
          "output_type": "stream",
          "name": "stdout",
          "text": [
            "[0]\tvalidation_0-mlogloss:1.08021\n",
            "[200]\tvalidation_0-mlogloss:0.99194\n",
            "[261]\tvalidation_0-mlogloss:1.03557\n",
            "\n",
            "Fold 1 Val score: 0.5952380952380952\n",
            "\n",
            "[0]\tvalidation_0-mlogloss:1.08699\n",
            "[200]\tvalidation_0-mlogloss:1.03398\n",
            "[279]\tvalidation_0-mlogloss:1.07272\n",
            "\n",
            "Fold 2 Val score: 0.5476190476190477\n",
            "\n",
            "[0]\tvalidation_0-mlogloss:1.08509\n",
            "[200]\tvalidation_0-mlogloss:1.06949\n",
            "[261]\tvalidation_0-mlogloss:1.11795\n",
            "\n",
            "Fold 3 Val score: 0.5853658536585366\n",
            "\n",
            "[0]\tvalidation_0-mlogloss:1.08638\n",
            "[200]\tvalidation_0-mlogloss:1.23795\n",
            "[228]\tvalidation_0-mlogloss:1.25646\n",
            "\n",
            "Fold 4 Val score: 0.5121951219512195\n",
            "\n",
            "[0]\tvalidation_0-mlogloss:1.09006\n",
            "[200]\tvalidation_0-mlogloss:0.94283\n",
            "[278]\tvalidation_0-mlogloss:0.99716\n",
            "\n",
            "Fold 5 Val score: 0.7073170731707317\n",
            "\n",
            "[0]\tvalidation_0-mlogloss:1.08391\n",
            "[200]\tvalidation_0-mlogloss:0.79806\n",
            "[305]\tvalidation_0-mlogloss:0.87832\n",
            "\n",
            "Fold 6 Val score: 0.6097560975609756\n",
            "\n",
            "[0]\tvalidation_0-mlogloss:1.08082\n",
            "[200]\tvalidation_0-mlogloss:0.80341\n",
            "[277]\tvalidation_0-mlogloss:0.82605\n",
            "\n",
            "Fold 7 Val score: 0.6341463414634146\n",
            "\n",
            "[0]\tvalidation_0-mlogloss:1.08039\n",
            "[200]\tvalidation_0-mlogloss:0.76364\n",
            "[362]\tvalidation_0-mlogloss:0.80830\n",
            "\n",
            "Fold 8 Val score: 0.6585365853658537\n",
            "\n",
            "[0]\tvalidation_0-mlogloss:1.07910\n",
            "[200]\tvalidation_0-mlogloss:0.84305\n",
            "[272]\tvalidation_0-mlogloss:0.86346\n",
            "\n",
            "Fold 9 Val score: 0.7073170731707317\n",
            "\n",
            "[0]\tvalidation_0-mlogloss:1.07731\n",
            "[200]\tvalidation_0-mlogloss:0.88090\n",
            "[290]\tvalidation_0-mlogloss:0.92111\n",
            "\n",
            "Fold 10 Val score: 0.6341463414634146\n",
            "\n",
            "\n",
            "OOF ACC score is : 0.6189320388349514\n",
            "CPU times: user 1min 15s, sys: 1.24 s, total: 1min 17s\n",
            "Wall time: 39.6 s\n"
          ]
        }
      ]
    },
    {
      "cell_type": "code",
      "source": [
        "%%time\n",
        "folds = StratifiedKFold(n_splits=10, shuffle=True, random_state=2022)\n",
        "\n",
        "oofs_1 = np.zeros((len(train_df)))\n",
        "preds_1 = np.zeros((len(tes)))\n",
        "predic = []\n",
        "\n",
        "# grp = train['UserID']\n",
        "\n",
        "for fold_, (trn_idx, val_idx) in enumerate(folds.split(X, y)):\n",
        "    \n",
        "    X_trn, y_trn = X.iloc[trn_idx], y.iloc[trn_idx]\n",
        "    X_val, y_val = X.iloc[val_idx], y.iloc[val_idx]\n",
        "    \n",
        "    \n",
        "    clf = CatBoostClassifier(learning_rate=0.05,  depth=7,   n_estimators=200)\n",
        "    \n",
        "    clf.fit(X_trn, y_trn, eval_set = [(X_val, y_val)],verbose =200, early_stopping_rounds=100)\n",
        "    \n",
        "    vp = clf.predict(X_val)[:,0]\n",
        "    val_score = accuracy_score((y_val), (vp))\n",
        "    \n",
        "    print(f'\\nFold {fold_+1} Val score: {val_score}\\n')\n",
        "    \n",
        "    tp = clf.predict(tes)[:,0]\n",
        "    \n",
        "    predic.append(val_score)\n",
        "    \n",
        "    \n",
        "    oofs_1[val_idx] = vp\n",
        "    preds_1 += tp/10\n",
        "\n",
        "oof_score = accuracy_score((y), (oofs_1))\n",
        "print(f'\\nOOF ACC score is : {oof_score}')"
      ],
      "metadata": {
        "colab": {
          "base_uri": "https://localhost:8080/"
        },
        "id": "ODStMXDl4g91",
        "outputId": "271f3fe1-3da3-47fb-c2d8-e7bc7e2bf979"
      },
      "execution_count": null,
      "outputs": [
        {
          "output_type": "stream",
          "name": "stdout",
          "text": [
            "0:\tlearn: 1.0878772\ttest: 1.0937768\tbest: 1.0937768 (0)\ttotal: 109ms\tremaining: 21.7s\n",
            "199:\tlearn: 0.3317237\ttest: 0.9042783\tbest: 0.9042055 (187)\ttotal: 6.3s\tremaining: 0us\n",
            "\n",
            "bestTest = 0.9042055105\n",
            "bestIteration = 187\n",
            "\n",
            "Shrink model to first 188 iterations.\n",
            "\n",
            "Fold 1 Val score: 0.6190476190476191\n",
            "\n",
            "0:\tlearn: 1.0871884\ttest: 1.0852910\tbest: 1.0852910 (0)\ttotal: 40.9ms\tremaining: 8.14s\n",
            "199:\tlearn: 0.3413447\ttest: 0.8969733\tbest: 0.8923567 (173)\ttotal: 6.05s\tremaining: 0us\n",
            "\n",
            "bestTest = 0.8923567205\n",
            "bestIteration = 173\n",
            "\n",
            "Shrink model to first 174 iterations.\n",
            "\n",
            "Fold 2 Val score: 0.6190476190476191\n",
            "\n",
            "0:\tlearn: 1.0872811\ttest: 1.0952158\tbest: 1.0952158 (0)\ttotal: 40.7ms\tremaining: 8.1s\n",
            "199:\tlearn: 0.3267365\ttest: 1.0070924\tbest: 0.9979720 (113)\ttotal: 6.02s\tremaining: 0us\n",
            "\n",
            "bestTest = 0.9979720343\n",
            "bestIteration = 113\n",
            "\n",
            "Shrink model to first 114 iterations.\n",
            "\n",
            "Fold 3 Val score: 0.4878048780487805\n",
            "\n",
            "0:\tlearn: 1.0868131\ttest: 1.0948828\tbest: 1.0948828 (0)\ttotal: 40.4ms\tremaining: 8.05s\n",
            "199:\tlearn: 0.3319547\ttest: 0.9360919\tbest: 0.9342637 (194)\ttotal: 6.08s\tremaining: 0us\n",
            "\n",
            "bestTest = 0.9342636723\n",
            "bestIteration = 194\n",
            "\n",
            "Shrink model to first 195 iterations.\n",
            "\n",
            "Fold 4 Val score: 0.5853658536585366\n",
            "\n",
            "0:\tlearn: 1.0878750\ttest: 1.0936155\tbest: 1.0936155 (0)\ttotal: 41.4ms\tremaining: 8.23s\n",
            "199:\tlearn: 0.3290122\ttest: 0.9816488\tbest: 0.9814844 (198)\ttotal: 6.03s\tremaining: 0us\n",
            "\n",
            "bestTest = 0.981484444\n",
            "bestIteration = 198\n",
            "\n",
            "Shrink model to first 199 iterations.\n",
            "\n",
            "Fold 5 Val score: 0.6097560975609756\n",
            "\n",
            "0:\tlearn: 1.0886982\ttest: 1.0916107\tbest: 1.0916107 (0)\ttotal: 42.8ms\tremaining: 8.52s\n",
            "199:\tlearn: 0.3340222\ttest: 0.8516270\tbest: 0.8509402 (196)\ttotal: 6.14s\tremaining: 0us\n",
            "\n",
            "bestTest = 0.8509402244\n",
            "bestIteration = 196\n",
            "\n",
            "Shrink model to first 197 iterations.\n",
            "\n",
            "Fold 6 Val score: 0.6341463414634146\n",
            "\n",
            "0:\tlearn: 1.0875550\ttest: 1.0934154\tbest: 1.0934154 (0)\ttotal: 44.8ms\tremaining: 8.91s\n",
            "199:\tlearn: 0.3319975\ttest: 0.8344788\tbest: 0.8342054 (194)\ttotal: 6.03s\tremaining: 0us\n",
            "\n",
            "bestTest = 0.8342053985\n",
            "bestIteration = 194\n",
            "\n",
            "Shrink model to first 195 iterations.\n",
            "\n",
            "Fold 7 Val score: 0.7073170731707317\n",
            "\n",
            "0:\tlearn: 1.0888001\ttest: 1.0925278\tbest: 1.0925278 (0)\ttotal: 40.9ms\tremaining: 8.14s\n",
            "199:\tlearn: 0.3370532\ttest: 0.8428554\tbest: 0.8424693 (195)\ttotal: 6.08s\tremaining: 0us\n",
            "\n",
            "bestTest = 0.8424692882\n",
            "bestIteration = 195\n",
            "\n",
            "Shrink model to first 196 iterations.\n",
            "\n",
            "Fold 8 Val score: 0.6585365853658537\n",
            "\n",
            "0:\tlearn: 1.0894637\ttest: 1.0943542\tbest: 1.0943542 (0)\ttotal: 38.7ms\tremaining: 7.7s\n",
            "199:\tlearn: 0.3361514\ttest: 0.8452757\tbest: 0.8449062 (195)\ttotal: 5.82s\tremaining: 0us\n",
            "\n",
            "bestTest = 0.8449062086\n",
            "bestIteration = 195\n",
            "\n",
            "Shrink model to first 196 iterations.\n",
            "\n",
            "Fold 9 Val score: 0.6341463414634146\n",
            "\n",
            "0:\tlearn: 1.0867525\ttest: 1.0905310\tbest: 1.0905310 (0)\ttotal: 41ms\tremaining: 8.17s\n",
            "199:\tlearn: 0.3381133\ttest: 0.8165674\tbest: 0.8165674 (199)\ttotal: 6.04s\tremaining: 0us\n",
            "\n",
            "bestTest = 0.8165674131\n",
            "bestIteration = 199\n",
            "\n",
            "\n",
            "Fold 10 Val score: 0.6097560975609756\n",
            "\n",
            "\n",
            "OOF ACC score is : 0.616504854368932\n",
            "CPU times: user 1min 55s, sys: 1.52 s, total: 1min 57s\n",
            "Wall time: 1min 1s\n"
          ]
        }
      ]
    },
    {
      "cell_type": "code",
      "source": [
        "xgb_oof = pd.DataFrame(oofs, columns=['xgb'])\n",
        "xgb_pred = pd.DataFrame(preds, columns=['xgb'])\n",
        "\n",
        "lgb_oof = pd.DataFrame(oofs_1, columns=['cat'])\n",
        "lgb_pred = pd.DataFrame(preds_1, columns=['cat'])"
      ],
      "metadata": {
        "id": "uaA6Komf4g4p"
      },
      "execution_count": null,
      "outputs": []
    },
    {
      "cell_type": "code",
      "source": [
        "a = X[['team_possession_sum','team_possession_mean','team_possession_min','team_possession_max']]\n",
        "b = tes[['team_possession_sum','team_possession_mean','team_possession_min','team_possession_max']]"
      ],
      "metadata": {
        "id": "VqN9WRSh9WMY"
      },
      "execution_count": null,
      "outputs": []
    },
    {
      "cell_type": "code",
      "source": [
        "b.reset_index(drop=True, inplace=True)"
      ],
      "metadata": {
        "id": "1L2Ako_p9pJq"
      },
      "execution_count": null,
      "outputs": []
    },
    {
      "cell_type": "code",
      "source": [
        "new_X = pd.concat([xgb_oof, lgb_oof, a], 1)\n",
        "new_tes = pd.concat([xgb_pred, lgb_pred, b], 1)"
      ],
      "metadata": {
        "id": "tZycUWsy4gzc"
      },
      "execution_count": null,
      "outputs": []
    },
    {
      "cell_type": "code",
      "source": [
        "new_tes.fillna(-999, inplace=True)"
      ],
      "metadata": {
        "id": "5QGgQxxC97co"
      },
      "execution_count": null,
      "outputs": []
    },
    {
      "cell_type": "code",
      "source": [
        "%%time\n",
        "folds = StratifiedKFold(n_splits=10, shuffle=True, random_state=2022)\n",
        "\n",
        "oofs_2 = np.zeros((len(train_df)))\n",
        "preds_2 = np.zeros((len(tes)))\n",
        "predic = []\n",
        "\n",
        "for fold_, (trn_idx, val_idx) in enumerate(folds.split(new_X, y)):\n",
        "    \n",
        "    X_trn, y_trn = new_X.iloc[trn_idx], y.iloc[trn_idx]\n",
        "    X_val, y_val = new_X.iloc[val_idx], y.iloc[val_idx]\n",
        "    \n",
        "    \n",
        "    clf = LogisticRegression()\n",
        "    \n",
        "    clf.fit(new_X, y)\n",
        "    \n",
        "    vp = clf.predict(X_val)\n",
        "    val_score = accuracy_score((y_val), (vp))\n",
        "    \n",
        "    print(f'\\nFold {fold_+1} Val score: {val_score}\\n')\n",
        "    \n",
        "    tp = clf.predict(new_tes)\n",
        "    \n",
        "    predic.append(val_score)\n",
        "    \n",
        "    \n",
        "    oofs_2[val_idx] = vp\n",
        "    preds_2 += tp/10\n",
        "\n",
        "oof_score = accuracy_score((y), (oofs_2))\n",
        "print(f'\\nOOF ACC score is : {oof_score}')"
      ],
      "metadata": {
        "colab": {
          "base_uri": "https://localhost:8080/"
        },
        "id": "wsSs1TO44gkE",
        "outputId": "d30913cf-399a-4075-a858-5ebdf3b27878"
      },
      "execution_count": null,
      "outputs": [
        {
          "output_type": "stream",
          "name": "stdout",
          "text": [
            "\n",
            "Fold 1 Val score: 0.5476190476190477\n",
            "\n",
            "\n",
            "Fold 2 Val score: 0.5952380952380952\n",
            "\n",
            "\n",
            "Fold 3 Val score: 0.5609756097560976\n",
            "\n",
            "\n",
            "Fold 4 Val score: 0.5365853658536586\n",
            "\n",
            "\n",
            "Fold 5 Val score: 0.6341463414634146\n",
            "\n",
            "\n",
            "Fold 6 Val score: 0.6341463414634146\n",
            "\n",
            "\n",
            "Fold 7 Val score: 0.6097560975609756\n",
            "\n",
            "\n",
            "Fold 8 Val score: 0.7073170731707317\n",
            "\n",
            "\n",
            "Fold 9 Val score: 0.6585365853658537\n",
            "\n",
            "\n",
            "Fold 10 Val score: 0.5853658536585366\n",
            "\n",
            "\n",
            "OOF ACC score is : 0.6067961165048543\n",
            "CPU times: user 483 ms, sys: 8.17 ms, total: 492 ms\n",
            "Wall time: 493 ms\n"
          ]
        }
      ]
    },
    {
      "cell_type": "code",
      "source": [
        "np.mean(predic)"
      ],
      "metadata": {
        "colab": {
          "base_uri": "https://localhost:8080/"
        },
        "id": "F64rLqxRy1oe",
        "outputId": "a176faea-9846-4e48-e0de-3774d5628120"
      },
      "execution_count": null,
      "outputs": [
        {
          "output_type": "execute_result",
          "data": {
            "text/plain": [
              "0.6191637630662019"
            ]
          },
          "metadata": {},
          "execution_count": 162
        }
      ]
    },
    {
      "cell_type": "code",
      "source": [
        "d = {'Game_ID':test['Game_ID'], 'Score':preds_2}\n",
        "submit = pd.DataFrame(d)"
      ],
      "metadata": {
        "id": "U02S01Cu6ycN"
      },
      "execution_count": null,
      "outputs": []
    },
    {
      "cell_type": "code",
      "source": [
        "submit.head()"
      ],
      "metadata": {
        "colab": {
          "base_uri": "https://localhost:8080/",
          "height": 197
        },
        "id": "TTVS9b1N7HtN",
        "outputId": "77d67916-3979-42e0-aa8b-8f7a651c2c99"
      },
      "execution_count": null,
      "outputs": [
        {
          "output_type": "execute_result",
          "data": {
            "text/plain": [
              "       Game_ID  Score\n",
              "0  ID_8518U587    2.0\n",
              "1  ID_H49BIKG7    0.0\n",
              "2  ID_PO6SP4VA    0.0\n",
              "3  ID_MZRCNBAQ    2.0\n",
              "4  ID_CV9VOLIU    0.0"
            ],
            "text/html": [
              "\n",
              "  <div id=\"df-740184f0-d5c5-4152-9bff-95a87dbda055\">\n",
              "    <div class=\"colab-df-container\">\n",
              "      <div>\n",
              "<style scoped>\n",
              "    .dataframe tbody tr th:only-of-type {\n",
              "        vertical-align: middle;\n",
              "    }\n",
              "\n",
              "    .dataframe tbody tr th {\n",
              "        vertical-align: top;\n",
              "    }\n",
              "\n",
              "    .dataframe thead th {\n",
              "        text-align: right;\n",
              "    }\n",
              "</style>\n",
              "<table border=\"1\" class=\"dataframe\">\n",
              "  <thead>\n",
              "    <tr style=\"text-align: right;\">\n",
              "      <th></th>\n",
              "      <th>Game_ID</th>\n",
              "      <th>Score</th>\n",
              "    </tr>\n",
              "  </thead>\n",
              "  <tbody>\n",
              "    <tr>\n",
              "      <th>0</th>\n",
              "      <td>ID_8518U587</td>\n",
              "      <td>2.0</td>\n",
              "    </tr>\n",
              "    <tr>\n",
              "      <th>1</th>\n",
              "      <td>ID_H49BIKG7</td>\n",
              "      <td>0.0</td>\n",
              "    </tr>\n",
              "    <tr>\n",
              "      <th>2</th>\n",
              "      <td>ID_PO6SP4VA</td>\n",
              "      <td>0.0</td>\n",
              "    </tr>\n",
              "    <tr>\n",
              "      <th>3</th>\n",
              "      <td>ID_MZRCNBAQ</td>\n",
              "      <td>2.0</td>\n",
              "    </tr>\n",
              "    <tr>\n",
              "      <th>4</th>\n",
              "      <td>ID_CV9VOLIU</td>\n",
              "      <td>0.0</td>\n",
              "    </tr>\n",
              "  </tbody>\n",
              "</table>\n",
              "</div>\n",
              "      <button class=\"colab-df-convert\" onclick=\"convertToInteractive('df-740184f0-d5c5-4152-9bff-95a87dbda055')\"\n",
              "              title=\"Convert this dataframe to an interactive table.\"\n",
              "              style=\"display:none;\">\n",
              "        \n",
              "  <svg xmlns=\"http://www.w3.org/2000/svg\" height=\"24px\"viewBox=\"0 0 24 24\"\n",
              "       width=\"24px\">\n",
              "    <path d=\"M0 0h24v24H0V0z\" fill=\"none\"/>\n",
              "    <path d=\"M18.56 5.44l.94 2.06.94-2.06 2.06-.94-2.06-.94-.94-2.06-.94 2.06-2.06.94zm-11 1L8.5 8.5l.94-2.06 2.06-.94-2.06-.94L8.5 2.5l-.94 2.06-2.06.94zm10 10l.94 2.06.94-2.06 2.06-.94-2.06-.94-.94-2.06-.94 2.06-2.06.94z\"/><path d=\"M17.41 7.96l-1.37-1.37c-.4-.4-.92-.59-1.43-.59-.52 0-1.04.2-1.43.59L10.3 9.45l-7.72 7.72c-.78.78-.78 2.05 0 2.83L4 21.41c.39.39.9.59 1.41.59.51 0 1.02-.2 1.41-.59l7.78-7.78 2.81-2.81c.8-.78.8-2.07 0-2.86zM5.41 20L4 18.59l7.72-7.72 1.47 1.35L5.41 20z\"/>\n",
              "  </svg>\n",
              "      </button>\n",
              "      \n",
              "  <style>\n",
              "    .colab-df-container {\n",
              "      display:flex;\n",
              "      flex-wrap:wrap;\n",
              "      gap: 12px;\n",
              "    }\n",
              "\n",
              "    .colab-df-convert {\n",
              "      background-color: #E8F0FE;\n",
              "      border: none;\n",
              "      border-radius: 50%;\n",
              "      cursor: pointer;\n",
              "      display: none;\n",
              "      fill: #1967D2;\n",
              "      height: 32px;\n",
              "      padding: 0 0 0 0;\n",
              "      width: 32px;\n",
              "    }\n",
              "\n",
              "    .colab-df-convert:hover {\n",
              "      background-color: #E2EBFA;\n",
              "      box-shadow: 0px 1px 2px rgba(60, 64, 67, 0.3), 0px 1px 3px 1px rgba(60, 64, 67, 0.15);\n",
              "      fill: #174EA6;\n",
              "    }\n",
              "\n",
              "    [theme=dark] .colab-df-convert {\n",
              "      background-color: #3B4455;\n",
              "      fill: #D2E3FC;\n",
              "    }\n",
              "\n",
              "    [theme=dark] .colab-df-convert:hover {\n",
              "      background-color: #434B5C;\n",
              "      box-shadow: 0px 1px 3px 1px rgba(0, 0, 0, 0.15);\n",
              "      filter: drop-shadow(0px 1px 2px rgba(0, 0, 0, 0.3));\n",
              "      fill: #FFFFFF;\n",
              "    }\n",
              "  </style>\n",
              "\n",
              "      <script>\n",
              "        const buttonEl =\n",
              "          document.querySelector('#df-740184f0-d5c5-4152-9bff-95a87dbda055 button.colab-df-convert');\n",
              "        buttonEl.style.display =\n",
              "          google.colab.kernel.accessAllowed ? 'block' : 'none';\n",
              "\n",
              "        async function convertToInteractive(key) {\n",
              "          const element = document.querySelector('#df-740184f0-d5c5-4152-9bff-95a87dbda055');\n",
              "          const dataTable =\n",
              "            await google.colab.kernel.invokeFunction('convertToInteractive',\n",
              "                                                     [key], {});\n",
              "          if (!dataTable) return;\n",
              "\n",
              "          const docLinkHtml = 'Like what you see? Visit the ' +\n",
              "            '<a target=\"_blank\" href=https://colab.research.google.com/notebooks/data_table.ipynb>data table notebook</a>'\n",
              "            + ' to learn more about interactive tables.';\n",
              "          element.innerHTML = '';\n",
              "          dataTable['output_type'] = 'display_data';\n",
              "          await google.colab.output.renderOutput(dataTable, element);\n",
              "          const docLink = document.createElement('div');\n",
              "          docLink.innerHTML = docLinkHtml;\n",
              "          element.appendChild(docLink);\n",
              "        }\n",
              "      </script>\n",
              "    </div>\n",
              "  </div>\n",
              "  "
            ]
          },
          "metadata": {},
          "execution_count": 44
        }
      ]
    },
    {
      "cell_type": "code",
      "source": [
        "submit['Score'] = submit['Score'].round()"
      ],
      "metadata": {
        "id": "wWdSkMXn7Pe7"
      },
      "execution_count": null,
      "outputs": []
    },
    {
      "cell_type": "code",
      "source": [
        "submit['Score'] = submit['Score'].replace({0:'Home Win', 1:'Draw', 2:'Away win'})"
      ],
      "metadata": {
        "id": "D8FXdxxREVzc"
      },
      "execution_count": null,
      "outputs": []
    },
    {
      "cell_type": "code",
      "source": [
        "submit['Score'].value_counts()"
      ],
      "metadata": {
        "colab": {
          "base_uri": "https://localhost:8080/"
        },
        "id": "QLnGVjTVc_Zw",
        "outputId": "889357ce-67a7-40ab-d0f4-eff1cb7c17b7"
      },
      "execution_count": null,
      "outputs": [
        {
          "output_type": "execute_result",
          "data": {
            "text/plain": [
              "Home Win    136\n",
              "Away win     49\n",
              "Draw         49\n",
              "Name: Score, dtype: int64"
            ]
          },
          "metadata": {},
          "execution_count": 47
        }
      ]
    },
    {
      "cell_type": "code",
      "source": [
        "submit.to_csv('Final_football.csv', index=False)"
      ],
      "metadata": {
        "id": "wd9eDMa2Eqih"
      },
      "execution_count": null,
      "outputs": []
    },
    {
      "cell_type": "code",
      "source": [
        ""
      ],
      "metadata": {
        "id": "_29NVlXl24XM"
      },
      "execution_count": null,
      "outputs": []
    }
  ]
}
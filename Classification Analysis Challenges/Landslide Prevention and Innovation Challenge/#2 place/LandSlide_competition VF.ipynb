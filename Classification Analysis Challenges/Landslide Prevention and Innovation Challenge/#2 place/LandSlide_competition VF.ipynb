{
  "metadata": {
    "accelerator": "GPU",
    "colab": {
      "collapsed_sections": [
        "8M8usdcs2pp9",
        "_FJmHqC22cb7",
        "fty-Mee_qtN6",
        "yq3t3Vez-d9v",
        "z0wxmO7zWRTU",
        "offoB8EcWN4r",
        "kJo7TPy9iub3"
      ],
      "provenance": []
    },
    "kernelspec": {
      "name": "python3",
      "display_name": "Python 3",
      "language": "python"
    },
    "language_info": {
      "name": "python",
      "version": "3.7.12",
      "mimetype": "text/x-python",
      "codemirror_mode": {
        "name": "ipython",
        "version": 3
      },
      "pygments_lexer": "ipython3",
      "nbconvert_exporter": "python",
      "file_extension": ".py"
    }
  },
  "nbformat_minor": 0,
  "nbformat": 4,
  "cells": [
    {
      "cell_type": "code",
      "source": [
        "import pandas as pd\n",
        "import numpy as np \n",
        "import matplotlib.pyplot as plt \n",
        "import seaborn as sns\n"
      ],
      "metadata": {
        "id": "TYlArdj98Yd5",
        "execution": {
          "iopub.status.busy": "2022-10-01T14:50:12.482964Z",
          "iopub.execute_input": "2022-10-01T14:50:12.483572Z",
          "iopub.status.idle": "2022-10-01T14:50:13.381168Z",
          "shell.execute_reply.started": "2022-10-01T14:50:12.483467Z",
          "shell.execute_reply": "2022-10-01T14:50:13.380222Z"
        },
        "trusted": true
      },
      "execution_count": null,
      "outputs": []
    },
    {
      "cell_type": "markdown",
      "source": [
        "# Data"
      ],
      "metadata": {
        "id": "5Pl7Eunn2jcf"
      }
    },
    {
      "cell_type": "code",
      "source": [
        "train=pd.read_csv('/content/Train.csv')\n",
        "test=pd.read_csv('/content/Test.csv')\n",
        "sub=pd.read_csv('/content/SampleSubmission.csv')"
      ],
      "metadata": {
        "id": "FJgwdLoO9CrY",
        "execution": {
          "iopub.status.busy": "2022-10-01T14:50:13.383380Z",
          "iopub.execute_input": "2022-10-01T14:50:13.383759Z",
          "iopub.status.idle": "2022-10-01T14:50:14.513162Z",
          "shell.execute_reply.started": "2022-10-01T14:50:13.383722Z",
          "shell.execute_reply": "2022-10-01T14:50:14.512160Z"
        },
        "trusted": true
      },
      "execution_count": null,
      "outputs": []
    },
    {
      "cell_type": "code",
      "source": [
        "Y_train=train['Label']\n",
        "X_train=train.drop('Label',axis=1)\n",
        "X_test=test"
      ],
      "metadata": {
        "id": "SJRWgVor-e1p",
        "execution": {
          "iopub.status.busy": "2022-10-01T14:50:14.518831Z",
          "iopub.execute_input": "2022-10-01T14:50:14.521514Z",
          "iopub.status.idle": "2022-10-01T14:50:14.543660Z",
          "shell.execute_reply.started": "2022-10-01T14:50:14.521471Z",
          "shell.execute_reply": "2022-10-01T14:50:14.542628Z"
        },
        "trusted": true
      },
      "execution_count": null,
      "outputs": []
    },
    {
      "cell_type": "markdown",
      "source": [
        "#  Add Features"
      ],
      "metadata": {
        "id": "aJHRYoeodx4X"
      }
    },
    {
      "cell_type": "markdown",
      "source": [
        "**calcul of  variance of values for each package of features (example: elevation / slope ... )**"
      ],
      "metadata": {
        "id": "UyaCKZ_U9MFf"
      }
    },
    {
      "cell_type": "code",
      "source": [
        "C={}\n",
        "for c in range(1,10):\n",
        "  c1=[]\n",
        "  s=((c-1)*25)+1\n",
        "  e=(c*25)+1\n",
        "  col=train.columns[s][2:]\n",
        "  for i in range(train.shape[0]):\n",
        "    c1+=[np.var(train.iloc[i,s:e])]\n",
        "    C[col]=c1\n",
        "for k in C.keys():\n",
        "  train[k]=C[k]"
      ],
      "metadata": {
        "id": "C4o8plfIh0hW",
        "execution": {
          "iopub.status.busy": "2022-10-01T15:03:24.088482Z",
          "iopub.execute_input": "2022-10-01T15:03:24.088848Z",
          "iopub.status.idle": "2022-10-01T15:04:10.142411Z",
          "shell.execute_reply.started": "2022-10-01T15:03:24.088814Z",
          "shell.execute_reply": "2022-10-01T15:04:10.141443Z"
        },
        "trusted": true
      },
      "execution_count": null,
      "outputs": []
    },
    {
      "cell_type": "code",
      "source": [
        "C1={}\n",
        "for c in range(1,10):\n",
        "  c1=[]\n",
        "  s=((c-1)*25)+1\n",
        "  e=(c*25)+1\n",
        "  col=test.columns[s][2:]\n",
        "  for i in range(test.shape[0]):\n",
        "    c1+=[np.var(test.iloc[i,s:e])]\n",
        "    C1[col]=c1\n",
        "for k in C1.keys():\n",
        "  test[k]=C1[k]"
      ],
      "metadata": {
        "id": "_yNjrSkppiWr",
        "execution": {
          "iopub.status.busy": "2022-10-01T15:04:10.147181Z",
          "iopub.execute_input": "2022-10-01T15:04:10.148012Z",
          "iopub.status.idle": "2022-10-01T15:04:33.740533Z",
          "shell.execute_reply.started": "2022-10-01T15:04:10.147976Z",
          "shell.execute_reply": "2022-10-01T15:04:33.739512Z"
        },
        "trusted": true
      },
      "execution_count": null,
      "outputs": []
    },
    {
      "cell_type": "markdown",
      "source": [
        "**sum each package of features horizontally and vertically**"
      ],
      "metadata": {
        "id": "rEMHWovebada"
      }
    },
    {
      "cell_type": "code",
      "source": [
        "# group cell Id vertically  \n",
        "DV=[]\n",
        "for i in range(5):\n",
        "  DV+=[[i,i+5,i+10,i+15,i+20]]\n",
        "  DV"
      ],
      "metadata": {
        "id": "wjprH0-pC8XT",
        "execution": {
          "iopub.status.busy": "2022-10-01T15:04:33.741854Z",
          "iopub.execute_input": "2022-10-01T15:04:33.742494Z",
          "iopub.status.idle": "2022-10-01T15:04:33.747803Z",
          "shell.execute_reply.started": "2022-10-01T15:04:33.742456Z",
          "shell.execute_reply": "2022-10-01T15:04:33.746692Z"
        },
        "trusted": true
      },
      "execution_count": null,
      "outputs": []
    },
    {
      "cell_type": "code",
      "source": [
        "#difference between sum of each line of cells\n",
        "C2={}\n",
        "for c in range(1,10):\n",
        "  dv1=[]\n",
        "  s=((c-1)*25)+1\n",
        "  e=(c*25)+1\n",
        "  col=train.columns[s][2:]\n",
        "  for i in range(train.shape[0]):\n",
        "    c1=0\n",
        "    for d in range(1,len(DV)):\n",
        "      c1+=train.iloc[i,s:e][DV[d-1]].sum()-train.iloc[i,s:e][DV[d]].sum()\n",
        "    dv1+=[c1]\n",
        "    C2[col+'_V']=dv1\n",
        "for k in C2.keys():\n",
        "  train[k]=C2[k]"
      ],
      "metadata": {
        "id": "LYl2wdMrbWWa",
        "execution": {
          "iopub.status.busy": "2022-10-01T15:04:33.749289Z",
          "iopub.execute_input": "2022-10-01T15:04:33.749876Z",
          "iopub.status.idle": "2022-10-01T15:12:21.018348Z",
          "shell.execute_reply.started": "2022-10-01T15:04:33.749841Z",
          "shell.execute_reply": "2022-10-01T15:12:21.017319Z"
        },
        "trusted": true
      },
      "execution_count": null,
      "outputs": []
    },
    {
      "cell_type": "code",
      "source": [
        "C3={}\n",
        "for c in range(1,10):\n",
        "  dv1=[]\n",
        "  s=((c-1)*25)+1\n",
        "  e=(c*25)+1\n",
        "  col=test.columns[s][2:]\n",
        "  for i in range(test.shape[0]):\n",
        "    c1=0\n",
        "    for d in range(1,len(DV)):\n",
        "      c1+=test.iloc[i,s:e][DV[d-1]].sum()-test.iloc[i,s:e][DV[d]].sum()\n",
        "    dv1+=[c1]\n",
        "    C3[col+'_V']=dv1\n",
        "for k in C3.keys():\n",
        "  test[k]=C3[k]"
      ],
      "metadata": {
        "id": "PWZmefTDqpjH",
        "execution": {
          "iopub.status.busy": "2022-10-01T15:43:49.595066Z",
          "iopub.execute_input": "2022-10-01T15:43:49.595320Z",
          "iopub.status.idle": "2022-10-01T15:48:22.171093Z",
          "shell.execute_reply.started": "2022-10-01T15:43:49.595296Z",
          "shell.execute_reply": "2022-10-01T15:48:22.170082Z"
        },
        "trusted": true
      },
      "execution_count": null,
      "outputs": []
    },
    {
      "cell_type": "code",
      "source": [
        "#difference between mean of each line of cells\n",
        "\n",
        "C4={}\n",
        "for c in range(1,10):\n",
        "  dv1=[]\n",
        "  s=((c-1)*25)+1\n",
        "  e=(c*25)+1\n",
        "  col=train.columns[s][2:]\n",
        "  for i in range(train.shape[0]):\n",
        "    c1=0\n",
        "    for d in range(1,len(DV)):\n",
        "      c1+=train.iloc[i,s:e][DV[d-1]].mean()-train.iloc[i,s:e][DV[d]].mean()\n",
        "    dv1+=[c1]\n",
        "    C4[col+'_m_V']=dv1\n",
        "for k in C4.keys():\n",
        "  train[k]=C4[k]"
      ],
      "metadata": {
        "id": "55qLAPjAhY9a",
        "execution": {
          "iopub.status.busy": "2022-10-01T15:12:21.019834Z",
          "iopub.execute_input": "2022-10-01T15:12:21.020171Z",
          "iopub.status.idle": "2022-10-01T15:20:37.572593Z",
          "shell.execute_reply.started": "2022-10-01T15:12:21.020135Z",
          "shell.execute_reply": "2022-10-01T15:20:37.571563Z"
        },
        "trusted": true
      },
      "execution_count": null,
      "outputs": []
    },
    {
      "cell_type": "code",
      "source": [
        "C5={}\n",
        "for c in range(1,10):\n",
        "  dv1=[]\n",
        "  s=((c-1)*25)+1\n",
        "  e=(c*25)+1\n",
        "  col=test.columns[s][2:]\n",
        "  for i in range(test.shape[0]):\n",
        "    c1=0\n",
        "    for d in range(1,len(DV)):\n",
        "      c1+=test.iloc[i,s:e][DV[d-1]].mean()-test.iloc[i,s:e][DV[d]].mean()\n",
        "    dv1+=[c1]\n",
        "    C5[col+'_m_V']=dv1\n",
        "for k in C5.keys():\n",
        "  test[k]=C5[k]"
      ],
      "metadata": {
        "id": "avTzIiTCvPeC",
        "execution": {
          "iopub.status.busy": "2022-10-01T15:48:22.172537Z",
          "iopub.execute_input": "2022-10-01T15:48:22.172890Z",
          "iopub.status.idle": "2022-10-01T15:53:10.151815Z",
          "shell.execute_reply.started": "2022-10-01T15:48:22.172850Z",
          "shell.execute_reply": "2022-10-01T15:53:10.149648Z"
        },
        "trusted": true
      },
      "execution_count": null,
      "outputs": []
    },
    {
      "cell_type": "code",
      "source": [
        "# group cell Id horizentally  \n",
        "\n",
        "DH=[]\n",
        "for i in range(0,25,5):\n",
        "  DH+=[[i,i+1,i+2,i+3,i+4]]\n",
        "DH"
      ],
      "metadata": {
        "id": "BLwfCF2kirRm",
        "execution": {
          "iopub.status.busy": "2022-10-01T15:20:37.574100Z",
          "iopub.execute_input": "2022-10-01T15:20:37.574469Z",
          "iopub.status.idle": "2022-10-01T15:20:37.582187Z",
          "shell.execute_reply.started": "2022-10-01T15:20:37.574432Z",
          "shell.execute_reply": "2022-10-01T15:20:37.581070Z"
        },
        "trusted": true,
        "colab": {
          "base_uri": "https://localhost:8080/"
        },
        "outputId": "54f18db3-91b6-42e7-df02-00e458538a61"
      },
      "execution_count": null,
      "outputs": [
        {
          "output_type": "execute_result",
          "data": {
            "text/plain": [
              "[[0, 1, 2, 3, 4],\n",
              " [5, 6, 7, 8, 9],\n",
              " [10, 11, 12, 13, 14],\n",
              " [15, 16, 17, 18, 19],\n",
              " [20, 21, 22, 23, 24]]"
            ]
          },
          "metadata": {},
          "execution_count": 13
        }
      ]
    },
    {
      "cell_type": "code",
      "source": [
        "C6={}\n",
        "for c in range(1,10):\n",
        "  dh1=[]\n",
        "  for i in range(train.shape[0]):\n",
        "    s=((c-1)*25)+1\n",
        "    e=(c*25)+1\n",
        "    col=train.columns[s][2:]\n",
        "    c1=0\n",
        "    for d in range(1,len(DH)):\n",
        "      c1+=train.iloc[i,s:e][DH[d-1]].sum()-train.iloc[i,s:e][DH[d]].sum()\n",
        "    dh1+=[c1]\n",
        "    C6[col+'_H']=dh1\n",
        "for k in C6.keys():\n",
        "  train[k]=C6[k]"
      ],
      "metadata": {
        "id": "HUL7Oqpwhh44",
        "execution": {
          "iopub.status.busy": "2022-10-01T15:53:10.153265Z",
          "iopub.execute_input": "2022-10-01T15:53:10.153631Z",
          "iopub.status.idle": "2022-10-01T16:02:38.512194Z",
          "shell.execute_reply.started": "2022-10-01T15:53:10.153596Z",
          "shell.execute_reply": "2022-10-01T16:02:38.511169Z"
        },
        "trusted": true
      },
      "execution_count": null,
      "outputs": []
    },
    {
      "cell_type": "code",
      "source": [
        "C7={}\n",
        "for c in range(1,10):\n",
        "  dh1=[]\n",
        "  for i in range(test.shape[0]):\n",
        "    s=((c-1)*25)+1\n",
        "    e=(c*25)+1\n",
        "    col=test.columns[s][2:]\n",
        "    c1=0\n",
        "    for d in range(1,len(DH)):\n",
        "      c1+=test.iloc[i,s:e][DH[d-1]].sum()-test.iloc[i,s:e][DH[d]].sum()\n",
        "    dh1+=[c1]\n",
        "    C7[col+'_H']=dh1\n",
        "for k in C7.keys():\n",
        "  test[k]=C7[k]"
      ],
      "metadata": {
        "id": "osHQ_3rkhhzO",
        "execution": {
          "iopub.status.busy": "2022-10-01T16:02:38.513760Z",
          "iopub.execute_input": "2022-10-01T16:02:38.514387Z",
          "iopub.status.idle": "2022-10-01T16:07:21.858196Z",
          "shell.execute_reply.started": "2022-10-01T16:02:38.514347Z",
          "shell.execute_reply": "2022-10-01T16:07:21.857138Z"
        },
        "trusted": true
      },
      "execution_count": null,
      "outputs": []
    },
    {
      "cell_type": "code",
      "source": [
        "#difference between mean of each line of cells\n",
        "\n",
        "C8={}\n",
        "for c in range(1,10):\n",
        "  dv1=[]\n",
        "  s=((c-1)*25)+1\n",
        "  e=(c*25)+1\n",
        "  col=train.columns[s][2:]\n",
        "  for i in range(train.shape[0]):\n",
        "    c1=0\n",
        "    for d in range(1,len(DH)):\n",
        "      c1+=train.iloc[i,s:e][DH[d-1]].mean()-train.iloc[i,s:e][DH[d]].mean()\n",
        "    dv1+=[c1]\n",
        "    C8[col+'_m_H']=dv1\n",
        "for k in C8.keys():\n",
        "  train[k]=C8[k]"
      ],
      "metadata": {
        "id": "wTC-uOlW4rT4"
      },
      "execution_count": null,
      "outputs": []
    },
    {
      "cell_type": "code",
      "source": [
        "C9={}\n",
        "for c in range(1,10):\n",
        "  dv1=[]\n",
        "  s=((c-1)*25)+1\n",
        "  e=(c*25)+1\n",
        "  col=test.columns[s][2:]\n",
        "  for i in range(test.shape[0]):\n",
        "    c1=0\n",
        "    for d in range(1,len(DH)):\n",
        "      c1+=test.iloc[i,s:e][DH[d-1]].mean()-test.iloc[i,s:e][DH[d]].mean()\n",
        "    dv1+=[c1]\n",
        "    C9[col+'_m_H']=dv1\n",
        "for k in C9.keys():\n",
        "  test[k]=C9[k]"
      ],
      "metadata": {
        "id": "U4oy__R64rT5"
      },
      "execution_count": null,
      "outputs": []
    },
    {
      "cell_type": "code",
      "source": [],
      "metadata": {
        "id": "rFnlD8y24rT6"
      },
      "execution_count": null,
      "outputs": []
    },
    {
      "cell_type": "code",
      "source": [],
      "metadata": {
        "id": "Z92snJXq4rT6"
      },
      "execution_count": null,
      "outputs": []
    },
    {
      "cell_type": "code",
      "source": [
        "for c in range(1,10):\n",
        "  s=((c-1)*25)+1\n",
        "  e=(c*25)+1\n",
        "  col=train.columns[s][2:]\n",
        "  for d in range(1,len(DV)):\n",
        "    test[col+str(d)+'_V']=0\n",
        "    test[col+str(d)+'_H']=0\n",
        "    train[col+str(d)+'_V']=0\n",
        "    train[col+str(d)+'_H']=0"
      ],
      "metadata": {
        "id": "uE5ynyADOObJ",
        "execution": {
          "iopub.status.busy": "2022-10-01T15:20:37.583646Z",
          "iopub.execute_input": "2022-10-01T15:20:37.584196Z",
          "iopub.status.idle": "2022-10-01T15:20:37.647286Z",
          "shell.execute_reply.started": "2022-10-01T15:20:37.584161Z",
          "shell.execute_reply": "2022-10-01T15:20:37.646395Z"
        },
        "trusted": true,
        "colab": {
          "base_uri": "https://localhost:8080/"
        },
        "outputId": "053119b7-7aad-47d4-ad7d-a6d425ebe59b"
      },
      "execution_count": null,
      "outputs": [
        {
          "output_type": "stream",
          "name": "stderr",
          "text": [
            "/usr/local/lib/python3.7/dist-packages/ipykernel_launcher.py:7: PerformanceWarning: DataFrame is highly fragmented.  This is usually the result of calling `frame.insert` many times, which has poor performance.  Consider joining all columns at once using pd.concat(axis=1) instead.  To get a de-fragmented frame, use `newframe = frame.copy()`\n",
            "  import sys\n",
            "/usr/local/lib/python3.7/dist-packages/ipykernel_launcher.py:9: PerformanceWarning: DataFrame is highly fragmented.  This is usually the result of calling `frame.insert` many times, which has poor performance.  Consider joining all columns at once using pd.concat(axis=1) instead.  To get a de-fragmented frame, use `newframe = frame.copy()`\n",
            "  if __name__ == '__main__':\n",
            "/usr/local/lib/python3.7/dist-packages/ipykernel_launcher.py:6: PerformanceWarning: DataFrame is highly fragmented.  This is usually the result of calling `frame.insert` many times, which has poor performance.  Consider joining all columns at once using pd.concat(axis=1) instead.  To get a de-fragmented frame, use `newframe = frame.copy()`\n",
            "  \n",
            "/usr/local/lib/python3.7/dist-packages/ipykernel_launcher.py:8: PerformanceWarning: DataFrame is highly fragmented.  This is usually the result of calling `frame.insert` many times, which has poor performance.  Consider joining all columns at once using pd.concat(axis=1) instead.  To get a de-fragmented frame, use `newframe = frame.copy()`\n",
            "  \n"
          ]
        }
      ]
    },
    {
      "cell_type": "code",
      "source": [
        "for c in range(1,10):\n",
        "  s=((c-1)*25)+1\n",
        "  e=(c*25)+1\n",
        "  col=train.columns[s][2:]\n",
        "  for i in range(train.shape[0]):\n",
        "    for d in range(1,len(DH)):\n",
        "      c1=train.iloc[i,s:e][DH[d-1]].sum()\n",
        "      c2=train.iloc[i,s:e][DV[d-1]].sum()\n",
        "      train[col+str(d)+'_H'][i]=c1\n",
        "      train[col+str(d)+'_V'][i]=c2"
      ],
      "metadata": {
        "id": "xhAon6OAEwA9",
        "execution": {
          "iopub.status.busy": "2022-10-01T15:20:37.648673Z",
          "iopub.execute_input": "2022-10-01T15:20:37.649275Z",
          "iopub.status.idle": "2022-10-01T15:36:28.429392Z",
          "shell.execute_reply.started": "2022-10-01T15:20:37.649237Z",
          "shell.execute_reply": "2022-10-01T15:36:28.428377Z"
        },
        "trusted": true,
        "colab": {
          "base_uri": "https://localhost:8080/"
        },
        "outputId": "2fb168f1-c958-45bc-fc52-ceedeb21cbe3"
      },
      "execution_count": null,
      "outputs": [
        {
          "output_type": "stream",
          "name": "stderr",
          "text": [
            "/usr/local/lib/python3.7/dist-packages/ipykernel_launcher.py:9: SettingWithCopyWarning: \n",
            "A value is trying to be set on a copy of a slice from a DataFrame\n",
            "\n",
            "See the caveats in the documentation: https://pandas.pydata.org/pandas-docs/stable/user_guide/indexing.html#returning-a-view-versus-a-copy\n",
            "  if __name__ == '__main__':\n",
            "/usr/local/lib/python3.7/dist-packages/ipykernel_launcher.py:10: SettingWithCopyWarning: \n",
            "A value is trying to be set on a copy of a slice from a DataFrame\n",
            "\n",
            "See the caveats in the documentation: https://pandas.pydata.org/pandas-docs/stable/user_guide/indexing.html#returning-a-view-versus-a-copy\n",
            "  # Remove the CWD from sys.path while we load stuff.\n"
          ]
        }
      ]
    },
    {
      "cell_type": "code",
      "source": [
        "for c in range(1,10):\n",
        "  s=((c-1)*25)+1\n",
        "  e=(c*25)+1 \n",
        "  col=train.columns[s][2:]\n",
        "  for i in range(test.shape[0]):\n",
        "    for d in range(1,len(DV)):\n",
        "      c1=test.iloc[i,s:e][DV[d-1]].sum()\n",
        "      test[col+str(d)+'_V'][i]=c1\n",
        "      c2=test.iloc[i,s:e][DH[d-1]].sum()\n",
        "      test[col+str(d)+'_H'][i]=c1\n"
      ],
      "metadata": {
        "id": "TfLiiMnB1r0A",
        "execution": {
          "iopub.status.busy": "2022-10-01T15:36:28.431203Z",
          "iopub.execute_input": "2022-10-01T15:36:28.431612Z",
          "iopub.status.idle": "2022-10-01T15:43:49.539631Z",
          "shell.execute_reply.started": "2022-10-01T15:36:28.431564Z",
          "shell.execute_reply": "2022-10-01T15:43:49.538604Z"
        },
        "trusted": true,
        "colab": {
          "base_uri": "https://localhost:8080/"
        },
        "outputId": "ec9b6f0f-1d3b-4cc7-a661-a96641b9c4f7"
      },
      "execution_count": null,
      "outputs": [
        {
          "output_type": "stream",
          "name": "stderr",
          "text": [
            "/usr/local/lib/python3.7/dist-packages/ipykernel_launcher.py:8: SettingWithCopyWarning: \n",
            "A value is trying to be set on a copy of a slice from a DataFrame\n",
            "\n",
            "See the caveats in the documentation: https://pandas.pydata.org/pandas-docs/stable/user_guide/indexing.html#returning-a-view-versus-a-copy\n",
            "  \n",
            "/usr/local/lib/python3.7/dist-packages/ipykernel_launcher.py:10: SettingWithCopyWarning: \n",
            "A value is trying to be set on a copy of a slice from a DataFrame\n",
            "\n",
            "See the caveats in the documentation: https://pandas.pydata.org/pandas-docs/stable/user_guide/indexing.html#returning-a-view-versus-a-copy\n",
            "  # Remove the CWD from sys.path while we load stuff.\n"
          ]
        }
      ]
    },
    {
      "cell_type": "code",
      "source": [
        "C10={}\n",
        "for c in range(1,10):\n",
        "  c1=[]\n",
        "  c2=[]\n",
        "  for i in range(train.shape[0]):\n",
        "    s=((c-1)*25)+1\n",
        "    e=(c*25)+1\n",
        "    col=train.columns[s][2:]\n",
        "    c1+=[train.iloc[i,s:e][[6,11,16,17,18,13,8,7]].sum()]\n",
        "    c2+=[train.iloc[i,s:e][[0,1,2,3,4,5,10,15,20,21,22,23,24,19,14,9]].sum()]\n",
        "    C10[col+'sum1']=c1\n",
        "    C10[col+'sum2']=c2\n",
        "for k in C10.keys():\n",
        "  train[k]=C10[k]"
      ],
      "metadata": {
        "id": "T69UkokR4py7",
        "execution": {
          "iopub.status.busy": "2022-10-01T16:07:21.946597Z",
          "iopub.execute_input": "2022-10-01T16:07:21.946933Z",
          "iopub.status.idle": "2022-10-01T16:09:46.109216Z",
          "shell.execute_reply.started": "2022-10-01T16:07:21.946901Z",
          "shell.execute_reply": "2022-10-01T16:09:46.108255Z"
        },
        "trusted": true,
        "colab": {
          "base_uri": "https://localhost:8080/"
        },
        "outputId": "a9395312-58b4-4518-e527-5117b1dbfb67"
      },
      "execution_count": null,
      "outputs": [
        {
          "output_type": "stream",
          "name": "stderr",
          "text": [
            "/usr/local/lib/python3.7/dist-packages/ipykernel_launcher.py:14: PerformanceWarning: DataFrame is highly fragmented.  This is usually the result of calling `frame.insert` many times, which has poor performance.  Consider joining all columns at once using pd.concat(axis=1) instead.  To get a de-fragmented frame, use `newframe = frame.copy()`\n",
            "  \n"
          ]
        }
      ]
    },
    {
      "cell_type": "code",
      "source": [
        "C11={}\n",
        "for c in range(1,10):\n",
        "  c1=[]\n",
        "  c2=[]\n",
        "  for i in range(train.shape[0]):\n",
        "    s=((c-1)*25)+1\n",
        "    e=(c*25)+1\n",
        "    col=train.columns[s][2:]\n",
        "    c1+=[train.iloc[i,s:e][[6,11,16,17,18,13,8,7]].mean()]\n",
        "    c2+=[train.iloc[i,s:e][[0,1,2,3,4,5,10,15,20,21,22,23,24,19,14,9]].mean()]\n",
        "    C11[col+'mean1']=c1\n",
        "    C11[col+'mean2']=c2\n",
        "    \n",
        "for k in C11.keys():\n",
        "  train[k]=C11[k]"
      ],
      "metadata": {
        "id": "N8T42c8xeDaj",
        "execution": {
          "iopub.status.busy": "2022-10-01T16:09:46.170599Z",
          "iopub.execute_input": "2022-10-01T16:09:46.171177Z",
          "iopub.status.idle": "2022-10-01T16:12:21.530533Z",
          "shell.execute_reply.started": "2022-10-01T16:09:46.171141Z",
          "shell.execute_reply": "2022-10-01T16:12:21.529585Z"
        },
        "trusted": true
      },
      "execution_count": null,
      "outputs": []
    },
    {
      "cell_type": "code",
      "source": [
        "C12={}\n",
        "for c in range(1,10):\n",
        "  c1=[]\n",
        "  c2=[]\n",
        "  for i in range(test.shape[0]):\n",
        "    s=((c-1)*25)+1\n",
        "    e=(c*25)+1\n",
        "    col=test.columns[s][2:]\n",
        "    c1+=[test.iloc[i,s:e][[6,11,16,17,18,13,8,7]].sum()]\n",
        "    c2+=[test.iloc[i,s:e][[0,1,2,3,4,5,10,15,20,21,22,23,24,19,14,9]].sum()]\n",
        "    C12[col+'sum1']=c1\n",
        "    C12[col+'sum2']=c2\n",
        "for k in C12.keys():\n",
        "  test[k]=C12[k]"
      ],
      "metadata": {
        "id": "Eorff3am5pQq",
        "execution": {
          "iopub.status.busy": "2022-10-01T16:12:21.584829Z",
          "iopub.execute_input": "2022-10-01T16:12:21.585487Z",
          "iopub.status.idle": "2022-10-01T16:13:34.353383Z",
          "shell.execute_reply.started": "2022-10-01T16:12:21.585450Z",
          "shell.execute_reply": "2022-10-01T16:13:34.352393Z"
        },
        "trusted": true,
        "colab": {
          "base_uri": "https://localhost:8080/",
          "height": 236
        },
        "outputId": "18bc3ed3-e6b9-42fb-d62b-15faed647c01"
      },
      "execution_count": null,
      "outputs": [
        {
          "output_type": "error",
          "ename": "NameError",
          "evalue": "ignored",
          "traceback": [
            "\u001b[0;31m---------------------------------------------------------------------------\u001b[0m",
            "\u001b[0;31mNameError\u001b[0m                                 Traceback (most recent call last)",
            "\u001b[0;32m<ipython-input-23-d0ec7fc43c2c>\u001b[0m in \u001b[0;36m<module>\u001b[0;34m\u001b[0m\n\u001b[1;32m      9\u001b[0m     \u001b[0mc1\u001b[0m\u001b[0;34m+=\u001b[0m\u001b[0;34m[\u001b[0m\u001b[0mtest\u001b[0m\u001b[0;34m.\u001b[0m\u001b[0miloc\u001b[0m\u001b[0;34m[\u001b[0m\u001b[0mi\u001b[0m\u001b[0;34m,\u001b[0m\u001b[0ms\u001b[0m\u001b[0;34m:\u001b[0m\u001b[0me\u001b[0m\u001b[0;34m]\u001b[0m\u001b[0;34m[\u001b[0m\u001b[0;34m[\u001b[0m\u001b[0;36m6\u001b[0m\u001b[0;34m,\u001b[0m\u001b[0;36m11\u001b[0m\u001b[0;34m,\u001b[0m\u001b[0;36m16\u001b[0m\u001b[0;34m,\u001b[0m\u001b[0;36m17\u001b[0m\u001b[0;34m,\u001b[0m\u001b[0;36m18\u001b[0m\u001b[0;34m,\u001b[0m\u001b[0;36m13\u001b[0m\u001b[0;34m,\u001b[0m\u001b[0;36m8\u001b[0m\u001b[0;34m,\u001b[0m\u001b[0;36m7\u001b[0m\u001b[0;34m]\u001b[0m\u001b[0;34m]\u001b[0m\u001b[0;34m.\u001b[0m\u001b[0msum\u001b[0m\u001b[0;34m(\u001b[0m\u001b[0;34m)\u001b[0m\u001b[0;34m]\u001b[0m\u001b[0;34m\u001b[0m\u001b[0;34m\u001b[0m\u001b[0m\n\u001b[1;32m     10\u001b[0m     \u001b[0mc2\u001b[0m\u001b[0;34m+=\u001b[0m\u001b[0;34m[\u001b[0m\u001b[0mtest\u001b[0m\u001b[0;34m.\u001b[0m\u001b[0miloc\u001b[0m\u001b[0;34m[\u001b[0m\u001b[0mi\u001b[0m\u001b[0;34m,\u001b[0m\u001b[0ms\u001b[0m\u001b[0;34m:\u001b[0m\u001b[0me\u001b[0m\u001b[0;34m]\u001b[0m\u001b[0;34m[\u001b[0m\u001b[0;34m[\u001b[0m\u001b[0;36m0\u001b[0m\u001b[0;34m,\u001b[0m\u001b[0;36m1\u001b[0m\u001b[0;34m,\u001b[0m\u001b[0;36m2\u001b[0m\u001b[0;34m,\u001b[0m\u001b[0;36m3\u001b[0m\u001b[0;34m,\u001b[0m\u001b[0;36m4\u001b[0m\u001b[0;34m,\u001b[0m\u001b[0;36m5\u001b[0m\u001b[0;34m,\u001b[0m\u001b[0;36m10\u001b[0m\u001b[0;34m,\u001b[0m\u001b[0;36m15\u001b[0m\u001b[0;34m,\u001b[0m\u001b[0;36m20\u001b[0m\u001b[0;34m,\u001b[0m\u001b[0;36m21\u001b[0m\u001b[0;34m,\u001b[0m\u001b[0;36m22\u001b[0m\u001b[0;34m,\u001b[0m\u001b[0;36m23\u001b[0m\u001b[0;34m,\u001b[0m\u001b[0;36m24\u001b[0m\u001b[0;34m,\u001b[0m\u001b[0;36m19\u001b[0m\u001b[0;34m,\u001b[0m\u001b[0;36m14\u001b[0m\u001b[0;34m,\u001b[0m\u001b[0;36m9\u001b[0m\u001b[0;34m]\u001b[0m\u001b[0;34m]\u001b[0m\u001b[0;34m.\u001b[0m\u001b[0msum\u001b[0m\u001b[0;34m(\u001b[0m\u001b[0;34m)\u001b[0m\u001b[0;34m]\u001b[0m\u001b[0;34m\u001b[0m\u001b[0;34m\u001b[0m\u001b[0m\n\u001b[0;32m---> 11\u001b[0;31m     \u001b[0mC_02\u001b[0m\u001b[0;34m[\u001b[0m\u001b[0mcol\u001b[0m\u001b[0;34m+\u001b[0m\u001b[0;34m'sum1'\u001b[0m\u001b[0;34m]\u001b[0m\u001b[0;34m=\u001b[0m\u001b[0mc1\u001b[0m\u001b[0;34m\u001b[0m\u001b[0;34m\u001b[0m\u001b[0m\n\u001b[0m\u001b[1;32m     12\u001b[0m     \u001b[0mC_02\u001b[0m\u001b[0;34m[\u001b[0m\u001b[0mcol\u001b[0m\u001b[0;34m+\u001b[0m\u001b[0;34m'sum2'\u001b[0m\u001b[0;34m]\u001b[0m\u001b[0;34m=\u001b[0m\u001b[0mc2\u001b[0m\u001b[0;34m\u001b[0m\u001b[0;34m\u001b[0m\u001b[0m\n\u001b[1;32m     13\u001b[0m \u001b[0;32mfor\u001b[0m \u001b[0mk\u001b[0m \u001b[0;32min\u001b[0m \u001b[0mC12\u001b[0m\u001b[0;34m.\u001b[0m\u001b[0mkeys\u001b[0m\u001b[0;34m(\u001b[0m\u001b[0;34m)\u001b[0m\u001b[0;34m:\u001b[0m\u001b[0;34m\u001b[0m\u001b[0;34m\u001b[0m\u001b[0m\n",
            "\u001b[0;31mNameError\u001b[0m: name 'C_02' is not defined"
          ]
        }
      ]
    },
    {
      "cell_type": "code",
      "source": [
        "C13={}\n",
        "for c in range(1,10):\n",
        "  c1=[]\n",
        "  c2=[]\n",
        "  for i in range(test.shape[0]):\n",
        "    s=((c-1)*25)+1\n",
        "    e=(c*25)+1\n",
        "    col=test.columns[s][2:]\n",
        "    c1+=[test.iloc[i,s:e][[6,11,16,17,18,13,8,7]].mean()]\n",
        "    c2+=[test.iloc[i,s:e][[0,1,2,3,4,5,10,15,20,21,22,23,24,19,14,9]].mean()]\n",
        "    C13[col+'mean1']=c1\n",
        "    C13[col+'mean2']=c2\n",
        "for k in C13.keys():\n",
        "  test[k]=C13[k]\n"
      ],
      "metadata": {
        "id": "5rZvKgA-ZEQy",
        "execution": {
          "iopub.status.busy": "2022-10-01T16:13:34.394247Z",
          "iopub.execute_input": "2022-10-01T16:13:34.394870Z",
          "iopub.status.idle": "2022-10-01T16:14:51.997217Z",
          "shell.execute_reply.started": "2022-10-01T16:13:34.394831Z",
          "shell.execute_reply": "2022-10-01T16:14:51.996157Z"
        },
        "trusted": true
      },
      "execution_count": null,
      "outputs": []
    },
    {
      "cell_type": "markdown",
      "source": [
        "# prediction"
      ],
      "metadata": {
        "id": "cqXOJYLEdi_Q"
      }
    },
    {
      "cell_type": "code",
      "source": [
        "Y_train=train.Label\n",
        "X_train=train.drop('Label',axis=1)\n",
        "X_test=test"
      ],
      "metadata": {
        "id": "2qVwipBl2IEy",
        "execution": {
          "iopub.status.busy": "2022-10-01T16:14:55.452007Z",
          "iopub.execute_input": "2022-10-01T16:14:55.452357Z",
          "iopub.status.idle": "2022-10-01T16:14:55.483919Z",
          "shell.execute_reply.started": "2022-10-01T16:14:55.452308Z",
          "shell.execute_reply": "2022-10-01T16:14:55.482996Z"
        },
        "trusted": true
      },
      "execution_count": null,
      "outputs": []
    },
    {
      "cell_type": "code",
      "source": [
        "print(X_test.shape,X_train.shape)"
      ],
      "metadata": {
        "id": "hFcV6pub-VQY",
        "execution": {
          "iopub.status.busy": "2022-10-01T16:14:55.485457Z",
          "iopub.execute_input": "2022-10-01T16:14:55.485834Z",
          "iopub.status.idle": "2022-10-01T16:14:55.491689Z",
          "shell.execute_reply.started": "2022-10-01T16:14:55.485797Z",
          "shell.execute_reply": "2022-10-01T16:14:55.490680Z"
        },
        "trusted": true
      },
      "execution_count": null,
      "outputs": []
    },
    {
      "cell_type": "code",
      "source": [
        "from imblearn.over_sampling import RandomOverSampler,SMOTE\n",
        "from collections import Counter"
      ],
      "metadata": {
        "id": "27BW9gu-H74A",
        "execution": {
          "iopub.status.busy": "2022-10-01T16:14:55.492920Z",
          "iopub.execute_input": "2022-10-01T16:14:55.493779Z",
          "iopub.status.idle": "2022-10-01T16:14:55.851181Z",
          "shell.execute_reply.started": "2022-10-01T16:14:55.493744Z",
          "shell.execute_reply": "2022-10-01T16:14:55.850226Z"
        },
        "trusted": true
      },
      "execution_count": null,
      "outputs": []
    },
    {
      "cell_type": "code",
      "source": [
        "print('before Oversampling:',Counter(Y_train))\n",
        "oversample = RandomOverSampler(sampling_strategy='minority')\n",
        "X_train1, Y_train1 = oversample.fit_resample(X_train, Y_train)\n",
        "print('After Oversampling:',Counter(Y_train1))"
      ],
      "metadata": {
        "id": "ZNbwhOXg6jlj",
        "execution": {
          "iopub.status.busy": "2022-10-01T16:17:37.099401Z",
          "iopub.execute_input": "2022-10-01T16:17:37.099977Z",
          "iopub.status.idle": "2022-10-01T16:17:37.280639Z",
          "shell.execute_reply.started": "2022-10-01T16:17:37.099942Z",
          "shell.execute_reply": "2022-10-01T16:17:37.279583Z"
        },
        "trusted": true
      },
      "execution_count": null,
      "outputs": []
    },
    {
      "cell_type": "code",
      "source": [
        "print(X_train1.shape,Y_train1.shape,X_test.shape)"
      ],
      "metadata": {
        "id": "xwOI5De052yQ",
        "execution": {
          "iopub.status.busy": "2022-10-01T16:17:43.300318Z",
          "iopub.execute_input": "2022-10-01T16:17:43.300791Z",
          "iopub.status.idle": "2022-10-01T16:17:43.307197Z",
          "shell.execute_reply.started": "2022-10-01T16:17:43.300753Z",
          "shell.execute_reply": "2022-10-01T16:17:43.306221Z"
        },
        "trusted": true
      },
      "execution_count": null,
      "outputs": []
    },
    {
      "cell_type": "code",
      "source": [
        "from lightgbm import LGBMClassifier\n",
        "\n",
        "# Light Gradient Boosting Regressor\n",
        "lightgbm = LGBMClassifier(\n",
        "                       num_leaves=10,\n",
        "                       learning_rate=0.01, \n",
        "                       n_estimators=2000,\n",
        "                       max_bin=100, \n",
        "                       bagging_fraction=0.8,\n",
        "                       bagging_freq=4, \n",
        "                       bagging_seed=8,\n",
        "                       feature_fraction=0.5,\n",
        "                       feature_fraction_seed=8,\n",
        "                       min_sum_hessian_in_leaf = 11,\n",
        "                       verbose=-1,\n",
        "                       random_state=42)"
      ],
      "metadata": {
        "id": "I2-SGlW1IGhI",
        "execution": {
          "iopub.status.busy": "2022-10-01T16:28:06.565063Z",
          "iopub.execute_input": "2022-10-01T16:28:06.565475Z",
          "iopub.status.idle": "2022-10-01T16:28:06.572401Z",
          "shell.execute_reply.started": "2022-10-01T16:28:06.565440Z",
          "shell.execute_reply": "2022-10-01T16:28:06.571243Z"
        },
        "trusted": true
      },
      "execution_count": null,
      "outputs": []
    },
    {
      "cell_type": "code",
      "source": [
        "lightgbm.fit(X_train1,Y_train1)\n"
      ],
      "metadata": {
        "id": "Q3pzhcrtaHls",
        "execution": {
          "iopub.status.busy": "2022-10-01T16:28:07.613425Z",
          "iopub.execute_input": "2022-10-01T16:28:07.613778Z",
          "iopub.status.idle": "2022-10-01T16:28:38.360702Z",
          "shell.execute_reply.started": "2022-10-01T16:28:07.613747Z",
          "shell.execute_reply": "2022-10-01T16:28:38.359854Z"
        },
        "trusted": true
      },
      "execution_count": null,
      "outputs": []
    },
    {
      "cell_type": "code",
      "source": [
        "lgb_pred=lightgbm.predict(X_test)"
      ],
      "metadata": {
        "id": "kvf_Mdpf-mzc",
        "execution": {
          "iopub.status.busy": "2022-10-01T16:28:38.364537Z",
          "iopub.execute_input": "2022-10-01T16:28:38.365855Z",
          "iopub.status.idle": "2022-10-01T16:28:38.815916Z",
          "shell.execute_reply.started": "2022-10-01T16:28:38.365816Z",
          "shell.execute_reply": "2022-10-01T16:28:38.815071Z"
        },
        "trusted": true
      },
      "execution_count": null,
      "outputs": []
    },
    {
      "cell_type": "code",
      "source": [
        "lgb_pred.sum()"
      ],
      "metadata": {
        "id": "DvUVolNcapTr",
        "execution": {
          "iopub.status.busy": "2022-10-01T16:28:38.817423Z",
          "iopub.execute_input": "2022-10-01T16:28:38.818123Z",
          "iopub.status.idle": "2022-10-01T16:28:38.828747Z",
          "shell.execute_reply.started": "2022-10-01T16:28:38.818057Z",
          "shell.execute_reply": "2022-10-01T16:28:38.826881Z"
        },
        "trusted": true
      },
      "execution_count": null,
      "outputs": []
    },
    {
      "cell_type": "markdown",
      "source": [
        "# submission"
      ],
      "metadata": {
        "id": "z0wxmO7zWRTU"
      }
    },
    {
      "cell_type": "code",
      "source": [
        "sub['Label']=lgb_pred\n",
        "sub"
      ],
      "metadata": {
        "id": "6Ujgz1i2-zf3",
        "execution": {
          "iopub.status.busy": "2022-10-01T17:05:43.114214Z",
          "iopub.execute_input": "2022-10-01T17:05:43.114932Z",
          "iopub.status.idle": "2022-10-01T17:05:43.125573Z",
          "shell.execute_reply.started": "2022-10-01T17:05:43.114896Z",
          "shell.execute_reply": "2022-10-01T17:05:43.124636Z"
        },
        "trusted": true
      },
      "execution_count": null,
      "outputs": []
    },
    {
      "cell_type": "code",
      "source": [
        "sub.to_csv('submission1.csv',index=False)"
      ],
      "metadata": {
        "id": "cmrWjqAuC1jK",
        "execution": {
          "iopub.status.busy": "2022-10-01T16:29:08.963415Z",
          "iopub.execute_input": "2022-10-01T16:29:08.963804Z",
          "iopub.status.idle": "2022-10-01T16:29:08.977672Z",
          "shell.execute_reply.started": "2022-10-01T16:29:08.963772Z",
          "shell.execute_reply": "2022-10-01T16:29:08.975682Z"
        },
        "trusted": true
      },
      "execution_count": null,
      "outputs": []
    },
    {
      "cell_type": "code",
      "source": [
        "from google.colab import files\n",
        "files.download('submission1.csv')"
      ],
      "metadata": {
        "id": "CG8INteE-zm0",
        "execution": {
          "iopub.status.busy": "2022-10-01T16:16:13.432952Z",
          "iopub.status.idle": "2022-10-01T16:16:13.433659Z",
          "shell.execute_reply.started": "2022-10-01T16:16:13.433409Z",
          "shell.execute_reply": "2022-10-01T16:16:13.433433Z"
        },
        "trusted": true
      },
      "execution_count": null,
      "outputs": []
    }
  ]
}
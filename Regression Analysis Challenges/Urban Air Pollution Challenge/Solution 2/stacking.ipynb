{
  "nbformat": 4,
  "nbformat_minor": 0,
  "metadata": {
    "colab": {
      "name": "stacking.ipynb",
      "provenance": [],
      "collapsed_sections": []
    },
    "kernelspec": {
      "name": "python3",
      "display_name": "Python 3"
    }
  },
  "cells": [
    {
      "cell_type": "code",
      "metadata": {
        "id": "YzgnRxN6QHSr",
        "colab_type": "code",
        "colab": {}
      },
      "source": [
        "import pandas as pd"
      ],
      "execution_count": 0,
      "outputs": []
    },
    {
      "cell_type": "code",
      "metadata": {
        "id": "iKkOVcJEQJU5",
        "colab_type": "code",
        "colab": {}
      },
      "source": [
        "a  = pd.read_csv(\"/content/newest.csv\")\n",
        "b  = pd.read_csv(\"/content/lsub_en.csv\")\n",
        "c  = pd.read_csv(\"/content/agg.csv\")"
      ],
      "execution_count": 0,
      "outputs": []
    },
    {
      "cell_type": "code",
      "metadata": {
        "id": "EdMyjlypjvAU",
        "colab_type": "code",
        "colab": {}
      },
      "source": [
        "c.target  = c.target*0.7+ b.target*0.3"
      ],
      "execution_count": 0,
      "outputs": []
    },
    {
      "cell_type": "code",
      "metadata": {
        "id": "W09HaiQ6voZn",
        "colab_type": "code",
        "colab": {}
      },
      "source": [
        "a.target  = c.target*0.6 + a.target*0.4"
      ],
      "execution_count": 0,
      "outputs": []
    },
    {
      "cell_type": "code",
      "metadata": {
        "id": "mFhstnNvyI03",
        "colab_type": "code",
        "colab": {
          "base_uri": "https://localhost:8080/",
          "height": 203
        },
        "outputId": "47908de6-584b-45f5-9996-286f3fc876cd"
      },
      "source": [
        "a.head()"
      ],
      "execution_count": 50,
      "outputs": [
        {
          "output_type": "execute_result",
          "data": {
            "text/html": [
              "<div>\n",
              "<style scoped>\n",
              "    .dataframe tbody tr th:only-of-type {\n",
              "        vertical-align: middle;\n",
              "    }\n",
              "\n",
              "    .dataframe tbody tr th {\n",
              "        vertical-align: top;\n",
              "    }\n",
              "\n",
              "    .dataframe thead th {\n",
              "        text-align: right;\n",
              "    }\n",
              "</style>\n",
              "<table border=\"1\" class=\"dataframe\">\n",
              "  <thead>\n",
              "    <tr style=\"text-align: right;\">\n",
              "      <th></th>\n",
              "      <th>Place_ID X Date</th>\n",
              "      <th>target</th>\n",
              "    </tr>\n",
              "  </thead>\n",
              "  <tbody>\n",
              "    <tr>\n",
              "      <th>0</th>\n",
              "      <td>0OS9LVX X 2020-01-02</td>\n",
              "      <td>56.298783</td>\n",
              "    </tr>\n",
              "    <tr>\n",
              "      <th>1</th>\n",
              "      <td>0OS9LVX X 2020-01-03</td>\n",
              "      <td>35.279485</td>\n",
              "    </tr>\n",
              "    <tr>\n",
              "      <th>2</th>\n",
              "      <td>0OS9LVX X 2020-01-04</td>\n",
              "      <td>33.997156</td>\n",
              "    </tr>\n",
              "    <tr>\n",
              "      <th>3</th>\n",
              "      <td>0OS9LVX X 2020-01-05</td>\n",
              "      <td>35.757393</td>\n",
              "    </tr>\n",
              "    <tr>\n",
              "      <th>4</th>\n",
              "      <td>0OS9LVX X 2020-01-06</td>\n",
              "      <td>33.055344</td>\n",
              "    </tr>\n",
              "  </tbody>\n",
              "</table>\n",
              "</div>"
            ],
            "text/plain": [
              "        Place_ID X Date     target\n",
              "0  0OS9LVX X 2020-01-02  56.298783\n",
              "1  0OS9LVX X 2020-01-03  35.279485\n",
              "2  0OS9LVX X 2020-01-04  33.997156\n",
              "3  0OS9LVX X 2020-01-05  35.757393\n",
              "4  0OS9LVX X 2020-01-06  33.055344"
            ]
          },
          "metadata": {
            "tags": []
          },
          "execution_count": 50
        }
      ]
    },
    {
      "cell_type": "code",
      "metadata": {
        "id": "BcfFsRjHIJQF",
        "colab_type": "code",
        "colab": {}
      },
      "source": [
        "a.to_csv(\"newme (1).csv\",index  = False)"
      ],
      "execution_count": 0,
      "outputs": []
    },
    {
      "cell_type": "code",
      "metadata": {
        "id": "JdiRg7RryNx9",
        "colab_type": "code",
        "colab": {}
      },
      "source": [
        "from google.colab import files"
      ],
      "execution_count": 0,
      "outputs": []
    },
    {
      "cell_type": "code",
      "metadata": {
        "id": "e2SfOLoMxOz5",
        "colab_type": "code",
        "colab": {}
      },
      "source": [
        "files.download(\"newme (1).csv\")"
      ],
      "execution_count": 0,
      "outputs": []
    },
    {
      "cell_type": "code",
      "metadata": {
        "id": "oRlS9meE0LWU",
        "colab_type": "code",
        "colab": {}
      },
      "source": [
        "# holars stack with mine\n",
        "d = pd.read_csv(\"/content/en_stack4.csv\")\n",
        "e = pd.read_csv(\"/content/lastagg.csv\")"
      ],
      "execution_count": 0,
      "outputs": []
    },
    {
      "cell_type": "code",
      "metadata": {
        "id": "dTEc85in2F2k",
        "colab_type": "code",
        "colab": {}
      },
      "source": [
        "d.target  = d.target*0.7 + e.target*0.3"
      ],
      "execution_count": 0,
      "outputs": []
    },
    {
      "cell_type": "code",
      "metadata": {
        "id": "P0PcLcbM2hiH",
        "colab_type": "code",
        "colab": {}
      },
      "source": [
        "d.to_csv(\"enstackj (6).csv\",index  = False)"
      ],
      "execution_count": 0,
      "outputs": []
    },
    {
      "cell_type": "code",
      "metadata": {
        "id": "UnTjTkMFIJIw",
        "colab_type": "code",
        "colab": {}
      },
      "source": [
        "files.download(\"enstackj (6).csv\")"
      ],
      "execution_count": 0,
      "outputs": []
    },
    {
      "cell_type": "code",
      "metadata": {
        "id": "klp1Bjhr2xKV",
        "colab_type": "code",
        "colab": {}
      },
      "source": [
        ""
      ],
      "execution_count": 0,
      "outputs": []
    }
  ]
}
{
  "nbformat": 4,
  "nbformat_minor": 0,
  "metadata": {
    "colab": {
      "name": "27.40cleaned.ipynb",
      "provenance": [],
      "collapsed_sections": []
    },
    "kernelspec": {
      "name": "python3",
      "display_name": "Python 3"
    },
    "accelerator": "GPU"
  },
  "cells": [
    {
      "cell_type": "code",
      "metadata": {
        "id": "KYdbYAwHOXH8",
        "colab_type": "code",
        "outputId": "2c9aa952-582d-444e-9b49-b9cd95ec7ef9",
        "colab": {
          "base_uri": "https://localhost:8080/",
          "height": 72
        }
      },
      "source": [
        "## Reading libraries\n",
        "import pandas as pd\n",
        "import seaborn as sns\n",
        "import matplotlib.pyplot as plt\n",
        "import numpy as np\n",
        "from sklearn.cluster import KMeans\n",
        "from sklearn.model_selection import KFold\n",
        "from xgboost import XGBRegressor\n",
        "from sklearn.metrics import mean_squared_error\n",
        "from sklearn.decomposition import PCA\n",
        "import warnings\n",
        "from sklearn import metrics\n",
        "from sklearn.metrics import mean_squared_error,log_loss\n",
        "from sklearn.model_selection import KFold,StratifiedKFold,GridSearchCV,RandomizedSearchCV\n",
        "from sklearn.preprocessing import LabelEncoder,OneHotEncoder\n",
        "import lightgbm as lgb\n",
        "from xgboost import XGBRegressor\n",
        "import requests\n",
        "from io import StringIO \n",
        "%matplotlib inline\n"
      ],
      "execution_count": 0,
      "outputs": [
        {
          "output_type": "stream",
          "text": [
            "/usr/local/lib/python3.6/dist-packages/statsmodels/tools/_testing.py:19: FutureWarning: pandas.util.testing is deprecated. Use the functions in the public API at pandas.testing instead.\n",
            "  import pandas.util.testing as tm\n"
          ],
          "name": "stderr"
        }
      ]
    },
    {
      "cell_type": "code",
      "metadata": {
        "id": "56-pFGoxPuOZ",
        "colab_type": "code",
        "colab": {}
      },
      "source": [
        "# !pip install datasist\n",
        "# Google drive links to shared submission and training datasets\n",
        "#\n",
        "submission = 'https://drive.google.com/file/d/1oZEf3hLwMKWCrVPlQIPtBmuOsaZpwQti/view?usp=sharing'\n",
        "train = 'https://drive.google.com/file/d/1ezXTArPnr6jzvqjAy2YiMyvlw3FSmlZm/view?usp=sharing'\n",
        "test  = \"https://drive.google.com/file/d/1JR0Qq0QtAg2EGZIdVDy1wwmU_s8iXjFs/view?usp=sharing\"\n",
        "# Creating a function to read a csv file shared via google\n",
        "#\n",
        "def read_csv(url):\n",
        "  url = 'https://drive.google.com/uc?export=download&id=' + url.split('/')[-2]\n",
        "  csv_raw = requests.get(url).text\n",
        "  csv = StringIO(csv_raw)\n",
        "  df = pd.read_csv(csv)\n",
        "  return df\n",
        "\n",
        "# Creating submission and training datataframes\n",
        "#"
      ],
      "execution_count": 0,
      "outputs": []
    },
    {
      "cell_type": "code",
      "metadata": {
        "id": "mPmxErExPkB5",
        "colab_type": "code",
        "colab": {}
      },
      "source": [
        "sample_sub = read_csv(submission)\n",
        "train = read_csv(train)\n",
        "test  = read_csv(test)"
      ],
      "execution_count": 0,
      "outputs": []
    },
    {
      "cell_type": "code",
      "metadata": {
        "id": "VtYbpDtqdlDx",
        "colab_type": "code",
        "colab": {}
      },
      "source": [
        "from datetime import datetime\n",
        "\n",
        "train['Date'] = pd.to_datetime(train['Date'])\n",
        "test['Date'] = pd.to_datetime(test['Date'])"
      ],
      "execution_count": 0,
      "outputs": []
    },
    {
      "cell_type": "code",
      "metadata": {
        "id": "lod3AibyeG05",
        "colab_type": "code",
        "outputId": "6bd242ff-0a97-4245-8338-39c943de63d4",
        "colab": {
          "base_uri": "https://localhost:8080/",
          "height": 35
        }
      },
      "source": [
        "train.target.min(),train.target.max()"
      ],
      "execution_count": 0,
      "outputs": [
        {
          "output_type": "execute_result",
          "data": {
            "text/plain": [
              "(1.0, 815.0)"
            ]
          },
          "metadata": {
            "tags": []
          },
          "execution_count": 5
        }
      ]
    },
    {
      "cell_type": "code",
      "metadata": {
        "id": "iOgXSOuffBFN",
        "colab_type": "code",
        "outputId": "e897828f-27e2-48de-c2f4-4d2f05e61302",
        "colab": {
          "base_uri": "https://localhost:8080/",
          "height": 228
        }
      },
      "source": [
        "train.Date"
      ],
      "execution_count": 0,
      "outputs": [
        {
          "output_type": "execute_result",
          "data": {
            "text/plain": [
              "0       2020-01-02\n",
              "1       2020-01-03\n",
              "2       2020-01-04\n",
              "3       2020-01-05\n",
              "4       2020-01-06\n",
              "           ...    \n",
              "30552   2020-03-15\n",
              "30553   2020-03-16\n",
              "30554   2020-03-17\n",
              "30555   2020-03-18\n",
              "30556   2020-03-19\n",
              "Name: Date, Length: 30557, dtype: datetime64[ns]"
            ]
          },
          "metadata": {
            "tags": []
          },
          "execution_count": 6
        }
      ]
    },
    {
      "cell_type": "code",
      "metadata": {
        "id": "bPuTiCx3egGQ",
        "colab_type": "code",
        "colab": {}
      },
      "source": [
        "def time_series(start, end):\n",
        "    time_series_df = train[['Date', 'target']][(train['Date'] >= start) & (train['Date'] <= end)]\n",
        "    x = time_series_df.Date\n",
        "    y = time_series_df.target\n",
        "    plt.plot(x,y)\n",
        "    plt.xlabel('Time')\n",
        "    plt.ylabel('PM2.5 Value')\n",
        "    plt.title('PM2.5 Time Series')\n",
        "    return plt.show();"
      ],
      "execution_count": 0,
      "outputs": []
    },
    {
      "cell_type": "code",
      "metadata": {
        "id": "e5umZs75eq9j",
        "colab_type": "code",
        "outputId": "6e49206f-3d65-4145-8e7a-d25f49c8d8fb",
        "colab": {
          "base_uri": "https://localhost:8080/",
          "height": 295
        }
      },
      "source": [
        "time_series('2020-01-02','2020-03-19')\n"
      ],
      "execution_count": 0,
      "outputs": [
        {
          "output_type": "display_data",
          "data": {
            "image/png": "[encoded data removed]",
            "text/plain": [
              "<Figure size 432x288 with 1 Axes>"
            ]
          },
          "metadata": {
            "tags": [],
            "needs_background": "light"
          }
        }
      ]
    },
    {
      "cell_type": "code",
      "metadata": {
        "id": "7ECv6-MvgnDB",
        "colab_type": "code",
        "colab": {}
      },
      "source": [
        "train =  train[train.target <= 600]\n"
      ],
      "execution_count": 0,
      "outputs": []
    },
    {
      "cell_type": "code",
      "metadata": {
        "id": "vELnyyGJhAB-",
        "colab_type": "code",
        "colab": {}
      },
      "source": [
        "train[\"month\"] =  train.Date.dt.month\n",
        "\n",
        "test[\"month\"] =  test.Date.dt.month\n"
      ],
      "execution_count": 0,
      "outputs": []
    },
    {
      "cell_type": "code",
      "metadata": {
        "id": "mGi1W2DSk7tZ",
        "colab_type": "code",
        "colab": {}
      },
      "source": [
        "##drop12check\n",
        "train[\"t\"] = train.temperature_2m_above_ground.shift(periods  = -1)\n",
        "\n",
        "train[\"t_1\"] = train.temperature_2m_above_ground.shift(periods  = 1)\n",
        "train[\"t_2\"] = train.temperature_2m_above_ground.shift(periods  = 2)\n",
        "train[\"t_3\"] = train.temperature_2m_above_ground.shift(periods  = 3)\n",
        "train[\"t_4\"] = train.temperature_2m_above_ground.shift(periods  = 4)\n",
        "train[\"t_5\"] = train.temperature_2m_above_ground.shift(periods  = 5)\n",
        "\n",
        "test[\"t\"] = test.temperature_2m_above_ground.shift(periods  = -1)\n",
        "test[\"t_1\"] = test.temperature_2m_above_ground.shift(periods  = 1)\n",
        "test[\"t_2\"] = test.temperature_2m_above_ground.shift(periods  = 2)\n",
        "test[\"t_3\"] = test.temperature_2m_above_ground.shift(periods  = 3)\n",
        "test[\"t_4\"] = test.temperature_2m_above_ground.shift(periods  = 4)\n",
        "test[\"t_5\"] = test.temperature_2m_above_ground.shift(periods  = 5)"
      ],
      "execution_count": 0,
      "outputs": []
    },
    {
      "cell_type": "code",
      "metadata": {
        "id": "gthoSNB3FvCU",
        "colab_type": "code",
        "colab": {}
      },
      "source": [
        "# new fe\n",
        "\n",
        "train[\"l_1\"] = train.L3_O3_O3_effective_temperature.shift(periods  = 1)\n",
        "train[\"l_2\"] = train.L3_O3_O3_effective_temperature.shift(periods  = 2)\n",
        "train[\"l_3\"] = train.L3_O3_O3_effective_temperature.shift(periods  = 3)\n",
        "train[\"l_4\"] = train.L3_O3_O3_effective_temperature.shift(periods  = 4)\n",
        "train[\"l_5\"] = train.L3_O3_O3_effective_temperature.shift(periods  = 5)\n",
        "\n",
        "\n",
        "test[\"l_1\"] = test.L3_O3_O3_effective_temperature.shift(periods  = 1)\n",
        "test[\"l_2\"] = test.L3_O3_O3_effective_temperature.shift(periods  = 2)\n",
        "test[\"l_3\"] = test.L3_O3_O3_effective_temperature.shift(periods  = 3)\n",
        "test[\"l_4\"] = test.L3_O3_O3_effective_temperature.shift(periods  = 4)\n",
        "test[\"l_5\"] = test.L3_O3_O3_effective_temperature.shift(periods  = 5)"
      ],
      "execution_count": 0,
      "outputs": []
    },
    {
      "cell_type": "code",
      "metadata": {
        "id": "ofhDyEMhFr_v",
        "colab_type": "code",
        "colab": {}
      },
      "source": [
        "# fe part 2\n",
        "train[\"n_1\"] = train.L3_NO2_NO2_column_number_density.shift(periods  = 1)\n",
        "train[\"n_2\"] = train.L3_NO2_NO2_column_number_density.shift(periods  = 2)\n",
        "train[\"n_3\"] = train.L3_NO2_NO2_column_number_density.shift(periods  = 3)\n",
        "train[\"n_4\"] = train.L3_NO2_NO2_column_number_density.shift(periods  = 4)\n",
        "train[\"n_5\"] = train.L3_NO2_NO2_column_number_density.shift(periods  = 5)\n",
        "\n",
        "\n",
        "test[\"n_1\"] = test.L3_NO2_NO2_column_number_density.shift(periods  = 1)\n",
        "test[\"n_2\"] = test.L3_NO2_NO2_column_number_density.shift(periods  = 2)\n",
        "test[\"n_3\"] = test.L3_NO2_NO2_column_number_density.shift(periods  = 3)\n",
        "test[\"n_4\"] = test.L3_NO2_NO2_column_number_density.shift(periods  = 4)\n",
        "test[\"n_5\"] = test.L3_NO2_NO2_column_number_density.shift(periods  = 5)\n",
        "\n"
      ],
      "execution_count": 0,
      "outputs": []
    },
    {
      "cell_type": "code",
      "metadata": {
        "id": "RPcE3nHJFscw",
        "colab_type": "code",
        "colab": {}
      },
      "source": [
        "# fe part 3\n",
        "train[\"s_1\"] = train.L3_NO2_NO2_slant_column_number_density.shift(periods  = 1)\n",
        "train[\"s_2\"] = train.L3_NO2_NO2_slant_column_number_density.shift(periods  = 2)\n",
        "train[\"s_3\"] = train.L3_NO2_NO2_slant_column_number_density.shift(periods  = 3)\n",
        "train[\"s_4\"] = train.L3_NO2_NO2_slant_column_number_density.shift(periods  = 4)\n",
        "train[\"s_5\"] = train.L3_NO2_NO2_slant_column_number_density.shift(periods  = 5)\n",
        "\n",
        "\n",
        "test[\"s_1\"] = test.L3_NO2_NO2_slant_column_number_density.shift(periods  = 1)\n",
        "test[\"s_2\"] = test.L3_NO2_NO2_slant_column_number_density.shift(periods  = 2)\n",
        "test[\"s_3\"] = test.L3_NO2_NO2_slant_column_number_density.shift(periods  = 3)\n",
        "test[\"s_4\"] = test.L3_NO2_NO2_slant_column_number_density.shift(periods  = 4)\n",
        "test[\"s_5\"] = test.L3_NO2_NO2_slant_column_number_density.shift(periods  = 5)\n",
        "\n"
      ],
      "execution_count": 0,
      "outputs": []
    },
    {
      "cell_type": "code",
      "metadata": {
        "id": "rvkCf1tmiku1",
        "colab_type": "code",
        "colab": {}
      },
      "source": [
        "# fe after 31.362\n",
        "train[\"p_1\"] = train.L3_CLOUD_cloud_base_pressure.shift(periods  = 1)\n",
        "train[\"p_2\"] = train.L3_CLOUD_cloud_base_pressure.shift(periods  = 2)\n",
        "train[\"p_3\"] = train.L3_CLOUD_cloud_base_pressure.shift(periods  = 3)\n",
        "train[\"p_4\"] = train.L3_CLOUD_cloud_base_pressure.shift(periods  = 4)\n",
        "train[\"p_5\"] = train.L3_CLOUD_cloud_base_pressure.shift(periods  = 5)\n",
        "\n",
        "\n",
        "test[\"p_1\"] = test.L3_CLOUD_cloud_base_pressure.shift(periods  = 1)\n",
        "test[\"p_2\"] = test.L3_CLOUD_cloud_base_pressure.shift(periods  = 2)\n",
        "test[\"p_3\"] = test.L3_CLOUD_cloud_base_pressure.shift(periods  = 3)\n",
        "test[\"p_4\"] = test.L3_CLOUD_cloud_base_pressure.shift(periods  = 4)\n",
        "test[\"p_5\"] = test.L3_CLOUD_cloud_base_pressure.shift(periods  = 5)\n"
      ],
      "execution_count": 0,
      "outputs": []
    },
    {
      "cell_type": "code",
      "metadata": {
        "id": "9-KB_yGDm-6v",
        "colab_type": "code",
        "colab": {}
      },
      "source": [
        "# #########################################new plenty\n",
        "train[\"y_1\"] = train.L3_SO2_SO2_slant_column_number_density.shift(periods  = 1)\n",
        "train[\"y_2\"] = train.L3_SO2_SO2_slant_column_number_density.shift(periods  = 2)\n",
        "train[\"y_3\"] = train.L3_SO2_SO2_slant_column_number_density.shift(periods  = 3)\n",
        "train[\"y_4\"] = train.L3_SO2_SO2_slant_column_number_density.shift(periods  = 4)\n",
        "train[\"y_5\"] = train.L3_SO2_SO2_slant_column_number_density.shift(periods  = 5)\n",
        "\n",
        "\n",
        "test[\"y_1\"] = test.L3_SO2_SO2_slant_column_number_density.shift(periods  = 1)\n",
        "test[\"y_2\"] = test.L3_SO2_SO2_slant_column_number_density.shift(periods  = 2)\n",
        "test[\"y_3\"] = test.L3_SO2_SO2_slant_column_number_density.shift(periods  = 3)\n",
        "test[\"y_4\"] = test.L3_SO2_SO2_slant_column_number_density.shift(periods  = 4)\n",
        "test[\"y_5\"] = test.L3_SO2_SO2_slant_column_number_density.shift(periods  = 5)\n",
        "\n",
        "\n",
        "# train[\"z_1\"] = train.L3_SO2_SO2_column_number_density_amf.shift(periods  = 1)\n",
        "# train[\"z_2\"] = train.L3_SO2_SO2_column_number_density_amf.shift(periods  = 2)\n",
        "# train[\"z_3\"] = train.L3_SO2_SO2_column_number_density_amf.shift(periods  = 3)\n",
        "# train[\"z_4\"] = train.L3_SO2_SO2_column_number_density_amf.shift(periods  = 4)\n",
        "# train[\"z_5\"] = train.L3_SO2_SO2_column_number_density_amf.shift(periods  = 5)\n",
        "\n",
        "\n",
        "# test[\"z_1\"] = test.L3_SO2_SO2_column_number_density_amf.shift(periods  = 1)\n",
        "# test[\"z_2\"] = test.L3_SO2_SO2_column_number_density_amf.shift(periods  = 2)\n",
        "# test[\"z_3\"] = test.L3_SO2_SO2_column_number_density_amf.shift(periods  = 3)\n",
        "# test[\"z_4\"] = test.L3_SO2_SO2_column_number_density_amf.shift(periods  = 4)\n",
        "# test[\"z_5\"] = test.L3_SO2_SO2_column_number_density_amf.shift(periods  = 5)\n",
        "\n",
        "\n",
        "\n",
        "train[\"z_1\"] = train.L3_HCHO_tropospheric_HCHO_column_number_density.shift(periods  = 1)\n",
        "train[\"z_2\"] = train.L3_HCHO_tropospheric_HCHO_column_number_density.shift(periods  = 2)\n",
        "train[\"z_3\"] = train.L3_HCHO_tropospheric_HCHO_column_number_density.shift(periods  = 3)\n",
        "train[\"z_4\"] = train.L3_HCHO_tropospheric_HCHO_column_number_density.shift(periods  = 4)\n",
        "train[\"z_5\"] = train.L3_HCHO_tropospheric_HCHO_column_number_density.shift(periods  = 5)\n",
        "\n",
        "\n",
        "test[\"z_1\"] = test.L3_HCHO_tropospheric_HCHO_column_number_density.shift(periods  = 1)\n",
        "test[\"z_2\"] = test.L3_HCHO_tropospheric_HCHO_column_number_density.shift(periods  = 2)\n",
        "test[\"z_3\"] = test.L3_HCHO_tropospheric_HCHO_column_number_density.shift(periods  = 3)\n",
        "test[\"z_4\"] = test.L3_HCHO_tropospheric_HCHO_column_number_density.shift(periods  = 4)\n",
        "test[\"z_5\"] = test.L3_HCHO_tropospheric_HCHO_column_number_density.shift(periods  = 5)"
      ],
      "execution_count": 0,
      "outputs": []
    },
    {
      "cell_type": "code",
      "metadata": {
        "id": "TCsOYvWBm_FY",
        "colab_type": "code",
        "colab": {}
      },
      "source": [
        "#######################newest1\n",
        "\n",
        "\n",
        "train[\"c_1\"] = train.L3_CO_CO_column_number_density.shift(periods  = 1)\n",
        "train[\"c_2\"] = train.L3_CO_CO_column_number_density.shift(periods  = 2)\n",
        "train[\"c_3\"] = train.L3_CO_CO_column_number_density.shift(periods  = 3)\n",
        "train[\"c_4\"] = train.L3_CO_CO_column_number_density.shift(periods  = 4)\n",
        "train[\"c_5\"] = train.L3_CO_CO_column_number_density.shift(periods  = 5)\n",
        "\n",
        "\n",
        "test[\"c_1\"] = test.L3_CO_CO_column_number_density.shift(periods  = 1)\n",
        "test[\"c_2\"] = test.L3_CO_CO_column_number_density.shift(periods  = 2)\n",
        "test[\"c_3\"] = test.L3_CO_CO_column_number_density.shift(periods  = 3)\n",
        "test[\"c_4\"] = test.L3_CO_CO_column_number_density.shift(periods  = 4)\n",
        "test[\"c_5\"] = test.L3_CO_CO_column_number_density.shift(periods  = 5)"
      ],
      "execution_count": 0,
      "outputs": []
    },
    {
      "cell_type": "code",
      "metadata": {
        "id": "VWgfL3pkgwkF",
        "colab_type": "code",
        "colab": {}
      },
      "source": [
        "# newest2\n",
        "train[\"a_1\"] = train.L3_NO2_tropopause_pressure.shift(periods  = 1)\n",
        "train[\"a_2\"] = train.L3_NO2_tropopause_pressure.shift(periods  = 2)\n",
        "train[\"a_3\"] = train.L3_NO2_tropopause_pressure.shift(periods  = 3)\n",
        "train[\"a_4\"] = train.L3_NO2_tropopause_pressure.shift(periods  = 4)\n",
        "train[\"a_5\"] = train.L3_NO2_tropopause_pressure.shift(periods  = 5)\n",
        "\n",
        "\n",
        "test[\"a_1\"] = test.L3_NO2_tropopause_pressure.shift(periods  = 1)\n",
        "test[\"a_2\"] = test.L3_NO2_tropopause_pressure.shift(periods  = 2)\n",
        "test[\"a_3\"] = test.L3_NO2_tropopause_pressure.shift(periods  = 3)\n",
        "test[\"a_4\"] = test.L3_NO2_tropopause_pressure.shift(periods  = 4)\n",
        "test[\"a_5\"] = test.L3_NO2_tropopause_pressure.shift(periods  = 5)"
      ],
      "execution_count": 0,
      "outputs": []
    },
    {
      "cell_type": "code",
      "metadata": {
        "id": "0jqtq95Em_Ja",
        "colab_type": "code",
        "colab": {}
      },
      "source": [
        "# from begnew\n",
        "train[\"d_1\"] = train.precipitable_water_entire_atmosphere.shift(periods  = 1)\n",
        "train[\"d_2\"] = train.precipitable_water_entire_atmosphere.shift(periods  = 2)\n",
        "train[\"d_3\"] = train.precipitable_water_entire_atmosphere.shift(periods  = 3)\n",
        "train[\"d_4\"] = train.precipitable_water_entire_atmosphere.shift(periods  = 4)\n",
        "train[\"d_5\"] = train.precipitable_water_entire_atmosphere.shift(periods  = 5)\n",
        "\n",
        "\n",
        "test[\"d_1\"] = test.precipitable_water_entire_atmosphere.shift(periods  = 1)\n",
        "test[\"d_2\"] = test.precipitable_water_entire_atmosphere.shift(periods  = 2)\n",
        "test[\"d_3\"] = test.precipitable_water_entire_atmosphere.shift(periods  = 3)\n",
        "test[\"d_4\"] = test.precipitable_water_entire_atmosphere.shift(periods  = 4)\n",
        "test[\"d_5\"] = test.precipitable_water_entire_atmosphere.shift(periods  = 5)"
      ],
      "execution_count": 0,
      "outputs": []
    },
    {
      "cell_type": "code",
      "metadata": {
        "id": "S8aCKuzUikoD",
        "colab_type": "code",
        "colab": {}
      },
      "source": [
        "# # trying sensor altitude\n",
        "# train[\"f_1\"] = train.L3_CLOUD_cloud_optical_depth.shift(periods  = 1)\n",
        "# train[\"f_2\"] = train.L3_CLOUD_cloud_optical_depth.shift(periods  = 2)\n",
        "# train[\"f_3\"] = train.L3_CLOUD_cloud_optical_depth.shift(periods  = 3)\n",
        "# train[\"f_4\"] = train.L3_CLOUD_cloud_optical_depth.shift(periods  = 4)\n",
        "# train[\"f_5\"] = train.L3_CLOUD_cloud_optical_depth.shift(periods  = 5)\n",
        "\n",
        "\n",
        "# test[\"f_1\"] = test.L3_CLOUD_cloud_optical_depth.shift(periods  = 1)\n",
        "# test[\"f_2\"] = test.L3_CLOUD_cloud_optical_depth.shift(periods  = 2)\n",
        "# test[\"f_3\"] = test.L3_CLOUD_cloud_optical_depth.shift(periods  = 3)\n",
        "# test[\"f_4\"] = test.L3_CLOUD_cloud_optical_depth.shift(periods  = 4)\n",
        "# test[\"f_5\"] = test.L3_CLOUD_cloud_optical_depth.shift(periods  = 5)\n",
        "\n",
        "\n",
        "# trying sensor altitude\n",
        "train[\"f_1\"] = train.L3_CO_CO_column_number_density.shift(periods  = -1)\n",
        "train[\"f_2\"] = train.L3_CO_CO_column_number_density.shift(periods  = -2)\n",
        "train[\"f_3\"] = train.L3_CO_CO_column_number_density.shift(periods  = -3)\n",
        "train[\"f_4\"] = train.L3_CO_CO_column_number_density.shift(periods  = -4)\n",
        "train[\"f_5\"] = train.L3_CO_CO_column_number_density.shift(periods  = -5)\n",
        "\n",
        "\n",
        "test[\"f_1\"] = test.L3_CO_CO_column_number_density.shift(periods  = -1)\n",
        "test[\"f_2\"] = test.L3_CO_CO_column_number_density.shift(periods  = -2)\n",
        "test[\"f_3\"] = test.L3_CO_CO_column_number_density.shift(periods  = -3)\n",
        "test[\"f_4\"] = test.L3_CO_CO_column_number_density.shift(periods  = -4)\n",
        "test[\"f_5\"] = test.L3_CO_CO_column_number_density.shift(periods  = -5)\n"
      ],
      "execution_count": 0,
      "outputs": []
    },
    {
      "cell_type": "code",
      "metadata": {
        "id": "DiLK582VZD33",
        "colab_type": "code",
        "colab": {}
      },
      "source": [
        "####################\n",
        "# reverse\n",
        "train[\"g_1\"] = train.L3_HCHO_tropospheric_HCHO_column_number_density.shift(periods  = -1)\n",
        "train[\"g_2\"] = train.L3_HCHO_tropospheric_HCHO_column_number_density.shift(periods  = -2)\n",
        "train[\"g_3\"] = train.L3_HCHO_tropospheric_HCHO_column_number_density.shift(periods  = -3)\n",
        "train[\"g_4\"] = train.L3_HCHO_tropospheric_HCHO_column_number_density.shift(periods  = -4)\n",
        "train[\"g_5\"] = train.L3_HCHO_tropospheric_HCHO_column_number_density.shift(periods  = -5)\n",
        "\n",
        "\n",
        "test[\"g_1\"] = test.L3_HCHO_tropospheric_HCHO_column_number_density.shift(periods  = -1)\n",
        "test[\"g_2\"] = test.L3_HCHO_tropospheric_HCHO_column_number_density.shift(periods  = -2)\n",
        "test[\"g_3\"] = test.L3_HCHO_tropospheric_HCHO_column_number_density.shift(periods  = -3)\n",
        "test[\"g_4\"] = test.L3_HCHO_tropospheric_HCHO_column_number_density.shift(periods  = -4)\n",
        "test[\"g_5\"] = test.L3_HCHO_tropospheric_HCHO_column_number_density.shift(periods  = -5)\n"
      ],
      "execution_count": 0,
      "outputs": []
    },
    {
      "cell_type": "code",
      "metadata": {
        "id": "Nb7CtIQ9m_IZ",
        "colab_type": "code",
        "colab": {}
      },
      "source": [
        "train['temperature_2m_above_ground'] = (train.temperature_2m_above_ground - 32) * 5.0/9.0\n",
        "train['t_1'] = (train.t_1 - 32) * 5.0/9.0\n",
        "\n",
        "test['temperature_2m_above_ground'] = (test.temperature_2m_above_ground - 32) * 5.0/9.0\n",
        "test['t_1'] = (test.t_1 - 32) * 5.0/9.0\n"
      ],
      "execution_count": 0,
      "outputs": []
    },
    {
      "cell_type": "code",
      "metadata": {
        "id": "XFM2_iGPc2FG",
        "colab_type": "code",
        "colab": {}
      },
      "source": [
        "train['day_week'] = train['Date'].dt.weekday\n",
        "\n",
        "test['day_week'] = test['Date'].dt.weekday\n",
        "\n"
      ],
      "execution_count": 0,
      "outputs": []
    },
    {
      "cell_type": "code",
      "metadata": {
        "id": "ilCnb225qoUU",
        "colab_type": "code",
        "colab": {}
      },
      "source": [
        "train[\"day\"] = train.Date.dt.day\n",
        "test[\"day\"] = test.Date.dt.day"
      ],
      "execution_count": 0,
      "outputs": []
    },
    {
      "cell_type": "code",
      "metadata": {
        "id": "MbNq8iL6PkIV",
        "colab_type": "code",
        "colab": {}
      },
      "source": [
        "def calculate_si(so2):\n",
        "    si=0\n",
        "    if (so2<=40):\n",
        "     si= so2*(50/40)\n",
        "    elif (so2>40 and so2<=80):\n",
        "     si= 50+(so2-40)*(50/40)\n",
        "    elif (so2>80 and so2<=380):\n",
        "     si= 100+(so2-80)*(100/300)\n",
        "    elif (so2>380 and so2<=800):\n",
        "     si= 200+(so2-380)*(100/420)\n",
        "    elif (so2>800 and so2<=1600):\n",
        "     si= 300+(so2-800)*(100/800)\n",
        "    elif (so2>1600):\n",
        "     si= 400+(so2-1600)*(100/800)\n",
        "    return si\n"
      ],
      "execution_count": 0,
      "outputs": []
    },
    {
      "cell_type": "code",
      "metadata": {
        "id": "NQsGQKSSdj68",
        "colab_type": "code",
        "colab": {}
      },
      "source": [
        "train['si']=train['L3_SO2_cloud_fraction'].apply(calculate_si)\n",
        "test['si']=test['L3_SO2_cloud_fraction'].apply(calculate_si)\n"
      ],
      "execution_count": 0,
      "outputs": []
    },
    {
      "cell_type": "code",
      "metadata": {
        "id": "C5z_2kZ_PkS4",
        "colab_type": "code",
        "colab": {}
      },
      "source": [
        "y = train['target']\n",
        "X = train.drop(['Place_ID X Date', 'Date', 'Place_ID', 'target', 'target_min',\n",
        "       'target_max', 'target_variance', 'target_count'],axis  =1)"
      ],
      "execution_count": 0,
      "outputs": []
    },
    {
      "cell_type": "code",
      "metadata": {
        "id": "Yrq_dUNySeQd",
        "colab_type": "code",
        "outputId": "8625e3ff-f308-451e-b4ec-e5ef3e6ac3a5",
        "colab": {
          "base_uri": "https://localhost:8080/",
          "height": 263
        }
      },
      "source": [
        "!pip install catboost"
      ],
      "execution_count": 0,
      "outputs": [
        {
          "output_type": "stream",
          "text": [
            "Requirement already satisfied: catboost in /usr/local/lib/python3.6/dist-packages (0.22)\n",
            "Requirement already satisfied: pandas>=0.24.0 in /usr/local/lib/python3.6/dist-packages (from catboost) (1.0.3)\n",
            "Requirement already satisfied: graphviz in /usr/local/lib/python3.6/dist-packages (from catboost) (0.10.1)\n",
            "Requirement already satisfied: scipy in /usr/local/lib/python3.6/dist-packages (from catboost) (1.4.1)\n",
            "Requirement already satisfied: matplotlib in /usr/local/lib/python3.6/dist-packages (from catboost) (3.2.1)\n",
            "Requirement already satisfied: six in /usr/local/lib/python3.6/dist-packages (from catboost) (1.12.0)\n",
            "Requirement already satisfied: numpy>=1.16.0 in /usr/local/lib/python3.6/dist-packages (from catboost) (1.18.2)\n",
            "Requirement already satisfied: plotly in /usr/local/lib/python3.6/dist-packages (from catboost) (4.4.1)\n",
            "Requirement already satisfied: python-dateutil>=2.6.1 in /usr/local/lib/python3.6/dist-packages (from pandas>=0.24.0->catboost) (2.8.1)\n",
            "Requirement already satisfied: pytz>=2017.2 in /usr/local/lib/python3.6/dist-packages (from pandas>=0.24.0->catboost) (2018.9)\n",
            "Requirement already satisfied: kiwisolver>=1.0.1 in /usr/local/lib/python3.6/dist-packages (from matplotlib->catboost) (1.2.0)\n",
            "Requirement already satisfied: pyparsing!=2.0.4,!=2.1.2,!=2.1.6,>=2.0.1 in /usr/local/lib/python3.6/dist-packages (from matplotlib->catboost) (2.4.7)\n",
            "Requirement already satisfied: cycler>=0.10 in /usr/local/lib/python3.6/dist-packages (from matplotlib->catboost) (0.10.0)\n",
            "Requirement already satisfied: retrying>=1.3.3 in /usr/local/lib/python3.6/dist-packages (from plotly->catboost) (1.3.3)\n"
          ],
          "name": "stdout"
        }
      ]
    },
    {
      "cell_type": "code",
      "metadata": {
        "id": "qJWszLZnRn-4",
        "colab_type": "code",
        "outputId": "c7dd0b76-3056-4431-b975-c6fa0f249d63",
        "colab": {
          "base_uri": "https://localhost:8080/",
          "height": 1000
        }
      },
      "source": [
        "from catboost import CatBoostRegressor\n",
        "errcb2=[]\n",
        "y_pred_totcb2=[]\n",
        "from sklearn.model_selection import KFold,StratifiedKFold, TimeSeriesSplit\n",
        "from sklearn.metrics import mean_squared_error\n",
        "fold=KFold(n_splits=10)#15#5#10\n",
        "i=1\n",
        "for train_index, test_index in fold.split(X,y):\n",
        "    X_train, X_test = X.iloc[train_index], X.iloc[test_index]\n",
        "    y_train, y_test = y.iloc[train_index], y.iloc[test_index]\n",
        "  \n",
        "    m2  = CatBoostRegressor(   n_estimators=3000,eval_metric='RMSE',learning_rate=0.1, random_seed= 1234, use_best_model=True )\n",
        "    m2.fit(X_train,y_train,eval_set=[(X_train,y_train),(X_test, y_test)], early_stopping_rounds=200,verbose=100,)#erly100\n",
        "    preds=m2.predict(X_test)\n",
        "    print(\"err: \",np.sqrt(mean_squared_error(y_test,preds)))\n",
        "    errcb2.append(np.sqrt(mean_squared_error(y_test,preds)))\n",
        "    p2 = m2.predict(test.drop(['Place_ID X Date', 'Date', 'Place_ID'],axis =1))\n",
        "    y_pred_totcb2.append(p2)\n",
        "np.mean(errcb2)"
      ],
      "execution_count": 0,
      "outputs": [
        {
          "output_type": "stream",
          "text": [
            "0:\tlearn: 45.1506196\ttest: 45.1506196\ttest1: 37.9447709\tbest: 37.9447709 (0)\ttotal: 97.3ms\tremaining: 4m 51s\n",
            "100:\tlearn: 28.0226849\ttest: 28.0226849\ttest1: 25.9587136\tbest: 25.9465221 (99)\ttotal: 4.4s\tremaining: 2m 6s\n",
            "200:\tlearn: 24.8716877\ttest: 24.8716877\ttest1: 25.3704562\tbest: 25.3193546 (198)\ttotal: 8.77s\tremaining: 2m 2s\n",
            "300:\tlearn: 22.7966194\ttest: 22.7966194\ttest1: 24.9099017\tbest: 24.9099017 (300)\ttotal: 13.1s\tremaining: 1m 57s\n",
            "400:\tlearn: 21.1897253\ttest: 21.1897253\ttest1: 24.5825739\tbest: 24.5797264 (399)\ttotal: 17.4s\tremaining: 1m 52s\n",
            "500:\tlearn: 19.9433721\ttest: 19.9433721\ttest1: 24.3967377\tbest: 24.3746635 (476)\ttotal: 21.7s\tremaining: 1m 48s\n",
            "600:\tlearn: 18.8083920\ttest: 18.8083920\ttest1: 24.2529018\tbest: 24.2288976 (591)\ttotal: 26s\tremaining: 1m 43s\n",
            "700:\tlearn: 17.8216231\ttest: 17.8216231\ttest1: 24.0536105\tbest: 24.0536105 (700)\ttotal: 30.4s\tremaining: 1m 39s\n",
            "800:\tlearn: 17.0058994\ttest: 17.0058994\ttest1: 23.8591552\tbest: 23.8580568 (793)\ttotal: 34.7s\tremaining: 1m 35s\n",
            "900:\tlearn: 16.2087190\ttest: 16.2087190\ttest1: 23.7009285\tbest: 23.7003033 (899)\ttotal: 39.1s\tremaining: 1m 31s\n",
            "1000:\tlearn: 15.4875623\ttest: 15.4875623\ttest1: 23.6517869\tbest: 23.6461525 (990)\ttotal: 43.5s\tremaining: 1m 26s\n",
            "1100:\tlearn: 14.8310017\ttest: 14.8310017\ttest1: 23.5411488\tbest: 23.5411488 (1100)\ttotal: 47.8s\tremaining: 1m 22s\n",
            "1200:\tlearn: 14.2223545\ttest: 14.2223545\ttest1: 23.4687051\tbest: 23.4647847 (1199)\ttotal: 52.2s\tremaining: 1m 18s\n",
            "1300:\tlearn: 13.6566221\ttest: 13.6566221\ttest1: 23.3885111\tbest: 23.3612239 (1287)\ttotal: 56.5s\tremaining: 1m 13s\n",
            "1400:\tlearn: 13.1313400\ttest: 13.1313400\ttest1: 23.3631164\tbest: 23.3577376 (1384)\ttotal: 1m\tremaining: 1m 9s\n",
            "1500:\tlearn: 12.6365905\ttest: 12.6365905\ttest1: 23.3357196\tbest: 23.3293600 (1495)\ttotal: 1m 5s\tremaining: 1m 5s\n",
            "1600:\tlearn: 12.1659014\ttest: 12.1659014\ttest1: 23.2876417\tbest: 23.2824522 (1577)\ttotal: 1m 9s\tremaining: 1m\n",
            "1700:\tlearn: 11.7384458\ttest: 11.7384458\ttest1: 23.2054664\tbest: 23.2054664 (1700)\ttotal: 1m 13s\tremaining: 56.4s\n",
            "1800:\tlearn: 11.3200810\ttest: 11.3200810\ttest1: 23.1916579\tbest: 23.1829566 (1755)\ttotal: 1m 18s\tremaining: 52.1s\n",
            "1900:\tlearn: 10.9261730\ttest: 10.9261730\ttest1: 23.1694227\tbest: 23.1497012 (1883)\ttotal: 1m 22s\tremaining: 47.7s\n",
            "2000:\tlearn: 10.5502278\ttest: 10.5502278\ttest1: 23.1595661\tbest: 23.1475019 (1954)\ttotal: 1m 26s\tremaining: 43.4s\n",
            "2100:\tlearn: 10.1893452\ttest: 10.1893452\ttest1: 23.1718902\tbest: 23.1475019 (1954)\ttotal: 1m 31s\tremaining: 39.1s\n",
            "Stopped by overfitting detector  (200 iterations wait)\n",
            "\n",
            "bestTest = 23.14750191\n",
            "bestIteration = 1954\n",
            "\n",
            "Shrink model to first 1955 iterations.\n",
            "err:  23.147501914304172\n",
            "0:\tlearn: 44.4023952\ttest: 44.4023952\ttest1: 45.3616042\tbest: 45.3616042 (0)\ttotal: 45.3ms\tremaining: 2m 15s\n",
            "100:\tlearn: 27.5919998\ttest: 27.5919998\ttest1: 29.8651965\tbest: 29.8651965 (100)\ttotal: 4.39s\tremaining: 2m 6s\n",
            "200:\tlearn: 24.4835910\ttest: 24.4835910\ttest1: 28.3355917\tbest: 28.3355917 (200)\ttotal: 8.71s\tremaining: 2m 1s\n",
            "300:\tlearn: 22.4102526\ttest: 22.4102526\ttest1: 27.7282365\tbest: 27.6901834 (291)\ttotal: 13.1s\tremaining: 1m 57s\n",
            "400:\tlearn: 20.8298616\ttest: 20.8298616\ttest1: 27.1217206\tbest: 27.1217206 (400)\ttotal: 17.4s\tremaining: 1m 52s\n",
            "500:\tlearn: 19.5490877\ttest: 19.5490877\ttest1: 26.7462371\tbest: 26.7407090 (498)\ttotal: 21.8s\tremaining: 1m 48s\n",
            "600:\tlearn: 18.4627677\ttest: 18.4627677\ttest1: 26.5332486\tbest: 26.5305149 (592)\ttotal: 26.3s\tremaining: 1m 44s\n",
            "700:\tlearn: 17.5158989\ttest: 17.5158989\ttest1: 26.4268914\tbest: 26.4028728 (683)\ttotal: 30.7s\tremaining: 1m 40s\n",
            "800:\tlearn: 16.6809051\ttest: 16.6809051\ttest1: 26.2700987\tbest: 26.2700987 (800)\ttotal: 35s\tremaining: 1m 36s\n",
            "900:\tlearn: 15.9111629\ttest: 15.9111629\ttest1: 26.1345436\tbest: 26.1345436 (900)\ttotal: 39.4s\tremaining: 1m 31s\n",
            "1000:\tlearn: 15.1787171\ttest: 15.1787171\ttest1: 26.0337810\tbest: 26.0203705 (991)\ttotal: 43.8s\tremaining: 1m 27s\n",
            "1100:\tlearn: 14.5230197\ttest: 14.5230197\ttest1: 25.9522441\tbest: 25.9522441 (1100)\ttotal: 48.2s\tremaining: 1m 23s\n",
            "1200:\tlearn: 13.9361981\ttest: 13.9361981\ttest1: 25.8803057\tbest: 25.8803057 (1200)\ttotal: 52.6s\tremaining: 1m 18s\n",
            "1300:\tlearn: 13.3752392\ttest: 13.3752392\ttest1: 25.8498049\tbest: 25.8404261 (1272)\ttotal: 57s\tremaining: 1m 14s\n",
            "1400:\tlearn: 12.8456214\ttest: 12.8456214\ttest1: 25.8077065\tbest: 25.8050634 (1396)\ttotal: 1m 1s\tremaining: 1m 10s\n",
            "1500:\tlearn: 12.3647706\ttest: 12.3647706\ttest1: 25.7951937\tbest: 25.7694539 (1470)\ttotal: 1m 5s\tremaining: 1m 5s\n",
            "1600:\tlearn: 11.9351030\ttest: 11.9351030\ttest1: 25.7444512\tbest: 25.7444512 (1600)\ttotal: 1m 10s\tremaining: 1m 1s\n",
            "1700:\tlearn: 11.4860635\ttest: 11.4860635\ttest1: 25.7159297\tbest: 25.7054599 (1680)\ttotal: 1m 14s\tremaining: 57.1s\n",
            "1800:\tlearn: 11.0533122\ttest: 11.0533122\ttest1: 25.7203557\tbest: 25.7054599 (1680)\ttotal: 1m 19s\tremaining: 52.7s\n",
            "Stopped by overfitting detector  (200 iterations wait)\n",
            "\n",
            "bestTest = 25.7054599\n",
            "bestIteration = 1680\n",
            "\n",
            "Shrink model to first 1681 iterations.\n",
            "err:  25.705459896203994\n",
            "0:\tlearn: 44.7979370\ttest: 44.7979370\ttest1: 41.9408885\tbest: 41.9408885 (0)\ttotal: 43.9ms\tremaining: 2m 11s\n",
            "100:\tlearn: 27.4349377\ttest: 27.4349377\ttest1: 31.4514791\tbest: 31.4514791 (100)\ttotal: 4.37s\tremaining: 2m 5s\n",
            "200:\tlearn: 24.3324012\ttest: 24.3324012\ttest1: 30.3958414\tbest: 30.3958414 (200)\ttotal: 8.78s\tremaining: 2m 2s\n",
            "300:\tlearn: 22.2526128\ttest: 22.2526128\ttest1: 29.8989418\tbest: 29.8894518 (295)\ttotal: 13.3s\tremaining: 1m 59s\n",
            "400:\tlearn: 20.6603756\ttest: 20.6603756\ttest1: 29.4409904\tbest: 29.4354843 (396)\ttotal: 17.7s\tremaining: 1m 54s\n",
            "500:\tlearn: 19.3844823\ttest: 19.3844823\ttest1: 29.2373189\tbest: 29.2327926 (498)\ttotal: 22.2s\tremaining: 1m 50s\n",
            "600:\tlearn: 18.3176836\ttest: 18.3176836\ttest1: 29.0887565\tbest: 29.0863665 (599)\ttotal: 26.6s\tremaining: 1m 46s\n",
            "700:\tlearn: 17.3726992\ttest: 17.3726992\ttest1: 28.8833536\tbest: 28.8712281 (690)\ttotal: 31s\tremaining: 1m 41s\n",
            "800:\tlearn: 16.5131955\ttest: 16.5131955\ttest1: 28.7397149\tbest: 28.7341429 (798)\ttotal: 35.5s\tremaining: 1m 37s\n",
            "900:\tlearn: 15.7369608\ttest: 15.7369608\ttest1: 28.6027720\tbest: 28.6009358 (890)\ttotal: 39.9s\tremaining: 1m 32s\n",
            "1000:\tlearn: 15.0445521\ttest: 15.0445521\ttest1: 28.5561038\tbest: 28.5501835 (987)\ttotal: 44.3s\tremaining: 1m 28s\n",
            "1100:\tlearn: 14.4241196\ttest: 14.4241196\ttest1: 28.5039873\tbest: 28.5039873 (1100)\ttotal: 48.6s\tremaining: 1m 23s\n",
            "1200:\tlearn: 13.8134013\ttest: 13.8134013\ttest1: 28.4138624\tbest: 28.4136910 (1198)\ttotal: 53s\tremaining: 1m 19s\n",
            "1300:\tlearn: 13.2683920\ttest: 13.2683920\ttest1: 28.3296070\tbest: 28.3280546 (1297)\ttotal: 57.4s\tremaining: 1m 14s\n",
            "1400:\tlearn: 12.7470995\ttest: 12.7470995\ttest1: 28.2866902\tbest: 28.2857582 (1399)\ttotal: 1m 1s\tremaining: 1m 10s\n",
            "1500:\tlearn: 12.2719188\ttest: 12.2719188\ttest1: 28.2217039\tbest: 28.2173683 (1491)\ttotal: 1m 6s\tremaining: 1m 6s\n",
            "1600:\tlearn: 11.8151837\ttest: 11.8151837\ttest1: 28.1780453\tbest: 28.1776179 (1598)\ttotal: 1m 10s\tremaining: 1m 1s\n",
            "1700:\tlearn: 11.3803932\ttest: 11.3803932\ttest1: 28.1492250\tbest: 28.1492250 (1700)\ttotal: 1m 15s\tremaining: 57.5s\n",
            "1800:\tlearn: 10.9808887\ttest: 10.9808887\ttest1: 28.1369417\tbest: 28.1347814 (1798)\ttotal: 1m 19s\tremaining: 53.1s\n",
            "1900:\tlearn: 10.5936438\ttest: 10.5936438\ttest1: 28.0871556\tbest: 28.0801579 (1893)\ttotal: 1m 24s\tremaining: 48.6s\n",
            "2000:\tlearn: 10.2278571\ttest: 10.2278571\ttest1: 28.0414444\tbest: 28.0393514 (1998)\ttotal: 1m 28s\tremaining: 44.2s\n",
            "2100:\tlearn: 9.8760691\ttest: 9.8760691\ttest1: 28.0227161\tbest: 28.0227161 (2100)\ttotal: 1m 32s\tremaining: 39.8s\n",
            "2200:\tlearn: 9.5413186\ttest: 9.5413186\ttest1: 28.0027163\tbest: 28.0017717 (2199)\ttotal: 1m 37s\tremaining: 35.4s\n",
            "2300:\tlearn: 9.2174044\ttest: 9.2174044\ttest1: 27.9473345\tbest: 27.9473345 (2300)\ttotal: 1m 42s\tremaining: 31s\n",
            "2400:\tlearn: 8.9120782\ttest: 8.9120782\ttest1: 27.9371388\tbest: 27.9325351 (2334)\ttotal: 1m 46s\tremaining: 26.6s\n",
            "2500:\tlearn: 8.6167453\ttest: 8.6167453\ttest1: 27.9324601\tbest: 27.9313494 (2404)\ttotal: 1m 51s\tremaining: 22.2s\n",
            "2600:\tlearn: 8.3344085\ttest: 8.3344085\ttest1: 27.9233878\tbest: 27.9170177 (2562)\ttotal: 1m 55s\tremaining: 17.7s\n",
            "2700:\tlearn: 8.0586424\ttest: 8.0586424\ttest1: 27.8844448\tbest: 27.8844448 (2700)\ttotal: 2m\tremaining: 13.3s\n",
            "2800:\tlearn: 7.8166355\ttest: 7.8166355\ttest1: 27.8972161\tbest: 27.8844241 (2792)\ttotal: 2m 4s\tremaining: 8.86s\n",
            "2900:\tlearn: 7.5606164\ttest: 7.5606164\ttest1: 27.8826527\tbest: 27.8818041 (2880)\ttotal: 2m 9s\tremaining: 4.41s\n",
            "2999:\tlearn: 7.3316741\ttest: 7.3316741\ttest1: 27.8532847\tbest: 27.8497828 (2989)\ttotal: 2m 13s\tremaining: 0us\n",
            "\n",
            "bestTest = 27.84978278\n",
            "bestIteration = 2989\n",
            "\n",
            "Shrink model to first 2990 iterations.\n",
            "err:  27.849782778949184\n",
            "0:\tlearn: 45.0352639\ttest: 45.0352639\ttest1: 39.4898868\tbest: 39.4898868 (0)\ttotal: 45.3ms\tremaining: 2m 15s\n",
            "100:\tlearn: 27.8223918\ttest: 27.8223918\ttest1: 27.9488285\tbest: 27.9488285 (100)\ttotal: 4.46s\tremaining: 2m 7s\n",
            "200:\tlearn: 24.7259796\ttest: 24.7259796\ttest1: 26.7459732\tbest: 26.7459732 (200)\ttotal: 8.82s\tremaining: 2m 2s\n",
            "300:\tlearn: 22.6064144\ttest: 22.6064144\ttest1: 26.1160342\tbest: 26.1160342 (300)\ttotal: 13.2s\tremaining: 1m 58s\n",
            "400:\tlearn: 21.0212345\ttest: 21.0212345\ttest1: 25.8222484\tbest: 25.8222484 (400)\ttotal: 17.6s\tremaining: 1m 54s\n",
            "500:\tlearn: 19.6836088\ttest: 19.6836088\ttest1: 25.3780199\tbest: 25.3663504 (496)\ttotal: 22s\tremaining: 1m 49s\n",
            "600:\tlearn: 18.5938419\ttest: 18.5938419\ttest1: 25.1025659\tbest: 25.1025659 (600)\ttotal: 26.4s\tremaining: 1m 45s\n",
            "700:\tlearn: 17.6577380\ttest: 17.6577380\ttest1: 24.9419424\tbest: 24.9358884 (696)\ttotal: 30.8s\tremaining: 1m 41s\n",
            "800:\tlearn: 16.7934775\ttest: 16.7934775\ttest1: 24.7405885\tbest: 24.7405885 (800)\ttotal: 35.3s\tremaining: 1m 37s\n",
            "900:\tlearn: 16.0019171\ttest: 16.0019171\ttest1: 24.6299319\tbest: 24.6292317 (887)\ttotal: 39.7s\tremaining: 1m 32s\n",
            "1000:\tlearn: 15.2944122\ttest: 15.2944122\ttest1: 24.5097455\tbest: 24.5097455 (1000)\ttotal: 44.2s\tremaining: 1m 28s\n",
            "1100:\tlearn: 14.6523121\ttest: 14.6523121\ttest1: 24.4553879\tbest: 24.4547571 (1099)\ttotal: 48.7s\tremaining: 1m 23s\n",
            "1200:\tlearn: 14.0351726\ttest: 14.0351726\ttest1: 24.3536808\tbest: 24.3536808 (1200)\ttotal: 53.2s\tremaining: 1m 19s\n",
            "1300:\tlearn: 13.4699180\ttest: 13.4699180\ttest1: 24.2656031\tbest: 24.2656031 (1300)\ttotal: 57.6s\tremaining: 1m 15s\n",
            "1400:\tlearn: 12.9545178\ttest: 12.9545178\ttest1: 24.2427691\tbest: 24.2427691 (1400)\ttotal: 1m 1s\tremaining: 1m 10s\n",
            "1500:\tlearn: 12.4663042\ttest: 12.4663042\ttest1: 24.1810499\tbest: 24.1810499 (1500)\ttotal: 1m 6s\tremaining: 1m 6s\n",
            "1600:\tlearn: 12.0032552\ttest: 12.0032552\ttest1: 24.1207822\tbest: 24.1207822 (1600)\ttotal: 1m 10s\tremaining: 1m 1s\n",
            "1700:\tlearn: 11.5673713\ttest: 11.5673713\ttest1: 24.1395556\tbest: 24.1090991 (1635)\ttotal: 1m 15s\tremaining: 57.3s\n",
            "1800:\tlearn: 11.1607043\ttest: 11.1607043\ttest1: 24.0927783\tbest: 24.0893511 (1798)\ttotal: 1m 19s\tremaining: 52.9s\n",
            "1900:\tlearn: 10.7695693\ttest: 10.7695693\ttest1: 24.0543015\tbest: 24.0484242 (1875)\ttotal: 1m 23s\tremaining: 48.5s\n",
            "2000:\tlearn: 10.4120891\ttest: 10.4120891\ttest1: 24.0228080\tbest: 24.0170441 (1997)\ttotal: 1m 28s\tremaining: 44.1s\n",
            "2100:\tlearn: 10.0482889\ttest: 10.0482889\ttest1: 23.9895016\tbest: 23.9878263 (2096)\ttotal: 1m 32s\tremaining: 39.7s\n",
            "2200:\tlearn: 9.7091036\ttest: 9.7091036\ttest1: 23.9522136\tbest: 23.9514290 (2199)\ttotal: 1m 37s\tremaining: 35.3s\n",
            "2300:\tlearn: 9.3816019\ttest: 9.3816019\ttest1: 23.9231972\tbest: 23.9197468 (2281)\ttotal: 1m 41s\tremaining: 30.9s\n",
            "2400:\tlearn: 9.0673152\ttest: 9.0673152\ttest1: 23.9285382\tbest: 23.9083432 (2336)\ttotal: 1m 46s\tremaining: 26.5s\n",
            "2500:\tlearn: 8.7742092\ttest: 8.7742092\ttest1: 23.9359671\tbest: 23.9083432 (2336)\ttotal: 1m 50s\tremaining: 22s\n",
            "Stopped by overfitting detector  (200 iterations wait)\n",
            "\n",
            "bestTest = 23.90834317\n",
            "bestIteration = 2336\n",
            "\n",
            "Shrink model to first 2337 iterations.\n",
            "err:  23.908343165097712\n",
            "0:\tlearn: 44.9661877\ttest: 44.9661877\ttest1: 40.3036593\tbest: 40.3036593 (0)\ttotal: 45.3ms\tremaining: 2m 15s\n",
            "100:\tlearn: 28.0121444\ttest: 28.0121444\ttest1: 27.4367517\tbest: 27.4367517 (100)\ttotal: 4.45s\tremaining: 2m 7s\n",
            "200:\tlearn: 24.7207340\ttest: 24.7207340\ttest1: 26.6279369\tbest: 26.6279369 (200)\ttotal: 8.8s\tremaining: 2m 2s\n",
            "300:\tlearn: 22.6510711\ttest: 22.6510711\ttest1: 26.4029459\tbest: 26.3422118 (290)\ttotal: 13.2s\tremaining: 1m 57s\n",
            "400:\tlearn: 21.0977601\ttest: 21.0977601\ttest1: 26.3334923\tbest: 26.2026267 (381)\ttotal: 17.6s\tremaining: 1m 54s\n",
            "500:\tlearn: 19.8055570\ttest: 19.8055570\ttest1: 26.1911644\tbest: 26.1911644 (500)\ttotal: 22s\tremaining: 1m 49s\n",
            "600:\tlearn: 18.7300403\ttest: 18.7300403\ttest1: 26.0614315\tbest: 26.0392548 (564)\ttotal: 26.4s\tremaining: 1m 45s\n",
            "700:\tlearn: 17.7400726\ttest: 17.7400726\ttest1: 25.8782335\tbest: 25.8782335 (700)\ttotal: 30.7s\tremaining: 1m 40s\n",
            "800:\tlearn: 16.8845796\ttest: 16.8845796\ttest1: 25.7900485\tbest: 25.7851373 (799)\ttotal: 35.1s\tremaining: 1m 36s\n",
            "900:\tlearn: 16.1037618\ttest: 16.1037618\ttest1: 25.6345360\tbest: 25.6270001 (887)\ttotal: 39.5s\tremaining: 1m 31s\n",
            "1000:\tlearn: 15.3721426\ttest: 15.3721426\ttest1: 25.5254479\tbest: 25.5075638 (964)\ttotal: 43.9s\tremaining: 1m 27s\n",
            "1100:\tlearn: 14.6988016\ttest: 14.6988016\ttest1: 25.5188192\tbest: 25.4930573 (1055)\ttotal: 48.3s\tremaining: 1m 23s\n",
            "1200:\tlearn: 14.0916008\ttest: 14.0916008\ttest1: 25.4482717\tbest: 25.4482717 (1200)\ttotal: 52.7s\tremaining: 1m 18s\n",
            "1300:\tlearn: 13.5256907\ttest: 13.5256907\ttest1: 25.4391112\tbest: 25.4042798 (1242)\ttotal: 57.1s\tremaining: 1m 14s\n",
            "1400:\tlearn: 13.0038489\ttest: 13.0038489\ttest1: 25.4162925\tbest: 25.4042798 (1242)\ttotal: 1m 1s\tremaining: 1m 10s\n",
            "1500:\tlearn: 12.5135016\ttest: 12.5135016\ttest1: 25.4279049\tbest: 25.4021554 (1430)\ttotal: 1m 5s\tremaining: 1m 5s\n",
            "1600:\tlearn: 12.0683021\ttest: 12.0683021\ttest1: 25.3979597\tbest: 25.3841984 (1587)\ttotal: 1m 10s\tremaining: 1m 1s\n",
            "1700:\tlearn: 11.6292620\ttest: 11.6292620\ttest1: 25.3582351\tbest: 25.3517244 (1698)\ttotal: 1m 14s\tremaining: 57s\n",
            "1800:\tlearn: 11.2309051\ttest: 11.2309051\ttest1: 25.3057955\tbest: 25.3057955 (1800)\ttotal: 1m 18s\tremaining: 52.6s\n",
            "1900:\tlearn: 10.8381877\ttest: 10.8381877\ttest1: 25.2547319\tbest: 25.2547319 (1900)\ttotal: 1m 23s\tremaining: 48.2s\n",
            "2000:\tlearn: 10.4759078\ttest: 10.4759078\ttest1: 25.1923546\tbest: 25.1823947 (1977)\ttotal: 1m 27s\tremaining: 43.8s\n",
            "2100:\tlearn: 10.1135005\ttest: 10.1135005\ttest1: 25.1725356\tbest: 25.1725356 (2100)\ttotal: 1m 32s\tremaining: 39.4s\n",
            "2200:\tlearn: 9.7789801\ttest: 9.7789801\ttest1: 25.1871433\tbest: 25.1481013 (2168)\ttotal: 1m 36s\tremaining: 35s\n",
            "2300:\tlearn: 9.4409082\ttest: 9.4409082\ttest1: 25.1733182\tbest: 25.1481013 (2168)\ttotal: 1m 40s\tremaining: 30.7s\n",
            "2400:\tlearn: 9.1348039\ttest: 9.1348039\ttest1: 25.1673807\tbest: 25.1417411 (2321)\ttotal: 1m 45s\tremaining: 26.3s\n",
            "2500:\tlearn: 8.8480054\ttest: 8.8480054\ttest1: 25.1238777\tbest: 25.1086947 (2446)\ttotal: 1m 49s\tremaining: 21.9s\n",
            "2600:\tlearn: 8.5633902\ttest: 8.5633902\ttest1: 25.1221749\tbest: 25.1086947 (2446)\ttotal: 1m 54s\tremaining: 17.5s\n",
            "Stopped by overfitting detector  (200 iterations wait)\n",
            "\n",
            "bestTest = 25.10869473\n",
            "bestIteration = 2446\n",
            "\n",
            "Shrink model to first 2447 iterations.\n",
            "err:  25.108694729793534\n",
            "0:\tlearn: 44.6868373\ttest: 44.6868373\ttest1: 42.5950927\tbest: 42.5950927 (0)\ttotal: 45.4ms\tremaining: 2m 16s\n",
            "100:\tlearn: 27.3866605\ttest: 27.3866605\ttest1: 31.5895856\tbest: 31.5588303 (97)\ttotal: 4.4s\tremaining: 2m 6s\n",
            "200:\tlearn: 24.1158713\ttest: 24.1158713\ttest1: 31.5914013\tbest: 31.5440757 (128)\ttotal: 8.72s\tremaining: 2m 1s\n",
            "300:\tlearn: 22.1061517\ttest: 22.1061517\ttest1: 31.3948692\tbest: 31.3948692 (300)\ttotal: 13.1s\tremaining: 1m 57s\n",
            "400:\tlearn: 20.5940583\ttest: 20.5940583\ttest1: 31.2235390\tbest: 31.2235390 (400)\ttotal: 17.4s\tremaining: 1m 52s\n",
            "500:\tlearn: 19.3717802\ttest: 19.3717802\ttest1: 31.0967720\tbest: 31.0963409 (498)\ttotal: 21.7s\tremaining: 1m 48s\n",
            "600:\tlearn: 18.3390163\ttest: 18.3390163\ttest1: 30.9683439\tbest: 30.9675182 (599)\ttotal: 26s\tremaining: 1m 43s\n",
            "700:\tlearn: 17.4404335\ttest: 17.4404335\ttest1: 30.7675074\tbest: 30.7675074 (700)\ttotal: 30.4s\tremaining: 1m 39s\n",
            "800:\tlearn: 16.5761941\ttest: 16.5761941\ttest1: 30.6736911\tbest: 30.6538148 (792)\ttotal: 34.7s\tremaining: 1m 35s\n",
            "900:\tlearn: 15.8106455\ttest: 15.8106455\ttest1: 30.6227688\tbest: 30.6007668 (890)\ttotal: 39.1s\tremaining: 1m 31s\n",
            "1000:\tlearn: 15.1346609\ttest: 15.1346609\ttest1: 30.5620704\tbest: 30.5248885 (988)\ttotal: 43.6s\tremaining: 1m 27s\n",
            "1100:\tlearn: 14.4970917\ttest: 14.4970917\ttest1: 30.4691621\tbest: 30.4662499 (1098)\ttotal: 48.1s\tremaining: 1m 22s\n",
            "1200:\tlearn: 13.8944446\ttest: 13.8944446\ttest1: 30.3919366\tbest: 30.3862947 (1199)\ttotal: 52.5s\tremaining: 1m 18s\n",
            "1300:\tlearn: 13.3387299\ttest: 13.3387299\ttest1: 30.3345911\tbest: 30.3345911 (1300)\ttotal: 56.9s\tremaining: 1m 14s\n",
            "1400:\tlearn: 12.8174351\ttest: 12.8174351\ttest1: 30.3253624\tbest: 30.3204267 (1388)\ttotal: 1m 1s\tremaining: 1m 9s\n",
            "1500:\tlearn: 12.3319095\ttest: 12.3319095\ttest1: 30.2568915\tbest: 30.2568915 (1500)\ttotal: 1m 5s\tremaining: 1m 5s\n",
            "1600:\tlearn: 11.8931454\ttest: 11.8931454\ttest1: 30.2297501\tbest: 30.2193470 (1566)\ttotal: 1m 10s\tremaining: 1m 1s\n",
            "1700:\tlearn: 11.4745165\ttest: 11.4745165\ttest1: 30.1884581\tbest: 30.1836236 (1673)\ttotal: 1m 14s\tremaining: 56.8s\n",
            "1800:\tlearn: 11.0536440\ttest: 11.0536440\ttest1: 30.1760340\tbest: 30.1680245 (1774)\ttotal: 1m 18s\tremaining: 52.5s\n",
            "1900:\tlearn: 10.6550902\ttest: 10.6550902\ttest1: 30.1629573\tbest: 30.1616173 (1887)\ttotal: 1m 23s\tremaining: 48.1s\n",
            "2000:\tlearn: 10.2797596\ttest: 10.2797596\ttest1: 30.1339426\tbest: 30.1334002 (1978)\ttotal: 1m 27s\tremaining: 43.7s\n",
            "2100:\tlearn: 9.9363831\ttest: 9.9363831\ttest1: 30.0881434\tbest: 30.0870728 (2099)\ttotal: 1m 31s\tremaining: 39.3s\n",
            "2200:\tlearn: 9.6126638\ttest: 9.6126638\ttest1: 30.0518753\tbest: 30.0476602 (2196)\ttotal: 1m 36s\tremaining: 35s\n",
            "2300:\tlearn: 9.2906218\ttest: 9.2906218\ttest1: 30.0222652\tbest: 30.0222086 (2298)\ttotal: 1m 40s\tremaining: 30.6s\n",
            "2400:\tlearn: 8.9922134\ttest: 8.9922134\ttest1: 30.0022036\tbest: 30.0000920 (2392)\ttotal: 1m 45s\tremaining: 26.2s\n",
            "2500:\tlearn: 8.7075827\ttest: 8.7075827\ttest1: 29.9778025\tbest: 29.9726465 (2475)\ttotal: 1m 49s\tremaining: 21.9s\n",
            "2600:\tlearn: 8.4379413\ttest: 8.4379413\ttest1: 29.9489732\tbest: 29.9450358 (2597)\ttotal: 1m 53s\tremaining: 17.5s\n",
            "2700:\tlearn: 8.1664987\ttest: 8.1664987\ttest1: 29.9345909\tbest: 29.9330649 (2660)\ttotal: 1m 58s\tremaining: 13.1s\n",
            "2800:\tlearn: 7.9171917\ttest: 7.9171917\ttest1: 29.9268376\tbest: 29.9244827 (2785)\ttotal: 2m 2s\tremaining: 8.72s\n",
            "2900:\tlearn: 7.6795698\ttest: 7.6795698\ttest1: 29.9093832\tbest: 29.9079035 (2881)\ttotal: 2m 7s\tremaining: 4.34s\n",
            "2999:\tlearn: 7.4456310\ttest: 7.4456310\ttest1: 29.8931894\tbest: 29.8913839 (2998)\ttotal: 2m 11s\tremaining: 0us\n",
            "\n",
            "bestTest = 29.89138393\n",
            "bestIteration = 2998\n",
            "\n",
            "Shrink model to first 2999 iterations.\n",
            "err:  29.89138392548395\n",
            "0:\tlearn: 44.1474948\ttest: 44.1474948\ttest1: 48.8569299\tbest: 48.8569299 (0)\ttotal: 44.6ms\tremaining: 2m 13s\n",
            "100:\tlearn: 27.5166013\ttest: 27.5166013\ttest1: 31.5640860\tbest: 31.5635992 (99)\ttotal: 4.43s\tremaining: 2m 7s\n",
            "200:\tlearn: 24.2951303\ttest: 24.2951303\ttest1: 30.1431755\tbest: 30.1431755 (200)\ttotal: 8.77s\tremaining: 2m 2s\n",
            "300:\tlearn: 22.2351374\ttest: 22.2351374\ttest1: 29.3709893\tbest: 29.3709893 (300)\ttotal: 13.1s\tremaining: 1m 57s\n",
            "400:\tlearn: 20.7201580\ttest: 20.7201580\ttest1: 28.8743360\tbest: 28.8743360 (400)\ttotal: 17.4s\tremaining: 1m 53s\n",
            "500:\tlearn: 19.4801176\ttest: 19.4801176\ttest1: 28.7298774\tbest: 28.7298774 (500)\ttotal: 21.8s\tremaining: 1m 48s\n",
            "600:\tlearn: 18.4396368\ttest: 18.4396368\ttest1: 28.5941719\tbest: 28.5934982 (599)\ttotal: 26.1s\tremaining: 1m 44s\n",
            "700:\tlearn: 17.5147544\ttest: 17.5147544\ttest1: 28.4204451\tbest: 28.4184872 (699)\ttotal: 30.4s\tremaining: 1m 39s\n",
            "800:\tlearn: 16.7088150\ttest: 16.7088150\ttest1: 28.2912336\tbest: 28.2816164 (797)\ttotal: 34.7s\tremaining: 1m 35s\n",
            "900:\tlearn: 15.9339330\ttest: 15.9339330\ttest1: 28.2813930\tbest: 28.2648496 (874)\ttotal: 39.1s\tremaining: 1m 31s\n",
            "1000:\tlearn: 15.1997800\ttest: 15.1997800\ttest1: 28.2186144\tbest: 28.2186144 (1000)\ttotal: 43.5s\tremaining: 1m 26s\n",
            "1100:\tlearn: 14.5568079\ttest: 14.5568079\ttest1: 28.1617089\tbest: 28.1617089 (1100)\ttotal: 47.8s\tremaining: 1m 22s\n",
            "1200:\tlearn: 13.9489797\ttest: 13.9489797\ttest1: 28.1035307\tbest: 28.0993606 (1173)\ttotal: 52.2s\tremaining: 1m 18s\n",
            "1300:\tlearn: 13.4015499\ttest: 13.4015499\ttest1: 28.0518156\tbest: 28.0518156 (1300)\ttotal: 56.5s\tremaining: 1m 13s\n",
            "1400:\tlearn: 12.8901991\ttest: 12.8901991\ttest1: 28.0370871\tbest: 28.0212809 (1351)\ttotal: 1m\tremaining: 1m 9s\n",
            "1500:\tlearn: 12.3962233\ttest: 12.3962233\ttest1: 27.9665704\tbest: 27.9604607 (1485)\ttotal: 1m 5s\tremaining: 1m 5s\n",
            "1600:\tlearn: 11.9504265\ttest: 11.9504265\ttest1: 27.9329627\tbest: 27.9329627 (1600)\ttotal: 1m 9s\tremaining: 1m\n",
            "1700:\tlearn: 11.5118395\ttest: 11.5118395\ttest1: 27.8962214\tbest: 27.8913074 (1657)\ttotal: 1m 14s\tremaining: 56.6s\n",
            "1800:\tlearn: 11.1070829\ttest: 11.1070829\ttest1: 27.8707330\tbest: 27.8678582 (1795)\ttotal: 1m 18s\tremaining: 52.2s\n",
            "1900:\tlearn: 10.7145002\ttest: 10.7145002\ttest1: 27.8416445\tbest: 27.8339838 (1890)\ttotal: 1m 22s\tremaining: 47.9s\n",
            "2000:\tlearn: 10.3442161\ttest: 10.3442161\ttest1: 27.8008530\tbest: 27.7956092 (1992)\ttotal: 1m 27s\tremaining: 43.6s\n",
            "2100:\tlearn: 9.9893791\ttest: 9.9893791\ttest1: 27.7960591\tbest: 27.7953355 (2015)\ttotal: 1m 31s\tremaining: 39.2s\n",
            "2200:\tlearn: 9.6544471\ttest: 9.6544471\ttest1: 27.8025303\tbest: 27.7924190 (2121)\ttotal: 1m 36s\tremaining: 34.9s\n",
            "2300:\tlearn: 9.3416561\ttest: 9.3416561\ttest1: 27.7966808\tbest: 27.7924190 (2121)\ttotal: 1m 40s\tremaining: 30.5s\n",
            "2400:\tlearn: 9.0402375\ttest: 9.0402375\ttest1: 27.7624486\tbest: 27.7543556 (2347)\ttotal: 1m 44s\tremaining: 26.1s\n",
            "2500:\tlearn: 8.7618964\ttest: 8.7618964\ttest1: 27.7468927\tbest: 27.7343771 (2469)\ttotal: 1m 49s\tremaining: 21.8s\n",
            "2600:\tlearn: 8.4714226\ttest: 8.4714226\ttest1: 27.7159271\tbest: 27.7150947 (2599)\ttotal: 1m 53s\tremaining: 17.4s\n",
            "2700:\tlearn: 8.2045627\ttest: 8.2045627\ttest1: 27.7059006\tbest: 27.7028634 (2698)\ttotal: 1m 57s\tremaining: 13.1s\n",
            "2800:\tlearn: 7.9534378\ttest: 7.9534378\ttest1: 27.6975979\tbest: 27.6931023 (2796)\ttotal: 2m 2s\tremaining: 8.69s\n",
            "2900:\tlearn: 7.7032249\ttest: 7.7032249\ttest1: 27.6901742\tbest: 27.6863642 (2829)\ttotal: 2m 6s\tremaining: 4.32s\n",
            "2999:\tlearn: 7.4721425\ttest: 7.4721425\ttest1: 27.6732837\tbest: 27.6732837 (2999)\ttotal: 2m 11s\tremaining: 0us\n",
            "\n",
            "bestTest = 27.67328371\n",
            "bestIteration = 2999\n",
            "\n",
            "err:  27.673283711352557\n",
            "0:\tlearn: 43.2080347\ttest: 43.2080347\ttest1: 55.2598409\tbest: 55.2598409 (0)\ttotal: 45.1ms\tremaining: 2m 15s\n",
            "100:\tlearn: 26.8322844\ttest: 26.8322844\ttest1: 38.0886934\tbest: 38.0886934 (100)\ttotal: 4.34s\tremaining: 2m 4s\n",
            "200:\tlearn: 23.8091273\ttest: 23.8091273\ttest1: 35.8025104\tbest: 35.8025104 (200)\ttotal: 8.65s\tremaining: 2m\n",
            "300:\tlearn: 21.7610127\ttest: 21.7610127\ttest1: 34.8174724\tbest: 34.8174724 (300)\ttotal: 13s\tremaining: 1m 56s\n",
            "400:\tlearn: 20.2767614\ttest: 20.2767614\ttest1: 34.2721201\tbest: 34.2721201 (400)\ttotal: 17.3s\tremaining: 1m 52s\n",
            "500:\tlearn: 19.0553402\ttest: 19.0553402\ttest1: 33.8798307\tbest: 33.8798307 (500)\ttotal: 21.6s\tremaining: 1m 47s\n",
            "600:\tlearn: 17.9983636\ttest: 17.9983636\ttest1: 33.5418045\tbest: 33.5418045 (600)\ttotal: 26s\tremaining: 1m 43s\n",
            "700:\tlearn: 17.0801178\ttest: 17.0801178\ttest1: 33.2749158\tbest: 33.2749158 (700)\ttotal: 30.4s\tremaining: 1m 39s\n",
            "800:\tlearn: 16.2674133\ttest: 16.2674133\ttest1: 33.0444707\tbest: 33.0395362 (796)\ttotal: 34.8s\tremaining: 1m 35s\n",
            "900:\tlearn: 15.5078430\ttest: 15.5078430\ttest1: 32.8793502\tbest: 32.8793502 (900)\ttotal: 39.2s\tremaining: 1m 31s\n",
            "1000:\tlearn: 14.8441714\ttest: 14.8441714\ttest1: 32.7424016\tbest: 32.7424016 (1000)\ttotal: 43.5s\tremaining: 1m 26s\n",
            "1100:\tlearn: 14.2438304\ttest: 14.2438304\ttest1: 32.6188051\tbest: 32.6093806 (1076)\ttotal: 47.8s\tremaining: 1m 22s\n",
            "1200:\tlearn: 13.6420898\ttest: 13.6420898\ttest1: 32.5022149\tbest: 32.4998192 (1187)\ttotal: 52.2s\tremaining: 1m 18s\n",
            "1300:\tlearn: 13.1186644\ttest: 13.1186644\ttest1: 32.3765512\tbest: 32.3765512 (1300)\ttotal: 56.5s\tremaining: 1m 13s\n",
            "1400:\tlearn: 12.6230526\ttest: 12.6230526\ttest1: 32.3115266\tbest: 32.3091335 (1399)\ttotal: 1m\tremaining: 1m 9s\n",
            "1500:\tlearn: 12.1550753\ttest: 12.1550753\ttest1: 32.2240008\tbest: 32.2240008 (1500)\ttotal: 1m 5s\tremaining: 1m 5s\n",
            "1600:\tlearn: 11.7185491\ttest: 11.7185491\ttest1: 32.1428615\tbest: 32.1334575 (1597)\ttotal: 1m 9s\tremaining: 1m\n",
            "1700:\tlearn: 11.2965046\ttest: 11.2965046\ttest1: 32.0770104\tbest: 32.0700930 (1694)\ttotal: 1m 13s\tremaining: 56.5s\n",
            "1800:\tlearn: 10.8903982\ttest: 10.8903982\ttest1: 32.0437832\tbest: 32.0437832 (1800)\ttotal: 1m 18s\tremaining: 52.2s\n",
            "1900:\tlearn: 10.5134806\ttest: 10.5134806\ttest1: 32.0147940\tbest: 32.0142833 (1899)\ttotal: 1m 22s\tremaining: 47.9s\n",
            "2000:\tlearn: 10.1464787\ttest: 10.1464787\ttest1: 31.9731785\tbest: 31.9669206 (1996)\ttotal: 1m 27s\tremaining: 43.6s\n",
            "2100:\tlearn: 9.8082573\ttest: 9.8082573\ttest1: 31.9127949\tbest: 31.9127949 (2100)\ttotal: 1m 31s\tremaining: 39.3s\n",
            "2200:\tlearn: 9.4838561\ttest: 9.4838561\ttest1: 31.8655652\tbest: 31.8654294 (2199)\ttotal: 1m 36s\tremaining: 34.9s\n",
            "2300:\tlearn: 9.1717784\ttest: 9.1717784\ttest1: 31.8389875\tbest: 31.8384993 (2297)\ttotal: 1m 40s\tremaining: 30.6s\n",
            "2400:\tlearn: 8.8693821\ttest: 8.8693821\ttest1: 31.8135621\tbest: 31.8133113 (2399)\ttotal: 1m 45s\tremaining: 26.2s\n",
            "2500:\tlearn: 8.5713751\ttest: 8.5713751\ttest1: 31.8083448\tbest: 31.7939545 (2441)\ttotal: 1m 49s\tremaining: 21.8s\n",
            "2600:\tlearn: 8.2997860\ttest: 8.2997860\ttest1: 31.7887269\tbest: 31.7882992 (2598)\ttotal: 1m 53s\tremaining: 17.5s\n",
            "2700:\tlearn: 8.0301783\ttest: 8.0301783\ttest1: 31.7573060\tbest: 31.7556844 (2696)\ttotal: 1m 58s\tremaining: 13.1s\n",
            "2800:\tlearn: 7.7777199\ttest: 7.7777199\ttest1: 31.7279996\tbest: 31.7276155 (2799)\ttotal: 2m 2s\tremaining: 8.72s\n",
            "2900:\tlearn: 7.5401561\ttest: 7.5401561\ttest1: 31.7216329\tbest: 31.7171031 (2896)\ttotal: 2m 7s\tremaining: 4.34s\n",
            "2999:\tlearn: 7.3286042\ttest: 7.3286042\ttest1: 31.6995092\tbest: 31.6995092 (2999)\ttotal: 2m 11s\tremaining: 0us\n",
            "\n",
            "bestTest = 31.6995092\n",
            "bestIteration = 2999\n",
            "\n",
            "err:  31.699509199884705\n",
            "0:\tlearn: 44.0038125\ttest: 44.0038125\ttest1: 48.7551218\tbest: 48.7551218 (0)\ttotal: 45.3ms\tremaining: 2m 15s\n",
            "100:\tlearn: 27.4290678\ttest: 27.4290678\ttest1: 31.0771243\tbest: 31.0771243 (100)\ttotal: 4.38s\tremaining: 2m 5s\n",
            "200:\tlearn: 24.2941699\ttest: 24.2941699\ttest1: 30.0083009\tbest: 30.0059632 (199)\ttotal: 8.7s\tremaining: 2m 1s\n",
            "300:\tlearn: 22.2007097\ttest: 22.2007097\ttest1: 29.1690638\tbest: 29.1690638 (300)\ttotal: 13s\tremaining: 1m 56s\n",
            "400:\tlearn: 20.6352804\ttest: 20.6352804\ttest1: 28.7305196\tbest: 28.7305196 (400)\ttotal: 17.3s\tremaining: 1m 52s\n",
            "500:\tlearn: 19.3752669\ttest: 19.3752669\ttest1: 28.4528091\tbest: 28.4528091 (500)\ttotal: 21.7s\tremaining: 1m 48s\n",
            "600:\tlearn: 18.3463283\ttest: 18.3463283\ttest1: 28.2427660\tbest: 28.2427660 (600)\ttotal: 26s\tremaining: 1m 43s\n",
            "700:\tlearn: 17.4219627\ttest: 17.4219627\ttest1: 28.0941198\tbest: 28.0936208 (699)\ttotal: 30.4s\tremaining: 1m 39s\n",
            "800:\tlearn: 16.5972595\ttest: 16.5972595\ttest1: 27.9824320\tbest: 27.9824320 (800)\ttotal: 34.7s\tremaining: 1m 35s\n",
            "900:\tlearn: 15.8317941\ttest: 15.8317941\ttest1: 27.8275241\tbest: 27.8275241 (900)\ttotal: 39.1s\tremaining: 1m 31s\n",
            "1000:\tlearn: 15.1145997\ttest: 15.1145997\ttest1: 27.7919804\tbest: 27.7887465 (997)\ttotal: 43.4s\tremaining: 1m 26s\n",
            "1100:\tlearn: 14.4875449\ttest: 14.4875449\ttest1: 27.7200705\tbest: 27.7190487 (1096)\ttotal: 47.8s\tremaining: 1m 22s\n",
            "1200:\tlearn: 13.9067353\ttest: 13.9067353\ttest1: 27.6520620\tbest: 27.6413018 (1192)\ttotal: 52.1s\tremaining: 1m 18s\n",
            "1300:\tlearn: 13.3474274\ttest: 13.3474274\ttest1: 27.5569377\tbest: 27.5475776 (1299)\ttotal: 56.5s\tremaining: 1m 13s\n",
            "1400:\tlearn: 12.8376361\ttest: 12.8376361\ttest1: 27.4861228\tbest: 27.4827206 (1396)\ttotal: 1m\tremaining: 1m 9s\n",
            "1500:\tlearn: 12.3468660\ttest: 12.3468660\ttest1: 27.4306538\tbest: 27.4305294 (1499)\ttotal: 1m 5s\tremaining: 1m 5s\n",
            "1600:\tlearn: 11.8834412\ttest: 11.8834412\ttest1: 27.4054689\tbest: 27.4041015 (1588)\ttotal: 1m 9s\tremaining: 1m 1s\n",
            "1700:\tlearn: 11.4525328\ttest: 11.4525328\ttest1: 27.3472187\tbest: 27.3427970 (1699)\ttotal: 1m 14s\tremaining: 56.6s\n",
            "1800:\tlearn: 11.0541952\ttest: 11.0541952\ttest1: 27.3449483\tbest: 27.3361524 (1783)\ttotal: 1m 18s\tremaining: 52.3s\n",
            "1900:\tlearn: 10.6493459\ttest: 10.6493459\ttest1: 27.3182844\tbest: 27.3014813 (1872)\ttotal: 1m 22s\tremaining: 47.9s\n",
            "2000:\tlearn: 10.2763096\ttest: 10.2763096\ttest1: 27.3139348\tbest: 27.3014813 (1872)\ttotal: 1m 27s\tremaining: 43.6s\n",
            "2100:\tlearn: 9.9236470\ttest: 9.9236470\ttest1: 27.2730063\tbest: 27.2726840 (2097)\ttotal: 1m 31s\tremaining: 39.2s\n",
            "2200:\tlearn: 9.5867433\ttest: 9.5867433\ttest1: 27.2503687\tbest: 27.2503687 (2200)\ttotal: 1m 35s\tremaining: 34.8s\n",
            "2300:\tlearn: 9.2700108\ttest: 9.2700108\ttest1: 27.2121615\tbest: 27.2072198 (2289)\ttotal: 1m 40s\tremaining: 30.5s\n",
            "2400:\tlearn: 8.9600155\ttest: 8.9600155\ttest1: 27.1958082\tbest: 27.1901584 (2380)\ttotal: 1m 44s\tremaining: 26.1s\n",
            "2500:\tlearn: 8.6695013\ttest: 8.6695013\ttest1: 27.1705650\tbest: 27.1690441 (2499)\ttotal: 1m 49s\tremaining: 21.8s\n",
            "2600:\tlearn: 8.3817324\ttest: 8.3817324\ttest1: 27.1525384\tbest: 27.1521857 (2598)\ttotal: 1m 53s\tremaining: 17.4s\n",
            "2700:\tlearn: 8.1084026\ttest: 8.1084026\ttest1: 27.1401531\tbest: 27.1347781 (2683)\ttotal: 1m 57s\tremaining: 13.1s\n",
            "2800:\tlearn: 7.8553764\ttest: 7.8553764\ttest1: 27.1455943\tbest: 27.1347781 (2683)\ttotal: 2m 2s\tremaining: 8.69s\n",
            "Stopped by overfitting detector  (200 iterations wait)\n",
            "\n",
            "bestTest = 27.13477813\n",
            "bestIteration = 2683\n",
            "\n",
            "Shrink model to first 2684 iterations.\n",
            "err:  27.134778126759933\n",
            "0:\tlearn: 44.6044694\ttest: 44.6044694\ttest1: 44.1678152\tbest: 44.1678152 (0)\ttotal: 45.5ms\tremaining: 2m 16s\n",
            "100:\tlearn: 27.2913613\ttest: 27.2913613\ttest1: 32.6989263\tbest: 32.6989263 (100)\ttotal: 4.36s\tremaining: 2m 5s\n",
            "200:\tlearn: 24.2395545\ttest: 24.2395545\ttest1: 31.1231461\tbest: 31.1231461 (200)\ttotal: 8.65s\tremaining: 2m\n",
            "300:\tlearn: 22.1869477\ttest: 22.1869477\ttest1: 30.1117347\tbest: 30.1112974 (297)\ttotal: 13s\tremaining: 1m 56s\n",
            "400:\tlearn: 20.6812117\ttest: 20.6812117\ttest1: 29.5451140\tbest: 29.5451140 (400)\ttotal: 17.4s\tremaining: 1m 52s\n",
            "500:\tlearn: 19.4567331\ttest: 19.4567331\ttest1: 29.1547350\tbest: 29.1547350 (500)\ttotal: 21.8s\tremaining: 1m 48s\n",
            "600:\tlearn: 18.3178748\ttest: 18.3178748\ttest1: 28.7747317\tbest: 28.7747317 (600)\ttotal: 26.1s\tremaining: 1m 44s\n",
            "700:\tlearn: 17.4231189\ttest: 17.4231189\ttest1: 28.6434827\tbest: 28.6419658 (698)\ttotal: 30.4s\tremaining: 1m 39s\n",
            "800:\tlearn: 16.5743316\ttest: 16.5743316\ttest1: 28.4665896\tbest: 28.4626658 (796)\ttotal: 34.8s\tremaining: 1m 35s\n",
            "900:\tlearn: 15.7751767\ttest: 15.7751767\ttest1: 28.3253980\tbest: 28.3245032 (898)\ttotal: 39.2s\tremaining: 1m 31s\n",
            "1000:\tlearn: 15.0859532\ttest: 15.0859532\ttest1: 28.2583386\tbest: 28.2549904 (990)\ttotal: 43.6s\tremaining: 1m 27s\n",
            "1100:\tlearn: 14.4392304\ttest: 14.4392304\ttest1: 28.1269660\tbest: 28.1181717 (1092)\ttotal: 48s\tremaining: 1m 22s\n",
            "1200:\tlearn: 13.8619826\ttest: 13.8619826\ttest1: 28.0964146\tbest: 28.0860443 (1175)\ttotal: 52.3s\tremaining: 1m 18s\n",
            "1300:\tlearn: 13.3337239\ttest: 13.3337239\ttest1: 28.0239922\tbest: 28.0236786 (1293)\ttotal: 56.7s\tremaining: 1m 14s\n",
            "1400:\tlearn: 12.8291249\ttest: 12.8291249\ttest1: 27.9645538\tbest: 27.9645538 (1400)\ttotal: 1m 1s\tremaining: 1m 9s\n",
            "1500:\tlearn: 12.3504560\ttest: 12.3504560\ttest1: 27.9373736\tbest: 27.9316494 (1473)\ttotal: 1m 5s\tremaining: 1m 5s\n",
            "1600:\tlearn: 11.8871322\ttest: 11.8871322\ttest1: 27.8825839\tbest: 27.8825839 (1600)\ttotal: 1m 9s\tremaining: 1m\n",
            "1700:\tlearn: 11.4582421\ttest: 11.4582421\ttest1: 27.8415879\tbest: 27.8394128 (1698)\ttotal: 1m 14s\tremaining: 56.6s\n",
            "1800:\tlearn: 11.0363569\ttest: 11.0363569\ttest1: 27.8153639\tbest: 27.8125929 (1790)\ttotal: 1m 18s\tremaining: 52.3s\n",
            "1900:\tlearn: 10.6445296\ttest: 10.6445296\ttest1: 27.7759361\tbest: 27.7727827 (1894)\ttotal: 1m 22s\tremaining: 47.9s\n",
            "2000:\tlearn: 10.2764045\ttest: 10.2764045\ttest1: 27.7451176\tbest: 27.7446518 (1997)\ttotal: 1m 27s\tremaining: 43.6s\n",
            "2100:\tlearn: 9.9252602\ttest: 9.9252602\ttest1: 27.7315657\tbest: 27.7234160 (2044)\ttotal: 1m 31s\tremaining: 39.3s\n",
            "2200:\tlearn: 9.5975259\ttest: 9.5975259\ttest1: 27.7033227\tbest: 27.7033227 (2200)\ttotal: 1m 36s\tremaining: 34.9s\n",
            "2300:\tlearn: 9.2822443\ttest: 9.2822443\ttest1: 27.6747018\tbest: 27.6692535 (2269)\ttotal: 1m 40s\tremaining: 30.6s\n",
            "2400:\tlearn: 8.9777960\ttest: 8.9777960\ttest1: 27.6702752\tbest: 27.6609626 (2322)\ttotal: 1m 44s\tremaining: 26.2s\n",
            "2500:\tlearn: 8.6760073\ttest: 8.6760073\ttest1: 27.6449311\tbest: 27.6422328 (2497)\ttotal: 1m 49s\tremaining: 21.8s\n",
            "2600:\tlearn: 8.3904761\ttest: 8.3904761\ttest1: 27.6337633\tbest: 27.6316343 (2593)\ttotal: 1m 53s\tremaining: 17.4s\n",
            "2700:\tlearn: 8.1380100\ttest: 8.1380100\ttest1: 27.5966321\tbest: 27.5962437 (2698)\ttotal: 1m 58s\tremaining: 13.1s\n",
            "2800:\tlearn: 7.8835516\ttest: 7.8835516\ttest1: 27.5872014\tbest: 27.5871587 (2798)\ttotal: 2m 2s\tremaining: 8.7s\n",
            "2900:\tlearn: 7.6245130\ttest: 7.6245130\ttest1: 27.5961960\tbest: 27.5839863 (2832)\ttotal: 2m 6s\tremaining: 4.33s\n",
            "2999:\tlearn: 7.3893373\ttest: 7.3893373\ttest1: 27.5982727\tbest: 27.5839863 (2832)\ttotal: 2m 11s\tremaining: 0us\n",
            "\n",
            "bestTest = 27.58398626\n",
            "bestIteration = 2832\n",
            "\n",
            "Shrink model to first 2833 iterations.\n",
            "err:  27.58398626276111\n"
          ],
          "name": "stdout"
        },
        {
          "output_type": "execute_result",
          "data": {
            "text/plain": [
              "26.97027237105908"
            ]
          },
          "metadata": {
            "tags": []
          },
          "execution_count": 44
        }
      ]
    },
    {
      "cell_type": "code",
      "metadata": {
        "id": "TWA3SUvxRn9B",
        "colab_type": "code",
        "outputId": "bd0533cc-139f-45cb-8967-db14524b43ec",
        "colab": {
          "base_uri": "https://localhost:8080/",
          "height": 35
        }
      },
      "source": [
        "np.mean(errcb2)"
      ],
      "execution_count": 0,
      "outputs": [
        {
          "output_type": "execute_result",
          "data": {
            "text/plain": [
              "26.97027237105908"
            ]
          },
          "metadata": {
            "tags": []
          },
          "execution_count": 45
        }
      ]
    },
    {
      "cell_type": "code",
      "metadata": {
        "id": "pym1A05Us19F",
        "colab_type": "code",
        "colab": {}
      },
      "source": [
        "test_id  = test['Place_ID X Date']"
      ],
      "execution_count": 0,
      "outputs": []
    },
    {
      "cell_type": "code",
      "metadata": {
        "id": "GzpHt7vnSu29",
        "colab_type": "code",
        "colab": {}
      },
      "source": [
        "d = {'Place_ID X Date': test_id, 'target': np.mean(y_pred_totcb2, 0)}\n",
        "sub = pd.DataFrame(data=d)\n",
        "sub = sub[['Place_ID X Date', 'target']]"
      ],
      "execution_count": 0,
      "outputs": []
    },
    {
      "cell_type": "code",
      "metadata": {
        "id": "SGleXaCxvg5o",
        "colab_type": "code",
        "colab": {}
      },
      "source": [
        "#sub.target = np.abs(sub.target)"
      ],
      "execution_count": 0,
      "outputs": []
    },
    {
      "cell_type": "code",
      "metadata": {
        "id": "yk65rkCYtBhM",
        "colab_type": "code",
        "outputId": "d3840385-1c57-466a-cf50-2ee16850d579",
        "colab": {
          "base_uri": "https://localhost:8080/",
          "height": 35
        }
      },
      "source": [
        "sub.target.min(),sub.target.max()"
      ],
      "execution_count": 0,
      "outputs": [
        {
          "output_type": "execute_result",
          "data": {
            "text/plain": [
              "(-5.2409165065351395, 258.41638695746985)"
            ]
          },
          "metadata": {
            "tags": []
          },
          "execution_count": 49
        }
      ]
    },
    {
      "cell_type": "code",
      "metadata": {
        "id": "5CrG05G7Sq_k",
        "colab_type": "code",
        "colab": {}
      },
      "source": [
        "sub.to_csv(\"newest.csv\",index  = False)"
      ],
      "execution_count": 0,
      "outputs": []
    },
    {
      "cell_type": "code",
      "metadata": {
        "id": "K_cz1QhPS5il",
        "colab_type": "code",
        "colab": {}
      },
      "source": [
        "from google.colab import files"
      ],
      "execution_count": 0,
      "outputs": []
    },
    {
      "cell_type": "code",
      "metadata": {
        "id": "rB22TivcS5qs",
        "colab_type": "code",
        "colab": {}
      },
      "source": [
        "files.download(\"newest.csv\")"
      ],
      "execution_count": 0,
      "outputs": []
    }
  ]
}
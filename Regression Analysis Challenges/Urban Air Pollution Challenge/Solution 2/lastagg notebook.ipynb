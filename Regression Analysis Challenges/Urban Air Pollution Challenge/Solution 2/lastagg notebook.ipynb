{
  "nbformat": 4,
  "nbformat_minor": 0,
  "metadata": {
    "colab": {
      "name": "lastagg.ipynb",
      "provenance": [],
      "collapsed_sections": []
    },
    "kernelspec": {
      "name": "python3",
      "display_name": "Python 3"
    },
    "accelerator": "GPU"
  },
  "cells": [
    {
      "cell_type": "code",
      "metadata": {
        "id": "KYdbYAwHOXH8",
        "colab_type": "code",
        "colab": {
          "base_uri": "https://localhost:8080/",
          "height": 72
        },
        "outputId": "a201961c-5cde-4bcd-9c26-b0cafe3020bf"
      },
      "source": [
        "## Reading libraries\n",
        "import pandas as pd\n",
        "import seaborn as sns\n",
        "import matplotlib.pyplot as plt\n",
        "import numpy as np\n",
        "from sklearn.cluster import KMeans\n",
        "from sklearn.model_selection import KFold\n",
        "from xgboost import XGBRegressor\n",
        "from sklearn.metrics import mean_squared_error\n",
        "from sklearn.decomposition import PCA\n",
        "import warnings\n",
        "from sklearn import metrics\n",
        "from sklearn.metrics import mean_squared_error,log_loss\n",
        "from sklearn.model_selection import KFold,StratifiedKFold,GridSearchCV,RandomizedSearchCV\n",
        "from sklearn.preprocessing import LabelEncoder,OneHotEncoder\n",
        "import lightgbm as lgb\n",
        "from xgboost import XGBRegressor\n",
        "import requests\n",
        "from io import StringIO \n",
        "%matplotlib inline\n"
      ],
      "execution_count": 1,
      "outputs": [
        {
          "output_type": "stream",
          "text": [
            "/usr/local/lib/python3.6/dist-packages/statsmodels/tools/_testing.py:19: FutureWarning: pandas.util.testing is deprecated. Use the functions in the public API at pandas.testing instead.\n",
            "  import pandas.util.testing as tm\n"
          ],
          "name": "stderr"
        }
      ]
    },
    {
      "cell_type": "code",
      "metadata": {
        "id": "56-pFGoxPuOZ",
        "colab_type": "code",
        "colab": {}
      },
      "source": [
        "# !pip install datasist\n",
        "# Google drive links to shared submission and training datasets\n",
        "#\n",
        "submission = 'https://drive.google.com/file/d/1oZEf3hLwMKWCrVPlQIPtBmuOsaZpwQti/view?usp=sharing'\n",
        "train = 'https://drive.google.com/file/d/1ezXTArPnr6jzvqjAy2YiMyvlw3FSmlZm/view?usp=sharing'\n",
        "test  = \"https://drive.google.com/file/d/1JR0Qq0QtAg2EGZIdVDy1wwmU_s8iXjFs/view?usp=sharing\"\n",
        "windmag   =\"https://drive.google.com/file/d/1IQeNwslHTmIrOPJBqSB2XFwhQADa_JVG/view?usp=sharing\"\n",
        "agg = \"https://drive.google.com/file/d/1wVLrTHJxFWZAah02bsBIw8CV5fDxEmbu/view?usp=sharing\"\n",
        "# Creating a function to read a csv file shared via google\n",
        "#\n",
        "def read_csv(url):\n",
        "  url = 'https://drive.google.com/uc?export=download&id=' + url.split('/')[-2]\n",
        "  csv_raw = requests.get(url).text\n",
        "  csv = StringIO(csv_raw)\n",
        "  df = pd.read_csv(csv)\n",
        "  return df\n",
        "\n",
        "# Creating submission and training datataframes\n",
        "#"
      ],
      "execution_count": 0,
      "outputs": []
    },
    {
      "cell_type": "code",
      "metadata": {
        "id": "mPmxErExPkB5",
        "colab_type": "code",
        "colab": {}
      },
      "source": [
        "sample_sub = read_csv(submission)\n",
        "train = read_csv(train)\n",
        "test  = read_csv(test)\n",
        "wind  = read_csv(windmag)\n",
        "agg  = read_csv(agg)"
      ],
      "execution_count": 0,
      "outputs": []
    },
    {
      "cell_type": "code",
      "metadata": {
        "id": "Nf3Q9VwgQvrN",
        "colab_type": "code",
        "colab": {}
      },
      "source": [
        "train =  train[train.target <= 600]\n"
      ],
      "execution_count": 0,
      "outputs": []
    },
    {
      "cell_type": "code",
      "metadata": {
        "id": "4jmV9MiyPODx",
        "colab_type": "code",
        "colab": {}
      },
      "source": [
        "y = train['target']\n"
      ],
      "execution_count": 0,
      "outputs": []
    },
    {
      "cell_type": "code",
      "metadata": {
        "id": "DG8iDz_IJVUX",
        "colab_type": "code",
        "colab": {}
      },
      "source": [
        ""
      ],
      "execution_count": 0,
      "outputs": []
    },
    {
      "cell_type": "code",
      "metadata": {
        "id": "rplXIIwtwBvj",
        "colab_type": "code",
        "colab": {}
      },
      "source": [
        "aggcl  = (agg.drop(\"Place_ID\", axis =1)).iloc[:,446:592].columns"
      ],
      "execution_count": 0,
      "outputs": []
    },
    {
      "cell_type": "code",
      "metadata": {
        "id": "aVgU6QREwBrU",
        "colab_type": "code",
        "colab": {}
      },
      "source": [
        " agg   = pd.concat([agg.Place_ID,agg[aggcl]], axis  = 1)"
      ],
      "execution_count": 0,
      "outputs": []
    },
    {
      "cell_type": "code",
      "metadata": {
        "id": "P8jEm8awwLqY",
        "colab_type": "code",
        "colab": {}
      },
      "source": [
        ""
      ],
      "execution_count": 0,
      "outputs": []
    },
    {
      "cell_type": "code",
      "metadata": {
        "id": "E4eBi-wlwBkt",
        "colab_type": "code",
        "colab": {}
      },
      "source": [
        ""
      ],
      "execution_count": 0,
      "outputs": []
    },
    {
      "cell_type": "code",
      "metadata": {
        "id": "g-LEF7BDMWNs",
        "colab_type": "code",
        "colab": {}
      },
      "source": [
        "train = train.merge(agg, on='Place_ID', how='left')"
      ],
      "execution_count": 0,
      "outputs": []
    },
    {
      "cell_type": "code",
      "metadata": {
        "id": "W6ABd0e_MJg2",
        "colab_type": "code",
        "colab": {}
      },
      "source": [
        "test  = test.merge(agg, on='Place_ID', how='left')"
      ],
      "execution_count": 0,
      "outputs": []
    },
    {
      "cell_type": "code",
      "metadata": {
        "id": "m4eZksmkPAAS",
        "colab_type": "code",
        "colab": {}
      },
      "source": [
        "train.drop(['Place_ID X Date', 'Place_ID', 'target', 'target_min',\n",
        "       'target_max', 'target_variance', 'target_count'],axis  =1,inplace  = True)"
      ],
      "execution_count": 0,
      "outputs": []
    },
    {
      "cell_type": "code",
      "metadata": {
        "id": "uG6Wm498PyaI",
        "colab_type": "code",
        "colab": {}
      },
      "source": [
        "test_id  = test['Place_ID X Date']"
      ],
      "execution_count": 0,
      "outputs": []
    },
    {
      "cell_type": "code",
      "metadata": {
        "id": "cW01xCPzP-Ch",
        "colab_type": "code",
        "colab": {}
      },
      "source": [
        "test.drop(['Place_ID X Date', 'Place_ID'],axis  =1,inplace  = True)"
      ],
      "execution_count": 0,
      "outputs": []
    },
    {
      "cell_type": "code",
      "metadata": {
        "id": "_v6ydwN3PAFP",
        "colab_type": "code",
        "outputId": "808b5a46-359a-496d-b962-239ac1f1ebcd",
        "colab": {
          "base_uri": "https://localhost:8080/",
          "height": 35
        }
      },
      "source": [
        "train.shape,test.shape"
      ],
      "execution_count": 15,
      "outputs": [
        {
          "output_type": "execute_result",
          "data": {
            "text/plain": [
              "((30552, 221), (16136, 221))"
            ]
          },
          "metadata": {
            "tags": []
          },
          "execution_count": 15
        }
      ]
    },
    {
      "cell_type": "code",
      "metadata": {
        "id": "0IqJZEh0D9dZ",
        "colab_type": "code",
        "colab": {}
      },
      "source": [
        ""
      ],
      "execution_count": 0,
      "outputs": []
    },
    {
      "cell_type": "code",
      "metadata": {
        "id": "VtYbpDtqdlDx",
        "colab_type": "code",
        "colab": {}
      },
      "source": [
        "from datetime import datetime\n",
        "\n",
        "train['Date'] = pd.to_datetime(train['Date'])\n",
        "test['Date'] = pd.to_datetime(test['Date'])"
      ],
      "execution_count": 0,
      "outputs": []
    },
    {
      "cell_type": "code",
      "metadata": {
        "id": "vELnyyGJhAB-",
        "colab_type": "code",
        "colab": {}
      },
      "source": [
        "train[\"month\"] =  train.Date.dt.month\n",
        "\n",
        "test[\"month\"] =  test.Date.dt.month\n"
      ],
      "execution_count": 0,
      "outputs": []
    },
    {
      "cell_type": "code",
      "metadata": {
        "id": "mGi1W2DSk7tZ",
        "colab_type": "code",
        "colab": {}
      },
      "source": [
        "##drop12check\n",
        "train[\"t\"] = train.temperature_2m_above_ground.shift(periods  = -1)\n",
        "\n",
        "train[\"t_1\"] = train.temperature_2m_above_ground.shift(periods  = 1)\n",
        "train[\"t_2\"] = train.temperature_2m_above_ground.shift(periods  = 2)\n",
        "train[\"t_3\"] = train.temperature_2m_above_ground.shift(periods  = 3)\n",
        "train[\"t_4\"] = train.temperature_2m_above_ground.shift(periods  = 4)\n",
        "train[\"t_5\"] = train.temperature_2m_above_ground.shift(periods  = 5)\n",
        "\n",
        "test[\"t\"] = test.temperature_2m_above_ground.shift(periods  = -1)\n",
        "test[\"t_1\"] = test.temperature_2m_above_ground.shift(periods  = 1)\n",
        "test[\"t_2\"] = test.temperature_2m_above_ground.shift(periods  = 2)\n",
        "test[\"t_3\"] = test.temperature_2m_above_ground.shift(periods  = 3)\n",
        "test[\"t_4\"] = test.temperature_2m_above_ground.shift(periods  = 4)\n",
        "test[\"t_5\"] = test.temperature_2m_above_ground.shift(periods  = 5)"
      ],
      "execution_count": 0,
      "outputs": []
    },
    {
      "cell_type": "code",
      "metadata": {
        "id": "gthoSNB3FvCU",
        "colab_type": "code",
        "colab": {}
      },
      "source": [
        "# new fe\n",
        "\n",
        "train[\"l_1\"] = train.L3_O3_O3_effective_temperature.shift(periods  = 1)\n",
        "train[\"l_2\"] = train.L3_O3_O3_effective_temperature.shift(periods  = 2)\n",
        "train[\"l_3\"] = train.L3_O3_O3_effective_temperature.shift(periods  = 3)\n",
        "train[\"l_4\"] = train.L3_O3_O3_effective_temperature.shift(periods  = 4)\n",
        "train[\"l_5\"] = train.L3_O3_O3_effective_temperature.shift(periods  = 5)\n",
        "\n",
        "\n",
        "test[\"l_1\"] = test.L3_O3_O3_effective_temperature.shift(periods  = 1)\n",
        "test[\"l_2\"] = test.L3_O3_O3_effective_temperature.shift(periods  = 2)\n",
        "test[\"l_3\"] = test.L3_O3_O3_effective_temperature.shift(periods  = 3)\n",
        "test[\"l_4\"] = test.L3_O3_O3_effective_temperature.shift(periods  = 4)\n",
        "test[\"l_5\"] = test.L3_O3_O3_effective_temperature.shift(periods  = 5)"
      ],
      "execution_count": 0,
      "outputs": []
    },
    {
      "cell_type": "code",
      "metadata": {
        "id": "ofhDyEMhFr_v",
        "colab_type": "code",
        "colab": {}
      },
      "source": [
        "# fe part 2\n",
        "train[\"n_1\"] = train.L3_NO2_NO2_column_number_density.shift(periods  = 1)\n",
        "train[\"n_2\"] = train.L3_NO2_NO2_column_number_density.shift(periods  = 2)\n",
        "train[\"n_3\"] = train.L3_NO2_NO2_column_number_density.shift(periods  = 3)\n",
        "train[\"n_4\"] = train.L3_NO2_NO2_column_number_density.shift(periods  = 4)\n",
        "train[\"n_5\"] = train.L3_NO2_NO2_column_number_density.shift(periods  = 5)\n",
        "\n",
        "\n",
        "test[\"n_1\"] = test.L3_NO2_NO2_column_number_density.shift(periods  = 1)\n",
        "test[\"n_2\"] = test.L3_NO2_NO2_column_number_density.shift(periods  = 2)\n",
        "test[\"n_3\"] = test.L3_NO2_NO2_column_number_density.shift(periods  = 3)\n",
        "test[\"n_4\"] = test.L3_NO2_NO2_column_number_density.shift(periods  = 4)\n",
        "test[\"n_5\"] = test.L3_NO2_NO2_column_number_density.shift(periods  = 5)\n",
        "\n"
      ],
      "execution_count": 0,
      "outputs": []
    },
    {
      "cell_type": "code",
      "metadata": {
        "id": "RPcE3nHJFscw",
        "colab_type": "code",
        "colab": {}
      },
      "source": [
        "# fe part 3\n",
        "train[\"s_1\"] = train.L3_NO2_NO2_slant_column_number_density.shift(periods  = 1)\n",
        "train[\"s_2\"] = train.L3_NO2_NO2_slant_column_number_density.shift(periods  = 2)\n",
        "train[\"s_3\"] = train.L3_NO2_NO2_slant_column_number_density.shift(periods  = 3)\n",
        "train[\"s_4\"] = train.L3_NO2_NO2_slant_column_number_density.shift(periods  = 4)\n",
        "train[\"s_5\"] = train.L3_NO2_NO2_slant_column_number_density.shift(periods  = 5)\n",
        "\n",
        "\n",
        "test[\"s_1\"] = test.L3_NO2_NO2_slant_column_number_density.shift(periods  = 1)\n",
        "test[\"s_2\"] = test.L3_NO2_NO2_slant_column_number_density.shift(periods  = 2)\n",
        "test[\"s_3\"] = test.L3_NO2_NO2_slant_column_number_density.shift(periods  = 3)\n",
        "test[\"s_4\"] = test.L3_NO2_NO2_slant_column_number_density.shift(periods  = 4)\n",
        "test[\"s_5\"] = test.L3_NO2_NO2_slant_column_number_density.shift(periods  = 5)\n",
        "\n"
      ],
      "execution_count": 0,
      "outputs": []
    },
    {
      "cell_type": "code",
      "metadata": {
        "id": "Sj799lxNikwi",
        "colab_type": "code",
        "outputId": "4de9aeac-5826-4c09-e137-3517e65ee810",
        "colab": {
          "base_uri": "https://localhost:8080/",
          "height": 204
        }
      },
      "source": [
        "train.columns"
      ],
      "execution_count": 0,
      "outputs": [
        {
          "output_type": "execute_result",
          "data": {
            "text/plain": [
              "Index(['Date', 'precipitable_water_entire_atmosphere',\n",
              "       'relative_humidity_2m_above_ground',\n",
              "       'specific_humidity_2m_above_ground', 'temperature_2m_above_ground',\n",
              "       'u_component_of_wind_10m_above_ground',\n",
              "       'v_component_of_wind_10m_above_ground',\n",
              "       'L3_NO2_NO2_column_number_density',\n",
              "       'L3_NO2_NO2_slant_column_number_density',\n",
              "       'L3_NO2_absorbing_aerosol_index',\n",
              "       ...\n",
              "       'n_1', 'n_2', 'n_3', 'n_4', 'n_5', 's_1', 's_2', 's_3', 's_4', 's_5'],\n",
              "      dtype='object', length=222)"
            ]
          },
          "metadata": {
            "tags": []
          },
          "execution_count": 48
        }
      ]
    },
    {
      "cell_type": "code",
      "metadata": {
        "id": "rvkCf1tmiku1",
        "colab_type": "code",
        "colab": {}
      },
      "source": [
        "# fe after 31.362\n",
        "train[\"p_1\"] = train.L3_CLOUD_cloud_base_pressure.shift(periods  = 1)\n",
        "train[\"p_2\"] = train.L3_CLOUD_cloud_base_pressure.shift(periods  = 2)\n",
        "train[\"p_3\"] = train.L3_CLOUD_cloud_base_pressure.shift(periods  = 3)\n",
        "train[\"p_4\"] = train.L3_CLOUD_cloud_base_pressure.shift(periods  = 4)\n",
        "train[\"p_5\"] = train.L3_CLOUD_cloud_base_pressure.shift(periods  = 5)\n",
        "\n",
        "\n",
        "test[\"p_1\"] = test.L3_CLOUD_cloud_base_pressure.shift(periods  = 1)\n",
        "test[\"p_2\"] = test.L3_CLOUD_cloud_base_pressure.shift(periods  = 2)\n",
        "test[\"p_3\"] = test.L3_CLOUD_cloud_base_pressure.shift(periods  = 3)\n",
        "test[\"p_4\"] = test.L3_CLOUD_cloud_base_pressure.shift(periods  = 4)\n",
        "test[\"p_5\"] = test.L3_CLOUD_cloud_base_pressure.shift(periods  = 5)\n"
      ],
      "execution_count": 0,
      "outputs": []
    },
    {
      "cell_type": "code",
      "metadata": {
        "id": "j9_CIwY9nKfS",
        "colab_type": "code",
        "colab": {}
      },
      "source": [
        ""
      ],
      "execution_count": 0,
      "outputs": []
    },
    {
      "cell_type": "code",
      "metadata": {
        "id": "9-KB_yGDm-6v",
        "colab_type": "code",
        "colab": {}
      },
      "source": [
        "# #########################################new plenty\n",
        "train[\"y_1\"] = train.L3_SO2_SO2_slant_column_number_density.shift(periods  = 1)\n",
        "train[\"y_2\"] = train.L3_SO2_SO2_slant_column_number_density.shift(periods  = 2)\n",
        "train[\"y_3\"] = train.L3_SO2_SO2_slant_column_number_density.shift(periods  = 3)\n",
        "train[\"y_4\"] = train.L3_SO2_SO2_slant_column_number_density.shift(periods  = 4)\n",
        "train[\"y_5\"] = train.L3_SO2_SO2_slant_column_number_density.shift(periods  = 5)\n",
        "\n",
        "\n",
        "test[\"y_1\"] = test.L3_SO2_SO2_slant_column_number_density.shift(periods  = 1)\n",
        "test[\"y_2\"] = test.L3_SO2_SO2_slant_column_number_density.shift(periods  = 2)\n",
        "test[\"y_3\"] = test.L3_SO2_SO2_slant_column_number_density.shift(periods  = 3)\n",
        "test[\"y_4\"] = test.L3_SO2_SO2_slant_column_number_density.shift(periods  = 4)\n",
        "test[\"y_5\"] = test.L3_SO2_SO2_slant_column_number_density.shift(periods  = 5)\n",
        "\n",
        "\n",
        "# train[\"z_1\"] = train.L3_SO2_SO2_column_number_density_amf.shift(periods  = 1)\n",
        "# train[\"z_2\"] = train.L3_SO2_SO2_column_number_density_amf.shift(periods  = 2)\n",
        "# train[\"z_3\"] = train.L3_SO2_SO2_column_number_density_amf.shift(periods  = 3)\n",
        "# train[\"z_4\"] = train.L3_SO2_SO2_column_number_density_amf.shift(periods  = 4)\n",
        "# train[\"z_5\"] = train.L3_SO2_SO2_column_number_density_amf.shift(periods  = 5)\n",
        "\n",
        "\n",
        "# test[\"z_1\"] = test.L3_SO2_SO2_column_number_density_amf.shift(periods  = 1)\n",
        "# test[\"z_2\"] = test.L3_SO2_SO2_column_number_density_amf.shift(periods  = 2)\n",
        "# test[\"z_3\"] = test.L3_SO2_SO2_column_number_density_amf.shift(periods  = 3)\n",
        "# test[\"z_4\"] = test.L3_SO2_SO2_column_number_density_amf.shift(periods  = 4)\n",
        "# test[\"z_5\"] = test.L3_SO2_SO2_column_number_density_amf.shift(periods  = 5)\n",
        "\n",
        "\n",
        "\n",
        "train[\"z_1\"] = train.L3_HCHO_tropospheric_HCHO_column_number_density.shift(periods  = 1)\n",
        "train[\"z_2\"] = train.L3_HCHO_tropospheric_HCHO_column_number_density.shift(periods  = 2)\n",
        "train[\"z_3\"] = train.L3_HCHO_tropospheric_HCHO_column_number_density.shift(periods  = 3)\n",
        "train[\"z_4\"] = train.L3_HCHO_tropospheric_HCHO_column_number_density.shift(periods  = 4)\n",
        "train[\"z_5\"] = train.L3_HCHO_tropospheric_HCHO_column_number_density.shift(periods  = 5)\n",
        "\n",
        "\n",
        "test[\"z_1\"] = test.L3_HCHO_tropospheric_HCHO_column_number_density.shift(periods  = 1)\n",
        "test[\"z_2\"] = test.L3_HCHO_tropospheric_HCHO_column_number_density.shift(periods  = 2)\n",
        "test[\"z_3\"] = test.L3_HCHO_tropospheric_HCHO_column_number_density.shift(periods  = 3)\n",
        "test[\"z_4\"] = test.L3_HCHO_tropospheric_HCHO_column_number_density.shift(periods  = 4)\n",
        "test[\"z_5\"] = test.L3_HCHO_tropospheric_HCHO_column_number_density.shift(periods  = 5)"
      ],
      "execution_count": 0,
      "outputs": []
    },
    {
      "cell_type": "code",
      "metadata": {
        "id": "TCsOYvWBm_FY",
        "colab_type": "code",
        "colab": {}
      },
      "source": [
        "#######################newest1\n",
        "\n",
        "\n",
        "train[\"c_1\"] = train.L3_CO_CO_column_number_density.shift(periods  = 1)\n",
        "train[\"c_2\"] = train.L3_CO_CO_column_number_density.shift(periods  = 2)\n",
        "train[\"c_3\"] = train.L3_CO_CO_column_number_density.shift(periods  = 3)\n",
        "train[\"c_4\"] = train.L3_CO_CO_column_number_density.shift(periods  = 4)\n",
        "train[\"c_5\"] = train.L3_CO_CO_column_number_density.shift(periods  = 5)\n",
        "\n",
        "\n",
        "test[\"c_1\"] = test.L3_CO_CO_column_number_density.shift(periods  = 1)\n",
        "test[\"c_2\"] = test.L3_CO_CO_column_number_density.shift(periods  = 2)\n",
        "test[\"c_3\"] = test.L3_CO_CO_column_number_density.shift(periods  = 3)\n",
        "test[\"c_4\"] = test.L3_CO_CO_column_number_density.shift(periods  = 4)\n",
        "test[\"c_5\"] = test.L3_CO_CO_column_number_density.shift(periods  = 5)"
      ],
      "execution_count": 0,
      "outputs": []
    },
    {
      "cell_type": "code",
      "metadata": {
        "id": "VWgfL3pkgwkF",
        "colab_type": "code",
        "colab": {}
      },
      "source": [
        "# newest2\n",
        "train[\"a_1\"] = train.L3_NO2_tropopause_pressure.shift(periods  = 1)\n",
        "train[\"a_2\"] = train.L3_NO2_tropopause_pressure.shift(periods  = 2)\n",
        "train[\"a_3\"] = train.L3_NO2_tropopause_pressure.shift(periods  = 3)\n",
        "train[\"a_4\"] = train.L3_NO2_tropopause_pressure.shift(periods  = 4)\n",
        "train[\"a_5\"] = train.L3_NO2_tropopause_pressure.shift(periods  = 5)\n",
        "\n",
        "\n",
        "test[\"a_1\"] = test.L3_NO2_tropopause_pressure.shift(periods  = 1)\n",
        "test[\"a_2\"] = test.L3_NO2_tropopause_pressure.shift(periods  = 2)\n",
        "test[\"a_3\"] = test.L3_NO2_tropopause_pressure.shift(periods  = 3)\n",
        "test[\"a_4\"] = test.L3_NO2_tropopause_pressure.shift(periods  = 4)\n",
        "test[\"a_5\"] = test.L3_NO2_tropopause_pressure.shift(periods  = 5)"
      ],
      "execution_count": 0,
      "outputs": []
    },
    {
      "cell_type": "code",
      "metadata": {
        "id": "0jqtq95Em_Ja",
        "colab_type": "code",
        "colab": {}
      },
      "source": [
        "# from begnew\n",
        "train[\"d_1\"] = train.precipitable_water_entire_atmosphere.shift(periods  = 1)\n",
        "train[\"d_2\"] = train.precipitable_water_entire_atmosphere.shift(periods  = 2)\n",
        "train[\"d_3\"] = train.precipitable_water_entire_atmosphere.shift(periods  = 3)\n",
        "train[\"d_4\"] = train.precipitable_water_entire_atmosphere.shift(periods  = 4)\n",
        "train[\"d_5\"] = train.precipitable_water_entire_atmosphere.shift(periods  = 5)\n",
        "\n",
        "\n",
        "test[\"d_1\"] = test.precipitable_water_entire_atmosphere.shift(periods  = 1)\n",
        "test[\"d_2\"] = test.precipitable_water_entire_atmosphere.shift(periods  = 2)\n",
        "test[\"d_3\"] = test.precipitable_water_entire_atmosphere.shift(periods  = 3)\n",
        "test[\"d_4\"] = test.precipitable_water_entire_atmosphere.shift(periods  = 4)\n",
        "test[\"d_5\"] = test.precipitable_water_entire_atmosphere.shift(periods  = 5)"
      ],
      "execution_count": 0,
      "outputs": []
    },
    {
      "cell_type": "code",
      "metadata": {
        "id": "S8aCKuzUikoD",
        "colab_type": "code",
        "colab": {}
      },
      "source": [
        "# # trying sensor altitude\n",
        "# train[\"f_1\"] = train.L3_CLOUD_cloud_optical_depth.shift(periods  = 1)\n",
        "# train[\"f_2\"] = train.L3_CLOUD_cloud_optical_depth.shift(periods  = 2)\n",
        "# train[\"f_3\"] = train.L3_CLOUD_cloud_optical_depth.shift(periods  = 3)\n",
        "# train[\"f_4\"] = train.L3_CLOUD_cloud_optical_depth.shift(periods  = 4)\n",
        "# train[\"f_5\"] = train.L3_CLOUD_cloud_optical_depth.shift(periods  = 5)\n",
        "\n",
        "\n",
        "# test[\"f_1\"] = test.L3_CLOUD_cloud_optical_depth.shift(periods  = 1)\n",
        "# test[\"f_2\"] = test.L3_CLOUD_cloud_optical_depth.shift(periods  = 2)\n",
        "# test[\"f_3\"] = test.L3_CLOUD_cloud_optical_depth.shift(periods  = 3)\n",
        "# test[\"f_4\"] = test.L3_CLOUD_cloud_optical_depth.shift(periods  = 4)\n",
        "# test[\"f_5\"] = test.L3_CLOUD_cloud_optical_depth.shift(periods  = 5)\n",
        "\n",
        "\n",
        "# trying sensor altitude\n",
        "train[\"f_1\"] = train.L3_CO_CO_column_number_density.shift(periods  = -1)\n",
        "train[\"f_2\"] = train.L3_CO_CO_column_number_density.shift(periods  = -2)\n",
        "train[\"f_3\"] = train.L3_CO_CO_column_number_density.shift(periods  = -3)\n",
        "train[\"f_4\"] = train.L3_CO_CO_column_number_density.shift(periods  = -4)\n",
        "train[\"f_5\"] = train.L3_CO_CO_column_number_density.shift(periods  = -5)\n",
        "\n",
        "\n",
        "test[\"f_1\"] = test.L3_CO_CO_column_number_density.shift(periods  = -1)\n",
        "test[\"f_2\"] = test.L3_CO_CO_column_number_density.shift(periods  = -2)\n",
        "test[\"f_3\"] = test.L3_CO_CO_column_number_density.shift(periods  = -3)\n",
        "test[\"f_4\"] = test.L3_CO_CO_column_number_density.shift(periods  = -4)\n",
        "test[\"f_5\"] = test.L3_CO_CO_column_number_density.shift(periods  = -5)\n"
      ],
      "execution_count": 0,
      "outputs": []
    },
    {
      "cell_type": "code",
      "metadata": {
        "id": "DiLK582VZD33",
        "colab_type": "code",
        "colab": {}
      },
      "source": [
        "####################\n",
        "# reverse\n",
        "train[\"g_1\"] = train.L3_HCHO_tropospheric_HCHO_column_number_density.shift(periods  = -1)\n",
        "train[\"g_2\"] = train.L3_HCHO_tropospheric_HCHO_column_number_density.shift(periods  = -2)\n",
        "train[\"g_3\"] = train.L3_HCHO_tropospheric_HCHO_column_number_density.shift(periods  = -3)\n",
        "train[\"g_4\"] = train.L3_HCHO_tropospheric_HCHO_column_number_density.shift(periods  = -4)\n",
        "train[\"g_5\"] = train.L3_HCHO_tropospheric_HCHO_column_number_density.shift(periods  = -5)\n",
        "\n",
        "\n",
        "test[\"g_1\"] = test.L3_HCHO_tropospheric_HCHO_column_number_density.shift(periods  = -1)\n",
        "test[\"g_2\"] = test.L3_HCHO_tropospheric_HCHO_column_number_density.shift(periods  = -2)\n",
        "test[\"g_3\"] = test.L3_HCHO_tropospheric_HCHO_column_number_density.shift(periods  = -3)\n",
        "test[\"g_4\"] = test.L3_HCHO_tropospheric_HCHO_column_number_density.shift(periods  = -4)\n",
        "test[\"g_5\"] = test.L3_HCHO_tropospheric_HCHO_column_number_density.shift(periods  = -5)\n"
      ],
      "execution_count": 0,
      "outputs": []
    },
    {
      "cell_type": "code",
      "metadata": {
        "id": "Nb7CtIQ9m_IZ",
        "colab_type": "code",
        "colab": {}
      },
      "source": [
        "# Formula to convert F to C is: [°C] = ([°F] - 32) × 5/9\n",
        "train['temperature_2m_above_ground'] = (train.temperature_2m_above_ground - 32) * 5.0/9.0\n",
        "train['t_1'] = (train.t_1 - 32) * 5.0/9.0\n",
        "\n",
        "# Formula to convert F to C is: [°C] = ([°F] - 32) × 5/9\n",
        "test['temperature_2m_above_ground'] = (test.temperature_2m_above_ground - 32) * 5.0/9.0\n",
        "test['t_1'] = (test.t_1 - 32) * 5.0/9.0\n"
      ],
      "execution_count": 0,
      "outputs": []
    },
    {
      "cell_type": "code",
      "metadata": {
        "id": "XFM2_iGPc2FG",
        "colab_type": "code",
        "colab": {}
      },
      "source": [
        "train['day_week'] = train['Date'].dt.weekday\n",
        "\n",
        "test['day_week'] = test['Date'].dt.weekday\n",
        "\n"
      ],
      "execution_count": 0,
      "outputs": []
    },
    {
      "cell_type": "code",
      "metadata": {
        "id": "ilCnb225qoUU",
        "colab_type": "code",
        "colab": {}
      },
      "source": [
        "train[\"day\"] = train.Date.dt.day\n",
        "test[\"day\"] = test.Date.dt.day"
      ],
      "execution_count": 0,
      "outputs": []
    },
    {
      "cell_type": "code",
      "metadata": {
        "id": "GoEblZ6tqeVh",
        "colab_type": "code",
        "colab": {}
      },
      "source": [
        ""
      ],
      "execution_count": 0,
      "outputs": []
    },
    {
      "cell_type": "code",
      "metadata": {
        "id": "MbNq8iL6PkIV",
        "colab_type": "code",
        "colab": {}
      },
      "source": [
        "def calculate_si(so2):\n",
        "    si=0\n",
        "    if (so2<=40):\n",
        "     si= so2*(50/40)\n",
        "    elif (so2>40 and so2<=80):\n",
        "     si= 50+(so2-40)*(50/40)\n",
        "    elif (so2>80 and so2<=380):\n",
        "     si= 100+(so2-80)*(100/300)\n",
        "    elif (so2>380 and so2<=800):\n",
        "     si= 200+(so2-380)*(100/420)\n",
        "    elif (so2>800 and so2<=1600):\n",
        "     si= 300+(so2-800)*(100/800)\n",
        "    elif (so2>1600):\n",
        "     si= 400+(so2-1600)*(100/800)\n",
        "    return si\n"
      ],
      "execution_count": 0,
      "outputs": []
    },
    {
      "cell_type": "code",
      "metadata": {
        "id": "NQsGQKSSdj68",
        "colab_type": "code",
        "colab": {}
      },
      "source": [
        "train['si']=train['L3_SO2_cloud_fraction'].apply(calculate_si)\n",
        "test['si']=test['L3_SO2_cloud_fraction'].apply(calculate_si)\n"
      ],
      "execution_count": 0,
      "outputs": []
    },
    {
      "cell_type": "code",
      "metadata": {
        "id": "d1gzySQLvnZL",
        "colab_type": "code",
        "colab": {}
      },
      "source": [
        ""
      ],
      "execution_count": 0,
      "outputs": []
    },
    {
      "cell_type": "code",
      "metadata": {
        "id": "mhJsw7-EtwRg",
        "colab_type": "code",
        "outputId": "1ad0fb57-506e-422d-bfc6-47e8bdeb6bec",
        "colab": {
          "base_uri": "https://localhost:8080/",
          "height": 221
        }
      },
      "source": [
        "train.columns"
      ],
      "execution_count": 0,
      "outputs": [
        {
          "output_type": "execute_result",
          "data": {
            "text/plain": [
              "Index(['Date', 'precipitable_water_entire_atmosphere',\n",
              "       'relative_humidity_2m_above_ground',\n",
              "       'specific_humidity_2m_above_ground', 'temperature_2m_above_ground',\n",
              "       'u_component_of_wind_10m_above_ground',\n",
              "       'v_component_of_wind_10m_above_ground',\n",
              "       'L3_NO2_NO2_column_number_density',\n",
              "       'L3_NO2_NO2_slant_column_number_density',\n",
              "       'L3_NO2_absorbing_aerosol_index',\n",
              "       ...\n",
              "       'f_4', 'f_5', 'g_1', 'g_2', 'g_3', 'g_4', 'g_5', 'day_week', 'day',\n",
              "       'si'],\n",
              "      dtype='object', length=265)"
            ]
          },
          "metadata": {
            "tags": []
          },
          "execution_count": 68
        }
      ]
    },
    {
      "cell_type": "code",
      "metadata": {
        "id": "C5z_2kZ_PkS4",
        "colab_type": "code",
        "colab": {}
      },
      "source": [
        "X = train.drop([ 'Date'],axis  =1)"
      ],
      "execution_count": 0,
      "outputs": []
    },
    {
      "cell_type": "code",
      "metadata": {
        "id": "FdcaGfIBrZun",
        "colab_type": "code",
        "outputId": "f1c54aef-f8a4-45b9-e941-969ccffb02fe",
        "colab": {
          "base_uri": "https://localhost:8080/",
          "height": 221
        }
      },
      "source": [
        "X.isnull().sum()"
      ],
      "execution_count": 0,
      "outputs": [
        {
          "output_type": "execute_result",
          "data": {
            "text/plain": [
              "precipitable_water_entire_atmosphere       0\n",
              "relative_humidity_2m_above_ground          0\n",
              "specific_humidity_2m_above_ground          0\n",
              "temperature_2m_above_ground                0\n",
              "u_component_of_wind_10m_above_ground       0\n",
              "                                        ... \n",
              "g_4                                     7428\n",
              "g_5                                     7429\n",
              "day_week                                   0\n",
              "day                                        0\n",
              "si                                         0\n",
              "Length: 264, dtype: int64"
            ]
          },
          "metadata": {
            "tags": []
          },
          "execution_count": 70
        }
      ]
    },
    {
      "cell_type": "code",
      "metadata": {
        "id": "Yrq_dUNySeQd",
        "colab_type": "code",
        "outputId": "4d1c9e2b-9903-4438-f7b4-35f33d6df026",
        "colab": {
          "base_uri": "https://localhost:8080/",
          "height": 343
        }
      },
      "source": [
        "!pip install catboost"
      ],
      "execution_count": 0,
      "outputs": [
        {
          "output_type": "stream",
          "text": [
            "Collecting catboost\n",
            "\u001b[?25l  Downloading https://files.pythonhosted.org/packages/94/ec/12b9a42b2ea7dfe5b602f235692ab2b61ee1334ff34334a15902272869e8/catboost-0.22-cp36-none-manylinux1_x86_64.whl (64.4MB)\n",
            "\u001b[K     |████████████████████████████████| 64.4MB 49kB/s \n",
            "\u001b[?25hRequirement already satisfied: numpy>=1.16.0 in /usr/local/lib/python3.6/dist-packages (from catboost) (1.18.2)\n",
            "Requirement already satisfied: six in /usr/local/lib/python3.6/dist-packages (from catboost) (1.12.0)\n",
            "Requirement already satisfied: scipy in /usr/local/lib/python3.6/dist-packages (from catboost) (1.4.1)\n",
            "Requirement already satisfied: pandas>=0.24.0 in /usr/local/lib/python3.6/dist-packages (from catboost) (1.0.3)\n",
            "Requirement already satisfied: plotly in /usr/local/lib/python3.6/dist-packages (from catboost) (4.4.1)\n",
            "Requirement already satisfied: matplotlib in /usr/local/lib/python3.6/dist-packages (from catboost) (3.2.1)\n",
            "Requirement already satisfied: graphviz in /usr/local/lib/python3.6/dist-packages (from catboost) (0.10.1)\n",
            "Requirement already satisfied: python-dateutil>=2.6.1 in /usr/local/lib/python3.6/dist-packages (from pandas>=0.24.0->catboost) (2.8.1)\n",
            "Requirement already satisfied: pytz>=2017.2 in /usr/local/lib/python3.6/dist-packages (from pandas>=0.24.0->catboost) (2018.9)\n",
            "Requirement already satisfied: retrying>=1.3.3 in /usr/local/lib/python3.6/dist-packages (from plotly->catboost) (1.3.3)\n",
            "Requirement already satisfied: pyparsing!=2.0.4,!=2.1.2,!=2.1.6,>=2.0.1 in /usr/local/lib/python3.6/dist-packages (from matplotlib->catboost) (2.4.7)\n",
            "Requirement already satisfied: kiwisolver>=1.0.1 in /usr/local/lib/python3.6/dist-packages (from matplotlib->catboost) (1.2.0)\n",
            "Requirement already satisfied: cycler>=0.10 in /usr/local/lib/python3.6/dist-packages (from matplotlib->catboost) (0.10.0)\n",
            "Installing collected packages: catboost\n",
            "Successfully installed catboost-0.22\n"
          ],
          "name": "stdout"
        }
      ]
    },
    {
      "cell_type": "code",
      "metadata": {
        "id": "qJWszLZnRn-4",
        "colab_type": "code",
        "outputId": "e0252872-73bc-4d2c-fa18-2abbba7da399",
        "colab": {
          "base_uri": "https://localhost:8080/",
          "height": 408
        }
      },
      "source": [
        "from catboost import CatBoostRegressor\n",
        "errcb2=[]\n",
        "y_pred_totcb2=[]\n",
        "from sklearn.model_selection import KFold,StratifiedKFold, TimeSeriesSplit\n",
        "from sklearn.metrics import mean_squared_error\n",
        "fold=KFold(n_splits=10)#15#5#10\n",
        "i=1\n",
        "for train_index, test_index in fold.split(X,y):\n",
        "    X_train, X_test = X.iloc[train_index], X.iloc[test_index]\n",
        "    y_train, y_test = y.iloc[train_index], y.iloc[test_index]\n",
        "   \n",
        "    m2  = CatBoostRegressor(   n_estimators=4500,eval_metric='RMSE',learning_rate=0.1, random_seed= 1234, use_best_model=True )\n",
        "    #m2 = XGBRegressor()\n",
        "    m2.fit(X_train,y_train,eval_set=[(X_train,y_train),(X_test, y_test)], early_stopping_rounds=200,verbose=100,)#erly100\n",
        "    preds=m2.predict(X_test)\n",
        "    print(\"err: \",np.sqrt(mean_squared_error(y_test,preds)))\n",
        "    errcb2.append(np.sqrt(mean_squared_error(y_test,preds)))\n",
        "    p2 = m2.predict(test.drop([ 'Date'],axis =1))\n",
        "    y_pred_totcb2.append(p2)\n",
        "np.mean(errcb2)"
      ],
      "execution_count": 0,
      "outputs": [
        {
          "output_type": "stream",
          "text": [
            "0:\tlearn: 44.3880536\ttest: 44.3880536\ttest1: 37.7329972\tbest: 37.7329972 (0)\ttotal: 153ms\tremaining: 11m 26s\n",
            "100:\tlearn: 21.5051417\ttest: 21.5051417\ttest1: 25.0022628\tbest: 25.0022628 (100)\ttotal: 9.05s\tremaining: 6m 34s\n",
            "200:\tlearn: 18.8019953\ttest: 18.8019953\ttest1: 24.4736876\tbest: 24.4736876 (200)\ttotal: 17.7s\tremaining: 6m 17s\n",
            "300:\tlearn: 17.1455512\ttest: 17.1455512\ttest1: 24.2570754\tbest: 24.2570754 (300)\ttotal: 26.4s\tremaining: 6m 8s\n",
            "400:\tlearn: 15.9313951\ttest: 15.9313951\ttest1: 23.9650597\tbest: 23.9650597 (400)\ttotal: 35.2s\tremaining: 6m\n",
            "500:\tlearn: 14.9161995\ttest: 14.9161995\ttest1: 23.7574974\tbest: 23.7574974 (500)\ttotal: 43.9s\tremaining: 5m 50s\n",
            "600:\tlearn: 14.0597114\ttest: 14.0597114\ttest1: 23.5889291\tbest: 23.5801496 (599)\ttotal: 52.6s\tremaining: 5m 41s\n",
            "700:\tlearn: 13.3193108\ttest: 13.3193108\ttest1: 23.5151811\tbest: 23.4935680 (673)\ttotal: 1m 1s\tremaining: 5m 32s\n",
            "800:\tlearn: 12.6366272\ttest: 12.6366272\ttest1: 23.4293073\tbest: 23.4055719 (774)\ttotal: 1m 10s\tremaining: 5m 24s\n",
            "900:\tlearn: 12.0307270\ttest: 12.0307270\ttest1: 23.3857436\tbest: 23.3595999 (867)\ttotal: 1m 19s\tremaining: 5m 15s\n",
            "1000:\tlearn: 11.4882094\ttest: 11.4882094\ttest1: 23.2989115\tbest: 23.2989115 (1000)\ttotal: 1m 27s\tremaining: 5m 7s\n",
            "1100:\tlearn: 10.9831607\ttest: 10.9831607\ttest1: 23.2412734\tbest: 23.2233635 (1082)\ttotal: 1m 36s\tremaining: 4m 58s\n",
            "1200:\tlearn: 10.5015135\ttest: 10.5015135\ttest1: 23.2043056\tbest: 23.2039707 (1199)\ttotal: 1m 45s\tremaining: 4m 49s\n",
            "1300:\tlearn: 10.0693275\ttest: 10.0693275\ttest1: 23.1833126\tbest: 23.1833126 (1300)\ttotal: 1m 54s\tremaining: 4m 40s\n",
            "1400:\tlearn: 9.6679237\ttest: 9.6679237\ttest1: 23.1642338\tbest: 23.1318454 (1381)\ttotal: 2m 3s\tremaining: 4m 32s\n",
            "1500:\tlearn: 9.2837522\ttest: 9.2837522\ttest1: 23.1499266\tbest: 23.1318454 (1381)\ttotal: 2m 11s\tremaining: 4m 23s\n",
            "1600:\tlearn: 8.9238296\ttest: 8.9238296\ttest1: 23.1076876\tbest: 23.1076876 (1600)\ttotal: 2m 20s\tremaining: 4m 14s\n",
            "1700:\tlearn: 8.5797396\ttest: 8.5797396\ttest1: 23.0824841\tbest: 23.0811210 (1699)\ttotal: 2m 29s\tremaining: 4m 6s\n",
            "1800:\tlearn: 8.2682036\ttest: 8.2682036\ttest1: 23.0901967\tbest: 23.0791184 (1714)\ttotal: 2m 38s\tremaining: 3m 57s\n",
            "1900:\tlearn: 7.9690594\ttest: 7.9690594\ttest1: 23.0561446\tbest: 23.0542713 (1898)\ttotal: 2m 47s\tremaining: 3m 48s\n",
            "2000:\tlearn: 7.6758453\ttest: 7.6758453\ttest1: 23.0271303\tbest: 23.0224937 (1996)\ttotal: 2m 56s\tremaining: 3m 39s\n",
            "2100:\tlearn: 7.4066385\ttest: 7.4066385\ttest1: 23.0086707\tbest: 23.0086707 (2100)\ttotal: 3m 4s\tremaining: 3m 31s\n",
            "2200:\tlearn: 7.1441819\ttest: 7.1441819\ttest1: 22.9952255\tbest: 22.9952255 (2200)\ttotal: 3m 13s\tremaining: 3m 22s\n"
          ],
          "name": "stdout"
        }
      ]
    },
    {
      "cell_type": "code",
      "metadata": {
        "id": "TWA3SUvxRn9B",
        "colab_type": "code",
        "colab": {}
      },
      "source": [
        "np.mean(errcb2)"
      ],
      "execution_count": 0,
      "outputs": []
    },
    {
      "cell_type": "code",
      "metadata": {
        "id": "pym1A05Us19F",
        "colab_type": "code",
        "colab": {}
      },
      "source": [
        ""
      ],
      "execution_count": 0,
      "outputs": []
    },
    {
      "cell_type": "code",
      "metadata": {
        "id": "GzpHt7vnSu29",
        "colab_type": "code",
        "colab": {}
      },
      "source": [
        "d = {'Place_ID X Date': test_id, 'target': np.mean(y_pred_totcb2, 0)}\n",
        "sub = pd.DataFrame(data=d)\n",
        "sub = sub[['Place_ID X Date', 'target']]"
      ],
      "execution_count": 0,
      "outputs": []
    },
    {
      "cell_type": "code",
      "metadata": {
        "id": "SGleXaCxvg5o",
        "colab_type": "code",
        "colab": {}
      },
      "source": [
        "#sub.target = np.abs(sub.target)"
      ],
      "execution_count": 0,
      "outputs": []
    },
    {
      "cell_type": "code",
      "metadata": {
        "id": "yk65rkCYtBhM",
        "colab_type": "code",
        "colab": {}
      },
      "source": [
        "sub.target.min(),sub.target.max()"
      ],
      "execution_count": 0,
      "outputs": []
    },
    {
      "cell_type": "code",
      "metadata": {
        "id": "5CrG05G7Sq_k",
        "colab_type": "code",
        "colab": {}
      },
      "source": [
        "sub.to_csv(\"lastagg.csv\",index  = False)"
      ],
      "execution_count": 0,
      "outputs": []
    },
    {
      "cell_type": "code",
      "metadata": {
        "id": "K_cz1QhPS5il",
        "colab_type": "code",
        "colab": {}
      },
      "source": [
        "from google.colab import files"
      ],
      "execution_count": 0,
      "outputs": []
    },
    {
      "cell_type": "code",
      "metadata": {
        "id": "rB22TivcS5qs",
        "colab_type": "code",
        "colab": {}
      },
      "source": [
        "files.download(\"lastagg.csv\")"
      ],
      "execution_count": 0,
      "outputs": []
    },
    {
      "cell_type": "code",
      "metadata": {
        "id": "201G_RJHRUFl",
        "colab_type": "code",
        "colab": {}
      },
      "source": [
        "sub"
      ],
      "execution_count": 0,
      "outputs": []
    },
    {
      "cell_type": "code",
      "metadata": {
        "id": "Zq4Ez6uNYfPl",
        "colab_type": "code",
        "colab": {}
      },
      "source": [
        ""
      ],
      "execution_count": 0,
      "outputs": []
    }
  ]
}
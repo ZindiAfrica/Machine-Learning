{
  "nbformat": 4,
  "nbformat_minor": 0,
  "metadata": {
    "colab": {
      "name": "26.791notebookcleaned.ipynb",
      "provenance": [],
      "collapsed_sections": []
    },
    "kernelspec": {
      "name": "python3",
      "display_name": "Python 3"
    },
    "accelerator": "GPU"
  },
  "cells": [
    {
      "cell_type": "code",
      "metadata": {
        "id": "KYdbYAwHOXH8",
        "colab_type": "code",
        "colab": {
          "base_uri": "https://localhost:8080/",
          "height": 72
        },
        "outputId": "aaf148f3-799f-4b02-df7b-625e2f05d8ed"
      },
      "source": [
        "## Reading libraries\n",
        "import pandas as pd\n",
        "import seaborn as sns\n",
        "import matplotlib.pyplot as plt\n",
        "import numpy as np\n",
        "from sklearn.cluster import KMeans\n",
        "from sklearn.model_selection import KFold\n",
        "from xgboost import XGBRegressor\n",
        "from sklearn.metrics import mean_squared_error\n",
        "from sklearn.decomposition import PCA\n",
        "import warnings\n",
        "from sklearn import metrics\n",
        "from sklearn.metrics import mean_squared_error,log_loss\n",
        "from sklearn.model_selection import KFold,StratifiedKFold,GridSearchCV,RandomizedSearchCV\n",
        "from sklearn.preprocessing import LabelEncoder,OneHotEncoder\n",
        "import lightgbm as lgb\n",
        "from xgboost import XGBRegressor\n",
        "import requests\n",
        "from io import StringIO \n",
        "%matplotlib inline\n"
      ],
      "execution_count": 1,
      "outputs": [
        {
          "output_type": "stream",
          "text": [
            "/usr/local/lib/python3.6/dist-packages/statsmodels/tools/_testing.py:19: FutureWarning: pandas.util.testing is deprecated. Use the functions in the public API at pandas.testing instead.\n",
            "  import pandas.util.testing as tm\n"
          ],
          "name": "stderr"
        }
      ]
    },
    {
      "cell_type": "code",
      "metadata": {
        "id": "56-pFGoxPuOZ",
        "colab_type": "code",
        "colab": {}
      },
      "source": [
        "# !pip install datasist\n",
        "# Google drive links to shared submission and training datasets\n",
        "#\n",
        "submission = 'https://drive.google.com/file/d/1oZEf3hLwMKWCrVPlQIPtBmuOsaZpwQti/view?usp=sharing'\n",
        "train = 'https://drive.google.com/file/d/1ezXTArPnr6jzvqjAy2YiMyvlw3FSmlZm/view?usp=sharing'\n",
        "test  = \"https://drive.google.com/file/d/1JR0Qq0QtAg2EGZIdVDy1wwmU_s8iXjFs/view?usp=sharing\"\n",
        "windmag   =\"https://drive.google.com/file/d/1IQeNwslHTmIrOPJBqSB2XFwhQADa_JVG/view?usp=sharing\"\n",
        "agg = \"https://drive.google.com/file/d/1wVLrTHJxFWZAah02bsBIw8CV5fDxEmbu/view?usp=sharing\"\n",
        "# Creating a function to read a csv file shared via google\n",
        "#\n",
        "def read_csv(url):\n",
        "  url = 'https://drive.google.com/uc?export=download&id=' + url.split('/')[-2]\n",
        "  csv_raw = requests.get(url).text\n",
        "  csv = StringIO(csv_raw)\n",
        "  df = pd.read_csv(csv)\n",
        "  return df"
      ],
      "execution_count": 0,
      "outputs": []
    },
    {
      "cell_type": "code",
      "metadata": {
        "id": "mPmxErExPkB5",
        "colab_type": "code",
        "colab": {}
      },
      "source": [
        "sample_sub = read_csv(submission)\n",
        "train = read_csv(train)\n",
        "test  = read_csv(test)\n",
        "wind  = read_csv(windmag)\n",
        "agg  = read_csv(agg)"
      ],
      "execution_count": 0,
      "outputs": []
    },
    {
      "cell_type": "code",
      "metadata": {
        "id": "Nf3Q9VwgQvrN",
        "colab_type": "code",
        "colab": {}
      },
      "source": [
        "train =  train[train.target <= 600]\n"
      ],
      "execution_count": 0,
      "outputs": []
    },
    {
      "cell_type": "code",
      "metadata": {
        "id": "4jmV9MiyPODx",
        "colab_type": "code",
        "colab": {}
      },
      "source": [
        "y = train['target']\n"
      ],
      "execution_count": 0,
      "outputs": []
    },
    {
      "cell_type": "code",
      "metadata": {
        "id": "g-LEF7BDMWNs",
        "colab_type": "code",
        "colab": {}
      },
      "source": [
        "train = train.merge(agg, on='Place_ID', how='left')"
      ],
      "execution_count": 0,
      "outputs": []
    },
    {
      "cell_type": "code",
      "metadata": {
        "id": "W6ABd0e_MJg2",
        "colab_type": "code",
        "colab": {}
      },
      "source": [
        "test  = test.merge(agg, on='Place_ID', how='left')"
      ],
      "execution_count": 0,
      "outputs": []
    },
    {
      "cell_type": "code",
      "metadata": {
        "id": "m4eZksmkPAAS",
        "colab_type": "code",
        "colab": {}
      },
      "source": [
        "train.drop(['Place_ID X Date', 'Place_ID', 'target', 'target_min',\n",
        "       'target_max', 'target_variance', 'target_count'],axis  =1,inplace  = True)"
      ],
      "execution_count": 0,
      "outputs": []
    },
    {
      "cell_type": "code",
      "metadata": {
        "id": "uG6Wm498PyaI",
        "colab_type": "code",
        "colab": {}
      },
      "source": [
        "test_id  = test['Place_ID X Date']"
      ],
      "execution_count": 0,
      "outputs": []
    },
    {
      "cell_type": "code",
      "metadata": {
        "id": "cW01xCPzP-Ch",
        "colab_type": "code",
        "colab": {}
      },
      "source": [
        "test.drop(['Place_ID X Date', 'Place_ID'],axis  =1,inplace  = True)"
      ],
      "execution_count": 0,
      "outputs": []
    },
    {
      "cell_type": "code",
      "metadata": {
        "id": "_v6ydwN3PAFP",
        "colab_type": "code",
        "outputId": "2c884c0e-bbd8-42be-d702-5a87a060ff47",
        "colab": {
          "base_uri": "https://localhost:8080/",
          "height": 35
        }
      },
      "source": [
        "train.shape,test.shape"
      ],
      "execution_count": 0,
      "outputs": [
        {
          "output_type": "execute_result",
          "data": {
            "text/plain": [
              "((30552, 667), (16136, 667))"
            ]
          },
          "metadata": {
            "tags": []
          },
          "execution_count": 89
        }
      ]
    },
    {
      "cell_type": "code",
      "metadata": {
        "id": "hGWibFonNTGp",
        "colab_type": "code",
        "colab": {}
      },
      "source": [
        "col200   = (train.iloc[:,:200]).columns\n"
      ],
      "execution_count": 0,
      "outputs": []
    },
    {
      "cell_type": "code",
      "metadata": {
        "id": "mM-xd2olOhEt",
        "colab_type": "code",
        "colab": {}
      },
      "source": [
        "train  = train[col200]"
      ],
      "execution_count": 0,
      "outputs": []
    },
    {
      "cell_type": "code",
      "metadata": {
        "id": "Nio7NJIdN9do",
        "colab_type": "code",
        "colab": {}
      },
      "source": [
        "test = test[col200]"
      ],
      "execution_count": 0,
      "outputs": []
    },
    {
      "cell_type": "code",
      "metadata": {
        "id": "677-gVydD9Km",
        "colab_type": "code",
        "outputId": "b589bf63-2562-4b71-e7fd-57d9fde67e87",
        "colab": {
          "base_uri": "https://localhost:8080/",
          "height": 35
        }
      },
      "source": [
        "test.shape"
      ],
      "execution_count": 0,
      "outputs": [
        {
          "output_type": "execute_result",
          "data": {
            "text/plain": [
              "(16136, 200)"
            ]
          },
          "metadata": {
            "tags": []
          },
          "execution_count": 93
        }
      ]
    },
    {
      "cell_type": "code",
      "metadata": {
        "id": "0IqJZEh0D9dZ",
        "colab_type": "code",
        "colab": {}
      },
      "source": [
        ""
      ],
      "execution_count": 0,
      "outputs": []
    },
    {
      "cell_type": "code",
      "metadata": {
        "id": "VtYbpDtqdlDx",
        "colab_type": "code",
        "colab": {}
      },
      "source": [
        "from datetime import datetime\n",
        "\n",
        "train['Date'] = pd.to_datetime(train['Date'])\n",
        "test['Date'] = pd.to_datetime(test['Date'])"
      ],
      "execution_count": 0,
      "outputs": []
    },
    {
      "cell_type": "code",
      "metadata": {
        "id": "vELnyyGJhAB-",
        "colab_type": "code",
        "colab": {}
      },
      "source": [
        "train[\"month\"] =  train.Date.dt.month\n",
        "\n",
        "test[\"month\"] =  test.Date.dt.month\n"
      ],
      "execution_count": 0,
      "outputs": []
    },
    {
      "cell_type": "code",
      "metadata": {
        "id": "lDrAlr59UHiF",
        "colab_type": "code",
        "colab": {}
      },
      "source": [
        ""
      ],
      "execution_count": 0,
      "outputs": []
    },
    {
      "cell_type": "code",
      "metadata": {
        "id": "mGi1W2DSk7tZ",
        "colab_type": "code",
        "colab": {}
      },
      "source": [
        "train[\"t\"] = train.temperature_2m_above_ground.shift(periods  = -1)\n",
        "\n",
        "train[\"t_1\"] = train.temperature_2m_above_ground.shift(periods  = 1)\n",
        "train[\"t_2\"] = train.temperature_2m_above_ground.shift(periods  = 2)\n",
        "train[\"t_3\"] = train.temperature_2m_above_ground.shift(periods  = 3)\n",
        "train[\"t_4\"] = train.temperature_2m_above_ground.shift(periods  = 4)\n",
        "train[\"t_5\"] = train.temperature_2m_above_ground.shift(periods  = 5)\n",
        "\n",
        "test[\"t\"] = test.temperature_2m_above_ground.shift(periods  = -1)\n",
        "test[\"t_1\"] = test.temperature_2m_above_ground.shift(periods  = 1)\n",
        "test[\"t_2\"] = test.temperature_2m_above_ground.shift(periods  = 2)\n",
        "test[\"t_3\"] = test.temperature_2m_above_ground.shift(periods  = 3)\n",
        "test[\"t_4\"] = test.temperature_2m_above_ground.shift(periods  = 4)\n",
        "test[\"t_5\"] = test.temperature_2m_above_ground.shift(periods  = 5)"
      ],
      "execution_count": 0,
      "outputs": []
    },
    {
      "cell_type": "code",
      "metadata": {
        "id": "gthoSNB3FvCU",
        "colab_type": "code",
        "colab": {}
      },
      "source": [
        "# new fe\n",
        "\n",
        "train[\"l_1\"] = train.L3_O3_O3_effective_temperature.shift(periods  = 1)\n",
        "train[\"l_2\"] = train.L3_O3_O3_effective_temperature.shift(periods  = 2)\n",
        "train[\"l_3\"] = train.L3_O3_O3_effective_temperature.shift(periods  = 3)\n",
        "train[\"l_4\"] = train.L3_O3_O3_effective_temperature.shift(periods  = 4)\n",
        "train[\"l_5\"] = train.L3_O3_O3_effective_temperature.shift(periods  = 5)\n",
        "\n",
        "\n",
        "test[\"l_1\"] = test.L3_O3_O3_effective_temperature.shift(periods  = 1)\n",
        "test[\"l_2\"] = test.L3_O3_O3_effective_temperature.shift(periods  = 2)\n",
        "test[\"l_3\"] = test.L3_O3_O3_effective_temperature.shift(periods  = 3)\n",
        "test[\"l_4\"] = test.L3_O3_O3_effective_temperature.shift(periods  = 4)\n",
        "test[\"l_5\"] = test.L3_O3_O3_effective_temperature.shift(periods  = 5)"
      ],
      "execution_count": 0,
      "outputs": []
    },
    {
      "cell_type": "code",
      "metadata": {
        "id": "ofhDyEMhFr_v",
        "colab_type": "code",
        "colab": {}
      },
      "source": [
        "# fe part 2\n",
        "train[\"n_1\"] = train.L3_NO2_NO2_column_number_density.shift(periods  = 1)\n",
        "train[\"n_2\"] = train.L3_NO2_NO2_column_number_density.shift(periods  = 2)\n",
        "train[\"n_3\"] = train.L3_NO2_NO2_column_number_density.shift(periods  = 3)\n",
        "train[\"n_4\"] = train.L3_NO2_NO2_column_number_density.shift(periods  = 4)\n",
        "train[\"n_5\"] = train.L3_NO2_NO2_column_number_density.shift(periods  = 5)\n",
        "\n",
        "\n",
        "test[\"n_1\"] = test.L3_NO2_NO2_column_number_density.shift(periods  = 1)\n",
        "test[\"n_2\"] = test.L3_NO2_NO2_column_number_density.shift(periods  = 2)\n",
        "test[\"n_3\"] = test.L3_NO2_NO2_column_number_density.shift(periods  = 3)\n",
        "test[\"n_4\"] = test.L3_NO2_NO2_column_number_density.shift(periods  = 4)\n",
        "test[\"n_5\"] = test.L3_NO2_NO2_column_number_density.shift(periods  = 5)\n",
        "\n"
      ],
      "execution_count": 0,
      "outputs": []
    },
    {
      "cell_type": "code",
      "metadata": {
        "id": "RPcE3nHJFscw",
        "colab_type": "code",
        "colab": {}
      },
      "source": [
        "# fe part 3\n",
        "train[\"s_1\"] = train.L3_NO2_NO2_slant_column_number_density.shift(periods  = 1)\n",
        "train[\"s_2\"] = train.L3_NO2_NO2_slant_column_number_density.shift(periods  = 2)\n",
        "train[\"s_3\"] = train.L3_NO2_NO2_slant_column_number_density.shift(periods  = 3)\n",
        "train[\"s_4\"] = train.L3_NO2_NO2_slant_column_number_density.shift(periods  = 4)\n",
        "train[\"s_5\"] = train.L3_NO2_NO2_slant_column_number_density.shift(periods  = 5)\n",
        "\n",
        "\n",
        "test[\"s_1\"] = test.L3_NO2_NO2_slant_column_number_density.shift(periods  = 1)\n",
        "test[\"s_2\"] = test.L3_NO2_NO2_slant_column_number_density.shift(periods  = 2)\n",
        "test[\"s_3\"] = test.L3_NO2_NO2_slant_column_number_density.shift(periods  = 3)\n",
        "test[\"s_4\"] = test.L3_NO2_NO2_slant_column_number_density.shift(periods  = 4)\n",
        "test[\"s_5\"] = test.L3_NO2_NO2_slant_column_number_density.shift(periods  = 5)\n",
        "\n"
      ],
      "execution_count": 0,
      "outputs": []
    },
    {
      "cell_type": "code",
      "metadata": {
        "id": "rvkCf1tmiku1",
        "colab_type": "code",
        "colab": {}
      },
      "source": [
        "# fe after 31.362\n",
        "train[\"p_1\"] = train.L3_CLOUD_cloud_base_pressure.shift(periods  = 1)\n",
        "train[\"p_2\"] = train.L3_CLOUD_cloud_base_pressure.shift(periods  = 2)\n",
        "train[\"p_3\"] = train.L3_CLOUD_cloud_base_pressure.shift(periods  = 3)\n",
        "train[\"p_4\"] = train.L3_CLOUD_cloud_base_pressure.shift(periods  = 4)\n",
        "train[\"p_5\"] = train.L3_CLOUD_cloud_base_pressure.shift(periods  = 5)\n",
        "\n",
        "\n",
        "test[\"p_1\"] = test.L3_CLOUD_cloud_base_pressure.shift(periods  = 1)\n",
        "test[\"p_2\"] = test.L3_CLOUD_cloud_base_pressure.shift(periods  = 2)\n",
        "test[\"p_3\"] = test.L3_CLOUD_cloud_base_pressure.shift(periods  = 3)\n",
        "test[\"p_4\"] = test.L3_CLOUD_cloud_base_pressure.shift(periods  = 4)\n",
        "test[\"p_5\"] = test.L3_CLOUD_cloud_base_pressure.shift(periods  = 5)\n"
      ],
      "execution_count": 0,
      "outputs": []
    },
    {
      "cell_type": "code",
      "metadata": {
        "id": "9-KB_yGDm-6v",
        "colab_type": "code",
        "colab": {}
      },
      "source": [
        "# #########################################new plenty\n",
        "train[\"y_1\"] = train.L3_SO2_SO2_slant_column_number_density.shift(periods  = 1)\n",
        "train[\"y_2\"] = train.L3_SO2_SO2_slant_column_number_density.shift(periods  = 2)\n",
        "train[\"y_3\"] = train.L3_SO2_SO2_slant_column_number_density.shift(periods  = 3)\n",
        "train[\"y_4\"] = train.L3_SO2_SO2_slant_column_number_density.shift(periods  = 4)\n",
        "train[\"y_5\"] = train.L3_SO2_SO2_slant_column_number_density.shift(periods  = 5)\n",
        "\n",
        "\n",
        "test[\"y_1\"] = test.L3_SO2_SO2_slant_column_number_density.shift(periods  = 1)\n",
        "test[\"y_2\"] = test.L3_SO2_SO2_slant_column_number_density.shift(periods  = 2)\n",
        "test[\"y_3\"] = test.L3_SO2_SO2_slant_column_number_density.shift(periods  = 3)\n",
        "test[\"y_4\"] = test.L3_SO2_SO2_slant_column_number_density.shift(periods  = 4)\n",
        "test[\"y_5\"] = test.L3_SO2_SO2_slant_column_number_density.shift(periods  = 5)\n",
        "\n",
        "\n",
        "# train[\"z_1\"] = train.L3_SO2_SO2_column_number_density_amf.shift(periods  = 1)\n",
        "# train[\"z_2\"] = train.L3_SO2_SO2_column_number_density_amf.shift(periods  = 2)\n",
        "# train[\"z_3\"] = train.L3_SO2_SO2_column_number_density_amf.shift(periods  = 3)\n",
        "# train[\"z_4\"] = train.L3_SO2_SO2_column_number_density_amf.shift(periods  = 4)\n",
        "# train[\"z_5\"] = train.L3_SO2_SO2_column_number_density_amf.shift(periods  = 5)\n",
        "\n",
        "\n",
        "# test[\"z_1\"] = test.L3_SO2_SO2_column_number_density_amf.shift(periods  = 1)\n",
        "# test[\"z_2\"] = test.L3_SO2_SO2_column_number_density_amf.shift(periods  = 2)\n",
        "# test[\"z_3\"] = test.L3_SO2_SO2_column_number_density_amf.shift(periods  = 3)\n",
        "# test[\"z_4\"] = test.L3_SO2_SO2_column_number_density_amf.shift(periods  = 4)\n",
        "# test[\"z_5\"] = test.L3_SO2_SO2_column_number_density_amf.shift(periods  = 5)\n",
        "\n",
        "\n",
        "\n",
        "train[\"z_1\"] = train.L3_HCHO_tropospheric_HCHO_column_number_density.shift(periods  = 1)\n",
        "train[\"z_2\"] = train.L3_HCHO_tropospheric_HCHO_column_number_density.shift(periods  = 2)\n",
        "train[\"z_3\"] = train.L3_HCHO_tropospheric_HCHO_column_number_density.shift(periods  = 3)\n",
        "train[\"z_4\"] = train.L3_HCHO_tropospheric_HCHO_column_number_density.shift(periods  = 4)\n",
        "train[\"z_5\"] = train.L3_HCHO_tropospheric_HCHO_column_number_density.shift(periods  = 5)\n",
        "\n",
        "\n",
        "test[\"z_1\"] = test.L3_HCHO_tropospheric_HCHO_column_number_density.shift(periods  = 1)\n",
        "test[\"z_2\"] = test.L3_HCHO_tropospheric_HCHO_column_number_density.shift(periods  = 2)\n",
        "test[\"z_3\"] = test.L3_HCHO_tropospheric_HCHO_column_number_density.shift(periods  = 3)\n",
        "test[\"z_4\"] = test.L3_HCHO_tropospheric_HCHO_column_number_density.shift(periods  = 4)\n",
        "test[\"z_5\"] = test.L3_HCHO_tropospheric_HCHO_column_number_density.shift(periods  = 5)"
      ],
      "execution_count": 0,
      "outputs": []
    },
    {
      "cell_type": "code",
      "metadata": {
        "id": "TCsOYvWBm_FY",
        "colab_type": "code",
        "colab": {}
      },
      "source": [
        "#######################newest1\n",
        "\n",
        "\n",
        "train[\"c_1\"] = train.L3_CO_CO_column_number_density.shift(periods  = 1)\n",
        "train[\"c_2\"] = train.L3_CO_CO_column_number_density.shift(periods  = 2)\n",
        "train[\"c_3\"] = train.L3_CO_CO_column_number_density.shift(periods  = 3)\n",
        "train[\"c_4\"] = train.L3_CO_CO_column_number_density.shift(periods  = 4)\n",
        "train[\"c_5\"] = train.L3_CO_CO_column_number_density.shift(periods  = 5)\n",
        "\n",
        "\n",
        "test[\"c_1\"] = test.L3_CO_CO_column_number_density.shift(periods  = 1)\n",
        "test[\"c_2\"] = test.L3_CO_CO_column_number_density.shift(periods  = 2)\n",
        "test[\"c_3\"] = test.L3_CO_CO_column_number_density.shift(periods  = 3)\n",
        "test[\"c_4\"] = test.L3_CO_CO_column_number_density.shift(periods  = 4)\n",
        "test[\"c_5\"] = test.L3_CO_CO_column_number_density.shift(periods  = 5)"
      ],
      "execution_count": 0,
      "outputs": []
    },
    {
      "cell_type": "code",
      "metadata": {
        "id": "VWgfL3pkgwkF",
        "colab_type": "code",
        "colab": {}
      },
      "source": [
        "# newest2\n",
        "train[\"a_1\"] = train.L3_NO2_tropopause_pressure.shift(periods  = 1)\n",
        "train[\"a_2\"] = train.L3_NO2_tropopause_pressure.shift(periods  = 2)\n",
        "train[\"a_3\"] = train.L3_NO2_tropopause_pressure.shift(periods  = 3)\n",
        "train[\"a_4\"] = train.L3_NO2_tropopause_pressure.shift(periods  = 4)\n",
        "train[\"a_5\"] = train.L3_NO2_tropopause_pressure.shift(periods  = 5)\n",
        "\n",
        "\n",
        "test[\"a_1\"] = test.L3_NO2_tropopause_pressure.shift(periods  = 1)\n",
        "test[\"a_2\"] = test.L3_NO2_tropopause_pressure.shift(periods  = 2)\n",
        "test[\"a_3\"] = test.L3_NO2_tropopause_pressure.shift(periods  = 3)\n",
        "test[\"a_4\"] = test.L3_NO2_tropopause_pressure.shift(periods  = 4)\n",
        "test[\"a_5\"] = test.L3_NO2_tropopause_pressure.shift(periods  = 5)"
      ],
      "execution_count": 0,
      "outputs": []
    },
    {
      "cell_type": "code",
      "metadata": {
        "id": "0jqtq95Em_Ja",
        "colab_type": "code",
        "colab": {}
      },
      "source": [
        "# from begnew\n",
        "train[\"d_1\"] = train.precipitable_water_entire_atmosphere.shift(periods  = 1)\n",
        "train[\"d_2\"] = train.precipitable_water_entire_atmosphere.shift(periods  = 2)\n",
        "train[\"d_3\"] = train.precipitable_water_entire_atmosphere.shift(periods  = 3)\n",
        "train[\"d_4\"] = train.precipitable_water_entire_atmosphere.shift(periods  = 4)\n",
        "train[\"d_5\"] = train.precipitable_water_entire_atmosphere.shift(periods  = 5)\n",
        "\n",
        "\n",
        "test[\"d_1\"] = test.precipitable_water_entire_atmosphere.shift(periods  = 1)\n",
        "test[\"d_2\"] = test.precipitable_water_entire_atmosphere.shift(periods  = 2)\n",
        "test[\"d_3\"] = test.precipitable_water_entire_atmosphere.shift(periods  = 3)\n",
        "test[\"d_4\"] = test.precipitable_water_entire_atmosphere.shift(periods  = 4)\n",
        "test[\"d_5\"] = test.precipitable_water_entire_atmosphere.shift(periods  = 5)"
      ],
      "execution_count": 0,
      "outputs": []
    },
    {
      "cell_type": "code",
      "metadata": {
        "id": "S8aCKuzUikoD",
        "colab_type": "code",
        "colab": {}
      },
      "source": [
        "# # trying sensor altitude\n",
        "# train[\"f_1\"] = train.L3_CLOUD_cloud_optical_depth.shift(periods  = 1)\n",
        "# train[\"f_2\"] = train.L3_CLOUD_cloud_optical_depth.shift(periods  = 2)\n",
        "# train[\"f_3\"] = train.L3_CLOUD_cloud_optical_depth.shift(periods  = 3)\n",
        "# train[\"f_4\"] = train.L3_CLOUD_cloud_optical_depth.shift(periods  = 4)\n",
        "# train[\"f_5\"] = train.L3_CLOUD_cloud_optical_depth.shift(periods  = 5)\n",
        "\n",
        "\n",
        "# test[\"f_1\"] = test.L3_CLOUD_cloud_optical_depth.shift(periods  = 1)\n",
        "# test[\"f_2\"] = test.L3_CLOUD_cloud_optical_depth.shift(periods  = 2)\n",
        "# test[\"f_3\"] = test.L3_CLOUD_cloud_optical_depth.shift(periods  = 3)\n",
        "# test[\"f_4\"] = test.L3_CLOUD_cloud_optical_depth.shift(periods  = 4)\n",
        "# test[\"f_5\"] = test.L3_CLOUD_cloud_optical_depth.shift(periods  = 5)\n",
        "\n",
        "\n",
        "# trying sensor altitude\n",
        "train[\"f_1\"] = train.L3_CO_CO_column_number_density.shift(periods  = -1)\n",
        "train[\"f_2\"] = train.L3_CO_CO_column_number_density.shift(periods  = -2)\n",
        "train[\"f_3\"] = train.L3_CO_CO_column_number_density.shift(periods  = -3)\n",
        "train[\"f_4\"] = train.L3_CO_CO_column_number_density.shift(periods  = -4)\n",
        "train[\"f_5\"] = train.L3_CO_CO_column_number_density.shift(periods  = -5)\n",
        "\n",
        "\n",
        "test[\"f_1\"] = test.L3_CO_CO_column_number_density.shift(periods  = -1)\n",
        "test[\"f_2\"] = test.L3_CO_CO_column_number_density.shift(periods  = -2)\n",
        "test[\"f_3\"] = test.L3_CO_CO_column_number_density.shift(periods  = -3)\n",
        "test[\"f_4\"] = test.L3_CO_CO_column_number_density.shift(periods  = -4)\n",
        "test[\"f_5\"] = test.L3_CO_CO_column_number_density.shift(periods  = -5)\n"
      ],
      "execution_count": 0,
      "outputs": []
    },
    {
      "cell_type": "code",
      "metadata": {
        "id": "DiLK582VZD33",
        "colab_type": "code",
        "colab": {}
      },
      "source": [
        "####################\n",
        "# reverse\n",
        "train[\"g_1\"] = train.L3_HCHO_tropospheric_HCHO_column_number_density.shift(periods  = -1)\n",
        "train[\"g_2\"] = train.L3_HCHO_tropospheric_HCHO_column_number_density.shift(periods  = -2)\n",
        "train[\"g_3\"] = train.L3_HCHO_tropospheric_HCHO_column_number_density.shift(periods  = -3)\n",
        "train[\"g_4\"] = train.L3_HCHO_tropospheric_HCHO_column_number_density.shift(periods  = -4)\n",
        "train[\"g_5\"] = train.L3_HCHO_tropospheric_HCHO_column_number_density.shift(periods  = -5)\n",
        "\n",
        "\n",
        "test[\"g_1\"] = test.L3_HCHO_tropospheric_HCHO_column_number_density.shift(periods  = -1)\n",
        "test[\"g_2\"] = test.L3_HCHO_tropospheric_HCHO_column_number_density.shift(periods  = -2)\n",
        "test[\"g_3\"] = test.L3_HCHO_tropospheric_HCHO_column_number_density.shift(periods  = -3)\n",
        "test[\"g_4\"] = test.L3_HCHO_tropospheric_HCHO_column_number_density.shift(periods  = -4)\n",
        "test[\"g_5\"] = test.L3_HCHO_tropospheric_HCHO_column_number_density.shift(periods  = -5)\n"
      ],
      "execution_count": 0,
      "outputs": []
    },
    {
      "cell_type": "code",
      "metadata": {
        "id": "Nb7CtIQ9m_IZ",
        "colab_type": "code",
        "colab": {}
      },
      "source": [
        "train['temperature_2m_above_ground'] = (train.temperature_2m_above_ground - 32) * 5.0/9.0\n",
        "train['t_1'] = (train.t_1 - 32) * 5.0/9.0\n",
        "\n",
        "test['temperature_2m_above_ground'] = (test.temperature_2m_above_ground - 32) * 5.0/9.0\n",
        "test['t_1'] = (test.t_1 - 32) * 5.0/9.0\n"
      ],
      "execution_count": 0,
      "outputs": []
    },
    {
      "cell_type": "code",
      "metadata": {
        "id": "XFM2_iGPc2FG",
        "colab_type": "code",
        "colab": {}
      },
      "source": [
        "train['day_week'] = train['Date'].dt.weekday\n",
        "\n",
        "test['day_week'] = test['Date'].dt.weekday\n",
        "\n"
      ],
      "execution_count": 0,
      "outputs": []
    },
    {
      "cell_type": "code",
      "metadata": {
        "id": "ilCnb225qoUU",
        "colab_type": "code",
        "colab": {}
      },
      "source": [
        "train[\"day\"] = train.Date.dt.day\n",
        "test[\"day\"] = test.Date.dt.day"
      ],
      "execution_count": 0,
      "outputs": []
    },
    {
      "cell_type": "code",
      "metadata": {
        "id": "MbNq8iL6PkIV",
        "colab_type": "code",
        "colab": {}
      },
      "source": [
        "def calculate_si(so2):\n",
        "    si=0\n",
        "    if (so2<=40):\n",
        "     si= so2*(50/40)\n",
        "    elif (so2>40 and so2<=80):\n",
        "     si= 50+(so2-40)*(50/40)\n",
        "    elif (so2>80 and so2<=380):\n",
        "     si= 100+(so2-80)*(100/300)\n",
        "    elif (so2>380 and so2<=800):\n",
        "     si= 200+(so2-380)*(100/420)\n",
        "    elif (so2>800 and so2<=1600):\n",
        "     si= 300+(so2-800)*(100/800)\n",
        "    elif (so2>1600):\n",
        "     si= 400+(so2-1600)*(100/800)\n",
        "    return si\n"
      ],
      "execution_count": 0,
      "outputs": []
    },
    {
      "cell_type": "code",
      "metadata": {
        "id": "NQsGQKSSdj68",
        "colab_type": "code",
        "colab": {}
      },
      "source": [
        "train['si']=train['L3_SO2_cloud_fraction'].apply(calculate_si)\n",
        "test['si']=test['L3_SO2_cloud_fraction'].apply(calculate_si)\n"
      ],
      "execution_count": 0,
      "outputs": []
    },
    {
      "cell_type": "code",
      "metadata": {
        "id": "C5z_2kZ_PkS4",
        "colab_type": "code",
        "colab": {}
      },
      "source": [
        "X = train.drop([ 'Date'],axis  =1)"
      ],
      "execution_count": 0,
      "outputs": []
    },
    {
      "cell_type": "code",
      "metadata": {
        "id": "FdcaGfIBrZun",
        "colab_type": "code",
        "outputId": "084693d2-8f43-4da5-a6e0-153d5a6b0181",
        "colab": {
          "base_uri": "https://localhost:8080/",
          "height": 228
        }
      },
      "source": [
        "X.isnull().sum()"
      ],
      "execution_count": 0,
      "outputs": [
        {
          "output_type": "execute_result",
          "data": {
            "text/plain": [
              "precipitable_water_entire_atmosphere       0\n",
              "relative_humidity_2m_above_ground          0\n",
              "specific_humidity_2m_above_ground          0\n",
              "temperature_2m_above_ground                0\n",
              "u_component_of_wind_10m_above_ground       0\n",
              "                                        ... \n",
              "g_4                                     7428\n",
              "g_5                                     7429\n",
              "day_week                                   0\n",
              "day                                        0\n",
              "si                                         0\n",
              "Length: 264, dtype: int64"
            ]
          },
          "metadata": {
            "tags": []
          },
          "execution_count": 130
        }
      ]
    },
    {
      "cell_type": "code",
      "metadata": {
        "id": "Yrq_dUNySeQd",
        "colab_type": "code",
        "outputId": "b1789cfa-9e9c-40f0-cafe-69f1c78dc947",
        "colab": {
          "base_uri": "https://localhost:8080/",
          "height": 334
        }
      },
      "source": [
        "!pip install catboost"
      ],
      "execution_count": 0,
      "outputs": [
        {
          "output_type": "stream",
          "text": [
            "Collecting catboost\n",
            "\u001b[?25l  Downloading https://files.pythonhosted.org/packages/94/ec/12b9a42b2ea7dfe5b602f235692ab2b61ee1334ff34334a15902272869e8/catboost-0.22-cp36-none-manylinux1_x86_64.whl (64.4MB)\n",
            "\u001b[K     |████████████████████████████████| 64.4MB 48kB/s \n",
            "\u001b[?25hRequirement already satisfied: six in /usr/local/lib/python3.6/dist-packages (from catboost) (1.12.0)\n",
            "Requirement already satisfied: pandas>=0.24.0 in /usr/local/lib/python3.6/dist-packages (from catboost) (1.0.3)\n",
            "Requirement already satisfied: numpy>=1.16.0 in /usr/local/lib/python3.6/dist-packages (from catboost) (1.18.2)\n",
            "Requirement already satisfied: scipy in /usr/local/lib/python3.6/dist-packages (from catboost) (1.4.1)\n",
            "Requirement already satisfied: matplotlib in /usr/local/lib/python3.6/dist-packages (from catboost) (3.2.1)\n",
            "Requirement already satisfied: graphviz in /usr/local/lib/python3.6/dist-packages (from catboost) (0.10.1)\n",
            "Requirement already satisfied: plotly in /usr/local/lib/python3.6/dist-packages (from catboost) (4.4.1)\n",
            "Requirement already satisfied: pytz>=2017.2 in /usr/local/lib/python3.6/dist-packages (from pandas>=0.24.0->catboost) (2018.9)\n",
            "Requirement already satisfied: python-dateutil>=2.6.1 in /usr/local/lib/python3.6/dist-packages (from pandas>=0.24.0->catboost) (2.8.1)\n",
            "Requirement already satisfied: kiwisolver>=1.0.1 in /usr/local/lib/python3.6/dist-packages (from matplotlib->catboost) (1.2.0)\n",
            "Requirement already satisfied: pyparsing!=2.0.4,!=2.1.2,!=2.1.6,>=2.0.1 in /usr/local/lib/python3.6/dist-packages (from matplotlib->catboost) (2.4.7)\n",
            "Requirement already satisfied: cycler>=0.10 in /usr/local/lib/python3.6/dist-packages (from matplotlib->catboost) (0.10.0)\n",
            "Requirement already satisfied: retrying>=1.3.3 in /usr/local/lib/python3.6/dist-packages (from plotly->catboost) (1.3.3)\n",
            "Installing collected packages: catboost\n",
            "Successfully installed catboost-0.22\n"
          ],
          "name": "stdout"
        }
      ]
    },
    {
      "cell_type": "code",
      "metadata": {
        "id": "qJWszLZnRn-4",
        "colab_type": "code",
        "outputId": "888e537f-e3d9-482f-ebe6-de2198de4621",
        "colab": {
          "base_uri": "https://localhost:8080/",
          "height": 1000
        }
      },
      "source": [
        "from catboost import CatBoostRegressor\n",
        "errcb2=[]\n",
        "y_pred_totcb2=[]\n",
        "from sklearn.model_selection import KFold,StratifiedKFold, TimeSeriesSplit\n",
        "from sklearn.metrics import mean_squared_error\n",
        "fold=KFold(n_splits=10)#15#5#10\n",
        "i=1\n",
        "for train_index, test_index in fold.split(X,y):\n",
        "    X_train, X_test = X.iloc[train_index], X.iloc[test_index]\n",
        "    y_train, y_test = y.iloc[train_index], y.iloc[test_index]\n",
        "    m2  = CatBoostRegressor(   n_estimators=3000,eval_metric='RMSE',learning_rate=0.1, random_seed= 1234, use_best_model=True )\n",
        "    m2.fit(X_train,y_train,eval_set=[(X_train,y_train),(X_test, y_test)], early_stopping_rounds=200,verbose=100,)#erly100\n",
        "    preds=m2.predict(X_test)\n",
        "    print(\"err: \",np.sqrt(mean_squared_error(y_test,preds)))\n",
        "    errcb2.append(np.sqrt(mean_squared_error(y_test,preds)))\n",
        "    p2 = m2.predict(test.drop([ 'Date'],axis =1))\n",
        "    y_pred_totcb2.append(p2)\n",
        "np.mean(errcb2)"
      ],
      "execution_count": 0,
      "outputs": [
        {
          "output_type": "stream",
          "text": [
            "0:\tlearn: 44.3880536\ttest: 44.3880536\ttest1: 37.7329972\tbest: 37.7329972 (0)\ttotal: 151ms\tremaining: 7m 33s\n",
            "100:\tlearn: 21.5051417\ttest: 21.5051417\ttest1: 25.0022628\tbest: 25.0022628 (100)\ttotal: 8.67s\tremaining: 4m 8s\n",
            "200:\tlearn: 18.8019953\ttest: 18.8019953\ttest1: 24.4736876\tbest: 24.4736876 (200)\ttotal: 17s\tremaining: 3m 56s\n",
            "300:\tlearn: 17.1455512\ttest: 17.1455512\ttest1: 24.2570754\tbest: 24.2570754 (300)\ttotal: 25.4s\tremaining: 3m 47s\n",
            "400:\tlearn: 15.9313951\ttest: 15.9313951\ttest1: 23.9650597\tbest: 23.9650597 (400)\ttotal: 33.7s\tremaining: 3m 38s\n",
            "500:\tlearn: 14.9161995\ttest: 14.9161995\ttest1: 23.7574974\tbest: 23.7574974 (500)\ttotal: 42.2s\tremaining: 3m 30s\n",
            "600:\tlearn: 14.0597114\ttest: 14.0597114\ttest1: 23.5889291\tbest: 23.5801496 (599)\ttotal: 50.6s\tremaining: 3m 21s\n",
            "700:\tlearn: 13.3193108\ttest: 13.3193108\ttest1: 23.5151811\tbest: 23.4935680 (673)\ttotal: 58.9s\tremaining: 3m 13s\n",
            "800:\tlearn: 12.6366272\ttest: 12.6366272\ttest1: 23.4293073\tbest: 23.4055719 (774)\ttotal: 1m 7s\tremaining: 3m 4s\n",
            "900:\tlearn: 12.0307270\ttest: 12.0307270\ttest1: 23.3857436\tbest: 23.3595999 (867)\ttotal: 1m 15s\tremaining: 2m 56s\n",
            "1000:\tlearn: 11.4882094\ttest: 11.4882094\ttest1: 23.2989115\tbest: 23.2989115 (1000)\ttotal: 1m 23s\tremaining: 2m 47s\n",
            "1100:\tlearn: 10.9831607\ttest: 10.9831607\ttest1: 23.2412734\tbest: 23.2233635 (1082)\ttotal: 1m 32s\tremaining: 2m 39s\n",
            "1200:\tlearn: 10.5015135\ttest: 10.5015135\ttest1: 23.2043056\tbest: 23.2039707 (1199)\ttotal: 1m 40s\tremaining: 2m 30s\n",
            "1300:\tlearn: 10.0693275\ttest: 10.0693275\ttest1: 23.1833126\tbest: 23.1833126 (1300)\ttotal: 1m 49s\tremaining: 2m 22s\n",
            "1400:\tlearn: 9.6679237\ttest: 9.6679237\ttest1: 23.1642338\tbest: 23.1318454 (1381)\ttotal: 1m 57s\tremaining: 2m 14s\n",
            "1500:\tlearn: 9.2837522\ttest: 9.2837522\ttest1: 23.1499266\tbest: 23.1318454 (1381)\ttotal: 2m 6s\tremaining: 2m 5s\n",
            "1600:\tlearn: 8.9238296\ttest: 8.9238296\ttest1: 23.1076876\tbest: 23.1076876 (1600)\ttotal: 2m 14s\tremaining: 1m 57s\n",
            "1700:\tlearn: 8.5797396\ttest: 8.5797396\ttest1: 23.0824841\tbest: 23.0811210 (1699)\ttotal: 2m 23s\tremaining: 1m 49s\n",
            "1800:\tlearn: 8.2682036\ttest: 8.2682036\ttest1: 23.0901967\tbest: 23.0791184 (1714)\ttotal: 2m 31s\tremaining: 1m 40s\n",
            "1900:\tlearn: 7.9690594\ttest: 7.9690594\ttest1: 23.0561446\tbest: 23.0542713 (1898)\ttotal: 2m 39s\tremaining: 1m 32s\n",
            "2000:\tlearn: 7.6758453\ttest: 7.6758453\ttest1: 23.0271303\tbest: 23.0224937 (1996)\ttotal: 2m 48s\tremaining: 1m 24s\n",
            "2100:\tlearn: 7.4066385\ttest: 7.4066385\ttest1: 23.0086707\tbest: 23.0086707 (2100)\ttotal: 2m 56s\tremaining: 1m 15s\n",
            "2200:\tlearn: 7.1441819\ttest: 7.1441819\ttest1: 22.9952255\tbest: 22.9952255 (2200)\ttotal: 3m 5s\tremaining: 1m 7s\n",
            "2300:\tlearn: 6.8979944\ttest: 6.8979944\ttest1: 22.9721944\tbest: 22.9665243 (2236)\ttotal: 3m 13s\tremaining: 58.9s\n",
            "2400:\tlearn: 6.6700629\ttest: 6.6700629\ttest1: 22.9354059\tbest: 22.9341635 (2398)\ttotal: 3m 22s\tremaining: 50.5s\n",
            "2500:\tlearn: 6.4487792\ttest: 6.4487792\ttest1: 22.9191936\tbest: 22.9183664 (2499)\ttotal: 3m 30s\tremaining: 42s\n",
            "2600:\tlearn: 6.2355338\ttest: 6.2355338\ttest1: 22.9298117\tbest: 22.9114483 (2560)\ttotal: 3m 39s\tremaining: 33.6s\n",
            "2700:\tlearn: 6.0318026\ttest: 6.0318026\ttest1: 22.9231791\tbest: 22.9114483 (2560)\ttotal: 3m 47s\tremaining: 25.2s\n",
            "Stopped by overfitting detector  (200 iterations wait)\n",
            "\n",
            "bestTest = 22.91144826\n",
            "bestIteration = 2560\n",
            "\n",
            "Shrink model to first 2561 iterations.\n",
            "err:  22.911448260447614\n",
            "0:\tlearn: 43.7413419\ttest: 43.7413419\ttest1: 44.9761393\tbest: 44.9761393 (0)\ttotal: 86.1ms\tremaining: 4m 18s\n",
            "100:\tlearn: 21.2915274\ttest: 21.2915274\ttest1: 27.1975862\tbest: 27.1975862 (100)\ttotal: 8.6s\tremaining: 4m 6s\n",
            "200:\tlearn: 18.4940185\ttest: 18.4940185\ttest1: 26.0503447\tbest: 26.0377061 (199)\ttotal: 17s\tremaining: 3m 56s\n",
            "300:\tlearn: 16.8746749\ttest: 16.8746749\ttest1: 25.8586703\tbest: 25.8494426 (291)\ttotal: 25.4s\tremaining: 3m 47s\n",
            "400:\tlearn: 15.6565395\ttest: 15.6565395\ttest1: 25.6413713\tbest: 25.6321357 (390)\ttotal: 33.7s\tremaining: 3m 38s\n",
            "500:\tlearn: 14.6614106\ttest: 14.6614106\ttest1: 25.5314897\tbest: 25.5038368 (467)\ttotal: 42.1s\tremaining: 3m 30s\n",
            "600:\tlearn: 13.8092830\ttest: 13.8092830\ttest1: 25.4592923\tbest: 25.4308410 (587)\ttotal: 50.6s\tremaining: 3m 22s\n",
            "700:\tlearn: 13.0614226\ttest: 13.0614226\ttest1: 25.4132521\tbest: 25.4132521 (700)\ttotal: 59.1s\tremaining: 3m 13s\n",
            "800:\tlearn: 12.4112181\ttest: 12.4112181\ttest1: 25.3112739\tbest: 25.3112739 (800)\ttotal: 1m 7s\tremaining: 3m 5s\n",
            "900:\tlearn: 11.8230464\ttest: 11.8230464\ttest1: 25.2193468\tbest: 25.2179021 (898)\ttotal: 1m 15s\tremaining: 2m 56s\n",
            "1000:\tlearn: 11.2673744\ttest: 11.2673744\ttest1: 25.1410648\tbest: 25.1410648 (1000)\ttotal: 1m 24s\tremaining: 2m 48s\n",
            "1100:\tlearn: 10.7728352\ttest: 10.7728352\ttest1: 25.0620612\tbest: 25.0617308 (1094)\ttotal: 1m 32s\tremaining: 2m 39s\n",
            "1200:\tlearn: 10.3178812\ttest: 10.3178812\ttest1: 25.0611617\tbest: 25.0354411 (1157)\ttotal: 1m 41s\tremaining: 2m 31s\n",
            "1300:\tlearn: 9.9058047\ttest: 9.9058047\ttest1: 25.0381794\tbest: 25.0354411 (1157)\ttotal: 1m 49s\tremaining: 2m 23s\n",
            "1400:\tlearn: 9.5121583\ttest: 9.5121583\ttest1: 25.0258472\tbest: 25.0097343 (1371)\ttotal: 1m 57s\tremaining: 2m 14s\n",
            "1500:\tlearn: 9.1507091\ttest: 9.1507091\ttest1: 24.9369640\tbest: 24.9357626 (1498)\ttotal: 2m 6s\tremaining: 2m 6s\n",
            "1600:\tlearn: 8.8119889\ttest: 8.8119889\ttest1: 24.9241870\tbest: 24.9241870 (1600)\ttotal: 2m 14s\tremaining: 1m 57s\n",
            "1700:\tlearn: 8.4841917\ttest: 8.4841917\ttest1: 24.9267710\tbest: 24.9060040 (1626)\ttotal: 2m 23s\tremaining: 1m 49s\n",
            "1800:\tlearn: 8.1699861\ttest: 8.1699861\ttest1: 24.9118128\tbest: 24.9060040 (1626)\ttotal: 2m 31s\tremaining: 1m 40s\n",
            "Stopped by overfitting detector  (200 iterations wait)\n",
            "\n",
            "bestTest = 24.90600402\n",
            "bestIteration = 1626\n",
            "\n",
            "Shrink model to first 1627 iterations.\n",
            "err:  24.906004015679795\n",
            "0:\tlearn: 44.0341639\ttest: 44.0341639\ttest1: 41.9871336\tbest: 41.9871336 (0)\ttotal: 87.7ms\tremaining: 4m 22s\n",
            "100:\tlearn: 21.0970754\ttest: 21.0970754\ttest1: 30.9565051\tbest: 30.9565051 (100)\ttotal: 8.55s\tremaining: 4m 5s\n",
            "200:\tlearn: 18.4372281\ttest: 18.4372281\ttest1: 30.2258554\tbest: 30.2258554 (200)\ttotal: 16.9s\tremaining: 3m 55s\n",
            "300:\tlearn: 16.8171632\ttest: 16.8171632\ttest1: 30.0006979\tbest: 29.9409229 (282)\ttotal: 25.2s\tremaining: 3m 45s\n",
            "400:\tlearn: 15.5921312\ttest: 15.5921312\ttest1: 29.8185948\tbest: 29.8033691 (399)\ttotal: 33.6s\tremaining: 3m 37s\n",
            "500:\tlearn: 14.6169944\ttest: 14.6169944\ttest1: 29.7245813\tbest: 29.7065248 (489)\ttotal: 41.9s\tremaining: 3m 28s\n",
            "600:\tlearn: 13.8093724\ttest: 13.8093724\ttest1: 29.5373399\tbest: 29.5327650 (598)\ttotal: 50.4s\tremaining: 3m 21s\n",
            "700:\tlearn: 13.1020480\ttest: 13.1020480\ttest1: 29.4446850\tbest: 29.4371412 (695)\ttotal: 58.8s\tremaining: 3m 12s\n",
            "800:\tlearn: 12.4557143\ttest: 12.4557143\ttest1: 29.3672629\tbest: 29.3565732 (776)\ttotal: 1m 7s\tremaining: 3m 4s\n",
            "900:\tlearn: 11.8621656\ttest: 11.8621656\ttest1: 29.3544763\tbest: 29.3423833 (840)\ttotal: 1m 15s\tremaining: 2m 55s\n",
            "1000:\tlearn: 11.3319855\ttest: 11.3319855\ttest1: 29.3031162\tbest: 29.2994534 (993)\ttotal: 1m 23s\tremaining: 2m 47s\n",
            "1100:\tlearn: 10.8378234\ttest: 10.8378234\ttest1: 29.2306471\tbest: 29.2306471 (1100)\ttotal: 1m 32s\tremaining: 2m 39s\n",
            "1200:\tlearn: 10.3897705\ttest: 10.3897705\ttest1: 29.2091539\tbest: 29.2002783 (1120)\ttotal: 1m 40s\tremaining: 2m 30s\n",
            "1300:\tlearn: 9.9687243\ttest: 9.9687243\ttest1: 29.1790862\tbest: 29.1582424 (1274)\ttotal: 1m 49s\tremaining: 2m 22s\n",
            "1400:\tlearn: 9.5671010\ttest: 9.5671010\ttest1: 29.1644563\tbest: 29.1582424 (1274)\ttotal: 1m 57s\tremaining: 2m 14s\n",
            "1500:\tlearn: 9.1951363\ttest: 9.1951363\ttest1: 29.0903220\tbest: 29.0899549 (1492)\ttotal: 2m 5s\tremaining: 2m 5s\n",
            "1600:\tlearn: 8.8458160\ttest: 8.8458160\ttest1: 29.0815826\tbest: 29.0635816 (1569)\ttotal: 2m 14s\tremaining: 1m 57s\n",
            "1700:\tlearn: 8.5081824\ttest: 8.5081824\ttest1: 29.0386565\tbest: 29.0386565 (1700)\ttotal: 2m 22s\tremaining: 1m 49s\n",
            "1800:\tlearn: 8.2107351\ttest: 8.2107351\ttest1: 29.0206390\tbest: 29.0201280 (1799)\ttotal: 2m 31s\tremaining: 1m 40s\n",
            "1900:\tlearn: 7.9093587\ttest: 7.9093587\ttest1: 29.0103964\tbest: 29.0103964 (1900)\ttotal: 2m 39s\tremaining: 1m 32s\n",
            "2000:\tlearn: 7.6286411\ttest: 7.6286411\ttest1: 28.9928655\tbest: 28.9928655 (2000)\ttotal: 2m 48s\tremaining: 1m 23s\n",
            "2100:\tlearn: 7.3564545\ttest: 7.3564545\ttest1: 28.9881149\tbest: 28.9777992 (2066)\ttotal: 2m 56s\tremaining: 1m 15s\n",
            "2200:\tlearn: 7.1110799\ttest: 7.1110799\ttest1: 28.9694400\tbest: 28.9649893 (2184)\ttotal: 3m 4s\tremaining: 1m 7s\n",
            "2300:\tlearn: 6.8647697\ttest: 6.8647697\ttest1: 28.9717033\tbest: 28.9649893 (2184)\ttotal: 3m 13s\tremaining: 58.7s\n",
            "Stopped by overfitting detector  (200 iterations wait)\n",
            "\n",
            "bestTest = 28.96498932\n",
            "bestIteration = 2184\n",
            "\n",
            "Shrink model to first 2185 iterations.\n",
            "err:  28.964989318131\n",
            "0:\tlearn: 44.2932885\ttest: 44.2932885\ttest1: 39.7898909\tbest: 39.7898909 (0)\ttotal: 96.8ms\tremaining: 4m 50s\n",
            "100:\tlearn: 21.3061329\ttest: 21.3061329\ttest1: 26.9517300\tbest: 26.9517300 (100)\ttotal: 8.66s\tremaining: 4m 8s\n",
            "200:\tlearn: 18.5350198\ttest: 18.5350198\ttest1: 25.9845333\tbest: 25.9826824 (199)\ttotal: 17s\tremaining: 3m 57s\n",
            "300:\tlearn: 16.9266171\ttest: 16.9266171\ttest1: 25.5616417\tbest: 25.5616417 (300)\ttotal: 25.4s\tremaining: 3m 47s\n",
            "400:\tlearn: 15.7153963\ttest: 15.7153963\ttest1: 25.1082285\tbest: 25.1082285 (400)\ttotal: 33.8s\tremaining: 3m 38s\n",
            "500:\tlearn: 14.7106920\ttest: 14.7106920\ttest1: 24.9471428\tbest: 24.9471428 (500)\ttotal: 42.2s\tremaining: 3m 30s\n",
            "600:\tlearn: 13.8577994\ttest: 13.8577994\ttest1: 24.8279167\tbest: 24.8263769 (595)\ttotal: 50.6s\tremaining: 3m 21s\n",
            "700:\tlearn: 13.1213561\ttest: 13.1213561\ttest1: 24.6707447\tbest: 24.6638256 (699)\ttotal: 59s\tremaining: 3m 13s\n",
            "800:\tlearn: 12.4644336\ttest: 12.4644336\ttest1: 24.5671973\tbest: 24.5569578 (788)\ttotal: 1m 7s\tremaining: 3m 5s\n",
            "900:\tlearn: 11.8994992\ttest: 11.8994992\ttest1: 24.4765338\tbest: 24.4631950 (893)\ttotal: 1m 15s\tremaining: 2m 56s\n",
            "1000:\tlearn: 11.3690206\ttest: 11.3690206\ttest1: 24.3991338\tbest: 24.3880491 (961)\ttotal: 1m 24s\tremaining: 2m 47s\n",
            "1100:\tlearn: 10.8671053\ttest: 10.8671053\ttest1: 24.2991725\tbest: 24.2944431 (1097)\ttotal: 1m 32s\tremaining: 2m 39s\n",
            "1200:\tlearn: 10.3976306\ttest: 10.3976306\ttest1: 24.2250035\tbest: 24.2224054 (1197)\ttotal: 1m 41s\tremaining: 2m 31s\n",
            "1300:\tlearn: 9.9671412\ttest: 9.9671412\ttest1: 24.2074563\tbest: 24.1917833 (1273)\ttotal: 1m 49s\tremaining: 2m 22s\n",
            "1400:\tlearn: 9.5819030\ttest: 9.5819030\ttest1: 24.2516712\tbest: 24.1917833 (1273)\ttotal: 1m 57s\tremaining: 2m 14s\n",
            "1500:\tlearn: 9.2096923\ttest: 9.2096923\ttest1: 24.2098719\tbest: 24.1913102 (1448)\ttotal: 2m 6s\tremaining: 2m 6s\n",
            "1600:\tlearn: 8.8512293\ttest: 8.8512293\ttest1: 24.1909514\tbest: 24.1868104 (1592)\ttotal: 2m 14s\tremaining: 1m 57s\n",
            "1700:\tlearn: 8.5208317\ttest: 8.5208317\ttest1: 24.2079996\tbest: 24.1845664 (1663)\ttotal: 2m 23s\tremaining: 1m 49s\n",
            "1800:\tlearn: 8.2125381\ttest: 8.2125381\ttest1: 24.1894334\tbest: 24.1845664 (1663)\ttotal: 2m 31s\tremaining: 1m 40s\n",
            "1900:\tlearn: 7.9234362\ttest: 7.9234362\ttest1: 24.1740315\tbest: 24.1720877 (1891)\ttotal: 2m 40s\tremaining: 1m 32s\n",
            "2000:\tlearn: 7.6453106\ttest: 7.6453106\ttest1: 24.1660891\tbest: 24.1576441 (1985)\ttotal: 2m 48s\tremaining: 1m 24s\n",
            "2100:\tlearn: 7.3804539\ttest: 7.3804539\ttest1: 24.1484043\tbest: 24.1482279 (2098)\ttotal: 2m 57s\tremaining: 1m 15s\n",
            "2200:\tlearn: 7.1210224\ttest: 7.1210224\ttest1: 24.1087048\tbest: 24.1087048 (2200)\ttotal: 3m 5s\tremaining: 1m 7s\n",
            "2300:\tlearn: 6.8681412\ttest: 6.8681412\ttest1: 24.0880122\tbest: 24.0768712 (2280)\ttotal: 3m 14s\tremaining: 59s\n",
            "2400:\tlearn: 6.6395083\ttest: 6.6395083\ttest1: 24.0841269\tbest: 24.0768712 (2280)\ttotal: 3m 22s\tremaining: 50.6s\n",
            "2500:\tlearn: 6.4181561\ttest: 6.4181561\ttest1: 24.0736929\tbest: 24.0736929 (2500)\ttotal: 3m 31s\tremaining: 42.2s\n",
            "2600:\tlearn: 6.2132801\ttest: 6.2132801\ttest1: 24.0614554\tbest: 24.0571883 (2582)\ttotal: 3m 39s\tremaining: 33.7s\n",
            "2700:\tlearn: 6.0033564\ttest: 6.0033564\ttest1: 24.0627827\tbest: 24.0571883 (2582)\ttotal: 3m 48s\tremaining: 25.3s\n",
            "2800:\tlearn: 5.8051071\ttest: 5.8051071\ttest1: 24.0562009\tbest: 24.0451722 (2762)\ttotal: 3m 56s\tremaining: 16.8s\n",
            "2900:\tlearn: 5.6173861\ttest: 5.6173861\ttest1: 24.0605359\tbest: 24.0451722 (2762)\ttotal: 4m 5s\tremaining: 8.37s\n",
            "Stopped by overfitting detector  (200 iterations wait)\n",
            "\n",
            "bestTest = 24.04517217\n",
            "bestIteration = 2762\n",
            "\n",
            "Shrink model to first 2763 iterations.\n",
            "err:  24.045172167671893\n",
            "0:\tlearn: 44.2203167\ttest: 44.2203167\ttest1: 39.9331248\tbest: 39.9331248 (0)\ttotal: 92.4ms\tremaining: 4m 37s\n",
            "100:\tlearn: 21.6436312\ttest: 21.6436312\ttest1: 24.1150567\tbest: 24.1077057 (97)\ttotal: 8.62s\tremaining: 4m 7s\n",
            "200:\tlearn: 18.8314987\ttest: 18.8314987\ttest1: 23.2328755\tbest: 23.2328755 (200)\ttotal: 17s\tremaining: 3m 56s\n",
            "300:\tlearn: 17.2104633\ttest: 17.2104633\ttest1: 22.7047652\tbest: 22.6907276 (273)\ttotal: 25.3s\tremaining: 3m 46s\n",
            "400:\tlearn: 15.9804733\ttest: 15.9804733\ttest1: 22.7299294\tbest: 22.6674235 (362)\ttotal: 33.6s\tremaining: 3m 38s\n",
            "500:\tlearn: 14.9837524\ttest: 14.9837524\ttest1: 22.7587785\tbest: 22.6674235 (362)\ttotal: 42s\tremaining: 3m 29s\n",
            "Stopped by overfitting detector  (200 iterations wait)\n",
            "\n",
            "bestTest = 22.66742354\n",
            "bestIteration = 362\n",
            "\n",
            "Shrink model to first 363 iterations.\n",
            "err:  22.66742354428024\n",
            "0:\tlearn: 44.0696487\ttest: 44.0696487\ttest1: 41.9069102\tbest: 41.9069102 (0)\ttotal: 92.8ms\tremaining: 4m 38s\n",
            "100:\tlearn: 21.2679154\ttest: 21.2679154\ttest1: 27.4599908\tbest: 27.4457546 (95)\ttotal: 8.56s\tremaining: 4m 5s\n",
            "200:\tlearn: 18.6079227\ttest: 18.6079227\ttest1: 27.1804849\tbest: 27.1546007 (193)\ttotal: 16.9s\tremaining: 3m 55s\n",
            "300:\tlearn: 17.0170297\ttest: 17.0170297\ttest1: 27.0943888\tbest: 27.0658498 (291)\ttotal: 25.3s\tremaining: 3m 46s\n",
            "400:\tlearn: 15.8392341\ttest: 15.8392341\ttest1: 27.1609817\tbest: 27.0658498 (291)\ttotal: 33.7s\tremaining: 3m 38s\n",
            "500:\tlearn: 14.8799424\ttest: 14.8799424\ttest1: 27.1216282\tbest: 27.0473965 (450)\ttotal: 42.1s\tremaining: 3m 30s\n",
            "600:\tlearn: 14.0722141\ttest: 14.0722141\ttest1: 26.9305551\tbest: 26.8991041 (585)\ttotal: 50.5s\tremaining: 3m 21s\n",
            "700:\tlearn: 13.3241432\ttest: 13.3241432\ttest1: 26.8724482\tbest: 26.8462153 (691)\ttotal: 58.9s\tremaining: 3m 13s\n",
            "800:\tlearn: 12.6855975\ttest: 12.6855975\ttest1: 26.8237663\tbest: 26.8168629 (758)\ttotal: 1m 7s\tremaining: 3m 4s\n",
            "900:\tlearn: 12.0780577\ttest: 12.0780577\ttest1: 26.7298769\tbest: 26.7298769 (900)\ttotal: 1m 15s\tremaining: 2m 56s\n",
            "1000:\tlearn: 11.5273397\ttest: 11.5273397\ttest1: 26.7220476\tbest: 26.6948530 (991)\ttotal: 1m 24s\tremaining: 2m 47s\n",
            "1100:\tlearn: 10.9973495\ttest: 10.9973495\ttest1: 26.6867691\tbest: 26.6790912 (1075)\ttotal: 1m 32s\tremaining: 2m 39s\n",
            "1200:\tlearn: 10.5307472\ttest: 10.5307472\ttest1: 26.6369189\tbest: 26.6369189 (1200)\ttotal: 1m 40s\tremaining: 2m 31s\n",
            "1300:\tlearn: 10.1159335\ttest: 10.1159335\ttest1: 26.6303896\tbest: 26.5877804 (1227)\ttotal: 1m 49s\tremaining: 2m 22s\n",
            "1400:\tlearn: 9.7137638\ttest: 9.7137638\ttest1: 26.6215696\tbest: 26.5877804 (1227)\ttotal: 1m 57s\tremaining: 2m 14s\n",
            "Stopped by overfitting detector  (200 iterations wait)\n",
            "\n",
            "bestTest = 26.58778044\n",
            "bestIteration = 1227\n",
            "\n",
            "Shrink model to first 1228 iterations.\n",
            "err:  26.58778043889417\n",
            "0:\tlearn: 43.3126599\ttest: 43.3126599\ttest1: 48.5997975\tbest: 48.5997975 (0)\ttotal: 94ms\tremaining: 4m 41s\n",
            "100:\tlearn: 21.3108600\ttest: 21.3108600\ttest1: 30.7875819\tbest: 30.7875819 (100)\ttotal: 8.61s\tremaining: 4m 7s\n",
            "200:\tlearn: 18.5955399\ttest: 18.5955399\ttest1: 29.9476454\tbest: 29.9224232 (191)\ttotal: 16.9s\tremaining: 3m 55s\n",
            "300:\tlearn: 16.9488384\ttest: 16.9488384\ttest1: 29.7391215\tbest: 29.7391215 (300)\ttotal: 25.2s\tremaining: 3m 45s\n",
            "400:\tlearn: 15.7217345\ttest: 15.7217345\ttest1: 29.4180299\tbest: 29.4172963 (399)\ttotal: 33.5s\tremaining: 3m 37s\n",
            "500:\tlearn: 14.7097651\ttest: 14.7097651\ttest1: 29.2722290\tbest: 29.2722290 (500)\ttotal: 41.9s\tremaining: 3m 29s\n",
            "600:\tlearn: 13.8499384\ttest: 13.8499384\ttest1: 29.1263760\tbest: 29.1162577 (582)\ttotal: 50.3s\tremaining: 3m 20s\n",
            "700:\tlearn: 13.1075579\ttest: 13.1075579\ttest1: 29.1301360\tbest: 29.1162577 (582)\ttotal: 58.7s\tremaining: 3m 12s\n",
            "800:\tlearn: 12.4460405\ttest: 12.4460405\ttest1: 29.0577634\tbest: 29.0429976 (792)\ttotal: 1m 7s\tremaining: 3m 4s\n",
            "900:\tlearn: 11.8560411\ttest: 11.8560411\ttest1: 29.0183164\tbest: 29.0183164 (900)\ttotal: 1m 15s\tremaining: 2m 56s\n",
            "1000:\tlearn: 11.3193321\ttest: 11.3193321\ttest1: 28.9723728\tbest: 28.9660441 (996)\ttotal: 1m 24s\tremaining: 2m 47s\n",
            "1100:\tlearn: 10.8231489\ttest: 10.8231489\ttest1: 28.9492447\tbest: 28.9365950 (1099)\ttotal: 1m 32s\tremaining: 2m 39s\n",
            "1200:\tlearn: 10.3577141\ttest: 10.3577141\ttest1: 28.8823936\tbest: 28.8743721 (1184)\ttotal: 1m 40s\tremaining: 2m 31s\n",
            "1300:\tlearn: 9.9361189\ttest: 9.9361189\ttest1: 28.8605430\tbest: 28.8580927 (1299)\ttotal: 1m 49s\tremaining: 2m 22s\n",
            "1400:\tlearn: 9.5372184\ttest: 9.5372184\ttest1: 28.8475096\tbest: 28.8263437 (1359)\ttotal: 1m 57s\tremaining: 2m 14s\n",
            "1500:\tlearn: 9.1620783\ttest: 9.1620783\ttest1: 28.8347688\tbest: 28.8263437 (1359)\ttotal: 2m 6s\tremaining: 2m 6s\n",
            "1600:\tlearn: 8.8033948\ttest: 8.8033948\ttest1: 28.7344890\tbest: 28.7302917 (1589)\ttotal: 2m 14s\tremaining: 1m 57s\n",
            "1700:\tlearn: 8.4725362\ttest: 8.4725362\ttest1: 28.7436193\tbest: 28.7243497 (1685)\ttotal: 2m 23s\tremaining: 1m 49s\n",
            "1800:\tlearn: 8.1675055\ttest: 8.1675055\ttest1: 28.7155225\tbest: 28.7059524 (1795)\ttotal: 2m 31s\tremaining: 1m 40s\n",
            "1900:\tlearn: 7.8742577\ttest: 7.8742577\ttest1: 28.7082907\tbest: 28.6801775 (1856)\ttotal: 2m 39s\tremaining: 1m 32s\n",
            "2000:\tlearn: 7.5936326\ttest: 7.5936326\ttest1: 28.7087074\tbest: 28.6801775 (1856)\ttotal: 2m 48s\tremaining: 1m 24s\n",
            "Stopped by overfitting detector  (200 iterations wait)\n",
            "\n",
            "bestTest = 28.68017751\n",
            "bestIteration = 1856\n",
            "\n",
            "Shrink model to first 1857 iterations.\n",
            "err:  28.68017750668976\n",
            "0:\tlearn: 42.6804314\ttest: 42.6804314\ttest1: 55.0407373\tbest: 55.0407373 (0)\ttotal: 83.5ms\tremaining: 4m 10s\n",
            "100:\tlearn: 21.0386268\ttest: 21.0386268\ttest1: 35.0922036\tbest: 35.0889819 (98)\ttotal: 8.6s\tremaining: 4m 6s\n",
            "200:\tlearn: 18.2685896\ttest: 18.2685896\ttest1: 34.0269493\tbest: 34.0259541 (198)\ttotal: 16.9s\tremaining: 3m 55s\n",
            "300:\tlearn: 16.6781901\ttest: 16.6781901\ttest1: 33.5816502\tbest: 33.5792126 (299)\ttotal: 25.2s\tremaining: 3m 46s\n",
            "400:\tlearn: 15.5218062\ttest: 15.5218062\ttest1: 33.3207291\tbest: 33.2832732 (391)\ttotal: 33.5s\tremaining: 3m 37s\n",
            "500:\tlearn: 14.5650838\ttest: 14.5650838\ttest1: 33.1195640\tbest: 33.1156113 (491)\ttotal: 41.8s\tremaining: 3m 28s\n",
            "600:\tlearn: 13.7122879\ttest: 13.7122879\ttest1: 32.9519774\tbest: 32.9442912 (598)\ttotal: 50.2s\tremaining: 3m 20s\n",
            "700:\tlearn: 12.9624169\ttest: 12.9624169\ttest1: 32.8741693\tbest: 32.8741693 (700)\ttotal: 58.7s\tremaining: 3m 12s\n",
            "800:\tlearn: 12.3180064\ttest: 12.3180064\ttest1: 32.7823944\tbest: 32.7460089 (786)\ttotal: 1m 7s\tremaining: 3m 4s\n",
            "900:\tlearn: 11.7277357\ttest: 11.7277357\ttest1: 32.6632742\tbest: 32.6626259 (894)\ttotal: 1m 15s\tremaining: 2m 55s\n",
            "1000:\tlearn: 11.1912301\ttest: 11.1912301\ttest1: 32.6052968\tbest: 32.6039084 (999)\ttotal: 1m 23s\tremaining: 2m 47s\n",
            "1100:\tlearn: 10.6940144\ttest: 10.6940144\ttest1: 32.6016627\tbest: 32.5946920 (1089)\ttotal: 1m 32s\tremaining: 2m 39s\n",
            "1200:\tlearn: 10.2429702\ttest: 10.2429702\ttest1: 32.6107460\tbest: 32.5845181 (1134)\ttotal: 1m 40s\tremaining: 2m 30s\n",
            "1300:\tlearn: 9.8446116\ttest: 9.8446116\ttest1: 32.5611642\tbest: 32.5568287 (1292)\ttotal: 1m 49s\tremaining: 2m 22s\n",
            "1400:\tlearn: 9.4456658\ttest: 9.4456658\ttest1: 32.5165725\tbest: 32.5115488 (1396)\ttotal: 1m 57s\tremaining: 2m 14s\n",
            "1500:\tlearn: 9.0695465\ttest: 9.0695465\ttest1: 32.4711588\tbest: 32.4711588 (1500)\ttotal: 2m 6s\tremaining: 2m 5s\n",
            "1600:\tlearn: 8.7283634\ttest: 8.7283634\ttest1: 32.4079258\tbest: 32.4067181 (1599)\ttotal: 2m 14s\tremaining: 1m 57s\n",
            "1700:\tlearn: 8.3993302\ttest: 8.3993302\ttest1: 32.3693406\tbest: 32.3586843 (1684)\ttotal: 2m 22s\tremaining: 1m 49s\n",
            "1800:\tlearn: 8.1037905\ttest: 8.1037905\ttest1: 32.3190025\tbest: 32.3168821 (1797)\ttotal: 2m 31s\tremaining: 1m 40s\n",
            "1900:\tlearn: 7.8097358\ttest: 7.8097358\ttest1: 32.3259253\tbest: 32.2953364 (1858)\ttotal: 2m 39s\tremaining: 1m 32s\n",
            "2000:\tlearn: 7.5178549\ttest: 7.5178549\ttest1: 32.3173059\tbest: 32.2953364 (1858)\ttotal: 2m 48s\tremaining: 1m 23s\n",
            "Stopped by overfitting detector  (200 iterations wait)\n",
            "\n",
            "bestTest = 32.29533638\n",
            "bestIteration = 1858\n",
            "\n",
            "Shrink model to first 1859 iterations.\n",
            "err:  32.295336381056316\n",
            "0:\tlearn: 43.2823389\ttest: 43.2823389\ttest1: 48.5360904\tbest: 48.5360904 (0)\ttotal: 86ms\tremaining: 4m 18s\n",
            "100:\tlearn: 21.2088629\ttest: 21.2088629\ttest1: 28.0716793\tbest: 28.0716793 (100)\ttotal: 8.58s\tremaining: 4m 6s\n",
            "200:\tlearn: 18.5717694\ttest: 18.5717694\ttest1: 27.2209703\tbest: 27.2209703 (200)\ttotal: 16.9s\tremaining: 3m 55s\n",
            "300:\tlearn: 16.9707287\ttest: 16.9707287\ttest1: 26.9855857\tbest: 26.9520129 (287)\ttotal: 25.3s\tremaining: 3m 46s\n",
            "400:\tlearn: 15.7456523\ttest: 15.7456523\ttest1: 26.8697730\tbest: 26.8676983 (386)\ttotal: 33.6s\tremaining: 3m 38s\n",
            "500:\tlearn: 14.7685342\ttest: 14.7685342\ttest1: 26.6960731\tbest: 26.6951311 (493)\ttotal: 42.1s\tremaining: 3m 30s\n",
            "600:\tlearn: 13.9177818\ttest: 13.9177818\ttest1: 26.6261634\tbest: 26.5672449 (569)\ttotal: 50.7s\tremaining: 3m 22s\n",
            "700:\tlearn: 13.1890225\ttest: 13.1890225\ttest1: 26.5890371\tbest: 26.5649158 (682)\ttotal: 59.2s\tremaining: 3m 14s\n",
            "800:\tlearn: 12.5142526\ttest: 12.5142526\ttest1: 26.5791553\tbest: 26.5649158 (682)\ttotal: 1m 7s\tremaining: 3m 5s\n",
            "900:\tlearn: 11.9088889\ttest: 11.9088889\ttest1: 26.4945341\tbest: 26.4945341 (900)\ttotal: 1m 16s\tremaining: 2m 57s\n",
            "1000:\tlearn: 11.3627436\ttest: 11.3627436\ttest1: 26.4094666\tbest: 26.4012721 (994)\ttotal: 1m 24s\tremaining: 2m 48s\n",
            "1100:\tlearn: 10.8583484\ttest: 10.8583484\ttest1: 26.3888072\tbest: 26.3727788 (1076)\ttotal: 1m 33s\tremaining: 2m 40s\n",
            "1200:\tlearn: 10.3923858\ttest: 10.3923858\ttest1: 26.3749885\tbest: 26.3641183 (1145)\ttotal: 1m 41s\tremaining: 2m 31s\n",
            "1300:\tlearn: 9.9599694\ttest: 9.9599694\ttest1: 26.3116454\tbest: 26.3093609 (1293)\ttotal: 1m 49s\tremaining: 2m 23s\n",
            "1400:\tlearn: 9.5568964\ttest: 9.5568964\ttest1: 26.2391791\tbest: 26.2355943 (1398)\ttotal: 1m 58s\tremaining: 2m 15s\n",
            "1500:\tlearn: 9.1784134\ttest: 9.1784134\ttest1: 26.2037045\tbest: 26.1951159 (1457)\ttotal: 2m 6s\tremaining: 2m 6s\n",
            "1600:\tlearn: 8.8196940\ttest: 8.8196940\ttest1: 26.1913980\tbest: 26.1825624 (1525)\ttotal: 2m 15s\tremaining: 1m 58s\n",
            "1700:\tlearn: 8.4839486\ttest: 8.4839486\ttest1: 26.1714265\tbest: 26.1714265 (1700)\ttotal: 2m 23s\tremaining: 1m 49s\n",
            "1800:\tlearn: 8.1788194\ttest: 8.1788194\ttest1: 26.1517711\tbest: 26.1440413 (1791)\ttotal: 2m 32s\tremaining: 1m 41s\n",
            "1900:\tlearn: 7.8761682\ttest: 7.8761682\ttest1: 26.1568985\tbest: 26.1423085 (1807)\ttotal: 2m 40s\tremaining: 1m 32s\n",
            "2000:\tlearn: 7.5926329\ttest: 7.5926329\ttest1: 26.1424658\tbest: 26.1412718 (1990)\ttotal: 2m 49s\tremaining: 1m 24s\n",
            "2100:\tlearn: 7.3197849\ttest: 7.3197849\ttest1: 26.0924667\tbest: 26.0923400 (2095)\ttotal: 2m 57s\tremaining: 1m 16s\n",
            "2200:\tlearn: 7.0592674\ttest: 7.0592674\ttest1: 26.1124408\tbest: 26.0862116 (2155)\ttotal: 3m 6s\tremaining: 1m 7s\n",
            "2300:\tlearn: 6.8163590\ttest: 6.8163590\ttest1: 26.0957725\tbest: 26.0862116 (2155)\ttotal: 3m 14s\tremaining: 59.2s\n",
            "Stopped by overfitting detector  (200 iterations wait)\n",
            "\n",
            "bestTest = 26.08621162\n",
            "bestIteration = 2155\n",
            "\n",
            "Shrink model to first 2156 iterations.\n",
            "err:  26.08621162233698\n",
            "0:\tlearn: 43.8085038\ttest: 43.8085038\ttest1: 43.7081129\tbest: 43.7081129 (0)\ttotal: 91.9ms\tremaining: 4m 35s\n",
            "100:\tlearn: 21.0369819\ttest: 21.0369819\ttest1: 31.4567905\tbest: 31.4567905 (100)\ttotal: 8.83s\tremaining: 4m 13s\n",
            "200:\tlearn: 18.4121862\ttest: 18.4121862\ttest1: 30.5878029\tbest: 30.5878029 (200)\ttotal: 17.2s\tremaining: 3m 59s\n",
            "300:\tlearn: 16.7767019\ttest: 16.7767019\ttest1: 30.1123364\tbest: 30.1123364 (300)\ttotal: 25.6s\tremaining: 3m 49s\n",
            "400:\tlearn: 15.6164372\ttest: 15.6164372\ttest1: 29.8972912\tbest: 29.8905042 (399)\ttotal: 34s\tremaining: 3m 40s\n",
            "700:\tlearn: 13.1071385\ttest: 13.1071385\ttest1: 29.6866630\tbest: 29.6580620 (608)\ttotal: 59.4s\tremaining: 3m 14s\n",
            "800:\tlearn: 12.4574785\ttest: 12.4574785\ttest1: 29.5885409\tbest: 29.5755823 (793)\ttotal: 1m 7s\tremaining: 3m 6s\n",
            "900:\tlearn: 11.8461938\ttest: 11.8461938\ttest1: 29.5354462\tbest: 29.5264584 (858)\ttotal: 1m 16s\tremaining: 2m 58s\n",
            "1000:\tlearn: 11.3220766\ttest: 11.3220766\ttest1: 29.5785168\tbest: 29.5264584 (858)\ttotal: 1m 25s\tremaining: 2m 50s\n",
            "1100:\tlearn: 10.8260039\ttest: 10.8260039\ttest1: 29.4924891\tbest: 29.4924891 (1100)\ttotal: 1m 33s\tremaining: 2m 41s\n",
            "1200:\tlearn: 10.3522114\ttest: 10.3522114\ttest1: 29.4961865\tbest: 29.4884611 (1121)\ttotal: 1m 42s\tremaining: 2m 33s\n",
            "1300:\tlearn: 9.9193748\ttest: 9.9193748\ttest1: 29.5175136\tbest: 29.4884611 (1121)\ttotal: 1m 50s\tremaining: 2m 24s\n",
            "Stopped by overfitting detector  (200 iterations wait)\n",
            "\n",
            "bestTest = 29.48846106\n",
            "bestIteration = 1121\n",
            "\n",
            "Shrink model to first 1122 iterations.\n",
            "err:  29.488461057027614\n"
          ],
          "name": "stdout"
        },
        {
          "output_type": "execute_result",
          "data": {
            "text/plain": [
              "26.66330043122154"
            ]
          },
          "metadata": {
            "tags": []
          },
          "execution_count": 132
        }
      ]
    },
    {
      "cell_type": "code",
      "metadata": {
        "id": "TWA3SUvxRn9B",
        "colab_type": "code",
        "outputId": "a0114cab-1de1-4e76-a947-365aba598ba6",
        "colab": {
          "base_uri": "https://localhost:8080/",
          "height": 35
        }
      },
      "source": [
        "np.mean(errcb2)"
      ],
      "execution_count": 0,
      "outputs": [
        {
          "output_type": "execute_result",
          "data": {
            "text/plain": [
              "26.66330043122154"
            ]
          },
          "metadata": {
            "tags": []
          },
          "execution_count": 133
        }
      ]
    },
    {
      "cell_type": "code",
      "metadata": {
        "id": "pym1A05Us19F",
        "colab_type": "code",
        "colab": {}
      },
      "source": [
        ""
      ],
      "execution_count": 0,
      "outputs": []
    },
    {
      "cell_type": "code",
      "metadata": {
        "id": "GzpHt7vnSu29",
        "colab_type": "code",
        "colab": {}
      },
      "source": [
        "d = {'Place_ID X Date': test_id, 'target': np.mean(y_pred_totcb2, 0)}\n",
        "sub = pd.DataFrame(data=d)\n",
        "sub = sub[['Place_ID X Date', 'target']]"
      ],
      "execution_count": 0,
      "outputs": []
    },
    {
      "cell_type": "code",
      "metadata": {
        "id": "SGleXaCxvg5o",
        "colab_type": "code",
        "colab": {}
      },
      "source": [
        "#sub.target = np.abs(sub.target)"
      ],
      "execution_count": 0,
      "outputs": []
    },
    {
      "cell_type": "code",
      "metadata": {
        "id": "yk65rkCYtBhM",
        "colab_type": "code",
        "outputId": "076e0f24-8cf5-4263-fac4-ff5b1933f0b5",
        "colab": {
          "base_uri": "https://localhost:8080/",
          "height": 35
        }
      },
      "source": [
        "sub.target.min(),sub.target.max()"
      ],
      "execution_count": 0,
      "outputs": [
        {
          "output_type": "execute_result",
          "data": {
            "text/plain": [
              "(2.247274455297756, 250.19209925167988)"
            ]
          },
          "metadata": {
            "tags": []
          },
          "execution_count": 136
        }
      ]
    },
    {
      "cell_type": "code",
      "metadata": {
        "id": "5CrG05G7Sq_k",
        "colab_type": "code",
        "colab": {}
      },
      "source": [
        "sub.to_csv(\"agg.csv\",index  = False)"
      ],
      "execution_count": 0,
      "outputs": []
    },
    {
      "cell_type": "code",
      "metadata": {
        "id": "K_cz1QhPS5il",
        "colab_type": "code",
        "colab": {}
      },
      "source": [
        "from google.colab import files"
      ],
      "execution_count": 0,
      "outputs": []
    },
    {
      "cell_type": "code",
      "metadata": {
        "id": "rB22TivcS5qs",
        "colab_type": "code",
        "colab": {}
      },
      "source": [
        "files.download(\"agg.csv\")"
      ],
      "execution_count": 0,
      "outputs": []
    }
  ]
}
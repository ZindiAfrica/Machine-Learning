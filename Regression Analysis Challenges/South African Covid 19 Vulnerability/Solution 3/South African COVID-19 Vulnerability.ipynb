{
 "cells": [
  {
   "cell_type": "code",
   "execution_count": 1,
   "metadata": {},
   "outputs": [
    {
     "name": "stdout",
     "output_type": "stream",
     "text": [
      "Requirement already satisfied: scikit-learn==0.21.3 in /home/philmassie/snap/jupyter/common/lib/python3.7/site-packages (0.21.3)\r\n",
      "Requirement already satisfied: joblib>=0.11 in /home/philmassie/snap/jupyter/common/lib/python3.7/site-packages (from scikit-learn==0.21.3) (0.14.0)\r\n",
      "Requirement already satisfied: scipy>=0.17.0 in /home/philmassie/snap/jupyter/common/lib/python3.7/site-packages (from scikit-learn==0.21.3) (1.3.3)\r\n",
      "Requirement already satisfied: numpy>=1.11.0 in /home/philmassie/snap/jupyter/common/lib/python3.7/site-packages (from scikit-learn==0.21.3) (1.17.4)\r\n"
     ]
    }
   ],
   "source": [
    "!pip install scikit-learn==0.21.3"
   ]
  },
  {
   "cell_type": "code",
   "execution_count": 2,
   "metadata": {},
   "outputs": [
    {
     "name": "stderr",
     "output_type": "stream",
     "text": [
      "/home/philmassie/snap/jupyter/common/lib/python3.7/site-packages/joblib/_multiprocessing_helpers.py:53: UserWarning: [Errno 13] Permission denied.  joblib will operate in serial mode\n",
      "  warnings.warn('%s.  joblib will operate in serial mode' % (e,))\n"
     ]
    }
   ],
   "source": [
    "# Import the libraries\n",
    "import numpy as np\n",
    "import pandas as pd\n",
    "import matplotlib.pyplot as plt\n",
    "import seaborn as sns\n",
    "import warnings\n",
    "from catboost import CatBoostRegressor, CatBoostClassifier\n",
    "from sklearn.metrics import mean_squared_error\n",
    "\n",
    "warnings.filterwarnings('ignore')\n",
    "%matplotlib inline\n",
    "pd.set_option('max_column', 1000)"
   ]
  },
  {
   "cell_type": "code",
   "execution_count": 3,
   "metadata": {},
   "outputs": [],
   "source": [
    "import numpy as np # linear algebra\n",
    "import pandas as pd # data processing, CSV file I/O (e.g. pd.read_csv)\n",
    "\n",
    "# Input data files are available in the \"../input/\" directory.\n",
    "# For example, running this (by clicking run or pressing Shift+Enter) will list all files under the input directory\n",
    "\n",
    "import os\n",
    "for dirname, _, filenames in os.walk('/kaggle/input'):\n",
    "    for filename in filenames:\n",
    "        print(os.path.join(dirname, filename))"
   ]
  },
  {
   "cell_type": "code",
   "execution_count": 4,
   "metadata": {},
   "outputs": [],
   "source": [
    "train = pd.read_csv('Train_maskedv2.csv')\n",
    "test = pd.read_csv('Test_maskedv2.csv')\n",
    "sample = pd.read_csv('samplesubmissionv2.csv')\n",
    "description = pd.read_csv('variable_descriptions_v2.csv')"
   ]
  },
  {
   "cell_type": "code",
   "execution_count": 5,
   "metadata": {},
   "outputs": [],
   "source": [
    "pd.set_option('max_colwidth', 200)\n",
    "pd.set_option('max_info_rows', 1000)"
   ]
  },
  {
   "cell_type": "code",
   "execution_count": 6,
   "metadata": {},
   "outputs": [],
   "source": [
    "train.drop(columns=['dw_12', 'dw_13', 'lan_13'], inplace=True)\n",
    "test.drop(columns=['dw_12', 'dw_13', 'lan_13'], inplace=True)"
   ]
  },
  {
   "cell_type": "code",
   "execution_count": 7,
   "metadata": {},
   "outputs": [],
   "source": [
    "train_len = len(train)\n",
    "data=pd.concat([train,test])"
   ]
  },
  {
   "cell_type": "code",
   "execution_count": 8,
   "metadata": {},
   "outputs": [],
   "source": [
    "data['rich'] = data['car_01']+data['stv_01']+data['psa_01']+data['dw_02']+data['lln_00']\n",
    "data['poor'] = data['car_00'] +data['stv_00']+data['psa_00']+data['dw_01']+data['lln_01']"
   ]
  },
  {
   "cell_type": "code",
   "execution_count": 9,
   "metadata": {},
   "outputs": [],
   "source": [
    "data['household_size'] =data['total_individuals'] / data['total_households']"
   ]
  },
  {
   "cell_type": "code",
   "execution_count": 10,
   "metadata": {},
   "outputs": [],
   "source": [
    "from sklearn.cluster import KMeans\n",
    "columns=data.drop([\"target_pct_vunerable\",\"ward\"],1).columns\n",
    "\n",
    "data_km=data[columns].copy()\n",
    "\n",
    "data_km[\"total_households\"]/=data_km[\"total_households\"].max()\n",
    "data_km[\"total_individuals\"]/=data_km[\"total_individuals\"].max()\n",
    "\n",
    "km=KMeans(15,random_state=2019)\n",
    "data[\"cluster\"]=km.fit_predict(data_km[columns])"
   ]
  },
  {
   "cell_type": "code",
   "execution_count": 11,
   "metadata": {},
   "outputs": [
    {
     "data": {
      "text/plain": [
       "7     493\n",
       "3     468\n",
       "0     409\n",
       "8     392\n",
       "13    381\n",
       "12    376\n",
       "9     359\n",
       "4     343\n",
       "2     337\n",
       "14    298\n",
       "11    213\n",
       "6     187\n",
       "10     17\n",
       "5       2\n",
       "1       1\n",
       "Name: cluster, dtype: int64"
      ]
     },
     "execution_count": 11,
     "metadata": {},
     "output_type": "execute_result"
    }
   ],
   "source": [
    "data['cluster'].value_counts()"
   ]
  },
  {
   "cell_type": "code",
   "execution_count": 12,
   "metadata": {},
   "outputs": [],
   "source": [
    "train = data[:train_len]\n",
    "test = data[train_len:]"
   ]
  },
  {
   "cell_type": "code",
   "execution_count": 13,
   "metadata": {},
   "outputs": [],
   "source": [
    "_id = test['ward']\n",
    "test.drop(columns=['target_pct_vunerable','ward'], inplace=True)\n",
    "train.drop(columns=['ward'], inplace=True)"
   ]
  },
  {
   "cell_type": "code",
   "execution_count": 14,
   "metadata": {},
   "outputs": [
    {
     "data": {
      "text/plain": [
       "((3174, 50), (1102, 49))"
      ]
     },
     "execution_count": 14,
     "metadata": {},
     "output_type": "execute_result"
    }
   ],
   "source": [
    "train.shape, test.shape"
   ]
  },
  {
   "cell_type": "code",
   "execution_count": 15,
   "metadata": {},
   "outputs": [],
   "source": [
    "train['total_households'] = np.log10(train['total_households'])\n",
    "test['total_households'] = np.log10(test['total_households'])\n",
    "\n",
    "train['total_individuals'] = np.log10(train['total_individuals'])\n",
    "test['total_individuals'] = np.log10(test['total_individuals'])"
   ]
  },
  {
   "cell_type": "code",
   "execution_count": 16,
   "metadata": {},
   "outputs": [],
   "source": [
    "X = train.drop(columns=['target_pct_vunerable'])\n",
    "y = train['target_pct_vunerable']"
   ]
  },
  {
   "cell_type": "code",
   "execution_count": 17,
   "metadata": {
    "scrolled": false
   },
   "outputs": [
    {
     "data": {
      "text/plain": [
       "Index(['car_00', 'car_01', 'dw_00', 'dw_01', 'dw_02', 'dw_03', 'dw_04',\n",
       "       'dw_05', 'dw_06', 'dw_07', 'dw_08', 'dw_09', 'dw_10', 'dw_11', 'lan_00',\n",
       "       'lan_01', 'lan_02', 'lan_03', 'lan_04', 'lan_05', 'lan_06', 'lan_07',\n",
       "       'lan_08', 'lan_09', 'lan_10', 'lan_11', 'lan_12', 'lan_14', 'lgt_00',\n",
       "       'lln_00', 'lln_01', 'pg_00', 'pg_01', 'pg_02', 'pg_03', 'pg_04',\n",
       "       'psa_00', 'psa_01', 'psa_02', 'psa_03', 'psa_04', 'stv_00', 'stv_01',\n",
       "       'total_households', 'total_individuals', 'rich', 'poor',\n",
       "       'household_size', 'cluster'],\n",
       "      dtype='object')"
      ]
     },
     "execution_count": 17,
     "metadata": {},
     "output_type": "execute_result"
    }
   ],
   "source": [
    "X.columns"
   ]
  },
  {
   "cell_type": "code",
   "execution_count": 18,
   "metadata": {},
   "outputs": [
    {
     "data": {
      "text/plain": [
       "False"
      ]
     },
     "execution_count": 18,
     "metadata": {},
     "output_type": "execute_result"
    }
   ],
   "source": [
    "X.isna().sum().any()"
   ]
  },
  {
   "cell_type": "code",
   "execution_count": 19,
   "metadata": {},
   "outputs": [],
   "source": [
    "col = ['car_00', 'car_01', 'dw_00', 'dw_01', 'dw_02', 'dw_03', 'dw_04',\n",
    "       'lan_08', 'lan_09', 'lan_10', 'lan_11', 'lan_12', 'lan_14', 'lgt_00',\n",
    "       'dw_05', 'dw_06', 'dw_07', 'dw_08', 'dw_09', 'dw_10', 'dw_11', 'lan_00',\n",
    "       'lan_01', 'lan_02', 'lan_03', 'lan_04', 'lan_05', 'lan_06', 'lan_07',\n",
    "       'lln_00', 'lln_01', 'pg_00', 'pg_01', 'pg_02', 'pg_03', 'pg_04',\n",
    "       'psa_00', 'psa_01', 'psa_02', 'psa_03', 'psa_04', 'stv_00', 'stv_01',\n",
    "        'rich', 'poor']"
   ]
  },
  {
   "cell_type": "code",
   "execution_count": 20,
   "metadata": {},
   "outputs": [],
   "source": [
    "X[col] = X[col].round(2)\n",
    "test[col] = test[col].round(2)"
   ]
  },
  {
   "cell_type": "code",
   "execution_count": 21,
   "metadata": {},
   "outputs": [
    {
     "data": {
      "text/plain": [
       "array([48])"
      ]
     },
     "execution_count": 21,
     "metadata": {},
     "output_type": "execute_result"
    }
   ],
   "source": [
    "categorical_features_indices = np.where(X.dtypes != np.float)[0]; categorical_features_indices"
   ]
  },
  {
   "cell_type": "code",
   "execution_count": 22,
   "metadata": {},
   "outputs": [
    {
     "data": {
      "text/plain": [
       "7     413\n",
       "13    381\n",
       "12    369\n",
       "9     359\n",
       "3     346\n",
       "4     343\n",
       "2     337\n",
       "14    297\n",
       "6     175\n",
       "8     124\n",
       "0      13\n",
       "11     11\n",
       "10      5\n",
       "1       1\n",
       "Name: cluster, dtype: int64"
      ]
     },
     "execution_count": 22,
     "metadata": {},
     "output_type": "execute_result"
    }
   ],
   "source": [
    "X['cluster'].value_counts()"
   ]
  },
  {
   "cell_type": "code",
   "execution_count": 23,
   "metadata": {},
   "outputs": [
    {
     "name": "stdout",
     "output_type": "stream",
     "text": [
      "0:\tlearn: 12.1780208\ttest: 12.1780208\ttest1: 13.1044743\tbest: 13.1044743 (0)\ttotal: 55.1ms\tremaining: 9m 10s\n",
      "100:\tlearn: 5.6174210\ttest: 5.6132629\ttest1: 5.5393814\tbest: 5.5390735 (95)\ttotal: 531ms\tremaining: 52s\n",
      "200:\tlearn: 4.4863793\ttest: 4.4817942\ttest1: 5.2740907\tbest: 5.2546821 (190)\ttotal: 1s\tremaining: 48.9s\n",
      "300:\tlearn: 3.7980081\ttest: 3.8010415\ttest1: 5.1792462\tbest: 5.1792462 (300)\ttotal: 1.48s\tremaining: 47.6s\n",
      "400:\tlearn: 3.3354550\ttest: 3.3414800\ttest1: 5.1836335\tbest: 5.1401847 (337)\ttotal: 1.94s\tremaining: 46.4s\n",
      "500:\tlearn: 2.9796511\ttest: 2.9941472\ttest1: 5.1514855\tbest: 5.1401847 (337)\ttotal: 2.41s\tremaining: 45.8s\n",
      "600:\tlearn: 2.6850130\ttest: 2.7018982\ttest1: 5.1083993\tbest: 5.0993322 (565)\ttotal: 2.87s\tremaining: 45s\n",
      "700:\tlearn: 2.4217856\ttest: 2.4425302\ttest1: 5.0739039\tbest: 5.0729149 (697)\ttotal: 3.35s\tremaining: 44.5s\n",
      "800:\tlearn: 2.2032932\ttest: 2.2265055\ttest1: 5.0774592\tbest: 5.0656514 (706)\ttotal: 3.83s\tremaining: 44.1s\n",
      "900:\tlearn: 2.0289666\ttest: 2.0531066\ttest1: 5.1052135\tbest: 5.0656514 (706)\ttotal: 4.3s\tremaining: 43.5s\n",
      "1000:\tlearn: 1.8601378\ttest: 1.8871556\ttest1: 5.1151942\tbest: 5.0656514 (706)\ttotal: 4.77s\tremaining: 42.9s\n",
      "Stopped by overfitting detector  (300 iterations wait)\n",
      "\n",
      "bestTest = 5.065651405\n",
      "bestIteration = 706\n",
      "\n",
      "Shrink model to first 707 iterations.\n",
      "err:  5.065651418086664\n",
      "0:\tlearn: 12.2590702\ttest: 12.2590702\ttest1: 11.3198218\tbest: 11.3198218 (0)\ttotal: 5.08ms\tremaining: 50.7s\n",
      "100:\tlearn: 5.6014892\ttest: 5.5995512\ttest1: 5.7756177\tbest: 5.7756177 (100)\ttotal: 487ms\tremaining: 47.7s\n",
      "200:\tlearn: 4.5186691\ttest: 4.5299296\ttest1: 5.6276813\tbest: 5.6200072 (197)\ttotal: 996ms\tremaining: 48.6s\n",
      "300:\tlearn: 3.8410430\ttest: 3.8635900\ttest1: 5.5833581\tbest: 5.5792967 (279)\ttotal: 1.46s\tremaining: 47.1s\n",
      "400:\tlearn: 3.3537482\ttest: 3.3808155\ttest1: 5.5997857\tbest: 5.5567143 (322)\ttotal: 1.92s\tremaining: 46s\n",
      "500:\tlearn: 2.9420917\ttest: 2.9760492\ttest1: 5.6226398\tbest: 5.5567143 (322)\ttotal: 2.39s\tremaining: 45.3s\n",
      "600:\tlearn: 2.6420316\ttest: 2.6804574\ttest1: 5.6487279\tbest: 5.5567143 (322)\ttotal: 2.87s\tremaining: 44.9s\n",
      "Stopped by overfitting detector  (300 iterations wait)\n",
      "\n",
      "bestTest = 5.55671432\n",
      "bestIteration = 322\n",
      "\n",
      "Shrink model to first 323 iterations.\n",
      "err:  5.556714316747196\n",
      "0:\tlearn: 12.2168309\ttest: 12.2168309\ttest1: 11.9769586\tbest: 11.9769586 (0)\ttotal: 19.5ms\tremaining: 3m 14s\n",
      "100:\tlearn: 5.5988280\ttest: 5.5970968\ttest1: 6.0215515\tbest: 6.0194356 (99)\ttotal: 496ms\tremaining: 48.7s\n",
      "200:\tlearn: 4.5321788\ttest: 4.5340835\ttest1: 5.6263608\tbest: 5.6263608 (200)\ttotal: 1.08s\tremaining: 52.5s\n",
      "300:\tlearn: 3.8574502\ttest: 3.8653799\ttest1: 5.4121594\tbest: 5.4121594 (300)\ttotal: 1.54s\tremaining: 49.8s\n",
      "400:\tlearn: 3.3818362\ttest: 3.3944607\ttest1: 5.3801487\tbest: 5.3687281 (343)\ttotal: 2.02s\tremaining: 48.5s\n",
      "500:\tlearn: 3.0252123\ttest: 3.0419438\ttest1: 5.4057552\tbest: 5.3687281 (343)\ttotal: 2.51s\tremaining: 47.6s\n",
      "600:\tlearn: 2.7526825\ttest: 2.7751126\ttest1: 5.4119070\tbest: 5.3687281 (343)\ttotal: 2.99s\tremaining: 46.7s\n",
      "Stopped by overfitting detector  (300 iterations wait)\n",
      "\n",
      "bestTest = 5.368728058\n",
      "bestIteration = 343\n",
      "\n",
      "Shrink model to first 344 iterations.\n",
      "err:  5.368728103549139\n",
      "0:\tlearn: 12.2047188\ttest: 12.2047188\ttest1: 12.0080434\tbest: 12.0080434 (0)\ttotal: 8.81ms\tremaining: 1m 28s\n",
      "100:\tlearn: 5.6048785\ttest: 5.6022153\ttest1: 6.2923830\tbest: 6.2813053 (96)\ttotal: 463ms\tremaining: 45.4s\n",
      "200:\tlearn: 4.5114277\ttest: 4.5126431\ttest1: 5.9680403\tbest: 5.9576691 (195)\ttotal: 940ms\tremaining: 45.8s\n",
      "300:\tlearn: 3.7892659\ttest: 3.8008571\ttest1: 5.7946197\tbest: 5.7946197 (300)\ttotal: 1.41s\tremaining: 45.5s\n",
      "400:\tlearn: 3.3361159\ttest: 3.3502209\ttest1: 5.6789103\tbest: 5.6737441 (380)\ttotal: 1.9s\tremaining: 45.5s\n",
      "500:\tlearn: 2.9533819\ttest: 2.9704891\ttest1: 5.6449612\tbest: 5.6443898 (496)\ttotal: 2.38s\tremaining: 45.2s\n",
      "600:\tlearn: 2.6865668\ttest: 2.7062690\ttest1: 5.6467090\tbest: 5.6135809 (534)\ttotal: 2.86s\tremaining: 44.7s\n",
      "700:\tlearn: 2.4176271\ttest: 2.4410624\ttest1: 5.6288283\tbest: 5.6135809 (534)\ttotal: 3.35s\tremaining: 44.4s\n",
      "800:\tlearn: 2.2103540\ttest: 2.2357884\ttest1: 5.6066165\tbest: 5.6056086 (775)\ttotal: 3.82s\tremaining: 43.9s\n",
      "900:\tlearn: 2.0152848\ttest: 2.0444032\ttest1: 5.5599814\tbest: 5.5545740 (893)\ttotal: 4.3s\tremaining: 43.5s\n",
      "1000:\tlearn: 1.8453818\ttest: 1.8806610\ttest1: 5.5518946\tbest: 5.5498437 (990)\ttotal: 4.79s\tremaining: 43s\n",
      "1100:\tlearn: 1.7116213\ttest: 1.7496756\ttest1: 5.5340994\tbest: 5.5340994 (1100)\ttotal: 5.26s\tremaining: 42.5s\n",
      "1200:\tlearn: 1.6076226\ttest: 1.6481474\ttest1: 5.5314994\tbest: 5.5295265 (1108)\ttotal: 5.74s\tremaining: 42s\n",
      "1300:\tlearn: 1.4929532\ttest: 1.5365072\ttest1: 5.5175703\tbest: 5.5148254 (1292)\ttotal: 6.21s\tremaining: 41.5s\n",
      "1400:\tlearn: 1.3689542\ttest: 1.4148443\ttest1: 5.5307385\tbest: 5.5131970 (1311)\ttotal: 6.73s\tremaining: 41.3s\n",
      "1500:\tlearn: 1.2724498\ttest: 1.3193424\ttest1: 5.5425197\tbest: 5.5131970 (1311)\ttotal: 7.21s\tremaining: 40.8s\n",
      "1600:\tlearn: 1.1746769\ttest: 1.2234647\ttest1: 5.5371788\tbest: 5.5131970 (1311)\ttotal: 7.72s\tremaining: 40.5s\n",
      "Stopped by overfitting detector  (300 iterations wait)\n",
      "\n",
      "bestTest = 5.513197019\n",
      "bestIteration = 1311\n",
      "\n",
      "Shrink model to first 1312 iterations.\n",
      "err:  5.513197038119137\n",
      "0:\tlearn: 12.1252666\ttest: 12.1252666\ttest1: 13.4030147\tbest: 13.4030147 (0)\ttotal: 4.94ms\tremaining: 49.4s\n",
      "100:\tlearn: 5.5117653\ttest: 5.5184177\ttest1: 6.6611047\tbest: 6.6611047 (100)\ttotal: 455ms\tremaining: 44.6s\n",
      "200:\tlearn: 4.5177534\ttest: 4.5274771\ttest1: 6.3596152\tbest: 6.3543232 (199)\ttotal: 925ms\tremaining: 45.1s\n",
      "300:\tlearn: 3.8856305\ttest: 3.9069340\ttest1: 6.2540889\tbest: 6.2540889 (300)\ttotal: 1.39s\tremaining: 44.9s\n",
      "400:\tlearn: 3.3635703\ttest: 3.3965278\ttest1: 6.1954387\tbest: 6.1890028 (368)\ttotal: 1.86s\tremaining: 44.6s\n",
      "500:\tlearn: 2.9750820\ttest: 3.0103010\ttest1: 6.1663465\tbest: 6.1663465 (500)\ttotal: 2.34s\tremaining: 44.3s\n",
      "600:\tlearn: 2.6956806\ttest: 2.7333613\ttest1: 6.1206341\tbest: 6.1161985 (596)\ttotal: 2.82s\tremaining: 44.1s\n",
      "700:\tlearn: 2.4344038\ttest: 2.4766778\ttest1: 6.0745027\tbest: 6.0719684 (677)\ttotal: 3.29s\tremaining: 43.6s\n",
      "800:\tlearn: 2.2145495\ttest: 2.2605798\ttest1: 6.0490196\tbest: 6.0454696 (796)\ttotal: 3.75s\tremaining: 43.1s\n",
      "900:\tlearn: 2.0033613\ttest: 2.0515959\ttest1: 6.0291645\tbest: 6.0272044 (866)\ttotal: 4.23s\tremaining: 42.8s\n",
      "1000:\tlearn: 1.8257298\ttest: 1.8746438\ttest1: 6.0215048\tbest: 6.0030281 (975)\ttotal: 4.71s\tremaining: 42.3s\n",
      "1100:\tlearn: 1.6720813\ttest: 1.7237783\ttest1: 6.0222280\tbest: 6.0030281 (975)\ttotal: 5.19s\tremaining: 41.9s\n",
      "1200:\tlearn: 1.5307335\ttest: 1.5855473\ttest1: 6.0346649\tbest: 6.0030281 (975)\ttotal: 5.66s\tremaining: 41.5s\n",
      "Stopped by overfitting detector  (300 iterations wait)\n",
      "\n",
      "bestTest = 6.003028063\n",
      "bestIteration = 975\n",
      "\n",
      "Shrink model to first 976 iterations.\n",
      "err:  6.003028033441196\n",
      "0:\tlearn: 12.2205314\ttest: 12.2205314\ttest1: 12.0885412\tbest: 12.0885412 (0)\ttotal: 16.7ms\tremaining: 2m 47s\n",
      "100:\tlearn: 5.6045066\ttest: 5.5943184\ttest1: 6.0472881\tbest: 6.0472881 (100)\ttotal: 502ms\tremaining: 49.2s\n",
      "200:\tlearn: 4.5313416\ttest: 4.5316858\ttest1: 5.9803271\tbest: 5.9733430 (157)\ttotal: 967ms\tremaining: 47.1s\n",
      "300:\tlearn: 3.8597963\ttest: 3.8677140\ttest1: 5.9616838\tbest: 5.9332668 (273)\ttotal: 1.43s\tremaining: 46.1s\n",
      "400:\tlearn: 3.3573872\ttest: 3.3712396\ttest1: 5.9927482\tbest: 5.9332668 (273)\ttotal: 1.92s\tremaining: 45.9s\n",
      "500:\tlearn: 2.9440079\ttest: 2.9632347\ttest1: 5.9871819\tbest: 5.9332668 (273)\ttotal: 2.4s\tremaining: 45.6s\n",
      "Stopped by overfitting detector  (300 iterations wait)\n",
      "\n",
      "bestTest = 5.933266795\n",
      "bestIteration = 273\n",
      "\n",
      "Shrink model to first 274 iterations.\n",
      "err:  5.933266768392303\n",
      "0:\tlearn: 12.2330009\ttest: 12.2330009\ttest1: 11.7209288\tbest: 11.7209288 (0)\ttotal: 8.99ms\tremaining: 1m 29s\n",
      "100:\tlearn: 5.6500582\ttest: 5.6462445\ttest1: 5.5829240\tbest: 5.5808798 (97)\ttotal: 474ms\tremaining: 46.5s\n",
      "200:\tlearn: 4.5038284\ttest: 4.5024083\ttest1: 5.2638024\tbest: 5.2471986 (191)\ttotal: 965ms\tremaining: 47s\n",
      "300:\tlearn: 3.8312455\ttest: 3.8361575\ttest1: 5.2299376\tbest: 5.2065719 (292)\ttotal: 1.52s\tremaining: 49.2s\n",
      "400:\tlearn: 3.3778261\ttest: 3.3844706\ttest1: 5.1106617\tbest: 5.1106617 (400)\ttotal: 2.16s\tremaining: 51.6s\n",
      "500:\tlearn: 2.9666562\ttest: 2.9818421\ttest1: 5.0801412\tbest: 5.0637373 (476)\ttotal: 3.19s\tremaining: 1m\n",
      "600:\tlearn: 2.6499294\ttest: 2.6721406\ttest1: 5.0726662\tbest: 5.0637373 (476)\ttotal: 3.78s\tremaining: 59.1s\n"
     ]
    },
    {
     "name": "stdout",
     "output_type": "stream",
     "text": [
      "700:\tlearn: 2.4133965\ttest: 2.4406559\ttest1: 5.0535571\tbest: 5.0535571 (700)\ttotal: 4.38s\tremaining: 58.1s\n",
      "800:\tlearn: 2.1704105\ttest: 2.2034776\ttest1: 5.0672229\tbest: 5.0491884 (735)\ttotal: 4.93s\tremaining: 56.7s\n",
      "900:\tlearn: 1.9928762\ttest: 2.0302171\ttest1: 5.0508519\tbest: 5.0491884 (735)\ttotal: 5.53s\tremaining: 55.8s\n",
      "1000:\tlearn: 1.8254726\ttest: 1.8660332\ttest1: 5.0380197\tbest: 5.0343727 (975)\ttotal: 6.14s\tremaining: 55.2s\n",
      "1100:\tlearn: 1.6757789\ttest: 1.7174212\ttest1: 5.0426092\tbest: 5.0325298 (1006)\ttotal: 6.68s\tremaining: 54s\n",
      "1200:\tlearn: 1.5342039\ttest: 1.5788098\ttest1: 5.0383624\tbest: 5.0311085 (1134)\ttotal: 7.23s\tremaining: 53s\n",
      "1300:\tlearn: 1.3941805\ttest: 1.4419058\ttest1: 5.0515694\tbest: 5.0311085 (1134)\ttotal: 7.8s\tremaining: 52.1s\n",
      "1400:\tlearn: 1.2836839\ttest: 1.3330413\ttest1: 5.0458559\tbest: 5.0311085 (1134)\ttotal: 8.5s\tremaining: 52.2s\n",
      "Stopped by overfitting detector  (300 iterations wait)\n",
      "\n",
      "bestTest = 5.031108518\n",
      "bestIteration = 1134\n",
      "\n",
      "Shrink model to first 1135 iterations.\n",
      "err:  5.031108523685533\n",
      "0:\tlearn: 12.1136122\ttest: 12.1136122\ttest1: 13.6887505\tbest: 13.6887505 (0)\ttotal: 7.63ms\tremaining: 1m 16s\n",
      "100:\tlearn: 5.1522096\ttest: 5.1488841\ttest1: 8.1290445\tbest: 8.1290445 (100)\ttotal: 552ms\tremaining: 54.1s\n",
      "200:\tlearn: 4.2894384\ttest: 4.2904125\ttest1: 7.9982051\tbest: 7.9955902 (191)\ttotal: 1.11s\tremaining: 54s\n",
      "300:\tlearn: 3.7102729\ttest: 3.7153845\ttest1: 7.9076829\tbest: 7.9033469 (297)\ttotal: 2.33s\tremaining: 1m 14s\n",
      "400:\tlearn: 3.2461928\ttest: 3.2539256\ttest1: 7.8991775\tbest: 7.8794983 (354)\ttotal: 3.54s\tremaining: 1m 24s\n",
      "500:\tlearn: 2.9021651\ttest: 2.9146637\ttest1: 7.9150634\tbest: 7.8794983 (354)\ttotal: 4.81s\tremaining: 1m 31s\n",
      "600:\tlearn: 2.6377481\ttest: 2.6526308\ttest1: 7.8828389\tbest: 7.8719404 (586)\ttotal: 6.42s\tremaining: 1m 40s\n",
      "700:\tlearn: 2.3713933\ttest: 2.3922816\ttest1: 7.8990063\tbest: 7.8634153 (632)\ttotal: 8.49s\tremaining: 1m 52s\n",
      "800:\tlearn: 2.1524958\ttest: 2.1756494\ttest1: 7.8924572\tbest: 7.8634153 (632)\ttotal: 10s\tremaining: 1m 55s\n",
      "900:\tlearn: 1.9794857\ttest: 2.0065336\ttest1: 7.8783935\tbest: 7.8634153 (632)\ttotal: 11.5s\tremaining: 1m 55s\n",
      "Stopped by overfitting detector  (300 iterations wait)\n",
      "\n",
      "bestTest = 7.863415327\n",
      "bestIteration = 632\n",
      "\n",
      "Shrink model to first 633 iterations.\n",
      "err:  7.863415361208101\n",
      "0:\tlearn: 12.2664510\ttest: 12.2664510\ttest1: 11.3801205\tbest: 11.3801205 (0)\ttotal: 26.2ms\tremaining: 4m 21s\n",
      "100:\tlearn: 5.5431613\ttest: 5.5387837\ttest1: 6.4179432\tbest: 6.4179432 (100)\ttotal: 1.34s\tremaining: 2m 11s\n",
      "200:\tlearn: 4.5170281\ttest: 4.5153935\ttest1: 5.9883065\tbest: 5.9843091 (199)\ttotal: 2.75s\tremaining: 2m 13s\n",
      "300:\tlearn: 3.8326169\ttest: 3.8330370\ttest1: 5.7534122\tbest: 5.7508864 (296)\ttotal: 3.33s\tremaining: 1m 47s\n",
      "400:\tlearn: 3.3751923\ttest: 3.3780351\ttest1: 5.6843927\tbest: 5.6819574 (399)\ttotal: 3.92s\tremaining: 1m 33s\n",
      "500:\tlearn: 3.0355987\ttest: 3.0417068\ttest1: 5.6022758\tbest: 5.5939016 (479)\ttotal: 4.57s\tremaining: 1m 26s\n",
      "600:\tlearn: 2.6995909\ttest: 2.7101934\ttest1: 5.5842187\tbest: 5.5759186 (594)\ttotal: 5.27s\tremaining: 1m 22s\n",
      "700:\tlearn: 2.4306239\ttest: 2.4441798\ttest1: 5.5276056\tbest: 5.5274459 (699)\ttotal: 5.81s\tremaining: 1m 17s\n",
      "800:\tlearn: 2.2046644\ttest: 2.2203520\ttest1: 5.5300754\tbest: 5.5208959 (764)\ttotal: 6.38s\tremaining: 1m 13s\n",
      "900:\tlearn: 2.0061563\ttest: 2.0233902\ttest1: 5.5409446\tbest: 5.5208959 (764)\ttotal: 6.92s\tremaining: 1m 9s\n",
      "1000:\tlearn: 1.8297081\ttest: 1.8516975\ttest1: 5.5583949\tbest: 5.5208959 (764)\ttotal: 7.5s\tremaining: 1m 7s\n",
      "Stopped by overfitting detector  (300 iterations wait)\n",
      "\n",
      "bestTest = 5.520895911\n",
      "bestIteration = 764\n",
      "\n",
      "Shrink model to first 765 iterations.\n",
      "err:  5.520895885306897\n",
      "0:\tlearn: 12.2048353\ttest: 12.2048353\ttest1: 12.1454938\tbest: 12.1454938 (0)\ttotal: 6.1ms\tremaining: 1m\n",
      "100:\tlearn: 5.5044191\ttest: 5.5004552\ttest1: 5.9499229\tbest: 5.9499229 (100)\ttotal: 515ms\tremaining: 50.5s\n",
      "200:\tlearn: 4.6024059\ttest: 4.5965121\ttest1: 5.7482667\tbest: 5.7482667 (200)\ttotal: 1.02s\tremaining: 49.8s\n",
      "300:\tlearn: 3.9317036\ttest: 3.9295996\ttest1: 5.7098321\tbest: 5.7054638 (299)\ttotal: 1.56s\tremaining: 50.2s\n",
      "400:\tlearn: 3.4293771\ttest: 3.4301083\ttest1: 5.7206231\tbest: 5.6922998 (302)\ttotal: 2.07s\tremaining: 49.6s\n",
      "500:\tlearn: 3.0331784\ttest: 3.0356436\ttest1: 5.6870590\tbest: 5.6641580 (465)\ttotal: 2.6s\tremaining: 49.3s\n",
      "600:\tlearn: 2.7100847\ttest: 2.7146671\ttest1: 5.6973826\tbest: 5.6641580 (465)\ttotal: 3.13s\tremaining: 49s\n",
      "700:\tlearn: 2.4382701\ttest: 2.4449320\ttest1: 5.6851725\tbest: 5.6641580 (465)\ttotal: 3.67s\tremaining: 48.7s\n",
      "Stopped by overfitting detector  (300 iterations wait)\n",
      "\n",
      "bestTest = 5.664157989\n",
      "bestIteration = 465\n",
      "\n",
      "Shrink model to first 466 iterations.\n",
      "err:  5.664157945695893\n",
      "0:\tlearn: 12.2434270\ttest: 12.2434270\ttest1: 11.5999289\tbest: 11.5999289 (0)\ttotal: 16.7ms\tremaining: 2m 46s\n",
      "100:\tlearn: 5.6165133\ttest: 5.6236303\ttest1: 5.3322622\tbest: 5.3291506 (99)\ttotal: 481ms\tremaining: 47.1s\n",
      "200:\tlearn: 4.5801951\ttest: 4.5904478\ttest1: 5.1825397\tbest: 5.1780748 (134)\ttotal: 989ms\tremaining: 48.2s\n",
      "300:\tlearn: 3.8864969\ttest: 3.9094386\ttest1: 5.1935847\tbest: 5.1705894 (208)\ttotal: 1.56s\tremaining: 50.2s\n",
      "400:\tlearn: 3.4185795\ttest: 3.4421098\ttest1: 5.1636993\tbest: 5.1547303 (388)\ttotal: 2.09s\tremaining: 50s\n",
      "500:\tlearn: 3.0341319\ttest: 3.0646131\ttest1: 5.2347351\tbest: 5.1547303 (388)\ttotal: 2.61s\tremaining: 49.5s\n",
      "600:\tlearn: 2.7163118\ttest: 2.7492364\ttest1: 5.3128879\tbest: 5.1547303 (388)\ttotal: 3.15s\tremaining: 49.2s\n",
      "Stopped by overfitting detector  (300 iterations wait)\n",
      "\n",
      "bestTest = 5.154730262\n",
      "bestIteration = 388\n",
      "\n",
      "Shrink model to first 389 iterations.\n",
      "err:  5.154730300002433\n",
      "0:\tlearn: 12.2341032\ttest: 12.2341032\ttest1: 11.6674127\tbest: 11.6674127 (0)\ttotal: 6.16ms\tremaining: 1m 1s\n",
      "100:\tlearn: 5.5441157\ttest: 5.5482255\ttest1: 6.1995794\tbest: 6.1983566 (99)\ttotal: 464ms\tremaining: 45.5s\n",
      "200:\tlearn: 4.5956125\ttest: 4.6000416\ttest1: 6.0948313\tbest: 6.0700680 (188)\ttotal: 993ms\tremaining: 48.4s\n",
      "300:\tlearn: 3.8602686\ttest: 3.8673217\ttest1: 5.9701883\tbest: 5.9585547 (293)\ttotal: 1.52s\tremaining: 49.1s\n",
      "400:\tlearn: 3.3867614\ttest: 3.3959602\ttest1: 5.8591505\tbest: 5.8591505 (400)\ttotal: 2.05s\tremaining: 49.1s\n",
      "500:\tlearn: 2.9802078\ttest: 2.9924813\ttest1: 5.8177994\tbest: 5.8177994 (500)\ttotal: 2.58s\tremaining: 49s\n",
      "600:\tlearn: 2.6863655\ttest: 2.7007683\ttest1: 5.8151794\tbest: 5.8151794 (600)\ttotal: 3.11s\tremaining: 48.6s\n",
      "700:\tlearn: 2.4248773\ttest: 2.4415435\ttest1: 5.8308077\tbest: 5.8130803 (601)\ttotal: 3.64s\tremaining: 48.4s\n",
      "800:\tlearn: 2.1975456\ttest: 2.2191307\ttest1: 5.8284550\tbest: 5.8130803 (601)\ttotal: 4.24s\tremaining: 48.7s\n",
      "900:\tlearn: 2.0189467\ttest: 2.0437176\ttest1: 5.8233154\tbest: 5.8130803 (601)\ttotal: 4.77s\tremaining: 48.2s\n",
      "Stopped by overfitting detector  (300 iterations wait)\n",
      "\n",
      "bestTest = 5.813080336\n",
      "bestIteration = 601\n",
      "\n",
      "Shrink model to first 602 iterations.\n",
      "err:  5.813080348848155\n",
      "0:\tlearn: 12.2104405\ttest: 12.2104405\ttest1: 12.0506636\tbest: 12.0506636 (0)\ttotal: 8.4ms\tremaining: 1m 23s\n",
      "100:\tlearn: 5.5037087\ttest: 5.5012522\ttest1: 5.9657940\tbest: 5.9657940 (100)\ttotal: 468ms\tremaining: 45.8s\n",
      "200:\tlearn: 4.5066338\ttest: 4.5078271\ttest1: 5.7543140\tbest: 5.7543140 (200)\ttotal: 968ms\tremaining: 47.2s\n",
      "300:\tlearn: 3.8471401\ttest: 3.8509694\ttest1: 5.6449523\tbest: 5.6243965 (287)\ttotal: 1.5s\tremaining: 48.3s\n",
      "400:\tlearn: 3.3807742\ttest: 3.3897073\ttest1: 5.5818445\tbest: 5.5738096 (384)\ttotal: 2.02s\tremaining: 48.5s\n",
      "500:\tlearn: 3.0271434\ttest: 3.0379786\ttest1: 5.5155679\tbest: 5.5052452 (490)\ttotal: 2.62s\tremaining: 49.7s\n",
      "600:\tlearn: 2.7218364\ttest: 2.7354762\ttest1: 5.4603252\tbest: 5.4603216 (599)\ttotal: 3.15s\tremaining: 49.3s\n",
      "700:\tlearn: 2.4544219\ttest: 2.4701174\ttest1: 5.4440878\tbest: 5.4386446 (622)\ttotal: 3.69s\tremaining: 48.9s\n",
      "800:\tlearn: 2.2153382\ttest: 2.2346467\ttest1: 5.3955338\tbest: 5.3955338 (800)\ttotal: 4.22s\tremaining: 48.4s\n",
      "900:\tlearn: 2.0182817\ttest: 2.0388291\ttest1: 5.3570032\tbest: 5.3552019 (895)\ttotal: 4.75s\tremaining: 48s\n",
      "1000:\tlearn: 1.8490116\ttest: 1.8727708\ttest1: 5.3447967\tbest: 5.3422255 (995)\ttotal: 5.28s\tremaining: 47.5s\n",
      "1100:\tlearn: 1.6982293\ttest: 1.7238220\ttest1: 5.3305927\tbest: 5.3265417 (1041)\ttotal: 5.85s\tremaining: 47.3s\n",
      "1200:\tlearn: 1.5686165\ttest: 1.5970281\ttest1: 5.3322199\tbest: 5.3182820 (1161)\ttotal: 6.37s\tremaining: 46.7s\n",
      "1300:\tlearn: 1.4407841\ttest: 1.4727880\ttest1: 5.3212838\tbest: 5.3182820 (1161)\ttotal: 6.93s\tremaining: 46.3s\n"
     ]
    },
    {
     "name": "stdout",
     "output_type": "stream",
     "text": [
      "1400:\tlearn: 1.3266726\ttest: 1.3627477\ttest1: 5.3168463\tbest: 5.3148789 (1397)\ttotal: 7.46s\tremaining: 45.8s\n",
      "1500:\tlearn: 1.2363255\ttest: 1.2748659\ttest1: 5.3026239\tbest: 5.3025786 (1488)\ttotal: 7.99s\tremaining: 45.2s\n",
      "1600:\tlearn: 1.1431307\ttest: 1.1859325\ttest1: 5.3016591\tbest: 5.3002502 (1565)\ttotal: 8.52s\tremaining: 44.7s\n",
      "1700:\tlearn: 1.0580258\ttest: 1.1049395\ttest1: 5.2872777\tbest: 5.2872444 (1698)\ttotal: 9.05s\tremaining: 44.2s\n",
      "1800:\tlearn: 0.9888531\ttest: 1.0386334\ttest1: 5.2911644\tbest: 5.2858618 (1732)\ttotal: 9.6s\tremaining: 43.7s\n",
      "1900:\tlearn: 0.9239806\ttest: 0.9754426\ttest1: 5.2812300\tbest: 5.2781391 (1880)\ttotal: 10.1s\tremaining: 43.2s\n",
      "2000:\tlearn: 0.8705115\ttest: 0.9244677\ttest1: 5.2823937\tbest: 5.2775297 (1984)\ttotal: 10.7s\tremaining: 42.8s\n",
      "2100:\tlearn: 0.8120697\ttest: 0.8694487\ttest1: 5.2787084\tbest: 5.2774778 (2081)\ttotal: 11.2s\tremaining: 42.3s\n",
      "2200:\tlearn: 0.7572808\ttest: 0.8182009\ttest1: 5.2763623\tbest: 5.2738797 (2187)\ttotal: 11.8s\tremaining: 41.7s\n",
      "2300:\tlearn: 0.7087591\ttest: 0.7731268\ttest1: 5.2798477\tbest: 5.2738797 (2187)\ttotal: 12.3s\tremaining: 41.2s\n",
      "2400:\tlearn: 0.6682158\ttest: 0.7352957\ttest1: 5.2783916\tbest: 5.2738797 (2187)\ttotal: 12.9s\tremaining: 40.7s\n",
      "Stopped by overfitting detector  (300 iterations wait)\n",
      "\n",
      "bestTest = 5.273879715\n",
      "bestIteration = 2187\n",
      "\n",
      "Shrink model to first 2188 iterations.\n",
      "err:  5.273879771456728\n",
      "0:\tlearn: 12.1550598\ttest: 12.1550598\ttest1: 12.8621386\tbest: 12.8621386 (0)\ttotal: 5.2ms\tremaining: 52s\n",
      "100:\tlearn: 5.5421423\ttest: 5.5591735\ttest1: 5.8582902\tbest: 5.8582902 (100)\ttotal: 453ms\tremaining: 44.4s\n",
      "200:\tlearn: 4.5224376\ttest: 4.5394352\ttest1: 5.7599773\tbest: 5.7358358 (154)\ttotal: 946ms\tremaining: 46.1s\n",
      "300:\tlearn: 3.8343189\ttest: 3.8568425\ttest1: 5.5998702\tbest: 5.5998702 (300)\ttotal: 1.48s\tremaining: 47.8s\n",
      "400:\tlearn: 3.3434292\ttest: 3.3676403\ttest1: 5.5472280\tbest: 5.5320371 (398)\ttotal: 2.02s\tremaining: 48.5s\n",
      "500:\tlearn: 2.9640950\ttest: 2.9916351\ttest1: 5.5052016\tbest: 5.4815012 (476)\ttotal: 2.56s\tremaining: 48.6s\n",
      "600:\tlearn: 2.6572079\ttest: 2.6864949\ttest1: 5.5038094\tbest: 5.4756852 (577)\ttotal: 3.25s\tremaining: 50.8s\n",
      "700:\tlearn: 2.3923252\ttest: 2.4249666\ttest1: 5.5575638\tbest: 5.4756852 (577)\ttotal: 3.86s\tremaining: 51.2s\n",
      "800:\tlearn: 2.1842326\ttest: 2.2229124\ttest1: 5.5975817\tbest: 5.4756852 (577)\ttotal: 4.42s\tremaining: 50.8s\n",
      "Stopped by overfitting detector  (300 iterations wait)\n",
      "\n",
      "bestTest = 5.47568522\n",
      "bestIteration = 577\n",
      "\n",
      "Shrink model to first 578 iterations.\n",
      "err:  5.475685245753234\n",
      "0:\tlearn: 12.2293831\ttest: 12.2293831\ttest1: 11.8381322\tbest: 11.8381322 (0)\ttotal: 5.61ms\tremaining: 56.1s\n",
      "100:\tlearn: 5.5377265\ttest: 5.5223938\ttest1: 5.8771576\tbest: 5.8743116 (92)\ttotal: 501ms\tremaining: 49.1s\n",
      "200:\tlearn: 4.4753674\ttest: 4.4662802\ttest1: 5.7917902\tbest: 5.7665306 (167)\ttotal: 1.16s\tremaining: 56.5s\n",
      "300:\tlearn: 3.9114500\ttest: 3.9078872\ttest1: 5.7261466\tbest: 5.7227461 (294)\ttotal: 1.7s\tremaining: 54.7s\n",
      "400:\tlearn: 3.4251562\ttest: 3.4255940\ttest1: 5.6580879\tbest: 5.6537367 (393)\ttotal: 2.38s\tremaining: 56.9s\n",
      "500:\tlearn: 3.0538348\ttest: 3.0576435\ttest1: 5.6035731\tbest: 5.5938428 (487)\ttotal: 3.1s\tremaining: 58.7s\n",
      "600:\tlearn: 2.7074506\ttest: 2.7173296\ttest1: 5.5959934\tbest: 5.5870071 (545)\ttotal: 3.67s\tremaining: 57.4s\n",
      "700:\tlearn: 2.4249211\ttest: 2.4385443\ttest1: 5.5789818\tbest: 5.5745052 (676)\ttotal: 4.24s\tremaining: 56.2s\n",
      "800:\tlearn: 2.2033151\ttest: 2.2191092\ttest1: 5.5513764\tbest: 5.5440625 (781)\ttotal: 4.78s\tremaining: 54.9s\n",
      "900:\tlearn: 2.0038521\ttest: 2.0222248\ttest1: 5.5458089\tbest: 5.5394981 (869)\ttotal: 5.38s\tremaining: 54.3s\n",
      "1000:\tlearn: 1.8138355\ttest: 1.8366177\ttest1: 5.5410625\tbest: 5.5394981 (869)\ttotal: 5.92s\tremaining: 53.2s\n",
      "1100:\tlearn: 1.6542750\ttest: 1.6819855\ttest1: 5.5214399\tbest: 5.5150035 (1073)\ttotal: 6.53s\tremaining: 52.8s\n",
      "1200:\tlearn: 1.5199338\ttest: 1.5511424\ttest1: 5.5045675\tbest: 5.5003720 (1168)\ttotal: 7.11s\tremaining: 52.1s\n",
      "1300:\tlearn: 1.4082826\ttest: 1.4422885\ttest1: 5.5146654\tbest: 5.4991207 (1245)\ttotal: 7.64s\tremaining: 51.1s\n",
      "1400:\tlearn: 1.3088429\ttest: 1.3450157\ttest1: 5.4921478\tbest: 5.4917445 (1379)\ttotal: 8.18s\tremaining: 50.2s\n",
      "1500:\tlearn: 1.2102053\ttest: 1.2495501\ttest1: 5.4922002\tbest: 5.4904305 (1475)\ttotal: 8.71s\tremaining: 49.3s\n",
      "1600:\tlearn: 1.1302051\ttest: 1.1720101\ttest1: 5.4960288\tbest: 5.4897897 (1516)\ttotal: 9.26s\tremaining: 48.6s\n",
      "1700:\tlearn: 1.0547504\ttest: 1.1000832\ttest1: 5.4894042\tbest: 5.4889655 (1698)\ttotal: 9.8s\tremaining: 47.8s\n",
      "1800:\tlearn: 0.9861823\ttest: 1.0339991\ttest1: 5.4814557\tbest: 5.4814557 (1800)\ttotal: 10.3s\tremaining: 47s\n",
      "1900:\tlearn: 0.9178017\ttest: 0.9699497\ttest1: 5.4774767\tbest: 5.4768705 (1885)\ttotal: 10.9s\tremaining: 46.4s\n",
      "2000:\tlearn: 0.8565181\ttest: 0.9124084\ttest1: 5.4722415\tbest: 5.4715519 (1997)\ttotal: 11.5s\tremaining: 45.8s\n",
      "2100:\tlearn: 0.7987605\ttest: 0.8573139\ttest1: 5.4702150\tbest: 5.4688487 (2096)\ttotal: 12s\tremaining: 45.1s\n",
      "2200:\tlearn: 0.7508361\ttest: 0.8131278\ttest1: 5.4754916\tbest: 5.4688487 (2096)\ttotal: 12.5s\tremaining: 44.4s\n",
      "2300:\tlearn: 0.7050179\ttest: 0.7705574\ttest1: 5.4702603\tbest: 5.4667209 (2272)\ttotal: 13.1s\tremaining: 43.7s\n",
      "2400:\tlearn: 0.6622339\ttest: 0.7319337\ttest1: 5.4611495\tbest: 5.4611495 (2400)\ttotal: 13.6s\tremaining: 43s\n",
      "2500:\tlearn: 0.6217900\ttest: 0.6962462\ttest1: 5.4529059\tbest: 5.4529059 (2500)\ttotal: 14.1s\tremaining: 42.4s\n",
      "2600:\tlearn: 0.5832164\ttest: 0.6621843\ttest1: 5.4516360\tbest: 5.4499752 (2541)\ttotal: 14.7s\tremaining: 41.8s\n",
      "2700:\tlearn: 0.5491926\ttest: 0.6320674\ttest1: 5.4475034\tbest: 5.4470814 (2699)\ttotal: 15.2s\tremaining: 41.2s\n",
      "2800:\tlearn: 0.5168124\ttest: 0.6044317\ttest1: 5.4523393\tbest: 5.4470814 (2699)\ttotal: 15.8s\tremaining: 40.6s\n",
      "2900:\tlearn: 0.4861457\ttest: 0.5785097\ttest1: 5.4521202\tbest: 5.4470814 (2699)\ttotal: 16.3s\tremaining: 40s\n",
      "Stopped by overfitting detector  (300 iterations wait)\n",
      "\n",
      "bestTest = 5.447081431\n",
      "bestIteration = 2699\n",
      "\n",
      "Shrink model to first 2700 iterations.\n",
      "err:  5.447081463983411\n"
     ]
    }
   ],
   "source": [
    "from catboost import CatBoostRegressor\n",
    "from sklearn.metrics import mean_squared_error\n",
    "from sklearn.model_selection import KFold,StratifiedKFold, TimeSeriesSplit\n",
    "\n",
    "testsplit_store=[]\n",
    "test_store=[]\n",
    "fold=KFold(n_splits=15, shuffle=True, random_state=123456)\n",
    "i=1\n",
    "for train_index, test_index in fold.split(X,y):\n",
    "    X_train, X_test = X.iloc[train_index], X.iloc[test_index]\n",
    "    y_train, y_test = y.iloc[train_index], y.iloc[test_index]\n",
    "    cat = CatBoostRegressor(n_estimators=10000,eval_metric='RMSE', learning_rate=0.0801032, random_seed= 123456, l2_leaf_reg=4, use_best_model=True)\n",
    "    cat.fit(X_train,y_train,eval_set=[(X_train,y_train),(X_test, y_test)], early_stopping_rounds=300,verbose=100, cat_features=categorical_features_indices)\n",
    "    predict = cat.predict(X_test)\n",
    "    print(\"err: \",np.sqrt(mean_squared_error(y_test,predict)))\n",
    "    testsplit_store.append(np.sqrt(mean_squared_error(y_test,predict)))\n",
    "    pred = cat.predict(test)\n",
    "    test_store.append(pred)"
   ]
  },
  {
   "cell_type": "code",
   "execution_count": 24,
   "metadata": {
    "scrolled": false
   },
   "outputs": [
    {
     "data": {
      "text/plain": [
       "5.645641368285069"
      ]
     },
     "execution_count": 24,
     "metadata": {},
     "output_type": "execute_result"
    }
   ],
   "source": [
    "np.mean(testsplit_store)"
   ]
  },
  {
   "cell_type": "code",
   "execution_count": 25,
   "metadata": {},
   "outputs": [],
   "source": [
    "submit_prep = {\"ward\": _id, 'target_pct_vunerable': np.mean(test_store, 0)}\n",
    "submission = pd.DataFrame(data = submit_prep)"
   ]
  },
  {
   "cell_type": "code",
   "execution_count": 26,
   "metadata": {},
   "outputs": [
    {
     "data": {
      "text/html": [
       "<div>\n",
       "<style scoped>\n",
       "    .dataframe tbody tr th:only-of-type {\n",
       "        vertical-align: middle;\n",
       "    }\n",
       "\n",
       "    .dataframe tbody tr th {\n",
       "        vertical-align: top;\n",
       "    }\n",
       "\n",
       "    .dataframe thead th {\n",
       "        text-align: right;\n",
       "    }\n",
       "</style>\n",
       "<table border=\"1\" class=\"dataframe\">\n",
       "  <thead>\n",
       "    <tr style=\"text-align: right;\">\n",
       "      <th></th>\n",
       "      <th>ward</th>\n",
       "      <th>target_pct_vunerable</th>\n",
       "    </tr>\n",
       "  </thead>\n",
       "  <tbody>\n",
       "    <tr>\n",
       "      <th>0</th>\n",
       "      <td>00A93O0</td>\n",
       "      <td>18.644497</td>\n",
       "    </tr>\n",
       "    <tr>\n",
       "      <th>1</th>\n",
       "      <td>01V40KO</td>\n",
       "      <td>30.680925</td>\n",
       "    </tr>\n",
       "    <tr>\n",
       "      <th>2</th>\n",
       "      <td>01ZHVW0</td>\n",
       "      <td>6.572926</td>\n",
       "    </tr>\n",
       "    <tr>\n",
       "      <th>3</th>\n",
       "      <td>028YQJX</td>\n",
       "      <td>1.731807</td>\n",
       "    </tr>\n",
       "    <tr>\n",
       "      <th>4</th>\n",
       "      <td>02G8W11</td>\n",
       "      <td>0.492371</td>\n",
       "    </tr>\n",
       "  </tbody>\n",
       "</table>\n",
       "</div>"
      ],
      "text/plain": [
       "      ward  target_pct_vunerable\n",
       "0  00A93O0             18.644497\n",
       "1  01V40KO             30.680925\n",
       "2  01ZHVW0              6.572926\n",
       "3  028YQJX              1.731807\n",
       "4  02G8W11              0.492371"
      ]
     },
     "execution_count": 26,
     "metadata": {},
     "output_type": "execute_result"
    }
   ],
   "source": [
    "submission.head()"
   ]
  },
  {
   "cell_type": "code",
   "execution_count": 27,
   "metadata": {},
   "outputs": [],
   "source": [
    "submission.to_csv('covid_19_best_Amy.csv', index=False)"
   ]
  },
  {
   "cell_type": "code",
   "execution_count": 28,
   "metadata": {},
   "outputs": [],
   "source": [
    "## Check for the feature importance \n",
    "#fea_imp = pd.DataFrame({'imp':cat.feature_importances_, 'col': X.columns})\n",
    "#fea_imp = fea_imp.sort_values(['imp', 'col'], ascending=[True, False]).iloc[-60:]\n",
    "#_ = fea_imp.plot(kind='barh', x='col', y='imp', figsize=(20, 10))\n",
    "#plt.savefig('catboost_feature_importance.png')"
   ]
  },
  {
   "cell_type": "code",
   "execution_count": null,
   "metadata": {},
   "outputs": [],
   "source": []
  }
 ],
 "metadata": {
  "kernelspec": {
   "display_name": "Python 3",
   "language": "python",
   "name": "python3"
  },
  "language_info": {
   "codemirror_mode": {
    "name": "ipython",
    "version": 3
   },
   "file_extension": ".py",
   "mimetype": "text/x-python",
   "name": "python",
   "nbconvert_exporter": "python",
   "pygments_lexer": "ipython3",
   "version": "3.7.3"
  }
 },
 "nbformat": 4,
 "nbformat_minor": 4
}

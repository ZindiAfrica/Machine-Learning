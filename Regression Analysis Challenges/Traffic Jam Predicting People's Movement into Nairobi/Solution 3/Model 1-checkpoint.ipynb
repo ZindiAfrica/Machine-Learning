{
 "cells": [
  {
   "cell_type": "code",
   "execution_count": 1,
   "metadata": {
    "collapsed": true
   },
   "outputs": [],
   "source": [
    "import numpy as np\n",
    "import pandas as pd\n",
    "\n",
    "import matplotlib\n",
    "import matplotlib.pyplot as plt\n",
    "%matplotlib inline\n",
    "import seaborn as sns\n",
    "matplotlib.style.use('ggplot')\n",
    "\n",
    "from sklearn.model_selection import KFold,GridSearchCV\n",
    "from sklearn.metrics import mean_squared_error, mean_absolute_error\n",
    "from sklearn.feature_selection import SelectKBest, f_regression\n",
    "from xgboost import XGBRegressor\n",
    "\n",
    "\n",
    "np.random.seed(234)\n",
    "import warnings\n",
    "warnings.filterwarnings('ignore')"
   ]
  },
  {
   "cell_type": "code",
   "execution_count": 2,
   "metadata": {
    "collapsed": true
   },
   "outputs": [],
   "source": [
    "#uber movement data. Daily mean travel time from Kawangare to Afya Centre in Nairobi\n",
    "train = pd.read_csv('train_revised.csv')\n",
    "test = pd.read_csv(\"test_questions.csv\")\n",
    "submission = pd.read_csv(\"sample_submission.csv\")\n",
    "move1 = pd.read_csv('uber/Travel_Times_Daily_average_apr_may.csv')\n",
    "move2 = pd.read_csv('uber/Travel_Times_Daily_average_jan_apr.csv')\n",
    "move3 = pd.read_csv('uber/Travel_Times_Daily_average_oct_jan.csv')\n",
    "movement = pd.concat([move3,move2,move1], ignore_index=True)"
   ]
  },
  {
   "cell_type": "code",
   "execution_count": 3,
   "metadata": {
    "collapsed": true
   },
   "outputs": [],
   "source": [
    "#drop unnecessary columns in the movement data\n",
    "movement.drop(labels=['Origin Movement ID','Origin Display Name','Destination Movement ID',\n",
    "                     'Destination Display Name'],axis=1, inplace=True)"
   ]
  },
  {
   "cell_type": "code",
   "execution_count": 4,
   "metadata": {
    "collapsed": true
   },
   "outputs": [],
   "source": [
    "cols_to_drop = movement.columns[2:]"
   ]
  },
  {
   "cell_type": "code",
   "execution_count": 5,
   "metadata": {
    "collapsed": true
   },
   "outputs": [],
   "source": [
    "movement.drop(labels=cols_to_drop, axis=1, inplace=True)"
   ]
  },
  {
   "cell_type": "code",
   "execution_count": 6,
   "metadata": {
    "collapsed": true
   },
   "outputs": [],
   "source": [
    "movement['Date'] = pd.to_datetime(movement['Date'])"
   ]
  },
  {
   "cell_type": "code",
   "execution_count": 7,
   "metadata": {
    "collapsed": true
   },
   "outputs": [],
   "source": [
    "#get the number of tickets for each ride ID. The target variable\n",
    "ticket = {}\n",
    "for ride_id in train['ride_id']:\n",
    "    if ride_id not in ticket:\n",
    "        ticket[ride_id] = 1\n",
    "    else: ticket[ride_id] += 1"
   ]
  },
  {
   "cell_type": "code",
   "execution_count": 8,
   "metadata": {
    "collapsed": true
   },
   "outputs": [],
   "source": [
    "ticket = pd.DataFrame(list(ticket.items()),columns=['ride_id','number_of_tickets'])"
   ]
  },
  {
   "cell_type": "code",
   "execution_count": 9,
   "metadata": {
    "collapsed": true
   },
   "outputs": [],
   "source": [
    "#merge train data with ticket data. Drop duplicate ride_id rows\n",
    "train = pd.merge(train, ticket, on=['ride_id'], how='left')\n",
    "train = train.drop_duplicates('ride_id').reset_index(drop=True)"
   ]
  },
  {
   "cell_type": "code",
   "execution_count": 10,
   "metadata": {
    "collapsed": true
   },
   "outputs": [],
   "source": [
    "#merge both train and test set for easy preprocessing\n",
    "df = train.append(test, ignore_index=True)"
   ]
  },
  {
   "cell_type": "code",
   "execution_count": 11,
   "metadata": {},
   "outputs": [
    {
     "data": {
      "text/html": [
       "<div>\n",
       "<style scoped>\n",
       "    .dataframe tbody tr th:only-of-type {\n",
       "        vertical-align: middle;\n",
       "    }\n",
       "\n",
       "    .dataframe tbody tr th {\n",
       "        vertical-align: top;\n",
       "    }\n",
       "\n",
       "    .dataframe thead th {\n",
       "        text-align: right;\n",
       "    }\n",
       "</style>\n",
       "<table border=\"1\" class=\"dataframe\">\n",
       "  <thead>\n",
       "    <tr style=\"text-align: right;\">\n",
       "      <th></th>\n",
       "      <th>car_type</th>\n",
       "      <th>max_capacity</th>\n",
       "      <th>number_of_tickets</th>\n",
       "      <th>payment_method</th>\n",
       "      <th>payment_receipt</th>\n",
       "      <th>ride_id</th>\n",
       "      <th>seat_number</th>\n",
       "      <th>travel_date</th>\n",
       "      <th>travel_from</th>\n",
       "      <th>travel_time</th>\n",
       "      <th>travel_to</th>\n",
       "    </tr>\n",
       "  </thead>\n",
       "  <tbody>\n",
       "    <tr>\n",
       "      <th>0</th>\n",
       "      <td>Bus</td>\n",
       "      <td>49</td>\n",
       "      <td>1.0</td>\n",
       "      <td>Mpesa</td>\n",
       "      <td>UZUEHCBUSO</td>\n",
       "      <td>1442</td>\n",
       "      <td>15A</td>\n",
       "      <td>17-10-17</td>\n",
       "      <td>Migori</td>\n",
       "      <td>7:15</td>\n",
       "      <td>Nairobi</td>\n",
       "    </tr>\n",
       "    <tr>\n",
       "      <th>1</th>\n",
       "      <td>Bus</td>\n",
       "      <td>49</td>\n",
       "      <td>1.0</td>\n",
       "      <td>Mpesa</td>\n",
       "      <td>TIHLBUSGTE</td>\n",
       "      <td>5437</td>\n",
       "      <td>14A</td>\n",
       "      <td>19-11-17</td>\n",
       "      <td>Migori</td>\n",
       "      <td>7:12</td>\n",
       "      <td>Nairobi</td>\n",
       "    </tr>\n",
       "    <tr>\n",
       "      <th>2</th>\n",
       "      <td>Bus</td>\n",
       "      <td>49</td>\n",
       "      <td>1.0</td>\n",
       "      <td>Mpesa</td>\n",
       "      <td>EQX8Q5G19O</td>\n",
       "      <td>5710</td>\n",
       "      <td>8B</td>\n",
       "      <td>26-11-17</td>\n",
       "      <td>Keroka</td>\n",
       "      <td>7:05</td>\n",
       "      <td>Nairobi</td>\n",
       "    </tr>\n",
       "    <tr>\n",
       "      <th>3</th>\n",
       "      <td>Bus</td>\n",
       "      <td>49</td>\n",
       "      <td>5.0</td>\n",
       "      <td>Mpesa</td>\n",
       "      <td>SGP18CL0ME</td>\n",
       "      <td>5777</td>\n",
       "      <td>19A</td>\n",
       "      <td>27-11-17</td>\n",
       "      <td>Homa Bay</td>\n",
       "      <td>7:10</td>\n",
       "      <td>Nairobi</td>\n",
       "    </tr>\n",
       "    <tr>\n",
       "      <th>4</th>\n",
       "      <td>Bus</td>\n",
       "      <td>49</td>\n",
       "      <td>31.0</td>\n",
       "      <td>Mpesa</td>\n",
       "      <td>BM97HFRGL9</td>\n",
       "      <td>5778</td>\n",
       "      <td>11A</td>\n",
       "      <td>27-11-17</td>\n",
       "      <td>Migori</td>\n",
       "      <td>7:12</td>\n",
       "      <td>Nairobi</td>\n",
       "    </tr>\n",
       "  </tbody>\n",
       "</table>\n",
       "</div>"
      ],
      "text/plain": [
       "  car_type  max_capacity  number_of_tickets payment_method payment_receipt  \\\n",
       "0      Bus            49                1.0          Mpesa      UZUEHCBUSO   \n",
       "1      Bus            49                1.0          Mpesa      TIHLBUSGTE   \n",
       "2      Bus            49                1.0          Mpesa      EQX8Q5G19O   \n",
       "3      Bus            49                5.0          Mpesa      SGP18CL0ME   \n",
       "4      Bus            49               31.0          Mpesa      BM97HFRGL9   \n",
       "\n",
       "   ride_id seat_number travel_date travel_from travel_time travel_to  \n",
       "0     1442         15A    17-10-17      Migori        7:15   Nairobi  \n",
       "1     5437         14A    19-11-17      Migori        7:12   Nairobi  \n",
       "2     5710          8B    26-11-17      Keroka        7:05   Nairobi  \n",
       "3     5777         19A    27-11-17    Homa Bay        7:10   Nairobi  \n",
       "4     5778         11A    27-11-17      Migori        7:12   Nairobi  "
      ]
     },
     "execution_count": 11,
     "metadata": {},
     "output_type": "execute_result"
    }
   ],
   "source": [
    "df.head()"
   ]
  },
  {
   "cell_type": "code",
   "execution_count": 12,
   "metadata": {
    "collapsed": true
   },
   "outputs": [],
   "source": [
    "#convert travel_date and travel_time to datetime formate\n",
    "df['travel_date'] = pd.to_datetime(df['travel_date'])\n",
    "df['travel_time'] = pd.to_datetime(df['travel_time'])"
   ]
  },
  {
   "cell_type": "code",
   "execution_count": 13,
   "metadata": {
    "collapsed": true
   },
   "outputs": [],
   "source": [
    "#feature engineering.\n",
    "df['arrival_time'] = df['travel_time'].dt.hour + 8"
   ]
  },
  {
   "cell_type": "code",
   "execution_count": 14,
   "metadata": {
    "collapsed": true
   },
   "outputs": [],
   "source": [
    "df['arrival_time'] = df['arrival_time'].map(lambda x:1 if (x >=15 and x <=19) else 0)"
   ]
  },
  {
   "cell_type": "code",
   "execution_count": 15,
   "metadata": {
    "collapsed": true
   },
   "outputs": [],
   "source": [
    "df = pd.merge(df, movement, left_on=['travel_date'], right_on=['Date'], how='left')"
   ]
  },
  {
   "cell_type": "code",
   "execution_count": 16,
   "metadata": {
    "collapsed": true
   },
   "outputs": [],
   "source": [
    "df['travel_minutes'] = (df['travel_time'].dt.hour * 60) + df['travel_time'].dt.minute"
   ]
  },
  {
   "cell_type": "code",
   "execution_count": 17,
   "metadata": {
    "collapsed": true
   },
   "outputs": [],
   "source": [
    "#more feature engineering using pandas date_time accessors\n",
    "df['month'] = df['travel_date'].dt.month\n",
    "df['year'] = df['travel_date'].dt.year\n",
    "df['dayofyear'] = df['travel_date'].dt.dayofyear\n",
    "df['quarter'] = df['travel_date'].dt.quarter\n",
    "df['hour'] = df['travel_time'].dt.hour"
   ]
  },
  {
   "cell_type": "code",
   "execution_count": 18,
   "metadata": {
    "collapsed": true
   },
   "outputs": [],
   "source": [
    "df['weekday'] = df['travel_date'].dt.weekday"
   ]
  },
  {
   "cell_type": "code",
   "execution_count": 19,
   "metadata": {
    "collapsed": true
   },
   "outputs": [],
   "source": [
    "#rename the daily mean travel_time column\n",
    "df = df.rename(columns = {'Daily Mean Travel Time (Seconds)': \"DMTT\"}) "
   ]
  },
  {
   "cell_type": "code",
   "execution_count": 20,
   "metadata": {
    "collapsed": true
   },
   "outputs": [],
   "source": [
    "df['DMTT'] = df['DMTT'] / 60"
   ]
  },
  {
   "cell_type": "code",
   "execution_count": 22,
   "metadata": {
    "collapsed": true
   },
   "outputs": [],
   "source": [
    "#generate more features using groupby. Don't mind the feature names.\n",
    "df['random'] = df.groupby(['travel_from'])['number_of_tickets'].transform('sum')\n",
    "df['random4'] = df.groupby(['month'])['number_of_tickets'].transform('sum')\n",
    "df['random5'] = df.groupby(['weekday'])['number_of_tickets'].transform('count')\n",
    "df['random7'] = df.groupby(['weekday'])['number_of_tickets'].transform('mean')"
   ]
  },
  {
   "cell_type": "code",
   "execution_count": 23,
   "metadata": {
    "collapsed": true
   },
   "outputs": [],
   "source": [
    "df['random6'] = df.groupby(['travel_minutes'])['number_of_tickets'].transform('mean')"
   ]
  },
  {
   "cell_type": "code",
   "execution_count": 24,
   "metadata": {
    "collapsed": true
   },
   "outputs": [],
   "source": [
    "# convert categorical variables to numeric\n",
    "df['max_capacity'] = df['max_capacity'].astype('category').cat.codes\n",
    "df['year'] = df['year'].astype('category').cat.codes"
   ]
  },
  {
   "cell_type": "code",
   "execution_count": 25,
   "metadata": {
    "collapsed": true
   },
   "outputs": [],
   "source": [
    "# the distance feature was added using google maps. The distance between the locations \n",
    "# and nairobi as reported by google maps\n",
    "\n",
    "travel_dict = {\n",
    "    'Migori':371,\n",
    "    'Keroka': 279,\n",
    "    'Homa Bay': 362,\n",
    "    'Kisii' : 306,\n",
    "    'Keumbu':294,\n",
    "    'Rongo' : 330,\n",
    "    'Kijauri': 269,\n",
    "    'Oyugis' : 331,\n",
    "    'Awendo' : 349,\n",
    "    'Sirare':404,\n",
    "    'Nyachenge': 323,\n",
    "    'Kehancha' : 377,\n",
    "    'Kendu Bay':346,\n",
    "    'Sori' : 397,\n",
    "    'Rodi' : 345,\n",
    "    'Mbita' : 399,\n",
    "    'Ndhiwa' : 369\n",
    "}\n",
    "\n",
    "df[\"distance\"] = df[\"travel_from\"].map(travel_dict)"
   ]
  },
  {
   "cell_type": "code",
   "execution_count": 26,
   "metadata": {
    "collapsed": true
   },
   "outputs": [],
   "source": [
    "# save the target variable in label\n",
    "label = train['number_of_tickets']"
   ]
  },
  {
   "cell_type": "code",
   "execution_count": 27,
   "metadata": {
    "collapsed": true
   },
   "outputs": [],
   "source": [
    "# drop columns we won't be using in our model\n",
    "\n",
    "df.drop(labels=['travel_to','payment_receipt','payment_method','seat_number', 'ride_id',\n",
    "                    'travel_time','travel_date','car_type','dayofyear','quarter','hour','Date'\n",
    "               ], axis=1, inplace=True)"
   ]
  },
  {
   "cell_type": "code",
   "execution_count": 28,
   "metadata": {},
   "outputs": [
    {
     "data": {
      "text/plain": [
       "<matplotlib.axes._subplots.AxesSubplot at 0x7f5fc42a27b8>"
      ]
     },
     "execution_count": 28,
     "metadata": {},
     "output_type": "execute_result"
    },
    {
     "data": {
      "image/png": "[encoded data removed]",
      "text/plain": [
       "<matplotlib.figure.Figure at 0x7f5fc42a2160>"
      ]
     },
     "metadata": {},
     "output_type": "display_data"
    }
   ],
   "source": [
    "# correlation coefficient between the variables\n",
    "\n",
    "plt.figure(figsize=(10,8))\n",
    "plt.xticks(rotation=90)\n",
    "corr = df.corr()\n",
    "cmap = sns.diverging_palette( 220 , 10 , as_cmap = True )\n",
    "sns.heatmap(corr, xticklabels=corr.columns.values, yticklabels=corr.columns.values, cmap=cmap, \n",
    "            cbar_kws={ 'shrink' :.9},\n",
    "        annot = True,\n",
    "        annot_kws = { 'fontsize' : 10 })"
   ]
  },
  {
   "cell_type": "code",
   "execution_count": 29,
   "metadata": {
    "collapsed": true
   },
   "outputs": [],
   "source": [
    "# get dummies of travel_from feature\n",
    "df = pd.get_dummies(df,columns=['travel_from'])"
   ]
  },
  {
   "cell_type": "code",
   "execution_count": 30,
   "metadata": {
    "collapsed": true
   },
   "outputs": [],
   "source": [
    "#drop more features. The features were not dropped randomly. It was based on feedback from the model.\n",
    "df.drop(labels=[\"number_of_tickets\",'travel_from_Kijauri','travel_from_Oyugis',\n",
    "               'travel_from_Kisii'],axis=1, inplace=True)"
   ]
  },
  {
   "cell_type": "code",
   "execution_count": 31,
   "metadata": {
    "collapsed": true
   },
   "outputs": [],
   "source": [
    "#fill missing values. ffill means forward. Ffill improved the model more than bfill or the mean\n",
    "df.fillna(method='ffill', inplace=True)"
   ]
  },
  {
   "cell_type": "code",
   "execution_count": 32,
   "metadata": {
    "collapsed": true
   },
   "outputs": [],
   "source": [
    "#split the dataframe back into our train and test set\n",
    "new_train = df[:6249]\n",
    "new_test = df[6249:]"
   ]
  },
  {
   "cell_type": "code",
   "execution_count": 33,
   "metadata": {},
   "outputs": [
    {
     "data": {
      "text/plain": [
       "(6249, 27)"
      ]
     },
     "execution_count": 33,
     "metadata": {},
     "output_type": "execute_result"
    }
   ],
   "source": [
    "new_train.shape"
   ]
  },
  {
   "cell_type": "code",
   "execution_count": 34,
   "metadata": {},
   "outputs": [
    {
     "name": "stdout",
     "output_type": "stream",
     "text": [
      "[0]\tvalidation_0-mae:7.44311\n",
      "Will train until validation_0-mae hasn't improved in 300 rounds.\n",
      "[1]\tvalidation_0-mae:6.89386\n",
      "[2]\tvalidation_0-mae:6.42872\n",
      "[3]\tvalidation_0-mae:6.04974\n",
      "[4]\tvalidation_0-mae:5.72843\n",
      "[5]\tvalidation_0-mae:5.45929\n",
      "[6]\tvalidation_0-mae:5.22667\n",
      "[7]\tvalidation_0-mae:5.03402\n",
      "[8]\tvalidation_0-mae:4.86465\n",
      "[9]\tvalidation_0-mae:4.71817\n",
      "[10]\tvalidation_0-mae:4.58964\n",
      "[11]\tvalidation_0-mae:4.48484\n",
      "[12]\tvalidation_0-mae:4.39323\n",
      "[13]\tvalidation_0-mae:4.32692\n",
      "[14]\tvalidation_0-mae:4.25832\n",
      "[15]\tvalidation_0-mae:4.19069\n",
      "[16]\tvalidation_0-mae:4.13353\n",
      "[17]\tvalidation_0-mae:4.08063\n",
      "[18]\tvalidation_0-mae:4.03665\n",
      "[19]\tvalidation_0-mae:4.00668\n",
      "[20]\tvalidation_0-mae:3.9718\n",
      "[21]\tvalidation_0-mae:3.9436\n",
      "[22]\tvalidation_0-mae:3.92008\n",
      "[23]\tvalidation_0-mae:3.89915\n",
      "[24]\tvalidation_0-mae:3.88225\n",
      "[25]\tvalidation_0-mae:3.86214\n",
      "[26]\tvalidation_0-mae:3.84289\n",
      "[27]\tvalidation_0-mae:3.83\n",
      "[28]\tvalidation_0-mae:3.82588\n",
      "[29]\tvalidation_0-mae:3.81679\n",
      "[30]\tvalidation_0-mae:3.80842\n",
      "[31]\tvalidation_0-mae:3.80623\n",
      "[32]\tvalidation_0-mae:3.80366\n",
      "[33]\tvalidation_0-mae:3.80072\n",
      "[34]\tvalidation_0-mae:3.79323\n",
      "[35]\tvalidation_0-mae:3.79057\n",
      "[36]\tvalidation_0-mae:3.78029\n",
      "[37]\tvalidation_0-mae:3.78085\n",
      "[38]\tvalidation_0-mae:3.77969\n",
      "[39]\tvalidation_0-mae:3.77862\n",
      "[40]\tvalidation_0-mae:3.77667\n",
      "[41]\tvalidation_0-mae:3.76742\n",
      "[42]\tvalidation_0-mae:3.7603\n",
      "[43]\tvalidation_0-mae:3.7604\n",
      "[44]\tvalidation_0-mae:3.75554\n",
      "[45]\tvalidation_0-mae:3.7529\n",
      "[46]\tvalidation_0-mae:3.75263\n",
      "[47]\tvalidation_0-mae:3.75492\n",
      "[48]\tvalidation_0-mae:3.75819\n",
      "[49]\tvalidation_0-mae:3.76063\n",
      "[50]\tvalidation_0-mae:3.75974\n",
      "[51]\tvalidation_0-mae:3.75645\n",
      "[52]\tvalidation_0-mae:3.75775\n",
      "[53]\tvalidation_0-mae:3.75569\n",
      "[54]\tvalidation_0-mae:3.75612\n",
      "[55]\tvalidation_0-mae:3.75406\n",
      "[56]\tvalidation_0-mae:3.75836\n",
      "[57]\tvalidation_0-mae:3.75352\n",
      "[58]\tvalidation_0-mae:3.75573\n",
      "[59]\tvalidation_0-mae:3.75651\n",
      "[60]\tvalidation_0-mae:3.75899\n",
      "[61]\tvalidation_0-mae:3.75674\n",
      "[62]\tvalidation_0-mae:3.75616\n",
      "[63]\tvalidation_0-mae:3.7539\n",
      "[64]\tvalidation_0-mae:3.74862\n",
      "[65]\tvalidation_0-mae:3.74786\n",
      "[66]\tvalidation_0-mae:3.74261\n",
      "[67]\tvalidation_0-mae:3.74414\n",
      "[68]\tvalidation_0-mae:3.74318\n",
      "[69]\tvalidation_0-mae:3.74102\n",
      "[70]\tvalidation_0-mae:3.73992\n",
      "[71]\tvalidation_0-mae:3.73955\n",
      "[72]\tvalidation_0-mae:3.73838\n",
      "[73]\tvalidation_0-mae:3.73989\n",
      "[74]\tvalidation_0-mae:3.74039\n",
      "[75]\tvalidation_0-mae:3.74223\n",
      "[76]\tvalidation_0-mae:3.74595\n",
      "[77]\tvalidation_0-mae:3.74573\n",
      "[78]\tvalidation_0-mae:3.74504\n",
      "[79]\tvalidation_0-mae:3.74934\n",
      "[80]\tvalidation_0-mae:3.74913\n",
      "[81]\tvalidation_0-mae:3.75037\n",
      "[82]\tvalidation_0-mae:3.74767\n",
      "[83]\tvalidation_0-mae:3.7481\n",
      "[84]\tvalidation_0-mae:3.74749\n",
      "[85]\tvalidation_0-mae:3.75264\n",
      "[86]\tvalidation_0-mae:3.75093\n",
      "[87]\tvalidation_0-mae:3.75504\n",
      "[88]\tvalidation_0-mae:3.75492\n",
      "[89]\tvalidation_0-mae:3.75527\n",
      "[90]\tvalidation_0-mae:3.75604\n",
      "[91]\tvalidation_0-mae:3.75535\n",
      "[92]\tvalidation_0-mae:3.75918\n",
      "[93]\tvalidation_0-mae:3.76267\n",
      "[94]\tvalidation_0-mae:3.76104\n",
      "[95]\tvalidation_0-mae:3.76366\n",
      "[96]\tvalidation_0-mae:3.76425\n",
      "[97]\tvalidation_0-mae:3.76703\n",
      "[98]\tvalidation_0-mae:3.76757\n",
      "[99]\tvalidation_0-mae:3.76681\n",
      "[0]\tvalidation_0-mae:6.55759\n",
      "Will train until validation_0-mae hasn't improved in 300 rounds.\n",
      "[1]\tvalidation_0-mae:6.03177\n",
      "[2]\tvalidation_0-mae:5.61612\n",
      "[3]\tvalidation_0-mae:5.25106\n",
      "[4]\tvalidation_0-mae:4.95738\n",
      "[5]\tvalidation_0-mae:4.72566\n",
      "[6]\tvalidation_0-mae:4.5163\n",
      "[7]\tvalidation_0-mae:4.3483\n",
      "[8]\tvalidation_0-mae:4.20721\n",
      "[9]\tvalidation_0-mae:4.08964\n",
      "[10]\tvalidation_0-mae:3.9896\n",
      "[11]\tvalidation_0-mae:3.90821\n",
      "[12]\tvalidation_0-mae:3.84367\n",
      "[13]\tvalidation_0-mae:3.78522\n",
      "[14]\tvalidation_0-mae:3.73316\n",
      "[15]\tvalidation_0-mae:3.6922\n",
      "[16]\tvalidation_0-mae:3.66518\n",
      "[17]\tvalidation_0-mae:3.65026\n",
      "[18]\tvalidation_0-mae:3.62688\n",
      "[19]\tvalidation_0-mae:3.61031\n",
      "[20]\tvalidation_0-mae:3.59221\n",
      "[21]\tvalidation_0-mae:3.57388\n",
      "[22]\tvalidation_0-mae:3.56291\n",
      "[23]\tvalidation_0-mae:3.55545\n",
      "[24]\tvalidation_0-mae:3.54457\n",
      "[25]\tvalidation_0-mae:3.5436\n",
      "[26]\tvalidation_0-mae:3.53735\n",
      "[27]\tvalidation_0-mae:3.54334\n",
      "[28]\tvalidation_0-mae:3.54719\n",
      "[29]\tvalidation_0-mae:3.55015\n",
      "[30]\tvalidation_0-mae:3.54778\n",
      "[31]\tvalidation_0-mae:3.54423\n",
      "[32]\tvalidation_0-mae:3.54536\n",
      "[33]\tvalidation_0-mae:3.54971\n",
      "[34]\tvalidation_0-mae:3.54442\n",
      "[35]\tvalidation_0-mae:3.54927\n",
      "[36]\tvalidation_0-mae:3.55371\n",
      "[37]\tvalidation_0-mae:3.55544\n",
      "[38]\tvalidation_0-mae:3.55818\n",
      "[39]\tvalidation_0-mae:3.55654\n",
      "[40]\tvalidation_0-mae:3.55781\n",
      "[41]\tvalidation_0-mae:3.55941\n",
      "[42]\tvalidation_0-mae:3.55279\n",
      "[43]\tvalidation_0-mae:3.55546\n",
      "[44]\tvalidation_0-mae:3.55499\n",
      "[45]\tvalidation_0-mae:3.55674\n",
      "[46]\tvalidation_0-mae:3.55771\n",
      "[47]\tvalidation_0-mae:3.56568\n",
      "[48]\tvalidation_0-mae:3.5685\n",
      "[49]\tvalidation_0-mae:3.56723\n",
      "[50]\tvalidation_0-mae:3.56686\n",
      "[51]\tvalidation_0-mae:3.56929\n",
      "[52]\tvalidation_0-mae:3.57007\n",
      "[53]\tvalidation_0-mae:3.57032\n",
      "[54]\tvalidation_0-mae:3.57166\n",
      "[55]\tvalidation_0-mae:3.57505\n",
      "[56]\tvalidation_0-mae:3.57826\n",
      "[57]\tvalidation_0-mae:3.57948\n",
      "[58]\tvalidation_0-mae:3.57897\n",
      "[59]\tvalidation_0-mae:3.58245\n",
      "[60]\tvalidation_0-mae:3.58712\n",
      "[61]\tvalidation_0-mae:3.59056\n",
      "[62]\tvalidation_0-mae:3.5928\n",
      "[63]\tvalidation_0-mae:3.58863\n",
      "[64]\tvalidation_0-mae:3.59647\n",
      "[65]\tvalidation_0-mae:3.59799\n",
      "[66]\tvalidation_0-mae:3.60138\n",
      "[67]\tvalidation_0-mae:3.60335\n",
      "[68]\tvalidation_0-mae:3.60269\n",
      "[69]\tvalidation_0-mae:3.60403\n",
      "[70]\tvalidation_0-mae:3.6055\n",
      "[71]\tvalidation_0-mae:3.60824\n",
      "[72]\tvalidation_0-mae:3.6122\n",
      "[73]\tvalidation_0-mae:3.61935\n",
      "[74]\tvalidation_0-mae:3.62134\n",
      "[75]\tvalidation_0-mae:3.62324\n",
      "[76]\tvalidation_0-mae:3.62778\n",
      "[77]\tvalidation_0-mae:3.6302\n",
      "[78]\tvalidation_0-mae:3.62774\n",
      "[79]\tvalidation_0-mae:3.62888\n",
      "[80]\tvalidation_0-mae:3.6303\n",
      "[81]\tvalidation_0-mae:3.6358\n",
      "[82]\tvalidation_0-mae:3.63936\n",
      "[83]\tvalidation_0-mae:3.6408\n",
      "[84]\tvalidation_0-mae:3.64589\n",
      "[85]\tvalidation_0-mae:3.6496\n",
      "[86]\tvalidation_0-mae:3.6463\n",
      "[87]\tvalidation_0-mae:3.64979\n",
      "[88]\tvalidation_0-mae:3.65058\n",
      "[89]\tvalidation_0-mae:3.65325\n",
      "[90]\tvalidation_0-mae:3.65653\n",
      "[91]\tvalidation_0-mae:3.65585\n",
      "[92]\tvalidation_0-mae:3.65695\n",
      "[93]\tvalidation_0-mae:3.65943\n",
      "[94]\tvalidation_0-mae:3.65935\n",
      "[95]\tvalidation_0-mae:3.6614\n",
      "[96]\tvalidation_0-mae:3.66392\n",
      "[97]\tvalidation_0-mae:3.66412\n",
      "[98]\tvalidation_0-mae:3.66914\n",
      "[99]\tvalidation_0-mae:3.66996\n",
      "[0]\tvalidation_0-mae:7.0586\n",
      "Will train until validation_0-mae hasn't improved in 300 rounds.\n",
      "[1]\tvalidation_0-mae:6.50177\n",
      "[2]\tvalidation_0-mae:6.03969\n",
      "[3]\tvalidation_0-mae:5.65783\n",
      "[4]\tvalidation_0-mae:5.35052\n",
      "[5]\tvalidation_0-mae:5.07133\n",
      "[6]\tvalidation_0-mae:4.84968\n",
      "[7]\tvalidation_0-mae:4.66013\n",
      "[8]\tvalidation_0-mae:4.48731\n",
      "[9]\tvalidation_0-mae:4.35384\n",
      "[10]\tvalidation_0-mae:4.23595\n",
      "[11]\tvalidation_0-mae:4.12968\n",
      "[12]\tvalidation_0-mae:4.04326\n",
      "[13]\tvalidation_0-mae:3.97898\n",
      "[14]\tvalidation_0-mae:3.92027\n",
      "[15]\tvalidation_0-mae:3.86497\n",
      "[16]\tvalidation_0-mae:3.8253\n",
      "[17]\tvalidation_0-mae:3.78437\n",
      "[18]\tvalidation_0-mae:3.73848\n",
      "[19]\tvalidation_0-mae:3.71281\n",
      "[20]\tvalidation_0-mae:3.6901\n",
      "[21]\tvalidation_0-mae:3.65921\n",
      "[22]\tvalidation_0-mae:3.63741\n",
      "[23]\tvalidation_0-mae:3.6184\n",
      "[24]\tvalidation_0-mae:3.60745\n",
      "[25]\tvalidation_0-mae:3.59158\n",
      "[26]\tvalidation_0-mae:3.58089\n",
      "[27]\tvalidation_0-mae:3.56475\n",
      "[28]\tvalidation_0-mae:3.55785\n",
      "[29]\tvalidation_0-mae:3.55274\n",
      "[30]\tvalidation_0-mae:3.54885\n",
      "[31]\tvalidation_0-mae:3.53782\n",
      "[32]\tvalidation_0-mae:3.53363\n",
      "[33]\tvalidation_0-mae:3.52182\n",
      "[34]\tvalidation_0-mae:3.52086\n",
      "[35]\tvalidation_0-mae:3.52095\n",
      "[36]\tvalidation_0-mae:3.51897\n",
      "[37]\tvalidation_0-mae:3.51416\n",
      "[38]\tvalidation_0-mae:3.50558\n",
      "[39]\tvalidation_0-mae:3.50504\n",
      "[40]\tvalidation_0-mae:3.50108\n",
      "[41]\tvalidation_0-mae:3.49701\n",
      "[42]\tvalidation_0-mae:3.49405\n",
      "[43]\tvalidation_0-mae:3.48983\n",
      "[44]\tvalidation_0-mae:3.48129\n",
      "[45]\tvalidation_0-mae:3.48212\n",
      "[46]\tvalidation_0-mae:3.4761\n",
      "[47]\tvalidation_0-mae:3.47327\n",
      "[48]\tvalidation_0-mae:3.46936\n",
      "[49]\tvalidation_0-mae:3.46679\n",
      "[50]\tvalidation_0-mae:3.46587\n",
      "[51]\tvalidation_0-mae:3.46518\n",
      "[52]\tvalidation_0-mae:3.4617\n",
      "[53]\tvalidation_0-mae:3.4551\n",
      "[54]\tvalidation_0-mae:3.45597\n",
      "[55]\tvalidation_0-mae:3.4559\n",
      "[56]\tvalidation_0-mae:3.44878\n",
      "[57]\tvalidation_0-mae:3.449\n",
      "[58]\tvalidation_0-mae:3.44956\n",
      "[59]\tvalidation_0-mae:3.44425\n",
      "[60]\tvalidation_0-mae:3.44387\n",
      "[61]\tvalidation_0-mae:3.44085\n",
      "[62]\tvalidation_0-mae:3.43991\n",
      "[63]\tvalidation_0-mae:3.44098\n",
      "[64]\tvalidation_0-mae:3.43907\n",
      "[65]\tvalidation_0-mae:3.43827\n",
      "[66]\tvalidation_0-mae:3.4351\n",
      "[67]\tvalidation_0-mae:3.44066\n",
      "[68]\tvalidation_0-mae:3.43891\n"
     ]
    },
    {
     "name": "stdout",
     "output_type": "stream",
     "text": [
      "[69]\tvalidation_0-mae:3.43868\n",
      "[70]\tvalidation_0-mae:3.43327\n",
      "[71]\tvalidation_0-mae:3.43119\n",
      "[72]\tvalidation_0-mae:3.43213\n",
      "[73]\tvalidation_0-mae:3.43189\n",
      "[74]\tvalidation_0-mae:3.42593\n",
      "[75]\tvalidation_0-mae:3.42642\n",
      "[76]\tvalidation_0-mae:3.42897\n",
      "[77]\tvalidation_0-mae:3.43083\n",
      "[78]\tvalidation_0-mae:3.436\n",
      "[79]\tvalidation_0-mae:3.4356\n",
      "[80]\tvalidation_0-mae:3.43481\n",
      "[81]\tvalidation_0-mae:3.43348\n",
      "[82]\tvalidation_0-mae:3.42909\n",
      "[83]\tvalidation_0-mae:3.42697\n",
      "[84]\tvalidation_0-mae:3.42919\n",
      "[85]\tvalidation_0-mae:3.42923\n",
      "[86]\tvalidation_0-mae:3.42788\n",
      "[87]\tvalidation_0-mae:3.42997\n",
      "[88]\tvalidation_0-mae:3.4285\n",
      "[89]\tvalidation_0-mae:3.42765\n",
      "[90]\tvalidation_0-mae:3.42569\n",
      "[91]\tvalidation_0-mae:3.42336\n",
      "[92]\tvalidation_0-mae:3.42185\n",
      "[93]\tvalidation_0-mae:3.42543\n",
      "[94]\tvalidation_0-mae:3.42449\n",
      "[95]\tvalidation_0-mae:3.42392\n",
      "[96]\tvalidation_0-mae:3.42122\n",
      "[97]\tvalidation_0-mae:3.41853\n",
      "[98]\tvalidation_0-mae:3.41674\n",
      "[99]\tvalidation_0-mae:3.41605\n",
      "[0]\tvalidation_0-mae:6.92493\n",
      "Will train until validation_0-mae hasn't improved in 300 rounds.\n",
      "[1]\tvalidation_0-mae:6.37363\n",
      "[2]\tvalidation_0-mae:5.92257\n",
      "[3]\tvalidation_0-mae:5.55704\n",
      "[4]\tvalidation_0-mae:5.24854\n",
      "[5]\tvalidation_0-mae:4.9835\n",
      "[6]\tvalidation_0-mae:4.78232\n",
      "[7]\tvalidation_0-mae:4.6161\n",
      "[8]\tvalidation_0-mae:4.47638\n",
      "[9]\tvalidation_0-mae:4.36097\n",
      "[10]\tvalidation_0-mae:4.265\n",
      "[11]\tvalidation_0-mae:4.17736\n",
      "[12]\tvalidation_0-mae:4.10847\n",
      "[13]\tvalidation_0-mae:4.05758\n",
      "[14]\tvalidation_0-mae:4.01398\n",
      "[15]\tvalidation_0-mae:3.97826\n",
      "[16]\tvalidation_0-mae:3.94226\n",
      "[17]\tvalidation_0-mae:3.90987\n",
      "[18]\tvalidation_0-mae:3.88958\n",
      "[19]\tvalidation_0-mae:3.86118\n",
      "[20]\tvalidation_0-mae:3.85299\n",
      "[21]\tvalidation_0-mae:3.84215\n",
      "[22]\tvalidation_0-mae:3.82936\n",
      "[23]\tvalidation_0-mae:3.82346\n",
      "[24]\tvalidation_0-mae:3.81489\n",
      "[25]\tvalidation_0-mae:3.8037\n",
      "[26]\tvalidation_0-mae:3.80081\n",
      "[27]\tvalidation_0-mae:3.80042\n",
      "[28]\tvalidation_0-mae:3.80199\n",
      "[29]\tvalidation_0-mae:3.80211\n",
      "[30]\tvalidation_0-mae:3.80156\n",
      "[31]\tvalidation_0-mae:3.80523\n",
      "[32]\tvalidation_0-mae:3.80748\n",
      "[33]\tvalidation_0-mae:3.80535\n",
      "[34]\tvalidation_0-mae:3.81112\n",
      "[35]\tvalidation_0-mae:3.80828\n",
      "[36]\tvalidation_0-mae:3.81075\n",
      "[37]\tvalidation_0-mae:3.81116\n",
      "[38]\tvalidation_0-mae:3.81089\n",
      "[39]\tvalidation_0-mae:3.8059\n",
      "[40]\tvalidation_0-mae:3.80001\n",
      "[41]\tvalidation_0-mae:3.80156\n",
      "[42]\tvalidation_0-mae:3.79706\n",
      "[43]\tvalidation_0-mae:3.79544\n",
      "[44]\tvalidation_0-mae:3.7948\n",
      "[45]\tvalidation_0-mae:3.79923\n",
      "[46]\tvalidation_0-mae:3.79746\n",
      "[47]\tvalidation_0-mae:3.79513\n",
      "[48]\tvalidation_0-mae:3.7961\n",
      "[49]\tvalidation_0-mae:3.79389\n",
      "[50]\tvalidation_0-mae:3.79327\n",
      "[51]\tvalidation_0-mae:3.79419\n",
      "[52]\tvalidation_0-mae:3.79752\n",
      "[53]\tvalidation_0-mae:3.80197\n",
      "[54]\tvalidation_0-mae:3.80135\n",
      "[55]\tvalidation_0-mae:3.80606\n",
      "[56]\tvalidation_0-mae:3.801\n",
      "[57]\tvalidation_0-mae:3.79911\n",
      "[58]\tvalidation_0-mae:3.79946\n",
      "[59]\tvalidation_0-mae:3.79635\n",
      "[60]\tvalidation_0-mae:3.79142\n",
      "[61]\tvalidation_0-mae:3.7875\n",
      "[62]\tvalidation_0-mae:3.78821\n",
      "[63]\tvalidation_0-mae:3.78965\n",
      "[64]\tvalidation_0-mae:3.7902\n",
      "[65]\tvalidation_0-mae:3.79143\n",
      "[66]\tvalidation_0-mae:3.79259\n",
      "[67]\tvalidation_0-mae:3.79787\n",
      "[68]\tvalidation_0-mae:3.79424\n",
      "[69]\tvalidation_0-mae:3.79738\n",
      "[70]\tvalidation_0-mae:3.79805\n",
      "[71]\tvalidation_0-mae:3.80015\n",
      "[72]\tvalidation_0-mae:3.79745\n",
      "[73]\tvalidation_0-mae:3.79697\n",
      "[74]\tvalidation_0-mae:3.79892\n",
      "[75]\tvalidation_0-mae:3.79702\n",
      "[76]\tvalidation_0-mae:3.79682\n",
      "[77]\tvalidation_0-mae:3.7966\n",
      "[78]\tvalidation_0-mae:3.79626\n",
      "[79]\tvalidation_0-mae:3.7972\n",
      "[80]\tvalidation_0-mae:3.79428\n",
      "[81]\tvalidation_0-mae:3.794\n",
      "[82]\tvalidation_0-mae:3.79191\n",
      "[83]\tvalidation_0-mae:3.79681\n",
      "[84]\tvalidation_0-mae:3.79938\n",
      "[85]\tvalidation_0-mae:3.80092\n",
      "[86]\tvalidation_0-mae:3.80219\n",
      "[87]\tvalidation_0-mae:3.80001\n",
      "[88]\tvalidation_0-mae:3.80344\n",
      "[89]\tvalidation_0-mae:3.80339\n",
      "[90]\tvalidation_0-mae:3.80286\n",
      "[91]\tvalidation_0-mae:3.80347\n",
      "[92]\tvalidation_0-mae:3.80613\n",
      "[93]\tvalidation_0-mae:3.80289\n",
      "[94]\tvalidation_0-mae:3.80673\n",
      "[95]\tvalidation_0-mae:3.80322\n",
      "[96]\tvalidation_0-mae:3.80237\n",
      "[97]\tvalidation_0-mae:3.80298\n",
      "[98]\tvalidation_0-mae:3.8042\n",
      "[99]\tvalidation_0-mae:3.80567\n",
      "[0]\tvalidation_0-mae:7.2594\n",
      "Will train until validation_0-mae hasn't improved in 300 rounds.\n",
      "[1]\tvalidation_0-mae:6.69103\n",
      "[2]\tvalidation_0-mae:6.21279\n",
      "[3]\tvalidation_0-mae:5.82219\n",
      "[4]\tvalidation_0-mae:5.49063\n",
      "[5]\tvalidation_0-mae:5.20269\n",
      "[6]\tvalidation_0-mae:4.95106\n",
      "[7]\tvalidation_0-mae:4.73864\n",
      "[8]\tvalidation_0-mae:4.56639\n",
      "[9]\tvalidation_0-mae:4.4234\n",
      "[10]\tvalidation_0-mae:4.30103\n",
      "[11]\tvalidation_0-mae:4.18921\n",
      "[12]\tvalidation_0-mae:4.10078\n",
      "[13]\tvalidation_0-mae:4.02742\n",
      "[14]\tvalidation_0-mae:3.96074\n",
      "[15]\tvalidation_0-mae:3.9155\n",
      "[16]\tvalidation_0-mae:3.86472\n",
      "[17]\tvalidation_0-mae:3.82646\n",
      "[18]\tvalidation_0-mae:3.80372\n",
      "[19]\tvalidation_0-mae:3.76861\n",
      "[20]\tvalidation_0-mae:3.74154\n",
      "[21]\tvalidation_0-mae:3.71521\n",
      "[22]\tvalidation_0-mae:3.69514\n",
      "[23]\tvalidation_0-mae:3.67287\n",
      "[24]\tvalidation_0-mae:3.66013\n",
      "[25]\tvalidation_0-mae:3.64612\n",
      "[26]\tvalidation_0-mae:3.63368\n",
      "[27]\tvalidation_0-mae:3.61948\n",
      "[28]\tvalidation_0-mae:3.60453\n",
      "[29]\tvalidation_0-mae:3.59527\n",
      "[30]\tvalidation_0-mae:3.59518\n",
      "[31]\tvalidation_0-mae:3.58324\n",
      "[32]\tvalidation_0-mae:3.57913\n",
      "[33]\tvalidation_0-mae:3.57146\n",
      "[34]\tvalidation_0-mae:3.56715\n",
      "[35]\tvalidation_0-mae:3.5614\n",
      "[36]\tvalidation_0-mae:3.55999\n",
      "[37]\tvalidation_0-mae:3.55817\n",
      "[38]\tvalidation_0-mae:3.55336\n",
      "[39]\tvalidation_0-mae:3.55134\n",
      "[40]\tvalidation_0-mae:3.54772\n",
      "[41]\tvalidation_0-mae:3.54513\n",
      "[42]\tvalidation_0-mae:3.54169\n",
      "[43]\tvalidation_0-mae:3.53692\n",
      "[44]\tvalidation_0-mae:3.53287\n",
      "[45]\tvalidation_0-mae:3.53634\n",
      "[46]\tvalidation_0-mae:3.53248\n",
      "[47]\tvalidation_0-mae:3.52924\n",
      "[48]\tvalidation_0-mae:3.52841\n",
      "[49]\tvalidation_0-mae:3.52224\n",
      "[50]\tvalidation_0-mae:3.52306\n",
      "[51]\tvalidation_0-mae:3.52174\n",
      "[52]\tvalidation_0-mae:3.52463\n",
      "[53]\tvalidation_0-mae:3.52308\n",
      "[54]\tvalidation_0-mae:3.52414\n",
      "[55]\tvalidation_0-mae:3.52358\n",
      "[56]\tvalidation_0-mae:3.521\n",
      "[57]\tvalidation_0-mae:3.52208\n",
      "[58]\tvalidation_0-mae:3.52151\n",
      "[59]\tvalidation_0-mae:3.51852\n",
      "[60]\tvalidation_0-mae:3.5179\n",
      "[61]\tvalidation_0-mae:3.52017\n",
      "[62]\tvalidation_0-mae:3.52641\n",
      "[63]\tvalidation_0-mae:3.52677\n",
      "[64]\tvalidation_0-mae:3.52717\n",
      "[65]\tvalidation_0-mae:3.52546\n",
      "[66]\tvalidation_0-mae:3.52734\n",
      "[67]\tvalidation_0-mae:3.52671\n",
      "[68]\tvalidation_0-mae:3.53086\n",
      "[69]\tvalidation_0-mae:3.53011\n",
      "[70]\tvalidation_0-mae:3.53189\n",
      "[71]\tvalidation_0-mae:3.5269\n",
      "[72]\tvalidation_0-mae:3.52644\n",
      "[73]\tvalidation_0-mae:3.52312\n",
      "[74]\tvalidation_0-mae:3.52721\n",
      "[75]\tvalidation_0-mae:3.53033\n",
      "[76]\tvalidation_0-mae:3.5288\n",
      "[77]\tvalidation_0-mae:3.52494\n",
      "[78]\tvalidation_0-mae:3.52947\n",
      "[79]\tvalidation_0-mae:3.52822\n",
      "[80]\tvalidation_0-mae:3.53061\n",
      "[81]\tvalidation_0-mae:3.52904\n",
      "[82]\tvalidation_0-mae:3.52923\n",
      "[83]\tvalidation_0-mae:3.52475\n",
      "[84]\tvalidation_0-mae:3.52338\n",
      "[85]\tvalidation_0-mae:3.51884\n",
      "[86]\tvalidation_0-mae:3.51955\n",
      "[87]\tvalidation_0-mae:3.52115\n",
      "[88]\tvalidation_0-mae:3.5172\n",
      "[89]\tvalidation_0-mae:3.51185\n",
      "[90]\tvalidation_0-mae:3.50767\n",
      "[91]\tvalidation_0-mae:3.50072\n",
      "[92]\tvalidation_0-mae:3.4998\n",
      "[93]\tvalidation_0-mae:3.50179\n",
      "[94]\tvalidation_0-mae:3.49686\n",
      "[95]\tvalidation_0-mae:3.4962\n",
      "[96]\tvalidation_0-mae:3.49442\n",
      "[97]\tvalidation_0-mae:3.49042\n",
      "[98]\tvalidation_0-mae:3.48904\n",
      "[99]\tvalidation_0-mae:3.48591\n"
     ]
    }
   ],
   "source": [
    "#build and run the model. 5 KFold. We also generate predictions on the train set\n",
    "\n",
    "n = 5\n",
    "preds = 0\n",
    "oof_preds = np.zeros((new_train.shape[0],))\n",
    "test_preds = np.zeros((new_test.shape[0],))\n",
    "\n",
    "kfold = KFold(n_splits=n, shuffle=True, random_state=42)\n",
    "\n",
    "for i, (train_index, test_index) in enumerate(kfold.split(new_train, label)):\n",
    "    \n",
    "    x_train, x_test = new_train.iloc[train_index], new_train.iloc[test_index]\n",
    "    y_train, y_test = label[train_index], label[test_index]\n",
    "    \n",
    "    \n",
    "    kb = SelectKBest(f_regression, 24).fit(x_train, y_train)\n",
    "    xtrain = kb.transform(x_train)\n",
    "    xtest = kb.transform(x_test)\n",
    "    test = kb.transform(new_test)\n",
    "    \n",
    "    classifier = XGBRegressor(max_depth=6,min_child_weight=3,subsample=0.8,)\n",
    "    classifier.fit(xtrain, y_train, eval_set=[[xtest, y_test]],early_stopping_rounds = 300,eval_metric='mae')\n",
    "    \n",
    "    pred = classifier.predict(test)\n",
    "    oof_preds[test_index] = classifier.predict(xtest)  #train on 4 folds, predict on the 5th fold.\n",
    "    \n",
    "    preds += pred\n",
    "\n",
    "oof = pd.DataFrame({\"oof\": preds/n })\n",
    "oof.to_csv(\"xgb_test_oof.csv\",index=False,float_format=\"%.f\")\n",
    "        \n",
    "submission['number_of_ticket'] = preds / n\n",
    "submission.to_csv(\"xgb.csv\", index=False,float_format=\"%.f\")"
   ]
  },
  {
   "cell_type": "code",
   "execution_count": 35,
   "metadata": {
    "collapsed": true
   },
   "outputs": [],
   "source": [
    "xgboof = pd.DataFrame({'oof_xgb':oof_preds})\n",
    "xgboof.to_csv('xgb_oof.csv',index=False,float_format=\"%.f\") #save the train set predictions in a data frame"
   ]
  },
  {
   "cell_type": "code",
   "execution_count": null,
   "metadata": {
    "collapsed": true
   },
   "outputs": [],
   "source": [
    "features = pd.DataFrame()\n",
    "features['feature'] = x_train.columns\n",
    "features['importance'] = kb.scores_\n",
    "features.sort_values(by=['importance'], ascending=True, inplace=True)\n",
    "features.set_index('feature', inplace=True)\n",
    "features.plot(kind='barh', stacked=True, color=['cornflowerblue'], grid=False, figsize=(20, 18))"
   ]
  }
 ],
 "metadata": {
  "kernelspec": {
   "display_name": "Python [conda env:anaconda3]",
   "language": "python",
   "name": "conda-env-anaconda3-py"
  },
  "language_info": {
   "codemirror_mode": {
    "name": "ipython",
    "version": 3
   },
   "file_extension": ".py",
   "mimetype": "text/x-python",
   "name": "python",
   "nbconvert_exporter": "python",
   "pygments_lexer": "ipython3",
   "version": "3.5.3"
  }
 },
 "nbformat": 4,
 "nbformat_minor": 2
}

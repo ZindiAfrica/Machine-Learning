{
 "cells": [
  {
   "cell_type": "code",
   "execution_count": 1,
   "metadata": {
    "collapsed": true
   },
   "outputs": [],
   "source": [
    "import numpy as np\n",
    "import pandas as pd\n",
    "\n",
    "import matplotlib\n",
    "import matplotlib.pyplot as plt\n",
    "%matplotlib inline\n",
    "import seaborn as sns\n",
    "matplotlib.style.use('ggplot')\n",
    "\n",
    "from sklearn.model_selection import KFold,GridSearchCV, cross_val_score\n",
    "from sklearn.preprocessing import OneHotEncoder, StandardScaler,MinMaxScaler,LabelEncoder\n",
    "from sklearn.metrics import mean_squared_error, mean_absolute_error\n",
    "from sklearn.feature_selection import SelectKBest, f_regression\n",
    "from xgboost import XGBRegressor\n",
    "\n",
    "\n",
    "np.random.seed(234)\n",
    "import warnings\n",
    "warnings.filterwarnings('ignore')"
   ]
  },
  {
   "cell_type": "code",
   "execution_count": 2,
   "metadata": {
    "collapsed": true
   },
   "outputs": [],
   "source": [
    "train = pd.read_csv('train_revised.csv')\n",
    "test = pd.read_csv(\"test_questions.csv\")\n",
    "submission = pd.read_csv(\"sample_submission.csv\")\n",
    "move1 = pd.read_csv('uber/Travel_Times_Daily_average_apr_may.csv')\n",
    "move2 = pd.read_csv('uber/Travel_Times_Daily_average_jan_apr.csv')\n",
    "move3 = pd.read_csv('uber/Travel_Times_Daily_average_oct_jan.csv')\n",
    "movement = pd.concat([move3,move2,move1], ignore_index=True)"
   ]
  },
  {
   "cell_type": "code",
   "execution_count": 3,
   "metadata": {
    "collapsed": true
   },
   "outputs": [],
   "source": [
    "movement.drop(labels=['Origin Movement ID','Origin Display Name','Destination Movement ID',\n",
    "                     'Destination Display Name'],axis=1, inplace=True)"
   ]
  },
  {
   "cell_type": "code",
   "execution_count": 4,
   "metadata": {
    "collapsed": true
   },
   "outputs": [],
   "source": [
    "cols_to_drop = movement.columns[2:]"
   ]
  },
  {
   "cell_type": "code",
   "execution_count": 5,
   "metadata": {
    "collapsed": true
   },
   "outputs": [],
   "source": [
    "movement.drop(labels=cols_to_drop, axis=1, inplace=True)"
   ]
  },
  {
   "cell_type": "code",
   "execution_count": 6,
   "metadata": {
    "collapsed": true
   },
   "outputs": [],
   "source": [
    "movement['Date'] = pd.to_datetime(movement['Date'])"
   ]
  },
  {
   "cell_type": "code",
   "execution_count": 7,
   "metadata": {
    "collapsed": true
   },
   "outputs": [],
   "source": [
    "ticket = {}\n",
    "for ride_id in train['ride_id']:\n",
    "    if ride_id not in ticket:\n",
    "        ticket[ride_id] = 1\n",
    "    else: ticket[ride_id] += 1"
   ]
  },
  {
   "cell_type": "code",
   "execution_count": 8,
   "metadata": {
    "collapsed": true
   },
   "outputs": [],
   "source": [
    "ticket = pd.DataFrame(list(ticket.items()),columns=['ride_id','number_of_tickets'])"
   ]
  },
  {
   "cell_type": "code",
   "execution_count": 9,
   "metadata": {
    "collapsed": true
   },
   "outputs": [],
   "source": [
    "train = pd.merge(train, ticket, on=['ride_id'], how='left')\n",
    "train = train.drop_duplicates('ride_id').reset_index(drop=True)"
   ]
  },
  {
   "cell_type": "code",
   "execution_count": 10,
   "metadata": {
    "collapsed": true
   },
   "outputs": [],
   "source": [
    "df = train.append(test, ignore_index=True)"
   ]
  },
  {
   "cell_type": "code",
   "execution_count": 11,
   "metadata": {},
   "outputs": [
    {
     "data": {
      "text/html": [
       "<div>\n",
       "<style scoped>\n",
       "    .dataframe tbody tr th:only-of-type {\n",
       "        vertical-align: middle;\n",
       "    }\n",
       "\n",
       "    .dataframe tbody tr th {\n",
       "        vertical-align: top;\n",
       "    }\n",
       "\n",
       "    .dataframe thead th {\n",
       "        text-align: right;\n",
       "    }\n",
       "</style>\n",
       "<table border=\"1\" class=\"dataframe\">\n",
       "  <thead>\n",
       "    <tr style=\"text-align: right;\">\n",
       "      <th></th>\n",
       "      <th>car_type</th>\n",
       "      <th>max_capacity</th>\n",
       "      <th>number_of_tickets</th>\n",
       "      <th>payment_method</th>\n",
       "      <th>payment_receipt</th>\n",
       "      <th>ride_id</th>\n",
       "      <th>seat_number</th>\n",
       "      <th>travel_date</th>\n",
       "      <th>travel_from</th>\n",
       "      <th>travel_time</th>\n",
       "      <th>travel_to</th>\n",
       "    </tr>\n",
       "  </thead>\n",
       "  <tbody>\n",
       "    <tr>\n",
       "      <th>0</th>\n",
       "      <td>Bus</td>\n",
       "      <td>49</td>\n",
       "      <td>1.0</td>\n",
       "      <td>Mpesa</td>\n",
       "      <td>UZUEHCBUSO</td>\n",
       "      <td>1442</td>\n",
       "      <td>15A</td>\n",
       "      <td>17-10-17</td>\n",
       "      <td>Migori</td>\n",
       "      <td>7:15</td>\n",
       "      <td>Nairobi</td>\n",
       "    </tr>\n",
       "    <tr>\n",
       "      <th>1</th>\n",
       "      <td>Bus</td>\n",
       "      <td>49</td>\n",
       "      <td>1.0</td>\n",
       "      <td>Mpesa</td>\n",
       "      <td>TIHLBUSGTE</td>\n",
       "      <td>5437</td>\n",
       "      <td>14A</td>\n",
       "      <td>19-11-17</td>\n",
       "      <td>Migori</td>\n",
       "      <td>7:12</td>\n",
       "      <td>Nairobi</td>\n",
       "    </tr>\n",
       "    <tr>\n",
       "      <th>2</th>\n",
       "      <td>Bus</td>\n",
       "      <td>49</td>\n",
       "      <td>1.0</td>\n",
       "      <td>Mpesa</td>\n",
       "      <td>EQX8Q5G19O</td>\n",
       "      <td>5710</td>\n",
       "      <td>8B</td>\n",
       "      <td>26-11-17</td>\n",
       "      <td>Keroka</td>\n",
       "      <td>7:05</td>\n",
       "      <td>Nairobi</td>\n",
       "    </tr>\n",
       "    <tr>\n",
       "      <th>3</th>\n",
       "      <td>Bus</td>\n",
       "      <td>49</td>\n",
       "      <td>5.0</td>\n",
       "      <td>Mpesa</td>\n",
       "      <td>SGP18CL0ME</td>\n",
       "      <td>5777</td>\n",
       "      <td>19A</td>\n",
       "      <td>27-11-17</td>\n",
       "      <td>Homa Bay</td>\n",
       "      <td>7:10</td>\n",
       "      <td>Nairobi</td>\n",
       "    </tr>\n",
       "    <tr>\n",
       "      <th>4</th>\n",
       "      <td>Bus</td>\n",
       "      <td>49</td>\n",
       "      <td>31.0</td>\n",
       "      <td>Mpesa</td>\n",
       "      <td>BM97HFRGL9</td>\n",
       "      <td>5778</td>\n",
       "      <td>11A</td>\n",
       "      <td>27-11-17</td>\n",
       "      <td>Migori</td>\n",
       "      <td>7:12</td>\n",
       "      <td>Nairobi</td>\n",
       "    </tr>\n",
       "  </tbody>\n",
       "</table>\n",
       "</div>"
      ],
      "text/plain": [
       "  car_type  max_capacity  number_of_tickets payment_method payment_receipt  \\\n",
       "0      Bus            49                1.0          Mpesa      UZUEHCBUSO   \n",
       "1      Bus            49                1.0          Mpesa      TIHLBUSGTE   \n",
       "2      Bus            49                1.0          Mpesa      EQX8Q5G19O   \n",
       "3      Bus            49                5.0          Mpesa      SGP18CL0ME   \n",
       "4      Bus            49               31.0          Mpesa      BM97HFRGL9   \n",
       "\n",
       "   ride_id seat_number travel_date travel_from travel_time travel_to  \n",
       "0     1442         15A    17-10-17      Migori        7:15   Nairobi  \n",
       "1     5437         14A    19-11-17      Migori        7:12   Nairobi  \n",
       "2     5710          8B    26-11-17      Keroka        7:05   Nairobi  \n",
       "3     5777         19A    27-11-17    Homa Bay        7:10   Nairobi  \n",
       "4     5778         11A    27-11-17      Migori        7:12   Nairobi  "
      ]
     },
     "execution_count": 11,
     "metadata": {},
     "output_type": "execute_result"
    }
   ],
   "source": [
    "df.head()"
   ]
  },
  {
   "cell_type": "code",
   "execution_count": 12,
   "metadata": {
    "collapsed": true
   },
   "outputs": [],
   "source": [
    "df['travel_date'] = pd.to_datetime(df['travel_date'])\n",
    "df['travel_time'] = pd.to_datetime(df['travel_time'])"
   ]
  },
  {
   "cell_type": "code",
   "execution_count": 13,
   "metadata": {
    "collapsed": true
   },
   "outputs": [],
   "source": [
    "df['arrival_time'] = df['travel_time'].dt.hour + 8"
   ]
  },
  {
   "cell_type": "code",
   "execution_count": 14,
   "metadata": {
    "collapsed": true
   },
   "outputs": [],
   "source": [
    "df['arrival_time'] = df['arrival_time'].map(lambda x:1 if (x >=15 and x <=19) else 0)"
   ]
  },
  {
   "cell_type": "code",
   "execution_count": 15,
   "metadata": {
    "collapsed": true
   },
   "outputs": [],
   "source": [
    "df = pd.merge(df, movement, left_on=['travel_date'], right_on=['Date'], how='left')"
   ]
  },
  {
   "cell_type": "code",
   "execution_count": 16,
   "metadata": {
    "collapsed": true
   },
   "outputs": [],
   "source": [
    "df['travel_minutes'] = (df['travel_time'].dt.hour * 60) + df['travel_time'].dt.minute"
   ]
  },
  {
   "cell_type": "code",
   "execution_count": 17,
   "metadata": {
    "collapsed": true
   },
   "outputs": [],
   "source": [
    "df['month'] = df['travel_date'].dt.month\n",
    "df['year'] = df['travel_date'].dt.year\n",
    "df['dayofyear'] = df['travel_date'].dt.dayofyear\n",
    "df['quarter'] = df['travel_date'].dt.quarter\n",
    "df['hour'] = df['travel_time'].dt.hour"
   ]
  },
  {
   "cell_type": "code",
   "execution_count": 18,
   "metadata": {
    "collapsed": true
   },
   "outputs": [],
   "source": [
    "df['weekday'] = df['travel_date'].dt.weekday"
   ]
  },
  {
   "cell_type": "code",
   "execution_count": 19,
   "metadata": {
    "collapsed": true
   },
   "outputs": [],
   "source": [
    "df = df.rename(columns = {'Daily Mean Travel Time (Seconds)': \"DMTT\"}) "
   ]
  },
  {
   "cell_type": "code",
   "execution_count": 20,
   "metadata": {
    "collapsed": true
   },
   "outputs": [],
   "source": [
    "df['DMTT'] = df['DMTT'] / 60"
   ]
  },
  {
   "cell_type": "code",
   "execution_count": 21,
   "metadata": {},
   "outputs": [
    {
     "data": {
      "text/plain": [
       "<matplotlib.axes._subplots.AxesSubplot at 0x7f68d3702940>"
      ]
     },
     "execution_count": 21,
     "metadata": {},
     "output_type": "execute_result"
    },
    {
     "data": {
      "image/png": "[encoded data removed]",
      "text/plain": [
       "<matplotlib.figure.Figure at 0x7f68fc298d30>"
      ]
     },
     "metadata": {},
     "output_type": "display_data"
    }
   ],
   "source": [
    "sns.boxplot(df.travel_minutes)"
   ]
  },
  {
   "cell_type": "code",
   "execution_count": 22,
   "metadata": {
    "collapsed": true
   },
   "outputs": [],
   "source": [
    "df['random'] = df.groupby(['travel_from'])['number_of_tickets'].transform('sum')\n",
    "df['random4'] = df.groupby(['month'])['number_of_tickets'].transform('sum')\n",
    "df['random5'] = df.groupby(['weekday'])['number_of_tickets'].transform('count')\n",
    "df['random7'] = df.groupby(['weekday'])['number_of_tickets'].transform('mean')"
   ]
  },
  {
   "cell_type": "code",
   "execution_count": 23,
   "metadata": {
    "collapsed": true
   },
   "outputs": [],
   "source": [
    "df['int2'] = df.groupby(['travel_from','travel_minutes'])['number_of_tickets'].transform('sum')"
   ]
  },
  {
   "cell_type": "code",
   "execution_count": 24,
   "metadata": {
    "collapsed": true
   },
   "outputs": [],
   "source": [
    "travel_dict = {\n",
    "    'Migori':371,\n",
    "    'Keroka': 279,\n",
    "    'Homa Bay': 362,\n",
    "    'Kisii' : 306,\n",
    "    'Keumbu':294,\n",
    "    'Rongo' : 330,\n",
    "    'Kijauri': 269,\n",
    "    'Oyugis' : 331,\n",
    "    'Awendo' : 349,\n",
    "    'Sirare':404,\n",
    "    'Nyachenge': 323,\n",
    "    'Kehancha' : 377,\n",
    "    'Kendu Bay':346,\n",
    "    'Sori' : 397,\n",
    "    'Rodi' : 345,\n",
    "    'Mbita' : 399,\n",
    "    'Ndhiwa' : 369\n",
    "}\n",
    "\n",
    "df[\"distance\"] = df[\"travel_from\"].map(travel_dict)"
   ]
  },
  {
   "cell_type": "code",
   "execution_count": 25,
   "metadata": {
    "collapsed": true
   },
   "outputs": [],
   "source": [
    "df['max_capacity'] = df['max_capacity'].astype('category').cat.codes\n",
    "df['year'] = df['year'].astype('category').cat.codes\n",
    "df['car_type'] = df['car_type'].astype('category').cat.codes\n",
    "df['travel_from'] = df['travel_from'].astype('category').cat.codes"
   ]
  },
  {
   "cell_type": "code",
   "execution_count": 26,
   "metadata": {
    "collapsed": true
   },
   "outputs": [],
   "source": [
    "label = train['number_of_tickets']"
   ]
  },
  {
   "cell_type": "code",
   "execution_count": 27,
   "metadata": {
    "collapsed": true
   },
   "outputs": [],
   "source": [
    "df.drop(labels=['travel_to','payment_receipt','payment_method','seat_number', 'ride_id',\n",
    "                    'travel_time','travel_date','car_type','dayofyear','Date'\n",
    "               ], axis=1, inplace=True)"
   ]
  },
  {
   "cell_type": "code",
   "execution_count": 28,
   "metadata": {},
   "outputs": [
    {
     "data": {
      "text/plain": [
       "<matplotlib.axes._subplots.AxesSubplot at 0x7f68d3892240>"
      ]
     },
     "execution_count": 28,
     "metadata": {},
     "output_type": "execute_result"
    },
    {
     "data": {
      "image/png": "[encoded data removed]",
      "text/plain": [
       "<matplotlib.figure.Figure at 0x7f68d3892470>"
      ]
     },
     "metadata": {},
     "output_type": "display_data"
    }
   ],
   "source": [
    "plt.figure(figsize=(12,10))\n",
    "plt.xticks(rotation=90)\n",
    "corr = df.corr()\n",
    "cmap = sns.diverging_palette( 220 , 10 , as_cmap = True )\n",
    "sns.heatmap(corr, xticklabels=corr.columns.values, yticklabels=corr.columns.values, cmap=cmap, \n",
    "            cbar_kws={ 'shrink' :.9},\n",
    "        annot = True,\n",
    "        annot_kws = { 'fontsize' : 10 })"
   ]
  },
  {
   "cell_type": "code",
   "execution_count": 29,
   "metadata": {
    "collapsed": true
   },
   "outputs": [],
   "source": [
    "df.drop(labels=[\"number_of_tickets\"],axis=1, inplace=True)"
   ]
  },
  {
   "cell_type": "code",
   "execution_count": 30,
   "metadata": {
    "collapsed": true
   },
   "outputs": [],
   "source": [
    "df['DMTT'].fillna(method='ffill', inplace=True)"
   ]
  },
  {
   "cell_type": "code",
   "execution_count": 31,
   "metadata": {
    "collapsed": true
   },
   "outputs": [],
   "source": [
    "df['what'] = df['weekday'] * df['int2']"
   ]
  },
  {
   "cell_type": "code",
   "execution_count": 32,
   "metadata": {
    "collapsed": true
   },
   "outputs": [],
   "source": [
    "cat = ['month', 'weekday','year','quarter', 'max_capacity','travel_from']\n",
    "enc = LabelEncoder()\n",
    "for i in cat:\n",
    "    df[i] = df[i].astype(str)\n",
    "    df[i] = enc.fit_transform(df[i])"
   ]
  },
  {
   "cell_type": "code",
   "execution_count": 33,
   "metadata": {
    "collapsed": true
   },
   "outputs": [],
   "source": [
    "new_train = df[:6249]\n",
    "new_test = df[6249:]"
   ]
  },
  {
   "cell_type": "code",
   "execution_count": 34,
   "metadata": {},
   "outputs": [
    {
     "data": {
      "text/plain": [
       "(6249, 17)"
      ]
     },
     "execution_count": 34,
     "metadata": {},
     "output_type": "execute_result"
    }
   ],
   "source": [
    "new_train.shape"
   ]
  },
  {
   "cell_type": "code",
   "execution_count": 35,
   "metadata": {},
   "outputs": [
    {
     "name": "stdout",
     "output_type": "stream",
     "text": [
      "[0]\tvalidation_0-mae:7.43666\n",
      "Will train until validation_0-mae hasn't improved in 300 rounds.\n",
      "[1]\tvalidation_0-mae:6.86738\n",
      "[2]\tvalidation_0-mae:6.4154\n",
      "[3]\tvalidation_0-mae:6.01567\n",
      "[4]\tvalidation_0-mae:5.69303\n",
      "[5]\tvalidation_0-mae:5.4162\n",
      "[6]\tvalidation_0-mae:5.18177\n",
      "[7]\tvalidation_0-mae:4.97841\n",
      "[8]\tvalidation_0-mae:4.80503\n",
      "[9]\tvalidation_0-mae:4.65148\n",
      "[10]\tvalidation_0-mae:4.52016\n",
      "[11]\tvalidation_0-mae:4.41181\n",
      "[12]\tvalidation_0-mae:4.31937\n",
      "[13]\tvalidation_0-mae:4.24324\n",
      "[14]\tvalidation_0-mae:4.18028\n",
      "[15]\tvalidation_0-mae:4.11104\n",
      "[16]\tvalidation_0-mae:4.06087\n",
      "[17]\tvalidation_0-mae:4.01004\n",
      "[18]\tvalidation_0-mae:3.9709\n",
      "[19]\tvalidation_0-mae:3.93581\n",
      "[20]\tvalidation_0-mae:3.91111\n",
      "[21]\tvalidation_0-mae:3.88456\n",
      "[22]\tvalidation_0-mae:3.86088\n",
      "[23]\tvalidation_0-mae:3.83672\n",
      "[24]\tvalidation_0-mae:3.8168\n",
      "[25]\tvalidation_0-mae:3.805\n",
      "[26]\tvalidation_0-mae:3.79415\n",
      "[27]\tvalidation_0-mae:3.79067\n",
      "[28]\tvalidation_0-mae:3.77984\n",
      "[29]\tvalidation_0-mae:3.77453\n",
      "[30]\tvalidation_0-mae:3.77478\n",
      "[31]\tvalidation_0-mae:3.76509\n",
      "[32]\tvalidation_0-mae:3.75879\n",
      "[33]\tvalidation_0-mae:3.75093\n",
      "[34]\tvalidation_0-mae:3.74799\n",
      "[35]\tvalidation_0-mae:3.74117\n",
      "[36]\tvalidation_0-mae:3.73421\n",
      "[37]\tvalidation_0-mae:3.7318\n",
      "[38]\tvalidation_0-mae:3.72917\n",
      "[39]\tvalidation_0-mae:3.72783\n",
      "[40]\tvalidation_0-mae:3.72788\n",
      "[41]\tvalidation_0-mae:3.72829\n",
      "[42]\tvalidation_0-mae:3.72546\n",
      "[43]\tvalidation_0-mae:3.7225\n",
      "[44]\tvalidation_0-mae:3.7202\n",
      "[45]\tvalidation_0-mae:3.721\n",
      "[46]\tvalidation_0-mae:3.71745\n",
      "[47]\tvalidation_0-mae:3.71806\n",
      "[48]\tvalidation_0-mae:3.71716\n",
      "[49]\tvalidation_0-mae:3.71438\n",
      "[50]\tvalidation_0-mae:3.71576\n",
      "[51]\tvalidation_0-mae:3.71434\n",
      "[52]\tvalidation_0-mae:3.71833\n",
      "[53]\tvalidation_0-mae:3.7238\n",
      "[54]\tvalidation_0-mae:3.72206\n",
      "[55]\tvalidation_0-mae:3.72172\n",
      "[56]\tvalidation_0-mae:3.72548\n",
      "[57]\tvalidation_0-mae:3.72539\n",
      "[58]\tvalidation_0-mae:3.72575\n",
      "[59]\tvalidation_0-mae:3.72291\n",
      "[60]\tvalidation_0-mae:3.72256\n",
      "[61]\tvalidation_0-mae:3.72643\n",
      "[62]\tvalidation_0-mae:3.72987\n",
      "[63]\tvalidation_0-mae:3.72993\n",
      "[64]\tvalidation_0-mae:3.73212\n",
      "[65]\tvalidation_0-mae:3.72981\n",
      "[66]\tvalidation_0-mae:3.73204\n",
      "[67]\tvalidation_0-mae:3.73088\n",
      "[68]\tvalidation_0-mae:3.7325\n",
      "[69]\tvalidation_0-mae:3.72863\n",
      "[70]\tvalidation_0-mae:3.72789\n",
      "[71]\tvalidation_0-mae:3.7275\n",
      "[72]\tvalidation_0-mae:3.72763\n",
      "[73]\tvalidation_0-mae:3.72914\n",
      "[74]\tvalidation_0-mae:3.72973\n",
      "[75]\tvalidation_0-mae:3.72875\n",
      "[76]\tvalidation_0-mae:3.72864\n",
      "[77]\tvalidation_0-mae:3.72964\n",
      "[78]\tvalidation_0-mae:3.73135\n",
      "[79]\tvalidation_0-mae:3.73323\n",
      "[80]\tvalidation_0-mae:3.72976\n",
      "[81]\tvalidation_0-mae:3.73196\n",
      "[82]\tvalidation_0-mae:3.73278\n",
      "[83]\tvalidation_0-mae:3.73022\n",
      "[84]\tvalidation_0-mae:3.73379\n",
      "[85]\tvalidation_0-mae:3.73319\n",
      "[86]\tvalidation_0-mae:3.73265\n",
      "[87]\tvalidation_0-mae:3.73121\n",
      "[88]\tvalidation_0-mae:3.73102\n",
      "[89]\tvalidation_0-mae:3.72898\n",
      "[90]\tvalidation_0-mae:3.73037\n",
      "[91]\tvalidation_0-mae:3.73053\n",
      "[92]\tvalidation_0-mae:3.73326\n",
      "[93]\tvalidation_0-mae:3.73547\n",
      "[94]\tvalidation_0-mae:3.73626\n",
      "[95]\tvalidation_0-mae:3.73281\n",
      "[96]\tvalidation_0-mae:3.73723\n",
      "[97]\tvalidation_0-mae:3.7401\n",
      "[98]\tvalidation_0-mae:3.73577\n",
      "[99]\tvalidation_0-mae:3.73687\n",
      "[0]\tvalidation_0-mae:6.54253\n",
      "Will train until validation_0-mae hasn't improved in 300 rounds.\n",
      "[1]\tvalidation_0-mae:6.007\n",
      "[2]\tvalidation_0-mae:5.58588\n",
      "[3]\tvalidation_0-mae:5.23338\n",
      "[4]\tvalidation_0-mae:4.92237\n",
      "[5]\tvalidation_0-mae:4.68259\n",
      "[6]\tvalidation_0-mae:4.48988\n",
      "[7]\tvalidation_0-mae:4.32331\n",
      "[8]\tvalidation_0-mae:4.18829\n",
      "[9]\tvalidation_0-mae:4.07687\n",
      "[10]\tvalidation_0-mae:3.97984\n",
      "[11]\tvalidation_0-mae:3.90574\n",
      "[12]\tvalidation_0-mae:3.84451\n",
      "[13]\tvalidation_0-mae:3.78751\n",
      "[14]\tvalidation_0-mae:3.7365\n",
      "[15]\tvalidation_0-mae:3.70026\n",
      "[16]\tvalidation_0-mae:3.68641\n",
      "[17]\tvalidation_0-mae:3.66451\n",
      "[18]\tvalidation_0-mae:3.64523\n",
      "[19]\tvalidation_0-mae:3.63078\n",
      "[20]\tvalidation_0-mae:3.61546\n",
      "[21]\tvalidation_0-mae:3.60127\n",
      "[22]\tvalidation_0-mae:3.59475\n",
      "[23]\tvalidation_0-mae:3.58799\n",
      "[24]\tvalidation_0-mae:3.58743\n",
      "[25]\tvalidation_0-mae:3.59031\n",
      "[26]\tvalidation_0-mae:3.59411\n",
      "[27]\tvalidation_0-mae:3.59376\n",
      "[28]\tvalidation_0-mae:3.59547\n",
      "[29]\tvalidation_0-mae:3.5954\n",
      "[30]\tvalidation_0-mae:3.59184\n",
      "[31]\tvalidation_0-mae:3.59375\n",
      "[32]\tvalidation_0-mae:3.59441\n",
      "[33]\tvalidation_0-mae:3.59637\n",
      "[34]\tvalidation_0-mae:3.59624\n",
      "[35]\tvalidation_0-mae:3.59983\n",
      "[36]\tvalidation_0-mae:3.60193\n",
      "[37]\tvalidation_0-mae:3.60415\n",
      "[38]\tvalidation_0-mae:3.60962\n",
      "[39]\tvalidation_0-mae:3.61338\n",
      "[40]\tvalidation_0-mae:3.61547\n",
      "[41]\tvalidation_0-mae:3.61534\n",
      "[42]\tvalidation_0-mae:3.61703\n",
      "[43]\tvalidation_0-mae:3.61933\n",
      "[44]\tvalidation_0-mae:3.62319\n",
      "[45]\tvalidation_0-mae:3.62202\n",
      "[46]\tvalidation_0-mae:3.62524\n",
      "[47]\tvalidation_0-mae:3.62457\n",
      "[48]\tvalidation_0-mae:3.62245\n",
      "[49]\tvalidation_0-mae:3.63124\n",
      "[50]\tvalidation_0-mae:3.62685\n",
      "[51]\tvalidation_0-mae:3.62678\n",
      "[52]\tvalidation_0-mae:3.62926\n",
      "[53]\tvalidation_0-mae:3.62526\n",
      "[54]\tvalidation_0-mae:3.62538\n",
      "[55]\tvalidation_0-mae:3.63183\n",
      "[56]\tvalidation_0-mae:3.63499\n",
      "[57]\tvalidation_0-mae:3.63794\n",
      "[58]\tvalidation_0-mae:3.63914\n",
      "[59]\tvalidation_0-mae:3.6393\n",
      "[60]\tvalidation_0-mae:3.6403\n",
      "[61]\tvalidation_0-mae:3.64185\n",
      "[62]\tvalidation_0-mae:3.63855\n",
      "[63]\tvalidation_0-mae:3.6402\n",
      "[64]\tvalidation_0-mae:3.63914\n",
      "[65]\tvalidation_0-mae:3.64258\n",
      "[66]\tvalidation_0-mae:3.64875\n",
      "[67]\tvalidation_0-mae:3.65012\n",
      "[68]\tvalidation_0-mae:3.65115\n",
      "[69]\tvalidation_0-mae:3.65053\n",
      "[70]\tvalidation_0-mae:3.65399\n",
      "[71]\tvalidation_0-mae:3.65562\n",
      "[72]\tvalidation_0-mae:3.6557\n",
      "[73]\tvalidation_0-mae:3.65772\n",
      "[74]\tvalidation_0-mae:3.65593\n",
      "[75]\tvalidation_0-mae:3.66148\n",
      "[76]\tvalidation_0-mae:3.66694\n",
      "[77]\tvalidation_0-mae:3.66637\n",
      "[78]\tvalidation_0-mae:3.66686\n",
      "[79]\tvalidation_0-mae:3.67016\n",
      "[80]\tvalidation_0-mae:3.66999\n",
      "[81]\tvalidation_0-mae:3.67439\n",
      "[82]\tvalidation_0-mae:3.67413\n",
      "[83]\tvalidation_0-mae:3.67114\n",
      "[84]\tvalidation_0-mae:3.67541\n",
      "[85]\tvalidation_0-mae:3.67303\n",
      "[86]\tvalidation_0-mae:3.67891\n",
      "[87]\tvalidation_0-mae:3.68063\n",
      "[88]\tvalidation_0-mae:3.68036\n",
      "[89]\tvalidation_0-mae:3.68212\n",
      "[90]\tvalidation_0-mae:3.68174\n",
      "[91]\tvalidation_0-mae:3.681\n",
      "[92]\tvalidation_0-mae:3.68032\n",
      "[93]\tvalidation_0-mae:3.68114\n",
      "[94]\tvalidation_0-mae:3.68023\n",
      "[95]\tvalidation_0-mae:3.68385\n",
      "[96]\tvalidation_0-mae:3.6845\n",
      "[97]\tvalidation_0-mae:3.68571\n",
      "[98]\tvalidation_0-mae:3.68569\n",
      "[99]\tvalidation_0-mae:3.68607\n",
      "[0]\tvalidation_0-mae:7.04789\n",
      "Will train until validation_0-mae hasn't improved in 300 rounds.\n",
      "[1]\tvalidation_0-mae:6.47935\n",
      "[2]\tvalidation_0-mae:6.02044\n",
      "[3]\tvalidation_0-mae:5.63447\n",
      "[4]\tvalidation_0-mae:5.30399\n",
      "[5]\tvalidation_0-mae:5.02127\n",
      "[6]\tvalidation_0-mae:4.78227\n",
      "[7]\tvalidation_0-mae:4.5877\n",
      "[8]\tvalidation_0-mae:4.43176\n",
      "[9]\tvalidation_0-mae:4.28755\n",
      "[10]\tvalidation_0-mae:4.17587\n",
      "[11]\tvalidation_0-mae:4.08282\n",
      "[12]\tvalidation_0-mae:4.00026\n",
      "[13]\tvalidation_0-mae:3.94088\n",
      "[14]\tvalidation_0-mae:3.89037\n",
      "[15]\tvalidation_0-mae:3.85166\n",
      "[16]\tvalidation_0-mae:3.81367\n",
      "[17]\tvalidation_0-mae:3.7751\n",
      "[18]\tvalidation_0-mae:3.75057\n",
      "[19]\tvalidation_0-mae:3.72865\n",
      "[20]\tvalidation_0-mae:3.70936\n",
      "[21]\tvalidation_0-mae:3.68234\n",
      "[22]\tvalidation_0-mae:3.66807\n",
      "[23]\tvalidation_0-mae:3.66238\n",
      "[24]\tvalidation_0-mae:3.65586\n",
      "[25]\tvalidation_0-mae:3.64248\n",
      "[26]\tvalidation_0-mae:3.63606\n",
      "[27]\tvalidation_0-mae:3.63567\n",
      "[28]\tvalidation_0-mae:3.63231\n",
      "[29]\tvalidation_0-mae:3.63198\n",
      "[30]\tvalidation_0-mae:3.62512\n",
      "[31]\tvalidation_0-mae:3.61943\n",
      "[32]\tvalidation_0-mae:3.61647\n",
      "[33]\tvalidation_0-mae:3.61951\n",
      "[34]\tvalidation_0-mae:3.61562\n",
      "[35]\tvalidation_0-mae:3.61159\n",
      "[36]\tvalidation_0-mae:3.60926\n",
      "[37]\tvalidation_0-mae:3.60941\n",
      "[38]\tvalidation_0-mae:3.60624\n",
      "[39]\tvalidation_0-mae:3.60314\n",
      "[40]\tvalidation_0-mae:3.60154\n",
      "[41]\tvalidation_0-mae:3.59454\n",
      "[42]\tvalidation_0-mae:3.59166\n",
      "[43]\tvalidation_0-mae:3.59089\n",
      "[44]\tvalidation_0-mae:3.58897\n",
      "[45]\tvalidation_0-mae:3.58674\n",
      "[46]\tvalidation_0-mae:3.58784\n",
      "[47]\tvalidation_0-mae:3.58938\n",
      "[48]\tvalidation_0-mae:3.58932\n",
      "[49]\tvalidation_0-mae:3.58987\n",
      "[50]\tvalidation_0-mae:3.58979\n",
      "[51]\tvalidation_0-mae:3.58818\n",
      "[52]\tvalidation_0-mae:3.58593\n",
      "[53]\tvalidation_0-mae:3.58139\n",
      "[54]\tvalidation_0-mae:3.58184\n",
      "[55]\tvalidation_0-mae:3.58032\n",
      "[56]\tvalidation_0-mae:3.58214\n",
      "[57]\tvalidation_0-mae:3.58232\n",
      "[58]\tvalidation_0-mae:3.57646\n",
      "[59]\tvalidation_0-mae:3.57903\n",
      "[60]\tvalidation_0-mae:3.57467\n",
      "[61]\tvalidation_0-mae:3.57505\n",
      "[62]\tvalidation_0-mae:3.57454\n",
      "[63]\tvalidation_0-mae:3.58191\n",
      "[64]\tvalidation_0-mae:3.58212\n",
      "[65]\tvalidation_0-mae:3.58075\n",
      "[66]\tvalidation_0-mae:3.58192\n",
      "[67]\tvalidation_0-mae:3.58399\n",
      "[68]\tvalidation_0-mae:3.57707\n"
     ]
    },
    {
     "name": "stdout",
     "output_type": "stream",
     "text": [
      "[69]\tvalidation_0-mae:3.57634\n",
      "[70]\tvalidation_0-mae:3.57584\n",
      "[71]\tvalidation_0-mae:3.5778\n",
      "[72]\tvalidation_0-mae:3.57904\n",
      "[73]\tvalidation_0-mae:3.57972\n",
      "[74]\tvalidation_0-mae:3.58186\n",
      "[75]\tvalidation_0-mae:3.58608\n",
      "[76]\tvalidation_0-mae:3.58857\n",
      "[77]\tvalidation_0-mae:3.58757\n",
      "[78]\tvalidation_0-mae:3.58489\n",
      "[79]\tvalidation_0-mae:3.58547\n",
      "[80]\tvalidation_0-mae:3.58662\n",
      "[81]\tvalidation_0-mae:3.58357\n",
      "[82]\tvalidation_0-mae:3.58209\n",
      "[83]\tvalidation_0-mae:3.58393\n",
      "[84]\tvalidation_0-mae:3.58387\n",
      "[85]\tvalidation_0-mae:3.58491\n",
      "[86]\tvalidation_0-mae:3.58099\n",
      "[87]\tvalidation_0-mae:3.58311\n",
      "[88]\tvalidation_0-mae:3.58282\n",
      "[89]\tvalidation_0-mae:3.57978\n",
      "[90]\tvalidation_0-mae:3.5794\n",
      "[91]\tvalidation_0-mae:3.57583\n",
      "[92]\tvalidation_0-mae:3.57239\n",
      "[93]\tvalidation_0-mae:3.57028\n",
      "[94]\tvalidation_0-mae:3.57095\n",
      "[95]\tvalidation_0-mae:3.56938\n",
      "[96]\tvalidation_0-mae:3.57193\n",
      "[97]\tvalidation_0-mae:3.57167\n",
      "[98]\tvalidation_0-mae:3.5762\n",
      "[99]\tvalidation_0-mae:3.57558\n",
      "[0]\tvalidation_0-mae:6.91033\n",
      "Will train until validation_0-mae hasn't improved in 300 rounds.\n",
      "[1]\tvalidation_0-mae:6.34689\n",
      "[2]\tvalidation_0-mae:5.88362\n",
      "[3]\tvalidation_0-mae:5.5072\n",
      "[4]\tvalidation_0-mae:5.19643\n",
      "[5]\tvalidation_0-mae:4.93451\n",
      "[6]\tvalidation_0-mae:4.71981\n",
      "[7]\tvalidation_0-mae:4.54532\n",
      "[8]\tvalidation_0-mae:4.39479\n",
      "[9]\tvalidation_0-mae:4.28152\n",
      "[10]\tvalidation_0-mae:4.18599\n",
      "[11]\tvalidation_0-mae:4.10198\n",
      "[12]\tvalidation_0-mae:4.04084\n",
      "[13]\tvalidation_0-mae:3.99476\n",
      "[14]\tvalidation_0-mae:3.94124\n",
      "[15]\tvalidation_0-mae:3.9081\n",
      "[16]\tvalidation_0-mae:3.88673\n",
      "[17]\tvalidation_0-mae:3.87084\n",
      "[18]\tvalidation_0-mae:3.85714\n",
      "[19]\tvalidation_0-mae:3.8462\n",
      "[20]\tvalidation_0-mae:3.83766\n",
      "[21]\tvalidation_0-mae:3.82215\n",
      "[22]\tvalidation_0-mae:3.81432\n",
      "[23]\tvalidation_0-mae:3.81115\n",
      "[24]\tvalidation_0-mae:3.81195\n",
      "[25]\tvalidation_0-mae:3.80397\n",
      "[26]\tvalidation_0-mae:3.80421\n",
      "[27]\tvalidation_0-mae:3.79746\n",
      "[28]\tvalidation_0-mae:3.80012\n",
      "[29]\tvalidation_0-mae:3.7977\n",
      "[30]\tvalidation_0-mae:3.79999\n",
      "[31]\tvalidation_0-mae:3.7967\n",
      "[32]\tvalidation_0-mae:3.79954\n",
      "[33]\tvalidation_0-mae:3.79568\n",
      "[34]\tvalidation_0-mae:3.79615\n",
      "[35]\tvalidation_0-mae:3.79365\n",
      "[36]\tvalidation_0-mae:3.79049\n",
      "[37]\tvalidation_0-mae:3.79548\n",
      "[38]\tvalidation_0-mae:3.79709\n",
      "[39]\tvalidation_0-mae:3.79493\n",
      "[40]\tvalidation_0-mae:3.78908\n",
      "[41]\tvalidation_0-mae:3.78877\n",
      "[42]\tvalidation_0-mae:3.79134\n",
      "[43]\tvalidation_0-mae:3.79405\n",
      "[44]\tvalidation_0-mae:3.79604\n",
      "[45]\tvalidation_0-mae:3.79636\n",
      "[46]\tvalidation_0-mae:3.80148\n",
      "[47]\tvalidation_0-mae:3.80083\n",
      "[48]\tvalidation_0-mae:3.80886\n",
      "[49]\tvalidation_0-mae:3.80731\n",
      "[50]\tvalidation_0-mae:3.81094\n",
      "[51]\tvalidation_0-mae:3.81022\n",
      "[52]\tvalidation_0-mae:3.81649\n",
      "[53]\tvalidation_0-mae:3.81747\n",
      "[54]\tvalidation_0-mae:3.81876\n",
      "[55]\tvalidation_0-mae:3.81981\n",
      "[56]\tvalidation_0-mae:3.82205\n",
      "[57]\tvalidation_0-mae:3.82086\n",
      "[58]\tvalidation_0-mae:3.82226\n",
      "[59]\tvalidation_0-mae:3.82233\n",
      "[60]\tvalidation_0-mae:3.82498\n",
      "[61]\tvalidation_0-mae:3.82556\n",
      "[62]\tvalidation_0-mae:3.82079\n",
      "[63]\tvalidation_0-mae:3.82407\n",
      "[64]\tvalidation_0-mae:3.8254\n",
      "[65]\tvalidation_0-mae:3.8278\n",
      "[66]\tvalidation_0-mae:3.83317\n",
      "[67]\tvalidation_0-mae:3.83017\n",
      "[68]\tvalidation_0-mae:3.8304\n",
      "[69]\tvalidation_0-mae:3.83075\n",
      "[70]\tvalidation_0-mae:3.83067\n",
      "[71]\tvalidation_0-mae:3.82861\n",
      "[72]\tvalidation_0-mae:3.82934\n",
      "[73]\tvalidation_0-mae:3.83033\n",
      "[74]\tvalidation_0-mae:3.83018\n",
      "[75]\tvalidation_0-mae:3.83202\n",
      "[76]\tvalidation_0-mae:3.83365\n",
      "[77]\tvalidation_0-mae:3.8361\n",
      "[78]\tvalidation_0-mae:3.83448\n",
      "[79]\tvalidation_0-mae:3.83611\n",
      "[80]\tvalidation_0-mae:3.83664\n",
      "[81]\tvalidation_0-mae:3.8364\n",
      "[82]\tvalidation_0-mae:3.83712\n",
      "[83]\tvalidation_0-mae:3.83762\n",
      "[84]\tvalidation_0-mae:3.83761\n",
      "[85]\tvalidation_0-mae:3.83861\n",
      "[86]\tvalidation_0-mae:3.83807\n",
      "[87]\tvalidation_0-mae:3.83933\n",
      "[88]\tvalidation_0-mae:3.84016\n",
      "[89]\tvalidation_0-mae:3.84523\n",
      "[90]\tvalidation_0-mae:3.84703\n",
      "[91]\tvalidation_0-mae:3.84893\n",
      "[92]\tvalidation_0-mae:3.85007\n",
      "[93]\tvalidation_0-mae:3.84759\n",
      "[94]\tvalidation_0-mae:3.84747\n",
      "[95]\tvalidation_0-mae:3.84559\n",
      "[96]\tvalidation_0-mae:3.84903\n",
      "[97]\tvalidation_0-mae:3.84973\n",
      "[98]\tvalidation_0-mae:3.8505\n",
      "[99]\tvalidation_0-mae:3.85083\n",
      "[0]\tvalidation_0-mae:7.25114\n",
      "Will train until validation_0-mae hasn't improved in 300 rounds.\n",
      "[1]\tvalidation_0-mae:6.66033\n",
      "[2]\tvalidation_0-mae:6.18756\n",
      "[3]\tvalidation_0-mae:5.79213\n",
      "[4]\tvalidation_0-mae:5.4505\n",
      "[5]\tvalidation_0-mae:5.16252\n",
      "[6]\tvalidation_0-mae:4.90871\n",
      "[7]\tvalidation_0-mae:4.69708\n",
      "[8]\tvalidation_0-mae:4.51774\n",
      "[9]\tvalidation_0-mae:4.37662\n",
      "[10]\tvalidation_0-mae:4.25827\n",
      "[11]\tvalidation_0-mae:4.15204\n",
      "[12]\tvalidation_0-mae:4.0662\n",
      "[13]\tvalidation_0-mae:3.99672\n",
      "[14]\tvalidation_0-mae:3.94059\n",
      "[15]\tvalidation_0-mae:3.89457\n",
      "[16]\tvalidation_0-mae:3.86002\n",
      "[17]\tvalidation_0-mae:3.82787\n",
      "[18]\tvalidation_0-mae:3.80103\n",
      "[19]\tvalidation_0-mae:3.77434\n",
      "[20]\tvalidation_0-mae:3.74022\n",
      "[21]\tvalidation_0-mae:3.71309\n",
      "[22]\tvalidation_0-mae:3.68715\n",
      "[23]\tvalidation_0-mae:3.67237\n",
      "[24]\tvalidation_0-mae:3.65966\n",
      "[25]\tvalidation_0-mae:3.64379\n",
      "[26]\tvalidation_0-mae:3.63694\n",
      "[27]\tvalidation_0-mae:3.63443\n",
      "[28]\tvalidation_0-mae:3.63047\n",
      "[29]\tvalidation_0-mae:3.61717\n",
      "[30]\tvalidation_0-mae:3.61585\n",
      "[31]\tvalidation_0-mae:3.61404\n",
      "[32]\tvalidation_0-mae:3.60925\n",
      "[33]\tvalidation_0-mae:3.60949\n",
      "[34]\tvalidation_0-mae:3.60584\n",
      "[35]\tvalidation_0-mae:3.60519\n",
      "[36]\tvalidation_0-mae:3.60117\n",
      "[37]\tvalidation_0-mae:3.60104\n",
      "[38]\tvalidation_0-mae:3.5961\n",
      "[39]\tvalidation_0-mae:3.59624\n",
      "[40]\tvalidation_0-mae:3.59205\n",
      "[41]\tvalidation_0-mae:3.58835\n",
      "[42]\tvalidation_0-mae:3.5881\n",
      "[43]\tvalidation_0-mae:3.58262\n",
      "[44]\tvalidation_0-mae:3.57981\n",
      "[45]\tvalidation_0-mae:3.58003\n",
      "[46]\tvalidation_0-mae:3.58182\n",
      "[47]\tvalidation_0-mae:3.57966\n",
      "[48]\tvalidation_0-mae:3.57557\n",
      "[49]\tvalidation_0-mae:3.57325\n",
      "[50]\tvalidation_0-mae:3.56688\n",
      "[51]\tvalidation_0-mae:3.56698\n",
      "[52]\tvalidation_0-mae:3.55999\n",
      "[53]\tvalidation_0-mae:3.56209\n",
      "[54]\tvalidation_0-mae:3.56108\n",
      "[55]\tvalidation_0-mae:3.56255\n",
      "[56]\tvalidation_0-mae:3.56074\n",
      "[57]\tvalidation_0-mae:3.56026\n",
      "[58]\tvalidation_0-mae:3.55766\n",
      "[59]\tvalidation_0-mae:3.5553\n",
      "[60]\tvalidation_0-mae:3.55525\n",
      "[61]\tvalidation_0-mae:3.55332\n",
      "[62]\tvalidation_0-mae:3.55175\n",
      "[63]\tvalidation_0-mae:3.54858\n",
      "[64]\tvalidation_0-mae:3.54405\n",
      "[65]\tvalidation_0-mae:3.5399\n",
      "[66]\tvalidation_0-mae:3.53973\n",
      "[67]\tvalidation_0-mae:3.53584\n",
      "[68]\tvalidation_0-mae:3.53365\n",
      "[69]\tvalidation_0-mae:3.5335\n",
      "[70]\tvalidation_0-mae:3.53181\n",
      "[71]\tvalidation_0-mae:3.53401\n",
      "[72]\tvalidation_0-mae:3.53436\n",
      "[73]\tvalidation_0-mae:3.53548\n",
      "[74]\tvalidation_0-mae:3.53469\n",
      "[75]\tvalidation_0-mae:3.53338\n",
      "[76]\tvalidation_0-mae:3.53177\n",
      "[77]\tvalidation_0-mae:3.53376\n",
      "[78]\tvalidation_0-mae:3.53187\n",
      "[79]\tvalidation_0-mae:3.53354\n",
      "[80]\tvalidation_0-mae:3.53172\n",
      "[81]\tvalidation_0-mae:3.53124\n",
      "[82]\tvalidation_0-mae:3.53083\n",
      "[83]\tvalidation_0-mae:3.52951\n",
      "[84]\tvalidation_0-mae:3.52788\n",
      "[85]\tvalidation_0-mae:3.52758\n",
      "[86]\tvalidation_0-mae:3.52325\n",
      "[87]\tvalidation_0-mae:3.52491\n",
      "[88]\tvalidation_0-mae:3.52276\n",
      "[89]\tvalidation_0-mae:3.52188\n",
      "[90]\tvalidation_0-mae:3.51976\n",
      "[91]\tvalidation_0-mae:3.51802\n",
      "[92]\tvalidation_0-mae:3.51511\n",
      "[93]\tvalidation_0-mae:3.51252\n",
      "[94]\tvalidation_0-mae:3.51043\n",
      "[95]\tvalidation_0-mae:3.50719\n",
      "[96]\tvalidation_0-mae:3.50669\n",
      "[97]\tvalidation_0-mae:3.50751\n",
      "[98]\tvalidation_0-mae:3.51065\n",
      "[99]\tvalidation_0-mae:3.508\n"
     ]
    }
   ],
   "source": [
    "n = 5\n",
    "preds = 0\n",
    "\n",
    "kfold = KFold(n_splits=n, shuffle=True, random_state=42)\n",
    "\n",
    "for i, (train_index, test_index) in enumerate(kfold.split(new_train, label)):\n",
    "    \n",
    "    x_train, x_test = new_train.iloc[train_index], new_train.iloc[test_index]\n",
    "    y_train, y_test = label[train_index], label[test_index]\n",
    "    \n",
    "    \n",
    "    kb = SelectKBest(f_regression, 15).fit(x_train, y_train)\n",
    "    xtrain = kb.transform(x_train)\n",
    "    xtest = kb.transform(x_test)\n",
    "    test = kb.transform(new_test)\n",
    "    \n",
    "    classifier = XGBRegressor(max_depth=6,min_child_weight=2,subsample=0.85)\n",
    "    classifier.fit(xtrain, y_train, eval_set=[[xtest, y_test]],early_stopping_rounds = 300,eval_metric='mae')\n",
    "    \n",
    "    pred = classifier.predict(test)\n",
    "    \n",
    "    preds += pred\n",
    "        \n",
    "submission['number_of_ticket'] = preds / n\n",
    "submission.to_csv(\"sub2.csv\", index=False,float_format=\"%.f\")"
   ]
  },
  {
   "cell_type": "code",
   "execution_count": 36,
   "metadata": {},
   "outputs": [
    {
     "data": {
      "text/plain": [
       "<matplotlib.axes._subplots.AxesSubplot at 0x7f68b751fa58>"
      ]
     },
     "execution_count": 36,
     "metadata": {},
     "output_type": "execute_result"
    },
    {
     "data": {
      "image/png": "[encoded data removed]",
      "text/plain": [
       "<matplotlib.figure.Figure at 0x7f68e00497b8>"
      ]
     },
     "metadata": {},
     "output_type": "display_data"
    }
   ],
   "source": [
    "features = pd.DataFrame()\n",
    "features['feature'] = x_train.columns\n",
    "features['importance'] = kb.scores_\n",
    "features.sort_values(by=['importance'], ascending=True, inplace=True)\n",
    "features.set_index('feature', inplace=True)\n",
    "features.plot(kind='barh', stacked=True, color=['cornflowerblue'], grid=False, figsize=(20, 18))"
   ]
  }
 ],
 "metadata": {
  "kernelspec": {
   "display_name": "Python [conda env:anaconda3]",
   "language": "python",
   "name": "conda-env-anaconda3-py"
  },
  "language_info": {
   "codemirror_mode": {
    "name": "ipython",
    "version": 3
   },
   "file_extension": ".py",
   "mimetype": "text/x-python",
   "name": "python",
   "nbconvert_exporter": "python",
   "pygments_lexer": "ipython3",
   "version": "3.5.3"
  }
 },
 "nbformat": 4,
 "nbformat_minor": 2
}

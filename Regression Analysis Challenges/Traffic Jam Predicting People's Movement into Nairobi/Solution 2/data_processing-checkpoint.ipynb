{
 "cells": [
  {
   "cell_type": "code",
   "execution_count": 16,
   "metadata": {},
   "outputs": [],
   "source": [
    "import pandas as pd \n",
    "import numpy as np "
   ]
  },
  {
   "cell_type": "code",
   "execution_count": 17,
   "metadata": {},
   "outputs": [],
   "source": [
    "train=pd.read_csv(\"./Data/train.zip\")\n",
    "test=pd.read_csv(\"./Data/test.csv\")\n",
    "train.drop(['payment_method', 'payment_receipt', 'seat_number',\"travel_to\"],axis=1,inplace=True)\n",
    "test.drop([\"travel_to\"],axis=1,inplace=True)\n",
    "\n",
    "number_of_ticket=train.groupby([\"ride_id\"]).ride_id.count().rename(\"number_of_ticket\").reset_index()\n",
    "other_features=train.drop_duplicates(\"ride_id\",keep=\"first\")\n",
    "train=other_features.merge(number_of_ticket,how=\"left\",on=\"ride_id\")\n",
    "\n",
    "def fixe_time(x):\n",
    "    date=x.split(\"-\")\n",
    "    date[-1]=\"20\"+date[-1]\n",
    "    return \"-\".join(date)\n",
    "\n",
    "train[\"time\"]=(train[\"travel_date\"].apply(fixe_time)+\" \"+train[\"travel_time\"]).astype(str)\n",
    "test[\"time\"]=(test[\"travel_date\"]+\" \"+test[\"travel_time\"]).astype(str)"
   ]
  },
  {
   "cell_type": "code",
   "execution_count": 18,
   "metadata": {},
   "outputs": [],
   "source": [
    "train[\"time\"]=pd.to_datetime(train[\"time\"],format='%d-%m-%Y %H:%M')\n",
    "train[\"dow\"]=train[\"time\"].dt.dayofweek\n",
    "train[\"is_weekend\"]=train[\"dow\"].apply( lambda x : True if x  in [5,6] else False )\n",
    "train[\"year\"]=train[\"time\"].dt.year\n",
    "train[\"hour\"]=train[\"time\"].dt.hour\n",
    "train[\"minute\"]=train[\"time\"].dt.minute\n",
    "\n",
    "\n",
    "test[\"time\"]=pd.to_datetime(test[\"time\"],format='%Y-%m-%d %H:%M')\n",
    "test[\"dow\"]=test[\"time\"].dt.dayofweek\n",
    "test[\"is_weekend\"]=test[\"dow\"].apply( lambda x : True if x  in [5,6] else False )\n",
    "test[\"year\"]=test[\"time\"].dt.year\n",
    "test[\"hour\"]=test[\"time\"].dt.hour\n",
    "test[\"minute\"]=test[\"time\"].dt.minute\n",
    "\n"
   ]
  },
  {
   "cell_type": "code",
   "execution_count": 19,
   "metadata": {},
   "outputs": [],
   "source": [
    "mean_hour=train.groupby(\"hour\").number_of_ticket.mean().rename(\"mean_hour\").reset_index()\n",
    "train=train.merge(mean_hour,how=\"left\",on=\"hour\")\n",
    "test=test.merge(mean_hour,how=\"left\",on=\"hour\")\n",
    "test[\"mean_hour\"].fillna(mean_hour.mean_hour.mean(),inplace=True)\n",
    "mean_travel_from=train.groupby(\"travel_from\").number_of_ticket.mean().rename(\"mean_travel_from\").reset_index()\n",
    "train=train.merge(mean_travel_from,how=\"left\",on=\"travel_from\")\n",
    "test=test.merge(mean_travel_from,how=\"left\",on=\"travel_from\")\n",
    "test[\"mean_travel_from\"].fillna(mean_travel_from.mean_travel_from.mean(),inplace=True)\n",
    "mean_minute=train.groupby(\"minute\").number_of_ticket.mean().rename(\"mean_minute\").reset_index()\n",
    "train=train.merge(mean_minute,how=\"left\",on=\"minute\")\n",
    "test=test.merge(mean_minute,how=\"left\",on=\"minute\")\n",
    "test[\"mean_minute\"].fillna(mean_minute.mean_minute.mean(),inplace=True)\n",
    "mean_hour_dow=train.groupby([\"hour\",\"dow\"]).number_of_ticket.mean().rename(\"mean_hour_dow\").reset_index()\n",
    "train=train.merge(mean_hour_dow,how=\"left\",on=[\"hour\",\"dow\"])\n",
    "test=test.merge(mean_hour_dow,how=\"left\",on=[\"hour\",\"dow\"])\n",
    "test[\"mean_hour_dow\"].fillna(mean_hour_dow.mean_hour_dow.mean(),inplace=True)\n",
    "mean_hour_travel_from=train.groupby([\"hour\",\"travel_from\"]).number_of_ticket.mean().rename(\"mean_hour_travel_from\").reset_index()\n",
    "train=train.merge(mean_hour_travel_from,how=\"left\",on=[\"hour\",\"travel_from\"])\n",
    "test=test.merge(mean_hour_travel_from,how=\"left\",on=[\"hour\",\"travel_from\"])\n",
    "test[\"mean_hour_travel_from\"].fillna(mean_hour_travel_from.mean_hour_travel_from.mean(),inplace=True)\n",
    "mean_dow_travel_from=train.groupby([\"dow\",\"travel_from\"]).number_of_ticket.mean().rename(\"mean_dow_travel_from\").reset_index()\n",
    "train=train.merge(mean_dow_travel_from,how=\"left\",on=[\"dow\",\"travel_from\"])\n",
    "test=test.merge(mean_dow_travel_from,how=\"left\",on=[\"dow\",\"travel_from\"])\n",
    "test[\"mean_dow_travel_from\"].fillna(mean_dow_travel_from.mean_dow_travel_from.mean(),inplace=True)\n",
    "mean_minute_travel_from=train.groupby([\"minute\",\"travel_from\"]).number_of_ticket.mean().rename(\"mean_minute_travel_from\").reset_index()\n",
    "train=train.merge(mean_minute_travel_from,how=\"left\",on=[\"minute\",\"travel_from\"])\n",
    "test=test.merge(mean_minute_travel_from,how=\"left\",on=[\"minute\",\"travel_from\"])\n",
    "test[\"mean_minute_travel_from\"].fillna(mean_minute_travel_from.mean_minute_travel_from.mean(),inplace=True)"
   ]
  },
  {
   "cell_type": "code",
   "execution_count": null,
   "metadata": {},
   "outputs": [],
   "source": []
  },
  {
   "cell_type": "code",
   "execution_count": 20,
   "metadata": {},
   "outputs": [],
   "source": [
    "train_id=train.ride_id.unique().tolist()\n",
    "test_id=train.ride_id.unique().tolist()\n",
    "full_data=pd.concat([test,train],sort=True)\n",
    "ride_distance={'Awendo': 351,\n",
    " 'Homa Bay': 364,\n",
    " 'Kehancha': 387.7,\n",
    " 'Kendu Bay': 347,\n",
    " 'Keroka': 281,\n",
    " 'Keumbu': 295,\n",
    " 'Kijauri': 271,\n",
    " 'Kisii': 305.1,\n",
    " 'Mbita': 401,\n",
    " 'Migori': 372,\n",
    " 'Ndhiwa': 371,\n",
    " 'Nyachenge': 326,\n",
    " 'Oyugis': 330.6,\n",
    " 'Rodi': 348,\n",
    " 'Rongo': 332,\n",
    " 'Sirare': 392,\n",
    " 'Sori': 399}\n",
    "\n",
    "\n",
    "full_data[\"ride_distance\"]=full_data.travel_from.map(ride_distance)\n",
    "ride_duration={'Awendo': 398,\n",
    " 'Homa Bay': 420,\n",
    " 'Kehancha': 430,\n",
    " 'Kendu Bay': 370,\n",
    " 'Keroka': 300,\n",
    " 'Keumbu': 320,\n",
    " 'Kijauri': 290,\n",
    " 'Kisii': 334,\n",
    " 'Mbita': 443,\n",
    " 'Migori': 428,\n",
    " 'Ndhiwa': 420,\n",
    " 'Nyachenge': 370,\n",
    " 'Oyugis': 350,\n",
    " 'Rodi': 400,\n",
    " 'Rongo': 381,\n",
    " 'Sirare': 450,\n",
    " 'Sori': 450}\n",
    "full_data[\"ride_duration\"]=full_data.travel_from.map(ride_duration)\n"
   ]
  },
  {
   "cell_type": "code",
   "execution_count": 21,
   "metadata": {},
   "outputs": [],
   "source": [
    "freq=1\n",
    "full_data[\"count_trip_per_{}_travel_from\".format(str(freq))]=full_data.groupby([pd.Grouper(key=\"time\",freq='{}min'.format(freq)),\"travel_from\"]).ride_id.transform(\"count\")\n",
    "full_data[\"count_trip_per_{}\".format(str(freq))]=full_data.groupby([pd.Grouper(key=\"time\",freq='{}min'.format(freq))]).ride_id.transform(\"count\")\n",
    "\n",
    "freq=2\n",
    "full_data[\"count_trip_per_{}_travel_from\".format(str(freq))]=full_data.groupby([pd.Grouper(key=\"time\",freq='{}min'.format(freq)),\"travel_from\"]).ride_id.transform(\"count\")\n",
    "full_data[\"count_trip_per_{}\".format(str(freq))]=full_data.groupby([pd.Grouper(key=\"time\",freq='{}min'.format(freq))]).ride_id.transform(\"count\")\n",
    "\n",
    "freq=5\n",
    "full_data[\"count_trip_per_{}_travel_from\".format(str(freq))]=full_data.groupby([pd.Grouper(key=\"time\",freq='{}min'.format(freq)),\"travel_from\"]).ride_id.transform(\"count\")\n",
    "full_data[\"count_trip_per_{}\".format(str(freq))]=full_data.groupby([pd.Grouper(key=\"time\",freq='{}min'.format(freq))]).ride_id.transform(\"count\")\n",
    "\n",
    "freq=8\n",
    "full_data[\"count_trip_per_{}_travel_from\".format(str(freq))]=full_data.groupby([pd.Grouper(key=\"time\",freq='{}min'.format(freq)),\"travel_from\"]).ride_id.transform(\"count\")\n",
    "full_data[\"count_trip_per_{}\".format(str(freq))]=full_data.groupby([pd.Grouper(key=\"time\",freq='{}min'.format(freq))]).ride_id.transform(\"count\")\n",
    "\n",
    "freq=10\n",
    "full_data[\"count_trip_per_{}_travel_from\".format(str(freq))]=full_data.groupby([pd.Grouper(key=\"time\",freq='{}min'.format(freq)),\"travel_from\"]).ride_id.transform(\"count\")\n",
    "full_data[\"count_trip_per_{}\".format(str(freq))]=full_data.groupby([pd.Grouper(key=\"time\",freq='{}min'.format(freq))]).ride_id.transform(\"count\")\n",
    "\n",
    "freq=15\n",
    "full_data[\"count_trip_per_{}_travel_from\".format(str(freq))]=full_data.groupby([pd.Grouper(key=\"time\",freq='{}min'.format(freq)),\"travel_from\"]).ride_id.transform(\"count\")\n",
    "full_data[\"count_trip_per_{}\".format(str(freq))]=full_data.groupby([pd.Grouper(key=\"time\",freq='{}min'.format(freq))]).ride_id.transform(\"count\")"
   ]
  },
  {
   "cell_type": "code",
   "execution_count": 22,
   "metadata": {},
   "outputs": [],
   "source": [
    "full_data[\"Date\"]=full_data.time.dt.date\n",
    "full_data[\"count_trip_per_day\"]=full_data.groupby(\"Date\").ride_id.transform(\"count\")\n",
    "full_data[\"count_trip_per_day_travel_from\"]=full_data.groupby([\"Date\",\"travel_from\"]).ride_id.transform(\"count\")\n",
    "\n",
    "full_data.sort_values(\"time\",inplace=True)\n",
    "full_data[\"count_trip_per_day_yesterday\"]=full_data.groupby(\"Date\").count_trip_per_day.shift(1)\n",
    "full_data[\"count_trip_per_day_tommorw\"]=full_data.groupby(\"Date\").count_trip_per_day.shift(-1)\n",
    "fea=[\"count_trip_per_day_yesterday\",\"count_trip_per_day_tommorw\"]\n",
    "full_data[fea]=full_data[fea].fillna(method=\"ffill\")\n",
    "full_data[fea]=full_data[fea].fillna(method=\"backfill\")\n",
    "del full_data[\"Date\"]\n",
    "\n",
    "full_data[\"count_trip_per_month\"]=full_data.groupby([pd.Grouper(key=\"time\",freq='M')]).ride_id.transform(\"count\")\n",
    "\n"
   ]
  },
  {
   "cell_type": "code",
   "execution_count": 31,
   "metadata": {},
   "outputs": [],
   "source": [
    "full_data=full_data.sort_values([\"travel_from\",\"time\"])\n",
    "full_data[\"time_next_ride\"]=(full_data[\"time\"]-full_data.groupby([\"travel_from\"]).time.shift(-1)).dt.total_seconds()/360\n",
    "full_data[\"time_last_ride\"]=(full_data[\"time\"]-full_data.groupby([\"travel_from\"]).time.shift(1)).dt.total_seconds()/360\n",
    "full_data[\"time_next_next_ride\"]=(full_data[\"time\"]-full_data.groupby([\"travel_from\"]).time.shift(-2)).dt.total_seconds()/360\n",
    "full_data[\"time_last_last_ride\"]=(full_data[\"time\"]-full_data.groupby([\"travel_from\"]).time.shift(2)).dt.total_seconds()/360\n",
    "full_data[\"time_next_next_next_ride\"]=(full_data[\"time\"]-full_data.groupby([\"travel_from\"]).time.shift(-3)).dt.total_seconds()/360\n",
    "full_data[\"time_last_last_last_ride\"]=(full_data[\"time\"]-full_data.groupby([\"travel_from\"]).time.shift(3)).dt.total_seconds()/360\n",
    "colums=['time_next_ride', 'time_last_ride', 'time_next_next_ride', 'time_last_last_ride',\n",
    "     'time_next_next_next_ride', 'time_last_last_last_ride']\n",
    "full_data[colums]=full_data.groupby([\"travel_from\"])[colums].fillna(method=\"ffill\")\n",
    "full_data[colums]=full_data.groupby([\"travel_from\"])[colums].fillna(method=\"backfill\")"
   ]
  },
  {
   "cell_type": "code",
   "execution_count": 32,
   "metadata": {},
   "outputs": [],
   "source": [
    "full_data[\"count_travel_from\"]=full_data.travel_from.map(full_data.travel_from.value_counts())\n",
    "full_data[\"count_travel_from\"]=pd.cut(full_data[\"count_travel_from\"],35,labels=False)"
   ]
  },
  {
   "cell_type": "code",
   "execution_count": 33,
   "metadata": {},
   "outputs": [],
   "source": [
    "from sklearn import preprocessing\n",
    "full_data[\"car_type\"]=preprocessing.LabelEncoder().fit_transform(full_data[\"car_type\"])\n",
    "full_data[\"year\"]=preprocessing.LabelEncoder().fit_transform(full_data[\"year\"])\n",
    "full_data[\"travel_from\"]=preprocessing.LabelEncoder().fit_transform(full_data[\"travel_from\"])\n",
    "full_data[\"is_weekend\"]=preprocessing.LabelEncoder().fit_transform(full_data[\"is_weekend\"])"
   ]
  },
  {
   "cell_type": "code",
   "execution_count": 34,
   "metadata": {},
   "outputs": [],
   "source": [
    "train=full_data[full_data.ride_id.isin(train_id)]\n",
    "test=full_data[full_data.ride_id.isin(test_id)]"
   ]
  },
  {
   "cell_type": "code",
   "execution_count": 35,
   "metadata": {},
   "outputs": [],
   "source": [
    "not_in_train=[\"count_trip_per_day_yesterday\",\"count_trip_per_day_tommorw\",\"count_trip_per_month\",\"count_travel_from\",\"time\",\"number_of_ticket\"]"
   ]
  },
  {
   "cell_type": "code",
   "execution_count": 36,
   "metadata": {},
   "outputs": [],
   "source": [
    "X_train=train.drop(not_in_train,axis=1).values\n",
    "X_test=test.drop(not_in_train,axis=1).values\n",
    "X_target=train.number_of_ticket.values"
   ]
  },
  {
   "cell_type": "code",
   "execution_count": 37,
   "metadata": {},
   "outputs": [],
   "source": [
    "features_name=train.drop(not_in_train,axis=1)"
   ]
  },
  {
   "cell_type": "code",
   "execution_count": 27,
   "metadata": {},
   "outputs": [],
   "source": [
    "from sklearn.model_selection import KFold\n",
    "import xgboost as xgb"
   ]
  },
  {
   "cell_type": "code",
   "execution_count": null,
   "metadata": {},
   "outputs": [],
   "source": [
    "Xgboost_parmas={}\n"
   ]
  },
  {
   "cell_type": "code",
   "execution_count": null,
   "metadata": {},
   "outputs": [],
   "source": [
    "K = 10\n",
    "kf = KFold(n_splits = K, random_state = 2019, shuffle = True)\n",
    "d_test = xgb.DMatrix(X_test,feature_names=features_name)\n",
    "\n",
    "for train_index, test_index in kf.split(train):\n",
    "    train_X, valid_X = X_train[train_index,:], X_train[test_index,:]\n",
    "    train_y, valid_y = X_target[train_index], X_target[test_index]\n",
    "\n",
    "    xgb_params = {'eta': 0.02, 'max_depth': 4, 'subsample': 0.9, 'colsample_bytree': 0.9, 'objective': 'binary:logistic', 'eval_metric': 'auc', 'seed': 99, 'silent': True}\n",
    "\n",
    "    d_train = xgb.DMatrix(train_X, train_y)\n",
    "    d_valid = xgb.DMatrix(valid_X, valid_y)\n",
    "    \n",
    "    watchlist = [(d_train, 'train'), (d_valid, 'valid')]\n",
    "    model = xgb.train(xgb_params, d_train, 5000,  watchlist, feval=gini_xgb, maximize=True, verbose_eval=50, early_stopping_rounds=100)\n",
    "                        \n",
    "    xgb_pred = model.predict(d_test)\n",
    "    xgb_preds.append(list(xgb_pred))"
   ]
  }
 ],
 "metadata": {
  "kernelspec": {
   "display_name": "Python 3",
   "language": "python",
   "name": "python3"
  },
  "language_info": {
   "codemirror_mode": {
    "name": "ipython",
    "version": 3
   },
   "file_extension": ".py",
   "mimetype": "text/x-python",
   "name": "python",
   "nbconvert_exporter": "python",
   "pygments_lexer": "ipython3",
   "version": "3.5.2"
  }
 },
 "nbformat": 4,
 "nbformat_minor": 2
}

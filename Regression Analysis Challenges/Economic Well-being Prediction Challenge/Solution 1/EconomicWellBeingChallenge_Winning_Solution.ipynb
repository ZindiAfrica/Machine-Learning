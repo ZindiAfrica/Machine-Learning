{
  "nbformat": 4,
  "nbformat_minor": 0,
  "metadata": {
    "colab": {
      "name": "EconomicWellBeingChallenge-Winning_Solution.ipynb",
      "provenance": [],
      "collapsed_sections": []
    },
    "kernelspec": {
      "display_name": "Python 3",
      "language": "python",
      "name": "python3"
    },
    "language_info": {
      "codemirror_mode": {
        "name": "ipython",
        "version": 3
      },
      "file_extension": ".py",
      "mimetype": "text/x-python",
      "name": "python",
      "nbconvert_exporter": "python",
      "pygments_lexer": "ipython3",
      "version": "3.7.4"
    }
  },
  "cells": [
    {
      "cell_type": "markdown",
      "metadata": {
        "id": "Bwh0bcrmYe9Z"
      },
      "source": [
        "# **ENV**"
      ]
    },
    {
      "cell_type": "code",
      "metadata": {
        "colab": {
          "base_uri": "https://localhost:8080/"
        },
        "id": "gkFNakv8ZlJR",
        "outputId": "41d8a00e-5787-4707-9d3c-01955d31fc51"
      },
      "source": [
        "!pip install catboost==0.24.4 -q"
      ],
      "execution_count": 1,
      "outputs": [
        {
          "output_type": "stream",
          "text": [
            "\u001b[K     |████████████████████████████████| 65.7 MB 7.7 kB/s \n",
            "\u001b[?25h"
          ],
          "name": "stdout"
        }
      ]
    },
    {
      "cell_type": "code",
      "metadata": {
        "colab": {
          "base_uri": "https://localhost:8080/"
        },
        "id": "K7Ovsb9-YGaS",
        "outputId": "c9d849dc-62f7-4eb0-d818-0caa9ffd24ef"
      },
      "source": [
        "from google.colab import drive\n",
        "drive.mount('/content/drive')"
      ],
      "execution_count": 2,
      "outputs": [
        {
          "output_type": "stream",
          "text": [
            "Mounted at /content/drive\n"
          ],
          "name": "stdout"
        }
      ]
    },
    {
      "cell_type": "code",
      "metadata": {
        "id": "kk5_uX19YHYZ"
      },
      "source": [
        "# Copying in the zip files from Google Drive (alternately just upload them)\n",
        "!cp '/content/drive/MyDrive/Economic_Well_Being_Prediction/data/Train.csv' .\n",
        "!cp '/content/drive/MyDrive/Economic_Well_Being_Prediction/data/Test.csv' .\n",
        "!cp '/content/drive/MyDrive/Economic_Well_Being_Prediction/data/SampleSubmission.csv' ."
      ],
      "execution_count": 4,
      "outputs": []
    },
    {
      "cell_type": "markdown",
      "metadata": {
        "id": "yQDA5z6zYikI"
      },
      "source": [
        "# **IMPORTS**"
      ]
    },
    {
      "cell_type": "code",
      "metadata": {
        "id": "qV9YPxLPYa06"
      },
      "source": [
        "import numpy as np\n",
        "import pandas as pd\n",
        "\n",
        "from lightgbm import LGBMRegressor\n",
        "from xgboost import XGBRegressor\n",
        "from catboost import CatBoostRegressor\n",
        "from sklearn.linear_model import Ridge ,LinearRegression\n",
        "from tqdm import tqdm_notebook\n",
        "\n",
        "from sklearn.linear_model import LogisticRegression , Ridge\n",
        "from sklearn.ensemble import ExtraTreesClassifier\n",
        "from sklearn.model_selection import KFold,StratifiedKFold ,GroupKFold\n",
        "from sklearn.metrics import mean_squared_error\n",
        "\n",
        "# Plot Packages\n",
        "import seaborn as sns\n",
        "import matplotlib.pyplot as plt\n",
        "%matplotlib inline\n",
        "plt.style.use('seaborn-darkgrid')\n",
        "\n",
        "import warnings\n",
        "warnings.filterwarnings('ignore')"
      ],
      "execution_count": 5,
      "outputs": []
    },
    {
      "cell_type": "markdown",
      "metadata": {
        "id": "s6nLU8TtmG4s"
      },
      "source": [
        "# **Modular Work**"
      ]
    },
    {
      "cell_type": "code",
      "metadata": {
        "id": "Yx27y2yicgsx"
      },
      "source": [
        "class EconomicWellBeing :\n",
        "\n",
        "  def get_processed_data(self ,) :\n",
        "    self.train_path = 'Train.csv'\n",
        "    self.test_path = 'Test.csv'\n",
        "    \n",
        "    train = pd.read_csv(self.train_path)\n",
        "    test  = pd.read_csv(self.test_path)\n",
        "\n",
        "    data = pd.concat([train, test]).reset_index(drop=True)\n",
        "    \n",
        "    col = ['country', 'year', 'urban_or_rural']\n",
        "    \n",
        "    ## Count of unique features\n",
        "    for i in col:\n",
        "        data['count_'+i] = data[i].map(data[i].value_counts())\n",
        "        \n",
        "    ## Combination features\n",
        "    data['all_ghsl'] = data['ghsl_built_1975_to_1990']+data['ghsl_built_pre_1975']+data['ghsl_built_1990_to_2000']+data['ghsl_built_2000_to_2014']\n",
        "    data['all_landcover_fraction'] = data['landcover_crops_fraction']+data['landcover_urban_fraction']\n",
        "    data['all_waters'] = data['landcover_water_permanent_10km_fraction'] + data['landcover_water_seasonal_10km_fraction']\n",
        "    \n",
        "    data['night_bin'] = pd.qcut(data['nighttime_lights'], 8, labels=False, duplicates='drop')\n",
        "\n",
        "    # get train , test\n",
        "    train = data[data['ID'].isin(train['ID'].values)]\n",
        "    test = data[~data['ID'].isin(train['ID'].values)]\n",
        "    features = [x for x in train.columns if x not in \n",
        "                ['ID','country','urban_or_rural','Target','year']]\n",
        "    return train , test , features\n",
        "  \n",
        "  def visualizer(self,continuous_feature1,continuous_feature2) :\n",
        "    fig, axes = plt.subplots(ncols=2, figsize=(24, 6), dpi=100, constrained_layout=True)\n",
        "    title_size = 18\n",
        "    label_size = 18\n",
        "\n",
        "    sns.scatterplot(x=D[continuous_feature1], y=D['Target'], ax=axes[0])\n",
        "    axes[0].set_title(f'{continuous_feature1} vs Target', size=title_size, pad=title_size)\n",
        "    axes[0].set_xlabel('')\n",
        "    axes[0].set_ylabel('')\n",
        "    axes[0].tick_params(axis='x', labelsize=label_size)\n",
        "    axes[0].tick_params(axis='y', labelsize=label_size)\n",
        "\n",
        "    sns.scatterplot(x=D[continuous_feature2], y=D['Target'], ax=axes[1])\n",
        "    axes[1].set_title(f'{continuous_feature2} vs Target', size=title_size, pad=title_size)\n",
        "    axes[1].set_xlabel('')\n",
        "    axes[1].set_ylabel('')\n",
        "    axes[1].tick_params(axis='x', labelsize=label_size)\n",
        "    axes[1].tick_params(axis='y', labelsize=label_size)\n",
        "\n",
        "    plt.show()\n",
        "\n",
        "  def get_model(self,Name='catboost') :\n",
        "    if Name =='catboost' :\n",
        "      return CatBoostRegressor(learning_rate=0.1,max_depth=4,iterations=2000,\n",
        "                                colsample_bylevel=0.6,reg_lambda=4,subsample=0.85)\n",
        "    elif Name=='lgbm' :\n",
        "      return LGBMRegressor(**{'objective' :'regression','boosting_type' : 'gbdt','metric': 'rmse' ,\n",
        "                              'learning_rate' : 0.05,'num_iterations': 1500,'max_depth' :4 ,'num_leaves' : 150,\n",
        "                              'max_bins': 85,'min_data_in_leaf':30,'reg_lambda' :75})\n",
        "    else :\n",
        "      return XGBRegressor(objective='reg:tweedie' , eval_metric = 'rmse',n_estimators = 2000,\n",
        "                             learning_rate = 0.05,max_depth=4)\n",
        "      \n",
        "  def CrossValidationTraining(self,KFOLD,EarlyStopping=50,Model_Name='catboost') :\n",
        "    train , test , features = self.get_processed_data()\n",
        "\n",
        "    self.X = train[features]\n",
        "    self.y = train['Target']\n",
        "    self.test = test[features]\n",
        "\n",
        "    self.folds = KFOLD\n",
        "    oofs  = np.zeros((len(self.X)))\n",
        "    test_predictions = np.zeros((len(self.test)))\n",
        "\n",
        "    self.Model_Name = Model_Name\n",
        "    for fold_, (trn_idx, val_idx) in enumerate(self.folds.split(self.X, self.y)):\n",
        "        \n",
        "        X_trn, y_trn = self.X.iloc[trn_idx], self.y.iloc[trn_idx]\n",
        "        X_val, y_val = self.X.iloc[val_idx], self.y.iloc[val_idx]\n",
        "        \n",
        "\n",
        "        clf = self.get_model(Name=self.Model_Name)\n",
        "        clf.fit(X_trn, y_trn, eval_set = [(X_val, y_val)],\n",
        "                verbose = 0, early_stopping_rounds = EarlyStopping)\n",
        "        \n",
        "        vp = clf.predict(X_val)\n",
        "        oofs[val_idx] = vp\n",
        "        val_score = mean_squared_error((vp), (y_val),squared=False)\n",
        "        print(4*'-- -- -- --')\n",
        "        print(f'Fold {fold_+1} Val score: {val_score}')\n",
        "        print(4*'-- -- -- --')\n",
        "        \n",
        "        tp = clf.predict(self.test)\n",
        "        test_predictions += tp / self.folds.n_splits\n",
        "\n",
        "    print()\n",
        "    print(3*'###',10*\"^\",3*'###')\n",
        "    print(mean_squared_error(self.y, oofs,squared=False))\n",
        "    return test_predictions , oofs\n",
        "  \n",
        "  def create_submission(self,predictions,dir_path) :\n",
        "    _ , test , _ = self.get_processed_data()\n",
        "    submission = pd.DataFrame()\n",
        "    submission['ID'] = test['ID']\n",
        "    submission['Target'] = np.clip(predictions, 0.141022, 0.808657) # clip between 8 percentiles and max predictions\n",
        "    return submission.to_csv(f'{dir_path}.csv',index=False)\n",
        "\n",
        "  def StackingData(self ,test_predictions : list , oof_predictions : list) :\n",
        "    train , _ , _ = self.get_processed_data()\n",
        "    self.y = train['Target']\n",
        "    \n",
        "    stacking_train = pd.DataFrame()\n",
        "    stacking_train['preds_cat'] =  oof_predictions[0]\n",
        "    stacking_train['preds_lgb'] =  oof_predictions[1]\n",
        "    stacking_train['preds_xgb'] =  oof_predictions[2]\n",
        "\n",
        "    stacking_train['Target'] = self.y\n",
        "\n",
        "    stacking_test = pd.DataFrame()\n",
        "    stacking_test['preds_cat'] =  test_predictions[0]\n",
        "    stacking_test['preds_lgb'] =  test_predictions[1]\n",
        "    stacking_test['preds_xgb'] =  test_predictions[2]\n",
        "\n",
        "    return  stacking_train , stacking_test\n",
        "\n",
        "  def StackingRegressor(self ,KFOLD,test_predictions : list , oof_predictions : list) :\n",
        "    stacking_train , stacking_test = self.StackingData(test_predictions,oof_predictions)\n",
        "    \n",
        "    cols = ['preds_cat', 'preds_xgb', 'preds_lgb']\n",
        "    X , y , Test = stacking_train[cols] , stacking_train['Target'] , stacking_test[cols]\n",
        "    final_preds = [] ; err_cb = []\n",
        "    oof_stack = np.zeros(len(X)) ;\n",
        "    \n",
        "    for fold,(train_index, test_index) in enumerate(KFOLD.split(X,y)):\n",
        "        X_train, X_test = X.values[train_index], X.values[test_index]\n",
        "        y_train, y_test = y.values[train_index], y.values[test_index]\n",
        "\n",
        "        model = Ridge(alpha=0.01,random_state=42)\n",
        "        model.fit(X_train,y_train)\n",
        "        preds=model.predict(X_test)\n",
        "        preds = np.clip(preds,a_min=0,a_max=500)\n",
        "        oof_stack[test_index] = preds\n",
        "        err_cb.append(mean_squared_error(y_test,preds,squared=False))\n",
        "        \n",
        "        test_pred = model.predict(Test.values)\n",
        "        final_preds.append(test_pred)\n",
        "    \n",
        "    print(2*'--------------------------------------')\n",
        "    print('STACKING RMSE',mean_squared_error(y, oof_stack,squared=False))\n",
        "\n",
        "    return oof_stack,np.mean(final_preds,axis=0)"
      ],
      "execution_count": 9,
      "outputs": []
    },
    {
      "cell_type": "code",
      "metadata": {
        "id": "4AVfrMBBvBX1"
      },
      "source": [
        "economic_well_being = EconomicWellBeing()\n",
        "folds = KFold(n_splits=10, shuffle=True, random_state=2021)"
      ],
      "execution_count": 10,
      "outputs": []
    },
    {
      "cell_type": "code",
      "metadata": {
        "id": "pD9ofeDCvU_F",
        "colab": {
          "base_uri": "https://localhost:8080/"
        },
        "outputId": "2c260dbf-8b64-4a24-b432-ef402cdead58"
      },
      "source": [
        "pred_catboost , oof_catboost = economic_well_being.CrossValidationTraining(KFOLD=folds,EarlyStopping=50,\n",
        "                                                                           Model_Name='catboost')"
      ],
      "execution_count": 11,
      "outputs": [
        {
          "output_type": "stream",
          "text": [
            "-- -- -- ---- -- -- ---- -- -- ---- -- -- --\n",
            "Fold 1 Val score: 0.08740575480780272\n",
            "-- -- -- ---- -- -- ---- -- -- ---- -- -- --\n",
            "-- -- -- ---- -- -- ---- -- -- ---- -- -- --\n",
            "Fold 2 Val score: 0.09228390195020524\n",
            "-- -- -- ---- -- -- ---- -- -- ---- -- -- --\n",
            "-- -- -- ---- -- -- ---- -- -- ---- -- -- --\n",
            "Fold 3 Val score: 0.08252703355562416\n",
            "-- -- -- ---- -- -- ---- -- -- ---- -- -- --\n",
            "-- -- -- ---- -- -- ---- -- -- ---- -- -- --\n",
            "Fold 4 Val score: 0.08545380313323937\n",
            "-- -- -- ---- -- -- ---- -- -- ---- -- -- --\n",
            "-- -- -- ---- -- -- ---- -- -- ---- -- -- --\n",
            "Fold 5 Val score: 0.08611435262214312\n",
            "-- -- -- ---- -- -- ---- -- -- ---- -- -- --\n",
            "-- -- -- ---- -- -- ---- -- -- ---- -- -- --\n",
            "Fold 6 Val score: 0.08526243410953432\n",
            "-- -- -- ---- -- -- ---- -- -- ---- -- -- --\n",
            "-- -- -- ---- -- -- ---- -- -- ---- -- -- --\n",
            "Fold 7 Val score: 0.08786499994974374\n",
            "-- -- -- ---- -- -- ---- -- -- ---- -- -- --\n",
            "-- -- -- ---- -- -- ---- -- -- ---- -- -- --\n",
            "Fold 8 Val score: 0.08472134639129786\n",
            "-- -- -- ---- -- -- ---- -- -- ---- -- -- --\n",
            "-- -- -- ---- -- -- ---- -- -- ---- -- -- --\n",
            "Fold 9 Val score: 0.08570790377280176\n",
            "-- -- -- ---- -- -- ---- -- -- ---- -- -- --\n",
            "-- -- -- ---- -- -- ---- -- -- ---- -- -- --\n",
            "Fold 10 Val score: 0.0863338557563171\n",
            "-- -- -- ---- -- -- ---- -- -- ---- -- -- --\n",
            "\n",
            "######### ^^^^^^^^^^ #########\n",
            "0.08640141619248548\n"
          ],
          "name": "stdout"
        }
      ]
    },
    {
      "cell_type": "code",
      "metadata": {
        "id": "k5f69CtZvZwe",
        "colab": {
          "base_uri": "https://localhost:8080/"
        },
        "outputId": "cef14276-46c7-46ca-f9d0-467ad9023396"
      },
      "source": [
        "pred_lgbm , oof_lgbm = economic_well_being.CrossValidationTraining(KFOLD=folds,EarlyStopping=50,\n",
        "                                                                   Model_Name='lgbm')"
      ],
      "execution_count": 13,
      "outputs": [
        {
          "output_type": "stream",
          "text": [
            "-- -- -- ---- -- -- ---- -- -- ---- -- -- --\n",
            "Fold 1 Val score: 0.08817126840680875\n",
            "-- -- -- ---- -- -- ---- -- -- ---- -- -- --\n",
            "-- -- -- ---- -- -- ---- -- -- ---- -- -- --\n",
            "Fold 2 Val score: 0.09282579687752102\n",
            "-- -- -- ---- -- -- ---- -- -- ---- -- -- --\n",
            "-- -- -- ---- -- -- ---- -- -- ---- -- -- --\n",
            "Fold 3 Val score: 0.08235600548633652\n",
            "-- -- -- ---- -- -- ---- -- -- ---- -- -- --\n",
            "-- -- -- ---- -- -- ---- -- -- ---- -- -- --\n",
            "Fold 4 Val score: 0.08615323141837544\n",
            "-- -- -- ---- -- -- ---- -- -- ---- -- -- --\n",
            "-- -- -- ---- -- -- ---- -- -- ---- -- -- --\n",
            "Fold 5 Val score: 0.08590692024041607\n",
            "-- -- -- ---- -- -- ---- -- -- ---- -- -- --\n",
            "-- -- -- ---- -- -- ---- -- -- ---- -- -- --\n",
            "Fold 6 Val score: 0.0850538550185027\n",
            "-- -- -- ---- -- -- ---- -- -- ---- -- -- --\n",
            "-- -- -- ---- -- -- ---- -- -- ---- -- -- --\n",
            "Fold 7 Val score: 0.08790611641387264\n",
            "-- -- -- ---- -- -- ---- -- -- ---- -- -- --\n",
            "-- -- -- ---- -- -- ---- -- -- ---- -- -- --\n",
            "Fold 8 Val score: 0.0849329884150518\n",
            "-- -- -- ---- -- -- ---- -- -- ---- -- -- --\n",
            "-- -- -- ---- -- -- ---- -- -- ---- -- -- --\n",
            "Fold 9 Val score: 0.08525833210822946\n",
            "-- -- -- ---- -- -- ---- -- -- ---- -- -- --\n",
            "-- -- -- ---- -- -- ---- -- -- ---- -- -- --\n",
            "Fold 10 Val score: 0.08619747468137649\n",
            "-- -- -- ---- -- -- ---- -- -- ---- -- -- --\n",
            "\n",
            "######### ^^^^^^^^^^ #########\n",
            "0.08651603351928325\n"
          ],
          "name": "stdout"
        }
      ]
    },
    {
      "cell_type": "code",
      "metadata": {
        "id": "C-Y0pWiNvZt1",
        "colab": {
          "base_uri": "https://localhost:8080/"
        },
        "outputId": "b90cd782-d0bc-404e-c0f0-62e6b8c58c09"
      },
      "source": [
        "pred_xgb , oof_xgb = economic_well_being.CrossValidationTraining(KFOLD=folds,EarlyStopping=100,\n",
        "                                                                 Model_Name='xgb')"
      ],
      "execution_count": 14,
      "outputs": [
        {
          "output_type": "stream",
          "text": [
            "-- -- -- ---- -- -- ---- -- -- ---- -- -- --\n",
            "Fold 1 Val score: 0.0883724630791374\n",
            "-- -- -- ---- -- -- ---- -- -- ---- -- -- --\n",
            "-- -- -- ---- -- -- ---- -- -- ---- -- -- --\n",
            "Fold 2 Val score: 0.09255385935372096\n",
            "-- -- -- ---- -- -- ---- -- -- ---- -- -- --\n",
            "-- -- -- ---- -- -- ---- -- -- ---- -- -- --\n",
            "Fold 3 Val score: 0.08368152932395757\n",
            "-- -- -- ---- -- -- ---- -- -- ---- -- -- --\n",
            "-- -- -- ---- -- -- ---- -- -- ---- -- -- --\n",
            "Fold 4 Val score: 0.0876399942933459\n",
            "-- -- -- ---- -- -- ---- -- -- ---- -- -- --\n",
            "-- -- -- ---- -- -- ---- -- -- ---- -- -- --\n",
            "Fold 5 Val score: 0.0869107384396163\n",
            "-- -- -- ---- -- -- ---- -- -- ---- -- -- --\n",
            "-- -- -- ---- -- -- ---- -- -- ---- -- -- --\n",
            "Fold 6 Val score: 0.0857613829684683\n",
            "-- -- -- ---- -- -- ---- -- -- ---- -- -- --\n",
            "-- -- -- ---- -- -- ---- -- -- ---- -- -- --\n",
            "Fold 7 Val score: 0.08789134829700239\n",
            "-- -- -- ---- -- -- ---- -- -- ---- -- -- --\n",
            "-- -- -- ---- -- -- ---- -- -- ---- -- -- --\n",
            "Fold 8 Val score: 0.08503122458296207\n",
            "-- -- -- ---- -- -- ---- -- -- ---- -- -- --\n",
            "-- -- -- ---- -- -- ---- -- -- ---- -- -- --\n",
            "Fold 9 Val score: 0.08581012638775425\n",
            "-- -- -- ---- -- -- ---- -- -- ---- -- -- --\n",
            "-- -- -- ---- -- -- ---- -- -- ---- -- -- --\n",
            "Fold 10 Val score: 0.08668340055239797\n",
            "-- -- -- ---- -- -- ---- -- -- ---- -- -- --\n",
            "\n",
            "######### ^^^^^^^^^^ #########\n",
            "0.08706359734605103\n"
          ],
          "name": "stdout"
        }
      ]
    },
    {
      "cell_type": "code",
      "metadata": {
        "id": "PF9o0o711mju",
        "colab": {
          "base_uri": "https://localhost:8080/"
        },
        "outputId": "74dece6c-e35b-42a5-b802-b127b06c473c"
      },
      "source": [
        "oofs_pred = [oof_catboost,oof_lgbm,oof_xgb]\n",
        "test_pred = [pred_catboost,pred_lgbm,pred_xgb]\n",
        "oof_stack,stack_preds  = economic_well_being.StackingRegressor(KFOLD=folds ,test_predictions=test_pred ,oof_predictions=oofs_pred)"
      ],
      "execution_count": 15,
      "outputs": [
        {
          "output_type": "stream",
          "text": [
            "----------------------------------------------------------------------------\n",
            "STACKING RMSE 0.08598758876647195\n"
          ],
          "name": "stdout"
        }
      ]
    },
    {
      "cell_type": "code",
      "metadata": {
        "id": "xe9d-7Wj16Du"
      },
      "source": [
        "economic_well_being.create_submission(stack_preds,'Winning_Solution')"
      ],
      "execution_count": 16,
      "outputs": []
    }
  ]
}
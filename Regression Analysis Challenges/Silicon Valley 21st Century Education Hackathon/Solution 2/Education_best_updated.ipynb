{
  "nbformat": 4,
  "nbformat_minor": 0,
  "metadata": {
    "colab": {
      "name": "Education_best_updated.ipynb",
      "provenance": [],
      "collapsed_sections": []
    },
    "kernelspec": {
      "name": "python3",
      "display_name": "Python 3"
    },
    "language_info": {
      "name": "python"
    }
  },
  "cells": [
    {
      "cell_type": "code",
      "metadata": {
        "id": "v36-uBHEl05T",
        "colab": {
          "base_uri": "https://localhost:8080/"
        },
        "outputId": "eb49b4aa-d98e-400e-f1fa-d78ae795aaef"
      },
      "source": [
        "!pip install scikit-learn=='0.23.1'"
      ],
      "execution_count": 1,
      "outputs": [
        {
          "output_type": "stream",
          "text": [
            "Collecting scikit-learn==0.23.1\n",
            "\u001b[?25l  Downloading https://files.pythonhosted.org/packages/b8/7e/74e707b66490d4eb05f702966ad0990881127acecf9d5cdcef3c95ec6c16/scikit_learn-0.23.1-cp37-cp37m-manylinux1_x86_64.whl (6.8MB)\n",
            "\u001b[K     |████████████████████████████████| 6.8MB 8.3MB/s \n",
            "\u001b[?25hRequirement already satisfied: scipy>=0.19.1 in /usr/local/lib/python3.7/dist-packages (from scikit-learn==0.23.1) (1.4.1)\n",
            "Requirement already satisfied: joblib>=0.11 in /usr/local/lib/python3.7/dist-packages (from scikit-learn==0.23.1) (1.0.1)\n",
            "Collecting threadpoolctl>=2.0.0\n",
            "  Downloading https://files.pythonhosted.org/packages/f7/12/ec3f2e203afa394a149911729357aa48affc59c20e2c1c8297a60f33f133/threadpoolctl-2.1.0-py3-none-any.whl\n",
            "Requirement already satisfied: numpy>=1.13.3 in /usr/local/lib/python3.7/dist-packages (from scikit-learn==0.23.1) (1.19.5)\n",
            "Installing collected packages: threadpoolctl, scikit-learn\n",
            "  Found existing installation: scikit-learn 0.22.2.post1\n",
            "    Uninstalling scikit-learn-0.22.2.post1:\n",
            "      Successfully uninstalled scikit-learn-0.22.2.post1\n",
            "Successfully installed scikit-learn-0.23.1 threadpoolctl-2.1.0\n"
          ],
          "name": "stdout"
        }
      ]
    },
    {
      "cell_type": "code",
      "metadata": {
        "id": "nb2nhRfuFsDn"
      },
      "source": [
        "import numpy as np\n",
        "import pandas as pd\n",
        "import matplotlib.pyplot as plt\n",
        "%matplotlib inline\n",
        "from sklearn.model_selection import *\n",
        "from sklearn.metrics import *\n",
        "from sklearn.ensemble import *\n",
        "from sklearn.preprocessing import StandardScaler\n",
        "\n",
        "\n",
        "pd.set_option('max_column', 10000)\n",
        "\n",
        "import warnings\n",
        "warnings.filterwarnings('ignore')"
      ],
      "execution_count": 16,
      "outputs": []
    },
    {
      "cell_type": "code",
      "metadata": {
        "id": "BxYzYcQTGA9P"
      },
      "source": [
        "train = pd.read_csv('/content/drive/MyDrive/Silicon/Train.csv')\n",
        "test = pd.read_csv('/content/drive/MyDrive/Silicon/Test.csv')\n",
        "sub = pd.read_csv('/content/drive/MyDrive/Silicon/SampleSubmission.csv')"
      ],
      "execution_count": 3,
      "outputs": []
    },
    {
      "cell_type": "code",
      "metadata": {
        "colab": {
          "base_uri": "https://localhost:8080/"
        },
        "id": "I1S1Wl8rG8Gs",
        "outputId": "0e6cead9-aa31-4133-94fb-89b87da202f3"
      },
      "source": [
        "train.shape, test.shape, sub.shape"
      ],
      "execution_count": 4,
      "outputs": [
        {
          "output_type": "execute_result",
          "data": {
            "text/plain": [
              "((14016, 17), (1168, 16), (1168, 2))"
            ]
          },
          "metadata": {
            "tags": []
          },
          "execution_count": 4
        }
      ]
    },
    {
      "cell_type": "code",
      "metadata": {
        "id": "1LtPXjKVH7vf"
      },
      "source": [
        "len_train = len(train)\n",
        "df = pd.concat([train, test]).reset_index(drop=True)"
      ],
      "execution_count": 5,
      "outputs": []
    },
    {
      "cell_type": "code",
      "metadata": {
        "id": "re3vn4Sf3JvE"
      },
      "source": [
        "df['sex'] = df['sex'].replace({'MF':'M'})"
      ],
      "execution_count": 6,
      "outputs": []
    },
    {
      "cell_type": "code",
      "metadata": {
        "id": "bYbwyfEdU816"
      },
      "source": [
        "def create_bin_features(input_df, features):\n",
        "    for bin_fe in features:\n",
        "        print(\"Binning: \",bin_fe)\n",
        "        input_df[bin_fe+\"_BINS\"] = pd.qcut(input_df[bin_fe], 4, labels=False, duplicates='drop')\n",
        "    \n",
        "    return input_df"
      ],
      "execution_count": 7,
      "outputs": []
    },
    {
      "cell_type": "code",
      "metadata": {
        "id": "K8eW_ZKwJRQ7",
        "colab": {
          "base_uri": "https://localhost:8080/"
        },
        "outputId": "f26d5a7f-c7c0-48a0-90bf-da5e7f6528a9"
      },
      "source": [
        "binning_num_features = ['percentage_no_schooling','literate_pop']\n",
        "\n",
        "df = create_bin_features(df, binning_num_features)"
      ],
      "execution_count": 8,
      "outputs": [
        {
          "output_type": "stream",
          "text": [
            "Binning:  percentage_no_schooling\n",
            "Binning:  literate_pop\n"
          ],
          "name": "stdout"
        }
      ]
    },
    {
      "cell_type": "code",
      "metadata": {
        "id": "z7NvJQRIfXWX"
      },
      "source": [
        "df['pop_no_school'] = df['percentage_no_schooling']*df['literate_pop'] "
      ],
      "execution_count": 9,
      "outputs": []
    },
    {
      "cell_type": "code",
      "metadata": {
        "id": "mKs4Iq35fXQB"
      },
      "source": [
        "colss = ['percentage_no_schooling', 'percentage_primary_schooling',\n",
        "       'percentage_primary_schooling_completed',\n",
        "       'percentage_secondary_schooling',\n",
        "       'percentage_secondary_schooling_completed',\n",
        "       'percentage_tertiary_schooling',\n",
        "       'percentage_tertiary_schooling_completed','target','yr_sch','pop_no_school']\n",
        "\n",
        "df[colss] = df[colss].round(2)"
      ],
      "execution_count": 10,
      "outputs": []
    },
    {
      "cell_type": "code",
      "metadata": {
        "id": "wPRP-oNvfXIq"
      },
      "source": [
        "df = pd.get_dummies(df, columns=['region_code'])"
      ],
      "execution_count": 11,
      "outputs": []
    },
    {
      "cell_type": "code",
      "metadata": {
        "id": "13OkpGtuflB8"
      },
      "source": [
        "train = df[:len_train]\n",
        "test = df[len_train:]"
      ],
      "execution_count": 12,
      "outputs": []
    },
    {
      "cell_type": "code",
      "metadata": {
        "id": "9P5D65F3fk6z"
      },
      "source": [
        "X = train.drop(columns=['ID','target', 'ageto','countryCode','year','sex'])\n",
        "y = train['target']\n",
        "tes = test.drop(columns=['ID','target', 'ageto','countryCode','year','sex'])"
      ],
      "execution_count": 13,
      "outputs": []
    },
    {
      "cell_type": "code",
      "metadata": {
        "id": "VBSLrVE9IUUn"
      },
      "source": [
        "ss = StandardScaler()\n",
        "X = ss.fit_transform(X)\n",
        "tes = ss.transform(tes)"
      ],
      "execution_count": 14,
      "outputs": []
    },
    {
      "cell_type": "code",
      "metadata": {
        "id": "dZheK2Z0KqVr",
        "colab": {
          "base_uri": "https://localhost:8080/"
        },
        "outputId": "fb1d48bc-1d9e-4243-908d-fdbd10424df0"
      },
      "source": [
        "%%time\n",
        "test_store=[]\n",
        "\n",
        "oofs = np.zeros((len(train)))\n",
        "y_oof = np.zeros((len(train)))\n",
        "preds = np.zeros((len(test)))\n",
        "\n",
        "\n",
        "fold = KFold(n_splits=12, shuffle=True, random_state=212)\n",
        "\n",
        "i=1\n",
        "for train_index, test_index in fold.split(X, pd.qcut(y, 10, labels=False, duplicates='drop')):\n",
        "    X_train, X_test = X[train_index], X[test_index]\n",
        "    y_train, y_test = y.iloc[train_index], y.iloc[test_index]\n",
        "    \n",
        "    y_oof[test_index] = y_test\n",
        "    \n",
        "    lgb = RandomForestRegressor(n_estimators=500, random_state=42)\n",
        "    lgb.fit(X_train,y_train)\n",
        "    predict = lgb.predict(X_test)\n",
        "    \n",
        "    oofs[test_index] = predict\n",
        "\n",
        "    pred = lgb.predict(tes)\n",
        "    test_store.append(pred)\n",
        "    \n",
        "    preds += pred/12"
      ],
      "execution_count": 17,
      "outputs": [
        {
          "output_type": "stream",
          "text": [
            "CPU times: user 11min 50s, sys: 1.62 s, total: 11min 52s\n",
            "Wall time: 11min 50s\n"
          ],
          "name": "stdout"
        }
      ]
    },
    {
      "cell_type": "code",
      "metadata": {
        "id": "JoWsv03ZLzI7"
      },
      "source": [
        "sub['target'] = preds"
      ],
      "execution_count": 18,
      "outputs": []
    },
    {
      "cell_type": "code",
      "metadata": {
        "colab": {
          "base_uri": "https://localhost:8080/",
          "height": 204
        },
        "id": "EJx1d87XNpKa",
        "outputId": "d712369a-f36e-442b-c173-ada1e05ef841"
      },
      "source": [
        "sub.head()"
      ],
      "execution_count": 19,
      "outputs": [
        {
          "output_type": "execute_result",
          "data": {
            "text/html": [
              "<div>\n",
              "<style scoped>\n",
              "    .dataframe tbody tr th:only-of-type {\n",
              "        vertical-align: middle;\n",
              "    }\n",
              "\n",
              "    .dataframe tbody tr th {\n",
              "        vertical-align: top;\n",
              "    }\n",
              "\n",
              "    .dataframe thead th {\n",
              "        text-align: right;\n",
              "    }\n",
              "</style>\n",
              "<table border=\"1\" class=\"dataframe\">\n",
              "  <thead>\n",
              "    <tr style=\"text-align: right;\">\n",
              "      <th></th>\n",
              "      <th>ID</th>\n",
              "      <th>target</th>\n",
              "    </tr>\n",
              "  </thead>\n",
              "  <tbody>\n",
              "    <tr>\n",
              "      <th>0</th>\n",
              "      <td>ID_00ILO0W</td>\n",
              "      <td>87.486918</td>\n",
              "    </tr>\n",
              "    <tr>\n",
              "      <th>1</th>\n",
              "      <td>ID_00KPO3Y</td>\n",
              "      <td>83.217815</td>\n",
              "    </tr>\n",
              "    <tr>\n",
              "      <th>2</th>\n",
              "      <td>ID_00MLY2L</td>\n",
              "      <td>88.368663</td>\n",
              "    </tr>\n",
              "    <tr>\n",
              "      <th>3</th>\n",
              "      <td>ID_00PVY5K</td>\n",
              "      <td>95.207203</td>\n",
              "    </tr>\n",
              "    <tr>\n",
              "      <th>4</th>\n",
              "      <td>ID_00TLQ4J</td>\n",
              "      <td>97.823895</td>\n",
              "    </tr>\n",
              "  </tbody>\n",
              "</table>\n",
              "</div>"
            ],
            "text/plain": [
              "           ID     target\n",
              "0  ID_00ILO0W  87.486918\n",
              "1  ID_00KPO3Y  83.217815\n",
              "2  ID_00MLY2L  88.368663\n",
              "3  ID_00PVY5K  95.207203\n",
              "4  ID_00TLQ4J  97.823895"
            ]
          },
          "metadata": {
            "tags": []
          },
          "execution_count": 19
        }
      ]
    },
    {
      "cell_type": "code",
      "metadata": {
        "id": "5S-PNmRw48Mf"
      },
      "source": [
        "rf = pd.DataFrame(oofs, columns=['rf'])\n",
        "rf_t = pd.DataFrame(preds, columns=['rf'])\n",
        "\n",
        "rf.to_csv('rf_oof.csv', index=False)\n",
        "rf_t.to_csv('rf_pred.csv', index=False)"
      ],
      "execution_count": 20,
      "outputs": []
    },
    {
      "cell_type": "code",
      "metadata": {
        "id": "C-4S3hhQ6iWA"
      },
      "source": [
        ""
      ],
      "execution_count": null,
      "outputs": []
    }
  ]
}
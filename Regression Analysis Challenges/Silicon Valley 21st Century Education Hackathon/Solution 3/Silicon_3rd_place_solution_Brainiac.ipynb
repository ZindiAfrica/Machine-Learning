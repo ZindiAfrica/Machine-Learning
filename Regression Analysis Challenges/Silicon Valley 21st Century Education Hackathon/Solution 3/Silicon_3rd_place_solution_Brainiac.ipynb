{
  "nbformat": 4,
  "nbformat_minor": 0,
  "metadata": {
    "colab": {
      "name": "Silicon_3rd_place_solution_Brainiac.ipynb",
      "provenance": [],
      "collapsed_sections": [],
      "machine_shape": "hm"
    },
    "kernelspec": {
      "display_name": "Python 3",
      "name": "python3"
    },
    "language_info": {
      "name": "python"
    },
    "accelerator": "TPU"
  },
  "cells": [
    {
      "cell_type": "code",
      "metadata": {
        "colab": {
          "base_uri": "https://localhost:8080/"
        },
        "id": "a3pnfe9MbiBL",
        "outputId": "d17a27d1-06ea-45d6-a9e6-16070d2a9f7c"
      },
      "source": [
        "!pip -qq install catboost"
      ],
      "execution_count": null,
      "outputs": [
        {
          "output_type": "stream",
          "text": [
            "\u001b[K     |████████████████████████████████| 69.2MB 91kB/s \n"
          ],
          "name": "stdout"
        }
      ]
    },
    {
      "cell_type": "code",
      "metadata": {
        "id": "Ya7HFznOGB9t"
      },
      "source": [
        "import pandas as pd\n",
        "import numpy as np\n",
        "from sklearn.model_selection import KFold\n",
        "from catboost import CatBoostRegressor\n",
        "from xgboost import XGBRegressor\n",
        "from lightgbm import LGBMRegressor\n",
        "from sklearn.ensemble import RandomForestRegressor\n",
        "import warnings\n",
        "warnings.filterwarnings('ignore')"
      ],
      "execution_count": null,
      "outputs": []
    },
    {
      "cell_type": "code",
      "metadata": {
        "colab": {
          "base_uri": "https://localhost:8080/"
        },
        "id": "-EyoPLH1FwGK",
        "outputId": "a2616cd2-05cc-4be5-856b-767fa6abefe7"
      },
      "source": [
        "!gdown --id 1SKv5wNfLo4MCAI2Yao7QIM6ZXQ8RXdDU\n",
        "!unzip -q /content/silicon_data.zip\n",
        "\n",
        "train = pd.read_csv('/content/silicon_data/Train.csv')\n",
        "test = pd.read_csv('/content/silicon_data/Test.csv')\n",
        "sample = pd.read_csv('/content/silicon_data/SampleSubmission.csv')"
      ],
      "execution_count": 3,
      "outputs": [
        {
          "output_type": "stream",
          "text": [
            "Downloading...\n",
            "From: https://drive.google.com/uc?id=1SKv5wNfLo4MCAI2Yao7QIM6ZXQ8RXdDU\n",
            "To: /content/silicon_data.zip\n",
            "\r  0% 0.00/667k [00:00<?, ?B/s]\r100% 667k/667k [00:00<00:00, 98.1MB/s]\n"
          ],
          "name": "stdout"
        }
      ]
    },
    {
      "cell_type": "code",
      "metadata": {
        "id": "V_W0fak5fF1n"
      },
      "source": [
        "train['total'] = train.percentage_primary_schooling+train.percentage_secondary_schooling+train.percentage_tertiary_schooling\n",
        "test['total'] = test.percentage_primary_schooling+test.percentage_secondary_schooling+test.percentage_tertiary_schooling\n",
        "cols = ['percentage_no_schooling', 'literate_pop', 'total']\n",
        "\n",
        "X = train[cols]\n",
        "y = train.target\n",
        "test_df = test[cols]"
      ],
      "execution_count": 4,
      "outputs": []
    },
    {
      "cell_type": "code",
      "metadata": {
        "colab": {
          "base_uri": "https://localhost:8080/"
        },
        "id": "t6880m_6etvK",
        "outputId": "44354898-672b-465c-e852-51d0a6a8c45b"
      },
      "source": [
        "%%time\n",
        "xgb, rf = [], []\n",
        "for i,( train_index, test_index) in enumerate(KFold(10).split(X, y)):\n",
        "    X_tra, X_val, y_tra, y_val = X.iloc[train_index], X.iloc[test_index], y[train_index], y[test_index]\n",
        "\n",
        "    model = XGBRegressor(objective = 'reg:squarederror', eval_metric = 'mae', n_estimators=10000)\n",
        "    model.fit(X_tra, y_tra, eval_set = [(X_tra, y_tra), (X_val, y_val)], early_stopping_rounds=150, verbose = False)\n",
        "    xgb.append(model.predict(test_df))\n",
        "\n",
        "    model = RandomForestRegressor(random_state=100, min_samples_split=2)\n",
        "    model.fit(X_tra, y_tra)\n",
        "    rf.append(model.predict(test_df))\n",
        "\n",
        "sub = pd.DataFrame({'ID': test.ID, 'target': np.mean([np.mean(xgb, 0), np.mean(rf, 0)], 0)})\n",
        "sub.to_csv('Final_sub.csv', index = False)"
      ],
      "execution_count": 5,
      "outputs": [
        {
          "output_type": "stream",
          "text": [
            "CPU times: user 7min 37s, sys: 1.18 s, total: 7min 38s\n",
            "Wall time: 7min 37s\n"
          ],
          "name": "stdout"
        }
      ]
    }
  ]
}
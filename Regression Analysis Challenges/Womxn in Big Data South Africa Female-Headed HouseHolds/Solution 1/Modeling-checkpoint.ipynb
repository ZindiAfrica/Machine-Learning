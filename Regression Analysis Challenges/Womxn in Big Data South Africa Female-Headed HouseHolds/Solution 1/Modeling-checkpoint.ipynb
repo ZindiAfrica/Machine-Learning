{
 "cells": [
  {
   "cell_type": "code",
   "execution_count": 19,
   "metadata": {},
   "outputs": [
    {
     "name": "stdout",
     "output_type": "stream",
     "text": [
      "/home/ansem/Bureau/Zindi_womxn\n"
     ]
    }
   ],
   "source": [
    "cd .."
   ]
  },
  {
   "cell_type": "code",
   "execution_count": 90,
   "metadata": {},
   "outputs": [],
   "source": [
    "import pandas as pd\n",
    "import seaborn as sns\n",
    "import numpy as np\n",
    "import matplotlib.pyplot as plt\n",
    "from tqdm import tqdm_notebook \n",
    "from os.path import join\n",
    "from Path_config import *\n",
    "#--------------------------------------------\n",
    "from math import sqrt\n",
    "from sklearn.model_selection import KFold\n",
    "from sklearn.metrics import roc_auc_score\n",
    "from sklearn.metrics import mean_squared_error\n",
    "#---------------------------------------------\n",
    "import lightgbm as lgbm\n",
    "import xgboost as xgb"
   ]
  },
  {
   "cell_type": "code",
   "execution_count": 68,
   "metadata": {},
   "outputs": [
    {
     "data": {
      "text/plain": [
       "'/home/ansem/Bureau/Zindi_womxn'"
      ]
     },
     "execution_count": 68,
     "metadata": {},
     "output_type": "execute_result"
    }
   ],
   "source": [
    "pwd"
   ]
  },
  {
   "cell_type": "code",
   "execution_count": 69,
   "metadata": {},
   "outputs": [
    {
     "name": "stdout",
     "output_type": "stream",
     "text": [
      "\u001b[0m\u001b[01;34mData\u001b[0m/  \u001b[01;34mModel\u001b[0m/  Path_config.py  \u001b[01;34m__pycache__\u001b[0m/  \u001b[01;34mSub\u001b[0m/\r\n"
     ]
    }
   ],
   "source": [
    "ls"
   ]
  },
  {
   "cell_type": "code",
   "execution_count": 70,
   "metadata": {},
   "outputs": [],
   "source": [
    "Full_data = pd.read_csv(join(\"Data/Final_data/\" , \"Final_Full_data.csv\"))"
   ]
  },
  {
   "cell_type": "markdown",
   "metadata": {},
   "source": [
    "# parameter tuning :\n"
   ]
  },
  {
   "cell_type": "code",
   "execution_count": 71,
   "metadata": {},
   "outputs": [],
   "source": [
    "#LGBM\n",
    "NUM_BOOST_ROUND = 1000\n",
    "lgbm_param = {'objective':'rmse',\n",
    "              'boosting_type': 'gbdt',\n",
    "              'random_state':25,\n",
    "              'learning_rate':0.08,\n",
    "              'is_unbalance': 'true',\n",
    "               'num_leaves': 2 **5,\n",
    "              'subsample':0.8,\n",
    "              'max_features':'sqrt',\n",
    "            \n",
    "              'colsample_bytree':0.5,\n",
    "              'early_stopping_rounds':10,\n",
    "             \n",
    "              'reg_lambda':0.95,\n",
    "              'reg_alpha': 0.95,\n",
    "              \n",
    "            }\n",
    "\n",
    "SEED = 25\n",
    "n_splits = 5"
   ]
  },
  {
   "cell_type": "code",
   "execution_count": 72,
   "metadata": {},
   "outputs": [],
   "source": [
    "#Xgb\n",
    "xgb_params= {\n",
    "    'min_child_weight': 10, \n",
    "    'eta': 0.01, \n",
    "    'colsample_bytree': 0.5, \n",
    "    'max_depth': 6,\n",
    "    'subsample': 0.5, \n",
    "    'lambda': 5, \n",
    "    'nthread': -1, \n",
    "    'booster' : 'gbtree', \n",
    "    'silent': 1,\n",
    "    'eval_metric': 'rmse', \n",
    "    'objective': 'reg:linear',\n",
    "    \"gamma\":2 ,\"alpha\":3,   \n",
    "}\n",
    "# xgb_params= {'learning_rate' : 0.01, \n",
    "#             'max_depth':10,\n",
    "#             'min_child_weight':1,\n",
    "#             'gamma':0, \n",
    "#             'subsample':0.8, \n",
    "#             'colsample_bytree':0.8,\n",
    "#             'verbosity':2,\n",
    "#             'nthread':4,\n",
    "#             scale_pos_weight':1,\n",
    "#              'seed':27\n",
    "# }             \n",
    "num_boost_round = 1000"
   ]
  },
  {
   "cell_type": "code",
   "execution_count": 73,
   "metadata": {},
   "outputs": [],
   "source": [
    "Full_data = Full_data.drop(['ADM4_PCODE'],1)"
   ]
  },
  {
   "cell_type": "code",
   "execution_count": null,
   "metadata": {},
   "outputs": [],
   "source": [
    "train_set = Full_data[Full_data.target.notnull()]\n",
    "test_set = Full_data[Full_data.target.isnull()]\n",
    "train_label = train_set['target']\n",
    "train_set = train_set.drop('target',1)\n",
    "test_set = test_set.drop('target',1)"
   ]
  },
  {
   "cell_type": "code",
   "execution_count": 135,
   "metadata": {},
   "outputs": [
    {
     "name": "stderr",
     "output_type": "stream",
     "text": [
      "/home/ansem/.local/lib/python3.6/site-packages/ipykernel_launcher.py:6: TqdmDeprecationWarning: This function will be removed in tqdm==5.0.0\n",
      "Please use `tqdm.notebook.tqdm` instead of `tqdm.tqdm_notebook`\n",
      "  \n"
     ]
    },
    {
     "data": {
      "application/vnd.jupyter.widget-view+json": {
       "model_id": "3f13cce70dd24506a01b0d17f4be6b88",
       "version_major": 2,
       "version_minor": 0
      },
      "text/plain": [
       "HBox(children=(FloatProgress(value=0.0, max=1.0), HTML(value='')))"
      ]
     },
     "metadata": {},
     "output_type": "display_data"
    },
    {
     "name": "stderr",
     "output_type": "stream",
     "text": [
      "/home/ansem/.local/lib/python3.6/site-packages/ipykernel_launcher.py:14: TqdmDeprecationWarning: This function will be removed in tqdm==5.0.0\n",
      "Please use `tqdm.notebook.tqdm` instead of `tqdm.tqdm_notebook`\n",
      "  \n"
     ]
    },
    {
     "data": {
      "application/vnd.jupyter.widget-view+json": {
       "model_id": "96eff3b0cfc649548ee238fc53908226",
       "version_major": 2,
       "version_minor": 0
      },
      "text/plain": [
       "HBox(children=(FloatProgress(value=1.0, bar_style='info', max=1.0), HTML(value='')))"
      ]
     },
     "metadata": {},
     "output_type": "display_data"
    },
    {
     "name": "stderr",
     "output_type": "stream",
     "text": [
      "/usr/local/lib/python3.6/dist-packages/lightgbm/engine.py:123: UserWarning: Found `early_stopping_rounds` in params. Will use it instead of argument\n",
      "  warnings.warn(\"Found `{}` in params. Will use it instead of argument\".format(alias))\n"
     ]
    },
    {
     "name": "stdout",
     "output_type": "stream",
     "text": [
      "Training until validation scores don't improve for 10 rounds.\n",
      "[100]\ttrain's rmse: 1.44612\tvalid's rmse: 3.15231\n",
      "Early stopping, best iteration is:\n",
      "[164]\ttrain's rmse: 0.945026\tvalid's rmse: 3.10342\n",
      "================================================================================\n",
      "Training until validation scores don't improve for 10 rounds.\n"
     ]
    },
    {
     "name": "stderr",
     "output_type": "stream",
     "text": [
      "/usr/local/lib/python3.6/dist-packages/lightgbm/engine.py:123: UserWarning: Found `early_stopping_rounds` in params. Will use it instead of argument\n",
      "  warnings.warn(\"Found `{}` in params. Will use it instead of argument\".format(alias))\n"
     ]
    },
    {
     "name": "stdout",
     "output_type": "stream",
     "text": [
      "[100]\ttrain's rmse: 1.44687\tvalid's rmse: 3.32149\n",
      "[200]\ttrain's rmse: 0.768655\tvalid's rmse: 3.24297\n",
      "Early stopping, best iteration is:\n",
      "[196]\ttrain's rmse: 0.789033\tvalid's rmse: 3.24192\n",
      "================================================================================\n",
      "Training until validation scores don't improve for 10 rounds.\n"
     ]
    },
    {
     "name": "stderr",
     "output_type": "stream",
     "text": [
      "/usr/local/lib/python3.6/dist-packages/lightgbm/engine.py:123: UserWarning: Found `early_stopping_rounds` in params. Will use it instead of argument\n",
      "  warnings.warn(\"Found `{}` in params. Will use it instead of argument\".format(alias))\n"
     ]
    },
    {
     "name": "stdout",
     "output_type": "stream",
     "text": [
      "[100]\ttrain's rmse: 1.43556\tvalid's rmse: 3.353\n",
      "Early stopping, best iteration is:\n",
      "[120]\ttrain's rmse: 1.24789\tvalid's rmse: 3.33919\n",
      "================================================================================\n"
     ]
    },
    {
     "name": "stderr",
     "output_type": "stream",
     "text": [
      "/usr/local/lib/python3.6/dist-packages/lightgbm/engine.py:123: UserWarning: Found `early_stopping_rounds` in params. Will use it instead of argument\n",
      "  warnings.warn(\"Found `{}` in params. Will use it instead of argument\".format(alias))\n"
     ]
    },
    {
     "name": "stdout",
     "output_type": "stream",
     "text": [
      "Training until validation scores don't improve for 10 rounds.\n",
      "Early stopping, best iteration is:\n",
      "[82]\ttrain's rmse: 1.6932\tvalid's rmse: 3.05745\n",
      "================================================================================\n",
      "Training until validation scores don't improve for 10 rounds.\n"
     ]
    },
    {
     "name": "stderr",
     "output_type": "stream",
     "text": [
      "/usr/local/lib/python3.6/dist-packages/lightgbm/engine.py:123: UserWarning: Found `early_stopping_rounds` in params. Will use it instead of argument\n",
      "  warnings.warn(\"Found `{}` in params. Will use it instead of argument\".format(alias))\n"
     ]
    },
    {
     "name": "stdout",
     "output_type": "stream",
     "text": [
      "[100]\ttrain's rmse: 1.47371\tvalid's rmse: 3.2453\n",
      "Early stopping, best iteration is:\n",
      "[159]\ttrain's rmse: 1.00609\tvalid's rmse: 3.19842\n",
      "================================================================================\n",
      "\n",
      "Average CV : 3.1880806560363384\n",
      "RMSE for OOF: 3.189639423366308\n",
      "\n",
      "3.189639423366308\n"
     ]
    }
   ],
   "source": [
    "#LGBM\n",
    "seeds = [25]\n",
    "seed_lgbm_oof_train = np.zeros( train_set.shape[0] )\n",
    "seed_lgbm_final_test =  np.zeros( test_set.shape[0] )\n",
    "\n",
    "for seed in tqdm_notebook( seeds ):\n",
    "\n",
    "    cv_list = []\n",
    "\n",
    "    oof_train = np.zeros( train_set.shape[0] )\n",
    "    final_test = np.zeros( test_set.shape[0] )\n",
    "\n",
    "    kfolds = KFold(n_splits=n_splits, random_state=SEED, shuffle=True)\n",
    "    for ind, (trn_ind, val_ind) in tqdm_notebook( enumerate(kfolds.split(X= train_set, y = train_label)) ):\n",
    "\n",
    "        X_train, y_train = train_set.iloc[trn_ind].drop(['ward'],1), train_label[trn_ind]\n",
    "        X_valid, y_valid = train_set.iloc[val_ind].drop(['ward'],1), train_label[val_ind]\n",
    "\n",
    "        dtrain = lgbm.Dataset( X_train, y_train )\n",
    "        dvalid = lgbm.Dataset( X_valid, y_valid ,reference=dtrain)\n",
    "        \n",
    "        lgbm_param['random_state'] = seed\n",
    "        \n",
    "        model_lgbm = lgbm.train(lgbm_param , dtrain, NUM_BOOST_ROUND, valid_sets=(dtrain, dvalid),\n",
    "                           valid_names=('train','valid'), verbose_eval= 100)\n",
    "        \n",
    "\n",
    "        valid_pred = model_lgbm.predict(X_valid)\n",
    "        test_pred  = model_lgbm.predict(test_set.drop(['ward'] ,1))\n",
    "\n",
    "        oof_train[val_ind] += valid_pred\n",
    "        final_test += test_pred\n",
    "\n",
    "        cv_list.append( sqrt(mean_squared_error(y_valid, valid_pred)) )\n",
    "\n",
    "        print('='*80)\n",
    "\n",
    "    final_test /= n_splits\n",
    "\n",
    "    print(f\"Average CV : {np.mean(cv_list)}\")\n",
    "    print(f\"RMSE for OOF: {sqrt(mean_squared_error(train_label, oof_train))}\")\n",
    "    \n",
    "    \n",
    "    \n",
    "    \n",
    "    seed_lgbm_oof_train += oof_train\n",
    "    seed_lgbm_final_test += final_test\n",
    "    \n",
    "seed_lgbm_oof_train /= len(seeds)\n",
    "seed_lgbm_final_test /= len(seeds)\n",
    "\n",
    "print(sqrt(mean_squared_error(train_label, seed_lgbm_oof_train)))"
   ]
  },
  {
   "cell_type": "code",
   "execution_count": 136,
   "metadata": {},
   "outputs": [
    {
     "name": "stdout",
     "output_type": "stream",
     "text": [
      "ltgbm_submission_0.csv  ltgbm_submission_4.csv  Untitled.ipynb\r\n",
      "ltgbm_submission_2.csv  Modeling.ipynb          Xgb_submission_0.csv\r\n",
      "ltgbm_submission_3.csv  SampleSubmission.csv    Xgb_submission_1.csv\r\n"
     ]
    }
   ],
   "source": [
    "ls"
   ]
  },
  {
   "cell_type": "code",
   "execution_count": 126,
   "metadata": {},
   "outputs": [
    {
     "name": "stdout",
     "output_type": "stream",
     "text": [
      "/home/ansem/Bureau/Zindi_womxn/Model\n"
     ]
    }
   ],
   "source": [
    "cd Model/"
   ]
  },
  {
   "cell_type": "code",
   "execution_count": 155,
   "metadata": {},
   "outputs": [],
   "source": [
    "submission = pd.read_csv('SampleSubmission.csv')\n",
    "submission[\"target\"] = seed_lgbm_final_test\n",
    "submission.to_csv('ltgbm_submission_2.csv', index=False)"
   ]
  },
  {
   "cell_type": "code",
   "execution_count": 156,
   "metadata": {},
   "outputs": [
    {
     "data": {
      "text/html": [
       "<a href='ltgbm_submission_1.csv' target='_blank'>ltgbm_submission_1.csv</a><br>"
      ],
      "text/plain": [
       "/home/ansem/Bureau/Zindi_womxn/Model/ltgbm_submission_1.csv"
      ]
     },
     "execution_count": 156,
     "metadata": {},
     "output_type": "execute_result"
    }
   ],
   "source": [
    "from IPython.display import FileLink\n",
    "FileLink('ltgbm_submission_2.csv')"
   ]
  },
  {
   "cell_type": "code",
   "execution_count": 91,
   "metadata": {},
   "outputs": [
    {
     "name": "stderr",
     "output_type": "stream",
     "text": [
      "/home/ansem/.local/lib/python3.6/site-packages/ipykernel_launcher.py:6: TqdmDeprecationWarning: This function will be removed in tqdm==5.0.0\n",
      "Please use `tqdm.notebook.tqdm` instead of `tqdm.tqdm_notebook`\n",
      "  \n"
     ]
    },
    {
     "data": {
      "application/vnd.jupyter.widget-view+json": {
       "model_id": "5043aaa1914e4bc284a4dbe7fa200549",
       "version_major": 2,
       "version_minor": 0
      },
      "text/plain": [
       "HBox(children=(FloatProgress(value=0.0, max=1.0), HTML(value='')))"
      ]
     },
     "metadata": {},
     "output_type": "display_data"
    },
    {
     "name": "stderr",
     "output_type": "stream",
     "text": [
      "/home/ansem/.local/lib/python3.6/site-packages/ipykernel_launcher.py:14: TqdmDeprecationWarning: This function will be removed in tqdm==5.0.0\n",
      "Please use `tqdm.notebook.tqdm` instead of `tqdm.tqdm_notebook`\n",
      "  \n"
     ]
    },
    {
     "data": {
      "application/vnd.jupyter.widget-view+json": {
       "model_id": "76b3b7831a334883a72e4e92c6c28dfb",
       "version_major": 2,
       "version_minor": 0
      },
      "text/plain": [
       "HBox(children=(FloatProgress(value=1.0, bar_style='info', max=1.0), HTML(value='')))"
      ]
     },
     "metadata": {},
     "output_type": "display_data"
    },
    {
     "name": "stdout",
     "output_type": "stream",
     "text": [
      "[0]\ttrain-rmse:25.7597\tvalid-rmse:26.3398\n",
      "Multiple eval metrics have been passed: 'valid-rmse' will be used for early stopping.\n",
      "\n",
      "Will train until valid-rmse hasn't improved in 50 rounds.\n"
     ]
    },
    {
     "name": "stderr",
     "output_type": "stream",
     "text": [
      "/usr/local/lib/python3.6/dist-packages/xgboost/core.py:587: FutureWarning: Series.base is deprecated and will be removed in a future version\n",
      "  if getattr(data, 'base', None) is not None and \\\n"
     ]
    },
    {
     "name": "stdout",
     "output_type": "stream",
     "text": [
      "[100]\ttrain-rmse:10.5078\tvalid-rmse:10.7817\n",
      "[200]\ttrain-rmse:5.17145\tvalid-rmse:5.43242\n",
      "[300]\ttrain-rmse:3.41711\tvalid-rmse:3.85884\n",
      "[400]\ttrain-rmse:2.80706\tvalid-rmse:3.44374\n",
      "[500]\ttrain-rmse:2.5135\tvalid-rmse:3.30068\n",
      "[600]\ttrain-rmse:2.31594\tvalid-rmse:3.23409\n",
      "[700]\ttrain-rmse:2.16341\tvalid-rmse:3.19374\n",
      "[800]\ttrain-rmse:2.03153\tvalid-rmse:3.16508\n",
      "[900]\ttrain-rmse:1.9183\tvalid-rmse:3.14538\n",
      "[999]\ttrain-rmse:1.81525\tvalid-rmse:3.12782\n",
      "================================================================================\n",
      "[0]\ttrain-rmse:25.8305\tvalid-rmse:26.0459\n",
      "Multiple eval metrics have been passed: 'valid-rmse' will be used for early stopping.\n",
      "\n",
      "Will train until valid-rmse hasn't improved in 50 rounds.\n"
     ]
    },
    {
     "name": "stderr",
     "output_type": "stream",
     "text": [
      "/usr/local/lib/python3.6/dist-packages/xgboost/core.py:587: FutureWarning: Series.base is deprecated and will be removed in a future version\n",
      "  if getattr(data, 'base', None) is not None and \\\n"
     ]
    },
    {
     "name": "stdout",
     "output_type": "stream",
     "text": [
      "[100]\ttrain-rmse:10.5292\tvalid-rmse:10.7833\n",
      "[200]\ttrain-rmse:5.16969\tvalid-rmse:5.62075\n",
      "[300]\ttrain-rmse:3.38358\tvalid-rmse:4.07876\n",
      "[400]\ttrain-rmse:2.77641\tvalid-rmse:3.66127\n",
      "[500]\ttrain-rmse:2.48797\tvalid-rmse:3.53448\n",
      "[600]\ttrain-rmse:2.30382\tvalid-rmse:3.46794\n",
      "[700]\ttrain-rmse:2.1537\tvalid-rmse:3.42657\n",
      "[800]\ttrain-rmse:2.02799\tvalid-rmse:3.39134\n",
      "[900]\ttrain-rmse:1.90806\tvalid-rmse:3.36349\n",
      "[999]\ttrain-rmse:1.80451\tvalid-rmse:3.34759\n",
      "================================================================================\n",
      "[0]\ttrain-rmse:26.133\tvalid-rmse:24.8184\n",
      "Multiple eval metrics have been passed: 'valid-rmse' will be used for early stopping.\n",
      "\n",
      "Will train until valid-rmse hasn't improved in 50 rounds.\n"
     ]
    },
    {
     "name": "stderr",
     "output_type": "stream",
     "text": [
      "/usr/local/lib/python3.6/dist-packages/xgboost/core.py:587: FutureWarning: Series.base is deprecated and will be removed in a future version\n",
      "  if getattr(data, 'base', None) is not None and \\\n"
     ]
    },
    {
     "name": "stdout",
     "output_type": "stream",
     "text": [
      "[100]\ttrain-rmse:10.6392\tvalid-rmse:9.99742\n",
      "[200]\ttrain-rmse:5.20394\tvalid-rmse:5.11185\n",
      "[300]\ttrain-rmse:3.40908\tvalid-rmse:3.80172\n",
      "[400]\ttrain-rmse:2.7803\tvalid-rmse:3.50319\n",
      "[500]\ttrain-rmse:2.47728\tvalid-rmse:3.41067\n",
      "[600]\ttrain-rmse:2.28122\tvalid-rmse:3.37561\n",
      "[700]\ttrain-rmse:2.12878\tvalid-rmse:3.3497\n",
      "[800]\ttrain-rmse:1.98301\tvalid-rmse:3.33198\n",
      "[900]\ttrain-rmse:1.85973\tvalid-rmse:3.31601\n",
      "[999]\ttrain-rmse:1.74855\tvalid-rmse:3.29924\n",
      "================================================================================\n",
      "[0]\ttrain-rmse:25.7921\tvalid-rmse:26.2094\n",
      "Multiple eval metrics have been passed: 'valid-rmse' will be used for early stopping.\n",
      "\n",
      "Will train until valid-rmse hasn't improved in 50 rounds.\n"
     ]
    },
    {
     "name": "stderr",
     "output_type": "stream",
     "text": [
      "/usr/local/lib/python3.6/dist-packages/xgboost/core.py:587: FutureWarning: Series.base is deprecated and will be removed in a future version\n",
      "  if getattr(data, 'base', None) is not None and \\\n"
     ]
    },
    {
     "name": "stdout",
     "output_type": "stream",
     "text": [
      "[100]\ttrain-rmse:10.5353\tvalid-rmse:10.9048\n",
      "[200]\ttrain-rmse:5.19388\tvalid-rmse:5.5931\n",
      "[300]\ttrain-rmse:3.43098\tvalid-rmse:3.9244\n",
      "[400]\ttrain-rmse:2.81608\tvalid-rmse:3.42386\n",
      "[500]\ttrain-rmse:2.5265\tvalid-rmse:3.244\n",
      "[600]\ttrain-rmse:2.34148\tvalid-rmse:3.16511\n",
      "[700]\ttrain-rmse:2.19314\tvalid-rmse:3.1233\n",
      "[800]\ttrain-rmse:2.06891\tvalid-rmse:3.09894\n",
      "[900]\ttrain-rmse:1.9547\tvalid-rmse:3.08035\n",
      "[999]\ttrain-rmse:1.84476\tvalid-rmse:3.05827\n",
      "================================================================================\n",
      "[0]\ttrain-rmse:25.8613\tvalid-rmse:25.9385\n",
      "Multiple eval metrics have been passed: 'valid-rmse' will be used for early stopping.\n",
      "\n",
      "Will train until valid-rmse hasn't improved in 50 rounds.\n"
     ]
    },
    {
     "name": "stderr",
     "output_type": "stream",
     "text": [
      "/usr/local/lib/python3.6/dist-packages/xgboost/core.py:587: FutureWarning: Series.base is deprecated and will be removed in a future version\n",
      "  if getattr(data, 'base', None) is not None and \\\n"
     ]
    },
    {
     "name": "stdout",
     "output_type": "stream",
     "text": [
      "[100]\ttrain-rmse:10.5513\tvalid-rmse:10.6464\n",
      "[200]\ttrain-rmse:5.17641\tvalid-rmse:5.45643\n",
      "[300]\ttrain-rmse:3.40406\tvalid-rmse:3.96566\n",
      "[400]\ttrain-rmse:2.78682\tvalid-rmse:3.57146\n",
      "[500]\ttrain-rmse:2.50258\tvalid-rmse:3.44354\n",
      "[600]\ttrain-rmse:2.31971\tvalid-rmse:3.38753\n",
      "[700]\ttrain-rmse:2.17464\tvalid-rmse:3.3484\n",
      "[800]\ttrain-rmse:2.04655\tvalid-rmse:3.32214\n",
      "[900]\ttrain-rmse:1.93089\tvalid-rmse:3.29961\n",
      "[999]\ttrain-rmse:1.82039\tvalid-rmse:3.28133\n",
      "================================================================================\n",
      "\n",
      "Average CV : 3.223199831508282\n",
      "RMSE for OOF: 3.225099889375608\n",
      "\n",
      "RMSE for OOF: 3.225099889375608\n"
     ]
    }
   ],
   "source": [
    "#XGB\n",
    "seeds = [25]\n",
    "seed_xgb_oof_train = np.zeros( train_set.shape[0])\n",
    "seed_xgb_final_test =  np.zeros( test_set.shape[0]  )\n",
    "\n",
    "for seed in tqdm_notebook(seeds):\n",
    "    cv_list = []\n",
    "\n",
    "    oof_train = np.zeros( train_set.shape[0] )\n",
    "    final_test = np.zeros( test_set.shape[0] )\n",
    "\n",
    "\n",
    "    kfolds = KFold(n_splits=n_splits, random_state=SEED, shuffle=True)\n",
    "    for ind, (trn_ind, val_ind) in tqdm_notebook( enumerate(kfolds.split(X= train_set, y = train_label)) ):\n",
    "\n",
    "        X_train, y_train = train_set.iloc[trn_ind].drop(['ward'],1), train_label[trn_ind]\n",
    "        X_valid, y_valid = train_set.iloc[val_ind].drop(['ward'],1), train_label[val_ind]\n",
    "\n",
    "        dtrain = xgb.DMatrix( X_train, y_train )\n",
    "        dvalid = xgb.DMatrix( X_valid, y_valid)\n",
    "        \n",
    "        xgb_params['seed'] = seed\n",
    "        watchlist = [(dtrain, 'train'), (dvalid, 'valid')]\n",
    "        \n",
    "        \n",
    "        model = xgb.train(params=xgb_params,dtrain=dtrain,num_boost_round=num_boost_round,\n",
    "                         evals=watchlist,early_stopping_rounds=50,verbose_eval=100)\n",
    "        best_iteration = model.best_iteration\n",
    "\n",
    "        valid_pred = model.predict(dvalid, ntree_limit=best_iteration )\n",
    "        test_pred = model.predict(xgb.DMatrix( test_set.drop(['ward'],1 ) ),\\\n",
    "                                                  ntree_limit=best_iteration) \n",
    "        \n",
    "        oof_train[val_ind] += valid_pred\n",
    "        final_test += test_pred\n",
    "\n",
    "        cv_list.append( sqrt(mean_squared_error(y_valid, valid_pred)) )\n",
    "\n",
    "        print('='*80)\n",
    "\n",
    "    final_test /= n_splits\n",
    "\n",
    "    print(f\"Average CV : {np.mean(cv_list)}\")\n",
    "    print(f\"RMSE for OOF: {sqrt(mean_squared_error(train_label, oof_train))}\")\n",
    "    \n",
    "    seed_xgb_oof_train += oof_train\n",
    "    seed_xgb_final_test += final_test\n",
    "    \n",
    "seed_xgb_oof_train /= len(seeds)\n",
    "seed_xgb_final_test /= len(seeds)\n",
    "\n",
    "print(f\"RMSE for OOF: {sqrt(mean_squared_error(train_label, seed_xgb_oof_train))}\")"
   ]
  },
  {
   "cell_type": "code",
   "execution_count": 177,
   "metadata": {},
   "outputs": [],
   "source": [
    "submission[\"target\"] = seed_xgb_final_test\n",
    "submission.to_csv('Xgb_submission_0.csv', index=False)"
   ]
  },
  {
   "cell_type": "code",
   "execution_count": 178,
   "metadata": {},
   "outputs": [
    {
     "data": {
      "text/html": [
       "<a href='Xgb_submission_0.csv' target='_blank'>Xgb_submission_0.csv</a><br>"
      ],
      "text/plain": [
       "/home/ansem/Bureau/Zindi_womxn/Model/Xgb_submission_0.csv"
      ]
     },
     "execution_count": 178,
     "metadata": {},
     "output_type": "execute_result"
    }
   ],
   "source": [
    "from IPython.display import FileLink\n",
    "FileLink('Xgb_submission_0.csv')"
   ]
  },
  {
   "cell_type": "markdown",
   "metadata": {},
   "source": [
    "# Best Models(lgbm_2 + lgbm_0 + xgb_0) ensembling : "
   ]
  },
  {
   "cell_type": "code",
   "execution_count": 143,
   "metadata": {},
   "outputs": [
    {
     "name": "stdout",
     "output_type": "stream",
     "text": [
      "ltgbm_submission_0.csv  ltgbm_submission_4.csv  Untitled.ipynb\r\n",
      "ltgbm_submission_2.csv  Modeling.ipynb          Xgb_submission_0.csv\r\n",
      "ltgbm_submission_3.csv  SampleSubmission.csv    Xgb_submission_1.csv\r\n"
     ]
    }
   ],
   "source": [
    "ls"
   ]
  },
  {
   "cell_type": "code",
   "execution_count": 179,
   "metadata": {},
   "outputs": [],
   "source": [
    "lgbm_2 = pd.read_csv('ltgbm_submission_2.csv')\n",
    "lgbm_0 = pd.read_csv('ltgbm_submission_0.csv')\n",
    "Xgb_0 = pd.read_csv('Xgb_submission_0.csv')"
   ]
  },
  {
   "cell_type": "code",
   "execution_count": 180,
   "metadata": {},
   "outputs": [],
   "source": [
    "ensemble = pd.DataFrame( data = {'ward' :submission['ward'] ,\n",
    "                                'lgbm_2' : lgbm_2['target'],\n",
    "                                'lgbm_0' : lgbm_0['target'],\n",
    "                                'xgb_0':    Xgb_0['target']} )"
   ]
  },
  {
   "cell_type": "code",
   "execution_count": 181,
   "metadata": {},
   "outputs": [
    {
     "data": {
      "text/html": [
       "<div>\n",
       "<style scoped>\n",
       "    .dataframe tbody tr th:only-of-type {\n",
       "        vertical-align: middle;\n",
       "    }\n",
       "\n",
       "    .dataframe tbody tr th {\n",
       "        vertical-align: top;\n",
       "    }\n",
       "\n",
       "    .dataframe thead th {\n",
       "        text-align: right;\n",
       "    }\n",
       "</style>\n",
       "<table border=\"1\" class=\"dataframe\">\n",
       "  <thead>\n",
       "    <tr style=\"text-align: right;\">\n",
       "      <th></th>\n",
       "      <th>ward</th>\n",
       "      <th>lgbm_2</th>\n",
       "      <th>lgbm_0</th>\n",
       "      <th>xgb_0</th>\n",
       "    </tr>\n",
       "  </thead>\n",
       "  <tbody>\n",
       "    <tr>\n",
       "      <th>0</th>\n",
       "      <td>21001001: Ward 1</td>\n",
       "      <td>18.593561</td>\n",
       "      <td>17.962740</td>\n",
       "      <td>18.434415</td>\n",
       "    </tr>\n",
       "    <tr>\n",
       "      <th>1</th>\n",
       "      <td>21001002: Ward 2</td>\n",
       "      <td>12.838758</td>\n",
       "      <td>13.177721</td>\n",
       "      <td>13.021676</td>\n",
       "    </tr>\n",
       "    <tr>\n",
       "      <th>2</th>\n",
       "      <td>21001003: Ward 3</td>\n",
       "      <td>21.278181</td>\n",
       "      <td>19.855673</td>\n",
       "      <td>20.007923</td>\n",
       "    </tr>\n",
       "    <tr>\n",
       "      <th>3</th>\n",
       "      <td>21001004: Ward 4</td>\n",
       "      <td>16.879180</td>\n",
       "      <td>18.045509</td>\n",
       "      <td>16.292409</td>\n",
       "    </tr>\n",
       "    <tr>\n",
       "      <th>4</th>\n",
       "      <td>21001005: Ward 5</td>\n",
       "      <td>21.565927</td>\n",
       "      <td>22.029334</td>\n",
       "      <td>21.396215</td>\n",
       "    </tr>\n",
       "    <tr>\n",
       "      <th>...</th>\n",
       "      <td>...</td>\n",
       "      <td>...</td>\n",
       "      <td>...</td>\n",
       "      <td>...</td>\n",
       "    </tr>\n",
       "    <tr>\n",
       "      <th>1008</th>\n",
       "      <td>19100107: Ward 107</td>\n",
       "      <td>6.596837</td>\n",
       "      <td>6.998803</td>\n",
       "      <td>6.927044</td>\n",
       "    </tr>\n",
       "    <tr>\n",
       "      <th>1009</th>\n",
       "      <td>19100108: Ward 108</td>\n",
       "      <td>21.281496</td>\n",
       "      <td>20.983242</td>\n",
       "      <td>21.492929</td>\n",
       "    </tr>\n",
       "    <tr>\n",
       "      <th>1010</th>\n",
       "      <td>19100109: Ward 109</td>\n",
       "      <td>18.035314</td>\n",
       "      <td>16.529393</td>\n",
       "      <td>17.201126</td>\n",
       "    </tr>\n",
       "    <tr>\n",
       "      <th>1011</th>\n",
       "      <td>19100110: Ward 110</td>\n",
       "      <td>12.819095</td>\n",
       "      <td>13.702558</td>\n",
       "      <td>13.538731</td>\n",
       "    </tr>\n",
       "    <tr>\n",
       "      <th>1012</th>\n",
       "      <td>19100111: Ward 111</td>\n",
       "      <td>17.019021</td>\n",
       "      <td>17.087871</td>\n",
       "      <td>16.553270</td>\n",
       "    </tr>\n",
       "  </tbody>\n",
       "</table>\n",
       "<p>1013 rows × 4 columns</p>\n",
       "</div>"
      ],
      "text/plain": [
       "                    ward     lgbm_2     lgbm_0      xgb_0\n",
       "0       21001001: Ward 1  18.593561  17.962740  18.434415\n",
       "1       21001002: Ward 2  12.838758  13.177721  13.021676\n",
       "2       21001003: Ward 3  21.278181  19.855673  20.007923\n",
       "3       21001004: Ward 4  16.879180  18.045509  16.292409\n",
       "4       21001005: Ward 5  21.565927  22.029334  21.396215\n",
       "...                  ...        ...        ...        ...\n",
       "1008  19100107: Ward 107   6.596837   6.998803   6.927044\n",
       "1009  19100108: Ward 108  21.281496  20.983242  21.492929\n",
       "1010  19100109: Ward 109  18.035314  16.529393  17.201126\n",
       "1011  19100110: Ward 110  12.819095  13.702558  13.538731\n",
       "1012  19100111: Ward 111  17.019021  17.087871  16.553270\n",
       "\n",
       "[1013 rows x 4 columns]"
      ]
     },
     "execution_count": 181,
     "metadata": {},
     "output_type": "execute_result"
    }
   ],
   "source": [
    "ensemble"
   ]
  },
  {
   "cell_type": "code",
   "execution_count": 189,
   "metadata": {},
   "outputs": [],
   "source": [
    "ensemble['target'] =(0.0001 * ensemble['lgbm_2'] + ensemble['lgbm_0'] + 0.0001 * ensemble['xgb_0'])"
   ]
  },
  {
   "cell_type": "code",
   "execution_count": 190,
   "metadata": {},
   "outputs": [
    {
     "data": {
      "text/plain": [
       "0       17.966443\n",
       "1       13.180307\n",
       "2       19.859801\n",
       "3       18.048826\n",
       "4       22.033630\n",
       "          ...    \n",
       "1008     7.000155\n",
       "1009    20.987519\n",
       "1010    16.532916\n",
       "1011    13.705194\n",
       "1012    17.091228\n",
       "Name: target, Length: 1013, dtype: float64"
      ]
     },
     "execution_count": 190,
     "metadata": {},
     "output_type": "execute_result"
    }
   ],
   "source": [
    "ensemble['target']"
   ]
  },
  {
   "cell_type": "code",
   "execution_count": 191,
   "metadata": {},
   "outputs": [],
   "source": [
    "submission[\"target\"] = ensemble['target']"
   ]
  },
  {
   "cell_type": "code",
   "execution_count": null,
   "metadata": {},
   "outputs": [],
   "source": [
    "cd .."
   ]
  },
  {
   "cell_type": "code",
   "execution_count": 194,
   "metadata": {},
   "outputs": [
    {
     "name": "stdout",
     "output_type": "stream",
     "text": [
      "\u001b[0m\u001b[01;34mData\u001b[0m/  \u001b[01;34mModel\u001b[0m/  Path_config.py  \u001b[01;34m__pycache__\u001b[0m/  \u001b[01;34mSub\u001b[0m/\r\n"
     ]
    }
   ],
   "source": [
    "ls"
   ]
  },
  {
   "cell_type": "code",
   "execution_count": 195,
   "metadata": {},
   "outputs": [
    {
     "name": "stdout",
     "output_type": "stream",
     "text": [
      "/home/ansem/Bureau/Zindi_womxn/Submission\n"
     ]
    }
   ],
   "source": [
    "cd Submission"
   ]
  },
  {
   "cell_type": "code",
   "execution_count": 196,
   "metadata": {},
   "outputs": [],
   "source": [
    "submission.to_csv('Ensemble_submission.csv', index=False)"
   ]
  },
  {
   "cell_type": "code",
   "execution_count": 197,
   "metadata": {},
   "outputs": [
    {
     "data": {
      "text/html": [
       "<a href='Ensemble_submission.csv' target='_blank'>Ensemble_submission.csv</a><br>"
      ],
      "text/plain": [
       "/home/ansem/Bureau/Zindi_womxn/Submission/Ensemble_submission.csv"
      ]
     },
     "execution_count": 197,
     "metadata": {},
     "output_type": "execute_result"
    }
   ],
   "source": [
    "from IPython.display import FileLink\n",
    "FileLink('Ensemble_submission.csv')"
   ]
  }
 ],
 "metadata": {
  "kernelspec": {
   "display_name": "Python 3",
   "language": "python",
   "name": "python3"
  },
  "language_info": {
   "codemirror_mode": {
    "name": "ipython",
    "version": 3
   },
   "file_extension": ".py",
   "mimetype": "text/x-python",
   "name": "python",
   "nbconvert_exporter": "python",
   "pygments_lexer": "ipython3",
   "version": "3.6.9"
  }
 },
 "nbformat": 4,
 "nbformat_minor": 2
}
